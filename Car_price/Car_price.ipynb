{
 "cells": [
  {
   "cell_type": "markdown",
   "metadata": {},
   "source": [
    "# Определение стоимости автомобилей"
   ]
  },
  {
   "cell_type": "markdown",
   "metadata": {},
   "source": [
    "Сервис по продаже автомобилей с пробегом «Не бит, не крашен» разрабатывает приложение для привлечения новых клиентов. В нём можно быстро узнать рыночную стоимость своего автомобиля. В нашем распоряжении исторические данные: технические характеристики, комплектации и цены автомобилей. Нужно построить модель для определения стоимости. \n",
    "\n",
    "Заказчику важны:\n",
    "\n",
    "- качество предсказания;\n",
    "- скорость предсказания;\n",
    "- время обучения.\n",
    "\n",
    "Решение поставленной задачи будем решать поэтапно:\n",
    "1. Подготовка данных. На данном этапе произведём:\n",
    "    - Загрузку и первичный анализ данных;\n",
    "    - Анализ признаков;\n",
    "    - Предобработку данных;\n",
    "    - Подготовку выборок для построения моделей.\n",
    "2. Обучение моделей. Произведём обучение и подбор гиперпараметров нескольких моделей машинного обучения.\n",
    "3. Проанализируем обученные модели, оценим их работу с точки зрения качества, времени обучения и предсказания. Сделаем окончательный выбор модели, которая пойдёт в производство.\n"
   ]
  },
  {
   "cell_type": "markdown",
   "metadata": {},
   "source": [
    "<div class=\"alert alert-success\">\n",
    "<h2> Комментарий ревьюера <a class=\"tocSkip\"> </h2>\n",
    "\n",
    "<b>Все отлично!👍:</b> \n",
    "    \n",
    "Вижу твое добавленное описание проекта. Молодец! Я бы посоветовал тебе чуть подробнее раскрыть план своей работы. Это поможет тебе расставлять акценты в выводах."
   ]
  },
  {
   "cell_type": "code",
   "execution_count": 1,
   "metadata": {},
   "outputs": [],
   "source": [
    "# Импорт библиотек\n",
    "import pandas as pd\n",
    "import matplotlib.pyplot as plt\n",
    "import seaborn as sns\n",
    "import numpy as np\n",
    "import time\n",
    "\n",
    "from catboost import CatBoostRegressor\n",
    "from lightgbm import LGBMRegressor\n",
    "from scipy.stats import randint\n",
    "from scipy.sparse import vstack\n",
    "from sklearn.compose import ColumnTransformer\n",
    "from sklearn.dummy import DummyRegressor\n",
    "from sklearn.ensemble import RandomForestRegressor\n",
    "from sklearn.linear_model import LinearRegression\n",
    "from sklearn.metrics import mean_squared_error\n",
    "from sklearn.model_selection import GridSearchCV, RandomizedSearchCV, train_test_split\n",
    "from sklearn.preprocessing import OneHotEncoder, StandardScaler, OrdinalEncoder\n",
    "from sklearn.tree import DecisionTreeRegressor"
   ]
  },
  {
   "cell_type": "markdown",
   "metadata": {},
   "source": [
    "## Подготовка данных\n",
    "\n",
    "Подготовку данных будем производить в следующей последовательности:\n",
    "1. Загрузка и первичный анализ данных;\n",
    "2. Анализ признаков;\n",
    "3. Предобработка данных;\n",
    "4. Подготовка выборок для построения модели машинного обучения."
   ]
  },
  {
   "cell_type": "markdown",
   "metadata": {},
   "source": [
    "### Загрузка данных и первичный анализ"
   ]
  },
  {
   "cell_type": "code",
   "execution_count": 2,
   "metadata": {},
   "outputs": [],
   "source": [
    "try:\n",
    "    df = pd.read_csv('/datasets/autos.csv', parse_dates=['DateCrawled', 'DateCreated', 'LastSeen'])\n",
    "except:\n",
    "    df = pd.read_csv('D:/datasets/autos.csv', parse_dates=['DateCrawled', 'DateCreated', 'LastSeen'])"
   ]
  },
  {
   "cell_type": "code",
   "execution_count": 3,
   "metadata": {},
   "outputs": [],
   "source": [
    "def data_info(df):\n",
    "    \"\"\"Изучение датасета\"\"\"\n",
    "    display(df.head())\n",
    "    display(df.info())\n",
    "    display(df.describe())\n",
    "    print('Количество дубликатов =', df.duplicated().sum())\n",
    "    # Построение корреляционной матрицы\n",
    "    plt.figure(figsize=(10,5))\n",
    "    corr_matrix = sns.heatmap(df.corr(),annot=True)\n",
    "    corr_matrix.axes.set_title(\"Корреляционная матрица\", fontsize=16)\n",
    "    # Построение парных графиков\n",
    "#     sns.pairplot(df);\n",
    "    plt.show()"
   ]
  },
  {
   "cell_type": "code",
   "execution_count": 4,
   "metadata": {
    "scrolled": false
   },
   "outputs": [
    {
     "data": {
      "text/html": [
       "<div>\n",
       "<style scoped>\n",
       "    .dataframe tbody tr th:only-of-type {\n",
       "        vertical-align: middle;\n",
       "    }\n",
       "\n",
       "    .dataframe tbody tr th {\n",
       "        vertical-align: top;\n",
       "    }\n",
       "\n",
       "    .dataframe thead th {\n",
       "        text-align: right;\n",
       "    }\n",
       "</style>\n",
       "<table border=\"1\" class=\"dataframe\">\n",
       "  <thead>\n",
       "    <tr style=\"text-align: right;\">\n",
       "      <th></th>\n",
       "      <th>DateCrawled</th>\n",
       "      <th>Price</th>\n",
       "      <th>VehicleType</th>\n",
       "      <th>RegistrationYear</th>\n",
       "      <th>Gearbox</th>\n",
       "      <th>Power</th>\n",
       "      <th>Model</th>\n",
       "      <th>Kilometer</th>\n",
       "      <th>RegistrationMonth</th>\n",
       "      <th>FuelType</th>\n",
       "      <th>Brand</th>\n",
       "      <th>NotRepaired</th>\n",
       "      <th>DateCreated</th>\n",
       "      <th>NumberOfPictures</th>\n",
       "      <th>PostalCode</th>\n",
       "      <th>LastSeen</th>\n",
       "    </tr>\n",
       "  </thead>\n",
       "  <tbody>\n",
       "    <tr>\n",
       "      <th>0</th>\n",
       "      <td>2016-03-24 11:52:17</td>\n",
       "      <td>480</td>\n",
       "      <td>NaN</td>\n",
       "      <td>1993</td>\n",
       "      <td>manual</td>\n",
       "      <td>0</td>\n",
       "      <td>golf</td>\n",
       "      <td>150000</td>\n",
       "      <td>0</td>\n",
       "      <td>petrol</td>\n",
       "      <td>volkswagen</td>\n",
       "      <td>NaN</td>\n",
       "      <td>2016-03-24</td>\n",
       "      <td>0</td>\n",
       "      <td>70435</td>\n",
       "      <td>2016-04-07 03:16:57</td>\n",
       "    </tr>\n",
       "    <tr>\n",
       "      <th>1</th>\n",
       "      <td>2016-03-24 10:58:45</td>\n",
       "      <td>18300</td>\n",
       "      <td>coupe</td>\n",
       "      <td>2011</td>\n",
       "      <td>manual</td>\n",
       "      <td>190</td>\n",
       "      <td>NaN</td>\n",
       "      <td>125000</td>\n",
       "      <td>5</td>\n",
       "      <td>gasoline</td>\n",
       "      <td>audi</td>\n",
       "      <td>yes</td>\n",
       "      <td>2016-03-24</td>\n",
       "      <td>0</td>\n",
       "      <td>66954</td>\n",
       "      <td>2016-04-07 01:46:50</td>\n",
       "    </tr>\n",
       "    <tr>\n",
       "      <th>2</th>\n",
       "      <td>2016-03-14 12:52:21</td>\n",
       "      <td>9800</td>\n",
       "      <td>suv</td>\n",
       "      <td>2004</td>\n",
       "      <td>auto</td>\n",
       "      <td>163</td>\n",
       "      <td>grand</td>\n",
       "      <td>125000</td>\n",
       "      <td>8</td>\n",
       "      <td>gasoline</td>\n",
       "      <td>jeep</td>\n",
       "      <td>NaN</td>\n",
       "      <td>2016-03-14</td>\n",
       "      <td>0</td>\n",
       "      <td>90480</td>\n",
       "      <td>2016-04-05 12:47:46</td>\n",
       "    </tr>\n",
       "    <tr>\n",
       "      <th>3</th>\n",
       "      <td>2016-03-17 16:54:04</td>\n",
       "      <td>1500</td>\n",
       "      <td>small</td>\n",
       "      <td>2001</td>\n",
       "      <td>manual</td>\n",
       "      <td>75</td>\n",
       "      <td>golf</td>\n",
       "      <td>150000</td>\n",
       "      <td>6</td>\n",
       "      <td>petrol</td>\n",
       "      <td>volkswagen</td>\n",
       "      <td>no</td>\n",
       "      <td>2016-03-17</td>\n",
       "      <td>0</td>\n",
       "      <td>91074</td>\n",
       "      <td>2016-03-17 17:40:17</td>\n",
       "    </tr>\n",
       "    <tr>\n",
       "      <th>4</th>\n",
       "      <td>2016-03-31 17:25:20</td>\n",
       "      <td>3600</td>\n",
       "      <td>small</td>\n",
       "      <td>2008</td>\n",
       "      <td>manual</td>\n",
       "      <td>69</td>\n",
       "      <td>fabia</td>\n",
       "      <td>90000</td>\n",
       "      <td>7</td>\n",
       "      <td>gasoline</td>\n",
       "      <td>skoda</td>\n",
       "      <td>no</td>\n",
       "      <td>2016-03-31</td>\n",
       "      <td>0</td>\n",
       "      <td>60437</td>\n",
       "      <td>2016-04-06 10:17:21</td>\n",
       "    </tr>\n",
       "  </tbody>\n",
       "</table>\n",
       "</div>"
      ],
      "text/plain": [
       "          DateCrawled  Price VehicleType  RegistrationYear Gearbox  Power  \\\n",
       "0 2016-03-24 11:52:17    480         NaN              1993  manual      0   \n",
       "1 2016-03-24 10:58:45  18300       coupe              2011  manual    190   \n",
       "2 2016-03-14 12:52:21   9800         suv              2004    auto    163   \n",
       "3 2016-03-17 16:54:04   1500       small              2001  manual     75   \n",
       "4 2016-03-31 17:25:20   3600       small              2008  manual     69   \n",
       "\n",
       "   Model  Kilometer  RegistrationMonth  FuelType       Brand NotRepaired  \\\n",
       "0   golf     150000                  0    petrol  volkswagen         NaN   \n",
       "1    NaN     125000                  5  gasoline        audi         yes   \n",
       "2  grand     125000                  8  gasoline        jeep         NaN   \n",
       "3   golf     150000                  6    petrol  volkswagen          no   \n",
       "4  fabia      90000                  7  gasoline       skoda          no   \n",
       "\n",
       "  DateCreated  NumberOfPictures  PostalCode            LastSeen  \n",
       "0  2016-03-24                 0       70435 2016-04-07 03:16:57  \n",
       "1  2016-03-24                 0       66954 2016-04-07 01:46:50  \n",
       "2  2016-03-14                 0       90480 2016-04-05 12:47:46  \n",
       "3  2016-03-17                 0       91074 2016-03-17 17:40:17  \n",
       "4  2016-03-31                 0       60437 2016-04-06 10:17:21  "
      ]
     },
     "metadata": {},
     "output_type": "display_data"
    },
    {
     "name": "stdout",
     "output_type": "stream",
     "text": [
      "<class 'pandas.core.frame.DataFrame'>\n",
      "RangeIndex: 354369 entries, 0 to 354368\n",
      "Data columns (total 16 columns):\n",
      " #   Column             Non-Null Count   Dtype         \n",
      "---  ------             --------------   -----         \n",
      " 0   DateCrawled        354369 non-null  datetime64[ns]\n",
      " 1   Price              354369 non-null  int64         \n",
      " 2   VehicleType        316879 non-null  object        \n",
      " 3   RegistrationYear   354369 non-null  int64         \n",
      " 4   Gearbox            334536 non-null  object        \n",
      " 5   Power              354369 non-null  int64         \n",
      " 6   Model              334664 non-null  object        \n",
      " 7   Kilometer          354369 non-null  int64         \n",
      " 8   RegistrationMonth  354369 non-null  int64         \n",
      " 9   FuelType           321474 non-null  object        \n",
      " 10  Brand              354369 non-null  object        \n",
      " 11  NotRepaired        283215 non-null  object        \n",
      " 12  DateCreated        354369 non-null  datetime64[ns]\n",
      " 13  NumberOfPictures   354369 non-null  int64         \n",
      " 14  PostalCode         354369 non-null  int64         \n",
      " 15  LastSeen           354369 non-null  datetime64[ns]\n",
      "dtypes: datetime64[ns](3), int64(7), object(6)\n",
      "memory usage: 43.3+ MB\n"
     ]
    },
    {
     "data": {
      "text/plain": [
       "None"
      ]
     },
     "metadata": {},
     "output_type": "display_data"
    },
    {
     "data": {
      "text/html": [
       "<div>\n",
       "<style scoped>\n",
       "    .dataframe tbody tr th:only-of-type {\n",
       "        vertical-align: middle;\n",
       "    }\n",
       "\n",
       "    .dataframe tbody tr th {\n",
       "        vertical-align: top;\n",
       "    }\n",
       "\n",
       "    .dataframe thead th {\n",
       "        text-align: right;\n",
       "    }\n",
       "</style>\n",
       "<table border=\"1\" class=\"dataframe\">\n",
       "  <thead>\n",
       "    <tr style=\"text-align: right;\">\n",
       "      <th></th>\n",
       "      <th>Price</th>\n",
       "      <th>RegistrationYear</th>\n",
       "      <th>Power</th>\n",
       "      <th>Kilometer</th>\n",
       "      <th>RegistrationMonth</th>\n",
       "      <th>NumberOfPictures</th>\n",
       "      <th>PostalCode</th>\n",
       "    </tr>\n",
       "  </thead>\n",
       "  <tbody>\n",
       "    <tr>\n",
       "      <th>count</th>\n",
       "      <td>354369.000000</td>\n",
       "      <td>354369.000000</td>\n",
       "      <td>354369.000000</td>\n",
       "      <td>354369.000000</td>\n",
       "      <td>354369.000000</td>\n",
       "      <td>354369.0</td>\n",
       "      <td>354369.000000</td>\n",
       "    </tr>\n",
       "    <tr>\n",
       "      <th>mean</th>\n",
       "      <td>4416.656776</td>\n",
       "      <td>2004.234448</td>\n",
       "      <td>110.094337</td>\n",
       "      <td>128211.172535</td>\n",
       "      <td>5.714645</td>\n",
       "      <td>0.0</td>\n",
       "      <td>50508.689087</td>\n",
       "    </tr>\n",
       "    <tr>\n",
       "      <th>std</th>\n",
       "      <td>4514.158514</td>\n",
       "      <td>90.227958</td>\n",
       "      <td>189.850405</td>\n",
       "      <td>37905.341530</td>\n",
       "      <td>3.726421</td>\n",
       "      <td>0.0</td>\n",
       "      <td>25783.096248</td>\n",
       "    </tr>\n",
       "    <tr>\n",
       "      <th>min</th>\n",
       "      <td>0.000000</td>\n",
       "      <td>1000.000000</td>\n",
       "      <td>0.000000</td>\n",
       "      <td>5000.000000</td>\n",
       "      <td>0.000000</td>\n",
       "      <td>0.0</td>\n",
       "      <td>1067.000000</td>\n",
       "    </tr>\n",
       "    <tr>\n",
       "      <th>25%</th>\n",
       "      <td>1050.000000</td>\n",
       "      <td>1999.000000</td>\n",
       "      <td>69.000000</td>\n",
       "      <td>125000.000000</td>\n",
       "      <td>3.000000</td>\n",
       "      <td>0.0</td>\n",
       "      <td>30165.000000</td>\n",
       "    </tr>\n",
       "    <tr>\n",
       "      <th>50%</th>\n",
       "      <td>2700.000000</td>\n",
       "      <td>2003.000000</td>\n",
       "      <td>105.000000</td>\n",
       "      <td>150000.000000</td>\n",
       "      <td>6.000000</td>\n",
       "      <td>0.0</td>\n",
       "      <td>49413.000000</td>\n",
       "    </tr>\n",
       "    <tr>\n",
       "      <th>75%</th>\n",
       "      <td>6400.000000</td>\n",
       "      <td>2008.000000</td>\n",
       "      <td>143.000000</td>\n",
       "      <td>150000.000000</td>\n",
       "      <td>9.000000</td>\n",
       "      <td>0.0</td>\n",
       "      <td>71083.000000</td>\n",
       "    </tr>\n",
       "    <tr>\n",
       "      <th>max</th>\n",
       "      <td>20000.000000</td>\n",
       "      <td>9999.000000</td>\n",
       "      <td>20000.000000</td>\n",
       "      <td>150000.000000</td>\n",
       "      <td>12.000000</td>\n",
       "      <td>0.0</td>\n",
       "      <td>99998.000000</td>\n",
       "    </tr>\n",
       "  </tbody>\n",
       "</table>\n",
       "</div>"
      ],
      "text/plain": [
       "               Price  RegistrationYear          Power      Kilometer  \\\n",
       "count  354369.000000     354369.000000  354369.000000  354369.000000   \n",
       "mean     4416.656776       2004.234448     110.094337  128211.172535   \n",
       "std      4514.158514         90.227958     189.850405   37905.341530   \n",
       "min         0.000000       1000.000000       0.000000    5000.000000   \n",
       "25%      1050.000000       1999.000000      69.000000  125000.000000   \n",
       "50%      2700.000000       2003.000000     105.000000  150000.000000   \n",
       "75%      6400.000000       2008.000000     143.000000  150000.000000   \n",
       "max     20000.000000       9999.000000   20000.000000  150000.000000   \n",
       "\n",
       "       RegistrationMonth  NumberOfPictures     PostalCode  \n",
       "count      354369.000000          354369.0  354369.000000  \n",
       "mean            5.714645               0.0   50508.689087  \n",
       "std             3.726421               0.0   25783.096248  \n",
       "min             0.000000               0.0    1067.000000  \n",
       "25%             3.000000               0.0   30165.000000  \n",
       "50%             6.000000               0.0   49413.000000  \n",
       "75%             9.000000               0.0   71083.000000  \n",
       "max            12.000000               0.0   99998.000000  "
      ]
     },
     "metadata": {},
     "output_type": "display_data"
    },
    {
     "name": "stdout",
     "output_type": "stream",
     "text": [
      "Количество дубликатов = 4\n"
     ]
    },
    {
     "data": {
      "image/png": "[encoded data removed]",
      "text/plain": [
       "<Figure size 720x360 with 2 Axes>"
      ]
     },
     "metadata": {
      "needs_background": "light"
     },
     "output_type": "display_data"
    }
   ],
   "source": [
    "data_info(df)"
   ]
  },
  {
   "cell_type": "markdown",
   "metadata": {},
   "source": [
    "**Вывод:**\n",
    "\n",
    "Данные загружены и изучены. В ходе первичного анализа данных выявлены следующие особенности:\n",
    "1. На этапе загрузки данных определили тип колонок `DateCrawled`, `DateCreated` и `LastSeen` как datetime.\n",
    "2. Пропуски: \n",
    "    - Явные: `VehicleType`, `Gearbox`, `Model`, `FuelType`, `NotRepaired`\n",
    "3. Колонка `NumberOfPictures` состоит полностью из нулей.\n",
    "4. Аномальные данные:\n",
    "    - `Price` - цена не может быть = 0, если только это не благотворительный автосалон;\n",
    "    - `RegistrationYear`- год регистрации не может быть = 1000, автомобили тогда ещё не изобрели; \n",
    "    - `RegistrationMonth` - месяц регистрации не может быть = 0\n",
    "    - `Power` - мощьность двигателя не может быть = 0, только если это не прицеп.\n",
    "5. Есть 4 полных дубликата строк.\n",
    "    "
   ]
  },
  {
   "cell_type": "markdown",
   "metadata": {},
   "source": [
    "### Исследование признаков\n",
    "\n",
    "Для лучшего понимания информации содержащейся в наборе данных и качественной предобработки, проведём исследоватние признаков. С этой целью произведём:\n",
    "1. Исследование информации в колонках, содержащих дату и время(`DateCrawled`, `DateCreated`, `LastSeen`, `RegistrationYear`, `RegistrationMonth`);\n",
    "2. Исследование категориальных данных(`VehicleType`, `Model`, `Brand`, `FuelType`, `NotRepaired`, `Gearbox`, `PostalCode`);\n",
    "3. Исследование численных данных(`Price`, `Power`, `Kilometer`)"
   ]
  },
  {
   "cell_type": "markdown",
   "metadata": {},
   "source": [
    "#### Исследование информации в колонках, содержащих дату и время\n"
   ]
  },
  {
   "cell_type": "markdown",
   "metadata": {},
   "source": [
    "Исследуем информацию в колонках: DateCrawled, DateCreated, LastSeen, RegistrationYear, RegistrationMonth"
   ]
  },
  {
   "cell_type": "markdown",
   "metadata": {},
   "source": [
    "**Год регистрации автомобиля `RegistrationYear`**\n",
    "\n",
    "Проанализуруем распределение объявлений по году регистрации транспортного средства. Произведём расчёт усов диаграмы размаха. Затем определим количество недостоверных данных и примем решение о способе обработки данных в этой колонке."
   ]
  },
  {
   "cell_type": "code",
   "execution_count": 5,
   "metadata": {},
   "outputs": [],
   "source": [
    "def moustache(col):\n",
    "    \"\"\" Функция принимает колонку\n",
    "        Возвращает нижние и верхние усы диаграмы размаха\n",
    "    \"\"\"\n",
    "    irq = (col.quantile(0.75) - col.quantile(0.25))*1.5\n",
    "    return max(col.quantile(0.25) - irq , col.min()), min(col.quantile(0.75) + irq, col.max())"
   ]
  },
  {
   "cell_type": "code",
   "execution_count": 6,
   "metadata": {},
   "outputs": [
    {
     "data": {
      "image/png": "[encoded data removed]",
      "text/plain": [
       "<Figure size 1080x360 with 2 Axes>"
      ]
     },
     "metadata": {
      "needs_background": "light"
     },
     "output_type": "display_data"
    }
   ],
   "source": [
    "fig = plt.figure(figsize=(15,5))\n",
    "\n",
    "ax_1 = fig.add_subplot(1, 2, 1)\n",
    "ax_1 = df[(df['RegistrationYear'] > 1950) & (df['RegistrationYear'] < 2070)]['RegistrationYear'].hist(bins=115)\n",
    "ax_1.set_title('Год регистрации автомобиля', fontsize=16)\n",
    "ax_1.set_xlabel('Год регистрации', fontsize=14)\n",
    "\n",
    "ax_2 = fig.add_subplot(1, 2, 2)\n",
    "ax_2 = sns.boxplot(data=df[(df['RegistrationYear'] > 1950) & (df['RegistrationYear'] < 2070)]['RegistrationYear'], orient='h')\n",
    "ax_2.axes.set_title('Год регистрации автомобиля', fontsize=16)\n",
    "ax_2.set_xlabel('Год регистрации', fontsize=14)\n",
    "\n",
    "plt.show();"
   ]
  },
  {
   "cell_type": "code",
   "execution_count": 7,
   "metadata": {},
   "outputs": [
    {
     "data": {
      "text/plain": [
       "(1985.5, 2021.5)"
      ]
     },
     "execution_count": 7,
     "metadata": {},
     "output_type": "execute_result"
    }
   ],
   "source": [
    "# Нижний и верхний ус\n",
    "moustache(df['RegistrationYear'])"
   ]
  },
  {
   "cell_type": "code",
   "execution_count": 8,
   "metadata": {},
   "outputs": [
    {
     "data": {
      "text/html": [
       "<div>\n",
       "<style scoped>\n",
       "    .dataframe tbody tr th:only-of-type {\n",
       "        vertical-align: middle;\n",
       "    }\n",
       "\n",
       "    .dataframe tbody tr th {\n",
       "        vertical-align: top;\n",
       "    }\n",
       "\n",
       "    .dataframe thead th {\n",
       "        text-align: right;\n",
       "    }\n",
       "</style>\n",
       "<table border=\"1\" class=\"dataframe\">\n",
       "  <thead>\n",
       "    <tr style=\"text-align: right;\">\n",
       "      <th></th>\n",
       "      <th>DateCrawled</th>\n",
       "      <th>Price</th>\n",
       "      <th>VehicleType</th>\n",
       "      <th>RegistrationYear</th>\n",
       "      <th>Gearbox</th>\n",
       "      <th>Power</th>\n",
       "      <th>Model</th>\n",
       "      <th>Kilometer</th>\n",
       "      <th>RegistrationMonth</th>\n",
       "      <th>FuelType</th>\n",
       "      <th>Brand</th>\n",
       "      <th>NotRepaired</th>\n",
       "      <th>DateCreated</th>\n",
       "      <th>NumberOfPictures</th>\n",
       "      <th>PostalCode</th>\n",
       "      <th>LastSeen</th>\n",
       "    </tr>\n",
       "  </thead>\n",
       "  <tbody>\n",
       "    <tr>\n",
       "      <th>15</th>\n",
       "      <td>2016-03-11 21:39:15</td>\n",
       "      <td>450</td>\n",
       "      <td>small</td>\n",
       "      <td>1910</td>\n",
       "      <td>NaN</td>\n",
       "      <td>0</td>\n",
       "      <td>ka</td>\n",
       "      <td>5000</td>\n",
       "      <td>0</td>\n",
       "      <td>petrol</td>\n",
       "      <td>ford</td>\n",
       "      <td>NaN</td>\n",
       "      <td>2016-03-11</td>\n",
       "      <td>0</td>\n",
       "      <td>24148</td>\n",
       "      <td>2016-03-19 08:46:47</td>\n",
       "    </tr>\n",
       "    <tr>\n",
       "      <th>622</th>\n",
       "      <td>2016-03-16 16:55:09</td>\n",
       "      <td>0</td>\n",
       "      <td>NaN</td>\n",
       "      <td>1111</td>\n",
       "      <td>NaN</td>\n",
       "      <td>0</td>\n",
       "      <td>NaN</td>\n",
       "      <td>5000</td>\n",
       "      <td>0</td>\n",
       "      <td>NaN</td>\n",
       "      <td>opel</td>\n",
       "      <td>NaN</td>\n",
       "      <td>2016-03-16</td>\n",
       "      <td>0</td>\n",
       "      <td>44628</td>\n",
       "      <td>2016-03-20 16:44:37</td>\n",
       "    </tr>\n",
       "    <tr>\n",
       "      <th>1928</th>\n",
       "      <td>2016-03-25 15:58:21</td>\n",
       "      <td>7000</td>\n",
       "      <td>suv</td>\n",
       "      <td>1945</td>\n",
       "      <td>manual</td>\n",
       "      <td>48</td>\n",
       "      <td>other</td>\n",
       "      <td>150000</td>\n",
       "      <td>2</td>\n",
       "      <td>petrol</td>\n",
       "      <td>volkswagen</td>\n",
       "      <td>no</td>\n",
       "      <td>2016-03-25</td>\n",
       "      <td>0</td>\n",
       "      <td>58135</td>\n",
       "      <td>2016-03-25 15:58:21</td>\n",
       "    </tr>\n",
       "    <tr>\n",
       "      <th>2273</th>\n",
       "      <td>2016-03-15 21:44:32</td>\n",
       "      <td>1800</td>\n",
       "      <td>convertible</td>\n",
       "      <td>1925</td>\n",
       "      <td>NaN</td>\n",
       "      <td>0</td>\n",
       "      <td>NaN</td>\n",
       "      <td>5000</td>\n",
       "      <td>1</td>\n",
       "      <td>NaN</td>\n",
       "      <td>sonstige_autos</td>\n",
       "      <td>no</td>\n",
       "      <td>2016-03-15</td>\n",
       "      <td>0</td>\n",
       "      <td>79288</td>\n",
       "      <td>2016-04-07 05:15:34</td>\n",
       "    </tr>\n",
       "    <tr>\n",
       "      <th>3333</th>\n",
       "      <td>2016-03-15 21:36:20</td>\n",
       "      <td>10500</td>\n",
       "      <td>sedan</td>\n",
       "      <td>1955</td>\n",
       "      <td>manual</td>\n",
       "      <td>30</td>\n",
       "      <td>other</td>\n",
       "      <td>60000</td>\n",
       "      <td>0</td>\n",
       "      <td>petrol</td>\n",
       "      <td>ford</td>\n",
       "      <td>NaN</td>\n",
       "      <td>2016-03-15</td>\n",
       "      <td>0</td>\n",
       "      <td>53498</td>\n",
       "      <td>2016-04-07 08:16:11</td>\n",
       "    </tr>\n",
       "  </tbody>\n",
       "</table>\n",
       "</div>"
      ],
      "text/plain": [
       "             DateCrawled  Price  VehicleType  RegistrationYear Gearbox  Power  \\\n",
       "15   2016-03-11 21:39:15    450        small              1910     NaN      0   \n",
       "622  2016-03-16 16:55:09      0          NaN              1111     NaN      0   \n",
       "1928 2016-03-25 15:58:21   7000          suv              1945  manual     48   \n",
       "2273 2016-03-15 21:44:32   1800  convertible              1925     NaN      0   \n",
       "3333 2016-03-15 21:36:20  10500        sedan              1955  manual     30   \n",
       "\n",
       "      Model  Kilometer  RegistrationMonth FuelType           Brand  \\\n",
       "15       ka       5000                  0   petrol            ford   \n",
       "622     NaN       5000                  0      NaN            opel   \n",
       "1928  other     150000                  2   petrol      volkswagen   \n",
       "2273    NaN       5000                  1      NaN  sonstige_autos   \n",
       "3333  other      60000                  0   petrol            ford   \n",
       "\n",
       "     NotRepaired DateCreated  NumberOfPictures  PostalCode            LastSeen  \n",
       "15           NaN  2016-03-11                 0       24148 2016-03-19 08:46:47  \n",
       "622          NaN  2016-03-16                 0       44628 2016-03-20 16:44:37  \n",
       "1928          no  2016-03-25                 0       58135 2016-03-25 15:58:21  \n",
       "2273          no  2016-03-15                 0       79288 2016-04-07 05:15:34  \n",
       "3333         NaN  2016-03-15                 0       53498 2016-04-07 08:16:11  "
      ]
     },
     "execution_count": 8,
     "metadata": {},
     "output_type": "execute_result"
    }
   ],
   "source": [
    "df[df['RegistrationYear'] < 1960].head()"
   ]
  },
  {
   "cell_type": "code",
   "execution_count": 9,
   "metadata": {},
   "outputs": [
    {
     "data": {
      "text/plain": [
       "5448"
      ]
     },
     "execution_count": 9,
     "metadata": {},
     "output_type": "execute_result"
    }
   ],
   "source": [
    "df[df['RegistrationYear'] < 1985].shape[0]"
   ]
  },
  {
   "cell_type": "code",
   "execution_count": 10,
   "metadata": {},
   "outputs": [
    {
     "data": {
      "text/plain": [
       "14530"
      ]
     },
     "execution_count": 10,
     "metadata": {},
     "output_type": "execute_result"
    }
   ],
   "source": [
    "# в датасете данные за 2014-2016 год, поэтому, год регистрации ТС не может быть больше 2016 ????\n",
    "df[df['RegistrationYear'] > 2016].shape[0]"
   ]
  },
  {
   "cell_type": "markdown",
   "metadata": {},
   "source": [
    "Проанализировав данные о годе регистрации автомобиля выявлены следующие особенности:\n",
    "1. Как было отмечено в выводе по предыдущему разделу, в данной инфомации есть явно недостоверные данные. Это значения от 1000 до 1900 и более настоящего времени.\n",
    "2. Распределение года регистрации похоже на нормальное, но с небольшой аномалией в районе 2017-2018 года.\n",
    "3. В объяалениях с годом регистрации автомобиля ранее 1960 года содержится много не достоверных данных. Например строка с индексом 15: Ford Ka начал выпускаться с 1996 года, а здесь он значится с годом регистрации 1910.\n",
    "4. На этапе предобработки данных, необходимо будет удалить данные с годом регистрации автомобиля по нижниму усу диаграмы размаха - до 1985, и позднее 2016 года как . "
   ]
  },
  {
   "cell_type": "markdown",
   "metadata": {},
   "source": [
    "**Месяц регистрации автомобиля `RegistrationMonth`**\n",
    "\n",
    "Проанализируем распределение объявлений о продаже по месяцу регистрации автомобиля и посмотрим количество записей с нулевым месяцем."
   ]
  },
  {
   "cell_type": "code",
   "execution_count": 11,
   "metadata": {},
   "outputs": [
    {
     "name": "stdout",
     "output_type": "stream",
     "text": [
      "Количество записей с месяцем = 0: 37352\n"
     ]
    }
   ],
   "source": [
    "print('Количество записей с месяцем = 0:', df[df['RegistrationMonth'] == 0].shape[0])"
   ]
  },
  {
   "cell_type": "code",
   "execution_count": 12,
   "metadata": {},
   "outputs": [
    {
     "data": {
      "image/png": "[encoded data removed]",
      "text/plain": [
       "<Figure size 432x288 with 1 Axes>"
      ]
     },
     "metadata": {
      "needs_background": "light"
     },
     "output_type": "display_data"
    }
   ],
   "source": [
    "# Построение распределения месяца регистрации\n",
    "ax = df['RegistrationMonth'].hist(bins=13)\n",
    "ax.set_title('месяц регистрации', fontsize=16)\n",
    "ax.set(ylabel='количество', xlabel= 'месяц')\n",
    "plt.show;"
   ]
  },
  {
   "cell_type": "markdown",
   "metadata": {},
   "source": [
    "Анализ гистограммы распределения месяца регистрации говорит о том, что в целом, объявления распределены по месяцам практически равномерно. Однако, присутствует месяц с номером 0, чего быть не должно. Скорее всего, ноль здесь означает, что месяц регистрации не известен. Если его заменить на какй-либо реальный номер месяца, то нарушется существующее распределение.  Поэтому будет правильно оставить нулевой месяц как есть."
   ]
  },
  {
   "cell_type": "markdown",
   "metadata": {},
   "source": [
    "**Дата последней активности пользователя, создания и скачивания объявления**\n",
    "\n",
    "Оценим границы диапозонов дат создания и скачивания объявления, а также дат последней активности пользователя."
   ]
  },
  {
   "cell_type": "code",
   "execution_count": 13,
   "metadata": {},
   "outputs": [
    {
     "data": {
      "text/html": [
       "<div>\n",
       "<style scoped>\n",
       "    .dataframe tbody tr th:only-of-type {\n",
       "        vertical-align: middle;\n",
       "    }\n",
       "\n",
       "    .dataframe tbody tr th {\n",
       "        vertical-align: top;\n",
       "    }\n",
       "\n",
       "    .dataframe thead th {\n",
       "        text-align: right;\n",
       "    }\n",
       "</style>\n",
       "<table border=\"1\" class=\"dataframe\">\n",
       "  <thead>\n",
       "    <tr style=\"text-align: right;\">\n",
       "      <th></th>\n",
       "      <th>min</th>\n",
       "      <th>max</th>\n",
       "    </tr>\n",
       "  </thead>\n",
       "  <tbody>\n",
       "    <tr>\n",
       "      <th>DateCrawled</th>\n",
       "      <td>2016-03-05 14:06:22</td>\n",
       "      <td>2016-04-07 14:36:58</td>\n",
       "    </tr>\n",
       "    <tr>\n",
       "      <th>DateCreated</th>\n",
       "      <td>2014-03-10 00:00:00</td>\n",
       "      <td>2016-04-07 00:00:00</td>\n",
       "    </tr>\n",
       "    <tr>\n",
       "      <th>LastSeen</th>\n",
       "      <td>2016-03-05 14:15:08</td>\n",
       "      <td>2016-04-07 14:58:51</td>\n",
       "    </tr>\n",
       "  </tbody>\n",
       "</table>\n",
       "</div>"
      ],
      "text/plain": [
       "                            min                 max\n",
       "DateCrawled 2016-03-05 14:06:22 2016-04-07 14:36:58\n",
       "DateCreated 2014-03-10 00:00:00 2016-04-07 00:00:00\n",
       "LastSeen    2016-03-05 14:15:08 2016-04-07 14:58:51"
      ]
     },
     "execution_count": 13,
     "metadata": {},
     "output_type": "execute_result"
    }
   ],
   "source": [
    "pd.DataFrame(data=[[df['DateCrawled'].min(), df['DateCrawled'].max()],\n",
    "                   [df['DateCreated'].min(), df['DateCreated'].max()],\n",
    "                   [df['LastSeen'].min(), df['LastSeen'].max()]],\n",
    "             index=['DateCrawled', 'DateCreated', 'LastSeen'],\n",
    "             columns=['min', 'max']\n",
    "             )"
   ]
  },
  {
   "cell_type": "markdown",
   "metadata": {},
   "source": [
    "В представленном наборе данных, находится информация из объявлений о продаже автомобилей, размещённых в период с 10 марта 2014 года по 07 апреля 2016 года, и скачанных в марте-апреле 2016 года. Последняя активность пользователей датируется также мартом-апрелем 2016 года."
   ]
  },
  {
   "cell_type": "markdown",
   "metadata": {},
   "source": [
    "**Вывод**\n",
    "\n",
    "\n",
    "Анализ дат в наборе данных выявил следующие особенности:\n",
    "1. Аномальные данные года регистрации автомобиля. В наборе данных присутствуют сведенья об автомобилях с датой регистрации позднее 2016 года, а этого быть не могло. Об этом говорят даты создания, даты скачивания объявлений и даты последней активности пользователей. Анализируя распределение года регистрации автомобиля видно, что данные за 2017-2018 годы, как будто добавлены в датасет искуственно(они выделяются на гистограмме распределения). При решении реальной задачи, было бы необходимо обратится за разъяснениями к тому кто предоставил данные. Записи с годом регистрации автомобиля позднее 2016 года стоит удалить как недостоверные. Также, необходимо удалить из данных записи с годом регистрации автомобилей до 1985 года(по нижнему усу диаграмы размаха).\n",
    "2. Аномалии в месяце регистрации автомобиля. Хотя нулевого месяца не существует, его удаление будет означать потерю большой части данных. Примем к сведенью, что нулевой месяц обозначает то, что месяц регистрации нам не известен.\n"
   ]
  },
  {
   "cell_type": "markdown",
   "metadata": {},
   "source": [
    "#### Анализ категориальных данных\n",
    "\n",
    "Проанализируем данные в колонках: `VehicleType`, `Model`, `Brand`, `FuelType`, `NotRepaired`, `Gearbox`, `PostalCode`.\n",
    "\n"
   ]
  },
  {
   "cell_type": "markdown",
   "metadata": {},
   "source": [
    "**Тип кузова автомобиля**"
   ]
  },
  {
   "cell_type": "code",
   "execution_count": 14,
   "metadata": {},
   "outputs": [
    {
     "data": {
      "image/png": "[encoded data removed]",
      "text/plain": [
       "<Figure size 864x432 with 1 Axes>"
      ]
     },
     "metadata": {
      "needs_background": "light"
     },
     "output_type": "display_data"
    }
   ],
   "source": [
    "# Построение распределения типа кузова\n",
    "df['VehicleType'].value_counts().plot(kind='bar', \n",
    "                                      figsize=(12,6), \n",
    "                                      title='Тип автомобильного кузова ', \n",
    "                                      xlabel='марка',\n",
    "                                      ylabel='количество',\n",
    "                                      color=['r','g','b']);"
   ]
  },
  {
   "cell_type": "markdown",
   "metadata": {},
   "source": [
    "**Марка автомобиля**"
   ]
  },
  {
   "cell_type": "code",
   "execution_count": 15,
   "metadata": {},
   "outputs": [
    {
     "data": {
      "image/png": "[encoded data removed]",
      "text/plain": [
       "<Figure size 1296x432 with 1 Axes>"
      ]
     },
     "metadata": {
      "needs_background": "light"
     },
     "output_type": "display_data"
    }
   ],
   "source": [
    "# Построение распределения марки автомобиля\n",
    "df['Brand'].value_counts().plot(kind='bar', \n",
    "                                figsize=(18,6), \n",
    "                                title='Марка автомобиля',\n",
    "                                xlabel='марка',\n",
    "                                ylabel='количество',\n",
    "                                color=['r','g','b']\n",
    "                                );"
   ]
  },
  {
   "cell_type": "code",
   "execution_count": 16,
   "metadata": {},
   "outputs": [
    {
     "name": "stdout",
     "output_type": "stream",
     "text": [
      "Количество марок автомобиля: 40\n"
     ]
    }
   ],
   "source": [
    "print('Количество марок автомобиля:', df['Brand'].value_counts().shape[0])"
   ]
  },
  {
   "cell_type": "markdown",
   "metadata": {},
   "source": [
    "**Тип топлива**"
   ]
  },
  {
   "cell_type": "code",
   "execution_count": 17,
   "metadata": {},
   "outputs": [
    {
     "data": {
      "image/png": "[encoded data removed]",
      "text/plain": [
       "<Figure size 720x432 with 1 Axes>"
      ]
     },
     "metadata": {
      "needs_background": "light"
     },
     "output_type": "display_data"
    }
   ],
   "source": [
    "# Построение распределения по типу топлова\n",
    "df['FuelType'].value_counts().plot(kind='bar', \n",
    "                                   figsize=(10,6), \n",
    "                                   title='тип топлива',\n",
    "                                   xlabel='тип топлива',\n",
    "                                   ylabel='количество',\n",
    "                                   color=['r','g','b']\n",
    "                                   );"
   ]
  },
  {
   "cell_type": "markdown",
   "metadata": {},
   "source": [
    "**Модель автомобиля**"
   ]
  },
  {
   "cell_type": "code",
   "execution_count": 18,
   "metadata": {},
   "outputs": [
    {
     "data": {
      "image/png": "[encoded data removed]",
      "text/plain": [
       "<Figure size 1296x432 with 1 Axes>"
      ]
     },
     "metadata": {
      "needs_background": "light"
     },
     "output_type": "display_data"
    }
   ],
   "source": [
    "# Построение распределения моделей автомобиля\n",
    "df['Model'].value_counts().head(20).plot(kind='bar', \n",
    "                                         figsize=(18,6), \n",
    "                                         title='Модель автомобиля',\n",
    "                                         xlabel='модель',\n",
    "                                         ylabel='количество',\n",
    "                                         color=['r','g','b']\n",
    "                                         );"
   ]
  },
  {
   "cell_type": "code",
   "execution_count": 19,
   "metadata": {},
   "outputs": [
    {
     "name": "stdout",
     "output_type": "stream",
     "text": [
      "Количество моделей автомобилей: 250\n"
     ]
    }
   ],
   "source": [
    "print('Количество моделей автомобилей:',df['Model'].value_counts().shape[0])"
   ]
  },
  {
   "cell_type": "code",
   "execution_count": 20,
   "metadata": {},
   "outputs": [
    {
     "data": {
      "image/png": "[encoded data removed]",
      "text/plain": [
       "<Figure size 432x432 with 1 Axes>"
      ]
     },
     "metadata": {
      "needs_background": "light"
     },
     "output_type": "display_data"
    }
   ],
   "source": [
    "# Построение распределения по типу коробок передач\n",
    "df['Gearbox'].value_counts().plot(kind='bar', \n",
    "                                  figsize=(6,6), \n",
    "                                  title='Тип коробки передач',\n",
    "                                  xlabel='тип коробки',\n",
    "                                  ylabel='количество',\n",
    "                                  color=['r','g']\n",
    "                                 );"
   ]
  },
  {
   "cell_type": "code",
   "execution_count": 21,
   "metadata": {},
   "outputs": [
    {
     "data": {
      "image/png": "[encoded data removed]",
      "text/plain": [
       "<Figure size 1296x432 with 1 Axes>"
      ]
     },
     "metadata": {
      "needs_background": "light"
     },
     "output_type": "display_data"
    }
   ],
   "source": [
    "# Построение распределения по почтовому индексу\n",
    "df['PostalCode'].value_counts().head(40).plot(kind='bar', \n",
    "                                              figsize=(18,6), \n",
    "                                              title='Почтовый индекс владельца анкеты',\n",
    "                                              xlabel='тип коробки',\n",
    "                                              ylabel='индекс',\n",
    "                                              color=['r','g','b']\n",
    "                                              );"
   ]
  },
  {
   "cell_type": "code",
   "execution_count": 22,
   "metadata": {},
   "outputs": [
    {
     "name": "stdout",
     "output_type": "stream",
     "text": [
      "Количество почтовых индексов: 8143\n"
     ]
    }
   ],
   "source": [
    "print('Количество почтовых индексов:', df['PostalCode'].unique().shape[0])"
   ]
  },
  {
   "cell_type": "markdown",
   "metadata": {},
   "source": [
    "**Вывод**\n",
    "\n",
    "1. Представлено 40 марок автомобилей, 250 моделей, 9 типов кузова. Самая популярная марка автомобиля - volkswagen, модель - volkswagen\tgolf. \n",
    "2. Самый популярный тип кузова - седан.\n",
    "3. Представлено 2 типа коробок передач. Автомобилей с механической коробкой передач в 5 раз больше чем с автоматической.\n",
    "4. Большенство автомобилей используют обычное топливо.\n",
    "5. География продаж - северная америка и европа. Всего представленно 8143 почтовых индексов.\n",
    "6. Особенностей данных в категориальных признаках, требующих обработки, не выявлено."
   ]
  },
  {
   "cell_type": "markdown",
   "metadata": {},
   "source": [
    "#### Анализ численных данных\n",
    "\n",
    "Проанализируем данные в колонках: `Price`, `Power`, `Kilometer`"
   ]
  },
  {
   "cell_type": "code",
   "execution_count": 23,
   "metadata": {},
   "outputs": [],
   "source": [
    "def feature_analiser(data, title, x_label):\n",
    "    \"\"\" Функция принимает колонку, заголовок и подпись оси Х\n",
    "        Выводит на экран гистограмму распределения и диаграму размаха\n",
    "    \"\"\"\n",
    "    fig = plt.figure(figsize=(15,5))\n",
    "    # Вывод гистограмы\n",
    "    ax_1 = fig.add_subplot(1, 2, 1)\n",
    "    ax_1 = sns.histplot(data=data)\n",
    "    ax_1.axes.set_title(title, fontsize=16)\n",
    "    ax_1.set_xlabel(x_label, fontsize=14)\n",
    "    \n",
    "    # Вывод диаграмы размаха\n",
    "    ax_2 = fig.add_subplot(1, 2, 2)\n",
    "    ax_2 = sns.boxplot(data=data, orient='h')\n",
    "    ax_2.axes.set_title(title, fontsize=16)\n",
    "    ax_2.set_xlabel(x_label, fontsize=14)\n",
    "    # boxplot.set_ylabel(\"Продажи\", fontsize=14)\n",
    "\n",
    "    plt.show();"
   ]
  },
  {
   "cell_type": "markdown",
   "metadata": {},
   "source": [
    "**Price**"
   ]
  },
  {
   "cell_type": "code",
   "execution_count": 24,
   "metadata": {},
   "outputs": [
    {
     "data": {
      "image/png": "[encoded data removed]",
      "text/plain": [
       "<Figure size 1080x360 with 2 Axes>"
      ]
     },
     "metadata": {
      "needs_background": "light"
     },
     "output_type": "display_data"
    }
   ],
   "source": [
    "feature_analiser(df['Price'], 'Цена автомобиля', 'Цена')"
   ]
  },
  {
   "cell_type": "code",
   "execution_count": 25,
   "metadata": {},
   "outputs": [
    {
     "data": {
      "text/plain": [
       "(0, 14425.0)"
      ]
     },
     "execution_count": 25,
     "metadata": {},
     "output_type": "execute_result"
    }
   ],
   "source": [
    "# Нижний и верхний ус\n",
    "moustache(df['Price'])"
   ]
  },
  {
   "cell_type": "code",
   "execution_count": 26,
   "metadata": {},
   "outputs": [
    {
     "name": "stdout",
     "output_type": "stream",
     "text": [
      "Количество записей с ценой < 100: 13314\n",
      "Доля записей с ценой < 100: 0.03757100649323163\n"
     ]
    }
   ],
   "source": [
    "print('Количество записей с ценой < 100:',df[df['Price'] < 100]['Price'].shape[0])\n",
    "print('Доля записей с ценой < 100:', df[df['Price'] < 100]['Price'].shape[0]/df.shape[0])"
   ]
  },
  {
   "cell_type": "markdown",
   "metadata": {},
   "source": [
    "**Вывод:** Цены на автомобили лежат в диапозоне от 0 до 20000. Нулевых и около нулевых значений цены в наборе данных  около 4%. Придётся такие недостоверные данные удалить, так как цена является целевым признаком для будущей модели МО, и такие отклонения от нормы не допустимы. Удалять значения цены больше верхнего уса диаграмы размаха ме будем, так как максимальная цена в 20000 вполне допустима, и при этом можно лишиться данных о автомобилях верхнего ценового сегмента."
   ]
  },
  {
   "cell_type": "markdown",
   "metadata": {},
   "source": [
    "**Power**\n",
    "\n"
   ]
  },
  {
   "cell_type": "code",
   "execution_count": 27,
   "metadata": {},
   "outputs": [
    {
     "data": {
      "image/png": "[encoded data removed]",
      "text/plain": [
       "<Figure size 1080x360 with 2 Axes>"
      ]
     },
     "metadata": {
      "needs_background": "light"
     },
     "output_type": "display_data"
    }
   ],
   "source": [
    "feature_analiser(df[df['Power'] < 400]['Power'], 'Мощность двигателя', 'Мощность')"
   ]
  },
  {
   "cell_type": "code",
   "execution_count": 28,
   "metadata": {},
   "outputs": [
    {
     "data": {
      "text/plain": [
       "(0, 254.0)"
      ]
     },
     "execution_count": 28,
     "metadata": {},
     "output_type": "execute_result"
    }
   ],
   "source": [
    "# Нижний и верхний ус\n",
    "moustache(df['Power'])"
   ]
  },
  {
   "cell_type": "code",
   "execution_count": 29,
   "metadata": {
    "scrolled": true
   },
   "outputs": [
    {
     "name": "stdout",
     "output_type": "stream",
     "text": [
      "Количество записей с мощьностью двигателя = 0: 40225\n",
      "Доля записей  с мощьностью двигателя = 0: 0.11351162206626426\n"
     ]
    }
   ],
   "source": [
    "print('Количество записей с мощьностью двигателя = 0:', df[df['Power'] == 0].shape[0])\n",
    "print('Доля записей  с мощьностью двигателя = 0:', df[df['Power'] == 0].shape[0]/df.shape[0])"
   ]
  },
  {
   "cell_type": "code",
   "execution_count": 30,
   "metadata": {},
   "outputs": [
    {
     "name": "stdout",
     "output_type": "stream",
     "text": [
      "Количество записей с мощьностью двигателя > 254: 7340\n",
      "Доля записей с мощьностью двигателя > 254: 0.02071287273999701\n"
     ]
    }
   ],
   "source": [
    "print('Количество записей с мощьностью двигателя > 254:', df[df['Power'] > 254].shape[0])\n",
    "print('Доля записей с мощьностью двигателя > 254:', df[df['Power'] > 254].shape[0]/df.shape[0])"
   ]
  },
  {
   "cell_type": "markdown",
   "metadata": {},
   "source": [
    "Нижнюю границу мощности двигателя автомобиля определим как 40. Однако, объектов с нулевым значением мощьности в наборе данных около 10%, поэтому удалв их мы потеряем значительную часть данных. Думаю, стоит оставить нулевые значения в таком виде, имея в виду, что на самом деле они являются пропусками. С большими значениями ситуация сложнее. Здесь явно присутствуют ошибки в порядке значений. Если значения более 1000 и более 10000 необходимо разделить на 10 и 100 соответственно, то со значениями примерно от 250 до 1000 всё сложнее. В этом диапозоне значения с ошибками на порядок перемешанны со значениями похожими на истинные. Так как значений более 254 около 2% от всех данных, то просто ограничим набор данных по верхнему усу диаграмы размаха = 254."
   ]
  },
  {
   "cell_type": "markdown",
   "metadata": {},
   "source": [
    "**Пробег**"
   ]
  },
  {
   "cell_type": "code",
   "execution_count": 31,
   "metadata": {},
   "outputs": [
    {
     "data": {
      "image/png": "[encoded data removed]",
      "text/plain": [
       "<Figure size 1080x360 with 2 Axes>"
      ]
     },
     "metadata": {
      "needs_background": "light"
     },
     "output_type": "display_data"
    }
   ],
   "source": [
    "feature_analiser(df['Kilometer'], 'Пробег автомобиля', 'пробег')"
   ]
  },
  {
   "cell_type": "markdown",
   "metadata": {},
   "source": [
    "Большенство автомобилей продаются с пробегом от 120000 до 140000, гораздо реже выставляются на продажу автомобили с мленьким пробегом. "
   ]
  },
  {
   "cell_type": "markdown",
   "metadata": {},
   "source": [
    "**Вывод**\n",
    "\n",
    "1. Необходимо удалить из набора данных записи с околонулевыми ценами.\n",
    "2. Записи с аномально большими значениями мощности двигателя необходимо удалить (более 254).\n",
    "3. Данные по пробегу не требуют предобработки."
   ]
  },
  {
   "cell_type": "markdown",
   "metadata": {},
   "source": [
    "### Предобработка данных\n",
    "\n",
    "1. Обработка пропусков и дубликатов;\n",
    "2. Обработка аномальных данных"
   ]
  },
  {
   "cell_type": "markdown",
   "metadata": {},
   "source": [
    "#### Обработка пропусков и дубликатов\n",
    "1. Удалим колонку `NumberOfPictures`, которая состоит полностью из нулей;\n",
    "2. Удалим дубликаты строк;\n",
    "3. Обработка пропусков:\n",
    "    - `VehicleType` - попробуем восстановить по модели автомобиля;\n",
    "    + `Gearbox` - заменим на самую распространённую коробку передач `manual`;\n",
    "    + `Model` - заменим на `other`;\n",
    "    + `FuelType` - заменим на наиболее часто встречающееся топливо `petrol`;\n",
    "    + `NotRepaired` - заменим на `unknown` так как достоверных данных в таблице нет."
   ]
  },
  {
   "cell_type": "code",
   "execution_count": 32,
   "metadata": {
    "scrolled": true
   },
   "outputs": [],
   "source": [
    "# Удаляем колонку NumberOfPictures\n",
    "df = df.drop('NumberOfPictures', axis=1)\n",
    "# Удаляем дубликаты\n",
    "df = df.drop_duplicates()"
   ]
  },
  {
   "cell_type": "code",
   "execution_count": 33,
   "metadata": {},
   "outputs": [],
   "source": [
    "# Заполняем пропуски\n",
    "df['Gearbox'] = df['Gearbox'].fillna('manual')\n",
    "df['Model'] = df['Model'].fillna('other')\n",
    "df['FuelType'] = df['FuelType'].fillna('petrol')\n",
    "df['NotRepaired'] = df['NotRepaired'].fillna('unknown')"
   ]
  },
  {
   "cell_type": "markdown",
   "metadata": {},
   "source": [
    "**Заполнение пропусков в типе ТС**\n",
    "\n",
    "Тип транспортного средства можно получить по его модели. Так как у одной модели автомобиля может быть несколько исполнений кузова, необходимо выбрать наиболее распрастранённый тип для этой модели. \n",
    "1. Составим словарь соответствия модель ТС - самый часто встречающийся тип ТС для данной модели;\n",
    "2. В соответствии с полученным словарём заполним пропуски в типе ТС."
   ]
  },
  {
   "cell_type": "code",
   "execution_count": 34,
   "metadata": {},
   "outputs": [
    {
     "data": {
      "text/html": [
       "<div>\n",
       "<style scoped>\n",
       "    .dataframe tbody tr th:only-of-type {\n",
       "        vertical-align: middle;\n",
       "    }\n",
       "\n",
       "    .dataframe tbody tr th {\n",
       "        vertical-align: top;\n",
       "    }\n",
       "\n",
       "    .dataframe thead th {\n",
       "        text-align: right;\n",
       "    }\n",
       "</style>\n",
       "<table border=\"1\" class=\"dataframe\">\n",
       "  <thead>\n",
       "    <tr style=\"text-align: right;\">\n",
       "      <th>VehicleType</th>\n",
       "      <th>bus</th>\n",
       "      <th>convertible</th>\n",
       "      <th>coupe</th>\n",
       "      <th>other</th>\n",
       "      <th>sedan</th>\n",
       "      <th>small</th>\n",
       "      <th>suv</th>\n",
       "      <th>wagon</th>\n",
       "      <th>most_friqued</th>\n",
       "    </tr>\n",
       "    <tr>\n",
       "      <th>Model</th>\n",
       "      <th></th>\n",
       "      <th></th>\n",
       "      <th></th>\n",
       "      <th></th>\n",
       "      <th></th>\n",
       "      <th></th>\n",
       "      <th></th>\n",
       "      <th></th>\n",
       "      <th></th>\n",
       "    </tr>\n",
       "  </thead>\n",
       "  <tbody>\n",
       "    <tr>\n",
       "      <th>100</th>\n",
       "      <td>NaN</td>\n",
       "      <td>1.0</td>\n",
       "      <td>2.0</td>\n",
       "      <td>NaN</td>\n",
       "      <td>278.0</td>\n",
       "      <td>NaN</td>\n",
       "      <td>NaN</td>\n",
       "      <td>109.0</td>\n",
       "      <td>sedan</td>\n",
       "    </tr>\n",
       "    <tr>\n",
       "      <th>145</th>\n",
       "      <td>NaN</td>\n",
       "      <td>NaN</td>\n",
       "      <td>2.0</td>\n",
       "      <td>1.0</td>\n",
       "      <td>13.0</td>\n",
       "      <td>19.0</td>\n",
       "      <td>NaN</td>\n",
       "      <td>NaN</td>\n",
       "      <td>small</td>\n",
       "    </tr>\n",
       "    <tr>\n",
       "      <th>147</th>\n",
       "      <td>NaN</td>\n",
       "      <td>NaN</td>\n",
       "      <td>27.0</td>\n",
       "      <td>7.0</td>\n",
       "      <td>358.0</td>\n",
       "      <td>97.0</td>\n",
       "      <td>1.0</td>\n",
       "      <td>2.0</td>\n",
       "      <td>sedan</td>\n",
       "    </tr>\n",
       "    <tr>\n",
       "      <th>156</th>\n",
       "      <td>NaN</td>\n",
       "      <td>NaN</td>\n",
       "      <td>3.0</td>\n",
       "      <td>1.0</td>\n",
       "      <td>287.0</td>\n",
       "      <td>2.0</td>\n",
       "      <td>NaN</td>\n",
       "      <td>288.0</td>\n",
       "      <td>wagon</td>\n",
       "    </tr>\n",
       "    <tr>\n",
       "      <th>159</th>\n",
       "      <td>NaN</td>\n",
       "      <td>NaN</td>\n",
       "      <td>NaN</td>\n",
       "      <td>NaN</td>\n",
       "      <td>55.0</td>\n",
       "      <td>NaN</td>\n",
       "      <td>NaN</td>\n",
       "      <td>145.0</td>\n",
       "      <td>wagon</td>\n",
       "    </tr>\n",
       "  </tbody>\n",
       "</table>\n",
       "</div>"
      ],
      "text/plain": [
       "VehicleType  bus  convertible  coupe  other  sedan  small  suv  wagon  \\\n",
       "Model                                                                   \n",
       "100          NaN          1.0    2.0    NaN  278.0    NaN  NaN  109.0   \n",
       "145          NaN          NaN    2.0    1.0   13.0   19.0  NaN    NaN   \n",
       "147          NaN          NaN   27.0    7.0  358.0   97.0  1.0    2.0   \n",
       "156          NaN          NaN    3.0    1.0  287.0    2.0  NaN  288.0   \n",
       "159          NaN          NaN    NaN    NaN   55.0    NaN  NaN  145.0   \n",
       "\n",
       "VehicleType most_friqued  \n",
       "Model                     \n",
       "100                sedan  \n",
       "145                small  \n",
       "147                sedan  \n",
       "156                wagon  \n",
       "159                wagon  "
      ]
     },
     "execution_count": 34,
     "metadata": {},
     "output_type": "execute_result"
    }
   ],
   "source": [
    "# Создаём словарь типов транспортных средств по модели\n",
    "# Создадим сводную таблицу по модели и типам кузова\n",
    "type_dict = df[df['Model'].notna()].pivot_table(index='Model', columns='VehicleType', values='Brand', aggfunc='count')\n",
    "# Список типов кузова\n",
    "model=type_dict.columns.values\n",
    "# Добавляем колонку с наиболее часто встречающимся типом кузова для данной модели\n",
    "type_dict['most_friqued'] = type_dict[model].apply(lambda x: model[x.argmax()], axis=1)\n",
    "type_dict.head()"
   ]
  },
  {
   "cell_type": "code",
   "execution_count": 35,
   "metadata": {},
   "outputs": [],
   "source": [
    "# Заполняем пропуски\n",
    "df.loc[df['VehicleType'].isna(), 'VehicleType'] = df[df['VehicleType'].isna()]['Model'].apply(lambda x: type_dict.loc[x,'most_friqued'])"
   ]
  },
  {
   "cell_type": "code",
   "execution_count": 36,
   "metadata": {},
   "outputs": [
    {
     "data": {
      "text/html": [
       "<div>\n",
       "<style scoped>\n",
       "    .dataframe tbody tr th:only-of-type {\n",
       "        vertical-align: middle;\n",
       "    }\n",
       "\n",
       "    .dataframe tbody tr th {\n",
       "        vertical-align: top;\n",
       "    }\n",
       "\n",
       "    .dataframe thead th {\n",
       "        text-align: right;\n",
       "    }\n",
       "</style>\n",
       "<table border=\"1\" class=\"dataframe\">\n",
       "  <thead>\n",
       "    <tr style=\"text-align: right;\">\n",
       "      <th></th>\n",
       "      <th>DateCrawled</th>\n",
       "      <th>Price</th>\n",
       "      <th>VehicleType</th>\n",
       "      <th>RegistrationYear</th>\n",
       "      <th>Gearbox</th>\n",
       "      <th>Power</th>\n",
       "      <th>Model</th>\n",
       "      <th>Kilometer</th>\n",
       "      <th>RegistrationMonth</th>\n",
       "      <th>FuelType</th>\n",
       "      <th>Brand</th>\n",
       "      <th>NotRepaired</th>\n",
       "      <th>DateCreated</th>\n",
       "      <th>PostalCode</th>\n",
       "      <th>LastSeen</th>\n",
       "    </tr>\n",
       "  </thead>\n",
       "  <tbody>\n",
       "    <tr>\n",
       "      <th>0</th>\n",
       "      <td>2016-03-24 11:52:17</td>\n",
       "      <td>480</td>\n",
       "      <td>sedan</td>\n",
       "      <td>1993</td>\n",
       "      <td>manual</td>\n",
       "      <td>0</td>\n",
       "      <td>golf</td>\n",
       "      <td>150000</td>\n",
       "      <td>0</td>\n",
       "      <td>petrol</td>\n",
       "      <td>volkswagen</td>\n",
       "      <td>unknown</td>\n",
       "      <td>2016-03-24</td>\n",
       "      <td>70435</td>\n",
       "      <td>2016-04-07 03:16:57</td>\n",
       "    </tr>\n",
       "    <tr>\n",
       "      <th>1</th>\n",
       "      <td>2016-03-24 10:58:45</td>\n",
       "      <td>18300</td>\n",
       "      <td>coupe</td>\n",
       "      <td>2011</td>\n",
       "      <td>manual</td>\n",
       "      <td>190</td>\n",
       "      <td>other</td>\n",
       "      <td>125000</td>\n",
       "      <td>5</td>\n",
       "      <td>gasoline</td>\n",
       "      <td>audi</td>\n",
       "      <td>yes</td>\n",
       "      <td>2016-03-24</td>\n",
       "      <td>66954</td>\n",
       "      <td>2016-04-07 01:46:50</td>\n",
       "    </tr>\n",
       "    <tr>\n",
       "      <th>2</th>\n",
       "      <td>2016-03-14 12:52:21</td>\n",
       "      <td>9800</td>\n",
       "      <td>suv</td>\n",
       "      <td>2004</td>\n",
       "      <td>auto</td>\n",
       "      <td>163</td>\n",
       "      <td>grand</td>\n",
       "      <td>125000</td>\n",
       "      <td>8</td>\n",
       "      <td>gasoline</td>\n",
       "      <td>jeep</td>\n",
       "      <td>unknown</td>\n",
       "      <td>2016-03-14</td>\n",
       "      <td>90480</td>\n",
       "      <td>2016-04-05 12:47:46</td>\n",
       "    </tr>\n",
       "    <tr>\n",
       "      <th>3</th>\n",
       "      <td>2016-03-17 16:54:04</td>\n",
       "      <td>1500</td>\n",
       "      <td>small</td>\n",
       "      <td>2001</td>\n",
       "      <td>manual</td>\n",
       "      <td>75</td>\n",
       "      <td>golf</td>\n",
       "      <td>150000</td>\n",
       "      <td>6</td>\n",
       "      <td>petrol</td>\n",
       "      <td>volkswagen</td>\n",
       "      <td>no</td>\n",
       "      <td>2016-03-17</td>\n",
       "      <td>91074</td>\n",
       "      <td>2016-03-17 17:40:17</td>\n",
       "    </tr>\n",
       "    <tr>\n",
       "      <th>4</th>\n",
       "      <td>2016-03-31 17:25:20</td>\n",
       "      <td>3600</td>\n",
       "      <td>small</td>\n",
       "      <td>2008</td>\n",
       "      <td>manual</td>\n",
       "      <td>69</td>\n",
       "      <td>fabia</td>\n",
       "      <td>90000</td>\n",
       "      <td>7</td>\n",
       "      <td>gasoline</td>\n",
       "      <td>skoda</td>\n",
       "      <td>no</td>\n",
       "      <td>2016-03-31</td>\n",
       "      <td>60437</td>\n",
       "      <td>2016-04-06 10:17:21</td>\n",
       "    </tr>\n",
       "  </tbody>\n",
       "</table>\n",
       "</div>"
      ],
      "text/plain": [
       "          DateCrawled  Price VehicleType  RegistrationYear Gearbox  Power  \\\n",
       "0 2016-03-24 11:52:17    480       sedan              1993  manual      0   \n",
       "1 2016-03-24 10:58:45  18300       coupe              2011  manual    190   \n",
       "2 2016-03-14 12:52:21   9800         suv              2004    auto    163   \n",
       "3 2016-03-17 16:54:04   1500       small              2001  manual     75   \n",
       "4 2016-03-31 17:25:20   3600       small              2008  manual     69   \n",
       "\n",
       "   Model  Kilometer  RegistrationMonth  FuelType       Brand NotRepaired  \\\n",
       "0   golf     150000                  0    petrol  volkswagen     unknown   \n",
       "1  other     125000                  5  gasoline        audi         yes   \n",
       "2  grand     125000                  8  gasoline        jeep     unknown   \n",
       "3   golf     150000                  6    petrol  volkswagen          no   \n",
       "4  fabia      90000                  7  gasoline       skoda          no   \n",
       "\n",
       "  DateCreated  PostalCode            LastSeen  \n",
       "0  2016-03-24       70435 2016-04-07 03:16:57  \n",
       "1  2016-03-24       66954 2016-04-07 01:46:50  \n",
       "2  2016-03-14       90480 2016-04-05 12:47:46  \n",
       "3  2016-03-17       91074 2016-03-17 17:40:17  \n",
       "4  2016-03-31       60437 2016-04-06 10:17:21  "
      ]
     },
     "execution_count": 36,
     "metadata": {},
     "output_type": "execute_result"
    }
   ],
   "source": [
    "df.head()"
   ]
  },
  {
   "cell_type": "code",
   "execution_count": 37,
   "metadata": {},
   "outputs": [
    {
     "name": "stdout",
     "output_type": "stream",
     "text": [
      "<class 'pandas.core.frame.DataFrame'>\n",
      "Int64Index: 354365 entries, 0 to 354368\n",
      "Data columns (total 15 columns):\n",
      " #   Column             Non-Null Count   Dtype         \n",
      "---  ------             --------------   -----         \n",
      " 0   DateCrawled        354365 non-null  datetime64[ns]\n",
      " 1   Price              354365 non-null  int64         \n",
      " 2   VehicleType        354365 non-null  object        \n",
      " 3   RegistrationYear   354365 non-null  int64         \n",
      " 4   Gearbox            354365 non-null  object        \n",
      " 5   Power              354365 non-null  int64         \n",
      " 6   Model              354365 non-null  object        \n",
      " 7   Kilometer          354365 non-null  int64         \n",
      " 8   RegistrationMonth  354365 non-null  int64         \n",
      " 9   FuelType           354365 non-null  object        \n",
      " 10  Brand              354365 non-null  object        \n",
      " 11  NotRepaired        354365 non-null  object        \n",
      " 12  DateCreated        354365 non-null  datetime64[ns]\n",
      " 13  PostalCode         354365 non-null  int64         \n",
      " 14  LastSeen           354365 non-null  datetime64[ns]\n",
      "dtypes: datetime64[ns](3), int64(6), object(6)\n",
      "memory usage: 43.3+ MB\n"
     ]
    }
   ],
   "source": [
    "df.info()"
   ]
  },
  {
   "cell_type": "markdown",
   "metadata": {},
   "source": [
    "**Вывод:** Произведена обработка пропусков и дубликатов."
   ]
  },
  {
   "cell_type": "markdown",
   "metadata": {},
   "source": [
    "#### Обработка аномальных данных\n",
    "\n",
    "По результатам анализа признаков необходимо обработать данные в колонках:\n",
    "- `RegistrationYear`- удалим из данных записи с годом регистрации автомобилей по нижнему усу диаграмы размаха до 1985 года, и как недостоверные, позднее 2016 года;\n",
    "- `Price` - удалим записи с ценой менее 100.\n",
    "- `Power` - Избавимся от записей со значениями мощности более 254. "
   ]
  },
  {
   "cell_type": "markdown",
   "metadata": {},
   "source": [
    "**RegistrationYear**\n",
    "\n",
    "Обрежем данные, содержащие год регистрации по усам диаграммы размаха"
   ]
  },
  {
   "cell_type": "code",
   "execution_count": 38,
   "metadata": {},
   "outputs": [],
   "source": [
    "# Удаление данных с недостоверным годом\n",
    "min_mus, max_mus = moustache(df['RegistrationYear'])\n",
    "df = df[df['RegistrationYear'] >= min_mus]\n",
    "df = df[df['RegistrationYear'] <= 2016]"
   ]
  },
  {
   "cell_type": "markdown",
   "metadata": {},
   "source": [
    "**Price**\n",
    "\n",
    " Данная колонка является целевым признаком для будущей модели, поэтому оставить 0 здесь нет возможности."
   ]
  },
  {
   "cell_type": "code",
   "execution_count": 39,
   "metadata": {},
   "outputs": [],
   "source": [
    "# Исключим из набора данных автомобили цены которых ниже 100\n",
    "df = df[df['Price'] > 100]"
   ]
  },
  {
   "cell_type": "markdown",
   "metadata": {},
   "source": [
    "**Power**\n",
    "\n",
    "Исключим из набора данных записи со значением мощьности двигателя по верхнему усу диаграмы размаха(более 254)."
   ]
  },
  {
   "cell_type": "code",
   "execution_count": 40,
   "metadata": {},
   "outputs": [],
   "source": [
    "# Исключим из набора данных автомобили со значением мощьности двигателя менее верхнего уса(254).\n",
    "min_mus, max_mus = moustache(df['Power'])\n",
    "df = df[df['Power'] <= max_mus]"
   ]
  },
  {
   "cell_type": "code",
   "execution_count": 41,
   "metadata": {},
   "outputs": [
    {
     "name": "stdout",
     "output_type": "stream",
     "text": [
      "<class 'pandas.core.frame.DataFrame'>\n",
      "Int64Index: 313227 entries, 0 to 354368\n",
      "Data columns (total 15 columns):\n",
      " #   Column             Non-Null Count   Dtype         \n",
      "---  ------             --------------   -----         \n",
      " 0   DateCrawled        313227 non-null  datetime64[ns]\n",
      " 1   Price              313227 non-null  int64         \n",
      " 2   VehicleType        313227 non-null  object        \n",
      " 3   RegistrationYear   313227 non-null  int64         \n",
      " 4   Gearbox            313227 non-null  object        \n",
      " 5   Power              313227 non-null  int64         \n",
      " 6   Model              313227 non-null  object        \n",
      " 7   Kilometer          313227 non-null  int64         \n",
      " 8   RegistrationMonth  313227 non-null  int64         \n",
      " 9   FuelType           313227 non-null  object        \n",
      " 10  Brand              313227 non-null  object        \n",
      " 11  NotRepaired        313227 non-null  object        \n",
      " 12  DateCreated        313227 non-null  datetime64[ns]\n",
      " 13  PostalCode         313227 non-null  int64         \n",
      " 14  LastSeen           313227 non-null  datetime64[ns]\n",
      "dtypes: datetime64[ns](3), int64(6), object(6)\n",
      "memory usage: 38.2+ MB\n"
     ]
    }
   ],
   "source": [
    "df.info()"
   ]
  },
  {
   "cell_type": "code",
   "execution_count": 42,
   "metadata": {},
   "outputs": [
    {
     "name": "stdout",
     "output_type": "stream",
     "text": [
      "Доля оставшихся данных после предобработки: 0.88\n"
     ]
    }
   ],
   "source": [
    "print('Доля оставшихся данных после предобработки:', round(df.shape[0]/354369, 2))"
   ]
  },
  {
   "cell_type": "markdown",
   "metadata": {},
   "source": [
    "**Вывод**\n",
    "\n",
    "В ходе предобработки избавились от пропусков, дубликатов и обработали некоторые недостоверные данные. При этом, лишились около 12% данных."
   ]
  },
  {
   "cell_type": "markdown",
   "metadata": {},
   "source": [
    "### Подготовка выборок\n",
    "\n",
    "1. Целевой признак: `Price`;\n",
    "2. Числовые признаки: `RegistrationYear`,\t`Power`, `Kilometer`,\t`RegistrationMonth`;\n",
    "3. Категориальные признаки: `VehicleType`, `Gearbox`, `Model`, `FuelType`, `Brand`, `NotRepaired`, `PostalCode`;\n",
    "4. Колонки с датами скачивания анкеты из базы `DateCrawled`, дата создания анкеты `DateCreated`, дата последней активности пользователя`LastSeen` использовать не будем, так как признаком даты в обучающей выборке будут колонки `RegistrationYear` и `RegistrationMonth`\n",
    "4. Произведём кодирование категориальных признаков методом OneHotEncoder;\n",
    "5. Произведём масштабирование численных признаков."
   ]
  },
  {
   "cell_type": "code",
   "execution_count": 43,
   "metadata": {},
   "outputs": [
    {
     "data": {
      "text/html": [
       "<div>\n",
       "<style scoped>\n",
       "    .dataframe tbody tr th:only-of-type {\n",
       "        vertical-align: middle;\n",
       "    }\n",
       "\n",
       "    .dataframe tbody tr th {\n",
       "        vertical-align: top;\n",
       "    }\n",
       "\n",
       "    .dataframe thead th {\n",
       "        text-align: right;\n",
       "    }\n",
       "</style>\n",
       "<table border=\"1\" class=\"dataframe\">\n",
       "  <thead>\n",
       "    <tr style=\"text-align: right;\">\n",
       "      <th></th>\n",
       "      <th>Размер выборки</th>\n",
       "    </tr>\n",
       "  </thead>\n",
       "  <tbody>\n",
       "    <tr>\n",
       "      <th>features_train</th>\n",
       "      <td>187936</td>\n",
       "    </tr>\n",
       "    <tr>\n",
       "      <th>target_train</th>\n",
       "      <td>187936</td>\n",
       "    </tr>\n",
       "    <tr>\n",
       "      <th>features_valid</th>\n",
       "      <td>62645</td>\n",
       "    </tr>\n",
       "    <tr>\n",
       "      <th>target_valid</th>\n",
       "      <td>62645</td>\n",
       "    </tr>\n",
       "    <tr>\n",
       "      <th>features_test</th>\n",
       "      <td>62646</td>\n",
       "    </tr>\n",
       "    <tr>\n",
       "      <th>target_test</th>\n",
       "      <td>62646</td>\n",
       "    </tr>\n",
       "  </tbody>\n",
       "</table>\n",
       "</div>"
      ],
      "text/plain": [
       "                Размер выборки\n",
       "features_train          187936\n",
       "target_train            187936\n",
       "features_valid           62645\n",
       "target_valid             62645\n",
       "features_test            62646\n",
       "target_test              62646"
      ]
     },
     "execution_count": 43,
     "metadata": {},
     "output_type": "execute_result"
    }
   ],
   "source": [
    "# Определим список числовых и категориальных колонок. Они понадобятся в будущем. \n",
    "numerical_cols = ['RegistrationYear', 'Power', 'Kilometer', 'RegistrationMonth']\n",
    "categorical_cols = ['VehicleType', 'Gearbox', 'Model', 'FuelType', 'Brand', 'NotRepaired']#, 'PostalCode']\n",
    "all_cols = numerical_cols + categorical_cols\n",
    "# Преобразуем тип даннных категориальных признаков из object в category для правильной работы в LGBM\n",
    "df[categorical_cols] = df[categorical_cols].astype('category')\n",
    "# определим цели и признаки\n",
    "target = df['Price']\n",
    "features = df[all_cols]\n",
    "# Разделим набор данных на тренировочную? валидационную и тестовую выборки\n",
    "features_train, features_vt, target_train, target_vt = train_test_split(features, \n",
    "                                                                        target, \n",
    "                                                                        test_size=0.4, \n",
    "                                                                        random_state=12345)\n",
    "features_valid, features_test, target_valid, target_test = train_test_split(features_vt, \n",
    "                                                                            target_vt, \n",
    "                                                                            test_size=0.5, \n",
    "                                                                            random_state=12345)\n",
    "# Стандартизируем численные признаки и преобразуем категориальные методом OHE \n",
    "preprocessor_OHE = ColumnTransformer(transformers=[('num', StandardScaler(), numerical_cols),\n",
    "                                                   ('cat', OneHotEncoder(drop='first'), categorical_cols)\n",
    "                                                  ])\n",
    "preprocessor_OE = ColumnTransformer(transformers=[('num', StandardScaler(), numerical_cols),\n",
    "                                                  ('cat', OrdinalEncoder(), categorical_cols)\n",
    "                                                 ])\n",
    "preprocessor_null = ColumnTransformer(transformers=[('null')])\n",
    "\n",
    "\n",
    "# проверим размеры выборок\n",
    "pd.DataFrame(data=[features_train.shape[0], target_train.shape[0],\n",
    "                   features_valid.shape[0], target_valid.shape[0],\n",
    "                   features_test.shape[0],  target_test.shape[0]],\n",
    "             index=['features_train', 'target_train', \n",
    "                    'features_valid', 'target_valid', \n",
    "                    'features_test',  'target_test'],\n",
    "             columns=['Размер выборки']\n",
    "            )"
   ]
  },
  {
   "cell_type": "markdown",
   "metadata": {},
   "source": [
    "**Вывод**\n",
    "\n",
    "Выборки подготовленны для дальнейшего построения моделей. Определен целевой признак, числовые и категориальные признаки."
   ]
  },
  {
   "cell_type": "markdown",
   "metadata": {},
   "source": [
    "**Вывод по разделу**\n",
    "\n",
    "Произведена загрузка, анализ, предобработка данных и подготовка выборок.\n",
    "\n",
    "Представленный набор данных содержит сведенья об объяалениях по продаже автомобилей в 2014-2016 годах. География продаж - европа и северная америка. Всего присутствуют 40 марок автомобилей, 250 моделей, в 9 различных типах кузова. Большая часть автомобилей использует традиционные виды топлива и имеют механическую коробку передач. Ценовой диапозон автомобилей - до 20000. В целом, сервис по продажи автомобилей \"Небит не крашен\" ориентирован на низкий и средний ценовой сегмент авторынка, на клиентов с низким и средним уровнем доходов.\n",
    "\n",
    "Также в ходе внализа были выявлены особенности данных, которые требовали обработки. В ходе предобработки избавились от пропрусков и обработали выявленные аномалии в данных. \n",
    "\n",
    "В результате проделаной работы, данные готовы к построению модели машинного обучения."
   ]
  },
  {
   "cell_type": "markdown",
   "metadata": {},
   "source": [
    "## Обучение моделей\n",
    "\n",
    "Обучим несколько моделей:\n",
    "1. Линейная регрессия\n",
    "2. Дерево решений\n",
    "3. Случайный лес\n",
    "4. Бустинги:\n",
    "    - LGBMRegressor;\n",
    "    - CatBoostRegressor.\n",
    "    \n",
    "Также, применим разные способы кодирования категориальных признаков:\n",
    "1. OrdinalEncoder;\n",
    "2. OneHotEncoder;\n",
    "3. Модели LGBMRegressor и CatBoostRegressor позволяют передавать категориальные признаки без кодирования. Попробуем и этот вариант."
   ]
  },
  {
   "cell_type": "code",
   "execution_count": 44,
   "metadata": {},
   "outputs": [],
   "source": [
    "def get_rmse_valid(model, preprocessor=preprocessor_null, X=features_train, y=target_train, X_test=features_valid, y_test=target_valid):\n",
    "    \"\"\" Принимаем модель,\n",
    "        возвращаем RMSE и время обучения и предсказания\n",
    "    \"\"\"\n",
    "    # предобработка принятым трансформером\n",
    "    if preprocessor != preprocessor_null:\n",
    "        X = preprocessor.fit_transform(X)\n",
    "        X_test = preprocessor.transform(X_test)\n",
    "     \n",
    "    if preprocessor == preprocessor_null and type(model) == type(CatBoostRegressor()):\n",
    "        # Если CatBoost без кодирования, то fit надо вызывать с cat_features\n",
    "        start_time = time.time()\n",
    "        model.fit(X, y, cat_features=categorical_cols)\n",
    "    else:\n",
    "        # Если всё остальное - просто вызываем fit\n",
    "        start_time = time.time()\n",
    "        model.fit(X, y)\n",
    "    \n",
    "    fit_time = time.time()\n",
    "    predictions = model.predict(X_test)\n",
    "    prediction_time = time.time()\n",
    "    return (round(mean_squared_error(y_test, predictions, squared=False), 1), \n",
    "            round(fit_time - start_time, 1), \n",
    "            round(prediction_time - fit_time, 5)\n",
    "           )\n",
    "    "
   ]
  },
  {
   "cell_type": "code",
   "execution_count": 45,
   "metadata": {},
   "outputs": [],
   "source": [
    "# Результаты (RMSE, время обучения и предсказания) будем записывать в датафрейм для дальнейшего анализа\n",
    "results_df = pd.DataFrame(columns=['RMSE', 'fit_time', 'predict_time'])"
   ]
  },
  {
   "cell_type": "markdown",
   "metadata": {},
   "source": [
    "### Линейная регрессия\n",
    "\n",
    "Проверим работу модели с типами преобразования категориальных признаков OE и OHE."
   ]
  },
  {
   "cell_type": "code",
   "execution_count": 46,
   "metadata": {},
   "outputs": [
    {
     "data": {
      "text/html": [
       "<div>\n",
       "<style scoped>\n",
       "    .dataframe tbody tr th:only-of-type {\n",
       "        vertical-align: middle;\n",
       "    }\n",
       "\n",
       "    .dataframe tbody tr th {\n",
       "        vertical-align: top;\n",
       "    }\n",
       "\n",
       "    .dataframe thead th {\n",
       "        text-align: right;\n",
       "    }\n",
       "</style>\n",
       "<table border=\"1\" class=\"dataframe\">\n",
       "  <thead>\n",
       "    <tr style=\"text-align: right;\">\n",
       "      <th></th>\n",
       "      <th>RMSE</th>\n",
       "      <th>fit_time</th>\n",
       "      <th>predict_time</th>\n",
       "    </tr>\n",
       "  </thead>\n",
       "  <tbody>\n",
       "    <tr>\n",
       "      <th>LinearRegression(OHE)</th>\n",
       "      <td>2441.5</td>\n",
       "      <td>21.7</td>\n",
       "      <td>0.00232</td>\n",
       "    </tr>\n",
       "  </tbody>\n",
       "</table>\n",
       "</div>"
      ],
      "text/plain": [
       "                         RMSE  fit_time  predict_time\n",
       "LinearRegression(OHE)  2441.5      21.7       0.00232"
      ]
     },
     "execution_count": 46,
     "metadata": {},
     "output_type": "execute_result"
    }
   ],
   "source": [
    "results_df.loc['LinearRegression(OHE)'] = get_rmse_valid(LinearRegression(), preprocessor_OHE)\n",
    "results_df['LinearRegression(OHE)':]"
   ]
  },
  {
   "cell_type": "code",
   "execution_count": 47,
   "metadata": {},
   "outputs": [
    {
     "data": {
      "text/html": [
       "<div>\n",
       "<style scoped>\n",
       "    .dataframe tbody tr th:only-of-type {\n",
       "        vertical-align: middle;\n",
       "    }\n",
       "\n",
       "    .dataframe tbody tr th {\n",
       "        vertical-align: top;\n",
       "    }\n",
       "\n",
       "    .dataframe thead th {\n",
       "        text-align: right;\n",
       "    }\n",
       "</style>\n",
       "<table border=\"1\" class=\"dataframe\">\n",
       "  <thead>\n",
       "    <tr style=\"text-align: right;\">\n",
       "      <th></th>\n",
       "      <th>RMSE</th>\n",
       "      <th>fit_time</th>\n",
       "      <th>predict_time</th>\n",
       "    </tr>\n",
       "  </thead>\n",
       "  <tbody>\n",
       "    <tr>\n",
       "      <th>LinearRegression(OE)</th>\n",
       "      <td>2790.5</td>\n",
       "      <td>0.1</td>\n",
       "      <td>0.07246</td>\n",
       "    </tr>\n",
       "  </tbody>\n",
       "</table>\n",
       "</div>"
      ],
      "text/plain": [
       "                        RMSE  fit_time  predict_time\n",
       "LinearRegression(OE)  2790.5       0.1       0.07246"
      ]
     },
     "execution_count": 47,
     "metadata": {},
     "output_type": "execute_result"
    }
   ],
   "source": [
    "results_df.loc['LinearRegression(OE)'] = get_rmse_valid(LinearRegression(), preprocessor_OE)\n",
    "results_df['LinearRegression(OE)':]"
   ]
  },
  {
   "cell_type": "markdown",
   "metadata": {},
   "source": [
    "**Вывод:** В линейной регрессии, тип кодирования влияет на скорость и точность работы модели. При OHE выше точность, но ниже скорость. При способе кодирования OE наоборот."
   ]
  },
  {
   "cell_type": "markdown",
   "metadata": {},
   "source": [
    "### Дерево решений\n",
    "\n",
    "Проверим работу модели с типами преобразования категориальных признаков OE и OHE."
   ]
  },
  {
   "cell_type": "code",
   "execution_count": 48,
   "metadata": {},
   "outputs": [
    {
     "data": {
      "text/html": [
       "<div>\n",
       "<style scoped>\n",
       "    .dataframe tbody tr th:only-of-type {\n",
       "        vertical-align: middle;\n",
       "    }\n",
       "\n",
       "    .dataframe tbody tr th {\n",
       "        vertical-align: top;\n",
       "    }\n",
       "\n",
       "    .dataframe thead th {\n",
       "        text-align: right;\n",
       "    }\n",
       "</style>\n",
       "<table border=\"1\" class=\"dataframe\">\n",
       "  <thead>\n",
       "    <tr style=\"text-align: right;\">\n",
       "      <th></th>\n",
       "      <th>RMSE</th>\n",
       "      <th>fit_time</th>\n",
       "      <th>predict_time</th>\n",
       "    </tr>\n",
       "  </thead>\n",
       "  <tbody>\n",
       "    <tr>\n",
       "      <th>DecisionTreeRegressor(OHE)</th>\n",
       "      <td>1762.7</td>\n",
       "      <td>17.8</td>\n",
       "      <td>0.01002</td>\n",
       "    </tr>\n",
       "  </tbody>\n",
       "</table>\n",
       "</div>"
      ],
      "text/plain": [
       "                              RMSE  fit_time  predict_time\n",
       "DecisionTreeRegressor(OHE)  1762.7      17.8       0.01002"
      ]
     },
     "execution_count": 48,
     "metadata": {},
     "output_type": "execute_result"
    }
   ],
   "source": [
    "results_df.loc['DecisionTreeRegressor(OHE)'] = get_rmse_valid(DecisionTreeRegressor(max_depth=15, random_state=5555),\n",
    "                                                                      preprocessor_OHE)\n",
    "results_df['DecisionTreeRegressor(OHE)':]"
   ]
  },
  {
   "cell_type": "code",
   "execution_count": 49,
   "metadata": {},
   "outputs": [
    {
     "data": {
      "text/html": [
       "<div>\n",
       "<style scoped>\n",
       "    .dataframe tbody tr th:only-of-type {\n",
       "        vertical-align: middle;\n",
       "    }\n",
       "\n",
       "    .dataframe tbody tr th {\n",
       "        vertical-align: top;\n",
       "    }\n",
       "\n",
       "    .dataframe thead th {\n",
       "        text-align: right;\n",
       "    }\n",
       "</style>\n",
       "<table border=\"1\" class=\"dataframe\">\n",
       "  <thead>\n",
       "    <tr style=\"text-align: right;\">\n",
       "      <th></th>\n",
       "      <th>RMSE</th>\n",
       "      <th>fit_time</th>\n",
       "      <th>predict_time</th>\n",
       "    </tr>\n",
       "  </thead>\n",
       "  <tbody>\n",
       "    <tr>\n",
       "      <th>DecisionTreeRegressor(OE)</th>\n",
       "      <td>1803.6</td>\n",
       "      <td>1.5</td>\n",
       "      <td>0.01307</td>\n",
       "    </tr>\n",
       "  </tbody>\n",
       "</table>\n",
       "</div>"
      ],
      "text/plain": [
       "                             RMSE  fit_time  predict_time\n",
       "DecisionTreeRegressor(OE)  1803.6       1.5       0.01307"
      ]
     },
     "execution_count": 49,
     "metadata": {},
     "output_type": "execute_result"
    }
   ],
   "source": [
    "results_df.loc['DecisionTreeRegressor(OE)'] = get_rmse_valid(DecisionTreeRegressor(max_depth=15, random_state=5555),\n",
    "                                                                     preprocessor_OE)\n",
    "results_df['DecisionTreeRegressor(OE)':]"
   ]
  },
  {
   "cell_type": "markdown",
   "metadata": {},
   "source": [
    "Видно, что вид кодирования категориальных данных на качество данной модели влияет слабо, но сильно влияет на скорость её работы. Так как время обучения данной модели оказалось давольно не большим, произведём подбор гиперпараметров методом поиска по сетке."
   ]
  },
  {
   "cell_type": "code",
   "execution_count": 50,
   "metadata": {},
   "outputs": [
    {
     "name": "stdout",
     "output_type": "stream",
     "text": [
      "Параметры модели: {'max_depth': 13}\n",
      "Лучший RMSE модели: -1821.50222681757\n",
      "CPU times: user 30.6 s, sys: 69.5 ms, total: 30.7 s\n",
      "Wall time: 1min 1s\n"
     ]
    }
   ],
   "source": [
    "%%time\n",
    "# DecisionTreeRegressor с автоподбором параметров\n",
    "parametrs = { 'max_depth':range(5,20)}\n",
    "\n",
    "tree_model = DecisionTreeRegressor()\n",
    "treeCV = GridSearchCV(tree_model, parametrs, scoring='neg_root_mean_squared_error', cv=5)\n",
    "treeCV.fit(preprocessor_OE.fit_transform(features_train), target_train)\n",
    "print('Параметры модели:', treeCV.best_params_)\n",
    "print('Лучший RMSE модели:', treeCV.best_score_)"
   ]
  },
  {
   "cell_type": "code",
   "execution_count": 51,
   "metadata": {},
   "outputs": [
    {
     "data": {
      "text/html": [
       "<div>\n",
       "<style scoped>\n",
       "    .dataframe tbody tr th:only-of-type {\n",
       "        vertical-align: middle;\n",
       "    }\n",
       "\n",
       "    .dataframe tbody tr th {\n",
       "        vertical-align: top;\n",
       "    }\n",
       "\n",
       "    .dataframe thead th {\n",
       "        text-align: right;\n",
       "    }\n",
       "</style>\n",
       "<table border=\"1\" class=\"dataframe\">\n",
       "  <thead>\n",
       "    <tr style=\"text-align: right;\">\n",
       "      <th></th>\n",
       "      <th>RMSE</th>\n",
       "      <th>fit_time</th>\n",
       "      <th>predict_time</th>\n",
       "    </tr>\n",
       "  </thead>\n",
       "  <tbody>\n",
       "    <tr>\n",
       "      <th>DecisionTreeRegressor(OE, best)</th>\n",
       "      <td>1792.3</td>\n",
       "      <td>1.2</td>\n",
       "      <td>0.00954</td>\n",
       "    </tr>\n",
       "  </tbody>\n",
       "</table>\n",
       "</div>"
      ],
      "text/plain": [
       "                                   RMSE  fit_time  predict_time\n",
       "DecisionTreeRegressor(OE, best)  1792.3       1.2       0.00954"
      ]
     },
     "execution_count": 51,
     "metadata": {},
     "output_type": "execute_result"
    }
   ],
   "source": [
    "results_df.loc['DecisionTreeRegressor(OE, best)'] = get_rmse_valid(DecisionTreeRegressor(max_depth=13, random_state=5555),\n",
    "                                                                     preprocessor_OE)\n",
    "results_df['DecisionTreeRegressor(OE, best)':]"
   ]
  },
  {
   "cell_type": "markdown",
   "metadata": {},
   "source": [
    "**Вывод:** Для данной модели тип кодирования слабо влияет на качество, но сильно влияет на скорость обучения. Оптимальный способ кодирования для моделей основанных на деревьях - OrdinalEncoder."
   ]
  },
  {
   "cell_type": "markdown",
   "metadata": {},
   "source": [
    "### Случайный лес\n",
    "\n",
    "Для случайного леса применим метод кодирования OrdinalEncoder."
   ]
  },
  {
   "cell_type": "code",
   "execution_count": 52,
   "metadata": {},
   "outputs": [
    {
     "data": {
      "text/html": [
       "<div>\n",
       "<style scoped>\n",
       "    .dataframe tbody tr th:only-of-type {\n",
       "        vertical-align: middle;\n",
       "    }\n",
       "\n",
       "    .dataframe tbody tr th {\n",
       "        vertical-align: top;\n",
       "    }\n",
       "\n",
       "    .dataframe thead th {\n",
       "        text-align: right;\n",
       "    }\n",
       "</style>\n",
       "<table border=\"1\" class=\"dataframe\">\n",
       "  <thead>\n",
       "    <tr style=\"text-align: right;\">\n",
       "      <th></th>\n",
       "      <th>RMSE</th>\n",
       "      <th>fit_time</th>\n",
       "      <th>predict_time</th>\n",
       "    </tr>\n",
       "  </thead>\n",
       "  <tbody>\n",
       "    <tr>\n",
       "      <th>RandomForestRegressor(OE)</th>\n",
       "      <td>1548.0</td>\n",
       "      <td>157.3</td>\n",
       "      <td>7.50045</td>\n",
       "    </tr>\n",
       "  </tbody>\n",
       "</table>\n",
       "</div>"
      ],
      "text/plain": [
       "                             RMSE  fit_time  predict_time\n",
       "RandomForestRegressor(OE)  1548.0     157.3       7.50045"
      ]
     },
     "execution_count": 52,
     "metadata": {},
     "output_type": "execute_result"
    }
   ],
   "source": [
    "results_df.loc['RandomForestRegressor(OE)'] = get_rmse_valid(RandomForestRegressor(max_depth=15, \n",
    "                                                                                   n_estimators=100, \n",
    "                                                                                   random_state=5555),\n",
    "                                                         preprocessor_OE)\n",
    "results_df['RandomForestRegressor(OE)':]"
   ]
  },
  {
   "cell_type": "markdown",
   "metadata": {},
   "source": [
    "Произведём поиск оптимальных гиперпараметров методом случайного поиска."
   ]
  },
  {
   "cell_type": "code",
   "execution_count": null,
   "metadata": {},
   "outputs": [],
   "source": [
    "%%time\n",
    "# RandomForest с автоподбором параметров\n",
    "parametrs = { 'n_estimators': range (80, 121, 10),\n",
    "              'max_depth': range (10,21,2)}\n",
    "\n",
    "rfr_r_model = RandomForestRegressor(random_state=5555)\n",
    "randCV_rfr = RandomizedSearchCV(rfr_r_model, \n",
    "                                parametrs, \n",
    "                                scoring='neg_root_mean_squared_error', \n",
    "                                cv=4, \n",
    "                                n_iter=5, \n",
    "                                random_state=5555\n",
    "                                )\n",
    "randCV_rfr.fit(preprocessor_OE.fit_transform(features_train), target_train)\n",
    "print('Параметры модели:', randCV_rfr.best_params_)\n",
    "print('Лучший RMSE модели:', randCV_rfr.best_score_)"
   ]
  },
  {
   "cell_type": "code",
   "execution_count": null,
   "metadata": {},
   "outputs": [],
   "source": [
    "results_df.loc['RandomForestRegressor(OE, best)'] = get_rmse_valid(RandomForestRegressor(max_depth=20, \n",
    "                                                                               n_estimators=80, \n",
    "                                                                               random_state=5555),\n",
    "                                                    preprocessor_OE)\n",
    "results_df['RandomForestRegressor(OE, best)':]"
   ]
  },
  {
   "cell_type": "markdown",
   "metadata": {},
   "source": [
    "**Вывод:** Модель случайного леса показывает хорошую точность, но время обучения и предсказания самое большое из рассмотренных моделей."
   ]
  },
  {
   "cell_type": "markdown",
   "metadata": {},
   "source": [
    "### Градиентный бустинг LGBM\n",
    "\n",
    "Проверим работу модели без преобразования категориальных признаков и с типами преобразования OE и OHE."
   ]
  },
  {
   "cell_type": "code",
   "execution_count": null,
   "metadata": {},
   "outputs": [],
   "source": [
    "results_df.loc['LGBMRegressor(def)'] = get_rmse_valid(LGBMRegressor(n_estimators=100, learning_rate=0.1, random_state=5555))\n",
    "results_df['LGBMRegressor(def)':]"
   ]
  },
  {
   "cell_type": "code",
   "execution_count": null,
   "metadata": {
    "scrolled": true
   },
   "outputs": [],
   "source": [
    "results_df.loc['LGBMRegressor(OE)'] = get_rmse_valid(LGBMRegressor(n_estimators=100, learning_rate=0.1, random_state=5555),\n",
    "                                                     preprocessor_OE)\n",
    "results_df['LGBMRegressor(OE)':]"
   ]
  },
  {
   "cell_type": "code",
   "execution_count": null,
   "metadata": {},
   "outputs": [],
   "source": [
    "results_df.loc['LGBMRegressor(OHE)'] = get_rmse_valid(LGBMRegressor(n_estimators=100, learning_rate=0.1, random_state=5555),\n",
    "                                                      preprocessor_OHE)\n",
    "results_df['LGBMRegressor(OHE)':]"
   ]
  },
  {
   "cell_type": "markdown",
   "metadata": {},
   "source": [
    "Для модели LGBMRegressor кодирование категориальных признаков лучше не применять. С собственным алгоритмом кодирования признаков модель работает лучше. Применим поиск оптимальных гиперпараметров. "
   ]
  },
  {
   "cell_type": "code",
   "execution_count": null,
   "metadata": {},
   "outputs": [],
   "source": [
    "%%time\n",
    "# LGBMRegressor с автоподбором параметров\n",
    "parametrs = { 'n_estimators': range(80, 121, 10),\n",
    "              'learning_rate': [0.01, 0.05, 0.1, 0.2]\n",
    "            }\n",
    "\n",
    "lgbm_r_model = LGBMRegressor(random_state=5555)\n",
    "randCV_lgbm = RandomizedSearchCV(lgbm_r_model, \n",
    "                                 parametrs, \n",
    "                                 scoring='neg_root_mean_squared_error', \n",
    "                                 cv=4,\n",
    "                                 n_iter=5,\n",
    "                                 random_state=5555\n",
    "                                 )\n",
    "randCV_lgbm.fit(features_train, target_train)\n",
    "print('Параметры модели:', randCV_lgbm.best_params_)\n",
    "print('Лучший RMSE модели:', randCV_lgbm.best_score_)"
   ]
  },
  {
   "cell_type": "code",
   "execution_count": null,
   "metadata": {},
   "outputs": [],
   "source": [
    "results_df.loc['LGBMRegressor(best)'] = get_rmse_valid(LGBMRegressor(n_estimators=120, \n",
    "                                                                     learning_rate=0.1, \n",
    "                                                                     random_state=5555)\n",
    "                                                        )\n",
    "results_df['LGBMRegressor(best)':]"
   ]
  },
  {
   "cell_type": "markdown",
   "metadata": {},
   "source": [
    "**Вывод:** Модель LGBMRegressor показывает высокую точность работы. Из особенностей её работы можно отметить, что она работает лучше без кодирования категориальныз признаков."
   ]
  },
  {
   "cell_type": "markdown",
   "metadata": {},
   "source": [
    "### Градиентный бустинг CatBoost\n",
    "\n",
    "Проверим работу модели без преобразования категориальных признаков и с типами преобразования OE и OHE."
   ]
  },
  {
   "cell_type": "code",
   "execution_count": null,
   "metadata": {},
   "outputs": [],
   "source": [
    "# Модель без преобразования категориальных признаков\n",
    "results_df.loc['CatBoostRegressor(def)'] = get_rmse_valid(CatBoostRegressor(silent = True, random_state=5555))\n",
    "results_df['CatBoostRegressor(def)':]"
   ]
  },
  {
   "cell_type": "code",
   "execution_count": null,
   "metadata": {},
   "outputs": [],
   "source": [
    "# Модель с преобразованием категориальных признаков OE\n",
    "results_df.loc['CatBoostRegressor(def, OE)'] = get_rmse_valid(CatBoostRegressor(silent = True, random_state=5555),\n",
    "                                                               preprocessor_OE)\n",
    "results_df['CatBoostRegressor(def, OE)':]"
   ]
  },
  {
   "cell_type": "code",
   "execution_count": null,
   "metadata": {},
   "outputs": [],
   "source": [
    "# Модель с преобразованием категориальных признаков OHE\n",
    "results_df.loc['CatBoostRegressor(def, OHE)'] = get_rmse_valid(CatBoostRegressor(silent = True, random_state=5555),\n",
    "                                                               preprocessor_OHE)\n",
    "results_df['CatBoostRegressor(def, OHE)':]"
   ]
  },
  {
   "cell_type": "markdown",
   "metadata": {},
   "source": [
    "Как видно, при обучении модели на данных без преобразования категориальных признаков, качество и скорость работы гораздо хуже чем при предварительном преобразовании. Так как время обучения модели CatBoost оказалось давольно не большим, произведём подбор гиперпараметров методом случайного поиска."
   ]
  },
  {
   "cell_type": "code",
   "execution_count": null,
   "metadata": {},
   "outputs": [],
   "source": [
    "%%time\n",
    "# CatBoost с автоподбором параметров\n",
    "parametrs = { 'l2_leaf_reg': randint(1,10),\n",
    "              'learning_rate': [0.01, 0.02, 0.05, 0.08, 0.1, 0.2, 0.5, 0.8, 1],\n",
    "               'depth' : randint(1,10)}\n",
    "\n",
    "cat_r_model = CatBoostRegressor(iterations=200, silent=True)\n",
    "randCV_cat = RandomizedSearchCV(cat_r_model, \n",
    "                                parametrs, \n",
    "                                scoring='neg_root_mean_squared_error', \n",
    "                                cv=4, \n",
    "                                n_iter=8, \n",
    "                                random_state=5555)\n",
    "randCV_cat.fit(preprocessor_OHE.fit_transform(features_train), target_train)\n",
    "print('Параметры модели:', randCV_cat.best_params_)\n",
    "print('Лучший RMSE модели:', randCV_cat.best_score_)"
   ]
  },
  {
   "cell_type": "code",
   "execution_count": null,
   "metadata": {
    "scrolled": false
   },
   "outputs": [],
   "source": [
    "# Модель с параметрами по результату подбора\n",
    "results_df.loc['CatBoostRegressor(OHE, best)'] = get_rmse_valid(CatBoostRegressor(depth=6, \n",
    "                                                                       l2_leaf_reg=4, \n",
    "                                                                       learning_rate=0.08, \n",
    "                                                                       iterations=1000, \n",
    "                                                                       silent = True, \n",
    "                                                                       random_state=5555),\n",
    "                                                    preprocessor_OHE)\n",
    "results_df['CatBoostRegressor(OHE, best)':]"
   ]
  },
  {
   "cell_type": "markdown",
   "metadata": {},
   "source": [
    "**Вывод:** Модель CatBoostRegressor может работать на данных без предварительной обработки категориальныз данных, но время обучения и прогнозирования при этом значительно увеличивается. Данная модель хорошо работает с гиперпараметрами по умолчанию. Также, она работает гораздо быстрее если категориальные признаки предварительно преобразовать."
   ]
  },
  {
   "cell_type": "markdown",
   "metadata": {},
   "source": [
    "**Вывод по разделу**\n",
    "\n",
    "Произведёно обучение моделей машинного обучения: Линейная регрессия, Дерево решений, Случайный лес, LGBMRegressor, CatBoostRegressor. Также к данным поступающим в модель для обучения были применены разные способы преобразования категориальных признаков. \n",
    "\n",
    "**Анализ способов преобразования категориальных признаков:**\n",
    "- Метод OneHotEncoder: Лучше применять в модели линейной регрессии - увеличивает её качество. \n",
    "- Метод OrdinalEncoder: Лучше применять в моделях основанных на деревьях. Этот метод практически не изменяет качество, но значительно уменьшает время обучения и предсказания.\n",
    "- Без преобразования категориальных признаков могут работать бустинговые модели CatBoostRegressor и LGBMRegressor. Для модели LGBMRegressor лучше не преобразовывать признаки - это увеличивает качество модели, а для модели CatBoostRegressor лучше предварительно применять преобразование для уменьшения времени работы. \n",
    "\n",
    "Анализ качества моделей, времени обучения и прогнозирования произведём в следующем разделе."
   ]
  },
  {
   "cell_type": "markdown",
   "metadata": {},
   "source": [
    "## Анализ моделей\n",
    "\n",
    "Проанализируем качество моделей, скорость обучения и прогнозирования. Для этого:\n",
    "1. Выведем информацию, по каждой обученной модели в табличном и графическом виде;\n",
    "2. Протестируем лучшие модели на тестовой выборке и сравним с константной моделью;\n",
    "3. Проанализируем важность признаков."
   ]
  },
  {
   "cell_type": "markdown",
   "metadata": {},
   "source": [
    "### Анализ обученных моделей"
   ]
  },
  {
   "cell_type": "code",
   "execution_count": null,
   "metadata": {},
   "outputs": [],
   "source": [
    "results_df"
   ]
  },
  {
   "cell_type": "code",
   "execution_count": null,
   "metadata": {},
   "outputs": [],
   "source": [
    "# Построение графика качества модели и времени обучения\n",
    "ax = results_df['RMSE'].sort_values().plot(kind='bar', figsize=(16,6))\n",
    "ax.set_title('Качество моделей', fontsize=16)\n",
    "ax.set(ylabel='RMSE', xlabel= 'модель')\n",
    "plt.show;"
   ]
  },
  {
   "cell_type": "markdown",
   "metadata": {},
   "source": [
    "**Анализ качества моделей:** Качество моделей LGBMRegressor, CatBoostRegressor и RandomForestRegressor находится на одном уровне с RMSE = 1285-1325. Качество моделей LinearRegression и DecisionTreeRegressor заметно хуже."
   ]
  },
  {
   "cell_type": "code",
   "execution_count": null,
   "metadata": {},
   "outputs": [],
   "source": [
    "# Построение графика качества модели и времени обучения\n",
    "ax = results_df['fit_time'].sort_values().plot(kind='bar', \n",
    "                                               figsize=(16,6),\n",
    "                                               color='g')\n",
    "ax.set_title('Время обучения', fontsize=16)\n",
    "ax.set(ylabel='время', xlabel= 'модель')\n",
    "plt.show;"
   ]
  },
  {
   "cell_type": "markdown",
   "metadata": {},
   "source": [
    "**Анализ времени обучения моделей:** Лучшее время обучения показывают простые модели: LinearRegression и DecisionTreeRegressor. Среднее время обучения у бустинговых моделей LGBMRegressor, CatBoostRegressor. Самое большое время обучения у модели RandomForestRegressor и CatBoostRegressor без преобразования категориальных признаков."
   ]
  },
  {
   "cell_type": "code",
   "execution_count": null,
   "metadata": {},
   "outputs": [],
   "source": [
    "# Построение графика качества модели и времени обучения\n",
    "ax = results_df['predict_time'].sort_values().plot(kind='bar', \n",
    "                                                   figsize=(16,6),\n",
    "                                                   color='r')\n",
    "ax.set_title('Время прогнозирования', fontsize=16)\n",
    "ax.set(ylabel='время', xlabel= 'модель')\n",
    "plt.show;"
   ]
  },
  {
   "cell_type": "markdown",
   "metadata": {},
   "source": [
    "**Анализ времени прогнозирования:** Время прогнозирования корелирует с временем обучения, с той лишь разницей, что LGBMRegressor и CatBoostRegressor поменялись местами. У CatBoostRegressor меньшее время прогнозирования чем у LGBMRegressor. Минимальное время у LinearRegression и DecisionTreeRegressor, максимальное у RandomForestRegressor."
   ]
  },
  {
   "cell_type": "markdown",
   "metadata": {},
   "source": [
    "**Вывод**\n",
    "\n",
    "Таким образом, выбор модели для запуска в производство необходимо обсуждать с заказчиком. Если в приоритете точность, то необходимо выбирать между моделями бустинга - LGBMRegressor и CatBoostRegressor. Если в приоритете время обучения и прогнозирования, то выбор необходимо производить между LinearRegression и DecisionTreeRegressor. На мой взгляд, хорошим компромисным выбором может быть выбор между двумя бустинговыми моделями. Они показывают хорошую точность и время обучения и предсказания не большое."
   ]
  },
  {
   "cell_type": "markdown",
   "metadata": {},
   "source": [
    "### Тестирование лучшеих моделей\n",
    "\n",
    "Протестируем на тестовой выборке модели показавшие лучшие показатели по качеству и по времени работы:\n",
    "- CatBoostRegressor;\n",
    "- LGBMRegressor;\n",
    "- DecisionTreeRegressor.\n",
    "\n",
    "Также, сравним их работу с фиктивной моделью."
   ]
  },
  {
   "cell_type": "code",
   "execution_count": null,
   "metadata": {},
   "outputs": [],
   "source": [
    "# Результаты (RMSE и время обучения) будем записывать в датафрейм для дальнейшего анализа\n",
    "test_results = pd.DataFrame(columns=['RMSE', 'fit_time', 'predict_time'])\n",
    "# обеденим тренировочную и валидационные выборки\n",
    "features_tv = features_train.append(features_valid)\n",
    "target_tv = target_train.append(target_valid)"
   ]
  },
  {
   "cell_type": "code",
   "execution_count": null,
   "metadata": {},
   "outputs": [],
   "source": [
    "test_results.loc['DecisionTreeRegressor'] = get_rmse_valid(DecisionTreeRegressor(max_depth=13, random_state=5555),\n",
    "                                                           preprocessor_OE,\n",
    "                                                           features_tv, target_tv, features_test, target_test)\n",
    "\n",
    "test_results.loc['LGBMRegressor'] = get_rmse_valid(LGBMRegressor(n_estimators=120, learning_rate=0.1, random_state=5555),\n",
    "                                                   preprocessor_null,\n",
    "                                                   features_tv, target_tv, features_test, target_test)\n",
    "\n",
    "test_results.loc['CatBoostRegressor'] = get_rmse_valid(CatBoostRegressor(silent = True, random_state=5555),\n",
    "                                                       preprocessor_OHE,\n",
    "                                                       features_tv, target_tv, features_test, target_test)\n",
    "\n",
    "test_results.loc['DummyRegressor'] = get_rmse_valid(DummyRegressor(strategy='mean'),\n",
    "                                                    preprocessor_null,\n",
    "                                                    features_tv, target_tv, features_test, target_test)\n",
    "test_results"
   ]
  },
  {
   "cell_type": "code",
   "execution_count": null,
   "metadata": {},
   "outputs": [],
   "source": [
    "# Построение графика качества модели и времени обучения\n",
    "ax = test_results['RMSE'].sort_values().plot(kind='bar', figsize=(16,6))\n",
    "ax.set_title('Качество моделей', fontsize=16)\n",
    "ax.set(ylabel='RMSE', xlabel= 'модель')\n",
    "plt.show;"
   ]
  },
  {
   "cell_type": "markdown",
   "metadata": {},
   "source": [
    "**Анализ качества моделей:** Качество работы моделей на тестовой выборке соответствует качеству работы на валидационной выборке. Все тестируемые модели выдерживают проверкуу на адекватность в сравнении с константной моделью."
   ]
  },
  {
   "cell_type": "code",
   "execution_count": null,
   "metadata": {},
   "outputs": [],
   "source": [
    "# Построение графика качества модели и времени обучения\n",
    "ax = test_results['fit_time'].sort_values().plot(kind='bar', \n",
    "                                               figsize=(16,6),\n",
    "                                               color='g')\n",
    "ax.set_title('Время обучения', fontsize=16)\n",
    "ax.set(ylabel='время', xlabel= 'модель')\n",
    "plt.show;"
   ]
  },
  {
   "cell_type": "markdown",
   "metadata": {},
   "source": [
    "**Анализ времени обучения моделей:** Время обучения моделей на тестовой выборке соответствует качеству работы на валидационной выборке. Однако на нескольких прогонах, модель LGBMRegressor показывала разное время работ. Разброс времени составлял от 5 секунд до 1.5 минут. Из этого можно сделать вывод, что данная модель может работать не стабильно по времени."
   ]
  },
  {
   "cell_type": "code",
   "execution_count": null,
   "metadata": {},
   "outputs": [],
   "source": [
    "# Построение графика качества модели и времени обучения\n",
    "ax = test_results['predict_time'].sort_values().plot(kind='bar', \n",
    "                                                   figsize=(16,6),\n",
    "                                                   color='r')\n",
    "ax.set_title('Время прогнозирования', fontsize=16)\n",
    "ax.set(ylabel='время', xlabel= 'модель')\n",
    "plt.show;"
   ]
  },
  {
   "cell_type": "markdown",
   "metadata": {},
   "source": [
    "**Анализ времени прогнозирования:** По времени прогнозирования ситуация полностью повторяет ситуацию с анализом времени обучения. корелирует с временем обучения. Время прогнозирования модели LGBMRegressor также, может быть не стабильным на разных прогонах программы."
   ]
  },
  {
   "cell_type": "markdown",
   "metadata": {},
   "source": [
    "**Вывод**\n",
    "\n",
    "Проверка моделей на тестовой выборке подтверждает результаты анализа всех моделей. Однако, модель LightGBM может показывать неожиданно большое время обучения и прогнозирования. Это говорит о том, что у данной модели не стабильное время работы, и её я бы не стал рекомендовать к внедрению, если время обучения и прогнозирования имеет приоритетную важность. Сравнение работы моделей с константной моделью, показывает адекватность их работы."
   ]
  },
  {
   "cell_type": "markdown",
   "metadata": {},
   "source": [
    "### Анализ важности признаков.\n",
    "\n",
    "Проанализируем, какие признаки вносят наибольший вклад в качество модели на примере модели дерева решений."
   ]
  },
  {
   "cell_type": "code",
   "execution_count": null,
   "metadata": {},
   "outputs": [],
   "source": [
    "tree_model = DecisionTreeRegressor(max_depth=13, random_state=5555)\n",
    "\n",
    "# Обучение модели\n",
    "tree_model.fit(preprocessor_OE.fit_transform(features_train), target_train)\n",
    "# Выделим признаки\n",
    "efectiv_score = pd.DataFrame(data={'score': tree_model.feature_importances_}, \n",
    "                            index=features_train.columns).sort_values(by='score')\n",
    "# Выведем их на экран\n",
    "ax = efectiv_score.plot(kind='barh', grid=True, figsize=(6,8), legend=False);\n",
    "ax.set_title(\"Важность признаков\", fontsize=16)\n",
    "ax.set_ylabel(\"признаки\")\n",
    "ax.set_xlabel(\"score\")\n",
    "plt.show;"
   ]
  },
  {
   "cell_type": "markdown",
   "metadata": {},
   "source": [
    "**Вывод:** Наибольшую важность, применительно к обучению модели прогнозирования цены автомобиля, имеют год регистрации, мощьность двигателя и пробег. Брэнд, модель и тип кузова не так важны, а тип топлива, месяц регистрации и тип коробки передач мало влияют на результат работы модели. Эта информация поможет обратить внимание заказчика на необходимость качественного сбора данных и подготовки датасета для оптимальной работы созданной модели."
   ]
  },
  {
   "cell_type": "markdown",
   "metadata": {},
   "source": [
    "**Вывод по разделу**\n",
    "\n",
    "Произведён анализ качества и времени обучения моделей. Произведено тестирование моделей на тестовой выборке и сравнение их работы с константной моделью. По результатм анализа можно сделать вывод, что созданные модели показали качество гораздо лучше константной модели. Модель LightGBMRegressor показала хорошую точность, но не стабильность времени работы, оно может быть как малым так и сильно большим. \n",
    "\n",
    "Окончательный выбор модели необходимо делать между моделями CatBoostRegressor и DecisionTreeRegressor в зависимости от предпочтения точности или времени работы."
   ]
  },
  {
   "cell_type": "markdown",
   "metadata": {},
   "source": [
    "**Вывод по проекту**\n",
    "\n",
    "На этапе подготовки данных произвели анализ данных. Выяснилось, что рассматриваемый сервис по продаже автомобилей ориентирован на рынок европы и северной америки. Ценовой диапазон большинства продаваемых на сервисе автомобилей лежит в пределах от 1000 до 6500.Основные пользователи сервиса - люди с низкими и средними доходами. В объявлениях присутсвуют практически все брэнды основных автопроизводителей, однако наиболее популярны на сервисе автомобиле европейских производителей.\n",
    "По результатам анализа данных произвели предобработку данных и подготовку выборок к построению моделей.\n",
    "\n",
    "На этапе обучения моделей было произведено обучение различных моделей, предсказывающих цену автомобиля. Обученные модели: линейная регрессия, дерево решений, случайный лес, бустинги LightGBM и CatBoost. Также, оценили влияние способа кодирования категориальных признаков на качество и время работы моделей. Проанализирована важность признаков.\n",
    "\n",
    "По результату анализа качества обученных моделей и времени их обучения и прогнозирования можно сделать вывод, что выбор модели для запуска в производство необходимо делать из двух моделей: CatBoostRegressor - если в приоритете точность, и DecisionTreeRegressor если важнее время обучения и прогнозирования."
   ]
  }
 ],
 "metadata": {
  "ExecuteTimeLog": [
   {
    "duration": 1259,
    "start_time": "2022-05-18T14:35:38.612Z"
   },
   {
    "duration": 3045,
    "start_time": "2022-05-18T14:35:42.590Z"
   },
   {
    "duration": 5,
    "start_time": "2022-05-18T14:35:47.199Z"
   },
   {
    "duration": 1152,
    "start_time": "2022-05-18T14:35:48.119Z"
   },
   {
    "duration": 30,
    "start_time": "2022-05-18T14:35:49.273Z"
   },
   {
    "duration": 33,
    "start_time": "2022-05-18T14:35:51.134Z"
   },
   {
    "duration": 34,
    "start_time": "2022-05-18T14:35:51.590Z"
   },
   {
    "duration": 38,
    "start_time": "2022-05-18T14:35:51.875Z"
   },
   {
    "duration": 38,
    "start_time": "2022-05-18T14:35:52.086Z"
   },
   {
    "duration": 29,
    "start_time": "2022-05-18T14:35:52.302Z"
   },
   {
    "duration": 345,
    "start_time": "2022-05-18T14:36:23.038Z"
   },
   {
    "duration": 67,
    "start_time": "2022-05-18T14:36:27.390Z"
   },
   {
    "duration": 237,
    "start_time": "2022-05-18T14:36:32.976Z"
   },
   {
    "duration": 249,
    "start_time": "2022-05-18T14:36:34.742Z"
   },
   {
    "duration": 12,
    "start_time": "2022-05-18T14:36:39.386Z"
   },
   {
    "duration": 94,
    "start_time": "2022-05-18T14:36:42.638Z"
   },
   {
    "duration": 147,
    "start_time": "2022-05-18T14:38:08.098Z"
   },
   {
    "duration": 66,
    "start_time": "2022-05-18T14:38:20.887Z"
   },
   {
    "duration": 13,
    "start_time": "2022-05-18T14:38:36.110Z"
   },
   {
    "duration": 7,
    "start_time": "2022-05-18T14:38:37.502Z"
   },
   {
    "duration": 117,
    "start_time": "2022-05-18T14:38:39.167Z"
   },
   {
    "duration": 8,
    "start_time": "2022-05-18T14:38:40.096Z"
   },
   {
    "duration": 31,
    "start_time": "2022-05-18T14:38:40.590Z"
   },
   {
    "duration": 5,
    "start_time": "2022-05-18T14:38:43.335Z"
   },
   {
    "duration": 6,
    "start_time": "2022-05-18T14:38:43.663Z"
   },
   {
    "duration": 46,
    "start_time": "2022-05-18T14:38:46.422Z"
   },
   {
    "duration": 13,
    "start_time": "2022-05-18T14:38:48.231Z"
   },
   {
    "duration": 79,
    "start_time": "2022-05-18T14:38:52.623Z"
   },
   {
    "duration": 3,
    "start_time": "2022-05-18T14:38:56.247Z"
   },
   {
    "duration": 76,
    "start_time": "2022-05-18T15:33:27.081Z"
   },
   {
    "duration": 26,
    "start_time": "2022-05-18T15:34:28.706Z"
   },
   {
    "duration": 3,
    "start_time": "2022-05-18T15:58:57.938Z"
   },
   {
    "duration": 60,
    "start_time": "2022-05-18T15:59:51.471Z"
   },
   {
    "duration": 3,
    "start_time": "2022-05-18T16:00:14.792Z"
   },
   {
    "duration": 3,
    "start_time": "2022-05-18T16:01:18.338Z"
   },
   {
    "duration": 115,
    "start_time": "2022-05-18T16:19:47.714Z"
   },
   {
    "duration": 17,
    "start_time": "2022-05-18T16:20:42.184Z"
   },
   {
    "duration": 458,
    "start_time": "2022-05-18T16:22:46.201Z"
   },
   {
    "duration": 39,
    "start_time": "2022-05-18T16:23:57.331Z"
   },
   {
    "duration": 81,
    "start_time": "2022-05-18T16:24:12.737Z"
   },
   {
    "duration": 97,
    "start_time": "2022-05-18T16:24:57.426Z"
   },
   {
    "duration": 97,
    "start_time": "2022-05-18T16:25:39.691Z"
   },
   {
    "duration": 89,
    "start_time": "2022-05-18T16:26:02.460Z"
   },
   {
    "duration": 92,
    "start_time": "2022-05-18T16:26:31.481Z"
   },
   {
    "duration": 90,
    "start_time": "2022-05-18T16:27:19.198Z"
   },
   {
    "duration": 93,
    "start_time": "2022-05-18T16:27:39.857Z"
   },
   {
    "duration": 111,
    "start_time": "2022-05-18T16:27:48.602Z"
   },
   {
    "duration": 98,
    "start_time": "2022-05-18T16:28:19.898Z"
   },
   {
    "duration": 88,
    "start_time": "2022-05-18T16:28:27.404Z"
   },
   {
    "duration": 96,
    "start_time": "2022-05-18T16:31:00.371Z"
   },
   {
    "duration": 6,
    "start_time": "2022-05-18T16:38:34.749Z"
   },
   {
    "duration": 5,
    "start_time": "2022-05-18T16:38:47.181Z"
   },
   {
    "duration": 5,
    "start_time": "2022-05-18T16:39:02.367Z"
   },
   {
    "duration": 5,
    "start_time": "2022-05-18T16:41:38.909Z"
   },
   {
    "duration": 5,
    "start_time": "2022-05-18T16:41:39.420Z"
   },
   {
    "duration": 6,
    "start_time": "2022-05-18T16:42:10.166Z"
   },
   {
    "duration": 5,
    "start_time": "2022-05-18T16:42:11.302Z"
   },
   {
    "duration": 11,
    "start_time": "2022-05-18T16:47:48.705Z"
   },
   {
    "duration": 6,
    "start_time": "2022-05-18T16:57:56.163Z"
   },
   {
    "duration": 9,
    "start_time": "2022-05-18T16:58:12.666Z"
   },
   {
    "duration": 28,
    "start_time": "2022-05-18T16:58:17.314Z"
   },
   {
    "duration": 1436,
    "start_time": "2022-05-18T18:00:23.500Z"
   },
   {
    "duration": 1224,
    "start_time": "2022-05-18T18:00:26.408Z"
   },
   {
    "duration": 6,
    "start_time": "2022-05-18T18:00:27.634Z"
   },
   {
    "duration": 1306,
    "start_time": "2022-05-18T18:00:27.642Z"
   },
   {
    "duration": 43,
    "start_time": "2022-05-18T18:00:28.950Z"
   },
   {
    "duration": 55,
    "start_time": "2022-05-18T18:00:28.995Z"
   },
   {
    "duration": 43,
    "start_time": "2022-05-18T18:00:29.051Z"
   },
   {
    "duration": 45,
    "start_time": "2022-05-18T18:00:29.096Z"
   },
   {
    "duration": 39,
    "start_time": "2022-05-18T18:00:29.144Z"
   },
   {
    "duration": 49,
    "start_time": "2022-05-18T18:00:29.184Z"
   },
   {
    "duration": 408,
    "start_time": "2022-05-18T18:00:46.573Z"
   },
   {
    "duration": 85,
    "start_time": "2022-05-18T18:00:47.101Z"
   },
   {
    "duration": 179,
    "start_time": "2022-05-18T18:00:51.815Z"
   },
   {
    "duration": 283,
    "start_time": "2022-05-18T18:00:52.888Z"
   },
   {
    "duration": 13,
    "start_time": "2022-05-18T18:00:54.326Z"
   },
   {
    "duration": 92,
    "start_time": "2022-05-18T18:00:57.511Z"
   },
   {
    "duration": 145,
    "start_time": "2022-05-18T18:00:59.733Z"
   },
   {
    "duration": 73,
    "start_time": "2022-05-18T18:01:01.537Z"
   },
   {
    "duration": 13,
    "start_time": "2022-05-18T18:01:11.078Z"
   },
   {
    "duration": 8,
    "start_time": "2022-05-18T18:01:17.119Z"
   },
   {
    "duration": 138,
    "start_time": "2022-05-18T18:01:18.409Z"
   },
   {
    "duration": 8,
    "start_time": "2022-05-18T18:01:19.343Z"
   },
   {
    "duration": 29,
    "start_time": "2022-05-18T18:01:23.605Z"
   },
   {
    "duration": 385,
    "start_time": "2022-05-18T18:02:42.568Z"
   },
   {
    "duration": 54,
    "start_time": "2022-05-18T18:39:08.208Z"
   },
   {
    "duration": 1262,
    "start_time": "2022-05-18T18:39:16.310Z"
   },
   {
    "duration": 1222,
    "start_time": "2022-05-18T18:39:17.573Z"
   },
   {
    "duration": 5,
    "start_time": "2022-05-18T18:39:18.797Z"
   },
   {
    "duration": 1188,
    "start_time": "2022-05-18T18:39:18.804Z"
   },
   {
    "duration": 31,
    "start_time": "2022-05-18T18:39:19.993Z"
   },
   {
    "duration": 64,
    "start_time": "2022-05-18T18:39:20.026Z"
   },
   {
    "duration": 46,
    "start_time": "2022-05-18T18:39:20.092Z"
   },
   {
    "duration": 43,
    "start_time": "2022-05-18T18:39:20.140Z"
   },
   {
    "duration": 45,
    "start_time": "2022-05-18T18:39:20.193Z"
   },
   {
    "duration": 54,
    "start_time": "2022-05-18T18:39:20.249Z"
   },
   {
    "duration": 337,
    "start_time": "2022-05-18T18:39:20.305Z"
   },
   {
    "duration": 92,
    "start_time": "2022-05-18T18:39:20.644Z"
   },
   {
    "duration": 149,
    "start_time": "2022-05-18T18:39:20.737Z"
   },
   {
    "duration": 233,
    "start_time": "2022-05-18T18:39:20.888Z"
   },
   {
    "duration": 13,
    "start_time": "2022-05-18T18:39:21.123Z"
   },
   {
    "duration": 86,
    "start_time": "2022-05-18T18:39:21.137Z"
   },
   {
    "duration": 132,
    "start_time": "2022-05-18T18:39:21.225Z"
   },
   {
    "duration": 70,
    "start_time": "2022-05-18T18:39:21.359Z"
   },
   {
    "duration": 13,
    "start_time": "2022-05-18T18:39:21.431Z"
   },
   {
    "duration": 10,
    "start_time": "2022-05-18T18:39:21.446Z"
   },
   {
    "duration": 128,
    "start_time": "2022-05-18T18:39:21.458Z"
   },
   {
    "duration": 7,
    "start_time": "2022-05-18T18:39:21.594Z"
   },
   {
    "duration": 25,
    "start_time": "2022-05-18T18:39:21.603Z"
   },
   {
    "duration": 271,
    "start_time": "2022-05-18T18:39:21.629Z"
   },
   {
    "duration": 5,
    "start_time": "2022-05-18T18:39:21.902Z"
   },
   {
    "duration": 8,
    "start_time": "2022-05-18T18:39:21.909Z"
   },
   {
    "duration": 37,
    "start_time": "2022-05-18T18:39:21.918Z"
   },
   {
    "duration": 261,
    "start_time": "2022-05-18T18:39:25.528Z"
   },
   {
    "duration": 36,
    "start_time": "2022-05-18T18:39:52.962Z"
   },
   {
    "duration": 301,
    "start_time": "2022-05-18T18:39:55.440Z"
   },
   {
    "duration": 52,
    "start_time": "2022-05-18T18:40:03.401Z"
   },
   {
    "duration": 346,
    "start_time": "2022-05-18T18:40:05.864Z"
   },
   {
    "duration": 46,
    "start_time": "2022-05-18T18:40:22.787Z"
   },
   {
    "duration": 334,
    "start_time": "2022-05-18T18:40:25.511Z"
   },
   {
    "duration": 45,
    "start_time": "2022-05-18T18:41:12.673Z"
   },
   {
    "duration": 252,
    "start_time": "2022-05-18T18:41:14.647Z"
   },
   {
    "duration": 452,
    "start_time": "2022-05-18T18:45:08.870Z"
   },
   {
    "duration": 4,
    "start_time": "2022-05-18T18:45:24.980Z"
   },
   {
    "duration": 896,
    "start_time": "2022-05-18T18:45:24.986Z"
   },
   {
    "duration": 5,
    "start_time": "2022-05-18T18:45:25.884Z"
   },
   {
    "duration": 1115,
    "start_time": "2022-05-18T18:45:25.894Z"
   },
   {
    "duration": 61,
    "start_time": "2022-05-18T18:45:27.013Z"
   },
   {
    "duration": 83,
    "start_time": "2022-05-18T18:45:27.076Z"
   },
   {
    "duration": 77,
    "start_time": "2022-05-18T18:45:27.161Z"
   },
   {
    "duration": 38,
    "start_time": "2022-05-18T18:45:27.239Z"
   },
   {
    "duration": 67,
    "start_time": "2022-05-18T18:45:27.293Z"
   },
   {
    "duration": 72,
    "start_time": "2022-05-18T18:45:27.362Z"
   },
   {
    "duration": 352,
    "start_time": "2022-05-18T18:45:27.437Z"
   },
   {
    "duration": 75,
    "start_time": "2022-05-18T18:45:27.791Z"
   },
   {
    "duration": 290,
    "start_time": "2022-05-18T18:45:27.867Z"
   },
   {
    "duration": 286,
    "start_time": "2022-05-18T18:45:28.159Z"
   },
   {
    "duration": 15,
    "start_time": "2022-05-18T18:45:28.447Z"
   },
   {
    "duration": 104,
    "start_time": "2022-05-18T18:45:28.463Z"
   },
   {
    "duration": 155,
    "start_time": "2022-05-18T18:45:28.569Z"
   },
   {
    "duration": 84,
    "start_time": "2022-05-18T18:45:28.726Z"
   },
   {
    "duration": 13,
    "start_time": "2022-05-18T18:45:28.812Z"
   },
   {
    "duration": 9,
    "start_time": "2022-05-18T18:45:28.826Z"
   },
   {
    "duration": 177,
    "start_time": "2022-05-18T18:45:28.837Z"
   },
   {
    "duration": 8,
    "start_time": "2022-05-18T18:45:29.016Z"
   },
   {
    "duration": 39,
    "start_time": "2022-05-18T18:45:29.026Z"
   },
   {
    "duration": 316,
    "start_time": "2022-05-18T18:45:31.056Z"
   },
   {
    "duration": 219,
    "start_time": "2022-05-18T18:45:40.561Z"
   },
   {
    "duration": 293,
    "start_time": "2022-05-18T18:45:45.307Z"
   },
   {
    "duration": 226,
    "start_time": "2022-05-18T18:46:00.540Z"
   },
   {
    "duration": 240,
    "start_time": "2022-05-18T18:46:12.436Z"
   },
   {
    "duration": 318,
    "start_time": "2022-05-18T18:46:20.747Z"
   },
   {
    "duration": 238,
    "start_time": "2022-05-18T18:46:27.180Z"
   },
   {
    "duration": 229,
    "start_time": "2022-05-18T18:46:55.917Z"
   },
   {
    "duration": 255,
    "start_time": "2022-05-18T18:47:03.267Z"
   },
   {
    "duration": 11,
    "start_time": "2022-05-18T18:53:37.765Z"
   },
   {
    "duration": 239,
    "start_time": "2022-05-18T18:58:11.655Z"
   },
   {
    "duration": 414,
    "start_time": "2022-05-18T18:58:27.903Z"
   },
   {
    "duration": 255,
    "start_time": "2022-05-18T18:58:30.880Z"
   },
   {
    "duration": 512,
    "start_time": "2022-05-18T18:58:39.002Z"
   },
   {
    "duration": 9,
    "start_time": "2022-05-18T19:00:58.627Z"
   },
   {
    "duration": 29,
    "start_time": "2022-05-18T19:01:06.591Z"
   },
   {
    "duration": 36,
    "start_time": "2022-05-18T19:02:02.540Z"
   },
   {
    "duration": 30,
    "start_time": "2022-05-18T19:06:58.172Z"
   },
   {
    "duration": 21,
    "start_time": "2022-05-18T19:07:55.811Z"
   },
   {
    "duration": 6,
    "start_time": "2022-05-18T19:15:29.750Z"
   },
   {
    "duration": 57,
    "start_time": "2022-05-18T19:16:02.234Z"
   },
   {
    "duration": 111,
    "start_time": "2022-05-18T19:16:11.435Z"
   },
   {
    "duration": 1374,
    "start_time": "2022-05-19T14:01:54.030Z"
   },
   {
    "duration": 2769,
    "start_time": "2022-05-19T14:01:55.406Z"
   },
   {
    "duration": 5,
    "start_time": "2022-05-19T14:01:58.177Z"
   },
   {
    "duration": 1229,
    "start_time": "2022-05-19T14:01:59.113Z"
   },
   {
    "duration": 37,
    "start_time": "2022-05-19T14:02:00.344Z"
   },
   {
    "duration": 43,
    "start_time": "2022-05-19T14:02:00.383Z"
   },
   {
    "duration": 40,
    "start_time": "2022-05-19T14:02:00.428Z"
   },
   {
    "duration": 50,
    "start_time": "2022-05-19T14:02:00.471Z"
   },
   {
    "duration": 38,
    "start_time": "2022-05-19T14:02:04.514Z"
   },
   {
    "duration": 33,
    "start_time": "2022-05-19T14:02:05.146Z"
   },
   {
    "duration": 342,
    "start_time": "2022-05-19T14:05:25.254Z"
   },
   {
    "duration": 69,
    "start_time": "2022-05-19T14:05:25.597Z"
   },
   {
    "duration": 551,
    "start_time": "2022-05-19T14:05:29.089Z"
   },
   {
    "duration": 248,
    "start_time": "2022-05-19T14:05:30.435Z"
   },
   {
    "duration": 15,
    "start_time": "2022-05-19T14:05:31.418Z"
   },
   {
    "duration": 89,
    "start_time": "2022-05-19T14:05:32.242Z"
   },
   {
    "duration": 152,
    "start_time": "2022-05-19T14:05:35.602Z"
   },
   {
    "duration": 65,
    "start_time": "2022-05-19T14:05:38.369Z"
   },
   {
    "duration": 162,
    "start_time": "2022-05-19T14:06:08.329Z"
   },
   {
    "duration": 326,
    "start_time": "2022-05-19T14:06:17.636Z"
   },
   {
    "duration": 960,
    "start_time": "2022-05-19T14:07:11.100Z"
   },
   {
    "duration": 294,
    "start_time": "2022-05-19T14:07:19.716Z"
   },
   {
    "duration": 80,
    "start_time": "2022-05-19T14:07:20.013Z"
   },
   {
    "duration": 142,
    "start_time": "2022-05-19T14:07:20.633Z"
   },
   {
    "duration": 303,
    "start_time": "2022-05-19T14:07:21.107Z"
   },
   {
    "duration": 15,
    "start_time": "2022-05-19T14:07:22.115Z"
   },
   {
    "duration": 83,
    "start_time": "2022-05-19T14:07:22.803Z"
   },
   {
    "duration": 138,
    "start_time": "2022-05-19T14:07:25.282Z"
   },
   {
    "duration": 259,
    "start_time": "2022-05-19T14:07:26.554Z"
   },
   {
    "duration": 275,
    "start_time": "2022-05-19T14:10:01.268Z"
   },
   {
    "duration": 73,
    "start_time": "2022-05-19T14:11:15.853Z"
   },
   {
    "duration": 11,
    "start_time": "2022-05-19T14:11:16.739Z"
   },
   {
    "duration": 7,
    "start_time": "2022-05-19T14:11:17.058Z"
   },
   {
    "duration": 224,
    "start_time": "2022-05-19T14:11:17.627Z"
   },
   {
    "duration": 250,
    "start_time": "2022-05-19T14:11:18.147Z"
   },
   {
    "duration": 26,
    "start_time": "2022-05-19T14:11:50.203Z"
   },
   {
    "duration": 226,
    "start_time": "2022-05-19T14:11:54.299Z"
   },
   {
    "duration": 259,
    "start_time": "2022-05-19T14:12:49.316Z"
   },
   {
    "duration": 16,
    "start_time": "2022-05-19T14:12:50.510Z"
   },
   {
    "duration": 5,
    "start_time": "2022-05-19T14:12:50.821Z"
   },
   {
    "duration": 11,
    "start_time": "2022-05-19T14:12:51.244Z"
   },
   {
    "duration": 45,
    "start_time": "2022-05-19T14:12:52.964Z"
   },
   {
    "duration": 147,
    "start_time": "2022-05-19T14:13:34.277Z"
   },
   {
    "duration": 70,
    "start_time": "2022-05-19T14:28:16.039Z"
   },
   {
    "duration": 828,
    "start_time": "2022-05-19T15:00:02.471Z"
   },
   {
    "duration": 290,
    "start_time": "2022-05-19T15:00:38.999Z"
   },
   {
    "duration": 17,
    "start_time": "2022-05-19T15:00:39.711Z"
   },
   {
    "duration": 22,
    "start_time": "2022-05-19T15:08:01.521Z"
   },
   {
    "duration": 14,
    "start_time": "2022-05-19T15:08:11.627Z"
   },
   {
    "duration": 757,
    "start_time": "2022-05-19T15:32:47.770Z"
   },
   {
    "duration": 276,
    "start_time": "2022-05-19T15:33:09.685Z"
   },
   {
    "duration": 106,
    "start_time": "2022-05-19T15:33:37.566Z"
   },
   {
    "duration": 273,
    "start_time": "2022-05-19T15:33:42.500Z"
   },
   {
    "duration": 259,
    "start_time": "2022-05-19T15:34:00.347Z"
   },
   {
    "duration": 15,
    "start_time": "2022-05-19T15:36:03.969Z"
   },
   {
    "duration": 14,
    "start_time": "2022-05-19T15:36:16.274Z"
   },
   {
    "duration": 13,
    "start_time": "2022-05-19T15:40:10.187Z"
   },
   {
    "duration": 15,
    "start_time": "2022-05-19T15:40:58.193Z"
   },
   {
    "duration": 14,
    "start_time": "2022-05-19T15:41:26.464Z"
   },
   {
    "duration": 14,
    "start_time": "2022-05-19T15:42:24.589Z"
   },
   {
    "duration": 19,
    "start_time": "2022-05-19T15:43:31.838Z"
   },
   {
    "duration": 57,
    "start_time": "2022-05-19T17:57:33.716Z"
   },
   {
    "duration": 252,
    "start_time": "2022-05-19T17:57:38.269Z"
   },
   {
    "duration": 223,
    "start_time": "2022-05-19T17:58:39.513Z"
   },
   {
    "duration": 20,
    "start_time": "2022-05-19T17:58:56.093Z"
   },
   {
    "duration": 226,
    "start_time": "2022-05-19T17:59:09.177Z"
   },
   {
    "duration": 21,
    "start_time": "2022-05-19T18:00:05.590Z"
   },
   {
    "duration": 252,
    "start_time": "2022-05-19T18:00:23.014Z"
   },
   {
    "duration": 33,
    "start_time": "2022-05-19T18:00:57.136Z"
   },
   {
    "duration": 622,
    "start_time": "2022-05-19T18:01:01.336Z"
   },
   {
    "duration": 242,
    "start_time": "2022-05-19T18:01:20.310Z"
   },
   {
    "duration": 202,
    "start_time": "2022-05-19T18:02:07.121Z"
   },
   {
    "duration": 37,
    "start_time": "2022-05-19T18:02:16.478Z"
   },
   {
    "duration": 41,
    "start_time": "2022-05-19T18:02:33.505Z"
   },
   {
    "duration": 37,
    "start_time": "2022-05-19T18:02:39.718Z"
   },
   {
    "duration": 187,
    "start_time": "2022-05-19T18:02:43.645Z"
   },
   {
    "duration": 305,
    "start_time": "2022-05-19T18:02:50.984Z"
   },
   {
    "duration": 392,
    "start_time": "2022-05-19T18:09:44.921Z"
   },
   {
    "duration": 381,
    "start_time": "2022-05-19T18:10:38.082Z"
   },
   {
    "duration": 22,
    "start_time": "2022-05-19T18:12:01.740Z"
   },
   {
    "duration": 381,
    "start_time": "2022-05-19T18:12:45.967Z"
   },
   {
    "duration": 10,
    "start_time": "2022-05-19T18:12:50.797Z"
   },
   {
    "duration": 376,
    "start_time": "2022-05-19T18:12:58.620Z"
   },
   {
    "duration": 408,
    "start_time": "2022-05-19T18:15:35.317Z"
   },
   {
    "duration": 153,
    "start_time": "2022-05-19T18:16:18.038Z"
   },
   {
    "duration": 9,
    "start_time": "2022-05-19T18:17:03.157Z"
   },
   {
    "duration": 357,
    "start_time": "2022-05-19T18:17:09.781Z"
   },
   {
    "duration": 118,
    "start_time": "2022-05-19T18:18:47.639Z"
   },
   {
    "duration": 138,
    "start_time": "2022-05-19T18:22:45.816Z"
   },
   {
    "duration": 148,
    "start_time": "2022-05-19T18:23:08.503Z"
   },
   {
    "duration": 128,
    "start_time": "2022-05-19T18:23:25.520Z"
   },
   {
    "duration": 130,
    "start_time": "2022-05-19T18:23:30.047Z"
   },
   {
    "duration": 151,
    "start_time": "2022-05-19T18:24:05.768Z"
   },
   {
    "duration": 9,
    "start_time": "2022-05-19T18:24:11.798Z"
   },
   {
    "duration": 154,
    "start_time": "2022-05-19T18:24:32.838Z"
   },
   {
    "duration": 140,
    "start_time": "2022-05-19T18:25:37.390Z"
   },
   {
    "duration": 18,
    "start_time": "2022-05-19T18:26:30.912Z"
   },
   {
    "duration": 8,
    "start_time": "2022-05-19T18:26:48.672Z"
   },
   {
    "duration": 141,
    "start_time": "2022-05-19T18:26:53.608Z"
   },
   {
    "duration": 171,
    "start_time": "2022-05-19T18:27:46.418Z"
   },
   {
    "duration": 170,
    "start_time": "2022-05-19T18:27:54.371Z"
   },
   {
    "duration": 179,
    "start_time": "2022-05-19T18:28:14.164Z"
   },
   {
    "duration": 201,
    "start_time": "2022-05-19T18:28:55.257Z"
   },
   {
    "duration": 24,
    "start_time": "2022-05-19T18:30:04.370Z"
   },
   {
    "duration": 17,
    "start_time": "2022-05-19T18:30:20.937Z"
   },
   {
    "duration": 338,
    "start_time": "2022-05-19T18:30:40.818Z"
   },
   {
    "duration": 386,
    "start_time": "2022-05-19T18:31:18.676Z"
   },
   {
    "duration": 410,
    "start_time": "2022-05-19T18:31:55.458Z"
   },
   {
    "duration": 168,
    "start_time": "2022-05-19T18:33:34.549Z"
   },
   {
    "duration": 160,
    "start_time": "2022-05-19T18:33:49.293Z"
   },
   {
    "duration": 351,
    "start_time": "2022-05-19T18:33:52.826Z"
   },
   {
    "duration": 3349,
    "start_time": "2022-05-19T18:34:50.016Z"
   },
   {
    "duration": 293,
    "start_time": "2022-05-19T18:35:21.045Z"
   },
   {
    "duration": 285,
    "start_time": "2022-05-19T18:35:52.426Z"
   },
   {
    "duration": 184,
    "start_time": "2022-05-19T18:36:54.910Z"
   },
   {
    "duration": 165,
    "start_time": "2022-05-19T18:38:19.344Z"
   },
   {
    "duration": 183,
    "start_time": "2022-05-19T18:40:38.277Z"
   },
   {
    "duration": 103425,
    "start_time": "2022-05-19T18:43:30.484Z"
   },
   {
    "duration": 14,
    "start_time": "2022-05-19T18:45:47.700Z"
   },
   {
    "duration": 222,
    "start_time": "2022-05-19T18:46:32.412Z"
   },
   {
    "duration": 203,
    "start_time": "2022-05-19T18:50:08.354Z"
   },
   {
    "duration": 10,
    "start_time": "2022-05-19T19:00:22.457Z"
   },
   {
    "duration": 50,
    "start_time": "2022-05-19T19:00:28.506Z"
   },
   {
    "duration": 173,
    "start_time": "2022-05-19T19:00:57.706Z"
   },
   {
    "duration": 63,
    "start_time": "2022-05-19T19:04:06.553Z"
   },
   {
    "duration": 594,
    "start_time": "2022-05-19T19:04:19.900Z"
   },
   {
    "duration": 74,
    "start_time": "2022-05-19T19:04:41.130Z"
   },
   {
    "duration": 508,
    "start_time": "2022-05-19T19:04:56.526Z"
   },
   {
    "duration": 41,
    "start_time": "2022-05-19T19:05:11.693Z"
   },
   {
    "duration": 502,
    "start_time": "2022-05-19T19:05:23.997Z"
   },
   {
    "duration": 1899,
    "start_time": "2022-05-19T19:05:41.648Z"
   },
   {
    "duration": 485,
    "start_time": "2022-05-19T19:05:51.473Z"
   },
   {
    "duration": 45,
    "start_time": "2022-05-19T19:07:22.151Z"
   },
   {
    "duration": 81,
    "start_time": "2022-05-19T19:07:27.184Z"
   },
   {
    "duration": 79,
    "start_time": "2022-05-19T19:07:52.247Z"
   },
   {
    "duration": 14,
    "start_time": "2022-05-19T19:08:32.597Z"
   },
   {
    "duration": 12,
    "start_time": "2022-05-19T19:08:57.652Z"
   },
   {
    "duration": 44,
    "start_time": "2022-05-19T19:09:12.414Z"
   },
   {
    "duration": 66,
    "start_time": "2022-05-19T19:09:39.264Z"
   },
   {
    "duration": 86,
    "start_time": "2022-05-19T19:10:01.762Z"
   },
   {
    "duration": 105,
    "start_time": "2022-05-19T19:10:31.161Z"
   },
   {
    "duration": 82,
    "start_time": "2022-05-19T19:10:43.264Z"
   },
   {
    "duration": 75,
    "start_time": "2022-05-19T19:10:58.208Z"
   },
   {
    "duration": 70,
    "start_time": "2022-05-19T19:11:11.489Z"
   },
   {
    "duration": 74,
    "start_time": "2022-05-19T19:11:18.199Z"
   },
   {
    "duration": 710,
    "start_time": "2022-05-19T19:15:05.290Z"
   },
   {
    "duration": 628,
    "start_time": "2022-05-19T19:15:58.279Z"
   },
   {
    "duration": 4,
    "start_time": "2022-05-19T19:16:39.855Z"
   },
   {
    "duration": 476,
    "start_time": "2022-05-19T19:16:47.361Z"
   },
   {
    "duration": 31,
    "start_time": "2022-05-19T19:24:59.707Z"
   },
   {
    "duration": 37,
    "start_time": "2022-05-19T19:25:09.347Z"
   },
   {
    "duration": 37,
    "start_time": "2022-05-19T19:25:18.476Z"
   },
   {
    "duration": 37,
    "start_time": "2022-05-19T19:26:20.655Z"
   },
   {
    "duration": 1513,
    "start_time": "2022-05-20T05:34:27.430Z"
   },
   {
    "duration": 1305,
    "start_time": "2022-05-20T05:34:30.959Z"
   },
   {
    "duration": 731,
    "start_time": "2022-05-20T05:36:45.718Z"
   },
   {
    "duration": 27,
    "start_time": "2022-05-20T05:36:46.451Z"
   },
   {
    "duration": 18,
    "start_time": "2022-05-20T05:36:46.479Z"
   },
   {
    "duration": 6,
    "start_time": "2022-05-20T05:36:46.499Z"
   },
   {
    "duration": 13,
    "start_time": "2022-05-20T05:36:48.847Z"
   },
   {
    "duration": 80,
    "start_time": "2022-05-20T05:36:50.127Z"
   },
   {
    "duration": 12,
    "start_time": "2022-05-20T05:36:50.919Z"
   },
   {
    "duration": 176,
    "start_time": "2022-05-20T05:36:51.509Z"
   },
   {
    "duration": 17,
    "start_time": "2022-05-20T05:36:52.877Z"
   },
   {
    "duration": 179,
    "start_time": "2022-05-20T05:36:59.797Z"
   },
   {
    "duration": 185,
    "start_time": "2022-05-20T05:37:00.018Z"
   },
   {
    "duration": 404,
    "start_time": "2022-05-20T05:37:00.214Z"
   },
   {
    "duration": 34,
    "start_time": "2022-05-20T05:37:00.621Z"
   },
   {
    "duration": 569,
    "start_time": "2022-05-20T05:37:00.665Z"
   },
   {
    "duration": 87,
    "start_time": "2022-05-20T05:37:01.235Z"
   },
   {
    "duration": 278,
    "start_time": "2022-05-20T05:37:01.324Z"
   },
   {
    "duration": 294,
    "start_time": "2022-05-20T05:37:01.604Z"
   },
   {
    "duration": 40,
    "start_time": "2022-05-20T05:37:01.901Z"
   },
   {
    "duration": 180,
    "start_time": "2022-05-20T05:37:01.943Z"
   },
   {
    "duration": 245,
    "start_time": "2022-05-20T05:37:02.192Z"
   },
   {
    "duration": 11,
    "start_time": "2022-05-20T05:37:03.287Z"
   },
   {
    "duration": 310,
    "start_time": "2022-05-20T05:37:14.715Z"
   },
   {
    "duration": 81,
    "start_time": "2022-05-20T05:37:15.028Z"
   },
   {
    "duration": 174,
    "start_time": "2022-05-20T05:37:15.755Z"
   },
   {
    "duration": 266,
    "start_time": "2022-05-20T05:37:16.139Z"
   },
   {
    "duration": 14,
    "start_time": "2022-05-20T05:37:16.800Z"
   },
   {
    "duration": 87,
    "start_time": "2022-05-20T05:37:17.561Z"
   },
   {
    "duration": 147,
    "start_time": "2022-05-20T05:37:50.477Z"
   },
   {
    "duration": 266,
    "start_time": "2022-05-20T05:37:50.820Z"
   },
   {
    "duration": 82,
    "start_time": "2022-05-20T05:37:51.458Z"
   },
   {
    "duration": 13,
    "start_time": "2022-05-20T05:37:53.620Z"
   },
   {
    "duration": 8,
    "start_time": "2022-05-20T05:37:53.839Z"
   },
   {
    "duration": 124,
    "start_time": "2022-05-20T05:37:54.019Z"
   },
   {
    "duration": 256,
    "start_time": "2022-05-20T05:37:54.800Z"
   },
   {
    "duration": 8,
    "start_time": "2022-05-20T05:37:55.539Z"
   },
   {
    "duration": 26,
    "start_time": "2022-05-20T05:37:55.799Z"
   },
   {
    "duration": 82,
    "start_time": "2022-05-20T05:37:56.039Z"
   },
   {
    "duration": 4,
    "start_time": "2022-05-20T05:37:57.660Z"
   },
   {
    "duration": 92,
    "start_time": "2022-05-20T05:38:13.767Z"
   },
   {
    "duration": 234,
    "start_time": "2022-05-20T05:53:31.881Z"
   },
   {
    "duration": 1031,
    "start_time": "2022-05-20T05:54:55.168Z"
   },
   {
    "duration": 3,
    "start_time": "2022-05-20T05:56:24.757Z"
   },
   {
    "duration": 974,
    "start_time": "2022-05-20T05:56:25.807Z"
   },
   {
    "duration": 423,
    "start_time": "2022-05-20T05:56:34.646Z"
   },
   {
    "duration": 19,
    "start_time": "2022-05-20T05:56:36.538Z"
   },
   {
    "duration": 18,
    "start_time": "2022-05-20T05:57:01.218Z"
   },
   {
    "duration": 6,
    "start_time": "2022-05-20T05:57:01.605Z"
   },
   {
    "duration": 10,
    "start_time": "2022-05-20T05:57:02.107Z"
   },
   {
    "duration": 188,
    "start_time": "2022-05-20T06:37:47.441Z"
   },
   {
    "duration": 185,
    "start_time": "2022-05-20T06:37:54.340Z"
   },
   {
    "duration": 207,
    "start_time": "2022-05-20T06:38:06.949Z"
   },
   {
    "duration": 194,
    "start_time": "2022-05-20T06:38:12.276Z"
   },
   {
    "duration": 227,
    "start_time": "2022-05-20T06:38:18.707Z"
   },
   {
    "duration": 149,
    "start_time": "2022-05-20T06:38:33.877Z"
   },
   {
    "duration": 138,
    "start_time": "2022-05-20T06:38:39.813Z"
   },
   {
    "duration": 419,
    "start_time": "2022-05-20T06:42:16.949Z"
   },
   {
    "duration": 409,
    "start_time": "2022-05-20T06:42:20.908Z"
   },
   {
    "duration": 385,
    "start_time": "2022-05-20T06:42:50.241Z"
   },
   {
    "duration": 315,
    "start_time": "2022-05-20T06:42:54.642Z"
   },
   {
    "duration": 488,
    "start_time": "2022-05-20T06:44:17.909Z"
   },
   {
    "duration": 316,
    "start_time": "2022-05-20T06:45:31.318Z"
   },
   {
    "duration": 675,
    "start_time": "2022-05-20T06:45:37.228Z"
   },
   {
    "duration": 318,
    "start_time": "2022-05-20T06:46:02.643Z"
   },
   {
    "duration": 296,
    "start_time": "2022-05-20T06:46:07.993Z"
   },
   {
    "duration": 331,
    "start_time": "2022-05-20T06:46:38.613Z"
   },
   {
    "duration": 369,
    "start_time": "2022-05-20T06:46:46.800Z"
   },
   {
    "duration": 12,
    "start_time": "2022-05-20T06:47:24.095Z"
   },
   {
    "duration": 181,
    "start_time": "2022-05-20T06:47:39.710Z"
   },
   {
    "duration": 9191,
    "start_time": "2022-05-20T06:47:46.245Z"
   },
   {
    "duration": 17664,
    "start_time": "2022-05-20T06:48:08.044Z"
   },
   {
    "duration": 15091,
    "start_time": "2022-05-20T06:49:45.927Z"
   },
   {
    "duration": 426,
    "start_time": "2022-05-20T06:51:45.768Z"
   },
   {
    "duration": 355,
    "start_time": "2022-05-20T06:51:59.110Z"
   },
   {
    "duration": 1589,
    "start_time": "2022-05-20T06:52:06.239Z"
   },
   {
    "duration": 16829,
    "start_time": "2022-05-20T06:52:17.448Z"
   },
   {
    "duration": 18203,
    "start_time": "2022-05-20T06:52:53.958Z"
   },
   {
    "duration": 190,
    "start_time": "2022-05-20T06:54:09.957Z"
   },
   {
    "duration": 29,
    "start_time": "2022-05-20T06:54:18.557Z"
   },
   {
    "duration": 175,
    "start_time": "2022-05-20T06:54:36.423Z"
   },
   {
    "duration": 142,
    "start_time": "2022-05-20T06:55:30.018Z"
   },
   {
    "duration": 9432,
    "start_time": "2022-05-20T06:56:28.396Z"
   },
   {
    "duration": 786,
    "start_time": "2022-05-20T06:57:23.158Z"
   },
   {
    "duration": 139,
    "start_time": "2022-05-20T07:05:09.960Z"
   },
   {
    "duration": 159,
    "start_time": "2022-05-20T07:05:46.426Z"
   },
   {
    "duration": 5,
    "start_time": "2022-05-20T07:08:05.888Z"
   },
   {
    "duration": 126,
    "start_time": "2022-05-20T07:09:31.557Z"
   },
   {
    "duration": 4,
    "start_time": "2022-05-20T07:09:42.680Z"
   },
   {
    "duration": 14,
    "start_time": "2022-05-20T07:09:42.876Z"
   },
   {
    "duration": 4,
    "start_time": "2022-05-20T07:10:05.916Z"
   },
   {
    "duration": 10,
    "start_time": "2022-05-20T07:10:06.107Z"
   },
   {
    "duration": 5,
    "start_time": "2022-05-20T07:10:41.459Z"
   },
   {
    "duration": 10,
    "start_time": "2022-05-20T07:10:41.882Z"
   },
   {
    "duration": 171,
    "start_time": "2022-05-20T07:11:14.292Z"
   },
   {
    "duration": 197,
    "start_time": "2022-05-20T07:11:28.137Z"
   },
   {
    "duration": 5,
    "start_time": "2022-05-20T07:11:50.538Z"
   },
   {
    "duration": 175,
    "start_time": "2022-05-20T07:11:50.709Z"
   },
   {
    "duration": 4,
    "start_time": "2022-05-20T07:11:59.356Z"
   },
   {
    "duration": 175,
    "start_time": "2022-05-20T07:11:59.585Z"
   },
   {
    "duration": 8,
    "start_time": "2022-05-20T07:13:17.796Z"
   },
   {
    "duration": 973,
    "start_time": "2022-05-20T07:13:18.843Z"
   },
   {
    "duration": 5,
    "start_time": "2022-05-20T07:14:34.884Z"
   },
   {
    "duration": 717,
    "start_time": "2022-05-20T07:14:35.157Z"
   },
   {
    "duration": 16298,
    "start_time": "2022-05-20T07:19:29.628Z"
   },
   {
    "duration": 18086,
    "start_time": "2022-05-20T07:20:34.711Z"
   },
   {
    "duration": 8,
    "start_time": "2022-05-20T07:29:01.995Z"
   },
   {
    "duration": 196,
    "start_time": "2022-05-20T07:29:02.230Z"
   },
   {
    "duration": 5,
    "start_time": "2022-05-20T07:29:25.041Z"
   },
   {
    "duration": 769,
    "start_time": "2022-05-20T07:29:25.580Z"
   },
   {
    "duration": 6,
    "start_time": "2022-05-20T07:30:15.020Z"
   },
   {
    "duration": 764,
    "start_time": "2022-05-20T07:30:15.753Z"
   },
   {
    "duration": 6,
    "start_time": "2022-05-20T07:34:13.410Z"
   },
   {
    "duration": 242,
    "start_time": "2022-05-20T07:34:14.091Z"
   },
   {
    "duration": 9,
    "start_time": "2022-05-20T07:34:24.258Z"
   },
   {
    "duration": 911,
    "start_time": "2022-05-20T07:34:25.964Z"
   },
   {
    "duration": 241,
    "start_time": "2022-05-20T07:34:28.289Z"
   },
   {
    "duration": 374,
    "start_time": "2022-05-20T07:34:31.923Z"
   },
   {
    "duration": 20,
    "start_time": "2022-05-20T07:34:32.933Z"
   },
   {
    "duration": 10,
    "start_time": "2022-05-20T07:34:34.597Z"
   },
   {
    "duration": 18096,
    "start_time": "2022-05-20T07:34:35.594Z"
   },
   {
    "duration": 830,
    "start_time": "2022-05-20T07:37:44.814Z"
   },
   {
    "duration": 2416,
    "start_time": "2022-05-20T07:38:01.285Z"
   },
   {
    "duration": 9,
    "start_time": "2022-05-20T07:39:29.188Z"
   },
   {
    "duration": 13,
    "start_time": "2022-05-20T07:39:37.064Z"
   },
   {
    "duration": 10,
    "start_time": "2022-05-20T07:39:37.836Z"
   },
   {
    "duration": 704,
    "start_time": "2022-05-20T07:39:44.044Z"
   },
   {
    "duration": 167,
    "start_time": "2022-05-20T07:39:45.567Z"
   },
   {
    "duration": 7,
    "start_time": "2022-05-20T07:39:53.284Z"
   },
   {
    "duration": 812,
    "start_time": "2022-05-20T07:39:58.057Z"
   },
   {
    "duration": 17,
    "start_time": "2022-05-20T07:41:24.362Z"
   },
   {
    "duration": 1104,
    "start_time": "2022-05-20T07:41:24.847Z"
   },
   {
    "duration": 941,
    "start_time": "2022-05-20T07:41:54.535Z"
   },
   {
    "duration": 825,
    "start_time": "2022-05-20T07:44:15.761Z"
   },
   {
    "duration": 6,
    "start_time": "2022-05-20T07:47:11.684Z"
   },
   {
    "duration": 662,
    "start_time": "2022-05-20T07:47:11.965Z"
   },
   {
    "duration": 19,
    "start_time": "2022-05-20T07:47:15.479Z"
   },
   {
    "duration": 10,
    "start_time": "2022-05-20T07:47:15.717Z"
   },
   {
    "duration": 788,
    "start_time": "2022-05-20T07:47:15.967Z"
   },
   {
    "duration": 19,
    "start_time": "2022-05-20T07:47:16.757Z"
   },
   {
    "duration": 791,
    "start_time": "2022-05-20T07:47:17.037Z"
   },
   {
    "duration": 21,
    "start_time": "2022-05-20T07:58:35.657Z"
   },
   {
    "duration": 12,
    "start_time": "2022-05-20T07:58:45.616Z"
   },
   {
    "duration": 22,
    "start_time": "2022-05-20T07:58:52.927Z"
   },
   {
    "duration": 16,
    "start_time": "2022-05-20T07:58:58.359Z"
   },
   {
    "duration": 4,
    "start_time": "2022-05-20T07:59:41.846Z"
   },
   {
    "duration": 237,
    "start_time": "2022-05-20T08:10:58.981Z"
   },
   {
    "duration": 240,
    "start_time": "2022-05-20T08:12:23.218Z"
   },
   {
    "duration": 435,
    "start_time": "2022-05-20T08:12:58.840Z"
   },
   {
    "duration": 216,
    "start_time": "2022-05-20T08:13:37.774Z"
   },
   {
    "duration": 11,
    "start_time": "2022-05-20T08:18:37.658Z"
   },
   {
    "duration": 9,
    "start_time": "2022-05-20T08:18:42.208Z"
   },
   {
    "duration": 3,
    "start_time": "2022-05-20T08:20:00.138Z"
   },
   {
    "duration": 1356,
    "start_time": "2022-05-20T08:20:00.143Z"
   },
   {
    "duration": 6,
    "start_time": "2022-05-20T08:20:01.501Z"
   },
   {
    "duration": 2216,
    "start_time": "2022-05-20T08:20:01.509Z"
   },
   {
    "duration": 358,
    "start_time": "2022-05-20T08:20:03.734Z"
   },
   {
    "duration": 19,
    "start_time": "2022-05-20T08:20:04.095Z"
   },
   {
    "duration": 24,
    "start_time": "2022-05-20T08:20:04.116Z"
   },
   {
    "duration": 27,
    "start_time": "2022-05-20T08:20:04.143Z"
   },
   {
    "duration": 45,
    "start_time": "2022-05-20T08:20:04.172Z"
   },
   {
    "duration": 22,
    "start_time": "2022-05-20T08:20:04.219Z"
   },
   {
    "duration": 187,
    "start_time": "2022-05-20T08:20:04.243Z"
   },
   {
    "duration": 21,
    "start_time": "2022-05-20T08:20:04.432Z"
   },
   {
    "duration": 292,
    "start_time": "2022-05-20T08:20:04.469Z"
   },
   {
    "duration": 288,
    "start_time": "2022-05-20T08:20:04.770Z"
   },
   {
    "duration": 562,
    "start_time": "2022-05-20T08:20:05.068Z"
   },
   {
    "duration": 63,
    "start_time": "2022-05-20T08:20:05.633Z"
   },
   {
    "duration": 658,
    "start_time": "2022-05-20T08:20:05.698Z"
   },
   {
    "duration": 123,
    "start_time": "2022-05-20T08:20:06.366Z"
   },
   {
    "duration": 279,
    "start_time": "2022-05-20T08:20:06.492Z"
   },
   {
    "duration": 433,
    "start_time": "2022-05-20T08:20:06.774Z"
   },
   {
    "duration": 80,
    "start_time": "2022-05-20T08:20:07.210Z"
   },
   {
    "duration": 206,
    "start_time": "2022-05-20T08:20:07.296Z"
   },
   {
    "duration": 320,
    "start_time": "2022-05-20T08:20:07.505Z"
   },
   {
    "duration": 14,
    "start_time": "2022-05-20T08:20:07.827Z"
   },
   {
    "duration": 22,
    "start_time": "2022-05-20T08:20:07.843Z"
   },
   {
    "duration": 721,
    "start_time": "2022-05-20T08:20:07.867Z"
   },
   {
    "duration": 14,
    "start_time": "2022-05-20T08:20:08.590Z"
   },
   {
    "duration": 7,
    "start_time": "2022-05-20T08:20:08.606Z"
   },
   {
    "duration": 23,
    "start_time": "2022-05-20T08:20:08.615Z"
   },
   {
    "duration": 26,
    "start_time": "2022-05-20T08:20:08.640Z"
   },
   {
    "duration": 887,
    "start_time": "2022-05-20T08:20:08.674Z"
   },
   {
    "duration": 13,
    "start_time": "2022-05-20T08:20:09.571Z"
   },
   {
    "duration": 836,
    "start_time": "2022-05-20T08:20:09.589Z"
   },
   {
    "duration": 476,
    "start_time": "2022-05-20T08:20:10.428Z"
   },
   {
    "duration": 102,
    "start_time": "2022-05-20T08:20:10.907Z"
   },
   {
    "duration": 193,
    "start_time": "2022-05-20T08:20:11.011Z"
   },
   {
    "duration": 462,
    "start_time": "2022-05-20T08:20:11.209Z"
   },
   {
    "duration": 25,
    "start_time": "2022-05-20T08:20:11.681Z"
   },
   {
    "duration": 114,
    "start_time": "2022-05-20T08:20:11.708Z"
   },
   {
    "duration": 80,
    "start_time": "2022-05-20T08:20:11.824Z"
   },
   {
    "duration": 65,
    "start_time": "2022-05-20T08:20:11.906Z"
   },
   {
    "duration": 39,
    "start_time": "2022-05-20T08:20:11.975Z"
   },
   {
    "duration": 127,
    "start_time": "2022-05-20T08:20:12.016Z"
   },
   {
    "duration": 5,
    "start_time": "2022-05-20T08:20:12.145Z"
   },
   {
    "duration": 98,
    "start_time": "2022-05-20T08:20:27.881Z"
   },
   {
    "duration": 13,
    "start_time": "2022-05-20T08:51:21.713Z"
   },
   {
    "duration": 34,
    "start_time": "2022-05-20T08:53:19.286Z"
   },
   {
    "duration": 12,
    "start_time": "2022-05-20T09:26:54.331Z"
   },
   {
    "duration": 4,
    "start_time": "2022-05-20T09:27:06.501Z"
   },
   {
    "duration": 4,
    "start_time": "2022-05-20T09:28:45.992Z"
   },
   {
    "duration": 2,
    "start_time": "2022-05-20T09:29:22.858Z"
   },
   {
    "duration": 11,
    "start_time": "2022-05-20T09:29:52.099Z"
   },
   {
    "duration": 96,
    "start_time": "2022-05-20T09:30:11.840Z"
   },
   {
    "duration": 4,
    "start_time": "2022-05-20T09:30:16.130Z"
   },
   {
    "duration": 52,
    "start_time": "2022-05-20T09:33:34.039Z"
   },
   {
    "duration": 5,
    "start_time": "2022-05-20T09:33:39.616Z"
   },
   {
    "duration": 4,
    "start_time": "2022-05-20T09:33:50.930Z"
   },
   {
    "duration": 19,
    "start_time": "2022-05-20T09:38:02.058Z"
   },
   {
    "duration": 5,
    "start_time": "2022-05-20T09:40:14.110Z"
   },
   {
    "duration": 1392,
    "start_time": "2022-05-20T11:48:46.679Z"
   },
   {
    "duration": 2948,
    "start_time": "2022-05-20T11:48:53.469Z"
   },
   {
    "duration": 4,
    "start_time": "2022-05-20T11:48:58.121Z"
   },
   {
    "duration": 1094,
    "start_time": "2022-05-20T11:48:58.128Z"
   },
   {
    "duration": 257,
    "start_time": "2022-05-20T11:48:59.224Z"
   },
   {
    "duration": 16,
    "start_time": "2022-05-20T11:48:59.482Z"
   },
   {
    "duration": 14,
    "start_time": "2022-05-20T11:48:59.500Z"
   },
   {
    "duration": 5,
    "start_time": "2022-05-20T11:48:59.515Z"
   },
   {
    "duration": 10,
    "start_time": "2022-05-20T11:48:59.521Z"
   },
   {
    "duration": 11,
    "start_time": "2022-05-20T11:48:59.559Z"
   },
   {
    "duration": 135,
    "start_time": "2022-05-20T11:48:59.571Z"
   },
   {
    "duration": 14,
    "start_time": "2022-05-20T11:48:59.707Z"
   },
   {
    "duration": 150,
    "start_time": "2022-05-20T11:49:00.372Z"
   },
   {
    "duration": 146,
    "start_time": "2022-05-20T11:49:00.582Z"
   },
   {
    "duration": 338,
    "start_time": "2022-05-20T11:49:00.776Z"
   },
   {
    "duration": 31,
    "start_time": "2022-05-20T11:49:01.116Z"
   },
   {
    "duration": 559,
    "start_time": "2022-05-20T11:49:01.168Z"
   },
   {
    "duration": 79,
    "start_time": "2022-05-20T11:49:01.729Z"
   },
   {
    "duration": 166,
    "start_time": "2022-05-20T11:49:01.810Z"
   },
   {
    "duration": 234,
    "start_time": "2022-05-20T11:49:01.977Z"
   },
   {
    "duration": 29,
    "start_time": "2022-05-20T11:49:02.213Z"
   },
   {
    "duration": 119,
    "start_time": "2022-05-20T11:49:02.268Z"
   },
   {
    "duration": 210,
    "start_time": "2022-05-20T11:49:02.584Z"
   },
   {
    "duration": 7,
    "start_time": "2022-05-20T11:49:02.820Z"
   },
   {
    "duration": 4,
    "start_time": "2022-05-20T11:49:04.079Z"
   },
   {
    "duration": 522,
    "start_time": "2022-05-20T11:49:04.280Z"
   },
   {
    "duration": 9,
    "start_time": "2022-05-20T11:49:04.803Z"
   },
   {
    "duration": 3,
    "start_time": "2022-05-20T11:49:05.017Z"
   },
   {
    "duration": 12,
    "start_time": "2022-05-20T11:49:05.681Z"
   },
   {
    "duration": 8,
    "start_time": "2022-05-20T11:49:05.889Z"
   },
   {
    "duration": 615,
    "start_time": "2022-05-20T11:49:06.077Z"
   },
   {
    "duration": 8,
    "start_time": "2022-05-20T11:49:06.694Z"
   },
   {
    "duration": 728,
    "start_time": "2022-05-20T11:49:07.025Z"
   },
   {
    "duration": 305,
    "start_time": "2022-05-20T11:49:08.029Z"
   },
   {
    "duration": 68,
    "start_time": "2022-05-20T11:49:08.336Z"
   },
   {
    "duration": 143,
    "start_time": "2022-05-20T11:49:08.726Z"
   },
   {
    "duration": 248,
    "start_time": "2022-05-20T11:49:08.947Z"
   },
   {
    "duration": 14,
    "start_time": "2022-05-20T11:49:09.196Z"
   },
   {
    "duration": 78,
    "start_time": "2022-05-20T11:49:09.431Z"
   },
   {
    "duration": 51,
    "start_time": "2022-05-20T11:49:10.225Z"
   },
   {
    "duration": 43,
    "start_time": "2022-05-20T11:49:10.705Z"
   },
   {
    "duration": 38,
    "start_time": "2022-05-20T11:49:11.268Z"
   },
   {
    "duration": 74,
    "start_time": "2022-05-20T11:49:11.489Z"
   },
   {
    "duration": 4,
    "start_time": "2022-05-20T11:49:11.917Z"
   },
   {
    "duration": 85,
    "start_time": "2022-05-20T11:49:12.369Z"
   },
   {
    "duration": 141,
    "start_time": "2022-05-20T11:49:39.850Z"
   },
   {
    "duration": 10,
    "start_time": "2022-05-20T11:49:40.111Z"
   },
   {
    "duration": 3,
    "start_time": "2022-05-20T11:49:47.299Z"
   },
   {
    "duration": 54578,
    "start_time": "2022-05-20T11:49:47.880Z"
   },
   {
    "duration": 132,
    "start_time": "2022-05-20T11:50:42.461Z"
   },
   {
    "duration": 5,
    "start_time": "2022-05-20T12:35:20.161Z"
   },
   {
    "duration": 896,
    "start_time": "2022-05-20T12:35:20.168Z"
   },
   {
    "duration": 4,
    "start_time": "2022-05-20T12:35:21.066Z"
   },
   {
    "duration": 994,
    "start_time": "2022-05-20T12:35:21.072Z"
   },
   {
    "duration": 271,
    "start_time": "2022-05-20T12:35:22.069Z"
   },
   {
    "duration": 23,
    "start_time": "2022-05-20T12:35:22.342Z"
   },
   {
    "duration": 15,
    "start_time": "2022-05-20T12:35:22.366Z"
   },
   {
    "duration": 23,
    "start_time": "2022-05-20T12:35:22.382Z"
   },
   {
    "duration": 32,
    "start_time": "2022-05-20T12:35:22.406Z"
   },
   {
    "duration": 16,
    "start_time": "2022-05-20T12:35:22.439Z"
   },
   {
    "duration": 145,
    "start_time": "2022-05-20T12:35:22.456Z"
   },
   {
    "duration": 15,
    "start_time": "2022-05-20T12:35:22.603Z"
   },
   {
    "duration": 184,
    "start_time": "2022-05-20T12:35:22.620Z"
   },
   {
    "duration": 165,
    "start_time": "2022-05-20T12:35:22.807Z"
   },
   {
    "duration": 442,
    "start_time": "2022-05-20T12:35:22.974Z"
   },
   {
    "duration": 42,
    "start_time": "2022-05-20T12:35:23.418Z"
   },
   {
    "duration": 470,
    "start_time": "2022-05-20T12:35:23.461Z"
   },
   {
    "duration": 71,
    "start_time": "2022-05-20T12:35:23.933Z"
   },
   {
    "duration": 139,
    "start_time": "2022-05-20T12:35:24.005Z"
   },
   {
    "duration": 241,
    "start_time": "2022-05-20T12:35:24.146Z"
   },
   {
    "duration": 29,
    "start_time": "2022-05-20T12:35:24.389Z"
   },
   {
    "duration": 131,
    "start_time": "2022-05-20T12:35:24.419Z"
   },
   {
    "duration": 230,
    "start_time": "2022-05-20T12:35:24.551Z"
   },
   {
    "duration": 6,
    "start_time": "2022-05-20T12:35:24.783Z"
   },
   {
    "duration": 16,
    "start_time": "2022-05-20T12:35:24.790Z"
   },
   {
    "duration": 608,
    "start_time": "2022-05-20T12:35:24.808Z"
   },
   {
    "duration": 10,
    "start_time": "2022-05-20T12:35:25.418Z"
   },
   {
    "duration": 17,
    "start_time": "2022-05-20T12:35:25.430Z"
   },
   {
    "duration": 34,
    "start_time": "2022-05-20T12:35:25.448Z"
   },
   {
    "duration": 14,
    "start_time": "2022-05-20T12:35:25.483Z"
   },
   {
    "duration": 699,
    "start_time": "2022-05-20T12:35:25.498Z"
   },
   {
    "duration": 8,
    "start_time": "2022-05-20T12:35:26.199Z"
   },
   {
    "duration": 620,
    "start_time": "2022-05-20T12:35:26.208Z"
   },
   {
    "duration": 274,
    "start_time": "2022-05-20T12:35:26.831Z"
   },
   {
    "duration": 71,
    "start_time": "2022-05-20T12:35:27.106Z"
   },
   {
    "duration": 143,
    "start_time": "2022-05-20T12:35:27.178Z"
   },
   {
    "duration": 246,
    "start_time": "2022-05-20T12:35:27.322Z"
   },
   {
    "duration": 13,
    "start_time": "2022-05-20T12:35:27.570Z"
   },
   {
    "duration": 101,
    "start_time": "2022-05-20T12:35:27.585Z"
   },
   {
    "duration": 48,
    "start_time": "2022-05-20T12:35:27.688Z"
   },
   {
    "duration": 56,
    "start_time": "2022-05-20T12:35:27.740Z"
   },
   {
    "duration": 30,
    "start_time": "2022-05-20T12:35:27.798Z"
   },
   {
    "duration": 114,
    "start_time": "2022-05-20T12:35:27.830Z"
   },
   {
    "duration": 4,
    "start_time": "2022-05-20T12:35:27.946Z"
   },
   {
    "duration": 128,
    "start_time": "2022-05-20T12:35:27.958Z"
   },
   {
    "duration": 4,
    "start_time": "2022-05-20T12:35:31.113Z"
   },
   {
    "duration": 55818,
    "start_time": "2022-05-20T12:35:32.265Z"
   },
   {
    "duration": 132,
    "start_time": "2022-05-20T12:36:38.236Z"
   },
   {
    "duration": 28,
    "start_time": "2022-05-20T12:44:03.878Z"
   },
   {
    "duration": 15,
    "start_time": "2022-05-20T12:44:13.751Z"
   },
   {
    "duration": 5,
    "start_time": "2022-05-20T12:44:43.827Z"
   },
   {
    "duration": 3,
    "start_time": "2022-05-20T12:46:23.047Z"
   },
   {
    "duration": 22,
    "start_time": "2022-05-20T12:46:23.539Z"
   },
   {
    "duration": 133011,
    "start_time": "2022-05-20T12:47:35.718Z"
   },
   {
    "duration": 191,
    "start_time": "2022-05-20T12:49:48.731Z"
   },
   {
    "duration": 83,
    "start_time": "2022-05-20T12:52:26.976Z"
   },
   {
    "duration": 4,
    "start_time": "2022-05-20T12:52:30.956Z"
   },
   {
    "duration": 33517,
    "start_time": "2022-05-20T12:52:32.748Z"
   },
   {
    "duration": 123,
    "start_time": "2022-05-20T12:53:06.267Z"
   },
   {
    "duration": 4,
    "start_time": "2022-05-20T12:53:27.265Z"
   },
   {
    "duration": 91644,
    "start_time": "2022-05-20T12:53:27.858Z"
   },
   {
    "duration": 146,
    "start_time": "2022-05-20T12:54:59.504Z"
   },
   {
    "duration": 45,
    "start_time": "2022-05-20T12:57:21.161Z"
   },
   {
    "duration": 38,
    "start_time": "2022-05-20T12:57:22.261Z"
   },
   {
    "duration": 24,
    "start_time": "2022-05-20T12:57:22.677Z"
   },
   {
    "duration": 72,
    "start_time": "2022-05-20T12:57:22.892Z"
   },
   {
    "duration": 4,
    "start_time": "2022-05-20T12:57:23.543Z"
   },
   {
    "duration": 80,
    "start_time": "2022-05-20T12:57:24.381Z"
   },
   {
    "duration": 4,
    "start_time": "2022-05-20T12:57:26.078Z"
   },
   {
    "duration": 31791,
    "start_time": "2022-05-20T12:57:27.575Z"
   },
   {
    "duration": 202,
    "start_time": "2022-05-20T12:57:59.371Z"
   },
   {
    "duration": 4,
    "start_time": "2022-05-20T12:58:19.403Z"
   },
   {
    "duration": 82842,
    "start_time": "2022-05-20T12:58:20.617Z"
   },
   {
    "duration": 141,
    "start_time": "2022-05-20T12:59:43.461Z"
   },
   {
    "duration": 3,
    "start_time": "2022-05-20T13:08:29.373Z"
   },
   {
    "duration": 29575,
    "start_time": "2022-05-20T13:08:29.863Z"
   },
   {
    "duration": 138,
    "start_time": "2022-05-20T13:10:14.058Z"
   },
   {
    "duration": 4,
    "start_time": "2022-05-20T13:10:55.335Z"
   },
   {
    "duration": 64938,
    "start_time": "2022-05-20T13:10:55.518Z"
   },
   {
    "duration": 145,
    "start_time": "2022-05-20T13:12:00.460Z"
   },
   {
    "duration": 5,
    "start_time": "2022-05-20T13:13:42.119Z"
   },
   {
    "duration": 86525,
    "start_time": "2022-05-20T13:13:42.328Z"
   },
   {
    "duration": 165,
    "start_time": "2022-05-20T13:15:08.859Z"
   },
   {
    "duration": 4,
    "start_time": "2022-05-20T13:15:26.892Z"
   },
   {
    "duration": 5017,
    "start_time": "2022-05-20T13:15:27.388Z"
   },
   {
    "duration": 4,
    "start_time": "2022-05-20T13:16:14.615Z"
   },
   {
    "duration": 13647,
    "start_time": "2022-05-20T13:16:14.834Z"
   },
   {
    "duration": 137,
    "start_time": "2022-05-20T13:16:28.484Z"
   },
   {
    "duration": 4,
    "start_time": "2022-05-20T13:16:40.282Z"
   },
   {
    "duration": 48121,
    "start_time": "2022-05-20T13:16:40.725Z"
   },
   {
    "duration": 149,
    "start_time": "2022-05-20T13:17:28.848Z"
   },
   {
    "duration": 5,
    "start_time": "2022-05-20T13:17:45.164Z"
   },
   {
    "duration": 30088,
    "start_time": "2022-05-20T13:17:45.339Z"
   },
   {
    "duration": 146,
    "start_time": "2022-05-20T13:18:15.429Z"
   },
   {
    "duration": 4,
    "start_time": "2022-05-20T13:19:20.832Z"
   },
   {
    "duration": 18937,
    "start_time": "2022-05-20T13:19:20.975Z"
   },
   {
    "duration": 146,
    "start_time": "2022-05-20T13:19:39.914Z"
   },
   {
    "duration": 9,
    "start_time": "2022-05-20T13:19:52.016Z"
   },
   {
    "duration": 6,
    "start_time": "2022-05-20T13:20:05.993Z"
   },
   {
    "duration": 13,
    "start_time": "2022-05-20T13:20:17.182Z"
   },
   {
    "duration": 5,
    "start_time": "2022-05-20T13:20:27.976Z"
   },
   {
    "duration": 4,
    "start_time": "2022-05-20T13:20:45.263Z"
   },
   {
    "duration": 12,
    "start_time": "2022-05-20T13:20:55.005Z"
   },
   {
    "duration": 58,
    "start_time": "2022-05-20T13:20:59.812Z"
   },
   {
    "duration": 11,
    "start_time": "2022-05-20T13:21:00.157Z"
   },
   {
    "duration": 6,
    "start_time": "2022-05-20T13:21:43.087Z"
   },
   {
    "duration": 4,
    "start_time": "2022-05-20T13:22:34.574Z"
   },
   {
    "duration": 5,
    "start_time": "2022-05-20T13:22:35.628Z"
   },
   {
    "duration": 13731,
    "start_time": "2022-05-20T13:22:47.348Z"
   },
   {
    "duration": 131,
    "start_time": "2022-05-20T13:23:01.081Z"
   },
   {
    "duration": 3,
    "start_time": "2022-05-20T13:31:40.126Z"
   },
   {
    "duration": 11031,
    "start_time": "2022-05-20T13:31:42.009Z"
   },
   {
    "duration": 143,
    "start_time": "2022-05-20T13:31:53.042Z"
   },
   {
    "duration": 3,
    "start_time": "2022-05-20T13:32:06.148Z"
   },
   {
    "duration": 13303,
    "start_time": "2022-05-20T13:32:06.366Z"
   },
   {
    "duration": 124,
    "start_time": "2022-05-20T13:32:19.671Z"
   },
   {
    "duration": 9,
    "start_time": "2022-05-20T13:32:29.641Z"
   },
   {
    "duration": 7,
    "start_time": "2022-05-20T13:32:37.131Z"
   },
   {
    "duration": 10,
    "start_time": "2022-05-20T13:32:46.778Z"
   },
   {
    "duration": 10,
    "start_time": "2022-05-20T13:32:49.857Z"
   },
   {
    "duration": 5,
    "start_time": "2022-05-20T13:32:55.799Z"
   },
   {
    "duration": 5,
    "start_time": "2022-05-20T13:33:11.769Z"
   },
   {
    "duration": 4,
    "start_time": "2022-05-20T13:33:14.644Z"
   },
   {
    "duration": 13345,
    "start_time": "2022-05-20T13:33:25.002Z"
   },
   {
    "duration": 125,
    "start_time": "2022-05-20T13:33:38.350Z"
   },
   {
    "duration": 4,
    "start_time": "2022-05-20T13:33:38.476Z"
   },
   {
    "duration": 11,
    "start_time": "2022-05-20T13:34:53.390Z"
   },
   {
    "duration": 10,
    "start_time": "2022-05-20T13:35:00.099Z"
   },
   {
    "duration": 10,
    "start_time": "2022-05-20T13:35:05.109Z"
   },
   {
    "duration": 10,
    "start_time": "2022-05-20T13:35:09.710Z"
   },
   {
    "duration": 13,
    "start_time": "2022-05-20T13:35:30.573Z"
   },
   {
    "duration": 3,
    "start_time": "2022-05-20T13:36:07.004Z"
   },
   {
    "duration": 1522,
    "start_time": "2022-05-20T16:14:43.897Z"
   },
   {
    "duration": 1191,
    "start_time": "2022-05-20T16:14:45.422Z"
   },
   {
    "duration": 4,
    "start_time": "2022-05-20T16:14:46.614Z"
   },
   {
    "duration": 1119,
    "start_time": "2022-05-20T16:14:46.620Z"
   },
   {
    "duration": 312,
    "start_time": "2022-05-20T16:14:47.741Z"
   },
   {
    "duration": 18,
    "start_time": "2022-05-20T16:14:48.055Z"
   },
   {
    "duration": 15,
    "start_time": "2022-05-20T16:14:48.075Z"
   },
   {
    "duration": 6,
    "start_time": "2022-05-20T16:14:48.091Z"
   },
   {
    "duration": 15,
    "start_time": "2022-05-20T16:14:48.098Z"
   },
   {
    "duration": 37,
    "start_time": "2022-05-20T16:14:48.117Z"
   },
   {
    "duration": 169,
    "start_time": "2022-05-20T16:14:48.156Z"
   },
   {
    "duration": 15,
    "start_time": "2022-05-20T16:14:48.326Z"
   },
   {
    "duration": 191,
    "start_time": "2022-05-20T16:14:48.342Z"
   },
   {
    "duration": 189,
    "start_time": "2022-05-20T16:14:48.535Z"
   },
   {
    "duration": 386,
    "start_time": "2022-05-20T16:14:48.726Z"
   },
   {
    "duration": 28,
    "start_time": "2022-05-20T16:14:49.114Z"
   },
   {
    "duration": 619,
    "start_time": "2022-05-20T16:14:49.152Z"
   },
   {
    "duration": 83,
    "start_time": "2022-05-20T16:14:49.772Z"
   },
   {
    "duration": 171,
    "start_time": "2022-05-20T16:14:49.857Z"
   },
   {
    "duration": 275,
    "start_time": "2022-05-20T16:14:50.029Z"
   },
   {
    "duration": 30,
    "start_time": "2022-05-20T16:14:50.306Z"
   },
   {
    "duration": 150,
    "start_time": "2022-05-20T16:14:50.338Z"
   },
   {
    "duration": 236,
    "start_time": "2022-05-20T16:14:50.490Z"
   },
   {
    "duration": 6,
    "start_time": "2022-05-20T16:14:50.728Z"
   },
   {
    "duration": 4,
    "start_time": "2022-05-20T16:14:50.736Z"
   },
   {
    "duration": 585,
    "start_time": "2022-05-20T16:14:50.752Z"
   },
   {
    "duration": 18,
    "start_time": "2022-05-20T16:14:51.339Z"
   },
   {
    "duration": 5,
    "start_time": "2022-05-20T16:14:51.361Z"
   },
   {
    "duration": 21,
    "start_time": "2022-05-20T16:14:51.367Z"
   },
   {
    "duration": 9,
    "start_time": "2022-05-20T16:14:51.389Z"
   },
   {
    "duration": 776,
    "start_time": "2022-05-20T16:14:51.399Z"
   },
   {
    "duration": 8,
    "start_time": "2022-05-20T16:14:52.177Z"
   },
   {
    "duration": 727,
    "start_time": "2022-05-20T16:14:52.186Z"
   },
   {
    "duration": 310,
    "start_time": "2022-05-20T16:14:52.915Z"
   },
   {
    "duration": 66,
    "start_time": "2022-05-20T16:14:53.227Z"
   },
   {
    "duration": 159,
    "start_time": "2022-05-20T16:14:53.294Z"
   },
   {
    "duration": 278,
    "start_time": "2022-05-20T16:14:53.454Z"
   },
   {
    "duration": 18,
    "start_time": "2022-05-20T16:14:53.734Z"
   },
   {
    "duration": 97,
    "start_time": "2022-05-20T16:14:53.754Z"
   },
   {
    "duration": 52,
    "start_time": "2022-05-20T16:14:53.852Z"
   },
   {
    "duration": 52,
    "start_time": "2022-05-20T16:14:53.906Z"
   },
   {
    "duration": 23,
    "start_time": "2022-05-20T16:14:53.960Z"
   },
   {
    "duration": 85,
    "start_time": "2022-05-20T16:14:53.985Z"
   },
   {
    "duration": 4,
    "start_time": "2022-05-20T16:14:54.072Z"
   },
   {
    "duration": 101,
    "start_time": "2022-05-20T16:14:54.078Z"
   },
   {
    "duration": 3,
    "start_time": "2022-05-20T16:15:18.432Z"
   },
   {
    "duration": 32280,
    "start_time": "2022-05-20T16:15:19.975Z"
   },
   {
    "duration": 190,
    "start_time": "2022-05-20T16:15:52.257Z"
   },
   {
    "duration": 3,
    "start_time": "2022-05-20T16:16:56.403Z"
   },
   {
    "duration": 12046,
    "start_time": "2022-05-20T16:16:56.654Z"
   },
   {
    "duration": 150,
    "start_time": "2022-05-20T16:17:08.703Z"
   },
   {
    "duration": 6,
    "start_time": "2022-05-20T16:18:04.024Z"
   },
   {
    "duration": 4,
    "start_time": "2022-05-20T16:18:10.950Z"
   },
   {
    "duration": 136,
    "start_time": "2022-05-20T16:19:43.346Z"
   },
   {
    "duration": 4,
    "start_time": "2022-05-20T16:19:55.424Z"
   },
   {
    "duration": 2625462,
    "start_time": "2022-05-20T16:20:01.607Z"
   },
   {
    "duration": 2666,
    "start_time": "2022-05-20T17:03:47.071Z"
   },
   {
    "duration": 390,
    "start_time": "2022-05-20T17:03:49.738Z"
   },
   {
    "duration": 9,
    "start_time": "2022-05-20T17:15:01.510Z"
   },
   {
    "duration": 445,
    "start_time": "2022-05-20T17:15:19.200Z"
   },
   {
    "duration": 27,
    "start_time": "2022-05-20T17:15:24.779Z"
   },
   {
    "duration": 25,
    "start_time": "2022-05-20T17:19:00.045Z"
   },
   {
    "duration": 11052,
    "start_time": "2022-05-20T17:19:18.009Z"
   },
   {
    "duration": 691,
    "start_time": "2022-05-20T17:19:29.064Z"
   },
   {
    "duration": 23,
    "start_time": "2022-05-20T17:21:37.829Z"
   },
   {
    "duration": 3,
    "start_time": "2022-05-20T17:24:40.391Z"
   },
   {
    "duration": 9192,
    "start_time": "2022-05-20T17:24:40.678Z"
   },
   {
    "duration": 597,
    "start_time": "2022-05-20T17:24:52.870Z"
   },
   {
    "duration": 4,
    "start_time": "2022-05-20T17:24:58.335Z"
   },
   {
    "duration": 7833,
    "start_time": "2022-05-20T17:24:58.533Z"
   },
   {
    "duration": 601,
    "start_time": "2022-05-20T17:25:06.369Z"
   },
   {
    "duration": 3,
    "start_time": "2022-05-20T17:25:11.189Z"
   },
   {
    "duration": 6869,
    "start_time": "2022-05-20T17:25:11.387Z"
   },
   {
    "duration": 510,
    "start_time": "2022-05-20T17:25:18.258Z"
   },
   {
    "duration": 3,
    "start_time": "2022-05-20T17:25:39.879Z"
   },
   {
    "duration": 7456,
    "start_time": "2022-05-20T17:25:40.108Z"
   },
   {
    "duration": 598,
    "start_time": "2022-05-20T17:25:47.567Z"
   },
   {
    "duration": 3,
    "start_time": "2022-05-20T17:25:53.185Z"
   },
   {
    "duration": 6319,
    "start_time": "2022-05-20T17:25:53.351Z"
   },
   {
    "duration": 690,
    "start_time": "2022-05-20T17:25:59.671Z"
   },
   {
    "duration": 3,
    "start_time": "2022-05-20T17:27:40.621Z"
   },
   {
    "duration": 81563,
    "start_time": "2022-05-20T17:27:40.806Z"
   },
   {
    "duration": 596,
    "start_time": "2022-05-20T17:29:02.372Z"
   },
   {
    "duration": 3,
    "start_time": "2022-05-20T17:29:38.191Z"
   },
   {
    "duration": 15453,
    "start_time": "2022-05-20T17:29:38.406Z"
   },
   {
    "duration": 605,
    "start_time": "2022-05-20T17:29:53.860Z"
   },
   {
    "duration": 3,
    "start_time": "2022-05-20T17:32:13.929Z"
   },
   {
    "duration": 556,
    "start_time": "2022-05-20T17:32:14.113Z"
   },
   {
    "duration": 137,
    "start_time": "2022-05-20T17:32:14.671Z"
   },
   {
    "duration": 3,
    "start_time": "2022-05-20T17:32:56.464Z"
   },
   {
    "duration": 1073317,
    "start_time": "2022-05-20T17:32:56.984Z"
   },
   {
    "duration": 150,
    "start_time": "2022-05-20T17:50:50.303Z"
   },
   {
    "duration": 3,
    "start_time": "2022-05-20T17:50:56.021Z"
   },
   {
    "duration": 201976,
    "start_time": "2022-05-20T17:50:56.296Z"
   },
   {
    "duration": 392,
    "start_time": "2022-05-20T17:54:18.274Z"
   },
   {
    "duration": 3,
    "start_time": "2022-05-20T17:54:45.588Z"
   },
   {
    "duration": 401482,
    "start_time": "2022-05-20T17:54:46.094Z"
   },
   {
    "duration": 697,
    "start_time": "2022-05-20T18:01:27.578Z"
   },
   {
    "duration": 3,
    "start_time": "2022-05-20T18:03:58.184Z"
   },
   {
    "duration": 401652,
    "start_time": "2022-05-20T18:03:58.720Z"
   },
   {
    "duration": 705,
    "start_time": "2022-05-20T18:10:40.374Z"
   },
   {
    "duration": 106,
    "start_time": "2022-05-20T18:15:02.378Z"
   },
   {
    "duration": 47,
    "start_time": "2022-05-20T18:16:48.742Z"
   },
   {
    "duration": 113,
    "start_time": "2022-05-20T18:17:04.909Z"
   },
   {
    "duration": 187,
    "start_time": "2022-05-20T18:24:51.992Z"
   },
   {
    "duration": 713,
    "start_time": "2022-05-20T18:26:25.449Z"
   },
   {
    "duration": 4,
    "start_time": "2022-05-20T18:26:41.823Z"
   },
   {
    "duration": 691,
    "start_time": "2022-05-20T18:27:42.541Z"
   },
   {
    "duration": 4,
    "start_time": "2022-05-20T18:27:43.345Z"
   },
   {
    "duration": 9196,
    "start_time": "2022-05-20T18:29:53.803Z"
   },
   {
    "duration": 9481,
    "start_time": "2022-05-20T18:30:30.497Z"
   },
   {
    "duration": 13653,
    "start_time": "2022-05-20T18:32:05.801Z"
   },
   {
    "duration": 20689,
    "start_time": "2022-05-20T18:33:04.768Z"
   },
   {
    "duration": 7936,
    "start_time": "2022-05-20T18:33:56.466Z"
   },
   {
    "duration": 39,
    "start_time": "2022-05-20T18:34:53.831Z"
   },
   {
    "duration": 20627,
    "start_time": "2022-05-20T18:35:00.235Z"
   },
   {
    "duration": 61075,
    "start_time": "2022-05-20T18:39:13.979Z"
   },
   {
    "duration": 16156,
    "start_time": "2022-05-20T18:41:42.909Z"
   },
   {
    "duration": 373,
    "start_time": "2022-05-20T18:42:39.111Z"
   },
   {
    "duration": 6241,
    "start_time": "2022-05-20T18:44:15.069Z"
   },
   {
    "duration": 15923,
    "start_time": "2022-05-20T18:44:44.918Z"
   },
   {
    "duration": 3689,
    "start_time": "2022-05-20T18:45:52.367Z"
   },
   {
    "duration": 29526,
    "start_time": "2022-05-20T18:46:01.686Z"
   },
   {
    "duration": 347155,
    "start_time": "2022-05-20T19:01:19.629Z"
   },
   {
    "duration": 71,
    "start_time": "2022-05-20T19:07:06.785Z"
   },
   {
    "duration": 139335,
    "start_time": "2022-05-20T19:08:37.132Z"
   },
   {
    "duration": 18,
    "start_time": "2022-05-20T19:12:25.965Z"
   },
   {
    "duration": 7,
    "start_time": "2022-05-20T19:12:58.725Z"
   },
   {
    "duration": 8,
    "start_time": "2022-05-20T19:13:12.751Z"
   },
   {
    "duration": 6,
    "start_time": "2022-05-20T19:13:40.368Z"
   },
   {
    "duration": 5,
    "start_time": "2022-05-20T19:16:19.599Z"
   },
   {
    "duration": 13,
    "start_time": "2022-05-20T19:17:21.950Z"
   },
   {
    "duration": 19,
    "start_time": "2022-05-20T19:17:38.688Z"
   },
   {
    "duration": 24,
    "start_time": "2022-05-20T19:17:59.832Z"
   },
   {
    "duration": 1545,
    "start_time": "2022-05-21T07:14:00.067Z"
   },
   {
    "duration": 3303,
    "start_time": "2022-05-21T07:14:02.071Z"
   },
   {
    "duration": 4,
    "start_time": "2022-05-21T07:14:05.376Z"
   },
   {
    "duration": 1069,
    "start_time": "2022-05-21T07:14:05.381Z"
   },
   {
    "duration": 282,
    "start_time": "2022-05-21T07:14:09.874Z"
   },
   {
    "duration": 17,
    "start_time": "2022-05-21T07:14:11.559Z"
   },
   {
    "duration": 15,
    "start_time": "2022-05-21T07:14:18.865Z"
   },
   {
    "duration": 6,
    "start_time": "2022-05-21T07:14:19.579Z"
   },
   {
    "duration": 12,
    "start_time": "2022-05-21T07:14:21.122Z"
   },
   {
    "duration": 14,
    "start_time": "2022-05-21T07:14:23.268Z"
   },
   {
    "duration": 164,
    "start_time": "2022-05-21T07:14:26.497Z"
   },
   {
    "duration": 32,
    "start_time": "2022-05-21T07:14:31.060Z"
   },
   {
    "duration": 174,
    "start_time": "2022-05-21T07:14:39.926Z"
   },
   {
    "duration": 183,
    "start_time": "2022-05-21T07:14:41.630Z"
   },
   {
    "duration": 376,
    "start_time": "2022-05-21T07:14:48.683Z"
   },
   {
    "duration": 33,
    "start_time": "2022-05-21T07:14:49.926Z"
   },
   {
    "duration": 576,
    "start_time": "2022-05-21T07:14:51.390Z"
   },
   {
    "duration": 66,
    "start_time": "2022-05-21T07:14:55.495Z"
   },
   {
    "duration": 151,
    "start_time": "2022-05-21T07:14:56.274Z"
   },
   {
    "duration": 236,
    "start_time": "2022-05-21T07:14:57.824Z"
   },
   {
    "duration": 31,
    "start_time": "2022-05-21T07:15:11.620Z"
   },
   {
    "duration": 132,
    "start_time": "2022-05-21T07:15:14.383Z"
   },
   {
    "duration": 220,
    "start_time": "2022-05-21T07:15:15.261Z"
   },
   {
    "duration": 9,
    "start_time": "2022-05-21T07:15:15.625Z"
   },
   {
    "duration": 4,
    "start_time": "2022-05-21T07:15:21.070Z"
   },
   {
    "duration": 606,
    "start_time": "2022-05-21T07:15:36.498Z"
   },
   {
    "duration": 13,
    "start_time": "2022-05-21T07:15:37.977Z"
   },
   {
    "duration": 4,
    "start_time": "2022-05-21T07:15:40.968Z"
   },
   {
    "duration": 13,
    "start_time": "2022-05-21T07:15:42.316Z"
   },
   {
    "duration": 8,
    "start_time": "2022-05-21T07:15:44.719Z"
   },
   {
    "duration": 719,
    "start_time": "2022-05-21T07:15:47.006Z"
   },
   {
    "duration": 8,
    "start_time": "2022-05-21T07:16:11.827Z"
   },
   {
    "duration": 722,
    "start_time": "2022-05-21T07:16:16.524Z"
   },
   {
    "duration": 331,
    "start_time": "2022-05-21T07:16:42.095Z"
   },
   {
    "duration": 98,
    "start_time": "2022-05-21T07:16:42.886Z"
   },
   {
    "duration": 152,
    "start_time": "2022-05-21T07:17:48.758Z"
   },
   {
    "duration": 241,
    "start_time": "2022-05-21T07:17:52.201Z"
   },
   {
    "duration": 15,
    "start_time": "2022-05-21T07:17:55.675Z"
   },
   {
    "duration": 105,
    "start_time": "2022-05-21T07:17:58.778Z"
   },
   {
    "duration": 52,
    "start_time": "2022-05-21T07:18:12.965Z"
   },
   {
    "duration": 40,
    "start_time": "2022-05-21T07:18:15.356Z"
   },
   {
    "duration": 23,
    "start_time": "2022-05-21T07:18:30.690Z"
   },
   {
    "duration": 70,
    "start_time": "2022-05-21T07:18:31.303Z"
   },
   {
    "duration": 4,
    "start_time": "2022-05-21T07:18:32.495Z"
   },
   {
    "duration": 630,
    "start_time": "2022-05-21T07:18:34.308Z"
   },
   {
    "duration": 4,
    "start_time": "2022-05-21T07:18:35.905Z"
   },
   {
    "duration": 24923,
    "start_time": "2022-05-21T07:18:41.881Z"
   },
   {
    "duration": 8506,
    "start_time": "2022-05-21T07:19:06.807Z"
   },
   {
    "duration": 433894,
    "start_time": "2022-05-21T07:19:43.018Z"
   },
   {
    "duration": 6,
    "start_time": "2022-05-21T07:28:21.133Z"
   },
   {
    "duration": 25378,
    "start_time": "2022-05-21T07:28:37.194Z"
   },
   {
    "duration": 655937,
    "start_time": "2022-05-21T07:31:00.248Z"
   },
   {
    "duration": 6,
    "start_time": "2022-05-21T08:41:48.393Z"
   },
   {
    "duration": 8,
    "start_time": "2022-05-21T12:57:51.415Z"
   },
   {
    "duration": 5,
    "start_time": "2022-05-21T12:58:06.326Z"
   },
   {
    "duration": 5,
    "start_time": "2022-05-21T12:58:36.782Z"
   },
   {
    "duration": 26043,
    "start_time": "2022-05-21T12:58:44.316Z"
   },
   {
    "duration": 3,
    "start_time": "2022-05-21T12:59:10.361Z"
   },
   {
    "duration": 4,
    "start_time": "2022-05-21T13:00:58.846Z"
   },
   {
    "duration": 5,
    "start_time": "2022-05-21T13:01:15.645Z"
   },
   {
    "duration": 809,
    "start_time": "2022-05-21T13:02:55.714Z"
   },
   {
    "duration": 5,
    "start_time": "2022-05-21T13:03:09.390Z"
   },
   {
    "duration": 56303,
    "start_time": "2022-05-21T13:03:19.021Z"
   },
   {
    "duration": 5,
    "start_time": "2022-05-21T13:04:15.327Z"
   },
   {
    "duration": 6,
    "start_time": "2022-05-21T13:04:15.334Z"
   },
   {
    "duration": 11,
    "start_time": "2022-05-21T13:04:15.342Z"
   },
   {
    "duration": 4,
    "start_time": "2022-05-21T13:12:02.574Z"
   },
   {
    "duration": 617,
    "start_time": "2022-05-21T13:12:43.324Z"
   },
   {
    "duration": 23163,
    "start_time": "2022-05-21T13:12:52.025Z"
   },
   {
    "duration": 5,
    "start_time": "2022-05-21T13:13:15.189Z"
   },
   {
    "duration": 7,
    "start_time": "2022-05-21T13:13:15.195Z"
   },
   {
    "duration": 5,
    "start_time": "2022-05-21T13:13:15.212Z"
   },
   {
    "duration": 983,
    "start_time": "2022-05-21T13:15:02.794Z"
   },
   {
    "duration": 13,
    "start_time": "2022-05-21T13:15:15.776Z"
   },
   {
    "duration": 141,
    "start_time": "2022-05-21T13:17:31.788Z"
   },
   {
    "duration": 5,
    "start_time": "2022-05-21T13:18:13.165Z"
   },
   {
    "duration": 650,
    "start_time": "2022-05-21T13:18:51.759Z"
   },
   {
    "duration": 24588,
    "start_time": "2022-05-21T13:18:58.853Z"
   },
   {
    "duration": 6,
    "start_time": "2022-05-21T13:19:23.443Z"
   },
   {
    "duration": 4,
    "start_time": "2022-05-21T13:20:05.560Z"
   },
   {
    "duration": 5,
    "start_time": "2022-05-21T13:20:06.795Z"
   },
   {
    "duration": 1050,
    "start_time": "2022-05-21T13:20:20.059Z"
   },
   {
    "duration": 24522,
    "start_time": "2022-05-21T13:20:25.475Z"
   },
   {
    "duration": 15,
    "start_time": "2022-05-21T13:20:50.005Z"
   },
   {
    "duration": 5,
    "start_time": "2022-05-21T13:21:08.403Z"
   },
   {
    "duration": 6,
    "start_time": "2022-05-21T13:21:11.287Z"
   },
   {
    "duration": 216,
    "start_time": "2022-05-21T13:22:21.674Z"
   },
   {
    "duration": 11,
    "start_time": "2022-05-21T13:22:58.987Z"
   },
   {
    "duration": 17,
    "start_time": "2022-05-21T13:23:08.998Z"
   },
   {
    "duration": 6,
    "start_time": "2022-05-21T13:23:18.016Z"
   },
   {
    "duration": 682,
    "start_time": "2022-05-21T13:23:21.491Z"
   },
   {
    "duration": 26439,
    "start_time": "2022-05-21T13:23:28.813Z"
   },
   {
    "duration": 19,
    "start_time": "2022-05-21T13:24:03.497Z"
   },
   {
    "duration": 5,
    "start_time": "2022-05-21T13:24:05.169Z"
   },
   {
    "duration": 5,
    "start_time": "2022-05-21T13:24:06.867Z"
   },
   {
    "duration": 10,
    "start_time": "2022-05-21T13:28:03.381Z"
   },
   {
    "duration": 11,
    "start_time": "2022-05-21T13:28:13.063Z"
   },
   {
    "duration": 2914,
    "start_time": "2022-05-21T13:28:18.758Z"
   },
   {
    "duration": 5,
    "start_time": "2022-05-21T13:28:28.490Z"
   },
   {
    "duration": 937,
    "start_time": "2022-05-21T13:28:28.497Z"
   },
   {
    "duration": 4,
    "start_time": "2022-05-21T13:28:29.437Z"
   },
   {
    "duration": 1049,
    "start_time": "2022-05-21T13:28:29.442Z"
   },
   {
    "duration": 293,
    "start_time": "2022-05-21T13:28:30.494Z"
   },
   {
    "duration": 21,
    "start_time": "2022-05-21T13:28:30.788Z"
   },
   {
    "duration": 25,
    "start_time": "2022-05-21T13:28:30.810Z"
   },
   {
    "duration": 22,
    "start_time": "2022-05-21T13:28:30.837Z"
   },
   {
    "duration": 26,
    "start_time": "2022-05-21T13:28:30.860Z"
   },
   {
    "duration": 22,
    "start_time": "2022-05-21T13:28:30.888Z"
   },
   {
    "duration": 152,
    "start_time": "2022-05-21T13:28:30.912Z"
   },
   {
    "duration": 15,
    "start_time": "2022-05-21T13:28:31.065Z"
   },
   {
    "duration": 257,
    "start_time": "2022-05-21T13:28:31.082Z"
   },
   {
    "duration": 285,
    "start_time": "2022-05-21T13:28:31.341Z"
   },
   {
    "duration": 396,
    "start_time": "2022-05-21T13:28:31.627Z"
   },
   {
    "duration": 32,
    "start_time": "2022-05-21T13:28:32.026Z"
   },
   {
    "duration": 524,
    "start_time": "2022-05-21T13:28:32.060Z"
   },
   {
    "duration": 89,
    "start_time": "2022-05-21T13:28:32.586Z"
   },
   {
    "duration": 189,
    "start_time": "2022-05-21T13:28:32.677Z"
   },
   {
    "duration": 268,
    "start_time": "2022-05-21T13:28:32.868Z"
   },
   {
    "duration": 30,
    "start_time": "2022-05-21T13:28:33.138Z"
   },
   {
    "duration": 176,
    "start_time": "2022-05-21T13:28:33.170Z"
   },
   {
    "duration": 262,
    "start_time": "2022-05-21T13:28:33.348Z"
   },
   {
    "duration": 8,
    "start_time": "2022-05-21T13:28:33.612Z"
   },
   {
    "duration": 41,
    "start_time": "2022-05-21T13:28:33.622Z"
   },
   {
    "duration": 801,
    "start_time": "2022-05-21T13:28:33.665Z"
   },
   {
    "duration": 11,
    "start_time": "2022-05-21T13:28:34.468Z"
   },
   {
    "duration": 36,
    "start_time": "2022-05-21T13:28:34.480Z"
   },
   {
    "duration": 29,
    "start_time": "2022-05-21T13:28:34.520Z"
   },
   {
    "duration": 28,
    "start_time": "2022-05-21T13:28:34.550Z"
   },
   {
    "duration": 633,
    "start_time": "2022-05-21T13:28:34.579Z"
   },
   {
    "duration": 7,
    "start_time": "2022-05-21T13:28:35.214Z"
   },
   {
    "duration": 689,
    "start_time": "2022-05-21T13:28:35.222Z"
   },
   {
    "duration": 281,
    "start_time": "2022-05-21T13:28:35.913Z"
   },
   {
    "duration": 71,
    "start_time": "2022-05-21T13:28:36.195Z"
   },
   {
    "duration": 147,
    "start_time": "2022-05-21T13:28:36.267Z"
   },
   {
    "duration": 250,
    "start_time": "2022-05-21T13:28:36.416Z"
   },
   {
    "duration": 13,
    "start_time": "2022-05-21T13:28:36.668Z"
   },
   {
    "duration": 95,
    "start_time": "2022-05-21T13:28:36.683Z"
   },
   {
    "duration": 60,
    "start_time": "2022-05-21T13:28:36.780Z"
   },
   {
    "duration": 41,
    "start_time": "2022-05-21T13:28:36.842Z"
   },
   {
    "duration": 37,
    "start_time": "2022-05-21T13:28:36.885Z"
   },
   {
    "duration": 84,
    "start_time": "2022-05-21T13:28:36.924Z"
   },
   {
    "duration": 4,
    "start_time": "2022-05-21T13:28:37.011Z"
   },
   {
    "duration": 32,
    "start_time": "2022-05-21T13:28:41.100Z"
   },
   {
    "duration": 596,
    "start_time": "2022-05-21T13:29:06.885Z"
   },
   {
    "duration": 4,
    "start_time": "2022-05-21T13:29:11.588Z"
   },
   {
    "duration": 25067,
    "start_time": "2022-05-21T13:29:18.275Z"
   },
   {
    "duration": 636,
    "start_time": "2022-05-21T13:30:05.432Z"
   },
   {
    "duration": 4,
    "start_time": "2022-05-21T13:30:06.585Z"
   },
   {
    "duration": 24031,
    "start_time": "2022-05-21T13:30:22.414Z"
   },
   {
    "duration": 6,
    "start_time": "2022-05-21T13:30:50.557Z"
   },
   {
    "duration": 375453,
    "start_time": "2022-05-21T13:33:35.259Z"
   },
   {
    "duration": 24574,
    "start_time": "2022-05-21T13:56:00.047Z"
   },
   {
    "duration": 5,
    "start_time": "2022-05-21T13:57:34.020Z"
   },
   {
    "duration": 5,
    "start_time": "2022-05-21T13:57:35.127Z"
   },
   {
    "duration": 5,
    "start_time": "2022-05-21T13:57:35.691Z"
   },
   {
    "duration": 13,
    "start_time": "2022-05-21T13:58:49.404Z"
   },
   {
    "duration": 12,
    "start_time": "2022-05-21T14:03:14.116Z"
   },
   {
    "duration": 6,
    "start_time": "2022-05-21T14:03:27.072Z"
   },
   {
    "duration": 11,
    "start_time": "2022-05-21T14:07:23.879Z"
   },
   {
    "duration": 47,
    "start_time": "2022-05-21T14:07:57.145Z"
   },
   {
    "duration": 8,
    "start_time": "2022-05-21T14:08:20.501Z"
   },
   {
    "duration": 32200,
    "start_time": "2022-05-21T14:08:25.959Z"
   },
   {
    "duration": 163913,
    "start_time": "2022-05-21T14:09:02.947Z"
   },
   {
    "duration": 23892,
    "start_time": "2022-05-21T14:13:35.768Z"
   },
   {
    "duration": 198883,
    "start_time": "2022-05-21T14:14:33.853Z"
   },
   {
    "duration": 30237,
    "start_time": "2022-05-21T14:18:54.702Z"
   },
   {
    "duration": 22403,
    "start_time": "2022-05-21T14:21:46.404Z"
   },
   {
    "duration": 9335,
    "start_time": "2022-05-21T14:22:08.813Z"
   },
   {
    "duration": 3124,
    "start_time": "2022-05-21T14:32:00.815Z"
   },
   {
    "duration": 401,
    "start_time": "2022-05-21T14:32:12.278Z"
   },
   {
    "duration": 84,
    "start_time": "2022-05-21T14:32:13.197Z"
   },
   {
    "duration": 113,
    "start_time": "2022-05-21T14:32:18.549Z"
   },
   {
    "duration": 58,
    "start_time": "2022-05-21T14:32:23.237Z"
   },
   {
    "duration": 37,
    "start_time": "2022-05-21T14:32:23.583Z"
   },
   {
    "duration": 22,
    "start_time": "2022-05-21T14:32:23.949Z"
   },
   {
    "duration": 72,
    "start_time": "2022-05-21T14:32:24.140Z"
   },
   {
    "duration": 4,
    "start_time": "2022-05-21T14:32:24.860Z"
   },
   {
    "duration": 612,
    "start_time": "2022-05-21T14:32:25.307Z"
   },
   {
    "duration": 5,
    "start_time": "2022-05-21T14:32:25.922Z"
   },
   {
    "duration": 27503,
    "start_time": "2022-05-21T14:32:38.942Z"
   },
   {
    "duration": 6,
    "start_time": "2022-05-21T14:33:19.702Z"
   },
   {
    "duration": 5,
    "start_time": "2022-05-21T14:33:24.752Z"
   },
   {
    "duration": 6,
    "start_time": "2022-05-21T14:33:25.310Z"
   },
   {
    "duration": 25920,
    "start_time": "2022-05-21T14:34:03.186Z"
   },
   {
    "duration": 8547,
    "start_time": "2022-05-21T14:34:29.109Z"
   },
   {
    "duration": 279,
    "start_time": "2022-05-21T14:38:00.788Z"
   },
   {
    "duration": 888,
    "start_time": "2022-05-21T14:38:11.614Z"
   },
   {
    "duration": 411,
    "start_time": "2022-05-21T14:38:17.959Z"
   },
   {
    "duration": 271,
    "start_time": "2022-05-21T14:38:32.348Z"
   },
   {
    "duration": 393,
    "start_time": "2022-05-21T14:45:56.569Z"
   },
   {
    "duration": 924,
    "start_time": "2022-05-21T14:46:05.250Z"
   },
   {
    "duration": 457,
    "start_time": "2022-05-21T14:46:11.455Z"
   },
   {
    "duration": 64,
    "start_time": "2022-05-21T14:46:15.843Z"
   },
   {
    "duration": 34,
    "start_time": "2022-05-21T14:46:26.317Z"
   },
   {
    "duration": 32,
    "start_time": "2022-05-21T14:46:28.051Z"
   },
   {
    "duration": 21,
    "start_time": "2022-05-21T14:46:28.808Z"
   },
   {
    "duration": 59,
    "start_time": "2022-05-21T14:46:28.987Z"
   },
   {
    "duration": 3,
    "start_time": "2022-05-21T14:46:29.409Z"
   },
   {
    "duration": 538,
    "start_time": "2022-05-21T14:46:31.054Z"
   },
   {
    "duration": 9,
    "start_time": "2022-05-21T14:46:31.594Z"
   },
   {
    "duration": 6158,
    "start_time": "2022-05-21T14:46:38.911Z"
   },
   {
    "duration": 17787,
    "start_time": "2022-05-21T14:46:56.959Z"
   },
   {
    "duration": 5,
    "start_time": "2022-05-21T14:47:25.911Z"
   },
   {
    "duration": 4,
    "start_time": "2022-05-21T14:47:27.134Z"
   },
   {
    "duration": 5,
    "start_time": "2022-05-21T14:47:35.679Z"
   },
   {
    "duration": 886,
    "start_time": "2022-05-21T14:52:03.446Z"
   },
   {
    "duration": 286,
    "start_time": "2022-05-21T14:52:13.394Z"
   },
   {
    "duration": 86,
    "start_time": "2022-05-21T14:52:13.696Z"
   },
   {
    "duration": 152,
    "start_time": "2022-05-21T14:52:14.813Z"
   },
   {
    "duration": 253,
    "start_time": "2022-05-21T14:52:15.217Z"
   },
   {
    "duration": 24,
    "start_time": "2022-05-21T14:52:16.394Z"
   },
   {
    "duration": 91,
    "start_time": "2022-05-21T14:52:16.654Z"
   },
   {
    "duration": 56,
    "start_time": "2022-05-21T14:52:18.448Z"
   },
   {
    "duration": 37,
    "start_time": "2022-05-21T14:52:20.919Z"
   },
   {
    "duration": 33,
    "start_time": "2022-05-21T14:52:22.174Z"
   },
   {
    "duration": 103,
    "start_time": "2022-05-21T14:52:25.799Z"
   },
   {
    "duration": 4,
    "start_time": "2022-05-21T14:52:27.518Z"
   },
   {
    "duration": 643,
    "start_time": "2022-05-21T14:52:29.253Z"
   },
   {
    "duration": 24342,
    "start_time": "2022-05-21T14:53:04.394Z"
   },
   {
    "duration": 6,
    "start_time": "2022-05-21T14:53:53.654Z"
   },
   {
    "duration": 4,
    "start_time": "2022-05-21T14:53:55.758Z"
   },
   {
    "duration": 5,
    "start_time": "2022-05-21T14:54:04.417Z"
   },
   {
    "duration": 5,
    "start_time": "2022-05-21T16:33:39.017Z"
   },
   {
    "duration": 685,
    "start_time": "2022-05-21T16:35:25.815Z"
   },
   {
    "duration": 168,
    "start_time": "2022-05-21T16:35:51.511Z"
   },
   {
    "duration": 283,
    "start_time": "2022-05-21T16:36:15.495Z"
   },
   {
    "duration": 9,
    "start_time": "2022-05-21T16:36:36.602Z"
   },
   {
    "duration": 5,
    "start_time": "2022-05-21T16:37:33.486Z"
   },
   {
    "duration": 22753,
    "start_time": "2022-05-21T16:37:39.374Z"
   },
   {
    "duration": 3,
    "start_time": "2022-05-21T16:43:37.505Z"
   },
   {
    "duration": 8067,
    "start_time": "2022-05-21T16:44:07.477Z"
   },
   {
    "duration": 8153,
    "start_time": "2022-05-21T16:50:52.651Z"
   },
   {
    "duration": 8100,
    "start_time": "2022-05-21T16:51:45.394Z"
   },
   {
    "duration": 3,
    "start_time": "2022-05-21T16:52:31.857Z"
   },
   {
    "duration": 3,
    "start_time": "2022-05-21T16:53:00.597Z"
   },
   {
    "duration": 3,
    "start_time": "2022-05-21T16:53:31.039Z"
   },
   {
    "duration": 8269,
    "start_time": "2022-05-21T16:53:35.491Z"
   },
   {
    "duration": 0,
    "start_time": "2022-05-21T16:53:43.762Z"
   },
   {
    "duration": 5,
    "start_time": "2022-05-21T16:54:52.356Z"
   },
   {
    "duration": 8320,
    "start_time": "2022-05-21T16:54:58.203Z"
   },
   {
    "duration": 5,
    "start_time": "2022-05-21T16:55:29.796Z"
   },
   {
    "duration": 8176,
    "start_time": "2022-05-21T16:55:32.827Z"
   },
   {
    "duration": 4,
    "start_time": "2022-05-21T16:55:41.005Z"
   },
   {
    "duration": 4,
    "start_time": "2022-05-21T16:56:01.997Z"
   },
   {
    "duration": 8364,
    "start_time": "2022-05-21T16:56:14.460Z"
   },
   {
    "duration": 4,
    "start_time": "2022-05-21T16:56:22.827Z"
   },
   {
    "duration": 9,
    "start_time": "2022-05-21T16:58:12.653Z"
   },
   {
    "duration": 2,
    "start_time": "2022-05-21T16:59:06.831Z"
   },
   {
    "duration": 25362,
    "start_time": "2022-05-21T16:59:59.952Z"
   },
   {
    "duration": 87,
    "start_time": "2022-05-21T17:00:25.316Z"
   },
   {
    "duration": 22987,
    "start_time": "2022-05-21T17:01:01.726Z"
   },
   {
    "duration": 5,
    "start_time": "2022-05-21T17:02:17.712Z"
   },
   {
    "duration": 25,
    "start_time": "2022-05-21T17:04:37.399Z"
   },
   {
    "duration": 37,
    "start_time": "2022-05-21T17:05:25.351Z"
   },
   {
    "duration": 10,
    "start_time": "2022-05-21T17:05:40.831Z"
   },
   {
    "duration": 13,
    "start_time": "2022-05-21T17:06:35.351Z"
   },
   {
    "duration": 4,
    "start_time": "2022-05-21T17:06:45.015Z"
   },
   {
    "duration": 3,
    "start_time": "2022-05-21T17:07:02.290Z"
   },
   {
    "duration": 4,
    "start_time": "2022-05-21T17:07:11.496Z"
   },
   {
    "duration": 3,
    "start_time": "2022-05-21T17:07:21.401Z"
   },
   {
    "duration": 3,
    "start_time": "2022-05-21T17:07:31.874Z"
   },
   {
    "duration": 3,
    "start_time": "2022-05-21T17:07:43.214Z"
   },
   {
    "duration": 23985,
    "start_time": "2022-05-21T17:08:05.830Z"
   },
   {
    "duration": 8850,
    "start_time": "2022-05-21T17:08:40.969Z"
   },
   {
    "duration": 638865,
    "start_time": "2022-05-21T17:10:08.168Z"
   },
   {
    "duration": 9,
    "start_time": "2022-05-21T17:20:47.035Z"
   },
   {
    "duration": 11,
    "start_time": "2022-05-21T17:22:19.453Z"
   },
   {
    "duration": 38350,
    "start_time": "2022-05-21T17:23:33.653Z"
   },
   {
    "duration": 20956,
    "start_time": "2022-05-21T17:25:01.857Z"
   },
   {
    "duration": 9,
    "start_time": "2022-05-21T17:25:50.188Z"
   },
   {
    "duration": 4,
    "start_time": "2022-05-21T17:26:15.124Z"
   },
   {
    "duration": 8,
    "start_time": "2022-05-21T17:26:20.786Z"
   },
   {
    "duration": 149,
    "start_time": "2022-05-21T17:26:30.711Z"
   },
   {
    "duration": 158,
    "start_time": "2022-05-21T17:26:57.595Z"
   },
   {
    "duration": 111,
    "start_time": "2022-05-21T17:29:20.215Z"
   },
   {
    "duration": 444,
    "start_time": "2022-05-21T17:29:42.126Z"
   },
   {
    "duration": 113,
    "start_time": "2022-05-21T17:29:47.389Z"
   },
   {
    "duration": 9,
    "start_time": "2022-05-21T17:30:32.614Z"
   },
   {
    "duration": 4,
    "start_time": "2022-05-21T17:30:38.164Z"
   },
   {
    "duration": 7,
    "start_time": "2022-05-21T17:30:38.873Z"
   },
   {
    "duration": 4,
    "start_time": "2022-05-21T17:30:54.413Z"
   },
   {
    "duration": 13,
    "start_time": "2022-05-21T17:30:55.219Z"
   },
   {
    "duration": 10,
    "start_time": "2022-05-21T17:32:41.448Z"
   },
   {
    "duration": 4,
    "start_time": "2022-05-21T17:32:46.459Z"
   },
   {
    "duration": 11,
    "start_time": "2022-05-21T17:33:36.709Z"
   },
   {
    "duration": 5,
    "start_time": "2022-05-21T17:34:21.589Z"
   },
   {
    "duration": 12,
    "start_time": "2022-05-21T17:34:57.520Z"
   },
   {
    "duration": 18,
    "start_time": "2022-05-21T17:37:32.588Z"
   },
   {
    "duration": 5,
    "start_time": "2022-05-21T17:38:00.924Z"
   },
   {
    "duration": 16,
    "start_time": "2022-05-21T17:38:49.905Z"
   },
   {
    "duration": 14,
    "start_time": "2022-05-21T17:40:58.804Z"
   },
   {
    "duration": 11,
    "start_time": "2022-05-21T17:41:34.156Z"
   },
   {
    "duration": 10,
    "start_time": "2022-05-21T17:41:47.955Z"
   },
   {
    "duration": 40,
    "start_time": "2022-05-21T17:45:58.625Z"
   },
   {
    "duration": 10,
    "start_time": "2022-05-21T17:46:03.252Z"
   },
   {
    "duration": 9,
    "start_time": "2022-05-21T17:46:11.466Z"
   },
   {
    "duration": 15,
    "start_time": "2022-05-21T17:46:39.801Z"
   },
   {
    "duration": 13,
    "start_time": "2022-05-21T17:48:25.577Z"
   },
   {
    "duration": 20,
    "start_time": "2022-05-21T17:49:05.794Z"
   },
   {
    "duration": 4,
    "start_time": "2022-05-21T17:49:33.533Z"
   },
   {
    "duration": 8,
    "start_time": "2022-05-21T17:49:40.698Z"
   },
   {
    "duration": 3,
    "start_time": "2022-05-21T17:49:59.567Z"
   },
   {
    "duration": 8,
    "start_time": "2022-05-21T17:50:00.426Z"
   },
   {
    "duration": 4,
    "start_time": "2022-05-21T17:50:29.884Z"
   },
   {
    "duration": 6,
    "start_time": "2022-05-21T17:50:41.470Z"
   },
   {
    "duration": 4,
    "start_time": "2022-05-21T17:50:52.604Z"
   },
   {
    "duration": 6,
    "start_time": "2022-05-21T17:50:53.461Z"
   },
   {
    "duration": 22093,
    "start_time": "2022-05-21T17:52:01.412Z"
   },
   {
    "duration": 5,
    "start_time": "2022-05-21T17:52:24.476Z"
   },
   {
    "duration": 320,
    "start_time": "2022-05-21T17:52:41.191Z"
   },
   {
    "duration": 500,
    "start_time": "2022-05-21T17:52:44.699Z"
   },
   {
    "duration": 7,
    "start_time": "2022-05-21T17:52:51.076Z"
   },
   {
    "duration": 419,
    "start_time": "2022-05-21T17:53:36.954Z"
   },
   {
    "duration": 519,
    "start_time": "2022-05-21T17:54:39.829Z"
   },
   {
    "duration": 9,
    "start_time": "2022-05-21T17:54:44.074Z"
   },
   {
    "duration": 8563,
    "start_time": "2022-05-21T17:55:55.088Z"
   },
   {
    "duration": 7,
    "start_time": "2022-05-21T17:58:45.155Z"
   },
   {
    "duration": 5,
    "start_time": "2022-05-21T17:59:12.891Z"
   },
   {
    "duration": 18560,
    "start_time": "2022-05-21T17:59:20.469Z"
   },
   {
    "duration": 8786,
    "start_time": "2022-05-21T17:59:39.032Z"
   },
   {
    "duration": 671584,
    "start_time": "2022-05-21T17:59:47.821Z"
   },
   {
    "duration": 347905,
    "start_time": "2022-05-21T18:10:59.408Z"
   },
   {
    "duration": 32499,
    "start_time": "2022-05-21T18:16:47.315Z"
   },
   {
    "duration": 13,
    "start_time": "2022-05-21T18:17:19.815Z"
   },
   {
    "duration": 229,
    "start_time": "2022-05-21T18:17:20.104Z"
   },
   {
    "duration": 321247,
    "start_time": "2022-05-21T18:22:22.280Z"
   },
   {
    "duration": 493104,
    "start_time": "2022-05-21T18:29:02.617Z"
   },
   {
    "duration": 7,
    "start_time": "2022-05-21T18:45:09.732Z"
   },
   {
    "duration": 339,
    "start_time": "2022-05-21T18:45:10.921Z"
   },
   {
    "duration": 145,
    "start_time": "2022-05-21T18:45:50.186Z"
   },
   {
    "duration": 541,
    "start_time": "2022-05-21T18:45:59.297Z"
   },
   {
    "duration": 29648,
    "start_time": "2022-05-21T18:54:01.992Z"
   },
   {
    "duration": 7,
    "start_time": "2022-05-21T18:54:57.881Z"
   },
   {
    "duration": 229,
    "start_time": "2022-05-21T18:54:58.520Z"
   },
   {
    "duration": 5,
    "start_time": "2022-05-21T19:22:20.194Z"
   },
   {
    "duration": 5,
    "start_time": "2022-05-21T19:40:48.801Z"
   },
   {
    "duration": 22634,
    "start_time": "2022-05-21T19:40:52.273Z"
   },
   {
    "duration": 35,
    "start_time": "2022-05-21T19:47:48.707Z"
   },
   {
    "duration": 10,
    "start_time": "2022-05-21T19:48:59.629Z"
   },
   {
    "duration": 4,
    "start_time": "2022-05-21T19:49:12.967Z"
   },
   {
    "duration": 10,
    "start_time": "2022-05-21T19:49:26.647Z"
   },
   {
    "duration": 5,
    "start_time": "2022-05-21T19:49:33.832Z"
   },
   {
    "duration": 16,
    "start_time": "2022-05-21T19:54:22.999Z"
   },
   {
    "duration": 4,
    "start_time": "2022-05-21T19:54:28.075Z"
   },
   {
    "duration": 7484,
    "start_time": "2022-05-21T19:54:33.513Z"
   },
   {
    "duration": 0,
    "start_time": "2022-05-21T19:54:41.000Z"
   },
   {
    "duration": 7461,
    "start_time": "2022-05-21T19:55:20.631Z"
   },
   {
    "duration": 7609,
    "start_time": "2022-05-21T19:55:58.230Z"
   },
   {
    "duration": 725,
    "start_time": "2022-05-21T19:56:24.841Z"
   },
   {
    "duration": 5,
    "start_time": "2022-05-21T19:56:28.995Z"
   },
   {
    "duration": 4,
    "start_time": "2022-05-21T19:56:40.526Z"
   },
   {
    "duration": 13,
    "start_time": "2022-05-21T19:58:41.015Z"
   },
   {
    "duration": 4,
    "start_time": "2022-05-21T19:58:42.479Z"
   },
   {
    "duration": 423974,
    "start_time": "2022-05-21T19:58:57.584Z"
   },
   {
    "duration": 1530,
    "start_time": "2022-05-22T08:21:42.812Z"
   },
   {
    "duration": 3110,
    "start_time": "2022-05-22T08:22:07.152Z"
   },
   {
    "duration": 4,
    "start_time": "2022-05-22T08:22:11.493Z"
   },
   {
    "duration": 1179,
    "start_time": "2022-05-22T08:22:12.566Z"
   },
   {
    "duration": 293,
    "start_time": "2022-05-22T08:22:27.316Z"
   },
   {
    "duration": 18,
    "start_time": "2022-05-22T08:22:28.485Z"
   },
   {
    "duration": 18,
    "start_time": "2022-05-22T08:22:30.766Z"
   },
   {
    "duration": 6,
    "start_time": "2022-05-22T08:22:31.700Z"
   },
   {
    "duration": 12,
    "start_time": "2022-05-22T08:22:32.578Z"
   },
   {
    "duration": 13,
    "start_time": "2022-05-22T08:22:37.589Z"
   },
   {
    "duration": 156,
    "start_time": "2022-05-22T08:23:42.350Z"
   },
   {
    "duration": 15,
    "start_time": "2022-05-22T08:23:52.301Z"
   },
   {
    "duration": 173,
    "start_time": "2022-05-22T08:24:17.980Z"
   },
   {
    "duration": 197,
    "start_time": "2022-05-22T08:24:19.516Z"
   },
   {
    "duration": 380,
    "start_time": "2022-05-22T08:24:28.005Z"
   },
   {
    "duration": 34,
    "start_time": "2022-05-22T08:24:29.718Z"
   },
   {
    "duration": 614,
    "start_time": "2022-05-22T08:25:03.485Z"
   },
   {
    "duration": 80,
    "start_time": "2022-05-22T08:25:10.030Z"
   },
   {
    "duration": 171,
    "start_time": "2022-05-22T08:25:30.669Z"
   },
   {
    "duration": 272,
    "start_time": "2022-05-22T08:25:31.726Z"
   },
   {
    "duration": 31,
    "start_time": "2022-05-22T08:25:32.040Z"
   },
   {
    "duration": 130,
    "start_time": "2022-05-22T08:25:32.637Z"
   },
   {
    "duration": 259,
    "start_time": "2022-05-22T08:25:33.245Z"
   },
   {
    "duration": 7,
    "start_time": "2022-05-22T08:25:33.774Z"
   },
   {
    "duration": 6,
    "start_time": "2022-05-22T08:25:50.981Z"
   },
   {
    "duration": 649,
    "start_time": "2022-05-22T08:25:54.590Z"
   },
   {
    "duration": 13,
    "start_time": "2022-05-22T08:26:09.917Z"
   },
   {
    "duration": 4,
    "start_time": "2022-05-22T08:26:11.351Z"
   },
   {
    "duration": 23,
    "start_time": "2022-05-22T08:26:16.731Z"
   },
   {
    "duration": 10,
    "start_time": "2022-05-22T08:26:17.085Z"
   },
   {
    "duration": 763,
    "start_time": "2022-05-22T08:26:18.477Z"
   },
   {
    "duration": 9,
    "start_time": "2022-05-22T08:26:22.765Z"
   },
   {
    "duration": 699,
    "start_time": "2022-05-22T08:26:25.325Z"
   },
   {
    "duration": 360,
    "start_time": "2022-05-22T08:26:32.716Z"
   },
   {
    "duration": 69,
    "start_time": "2022-05-22T08:26:33.859Z"
   },
   {
    "duration": 166,
    "start_time": "2022-05-22T08:26:34.963Z"
   },
   {
    "duration": 264,
    "start_time": "2022-05-22T08:26:35.557Z"
   },
   {
    "duration": 15,
    "start_time": "2022-05-22T08:26:36.611Z"
   },
   {
    "duration": 86,
    "start_time": "2022-05-22T08:26:37.203Z"
   },
   {
    "duration": 55,
    "start_time": "2022-05-22T08:26:49.332Z"
   },
   {
    "duration": 47,
    "start_time": "2022-05-22T08:26:49.740Z"
   },
   {
    "duration": 37,
    "start_time": "2022-05-22T08:26:50.132Z"
   },
   {
    "duration": 70,
    "start_time": "2022-05-22T08:26:50.332Z"
   },
   {
    "duration": 5,
    "start_time": "2022-05-22T08:26:51.794Z"
   },
   {
    "duration": 708,
    "start_time": "2022-05-22T08:26:57.901Z"
   },
   {
    "duration": 6,
    "start_time": "2022-05-22T08:27:00.428Z"
   },
   {
    "duration": 5,
    "start_time": "2022-05-22T08:27:09.132Z"
   },
   {
    "duration": 6,
    "start_time": "2022-05-22T08:27:10.038Z"
   },
   {
    "duration": 1713,
    "start_time": "2022-05-22T08:52:31.458Z"
   },
   {
    "duration": 1052,
    "start_time": "2022-05-22T08:52:33.174Z"
   },
   {
    "duration": 5,
    "start_time": "2022-05-22T08:52:34.228Z"
   },
   {
    "duration": 1210,
    "start_time": "2022-05-22T08:52:34.235Z"
   },
   {
    "duration": 513,
    "start_time": "2022-05-22T08:52:35.448Z"
   },
   {
    "duration": 28,
    "start_time": "2022-05-22T08:52:35.963Z"
   },
   {
    "duration": 19,
    "start_time": "2022-05-22T08:52:35.993Z"
   },
   {
    "duration": 9,
    "start_time": "2022-05-22T08:52:36.014Z"
   },
   {
    "duration": 17,
    "start_time": "2022-05-22T08:52:36.025Z"
   },
   {
    "duration": 49,
    "start_time": "2022-05-22T08:52:36.045Z"
   },
   {
    "duration": 262,
    "start_time": "2022-05-22T08:52:36.096Z"
   },
   {
    "duration": 34,
    "start_time": "2022-05-22T08:52:36.361Z"
   },
   {
    "duration": 242,
    "start_time": "2022-05-22T08:52:36.397Z"
   },
   {
    "duration": 214,
    "start_time": "2022-05-22T08:52:36.641Z"
   },
   {
    "duration": 543,
    "start_time": "2022-05-22T08:52:36.857Z"
   },
   {
    "duration": 59,
    "start_time": "2022-05-22T08:52:37.402Z"
   },
   {
    "duration": 670,
    "start_time": "2022-05-22T08:52:37.463Z"
   },
   {
    "duration": 126,
    "start_time": "2022-05-22T08:52:38.136Z"
   },
   {
    "duration": 188,
    "start_time": "2022-05-22T08:52:38.264Z"
   },
   {
    "duration": 317,
    "start_time": "2022-05-22T08:52:38.454Z"
   },
   {
    "duration": 35,
    "start_time": "2022-05-22T08:52:38.773Z"
   },
   {
    "duration": 147,
    "start_time": "2022-05-22T08:52:38.812Z"
   },
   {
    "duration": 246,
    "start_time": "2022-05-22T08:52:38.961Z"
   },
   {
    "duration": 7,
    "start_time": "2022-05-22T08:52:39.208Z"
   },
   {
    "duration": 5,
    "start_time": "2022-05-22T08:52:39.217Z"
   },
   {
    "duration": 661,
    "start_time": "2022-05-22T08:52:39.223Z"
   },
   {
    "duration": 16,
    "start_time": "2022-05-22T08:52:39.886Z"
   },
   {
    "duration": 7,
    "start_time": "2022-05-22T08:52:39.908Z"
   },
   {
    "duration": 23,
    "start_time": "2022-05-22T08:52:39.917Z"
   },
   {
    "duration": 12,
    "start_time": "2022-05-22T08:52:39.942Z"
   },
   {
    "duration": 841,
    "start_time": "2022-05-22T08:52:39.956Z"
   },
   {
    "duration": 11,
    "start_time": "2022-05-22T08:52:40.799Z"
   },
   {
    "duration": 758,
    "start_time": "2022-05-22T08:52:40.812Z"
   },
   {
    "duration": 422,
    "start_time": "2022-05-22T08:52:41.573Z"
   },
   {
    "duration": 75,
    "start_time": "2022-05-22T08:52:41.997Z"
   },
   {
    "duration": 197,
    "start_time": "2022-05-22T08:52:42.074Z"
   },
   {
    "duration": 269,
    "start_time": "2022-05-22T08:52:42.273Z"
   },
   {
    "duration": 15,
    "start_time": "2022-05-22T08:52:42.544Z"
   },
   {
    "duration": 100,
    "start_time": "2022-05-22T08:52:42.560Z"
   },
   {
    "duration": 69,
    "start_time": "2022-05-22T08:52:42.662Z"
   },
   {
    "duration": 51,
    "start_time": "2022-05-22T08:52:42.733Z"
   },
   {
    "duration": 25,
    "start_time": "2022-05-22T08:52:42.786Z"
   },
   {
    "duration": 93,
    "start_time": "2022-05-22T08:52:42.813Z"
   },
   {
    "duration": 4,
    "start_time": "2022-05-22T08:52:42.907Z"
   },
   {
    "duration": 651,
    "start_time": "2022-05-22T08:52:42.913Z"
   },
   {
    "duration": 19,
    "start_time": "2022-05-22T08:52:43.566Z"
   },
   {
    "duration": 5,
    "start_time": "2022-05-22T08:52:43.588Z"
   },
   {
    "duration": 12,
    "start_time": "2022-05-22T08:52:43.595Z"
   },
   {
    "duration": 29284,
    "start_time": "2022-05-22T08:52:43.610Z"
   },
   {
    "duration": 9128,
    "start_time": "2022-05-22T08:53:12.896Z"
   },
   {
    "duration": 701789,
    "start_time": "2022-05-22T08:53:22.026Z"
   },
   {
    "duration": 427673,
    "start_time": "2022-05-22T09:05:03.817Z"
   },
   {
    "duration": 388612,
    "start_time": "2022-05-22T09:12:11.492Z"
   },
   {
    "duration": 331101,
    "start_time": "2022-05-22T09:18:40.108Z"
   },
   {
    "duration": 29844,
    "start_time": "2022-05-22T09:24:11.211Z"
   },
   {
    "duration": 264477,
    "start_time": "2022-05-22T09:24:41.058Z"
   },
   {
    "duration": 25196,
    "start_time": "2022-05-22T09:29:05.537Z"
   },
   {
    "duration": 7,
    "start_time": "2022-05-22T09:29:30.735Z"
   },
   {
    "duration": 197,
    "start_time": "2022-05-22T09:29:30.743Z"
   },
   {
    "duration": 18,
    "start_time": "2022-05-22T09:29:30.942Z"
   },
   {
    "duration": 406105,
    "start_time": "2022-05-22T09:29:30.962Z"
   },
   {
    "duration": 7,
    "start_time": "2022-05-22T09:36:17.069Z"
   },
   {
    "duration": 24,
    "start_time": "2022-05-22T14:21:56.763Z"
   },
   {
    "duration": 570,
    "start_time": "2022-05-22T14:26:31.755Z"
   },
   {
    "duration": 458,
    "start_time": "2022-05-22T14:26:46.282Z"
   },
   {
    "duration": 40,
    "start_time": "2022-05-22T14:30:03.167Z"
   },
   {
    "duration": 43,
    "start_time": "2022-05-22T14:32:31.729Z"
   },
   {
    "duration": 46,
    "start_time": "2022-05-22T14:32:42.623Z"
   },
   {
    "duration": 310,
    "start_time": "2022-05-22T14:32:50.054Z"
   },
   {
    "duration": 316,
    "start_time": "2022-05-22T14:33:04.090Z"
   },
   {
    "duration": 345,
    "start_time": "2022-05-22T14:33:10.678Z"
   },
   {
    "duration": 479,
    "start_time": "2022-05-22T14:33:28.289Z"
   },
   {
    "duration": 333,
    "start_time": "2022-05-22T14:34:04.531Z"
   },
   {
    "duration": 507,
    "start_time": "2022-05-22T14:35:56.000Z"
   },
   {
    "duration": 454,
    "start_time": "2022-05-22T14:36:27.970Z"
   },
   {
    "duration": 358,
    "start_time": "2022-05-22T14:36:34.505Z"
   },
   {
    "duration": 408,
    "start_time": "2022-05-22T14:37:15.250Z"
   },
   {
    "duration": 469,
    "start_time": "2022-05-22T14:38:13.030Z"
   },
   {
    "duration": 491,
    "start_time": "2022-05-22T14:38:18.379Z"
   },
   {
    "duration": 348,
    "start_time": "2022-05-22T14:38:57.209Z"
   },
   {
    "duration": 341,
    "start_time": "2022-05-22T14:39:02.563Z"
   },
   {
    "duration": 197,
    "start_time": "2022-05-22T14:39:57.562Z"
   },
   {
    "duration": 1159,
    "start_time": "2022-05-22T14:40:26.191Z"
   },
   {
    "duration": 331,
    "start_time": "2022-05-22T14:40:37.313Z"
   },
   {
    "duration": 18,
    "start_time": "2022-05-22T14:40:40.511Z"
   },
   {
    "duration": 8,
    "start_time": "2022-05-22T14:40:41.736Z"
   },
   {
    "duration": 21,
    "start_time": "2022-05-22T14:40:43.397Z"
   },
   {
    "duration": 23,
    "start_time": "2022-05-22T14:40:44.895Z"
   },
   {
    "duration": 222,
    "start_time": "2022-05-22T14:40:45.674Z"
   },
   {
    "duration": 196,
    "start_time": "2022-05-22T14:41:03.762Z"
   },
   {
    "duration": 194,
    "start_time": "2022-05-22T14:44:22.933Z"
   },
   {
    "duration": 177,
    "start_time": "2022-05-22T14:44:34.458Z"
   },
   {
    "duration": 416,
    "start_time": "2022-05-22T14:53:58.392Z"
   },
   {
    "duration": 218,
    "start_time": "2022-05-22T14:54:07.450Z"
   },
   {
    "duration": 231,
    "start_time": "2022-05-22T14:54:30.333Z"
   },
   {
    "duration": 236,
    "start_time": "2022-05-22T14:54:48.152Z"
   },
   {
    "duration": 235,
    "start_time": "2022-05-22T14:55:16.950Z"
   },
   {
    "duration": 191,
    "start_time": "2022-05-22T14:56:27.221Z"
   },
   {
    "duration": 350,
    "start_time": "2022-05-22T14:56:48.803Z"
   },
   {
    "duration": 230,
    "start_time": "2022-05-22T14:56:54.710Z"
   },
   {
    "duration": 476,
    "start_time": "2022-05-22T14:59:15.056Z"
   },
   {
    "duration": 561,
    "start_time": "2022-05-22T14:59:29.656Z"
   },
   {
    "duration": 375,
    "start_time": "2022-05-22T15:00:10.191Z"
   },
   {
    "duration": 46,
    "start_time": "2022-05-22T15:01:58.072Z"
   },
   {
    "duration": 282,
    "start_time": "2022-05-22T15:02:02.036Z"
   },
   {
    "duration": 191,
    "start_time": "2022-05-22T15:02:35.343Z"
   },
   {
    "duration": 197,
    "start_time": "2022-05-22T15:02:45.170Z"
   },
   {
    "duration": 45,
    "start_time": "2022-05-22T15:04:05.945Z"
   },
   {
    "duration": 509,
    "start_time": "2022-05-22T15:04:12.618Z"
   },
   {
    "duration": 737,
    "start_time": "2022-05-22T15:04:44.818Z"
   },
   {
    "duration": 527,
    "start_time": "2022-05-22T15:05:23.538Z"
   },
   {
    "duration": 36,
    "start_time": "2022-05-22T15:06:08.561Z"
   },
   {
    "duration": 31,
    "start_time": "2022-05-22T15:06:13.584Z"
   },
   {
    "duration": 176,
    "start_time": "2022-05-22T15:07:54.246Z"
   },
   {
    "duration": 37,
    "start_time": "2022-05-22T15:09:05.552Z"
   },
   {
    "duration": 276,
    "start_time": "2022-05-22T15:09:10.960Z"
   },
   {
    "duration": 183,
    "start_time": "2022-05-22T15:09:37.124Z"
   },
   {
    "duration": 283,
    "start_time": "2022-05-22T15:09:54.859Z"
   },
   {
    "duration": 35,
    "start_time": "2022-05-22T15:10:39.658Z"
   },
   {
    "duration": 172,
    "start_time": "2022-05-22T15:11:22.339Z"
   },
   {
    "duration": 140,
    "start_time": "2022-05-22T15:12:07.446Z"
   },
   {
    "duration": 344,
    "start_time": "2022-05-22T15:13:12.188Z"
   },
   {
    "duration": 499,
    "start_time": "2022-05-22T15:13:55.818Z"
   },
   {
    "duration": 6,
    "start_time": "2022-05-22T15:14:28.898Z"
   },
   {
    "duration": 6,
    "start_time": "2022-05-22T15:14:39.606Z"
   },
   {
    "duration": 481,
    "start_time": "2022-05-22T15:15:16.395Z"
   },
   {
    "duration": 12,
    "start_time": "2022-05-22T15:17:36.117Z"
   },
   {
    "duration": 20,
    "start_time": "2022-05-22T15:18:45.448Z"
   },
   {
    "duration": 19,
    "start_time": "2022-05-22T15:19:49.687Z"
   },
   {
    "duration": 28,
    "start_time": "2022-05-22T15:20:18.598Z"
   },
   {
    "duration": 9,
    "start_time": "2022-05-22T15:21:36.161Z"
   },
   {
    "duration": 14,
    "start_time": "2022-05-22T15:22:14.759Z"
   },
   {
    "duration": 5,
    "start_time": "2022-05-22T15:23:23.922Z"
   },
   {
    "duration": 786,
    "start_time": "2022-05-22T15:23:24.815Z"
   },
   {
    "duration": 4,
    "start_time": "2022-05-22T15:23:32.197Z"
   },
   {
    "duration": 589,
    "start_time": "2022-05-22T15:23:32.756Z"
   },
   {
    "duration": 660,
    "start_time": "2022-05-22T15:23:59.871Z"
   },
   {
    "duration": 878,
    "start_time": "2022-05-22T15:24:10.539Z"
   },
   {
    "duration": 5,
    "start_time": "2022-05-22T15:25:05.185Z"
   },
   {
    "duration": 591,
    "start_time": "2022-05-22T15:25:05.759Z"
   },
   {
    "duration": 19,
    "start_time": "2022-05-22T15:25:11.527Z"
   },
   {
    "duration": 22,
    "start_time": "2022-05-22T15:25:12.015Z"
   },
   {
    "duration": 14,
    "start_time": "2022-05-22T15:25:12.200Z"
   },
   {
    "duration": 639,
    "start_time": "2022-05-22T15:25:12.358Z"
   },
   {
    "duration": 9,
    "start_time": "2022-05-22T15:25:12.999Z"
   },
   {
    "duration": 699,
    "start_time": "2022-05-22T15:25:16.230Z"
   },
   {
    "duration": 76,
    "start_time": "2022-05-22T15:35:45.438Z"
   },
   {
    "duration": 69,
    "start_time": "2022-05-22T15:35:47.915Z"
   },
   {
    "duration": 271,
    "start_time": "2022-05-22T15:35:58.562Z"
   },
   {
    "duration": 67,
    "start_time": "2022-05-22T15:35:58.971Z"
   },
   {
    "duration": 148,
    "start_time": "2022-05-22T15:36:00.050Z"
   },
   {
    "duration": 364,
    "start_time": "2022-05-22T15:36:00.514Z"
   },
   {
    "duration": 15,
    "start_time": "2022-05-22T15:36:01.069Z"
   },
   {
    "duration": 77,
    "start_time": "2022-05-22T15:36:01.578Z"
   },
   {
    "duration": 49,
    "start_time": "2022-05-22T15:36:09.233Z"
   },
   {
    "duration": 35,
    "start_time": "2022-05-22T15:37:49.460Z"
   },
   {
    "duration": 100,
    "start_time": "2022-05-22T15:37:52.850Z"
   },
   {
    "duration": 3,
    "start_time": "2022-05-22T15:39:51.203Z"
   },
   {
    "duration": 668,
    "start_time": "2022-05-22T15:43:06.252Z"
   },
   {
    "duration": 5,
    "start_time": "2022-05-22T15:43:09.054Z"
   },
   {
    "duration": 6,
    "start_time": "2022-05-22T15:44:14.471Z"
   },
   {
    "duration": 943,
    "start_time": "2022-05-22T15:44:14.479Z"
   },
   {
    "duration": 4,
    "start_time": "2022-05-22T15:44:15.425Z"
   },
   {
    "duration": 1063,
    "start_time": "2022-05-22T15:44:15.431Z"
   },
   {
    "duration": 331,
    "start_time": "2022-05-22T15:44:16.496Z"
   },
   {
    "duration": 17,
    "start_time": "2022-05-22T15:44:16.828Z"
   },
   {
    "duration": 6,
    "start_time": "2022-05-22T15:44:16.847Z"
   },
   {
    "duration": 47,
    "start_time": "2022-05-22T15:44:16.854Z"
   },
   {
    "duration": 17,
    "start_time": "2022-05-22T15:44:16.903Z"
   },
   {
    "duration": 174,
    "start_time": "2022-05-22T15:44:16.922Z"
   },
   {
    "duration": 15,
    "start_time": "2022-05-22T15:44:17.099Z"
   },
   {
    "duration": 200,
    "start_time": "2022-05-22T15:44:17.116Z"
   },
   {
    "duration": 526,
    "start_time": "2022-05-22T15:44:17.318Z"
   },
   {
    "duration": 47,
    "start_time": "2022-05-22T15:44:17.846Z"
   },
   {
    "duration": 221,
    "start_time": "2022-05-22T15:44:17.895Z"
   },
   {
    "duration": 287,
    "start_time": "2022-05-22T15:44:18.118Z"
   },
   {
    "duration": 34,
    "start_time": "2022-05-22T15:44:18.407Z"
   },
   {
    "duration": 159,
    "start_time": "2022-05-22T15:44:18.443Z"
   },
   {
    "duration": 481,
    "start_time": "2022-05-22T15:44:18.604Z"
   },
   {
    "duration": 7,
    "start_time": "2022-05-22T15:44:19.087Z"
   },
   {
    "duration": 5,
    "start_time": "2022-05-22T15:44:19.097Z"
   },
   {
    "duration": 792,
    "start_time": "2022-05-22T15:44:19.103Z"
   },
   {
    "duration": 19,
    "start_time": "2022-05-22T15:44:19.896Z"
   },
   {
    "duration": 22,
    "start_time": "2022-05-22T15:44:19.916Z"
   },
   {
    "duration": 13,
    "start_time": "2022-05-22T15:44:19.940Z"
   },
   {
    "duration": 689,
    "start_time": "2022-05-22T15:44:19.954Z"
   },
   {
    "duration": 690,
    "start_time": "2022-05-22T15:44:20.644Z"
   },
   {
    "duration": 347,
    "start_time": "2022-05-22T15:44:21.336Z"
   },
   {
    "duration": 77,
    "start_time": "2022-05-22T15:44:21.687Z"
   },
   {
    "duration": 169,
    "start_time": "2022-05-22T15:44:21.766Z"
   },
   {
    "duration": 273,
    "start_time": "2022-05-22T15:44:21.937Z"
   },
   {
    "duration": 15,
    "start_time": "2022-05-22T15:44:22.212Z"
   },
   {
    "duration": 101,
    "start_time": "2022-05-22T15:44:22.229Z"
   },
   {
    "duration": 64,
    "start_time": "2022-05-22T15:44:22.332Z"
   },
   {
    "duration": 65,
    "start_time": "2022-05-22T15:44:22.397Z"
   },
   {
    "duration": 26,
    "start_time": "2022-05-22T15:44:24.668Z"
   },
   {
    "duration": 74,
    "start_time": "2022-05-22T15:44:25.240Z"
   },
   {
    "duration": 4,
    "start_time": "2022-05-22T15:44:26.203Z"
   },
   {
    "duration": 4,
    "start_time": "2022-05-22T15:45:17.393Z"
   },
   {
    "duration": 698,
    "start_time": "2022-05-22T15:45:26.781Z"
   },
   {
    "duration": 19168,
    "start_time": "2022-05-22T15:56:56.442Z"
   },
   {
    "duration": 19698,
    "start_time": "2022-05-22T15:57:17.912Z"
   },
   {
    "duration": 5051,
    "start_time": "2022-05-22T15:57:38.951Z"
   },
   {
    "duration": 730909,
    "start_time": "2022-05-22T15:57:48.516Z"
   },
   {
    "duration": 436,
    "start_time": "2022-05-22T16:09:59.892Z"
   },
   {
    "duration": 175167,
    "start_time": "2022-05-22T16:12:46.028Z"
   },
   {
    "duration": 280308,
    "start_time": "2022-05-22T16:17:17.206Z"
   },
   {
    "duration": 13,
    "start_time": "2022-05-22T16:32:30.311Z"
   },
   {
    "duration": 6,
    "start_time": "2022-05-22T16:32:34.848Z"
   },
   {
    "duration": 68,
    "start_time": "2022-05-22T16:32:51.285Z"
   },
   {
    "duration": 975136,
    "start_time": "2022-05-22T16:33:00.176Z"
   },
   {
    "duration": 216,
    "start_time": "2022-05-22T16:59:45.621Z"
   },
   {
    "duration": 247,
    "start_time": "2022-05-22T17:00:04.855Z"
   },
   {
    "duration": 5,
    "start_time": "2022-05-22T17:04:56.462Z"
   },
   {
    "duration": 1343,
    "start_time": "2022-05-22T17:05:16.098Z"
   },
   {
    "duration": 1159,
    "start_time": "2022-05-22T17:05:17.445Z"
   },
   {
    "duration": 4,
    "start_time": "2022-05-22T17:05:18.606Z"
   },
   {
    "duration": 2081,
    "start_time": "2022-05-22T17:05:18.614Z"
   },
   {
    "duration": 623,
    "start_time": "2022-05-22T17:05:20.698Z"
   },
   {
    "duration": 68,
    "start_time": "2022-05-22T17:05:21.323Z"
   },
   {
    "duration": 17,
    "start_time": "2022-05-22T17:05:21.393Z"
   },
   {
    "duration": 76,
    "start_time": "2022-05-22T17:05:21.412Z"
   },
   {
    "duration": 15,
    "start_time": "2022-05-22T17:05:21.490Z"
   },
   {
    "duration": 388,
    "start_time": "2022-05-22T17:05:21.509Z"
   },
   {
    "duration": 22,
    "start_time": "2022-05-22T17:05:21.899Z"
   },
   {
    "duration": 391,
    "start_time": "2022-05-22T17:05:21.923Z"
   },
   {
    "duration": 599,
    "start_time": "2022-05-22T17:05:22.317Z"
   },
   {
    "duration": 31,
    "start_time": "2022-05-22T17:05:22.918Z"
   },
   {
    "duration": 188,
    "start_time": "2022-05-22T17:05:22.951Z"
   },
   {
    "duration": 377,
    "start_time": "2022-05-22T17:05:23.140Z"
   },
   {
    "duration": 33,
    "start_time": "2022-05-22T17:05:23.518Z"
   },
   {
    "duration": 160,
    "start_time": "2022-05-22T17:05:23.553Z"
   },
   {
    "duration": 487,
    "start_time": "2022-05-22T17:05:23.715Z"
   },
   {
    "duration": 6,
    "start_time": "2022-05-22T17:05:24.204Z"
   },
   {
    "duration": 7,
    "start_time": "2022-05-22T17:05:24.212Z"
   },
   {
    "duration": 602,
    "start_time": "2022-05-22T17:05:24.220Z"
   },
   {
    "duration": 18,
    "start_time": "2022-05-22T17:05:24.824Z"
   },
   {
    "duration": 45,
    "start_time": "2022-05-22T17:05:24.844Z"
   },
   {
    "duration": 13,
    "start_time": "2022-05-22T17:05:24.892Z"
   },
   {
    "duration": 676,
    "start_time": "2022-05-22T17:05:24.907Z"
   },
   {
    "duration": 818,
    "start_time": "2022-05-22T17:05:25.585Z"
   },
   {
    "duration": 377,
    "start_time": "2022-05-22T17:05:26.406Z"
   },
   {
    "duration": 76,
    "start_time": "2022-05-22T17:05:26.785Z"
   },
   {
    "duration": 211,
    "start_time": "2022-05-22T17:05:26.863Z"
   },
   {
    "duration": 288,
    "start_time": "2022-05-22T17:05:27.076Z"
   },
   {
    "duration": 20,
    "start_time": "2022-05-22T17:05:27.366Z"
   },
   {
    "duration": 110,
    "start_time": "2022-05-22T17:05:27.387Z"
   },
   {
    "duration": 56,
    "start_time": "2022-05-22T17:05:27.499Z"
   },
   {
    "duration": 96,
    "start_time": "2022-05-22T17:05:27.557Z"
   },
   {
    "duration": 51,
    "start_time": "2022-05-22T17:05:27.656Z"
   },
   {
    "duration": 132,
    "start_time": "2022-05-22T17:05:27.710Z"
   },
   {
    "duration": 5,
    "start_time": "2022-05-22T17:05:27.845Z"
   },
   {
    "duration": 813,
    "start_time": "2022-05-22T17:05:27.851Z"
   },
   {
    "duration": 5,
    "start_time": "2022-05-22T17:05:28.666Z"
   },
   {
    "duration": 45,
    "start_time": "2022-05-22T17:05:28.672Z"
   },
   {
    "duration": 30674,
    "start_time": "2022-05-22T17:05:28.719Z"
   },
   {
    "duration": 10772,
    "start_time": "2022-05-22T17:05:59.394Z"
   },
   {
    "duration": 452113,
    "start_time": "2022-05-22T17:06:10.168Z"
   },
   {
    "duration": 8876,
    "start_time": "2022-05-22T17:13:42.283Z"
   },
   {
    "duration": 810717,
    "start_time": "2022-05-22T17:13:51.161Z"
   },
   {
    "duration": 357644,
    "start_time": "2022-05-22T17:27:21.880Z"
   },
   {
    "duration": 350074,
    "start_time": "2022-05-22T17:33:19.526Z"
   },
   {
    "duration": 365701,
    "start_time": "2022-05-22T17:39:09.602Z"
   },
   {
    "duration": 395882,
    "start_time": "2022-05-22T17:45:15.306Z"
   },
   {
    "duration": 0,
    "start_time": "2022-05-22T17:51:51.191Z"
   },
   {
    "duration": 0,
    "start_time": "2022-05-22T17:51:51.193Z"
   },
   {
    "duration": 0,
    "start_time": "2022-05-22T17:51:51.194Z"
   },
   {
    "duration": 0,
    "start_time": "2022-05-22T17:51:51.196Z"
   },
   {
    "duration": 0,
    "start_time": "2022-05-22T17:51:51.198Z"
   },
   {
    "duration": 0,
    "start_time": "2022-05-22T17:51:51.199Z"
   },
   {
    "duration": 0,
    "start_time": "2022-05-22T17:51:51.201Z"
   },
   {
    "duration": 0,
    "start_time": "2022-05-22T17:51:51.203Z"
   },
   {
    "duration": 0,
    "start_time": "2022-05-22T17:51:51.204Z"
   },
   {
    "duration": 297765,
    "start_time": "2022-05-22T17:54:20.349Z"
   },
   {
    "duration": 394588,
    "start_time": "2022-05-22T17:59:18.117Z"
   },
   {
    "duration": 26589,
    "start_time": "2022-05-22T18:05:52.706Z"
   },
   {
    "duration": 416228,
    "start_time": "2022-05-22T18:06:19.297Z"
   },
   {
    "duration": 26319,
    "start_time": "2022-05-22T18:13:15.527Z"
   },
   {
    "duration": 7,
    "start_time": "2022-05-22T18:13:41.847Z"
   },
   {
    "duration": 260,
    "start_time": "2022-05-22T18:13:41.856Z"
   },
   {
    "duration": 21,
    "start_time": "2022-05-22T18:13:42.118Z"
   },
   {
    "duration": 55046,
    "start_time": "2022-05-22T18:13:42.140Z"
   },
   {
    "duration": 200,
    "start_time": "2022-05-22T18:14:37.189Z"
   },
   {
    "duration": 1526,
    "start_time": "2022-05-23T15:09:25.624Z"
   },
   {
    "duration": 924,
    "start_time": "2022-05-23T15:09:27.152Z"
   },
   {
    "duration": 4,
    "start_time": "2022-05-23T15:09:28.078Z"
   },
   {
    "duration": 1216,
    "start_time": "2022-05-23T15:09:28.094Z"
   },
   {
    "duration": 330,
    "start_time": "2022-05-23T15:09:29.312Z"
   },
   {
    "duration": 18,
    "start_time": "2022-05-23T15:09:29.644Z"
   },
   {
    "duration": 29,
    "start_time": "2022-05-23T15:09:29.665Z"
   },
   {
    "duration": 18,
    "start_time": "2022-05-23T15:09:29.696Z"
   },
   {
    "duration": 23,
    "start_time": "2022-05-23T15:09:29.717Z"
   },
   {
    "duration": 169,
    "start_time": "2022-05-23T15:09:29.742Z"
   },
   {
    "duration": 15,
    "start_time": "2022-05-23T15:09:29.913Z"
   },
   {
    "duration": 244,
    "start_time": "2022-05-23T15:09:29.930Z"
   },
   {
    "duration": 613,
    "start_time": "2022-05-23T15:09:30.176Z"
   },
   {
    "duration": 30,
    "start_time": "2022-05-23T15:09:30.793Z"
   },
   {
    "duration": 163,
    "start_time": "2022-05-23T15:09:30.825Z"
   },
   {
    "duration": 261,
    "start_time": "2022-05-23T15:09:30.989Z"
   },
   {
    "duration": 32,
    "start_time": "2022-05-23T15:09:31.251Z"
   },
   {
    "duration": 141,
    "start_time": "2022-05-23T15:09:31.294Z"
   },
   {
    "duration": 432,
    "start_time": "2022-05-23T15:09:31.437Z"
   },
   {
    "duration": 24,
    "start_time": "2022-05-23T15:09:31.872Z"
   },
   {
    "duration": 5,
    "start_time": "2022-05-23T15:09:31.898Z"
   },
   {
    "duration": 576,
    "start_time": "2022-05-23T15:09:31.904Z"
   },
   {
    "duration": 34,
    "start_time": "2022-05-23T15:09:32.482Z"
   },
   {
    "duration": 27,
    "start_time": "2022-05-23T15:09:32.518Z"
   },
   {
    "duration": 12,
    "start_time": "2022-05-23T15:09:32.547Z"
   },
   {
    "duration": 747,
    "start_time": "2022-05-23T15:09:32.561Z"
   },
   {
    "duration": 616,
    "start_time": "2022-05-23T15:09:33.310Z"
   },
   {
    "duration": 347,
    "start_time": "2022-05-23T15:09:33.930Z"
   },
   {
    "duration": 64,
    "start_time": "2022-05-23T15:09:34.279Z"
   },
   {
    "duration": 172,
    "start_time": "2022-05-23T15:09:34.345Z"
   },
   {
    "duration": 237,
    "start_time": "2022-05-23T15:09:34.519Z"
   },
   {
    "duration": 13,
    "start_time": "2022-05-23T15:09:34.757Z"
   },
   {
    "duration": 92,
    "start_time": "2022-05-23T15:09:34.771Z"
   },
   {
    "duration": 61,
    "start_time": "2022-05-23T15:09:34.864Z"
   },
   {
    "duration": 68,
    "start_time": "2022-05-23T15:09:34.926Z"
   },
   {
    "duration": 25,
    "start_time": "2022-05-23T15:09:34.996Z"
   },
   {
    "duration": 87,
    "start_time": "2022-05-23T15:09:35.023Z"
   },
   {
    "duration": 3,
    "start_time": "2022-05-23T15:09:35.112Z"
   },
   {
    "duration": 667,
    "start_time": "2022-05-23T15:09:35.116Z"
   },
   {
    "duration": 10,
    "start_time": "2022-05-23T15:09:35.784Z"
   },
   {
    "duration": 4,
    "start_time": "2022-05-23T15:09:35.795Z"
   },
   {
    "duration": 30495,
    "start_time": "2022-05-23T15:09:35.800Z"
   },
   {
    "duration": 9686,
    "start_time": "2022-05-23T15:10:06.297Z"
   },
   {
    "duration": 416260,
    "start_time": "2022-05-23T15:10:15.985Z"
   },
   {
    "duration": 8510,
    "start_time": "2022-05-23T15:17:12.247Z"
   },
   {
    "duration": 739911,
    "start_time": "2022-05-23T15:17:20.759Z"
   },
   {
    "duration": 5245,
    "start_time": "2022-05-23T15:29:40.671Z"
   },
   {
    "duration": 4291,
    "start_time": "2022-05-23T15:29:45.918Z"
   },
   {
    "duration": 7702,
    "start_time": "2022-05-23T15:29:50.211Z"
   },
   {
    "duration": 6381,
    "start_time": "2022-05-23T15:29:57.914Z"
   },
   {
    "duration": 11213,
    "start_time": "2022-05-23T15:30:04.297Z"
   },
   {
    "duration": 24891,
    "start_time": "2022-05-23T15:30:15.512Z"
   },
   {
    "duration": 219890,
    "start_time": "2022-05-23T15:30:40.405Z"
   },
   {
    "duration": 22845,
    "start_time": "2022-05-23T15:34:20.296Z"
   },
   {
    "duration": 7,
    "start_time": "2022-05-23T15:34:43.142Z"
   },
   {
    "duration": 242,
    "start_time": "2022-05-23T15:34:43.150Z"
   },
   {
    "duration": 14,
    "start_time": "2022-05-23T15:34:43.394Z"
   },
   {
    "duration": 54147,
    "start_time": "2022-05-23T15:34:43.409Z"
   },
   {
    "duration": 157,
    "start_time": "2022-05-23T15:35:37.558Z"
   },
   {
    "duration": 4,
    "start_time": "2022-05-23T15:37:28.082Z"
   },
   {
    "duration": 105,
    "start_time": "2022-05-23T16:52:01.347Z"
   },
   {
    "duration": 693,
    "start_time": "2022-05-23T17:24:09.000Z"
   },
   {
    "duration": 7034,
    "start_time": "2022-05-23T17:24:15.785Z"
   },
   {
    "duration": 16600,
    "start_time": "2022-05-23T17:24:22.887Z"
   },
   {
    "duration": 2717,
    "start_time": "2022-05-23T17:24:57.886Z"
   },
   {
    "duration": 179,
    "start_time": "2022-05-23T17:25:00.614Z"
   },
   {
    "duration": 7,
    "start_time": "2022-05-23T17:25:00.794Z"
   },
   {
    "duration": 288,
    "start_time": "2022-05-23T17:25:00.804Z"
   },
   {
    "duration": 18,
    "start_time": "2022-05-23T17:25:01.104Z"
   },
   {
    "duration": 504,
    "start_time": "2022-05-23T17:25:01.285Z"
   },
   {
    "duration": 27,
    "start_time": "2022-05-23T17:25:01.791Z"
   },
   {
    "duration": 1106,
    "start_time": "2022-05-23T17:25:02.390Z"
   },
   {
    "duration": 3893,
    "start_time": "2022-05-23T17:25:03.498Z"
   },
   {
    "duration": 222,
    "start_time": "2022-05-23T17:25:07.394Z"
   },
   {
    "duration": 1378,
    "start_time": "2022-05-23T17:25:07.619Z"
   },
   {
    "duration": 2305,
    "start_time": "2022-05-23T17:25:08.999Z"
   },
   {
    "duration": 277,
    "start_time": "2022-05-23T17:25:11.309Z"
   },
   {
    "duration": 2021,
    "start_time": "2022-05-23T17:25:11.683Z"
   },
   {
    "duration": 3694,
    "start_time": "2022-05-23T17:25:13.710Z"
   },
   {
    "duration": 89,
    "start_time": "2022-05-23T17:25:17.413Z"
   },
   {
    "duration": 90,
    "start_time": "2022-05-23T17:25:17.511Z"
   },
   {
    "duration": 4028,
    "start_time": "2022-05-23T17:25:17.687Z"
   },
   {
    "duration": 105,
    "start_time": "2022-05-23T17:25:21.785Z"
   },
   {
    "duration": 214,
    "start_time": "2022-05-23T17:25:21.892Z"
   },
   {
    "duration": 19,
    "start_time": "2022-05-23T17:25:22.189Z"
   },
   {
    "duration": 4500,
    "start_time": "2022-05-23T17:25:22.211Z"
   },
   {
    "duration": 5582,
    "start_time": "2022-05-23T17:25:26.716Z"
   },
   {
    "duration": 261917,
    "start_time": "2022-05-23T17:26:07.685Z"
   },
   {
    "duration": 109,
    "start_time": "2022-05-23T17:31:10.985Z"
   },
   {
    "duration": 10,
    "start_time": "2022-05-23T17:31:43.784Z"
   },
   {
    "duration": 24,
    "start_time": "2022-05-23T17:32:02.583Z"
   },
   {
    "duration": 1405,
    "start_time": "2022-05-23T17:32:08.996Z"
   },
   {
    "duration": 24,
    "start_time": "2022-05-23T17:32:29.486Z"
   },
   {
    "duration": 58343,
    "start_time": "2022-05-23T17:33:42.646Z"
   },
   {
    "duration": 921,
    "start_time": "2022-05-23T17:36:36.471Z"
   },
   {
    "duration": 153,
    "start_time": "2022-05-23T17:36:53.354Z"
   },
   {
    "duration": 433,
    "start_time": "2022-05-23T17:37:43.876Z"
   },
   {
    "duration": 2108,
    "start_time": "2022-05-23T17:37:55.114Z"
   },
   {
    "duration": 1078,
    "start_time": "2022-05-23T17:38:16.376Z"
   },
   {
    "duration": 9,
    "start_time": "2022-05-23T17:47:42.887Z"
   },
   {
    "duration": 695,
    "start_time": "2022-05-23T17:47:43.289Z"
   },
   {
    "duration": 9,
    "start_time": "2022-05-23T17:47:52.585Z"
   },
   {
    "duration": 2414,
    "start_time": "2022-05-23T17:47:53.088Z"
   },
   {
    "duration": 9,
    "start_time": "2022-05-23T17:48:17.385Z"
   },
   {
    "duration": 1102,
    "start_time": "2022-05-23T17:48:17.589Z"
   },
   {
    "duration": 9,
    "start_time": "2022-05-23T17:48:22.386Z"
   },
   {
    "duration": 3808,
    "start_time": "2022-05-23T17:48:22.787Z"
   },
   {
    "duration": 2904,
    "start_time": "2022-05-23T17:48:39.387Z"
   },
   {
    "duration": 3006,
    "start_time": "2022-05-23T17:48:50.589Z"
   },
   {
    "duration": 2879,
    "start_time": "2022-05-23T17:49:05.014Z"
   },
   {
    "duration": 8,
    "start_time": "2022-05-23T17:50:10.494Z"
   },
   {
    "duration": 3681,
    "start_time": "2022-05-23T17:50:10.505Z"
   },
   {
    "duration": 3407,
    "start_time": "2022-05-23T17:50:21.389Z"
   },
   {
    "duration": 3120,
    "start_time": "2022-05-23T17:50:27.685Z"
   },
   {
    "duration": 3807,
    "start_time": "2022-05-23T17:50:44.884Z"
   },
   {
    "duration": 5,
    "start_time": "2022-05-23T17:57:36.523Z"
   },
   {
    "duration": 344,
    "start_time": "2022-05-23T17:57:37.611Z"
   },
   {
    "duration": 7,
    "start_time": "2022-05-23T17:59:03.669Z"
   },
   {
    "duration": 475,
    "start_time": "2022-05-23T17:59:04.847Z"
   },
   {
    "duration": 6,
    "start_time": "2022-05-23T17:59:16.630Z"
   },
   {
    "duration": 440,
    "start_time": "2022-05-23T17:59:17.041Z"
   },
   {
    "duration": 14,
    "start_time": "2022-05-23T17:59:49.528Z"
   },
   {
    "duration": 443,
    "start_time": "2022-05-23T18:00:02.945Z"
   },
   {
    "duration": 407,
    "start_time": "2022-05-23T18:00:48.229Z"
   },
   {
    "duration": 7,
    "start_time": "2022-05-23T18:00:56.890Z"
   },
   {
    "duration": 395,
    "start_time": "2022-05-23T18:00:58.647Z"
   },
   {
    "duration": 6,
    "start_time": "2022-05-23T18:01:17.898Z"
   },
   {
    "duration": 403,
    "start_time": "2022-05-23T18:01:18.752Z"
   },
   {
    "duration": 4,
    "start_time": "2022-05-23T18:01:54.971Z"
   },
   {
    "duration": 495,
    "start_time": "2022-05-23T18:01:56.178Z"
   },
   {
    "duration": 418,
    "start_time": "2022-05-23T18:02:02.202Z"
   },
   {
    "duration": 6,
    "start_time": "2022-05-23T18:02:32.374Z"
   },
   {
    "duration": 1652,
    "start_time": "2022-05-23T18:02:33.348Z"
   },
   {
    "duration": 14,
    "start_time": "2022-05-23T18:03:47.595Z"
   },
   {
    "duration": 12,
    "start_time": "2022-05-23T18:14:53.490Z"
   },
   {
    "duration": 11730,
    "start_time": "2022-05-23T18:15:08.884Z"
   },
   {
    "duration": 13,
    "start_time": "2022-05-23T18:17:54.190Z"
   },
   {
    "duration": 106604,
    "start_time": "2022-05-23T18:17:54.588Z"
   },
   {
    "duration": 128988,
    "start_time": "2022-05-23T18:28:41.001Z"
   },
   {
    "duration": 6,
    "start_time": "2022-05-23T18:33:33.551Z"
   },
   {
    "duration": 7,
    "start_time": "2022-05-23T18:33:42.450Z"
   },
   {
    "duration": 3220,
    "start_time": "2022-05-23T18:33:54.093Z"
   },
   {
    "duration": 2699,
    "start_time": "2022-05-23T18:34:06.947Z"
   },
   {
    "duration": 463,
    "start_time": "2022-05-23T18:35:06.815Z"
   },
   {
    "duration": 450,
    "start_time": "2022-05-23T18:35:16.009Z"
   },
   {
    "duration": 454,
    "start_time": "2022-05-23T18:35:48.649Z"
   },
   {
    "duration": 15738,
    "start_time": "2022-05-23T18:35:49.364Z"
   },
   {
    "duration": 3200,
    "start_time": "2022-05-23T18:36:19.923Z"
   },
   {
    "duration": 500,
    "start_time": "2022-05-23T18:36:31.058Z"
   },
   {
    "duration": 4,
    "start_time": "2022-05-23T18:55:46.497Z"
   },
   {
    "duration": 19,
    "start_time": "2022-05-23T18:58:32.050Z"
   },
   {
    "duration": 21,
    "start_time": "2022-05-23T18:59:31.201Z"
   },
   {
    "duration": 24,
    "start_time": "2022-05-23T19:00:18.346Z"
   },
   {
    "duration": 18,
    "start_time": "2022-05-23T19:02:00.219Z"
   },
   {
    "duration": 32,
    "start_time": "2022-05-23T19:02:53.507Z"
   },
   {
    "duration": 27,
    "start_time": "2022-05-23T19:03:42.962Z"
   },
   {
    "duration": 20,
    "start_time": "2022-05-23T19:03:43.312Z"
   },
   {
    "duration": 6,
    "start_time": "2022-05-23T19:14:19.854Z"
   },
   {
    "duration": 4,
    "start_time": "2022-05-23T19:14:27.411Z"
   },
   {
    "duration": 38,
    "start_time": "2022-05-23T19:14:31.662Z"
   },
   {
    "duration": 5,
    "start_time": "2022-05-23T19:15:17.462Z"
   },
   {
    "duration": 31,
    "start_time": "2022-05-23T19:15:19.821Z"
   },
   {
    "duration": 503,
    "start_time": "2022-05-23T19:24:45.085Z"
   },
   {
    "duration": 97,
    "start_time": "2022-05-23T19:31:03.959Z"
   },
   {
    "duration": 343,
    "start_time": "2022-05-23T19:31:11.903Z"
   },
   {
    "duration": 86,
    "start_time": "2022-05-23T19:31:12.248Z"
   },
   {
    "duration": 162,
    "start_time": "2022-05-23T19:31:12.426Z"
   },
   {
    "duration": 304,
    "start_time": "2022-05-23T19:31:12.592Z"
   },
   {
    "duration": 16,
    "start_time": "2022-05-23T19:31:12.901Z"
   },
   {
    "duration": 100,
    "start_time": "2022-05-23T19:31:12.919Z"
   },
   {
    "duration": 62,
    "start_time": "2022-05-23T19:31:13.756Z"
   },
   {
    "duration": 5,
    "start_time": "2022-05-23T19:31:20.914Z"
   },
   {
    "duration": 1025,
    "start_time": "2022-05-23T19:31:20.922Z"
   },
   {
    "duration": 5,
    "start_time": "2022-05-23T19:31:21.949Z"
   },
   {
    "duration": 1231,
    "start_time": "2022-05-23T19:31:21.957Z"
   },
   {
    "duration": 5,
    "start_time": "2022-05-23T19:31:23.193Z"
   },
   {
    "duration": 507,
    "start_time": "2022-05-23T19:31:23.201Z"
   },
   {
    "duration": 31,
    "start_time": "2022-05-23T19:31:23.710Z"
   },
   {
    "duration": 17,
    "start_time": "2022-05-23T19:31:23.743Z"
   },
   {
    "duration": 28,
    "start_time": "2022-05-23T19:31:23.763Z"
   },
   {
    "duration": 17,
    "start_time": "2022-05-23T19:31:23.793Z"
   },
   {
    "duration": 15,
    "start_time": "2022-05-23T19:31:23.812Z"
   },
   {
    "duration": 190,
    "start_time": "2022-05-23T19:31:23.828Z"
   },
   {
    "duration": 16,
    "start_time": "2022-05-23T19:31:24.020Z"
   },
   {
    "duration": 212,
    "start_time": "2022-05-23T19:31:24.037Z"
   },
   {
    "duration": 554,
    "start_time": "2022-05-23T19:31:24.251Z"
   },
   {
    "duration": 33,
    "start_time": "2022-05-23T19:31:24.806Z"
   },
   {
    "duration": 202,
    "start_time": "2022-05-23T19:31:24.841Z"
   },
   {
    "duration": 307,
    "start_time": "2022-05-23T19:31:25.044Z"
   },
   {
    "duration": 52,
    "start_time": "2022-05-23T19:31:25.353Z"
   },
   {
    "duration": 189,
    "start_time": "2022-05-23T19:31:25.408Z"
   },
   {
    "duration": 519,
    "start_time": "2022-05-23T19:31:25.603Z"
   },
   {
    "duration": 6,
    "start_time": "2022-05-23T19:31:26.124Z"
   },
   {
    "duration": 5,
    "start_time": "2022-05-23T19:31:26.132Z"
   },
   {
    "duration": 668,
    "start_time": "2022-05-23T19:31:26.140Z"
   },
   {
    "duration": 29,
    "start_time": "2022-05-23T19:31:26.811Z"
   },
   {
    "duration": 20,
    "start_time": "2022-05-23T19:31:26.841Z"
   },
   {
    "duration": 757,
    "start_time": "2022-05-23T19:31:26.862Z"
   },
   {
    "duration": 29,
    "start_time": "2022-05-23T19:31:27.621Z"
   },
   {
    "duration": 53,
    "start_time": "2022-05-23T19:31:27.652Z"
   },
   {
    "duration": 21,
    "start_time": "2022-05-23T19:31:27.709Z"
   },
   {
    "duration": 870,
    "start_time": "2022-05-23T19:31:27.732Z"
   },
   {
    "duration": 359,
    "start_time": "2022-05-23T19:31:28.604Z"
   },
   {
    "duration": 87,
    "start_time": "2022-05-23T19:31:28.964Z"
   },
   {
    "duration": 200,
    "start_time": "2022-05-23T19:31:29.053Z"
   },
   {
    "duration": 321,
    "start_time": "2022-05-23T19:31:29.254Z"
   },
   {
    "duration": 23,
    "start_time": "2022-05-23T19:31:29.577Z"
   },
   {
    "duration": 108,
    "start_time": "2022-05-23T19:31:29.606Z"
   },
   {
    "duration": 61,
    "start_time": "2022-05-23T19:31:29.716Z"
   },
   {
    "duration": 102,
    "start_time": "2022-05-23T19:31:33.641Z"
   },
   {
    "duration": 49,
    "start_time": "2022-05-23T19:31:34.112Z"
   },
   {
    "duration": 78,
    "start_time": "2022-05-23T19:31:36.601Z"
   },
   {
    "duration": 1860,
    "start_time": "2022-05-24T06:09:57.542Z"
   },
   {
    "duration": 1511,
    "start_time": "2022-05-24T06:10:01.016Z"
   },
   {
    "duration": 4,
    "start_time": "2022-05-24T06:10:03.076Z"
   },
   {
    "duration": 1203,
    "start_time": "2022-05-24T06:10:08.306Z"
   },
   {
    "duration": 4,
    "start_time": "2022-05-24T06:11:28.766Z"
   },
   {
    "duration": 649,
    "start_time": "2022-05-24T06:11:33.115Z"
   },
   {
    "duration": 30,
    "start_time": "2022-05-24T06:11:46.742Z"
   },
   {
    "duration": 15,
    "start_time": "2022-05-24T06:11:47.741Z"
   },
   {
    "duration": 7,
    "start_time": "2022-05-24T06:11:51.707Z"
   },
   {
    "duration": 10,
    "start_time": "2022-05-24T06:11:52.008Z"
   },
   {
    "duration": 12,
    "start_time": "2022-05-24T06:14:11.551Z"
   },
   {
    "duration": 28,
    "start_time": "2022-05-24T06:24:15.665Z"
   },
   {
    "duration": 17,
    "start_time": "2022-05-24T06:24:15.875Z"
   },
   {
    "duration": 7,
    "start_time": "2022-05-24T06:24:16.447Z"
   },
   {
    "duration": 11,
    "start_time": "2022-05-24T06:24:17.441Z"
   },
   {
    "duration": 12,
    "start_time": "2022-05-24T06:24:40.725Z"
   },
   {
    "duration": 162,
    "start_time": "2022-05-24T06:25:38.795Z"
   },
   {
    "duration": 14,
    "start_time": "2022-05-24T06:25:45.196Z"
   },
   {
    "duration": 189,
    "start_time": "2022-05-24T06:25:55.805Z"
   },
   {
    "duration": 567,
    "start_time": "2022-05-24T06:25:56.156Z"
   },
   {
    "duration": 40,
    "start_time": "2022-05-24T06:25:56.724Z"
   },
   {
    "duration": 286,
    "start_time": "2022-05-24T06:25:56.765Z"
   },
   {
    "duration": 292,
    "start_time": "2022-05-24T06:25:57.076Z"
   },
   {
    "duration": 30,
    "start_time": "2022-05-24T06:25:58.667Z"
   },
   {
    "duration": 141,
    "start_time": "2022-05-24T06:25:58.845Z"
   },
   {
    "duration": 459,
    "start_time": "2022-05-24T06:25:59.071Z"
   },
   {
    "duration": 8,
    "start_time": "2022-05-24T06:25:59.719Z"
   },
   {
    "duration": 4,
    "start_time": "2022-05-24T06:26:06.141Z"
   },
   {
    "duration": 572,
    "start_time": "2022-05-24T06:26:21.596Z"
   },
   {
    "duration": 24,
    "start_time": "2022-05-24T06:26:22.467Z"
   },
   {
    "duration": 18,
    "start_time": "2022-05-24T06:26:23.010Z"
   },
   {
    "duration": 635,
    "start_time": "2022-05-24T06:26:25.175Z"
   },
   {
    "duration": 40,
    "start_time": "2022-05-24T06:26:25.812Z"
   },
   {
    "duration": 21,
    "start_time": "2022-05-24T06:26:25.996Z"
   },
   {
    "duration": 17,
    "start_time": "2022-05-24T06:26:26.183Z"
   },
   {
    "duration": 801,
    "start_time": "2022-05-24T06:26:27.443Z"
   },
   {
    "duration": 362,
    "start_time": "2022-05-24T06:26:38.791Z"
   },
   {
    "duration": 73,
    "start_time": "2022-05-24T06:26:39.155Z"
   },
   {
    "duration": 147,
    "start_time": "2022-05-24T06:26:41.881Z"
   },
   {
    "duration": 251,
    "start_time": "2022-05-24T06:26:42.296Z"
   },
   {
    "duration": 13,
    "start_time": "2022-05-24T06:26:42.947Z"
   },
   {
    "duration": 80,
    "start_time": "2022-05-24T06:26:43.387Z"
   },
   {
    "duration": 28,
    "start_time": "2022-05-24T06:27:56.695Z"
   },
   {
    "duration": 73,
    "start_time": "2022-05-24T06:28:06.784Z"
   },
   {
    "duration": 82,
    "start_time": "2022-05-24T06:28:48.946Z"
   },
   {
    "duration": 81,
    "start_time": "2022-05-24T06:29:03.635Z"
   },
   {
    "duration": 44,
    "start_time": "2022-05-24T06:29:04.787Z"
   },
   {
    "duration": 87,
    "start_time": "2022-05-24T06:29:06.337Z"
   },
   {
    "duration": 4,
    "start_time": "2022-05-24T06:29:10.447Z"
   },
   {
    "duration": 277,
    "start_time": "2022-05-24T06:32:20.877Z"
   },
   {
    "duration": 782,
    "start_time": "2022-05-24T06:35:56.056Z"
   },
   {
    "duration": 3,
    "start_time": "2022-05-24T06:40:18.523Z"
   },
   {
    "duration": 46,
    "start_time": "2022-05-24T06:40:21.057Z"
   },
   {
    "duration": 4,
    "start_time": "2022-05-24T06:40:24.649Z"
   },
   {
    "duration": 4,
    "start_time": "2022-05-24T06:42:09.279Z"
   },
   {
    "duration": 34,
    "start_time": "2022-05-24T06:43:21.338Z"
   },
   {
    "duration": 21,
    "start_time": "2022-05-24T06:43:41.438Z"
   },
   {
    "duration": 4,
    "start_time": "2022-05-24T06:44:35.917Z"
   },
   {
    "duration": 4,
    "start_time": "2022-05-24T06:44:38.599Z"
   },
   {
    "duration": 5,
    "start_time": "2022-05-24T06:45:04.457Z"
   },
   {
    "duration": 46883,
    "start_time": "2022-05-24T06:45:15.747Z"
   },
   {
    "duration": 9424,
    "start_time": "2022-05-24T06:46:13.169Z"
   },
   {
    "duration": 4,
    "start_time": "2022-05-24T06:50:16.844Z"
   },
   {
    "duration": 4,
    "start_time": "2022-05-24T06:50:23.947Z"
   },
   {
    "duration": 4,
    "start_time": "2022-05-24T06:51:38.663Z"
   },
   {
    "duration": 4,
    "start_time": "2022-05-24T06:51:39.478Z"
   },
   {
    "duration": 44161,
    "start_time": "2022-05-24T06:51:43.273Z"
   },
   {
    "duration": 5,
    "start_time": "2022-05-24T06:52:41.620Z"
   },
   {
    "duration": 4,
    "start_time": "2022-05-24T06:52:42.878Z"
   },
   {
    "duration": 15,
    "start_time": "2022-05-24T06:52:43.787Z"
   },
   {
    "duration": 34,
    "start_time": "2022-05-24T06:53:17.077Z"
   },
   {
    "duration": 4,
    "start_time": "2022-05-24T06:53:35.553Z"
   },
   {
    "duration": 5,
    "start_time": "2022-05-24T06:53:36.250Z"
   },
   {
    "duration": 43500,
    "start_time": "2022-05-24T06:53:37.037Z"
   },
   {
    "duration": 114,
    "start_time": "2022-05-24T06:54:20.545Z"
   },
   {
    "duration": 0,
    "start_time": "2022-05-24T06:54:20.661Z"
   },
   {
    "duration": 23,
    "start_time": "2022-05-24T06:54:33.657Z"
   },
   {
    "duration": 28,
    "start_time": "2022-05-24T06:55:40.898Z"
   },
   {
    "duration": 5,
    "start_time": "2022-05-24T06:56:04.513Z"
   },
   {
    "duration": 5,
    "start_time": "2022-05-24T06:56:10.977Z"
   },
   {
    "duration": 44224,
    "start_time": "2022-05-24T06:56:12.107Z"
   },
   {
    "duration": 6,
    "start_time": "2022-05-24T06:57:56.030Z"
   },
   {
    "duration": 6,
    "start_time": "2022-05-24T06:57:57.578Z"
   },
   {
    "duration": 14,
    "start_time": "2022-05-24T06:57:58.249Z"
   },
   {
    "duration": 6,
    "start_time": "2022-05-24T06:58:26.098Z"
   },
   {
    "duration": 6,
    "start_time": "2022-05-24T06:58:27.798Z"
   },
   {
    "duration": 14,
    "start_time": "2022-05-24T06:58:28.987Z"
   },
   {
    "duration": 27,
    "start_time": "2022-05-24T06:58:46.898Z"
   },
   {
    "duration": 21,
    "start_time": "2022-05-24T06:58:55.950Z"
   },
   {
    "duration": 31,
    "start_time": "2022-05-24T07:00:42.727Z"
   },
   {
    "duration": 35,
    "start_time": "2022-05-24T07:00:56.091Z"
   },
   {
    "duration": 5,
    "start_time": "2022-05-24T07:01:11.169Z"
   },
   {
    "duration": 4,
    "start_time": "2022-05-24T07:01:13.549Z"
   },
   {
    "duration": 0,
    "start_time": "2022-05-24T07:01:48.182Z"
   },
   {
    "duration": 0,
    "start_time": "2022-05-24T07:01:48.183Z"
   },
   {
    "duration": 0,
    "start_time": "2022-05-24T07:01:48.185Z"
   },
   {
    "duration": 4,
    "start_time": "2022-05-24T07:01:53.179Z"
   },
   {
    "duration": 6,
    "start_time": "2022-05-24T07:01:53.349Z"
   },
   {
    "duration": 45560,
    "start_time": "2022-05-24T07:01:54.277Z"
   },
   {
    "duration": 4,
    "start_time": "2022-05-24T07:04:10.506Z"
   },
   {
    "duration": 4,
    "start_time": "2022-05-24T07:04:11.409Z"
   },
   {
    "duration": 38837,
    "start_time": "2022-05-24T07:04:12.199Z"
   },
   {
    "duration": 46,
    "start_time": "2022-05-24T07:09:26.268Z"
   },
   {
    "duration": 5,
    "start_time": "2022-05-24T07:09:40.620Z"
   },
   {
    "duration": 5,
    "start_time": "2022-05-24T07:09:41.778Z"
   },
   {
    "duration": 45030,
    "start_time": "2022-05-24T07:09:44.198Z"
   },
   {
    "duration": 9505,
    "start_time": "2022-05-24T07:10:29.230Z"
   },
   {
    "duration": 7981,
    "start_time": "2022-05-24T07:11:13.967Z"
   },
   {
    "duration": 5,
    "start_time": "2022-05-24T07:14:04.798Z"
   },
   {
    "duration": 134,
    "start_time": "2022-05-24T07:16:26.312Z"
   },
   {
    "duration": 6,
    "start_time": "2022-05-24T07:24:10.508Z"
   },
   {
    "duration": 5,
    "start_time": "2022-05-24T07:24:13.363Z"
   },
   {
    "duration": 47323,
    "start_time": "2022-05-24T07:24:14.417Z"
   },
   {
    "duration": 1293,
    "start_time": "2022-05-24T07:25:05.118Z"
   },
   {
    "duration": 6,
    "start_time": "2022-05-24T07:48:48.769Z"
   },
   {
    "duration": 4,
    "start_time": "2022-05-24T07:48:52.905Z"
   },
   {
    "duration": 1444,
    "start_time": "2022-05-24T07:48:56.222Z"
   },
   {
    "duration": 7,
    "start_time": "2022-05-24T07:50:40.909Z"
   },
   {
    "duration": 4,
    "start_time": "2022-05-24T07:50:41.438Z"
   },
   {
    "duration": 1298,
    "start_time": "2022-05-24T07:50:45.459Z"
   },
   {
    "duration": 45,
    "start_time": "2022-05-24T07:51:02.318Z"
   },
   {
    "duration": 13,
    "start_time": "2022-05-24T07:52:48.380Z"
   },
   {
    "duration": 13,
    "start_time": "2022-05-24T07:52:56.638Z"
   },
   {
    "duration": 7,
    "start_time": "2022-05-24T07:54:04.574Z"
   },
   {
    "duration": 26,
    "start_time": "2022-05-24T07:54:11.558Z"
   },
   {
    "duration": 16,
    "start_time": "2022-05-24T07:56:16.502Z"
   },
   {
    "duration": 122,
    "start_time": "2022-05-24T07:57:23.760Z"
   },
   {
    "duration": 15,
    "start_time": "2022-05-24T07:58:14.080Z"
   },
   {
    "duration": 6,
    "start_time": "2022-05-24T08:00:31.481Z"
   },
   {
    "duration": 27,
    "start_time": "2022-05-24T08:00:36.042Z"
   },
   {
    "duration": 14,
    "start_time": "2022-05-24T08:07:07.230Z"
   },
   {
    "duration": 16,
    "start_time": "2022-05-24T08:11:30.361Z"
   },
   {
    "duration": 19,
    "start_time": "2022-05-24T08:12:38.329Z"
   },
   {
    "duration": 9,
    "start_time": "2022-05-24T08:19:25.222Z"
   },
   {
    "duration": 15,
    "start_time": "2022-05-24T08:19:31.723Z"
   },
   {
    "duration": 6,
    "start_time": "2022-05-24T08:20:05.271Z"
   },
   {
    "duration": 159126,
    "start_time": "2022-05-24T08:20:11.428Z"
   },
   {
    "duration": 109,
    "start_time": "2022-05-24T08:28:39.615Z"
   },
   {
    "duration": 9,
    "start_time": "2022-05-24T08:34:17.565Z"
   },
   {
    "duration": 16,
    "start_time": "2022-05-24T08:34:22.018Z"
   },
   {
    "duration": 10,
    "start_time": "2022-05-24T08:34:32.046Z"
   },
   {
    "duration": 8,
    "start_time": "2022-05-24T08:34:55.254Z"
   },
   {
    "duration": 48,
    "start_time": "2022-05-24T08:35:00.156Z"
   },
   {
    "duration": 7,
    "start_time": "2022-05-24T08:35:48.757Z"
   },
   {
    "duration": 30,
    "start_time": "2022-05-24T08:35:53.386Z"
   },
   {
    "duration": 11,
    "start_time": "2022-05-24T08:36:51.926Z"
   },
   {
    "duration": 32,
    "start_time": "2022-05-24T08:36:55.927Z"
   },
   {
    "duration": 9,
    "start_time": "2022-05-24T08:37:12.585Z"
   },
   {
    "duration": 9,
    "start_time": "2022-05-24T08:37:50.120Z"
   },
   {
    "duration": 35,
    "start_time": "2022-05-24T08:37:53.921Z"
   },
   {
    "duration": 7,
    "start_time": "2022-05-24T08:38:23.457Z"
   },
   {
    "duration": 39,
    "start_time": "2022-05-24T08:38:27.920Z"
   },
   {
    "duration": 7,
    "start_time": "2022-05-24T08:39:11.084Z"
   },
   {
    "duration": 123,
    "start_time": "2022-05-24T08:39:23.686Z"
   },
   {
    "duration": 9,
    "start_time": "2022-05-24T08:39:28.186Z"
   },
   {
    "duration": 40,
    "start_time": "2022-05-24T08:39:33.818Z"
   },
   {
    "duration": 9,
    "start_time": "2022-05-24T08:40:33.235Z"
   },
   {
    "duration": 58,
    "start_time": "2022-05-24T08:40:37.739Z"
   },
   {
    "duration": 9,
    "start_time": "2022-05-24T08:40:58.278Z"
   },
   {
    "duration": 41,
    "start_time": "2022-05-24T08:41:05.075Z"
   },
   {
    "duration": 9,
    "start_time": "2022-05-24T08:44:47.861Z"
   },
   {
    "duration": 26,
    "start_time": "2022-05-24T08:44:53.655Z"
   },
   {
    "duration": 7,
    "start_time": "2022-05-24T08:56:32.531Z"
   },
   {
    "duration": 7,
    "start_time": "2022-05-24T09:29:14.547Z"
   },
   {
    "duration": 14,
    "start_time": "2022-05-24T09:29:20.500Z"
   },
   {
    "duration": 5,
    "start_time": "2022-05-24T09:29:38.271Z"
   },
   {
    "duration": 21,
    "start_time": "2022-05-24T09:29:42.879Z"
   },
   {
    "duration": 6,
    "start_time": "2022-05-24T09:30:52.440Z"
   },
   {
    "duration": 23,
    "start_time": "2022-05-24T09:30:57.084Z"
   },
   {
    "duration": 11,
    "start_time": "2022-05-24T09:31:20.280Z"
   },
   {
    "duration": 25,
    "start_time": "2022-05-24T09:31:23.779Z"
   },
   {
    "duration": 4,
    "start_time": "2022-05-24T09:32:02.620Z"
   },
   {
    "duration": 6,
    "start_time": "2022-05-24T09:32:16.140Z"
   },
   {
    "duration": 23,
    "start_time": "2022-05-24T09:32:20.428Z"
   },
   {
    "duration": 77,
    "start_time": "2022-05-24T09:34:03.339Z"
   },
   {
    "duration": 6,
    "start_time": "2022-05-24T09:34:07.228Z"
   },
   {
    "duration": 25,
    "start_time": "2022-05-24T09:34:16.048Z"
   },
   {
    "duration": 8,
    "start_time": "2022-05-24T09:35:15.089Z"
   },
   {
    "duration": 26,
    "start_time": "2022-05-24T09:35:19.200Z"
   },
   {
    "duration": 5,
    "start_time": "2022-05-24T09:36:02.420Z"
   },
   {
    "duration": 24,
    "start_time": "2022-05-24T09:36:07.419Z"
   },
   {
    "duration": 9,
    "start_time": "2022-05-24T09:38:37.809Z"
   },
   {
    "duration": 10,
    "start_time": "2022-05-24T09:38:44.938Z"
   },
   {
    "duration": 35,
    "start_time": "2022-05-24T09:39:12.526Z"
   },
   {
    "duration": 18,
    "start_time": "2022-05-24T09:43:11.246Z"
   },
   {
    "duration": 13,
    "start_time": "2022-05-24T09:46:08.330Z"
   },
   {
    "duration": 21,
    "start_time": "2022-05-24T09:46:14.396Z"
   },
   {
    "duration": 20,
    "start_time": "2022-05-24T09:46:28.645Z"
   },
   {
    "duration": 6,
    "start_time": "2022-05-24T09:46:49.197Z"
   },
   {
    "duration": 75264,
    "start_time": "2022-05-24T09:47:03.085Z"
   },
   {
    "duration": 195,
    "start_time": "2022-05-24T09:49:58.244Z"
   },
   {
    "duration": 28,
    "start_time": "2022-05-24T09:50:06.348Z"
   },
   {
    "duration": 6,
    "start_time": "2022-05-24T09:50:22.956Z"
   },
   {
    "duration": 7,
    "start_time": "2022-05-24T09:50:31.975Z"
   },
   {
    "duration": 826,
    "start_time": "2022-05-24T09:50:39.781Z"
   },
   {
    "duration": 319271,
    "start_time": "2022-05-24T09:50:55.975Z"
   },
   {
    "duration": 6,
    "start_time": "2022-05-24T10:07:12.443Z"
   },
   {
    "duration": 161267,
    "start_time": "2022-05-24T10:07:18.246Z"
   },
   {
    "duration": 6,
    "start_time": "2022-05-24T10:12:11.012Z"
   },
   {
    "duration": 542,
    "start_time": "2022-05-24T10:12:16.691Z"
   },
   {
    "duration": 10,
    "start_time": "2022-05-24T10:12:36.198Z"
   },
   {
    "duration": 67,
    "start_time": "2022-05-24T10:35:15.114Z"
   },
   {
    "duration": 74,
    "start_time": "2022-05-24T10:37:08.494Z"
   },
   {
    "duration": 48,
    "start_time": "2022-05-24T10:40:35.891Z"
   },
   {
    "duration": 4,
    "start_time": "2022-05-24T10:40:46.993Z"
   },
   {
    "duration": 5,
    "start_time": "2022-05-24T10:40:54.464Z"
   },
   {
    "duration": 41028,
    "start_time": "2022-05-24T10:41:30.608Z"
   },
   {
    "duration": 844,
    "start_time": "2022-05-24T10:42:37.787Z"
   },
   {
    "duration": 8560,
    "start_time": "2022-05-24T10:43:31.245Z"
   },
   {
    "duration": 95,
    "start_time": "2022-05-24T10:53:49.744Z"
   },
   {
    "duration": 8,
    "start_time": "2022-05-24T10:55:07.101Z"
   },
   {
    "duration": 5,
    "start_time": "2022-05-24T11:00:25.468Z"
   },
   {
    "duration": 26819,
    "start_time": "2022-05-24T11:00:36.724Z"
   },
   {
    "duration": 901,
    "start_time": "2022-05-24T11:02:03.224Z"
   },
   {
    "duration": 35968,
    "start_time": "2022-05-24T11:02:34.344Z"
   },
   {
    "duration": 175105,
    "start_time": "2022-05-24T11:04:34.035Z"
   },
   {
    "duration": 4077,
    "start_time": "2022-05-24T11:08:08.460Z"
   },
   {
    "duration": 3509,
    "start_time": "2022-05-24T11:08:39.732Z"
   },
   {
    "duration": 2906,
    "start_time": "2022-05-24T11:08:58.231Z"
   },
   {
    "duration": 5220,
    "start_time": "2022-05-24T11:09:04.119Z"
   },
   {
    "duration": 50,
    "start_time": "2022-05-24T11:09:16.311Z"
   },
   {
    "duration": 44,
    "start_time": "2022-05-24T11:10:02.316Z"
   },
   {
    "duration": 64,
    "start_time": "2022-05-24T11:10:34.140Z"
   },
   {
    "duration": 21558,
    "start_time": "2022-05-24T11:10:42.836Z"
   },
   {
    "duration": 20930,
    "start_time": "2022-05-24T11:11:51.775Z"
   },
   {
    "duration": 4,
    "start_time": "2022-05-24T11:13:49.350Z"
   },
   {
    "duration": 49,
    "start_time": "2022-05-24T11:13:55.459Z"
   },
   {
    "duration": 19,
    "start_time": "2022-05-24T11:15:16.479Z"
   },
   {
    "duration": 73,
    "start_time": "2022-05-24T11:15:21.871Z"
   },
   {
    "duration": 67,
    "start_time": "2022-05-24T11:15:47.694Z"
   },
   {
    "duration": 6,
    "start_time": "2022-05-24T11:15:52.579Z"
   },
   {
    "duration": 16,
    "start_time": "2022-05-24T11:15:59.782Z"
   },
   {
    "duration": 17,
    "start_time": "2022-05-24T11:22:00.690Z"
   },
   {
    "duration": 57,
    "start_time": "2022-05-24T11:23:09.800Z"
   },
   {
    "duration": 7,
    "start_time": "2022-05-24T11:23:14.499Z"
   },
   {
    "duration": 138215,
    "start_time": "2022-05-24T11:23:19.993Z"
   },
   {
    "duration": 175369,
    "start_time": "2022-05-24T11:27:39.082Z"
   },
   {
    "duration": 29097,
    "start_time": "2022-05-24T11:31:05.751Z"
   },
   {
    "duration": 30197,
    "start_time": "2022-05-24T11:31:34.851Z"
   },
   {
    "duration": 243127,
    "start_time": "2022-05-24T11:36:11.622Z"
   },
   {
    "duration": 1,
    "start_time": "2022-05-24T12:32:26.776Z"
   },
   {
    "duration": 4,
    "start_time": "2022-05-24T12:32:34.694Z"
   },
   {
    "duration": 992,
    "start_time": "2022-05-24T12:32:38.413Z"
   },
   {
    "duration": 4,
    "start_time": "2022-05-24T12:32:41.053Z"
   },
   {
    "duration": 1104,
    "start_time": "2022-05-24T12:32:41.245Z"
   },
   {
    "duration": 4,
    "start_time": "2022-05-24T12:32:43.156Z"
   },
   {
    "duration": 440,
    "start_time": "2022-05-24T12:32:43.319Z"
   },
   {
    "duration": 37,
    "start_time": "2022-05-24T12:32:43.762Z"
   },
   {
    "duration": 41,
    "start_time": "2022-05-24T12:32:43.802Z"
   },
   {
    "duration": 10,
    "start_time": "2022-05-24T12:32:43.857Z"
   },
   {
    "duration": 11,
    "start_time": "2022-05-24T12:32:44.086Z"
   },
   {
    "duration": 13,
    "start_time": "2022-05-24T12:32:44.605Z"
   },
   {
    "duration": 178,
    "start_time": "2022-05-24T12:32:44.849Z"
   },
   {
    "duration": 24,
    "start_time": "2022-05-24T12:32:45.413Z"
   },
   {
    "duration": 224,
    "start_time": "2022-05-24T12:32:47.244Z"
   },
   {
    "duration": 750,
    "start_time": "2022-05-24T12:32:47.587Z"
   },
   {
    "duration": 36,
    "start_time": "2022-05-24T12:32:48.339Z"
   },
   {
    "duration": 274,
    "start_time": "2022-05-24T12:32:48.377Z"
   },
   {
    "duration": 290,
    "start_time": "2022-05-24T12:32:48.654Z"
   },
   {
    "duration": 33,
    "start_time": "2022-05-24T12:32:48.946Z"
   },
   {
    "duration": 165,
    "start_time": "2022-05-24T12:32:48.981Z"
   },
   {
    "duration": 515,
    "start_time": "2022-05-24T12:32:49.148Z"
   },
   {
    "duration": 6,
    "start_time": "2022-05-24T12:32:49.666Z"
   },
   {
    "duration": 4,
    "start_time": "2022-05-24T12:32:50.889Z"
   },
   {
    "duration": 643,
    "start_time": "2022-05-24T12:32:53.291Z"
   },
   {
    "duration": 30,
    "start_time": "2022-05-24T12:32:53.940Z"
   },
   {
    "duration": 21,
    "start_time": "2022-05-24T12:32:53.972Z"
   },
   {
    "duration": 765,
    "start_time": "2022-05-24T12:32:54.445Z"
   },
   {
    "duration": 58,
    "start_time": "2022-05-24T12:32:55.212Z"
   },
   {
    "duration": 25,
    "start_time": "2022-05-24T12:32:55.272Z"
   },
   {
    "duration": 15,
    "start_time": "2022-05-24T12:32:55.300Z"
   },
   {
    "duration": 994,
    "start_time": "2022-05-24T12:32:55.646Z"
   },
   {
    "duration": 315,
    "start_time": "2022-05-24T12:32:57.643Z"
   },
   {
    "duration": 119,
    "start_time": "2022-05-24T12:32:57.962Z"
   },
   {
    "duration": 144,
    "start_time": "2022-05-24T12:32:58.344Z"
   },
   {
    "duration": 268,
    "start_time": "2022-05-24T12:32:58.542Z"
   },
   {
    "duration": 27,
    "start_time": "2022-05-24T12:32:58.813Z"
   },
   {
    "duration": 100,
    "start_time": "2022-05-24T12:32:58.950Z"
   },
   {
    "duration": 74,
    "start_time": "2022-05-24T12:33:00.291Z"
   },
   {
    "duration": 82,
    "start_time": "2022-05-24T12:33:11.286Z"
   },
   {
    "duration": 60,
    "start_time": "2022-05-24T12:33:11.807Z"
   },
   {
    "duration": 102,
    "start_time": "2022-05-24T12:33:13.153Z"
   },
   {
    "duration": 5,
    "start_time": "2022-05-24T12:33:14.313Z"
   },
   {
    "duration": 222,
    "start_time": "2022-05-24T12:33:15.663Z"
   },
   {
    "duration": 6,
    "start_time": "2022-05-24T12:46:02.499Z"
   },
   {
    "duration": 5,
    "start_time": "2022-05-24T12:46:04.681Z"
   },
   {
    "duration": 31977,
    "start_time": "2022-05-24T12:46:11.360Z"
   },
   {
    "duration": 30903,
    "start_time": "2022-05-24T12:47:13.626Z"
   },
   {
    "duration": 489,
    "start_time": "2022-05-24T12:47:49.355Z"
   },
   {
    "duration": 8,
    "start_time": "2022-05-24T12:55:21.249Z"
   },
   {
    "duration": 8702,
    "start_time": "2022-05-24T12:55:30.749Z"
   },
   {
    "duration": 881,
    "start_time": "2022-05-24T12:55:39.453Z"
   },
   {
    "duration": 912,
    "start_time": "2022-05-24T12:56:05.075Z"
   },
   {
    "duration": 833,
    "start_time": "2022-05-24T12:56:24.498Z"
   },
   {
    "duration": 843,
    "start_time": "2022-05-24T12:56:31.311Z"
   },
   {
    "duration": 35996,
    "start_time": "2022-05-24T12:57:35.569Z"
   },
   {
    "duration": 5616,
    "start_time": "2022-05-24T12:58:28.613Z"
   },
   {
    "duration": 4052,
    "start_time": "2022-05-24T12:58:37.499Z"
   },
   {
    "duration": 9647,
    "start_time": "2022-05-24T12:58:56.879Z"
   },
   {
    "duration": 5999,
    "start_time": "2022-05-24T12:59:31.448Z"
   },
   {
    "duration": 3979,
    "start_time": "2022-05-24T13:02:46.260Z"
   },
   {
    "duration": 5931,
    "start_time": "2022-05-24T13:02:53.410Z"
   },
   {
    "duration": 4621,
    "start_time": "2022-05-24T13:03:02.221Z"
   },
   {
    "duration": 5289,
    "start_time": "2022-05-24T13:03:06.844Z"
   },
   {
    "duration": 155769,
    "start_time": "2022-05-24T13:03:29.817Z"
   },
   {
    "duration": 26675,
    "start_time": "2022-05-24T13:12:00.030Z"
   },
   {
    "duration": 25065,
    "start_time": "2022-05-24T13:13:13.558Z"
   },
   {
    "duration": 11,
    "start_time": "2022-05-24T13:13:44.927Z"
   },
   {
    "duration": 317,
    "start_time": "2022-05-24T13:13:53.745Z"
   },
   {
    "duration": 244,
    "start_time": "2022-05-24T13:15:26.757Z"
   },
   {
    "duration": 277,
    "start_time": "2022-05-24T13:15:46.643Z"
   },
   {
    "duration": 259,
    "start_time": "2022-05-24T13:16:20.927Z"
   },
   {
    "duration": 231,
    "start_time": "2022-05-24T13:16:26.711Z"
   },
   {
    "duration": 251,
    "start_time": "2022-05-24T13:17:16.998Z"
   },
   {
    "duration": 260,
    "start_time": "2022-05-24T13:20:04.233Z"
   },
   {
    "duration": 268,
    "start_time": "2022-05-24T13:20:09.265Z"
   },
   {
    "duration": 71347,
    "start_time": "2022-05-24T13:27:08.150Z"
   },
   {
    "duration": 10,
    "start_time": "2022-05-24T13:29:46.496Z"
   },
   {
    "duration": 702,
    "start_time": "2022-05-24T13:33:31.709Z"
   },
   {
    "duration": 20,
    "start_time": "2022-05-24T13:34:21.165Z"
   },
   {
    "duration": 585,
    "start_time": "2022-05-24T13:35:07.198Z"
   },
   {
    "duration": 1720,
    "start_time": "2022-05-24T15:26:23.378Z"
   },
   {
    "duration": 3648,
    "start_time": "2022-05-24T15:26:31.408Z"
   },
   {
    "duration": 13,
    "start_time": "2022-05-24T15:26:44.073Z"
   },
   {
    "duration": 1379,
    "start_time": "2022-05-24T15:26:44.487Z"
   },
   {
    "duration": 3,
    "start_time": "2022-05-24T15:26:59.066Z"
   },
   {
    "duration": 513,
    "start_time": "2022-05-24T15:26:59.309Z"
   },
   {
    "duration": 31,
    "start_time": "2022-05-24T15:27:00.514Z"
   },
   {
    "duration": 19,
    "start_time": "2022-05-24T15:27:00.754Z"
   },
   {
    "duration": 11,
    "start_time": "2022-05-24T15:27:00.923Z"
   },
   {
    "duration": 14,
    "start_time": "2022-05-24T15:27:01.208Z"
   },
   {
    "duration": 21,
    "start_time": "2022-05-24T15:27:01.771Z"
   },
   {
    "duration": 178,
    "start_time": "2022-05-24T15:27:01.931Z"
   },
   {
    "duration": 19,
    "start_time": "2022-05-24T15:27:02.498Z"
   },
   {
    "duration": 193,
    "start_time": "2022-05-24T15:27:03.710Z"
   },
   {
    "duration": 549,
    "start_time": "2022-05-24T15:27:04.104Z"
   },
   {
    "duration": 71,
    "start_time": "2022-05-24T15:27:04.655Z"
   },
   {
    "duration": 283,
    "start_time": "2022-05-24T15:27:04.729Z"
   },
   {
    "duration": 314,
    "start_time": "2022-05-24T15:27:05.058Z"
   },
   {
    "duration": 50,
    "start_time": "2022-05-24T15:27:05.374Z"
   },
   {
    "duration": 139,
    "start_time": "2022-05-24T15:27:07.123Z"
   },
   {
    "duration": 486,
    "start_time": "2022-05-24T15:27:07.285Z"
   },
   {
    "duration": 8,
    "start_time": "2022-05-24T15:27:07.774Z"
   },
   {
    "duration": 3,
    "start_time": "2022-05-24T15:27:08.060Z"
   },
   {
    "duration": 595,
    "start_time": "2022-05-24T15:27:08.457Z"
   },
   {
    "duration": 26,
    "start_time": "2022-05-24T15:27:09.998Z"
   },
   {
    "duration": 32,
    "start_time": "2022-05-24T15:27:10.188Z"
   },
   {
    "duration": 690,
    "start_time": "2022-05-24T15:27:10.757Z"
   },
   {
    "duration": 42,
    "start_time": "2022-05-24T15:27:11.449Z"
   },
   {
    "duration": 30,
    "start_time": "2022-05-24T15:27:11.497Z"
   },
   {
    "duration": 14,
    "start_time": "2022-05-24T15:27:11.529Z"
   },
   {
    "duration": 820,
    "start_time": "2022-05-24T15:27:11.910Z"
   },
   {
    "duration": 378,
    "start_time": "2022-05-24T15:27:13.640Z"
   },
   {
    "duration": 79,
    "start_time": "2022-05-24T15:27:14.020Z"
   },
   {
    "duration": 161,
    "start_time": "2022-05-24T15:27:14.395Z"
   },
   {
    "duration": 277,
    "start_time": "2022-05-24T15:27:14.574Z"
   },
   {
    "duration": 14,
    "start_time": "2022-05-24T15:27:14.853Z"
   },
   {
    "duration": 98,
    "start_time": "2022-05-24T15:27:18.256Z"
   },
   {
    "duration": 72,
    "start_time": "2022-05-24T15:27:24.592Z"
   },
   {
    "duration": 79,
    "start_time": "2022-05-24T15:27:27.412Z"
   },
   {
    "duration": 52,
    "start_time": "2022-05-24T15:27:27.762Z"
   },
   {
    "duration": 94,
    "start_time": "2022-05-24T15:27:28.304Z"
   },
   {
    "duration": 3,
    "start_time": "2022-05-24T15:27:28.514Z"
   },
   {
    "duration": 201,
    "start_time": "2022-05-24T15:27:39.618Z"
   },
   {
    "duration": 5,
    "start_time": "2022-05-24T15:27:54.605Z"
   },
   {
    "duration": 5,
    "start_time": "2022-05-24T15:27:56.759Z"
   },
   {
    "duration": 30330,
    "start_time": "2022-05-24T15:27:58.457Z"
   },
   {
    "duration": 632,
    "start_time": "2022-05-24T15:28:36.758Z"
   },
   {
    "duration": 9764,
    "start_time": "2022-05-24T15:29:16.918Z"
   },
   {
    "duration": 1033,
    "start_time": "2022-05-24T15:29:44.362Z"
   },
   {
    "duration": 5,
    "start_time": "2022-05-24T15:35:33.360Z"
   },
   {
    "duration": 5,
    "start_time": "2022-05-24T15:35:48.753Z"
   },
   {
    "duration": 5,
    "start_time": "2022-05-24T15:35:55.758Z"
   },
   {
    "duration": 61838,
    "start_time": "2022-05-24T15:45:44.772Z"
   },
   {
    "duration": 871,
    "start_time": "2022-05-24T15:47:04.650Z"
   },
   {
    "duration": 39752,
    "start_time": "2022-05-24T15:50:25.052Z"
   },
   {
    "duration": 663820,
    "start_time": "2022-05-24T15:53:52.145Z"
   },
   {
    "duration": 31157,
    "start_time": "2022-05-24T16:08:46.996Z"
   },
   {
    "duration": 41688,
    "start_time": "2022-05-24T16:09:35.250Z"
   },
   {
    "duration": 1102444,
    "start_time": "2022-05-24T16:28:29.584Z"
   },
   {
    "duration": 4,
    "start_time": "2022-05-24T16:48:07.083Z"
   },
   {
    "duration": 37196,
    "start_time": "2022-05-24T16:48:40.026Z"
   },
   {
    "duration": 366656,
    "start_time": "2022-05-24T16:49:56.643Z"
   },
   {
    "duration": 449084,
    "start_time": "2022-05-24T16:56:03.301Z"
   },
   {
    "duration": 476688,
    "start_time": "2022-05-24T17:03:32.387Z"
   },
   {
    "duration": 9,
    "start_time": "2022-05-24T17:17:25.201Z"
   },
   {
    "duration": 6497,
    "start_time": "2022-05-24T17:22:03.087Z"
   },
   {
    "duration": 102574,
    "start_time": "2022-05-24T17:22:27.018Z"
   },
   {
    "duration": 4775,
    "start_time": "2022-05-24T17:24:57.116Z"
   },
   {
    "duration": 6200,
    "start_time": "2022-05-24T17:25:05.997Z"
   },
   {
    "duration": 5580,
    "start_time": "2022-05-24T17:25:31.819Z"
   },
   {
    "duration": 4871,
    "start_time": "2022-05-24T17:25:44.022Z"
   },
   {
    "duration": 5312,
    "start_time": "2022-05-24T17:25:50.595Z"
   },
   {
    "duration": 10,
    "start_time": "2022-05-24T17:26:01.326Z"
   },
   {
    "duration": 4475,
    "start_time": "2022-05-24T17:26:27.401Z"
   },
   {
    "duration": 5912,
    "start_time": "2022-05-24T17:26:33.599Z"
   },
   {
    "duration": 8494,
    "start_time": "2022-05-24T17:26:41.193Z"
   },
   {
    "duration": 7532,
    "start_time": "2022-05-24T17:26:52.874Z"
   },
   {
    "duration": 46,
    "start_time": "2022-05-24T17:38:11.931Z"
   },
   {
    "duration": 59,
    "start_time": "2022-05-24T17:38:27.790Z"
   },
   {
    "duration": 9,
    "start_time": "2022-05-24T18:21:53.913Z"
   },
   {
    "duration": 2462795,
    "start_time": "2022-05-24T18:22:06.990Z"
   },
   {
    "duration": 104425,
    "start_time": "2022-05-24T19:16:06.073Z"
   },
   {
    "duration": 148905,
    "start_time": "2022-05-24T19:21:44.180Z"
   },
   {
    "duration": 24395,
    "start_time": "2022-05-24T19:24:13.086Z"
   },
   {
    "duration": 25673,
    "start_time": "2022-05-24T19:24:37.483Z"
   },
   {
    "duration": 25122,
    "start_time": "2022-05-24T19:30:42.615Z"
   },
   {
    "duration": 27,
    "start_time": "2022-05-24T19:31:29.558Z"
   },
   {
    "duration": 293,
    "start_time": "2022-05-24T19:32:01.632Z"
   },
   {
    "duration": 245,
    "start_time": "2022-05-24T19:32:28.906Z"
   },
   {
    "duration": 1619,
    "start_time": "2022-05-25T05:56:49.510Z"
   },
   {
    "duration": 3142,
    "start_time": "2022-05-25T05:56:56.980Z"
   },
   {
    "duration": 4,
    "start_time": "2022-05-25T05:57:03.229Z"
   },
   {
    "duration": 1182,
    "start_time": "2022-05-25T05:57:04.592Z"
   },
   {
    "duration": 4,
    "start_time": "2022-05-25T05:57:10.367Z"
   },
   {
    "duration": 456,
    "start_time": "2022-05-25T05:57:10.559Z"
   },
   {
    "duration": 29,
    "start_time": "2022-05-25T05:57:11.017Z"
   },
   {
    "duration": 21,
    "start_time": "2022-05-25T05:57:11.255Z"
   },
   {
    "duration": 9,
    "start_time": "2022-05-25T05:57:11.403Z"
   },
   {
    "duration": 11,
    "start_time": "2022-05-25T05:57:11.810Z"
   },
   {
    "duration": 12,
    "start_time": "2022-05-25T05:57:12.279Z"
   },
   {
    "duration": 185,
    "start_time": "2022-05-25T05:57:13.011Z"
   },
   {
    "duration": 17,
    "start_time": "2022-05-25T05:57:13.538Z"
   },
   {
    "duration": 193,
    "start_time": "2022-05-25T05:57:14.847Z"
   },
   {
    "duration": 620,
    "start_time": "2022-05-25T05:57:15.806Z"
   },
   {
    "duration": 35,
    "start_time": "2022-05-25T05:57:16.428Z"
   },
   {
    "duration": 281,
    "start_time": "2022-05-25T05:57:16.465Z"
   },
   {
    "duration": 288,
    "start_time": "2022-05-25T05:57:16.749Z"
   },
   {
    "duration": 40,
    "start_time": "2022-05-25T05:57:17.039Z"
   },
   {
    "duration": 172,
    "start_time": "2022-05-25T05:57:17.258Z"
   },
   {
    "duration": 483,
    "start_time": "2022-05-25T05:57:17.497Z"
   },
   {
    "duration": 21,
    "start_time": "2022-05-25T05:57:17.982Z"
   },
   {
    "duration": 6,
    "start_time": "2022-05-25T05:57:18.659Z"
   },
   {
    "duration": 614,
    "start_time": "2022-05-25T05:57:19.183Z"
   },
   {
    "duration": 25,
    "start_time": "2022-05-25T05:57:19.801Z"
   },
   {
    "duration": 17,
    "start_time": "2022-05-25T05:57:19.827Z"
   },
   {
    "duration": 673,
    "start_time": "2022-05-25T05:57:20.361Z"
   },
   {
    "duration": 25,
    "start_time": "2022-05-25T05:57:22.889Z"
   },
   {
    "duration": 22,
    "start_time": "2022-05-25T05:57:23.071Z"
   },
   {
    "duration": 14,
    "start_time": "2022-05-25T05:57:23.247Z"
   },
   {
    "duration": 863,
    "start_time": "2022-05-25T05:57:23.811Z"
   },
   {
    "duration": 336,
    "start_time": "2022-05-25T05:57:27.309Z"
   },
   {
    "duration": 77,
    "start_time": "2022-05-25T05:57:27.647Z"
   },
   {
    "duration": 164,
    "start_time": "2022-05-25T05:57:27.806Z"
   },
   {
    "duration": 258,
    "start_time": "2022-05-25T05:57:27.990Z"
   },
   {
    "duration": 13,
    "start_time": "2022-05-25T05:57:28.249Z"
   },
   {
    "duration": 113,
    "start_time": "2022-05-25T05:57:28.339Z"
   },
   {
    "duration": 80,
    "start_time": "2022-05-25T05:57:29.772Z"
   },
   {
    "duration": 93,
    "start_time": "2022-05-25T05:57:31.599Z"
   },
   {
    "duration": 46,
    "start_time": "2022-05-25T05:57:32.000Z"
   },
   {
    "duration": 77,
    "start_time": "2022-05-25T05:57:32.847Z"
   },
   {
    "duration": 4,
    "start_time": "2022-05-25T05:57:33.548Z"
   },
   {
    "duration": 203,
    "start_time": "2022-05-25T05:57:37.915Z"
   },
   {
    "duration": 7,
    "start_time": "2022-05-25T05:57:56.355Z"
   },
   {
    "duration": 6,
    "start_time": "2022-05-25T05:58:37.518Z"
   },
   {
    "duration": 36836,
    "start_time": "2022-05-25T05:58:52.271Z"
   },
   {
    "duration": 534,
    "start_time": "2022-05-25T06:01:52.879Z"
   },
   {
    "duration": 10316,
    "start_time": "2022-05-25T06:02:39.351Z"
   },
   {
    "duration": 1054,
    "start_time": "2022-05-25T06:02:49.669Z"
   },
   {
    "duration": 31210,
    "start_time": "2022-05-25T06:03:08.217Z"
   },
   {
    "duration": 42501,
    "start_time": "2022-05-25T06:05:36.116Z"
   },
   {
    "duration": 578375,
    "start_time": "2022-05-25T06:06:18.620Z"
   },
   {
    "duration": 10957,
    "start_time": "2022-05-25T06:20:38.930Z"
   },
   {
    "duration": 1195119,
    "start_time": "2022-05-25T06:20:52.479Z"
   },
   {
    "duration": 48460,
    "start_time": "2022-05-25T06:42:11.623Z"
   },
   {
    "duration": 53990,
    "start_time": "2022-05-25T06:44:09.014Z"
   },
   {
    "duration": 0,
    "start_time": "2022-05-25T06:45:03.006Z"
   },
   {
    "duration": 0,
    "start_time": "2022-05-25T06:45:03.008Z"
   },
   {
    "duration": 81658,
    "start_time": "2022-05-25T06:45:05.958Z"
   },
   {
    "duration": 5652,
    "start_time": "2022-05-25T06:50:09.067Z"
   },
   {
    "duration": 5615,
    "start_time": "2022-05-25T06:50:37.209Z"
   },
   {
    "duration": 6582,
    "start_time": "2022-05-25T06:50:42.826Z"
   },
   {
    "duration": 237765,
    "start_time": "2022-05-25T06:52:17.647Z"
   },
   {
    "duration": 14562,
    "start_time": "2022-05-25T07:04:57.647Z"
   },
   {
    "duration": 159419,
    "start_time": "2022-05-25T07:05:50.289Z"
   },
   {
    "duration": 27236,
    "start_time": "2022-05-25T07:08:29.709Z"
   },
   {
    "duration": 25723,
    "start_time": "2022-05-25T07:08:56.947Z"
   },
   {
    "duration": 133498,
    "start_time": "2022-05-25T07:10:14.385Z"
   },
   {
    "duration": 10,
    "start_time": "2022-05-25T07:13:28.325Z"
   },
   {
    "duration": 26096,
    "start_time": "2022-05-25T07:13:43.863Z"
   },
   {
    "duration": 12,
    "start_time": "2022-05-25T07:14:47.824Z"
   },
   {
    "duration": 14,
    "start_time": "2022-05-25T07:15:10.142Z"
   },
   {
    "duration": 232,
    "start_time": "2022-05-25T07:15:26.144Z"
   },
   {
    "duration": 270,
    "start_time": "2022-05-25T07:15:48.712Z"
   },
   {
    "duration": 277,
    "start_time": "2022-05-25T07:15:58.413Z"
   },
   {
    "duration": 129,
    "start_time": "2022-05-25T07:16:34.677Z"
   },
   {
    "duration": 245,
    "start_time": "2022-05-25T07:16:46.996Z"
   },
   {
    "duration": 378,
    "start_time": "2022-05-25T07:17:00.324Z"
   },
   {
    "duration": 245,
    "start_time": "2022-05-25T07:20:59.053Z"
   },
   {
    "duration": 32441,
    "start_time": "2022-05-25T08:00:51.973Z"
   },
   {
    "duration": 207,
    "start_time": "2022-05-25T08:02:35.125Z"
   },
   {
    "duration": 14,
    "start_time": "2022-05-25T08:03:10.381Z"
   },
   {
    "duration": 40230,
    "start_time": "2022-05-25T08:03:11.731Z"
   },
   {
    "duration": 371654,
    "start_time": "2022-05-25T08:11:12.315Z"
   },
   {
    "duration": 206,
    "start_time": "2022-05-25T08:19:45.642Z"
   },
   {
    "duration": 197,
    "start_time": "2022-05-25T08:19:47.892Z"
   },
   {
    "duration": 194,
    "start_time": "2022-05-25T08:19:48.892Z"
   },
   {
    "duration": 516221,
    "start_time": "2022-05-25T08:23:03.472Z"
   },
   {
    "duration": 15,
    "start_time": "2022-05-25T08:38:52.282Z"
   },
   {
    "duration": 1022,
    "start_time": "2022-05-25T09:43:00.981Z"
   },
   {
    "duration": 1165,
    "start_time": "2022-05-25T09:43:20.813Z"
   },
   {
    "duration": 1123,
    "start_time": "2022-05-25T09:44:18.069Z"
   },
   {
    "duration": 1220,
    "start_time": "2022-05-25T09:46:25.274Z"
   },
   {
    "duration": 1045,
    "start_time": "2022-05-25T09:48:11.792Z"
   },
   {
    "duration": 1083,
    "start_time": "2022-05-25T09:48:21.332Z"
   },
   {
    "duration": 1231,
    "start_time": "2022-05-25T09:49:01.019Z"
   },
   {
    "duration": 1165,
    "start_time": "2022-05-25T09:49:40.902Z"
   },
   {
    "duration": 1069,
    "start_time": "2022-05-25T09:53:31.811Z"
   },
   {
    "duration": 1079,
    "start_time": "2022-05-25T09:53:47.839Z"
   },
   {
    "duration": 1631,
    "start_time": "2022-05-25T10:21:20.229Z"
   },
   {
    "duration": 1114,
    "start_time": "2022-05-25T10:21:21.862Z"
   },
   {
    "duration": 4,
    "start_time": "2022-05-25T10:21:22.978Z"
   },
   {
    "duration": 1223,
    "start_time": "2022-05-25T10:21:22.984Z"
   },
   {
    "duration": 11,
    "start_time": "2022-05-25T10:21:24.209Z"
   },
   {
    "duration": 522,
    "start_time": "2022-05-25T10:21:24.222Z"
   },
   {
    "duration": 32,
    "start_time": "2022-05-25T10:21:24.746Z"
   },
   {
    "duration": 35,
    "start_time": "2022-05-25T10:21:24.780Z"
   },
   {
    "duration": 10,
    "start_time": "2022-05-25T10:21:24.819Z"
   },
   {
    "duration": 11,
    "start_time": "2022-05-25T10:21:24.832Z"
   },
   {
    "duration": 12,
    "start_time": "2022-05-25T10:21:24.844Z"
   },
   {
    "duration": 216,
    "start_time": "2022-05-25T10:21:24.857Z"
   },
   {
    "duration": 42,
    "start_time": "2022-05-25T10:21:25.075Z"
   },
   {
    "duration": 206,
    "start_time": "2022-05-25T10:21:25.119Z"
   },
   {
    "duration": 587,
    "start_time": "2022-05-25T10:21:25.328Z"
   },
   {
    "duration": 34,
    "start_time": "2022-05-25T10:21:25.917Z"
   },
   {
    "duration": 285,
    "start_time": "2022-05-25T10:21:25.953Z"
   },
   {
    "duration": 311,
    "start_time": "2022-05-25T10:21:26.240Z"
   },
   {
    "duration": 36,
    "start_time": "2022-05-25T10:21:26.554Z"
   },
   {
    "duration": 172,
    "start_time": "2022-05-25T10:21:26.601Z"
   },
   {
    "duration": 532,
    "start_time": "2022-05-25T10:21:26.775Z"
   },
   {
    "duration": 10,
    "start_time": "2022-05-25T10:21:27.309Z"
   },
   {
    "duration": 6,
    "start_time": "2022-05-25T10:21:27.321Z"
   },
   {
    "duration": 691,
    "start_time": "2022-05-25T10:21:27.329Z"
   },
   {
    "duration": 36,
    "start_time": "2022-05-25T10:21:28.022Z"
   },
   {
    "duration": 20,
    "start_time": "2022-05-25T10:21:28.060Z"
   },
   {
    "duration": 791,
    "start_time": "2022-05-25T10:21:28.102Z"
   },
   {
    "duration": 31,
    "start_time": "2022-05-25T10:21:28.903Z"
   },
   {
    "duration": 145,
    "start_time": "2022-05-25T10:21:28.936Z"
   },
   {
    "duration": 31,
    "start_time": "2022-05-25T10:21:29.082Z"
   },
   {
    "duration": 821,
    "start_time": "2022-05-25T10:21:29.115Z"
   },
   {
    "duration": 402,
    "start_time": "2022-05-25T10:21:29.938Z"
   },
   {
    "duration": 89,
    "start_time": "2022-05-25T10:21:30.342Z"
   },
   {
    "duration": 188,
    "start_time": "2022-05-25T10:21:30.433Z"
   },
   {
    "duration": 326,
    "start_time": "2022-05-25T10:21:30.623Z"
   },
   {
    "duration": 15,
    "start_time": "2022-05-25T10:21:30.951Z"
   },
   {
    "duration": 116,
    "start_time": "2022-05-25T10:21:30.968Z"
   },
   {
    "duration": 99,
    "start_time": "2022-05-25T10:21:31.086Z"
   },
   {
    "duration": 100,
    "start_time": "2022-05-25T10:21:31.188Z"
   },
   {
    "duration": 66,
    "start_time": "2022-05-25T10:21:31.290Z"
   },
   {
    "duration": 153,
    "start_time": "2022-05-25T10:21:31.358Z"
   },
   {
    "duration": 7,
    "start_time": "2022-05-25T10:21:31.515Z"
   },
   {
    "duration": 258,
    "start_time": "2022-05-25T10:21:31.524Z"
   },
   {
    "duration": 7,
    "start_time": "2022-05-25T10:21:31.784Z"
   },
   {
    "duration": 42,
    "start_time": "2022-05-25T10:21:31.793Z"
   },
   {
    "duration": 33580,
    "start_time": "2022-05-25T10:21:31.837Z"
   },
   {
    "duration": 687,
    "start_time": "2022-05-25T10:22:05.419Z"
   },
   {
    "duration": 11487,
    "start_time": "2022-05-25T10:22:06.108Z"
   },
   {
    "duration": 1122,
    "start_time": "2022-05-25T10:22:17.597Z"
   },
   {
    "duration": 31046,
    "start_time": "2022-05-25T10:22:18.721Z"
   },
   {
    "duration": 970,
    "start_time": "2022-05-25T10:22:49.769Z"
   },
   {
    "duration": 44207,
    "start_time": "2022-05-25T10:22:50.740Z"
   },
   {
    "duration": 1302134,
    "start_time": "2022-05-25T10:23:34.948Z"
   },
   {
    "duration": 54433,
    "start_time": "2022-05-25T10:45:17.084Z"
   },
   {
    "duration": 52301,
    "start_time": "2022-05-25T10:46:11.521Z"
   },
   {
    "duration": 32897,
    "start_time": "2022-05-25T10:47:03.826Z"
   },
   {
    "duration": 63382,
    "start_time": "2022-05-25T10:47:36.725Z"
   },
   {
    "duration": 1890210,
    "start_time": "2022-05-25T10:48:40.109Z"
   },
   {
    "duration": 56000,
    "start_time": "2022-05-25T11:20:10.321Z"
   },
   {
    "duration": 182417,
    "start_time": "2022-05-25T11:21:06.323Z"
   },
   {
    "duration": 31930,
    "start_time": "2022-05-25T11:24:08.742Z"
   },
   {
    "duration": 30052,
    "start_time": "2022-05-25T11:24:40.674Z"
   },
   {
    "duration": 156517,
    "start_time": "2022-05-25T11:25:10.728Z"
   },
   {
    "duration": 32461,
    "start_time": "2022-05-25T11:27:47.247Z"
   },
   {
    "duration": 16,
    "start_time": "2022-05-25T11:28:19.711Z"
   },
   {
    "duration": 303,
    "start_time": "2022-05-25T11:28:19.729Z"
   },
   {
    "duration": 315,
    "start_time": "2022-05-25T11:28:20.035Z"
   },
   {
    "duration": 352,
    "start_time": "2022-05-25T11:28:20.352Z"
   },
   {
    "duration": 24,
    "start_time": "2022-05-25T11:28:20.705Z"
   },
   {
    "duration": 199620,
    "start_time": "2022-05-25T11:28:20.732Z"
   },
   {
    "duration": 198,
    "start_time": "2022-05-25T11:31:40.354Z"
   },
   {
    "duration": 193,
    "start_time": "2022-05-25T11:31:40.554Z"
   },
   {
    "duration": 311,
    "start_time": "2022-05-25T11:31:40.749Z"
   },
   {
    "duration": 1109,
    "start_time": "2022-05-25T11:31:41.062Z"
   },
   {
    "duration": 1466,
    "start_time": "2022-05-25T12:40:16.078Z"
   },
   {
    "duration": 2579,
    "start_time": "2022-05-25T12:40:17.546Z"
   },
   {
    "duration": 4,
    "start_time": "2022-05-25T12:40:20.127Z"
   },
   {
    "duration": 1458,
    "start_time": "2022-05-25T12:40:20.133Z"
   },
   {
    "duration": 4,
    "start_time": "2022-05-25T12:40:21.593Z"
   },
   {
    "duration": 515,
    "start_time": "2022-05-25T12:40:21.598Z"
   },
   {
    "duration": 35,
    "start_time": "2022-05-25T12:40:22.115Z"
   },
   {
    "duration": 19,
    "start_time": "2022-05-25T12:40:22.152Z"
   },
   {
    "duration": 31,
    "start_time": "2022-05-25T12:40:22.173Z"
   },
   {
    "duration": 11,
    "start_time": "2022-05-25T12:40:22.207Z"
   },
   {
    "duration": 18,
    "start_time": "2022-05-25T12:40:22.220Z"
   },
   {
    "duration": 184,
    "start_time": "2022-05-25T12:40:22.240Z"
   },
   {
    "duration": 17,
    "start_time": "2022-05-25T12:40:22.425Z"
   },
   {
    "duration": 212,
    "start_time": "2022-05-25T12:40:22.444Z"
   },
   {
    "duration": 567,
    "start_time": "2022-05-25T12:40:22.658Z"
   },
   {
    "duration": 37,
    "start_time": "2022-05-25T12:40:23.227Z"
   },
   {
    "duration": 291,
    "start_time": "2022-05-25T12:40:23.266Z"
   },
   {
    "duration": 309,
    "start_time": "2022-05-25T12:40:23.559Z"
   },
   {
    "duration": 44,
    "start_time": "2022-05-25T12:40:23.870Z"
   },
   {
    "duration": 161,
    "start_time": "2022-05-25T12:40:23.916Z"
   },
   {
    "duration": 496,
    "start_time": "2022-05-25T12:40:24.079Z"
   },
   {
    "duration": 6,
    "start_time": "2022-05-25T12:40:24.577Z"
   },
   {
    "duration": 17,
    "start_time": "2022-05-25T12:40:24.584Z"
   },
   {
    "duration": 620,
    "start_time": "2022-05-25T12:40:24.603Z"
   },
   {
    "duration": 27,
    "start_time": "2022-05-25T12:40:25.225Z"
   },
   {
    "duration": 18,
    "start_time": "2022-05-25T12:40:25.253Z"
   },
   {
    "duration": 750,
    "start_time": "2022-05-25T12:40:25.273Z"
   },
   {
    "duration": 28,
    "start_time": "2022-05-25T12:40:26.028Z"
   },
   {
    "duration": 159,
    "start_time": "2022-05-25T12:40:26.058Z"
   },
   {
    "duration": 14,
    "start_time": "2022-05-25T12:40:26.218Z"
   },
   {
    "duration": 757,
    "start_time": "2022-05-25T12:40:26.234Z"
   },
   {
    "duration": 400,
    "start_time": "2022-05-25T12:40:26.993Z"
   },
   {
    "duration": 86,
    "start_time": "2022-05-25T12:40:27.394Z"
   },
   {
    "duration": 190,
    "start_time": "2022-05-25T12:40:27.483Z"
   },
   {
    "duration": 289,
    "start_time": "2022-05-25T12:40:27.674Z"
   },
   {
    "duration": 26,
    "start_time": "2022-05-25T12:40:27.965Z"
   },
   {
    "duration": 92,
    "start_time": "2022-05-25T12:40:27.993Z"
   },
   {
    "duration": 86,
    "start_time": "2022-05-25T12:40:28.087Z"
   },
   {
    "duration": 92,
    "start_time": "2022-05-25T12:40:28.175Z"
   },
   {
    "duration": 53,
    "start_time": "2022-05-25T12:40:28.269Z"
   },
   {
    "duration": 98,
    "start_time": "2022-05-25T12:40:28.324Z"
   },
   {
    "duration": 4,
    "start_time": "2022-05-25T12:40:28.424Z"
   },
   {
    "duration": 235,
    "start_time": "2022-05-25T12:40:28.430Z"
   },
   {
    "duration": 5,
    "start_time": "2022-05-25T12:40:28.667Z"
   },
   {
    "duration": 8,
    "start_time": "2022-05-25T12:40:28.674Z"
   },
   {
    "duration": 41319,
    "start_time": "2022-05-25T12:40:28.684Z"
   },
   {
    "duration": 597,
    "start_time": "2022-05-25T12:41:10.005Z"
   },
   {
    "duration": 9974,
    "start_time": "2022-05-25T12:41:10.604Z"
   },
   {
    "duration": 1025,
    "start_time": "2022-05-25T12:41:20.579Z"
   },
   {
    "duration": 29649,
    "start_time": "2022-05-25T12:41:21.605Z"
   },
   {
    "duration": 937,
    "start_time": "2022-05-25T12:41:51.258Z"
   },
   {
    "duration": 41537,
    "start_time": "2022-05-25T12:41:52.202Z"
   },
   {
    "duration": 646690,
    "start_time": "2022-05-25T12:42:33.741Z"
   },
   {
    "duration": 52812,
    "start_time": "2022-05-25T12:53:20.433Z"
   },
   {
    "duration": 7377,
    "start_time": "2022-05-25T12:54:13.246Z"
   },
   {
    "duration": 6398,
    "start_time": "2022-05-25T12:54:20.625Z"
   },
   {
    "duration": 7388,
    "start_time": "2022-05-25T12:54:27.024Z"
   },
   {
    "duration": 212299,
    "start_time": "2022-05-25T12:54:34.414Z"
   },
   {
    "duration": 5609,
    "start_time": "2022-05-25T12:58:06.715Z"
   },
   {
    "duration": 176576,
    "start_time": "2022-05-25T12:58:12.326Z"
   },
   {
    "duration": 28591,
    "start_time": "2022-05-25T13:01:08.903Z"
   },
   {
    "duration": 28893,
    "start_time": "2022-05-25T13:01:37.496Z"
   },
   {
    "duration": 137508,
    "start_time": "2022-05-25T13:02:06.390Z"
   },
   {
    "duration": 28744,
    "start_time": "2022-05-25T13:04:23.900Z"
   },
   {
    "duration": 9,
    "start_time": "2022-05-25T13:04:52.646Z"
   },
   {
    "duration": 285,
    "start_time": "2022-05-25T13:04:52.657Z"
   },
   {
    "duration": 280,
    "start_time": "2022-05-25T13:04:52.944Z"
   },
   {
    "duration": 279,
    "start_time": "2022-05-25T13:04:53.226Z"
   },
   {
    "duration": 13,
    "start_time": "2022-05-25T13:04:53.507Z"
   },
   {
    "duration": 44284,
    "start_time": "2022-05-25T13:04:53.522Z"
   },
   {
    "duration": 190,
    "start_time": "2022-05-25T13:05:37.808Z"
   },
   {
    "duration": 183,
    "start_time": "2022-05-25T13:05:37.999Z"
   },
   {
    "duration": 312,
    "start_time": "2022-05-25T13:05:38.183Z"
   },
   {
    "duration": 1036,
    "start_time": "2022-05-25T13:05:38.497Z"
   },
   {
    "duration": 1561,
    "start_time": "2022-05-25T13:32:56.677Z"
   },
   {
    "duration": 1288,
    "start_time": "2022-05-25T13:32:58.240Z"
   },
   {
    "duration": 5,
    "start_time": "2022-05-25T13:32:59.530Z"
   },
   {
    "duration": 1256,
    "start_time": "2022-05-25T13:32:59.537Z"
   },
   {
    "duration": 7,
    "start_time": "2022-05-25T13:33:00.795Z"
   },
   {
    "duration": 594,
    "start_time": "2022-05-25T13:33:00.804Z"
   },
   {
    "duration": 38,
    "start_time": "2022-05-25T13:33:01.403Z"
   },
   {
    "duration": 17,
    "start_time": "2022-05-25T13:33:01.443Z"
   },
   {
    "duration": 25,
    "start_time": "2022-05-25T13:33:01.462Z"
   },
   {
    "duration": 26,
    "start_time": "2022-05-25T13:33:01.490Z"
   },
   {
    "duration": 35,
    "start_time": "2022-05-25T13:33:01.518Z"
   },
   {
    "duration": 191,
    "start_time": "2022-05-25T13:33:01.555Z"
   },
   {
    "duration": 17,
    "start_time": "2022-05-25T13:33:01.748Z"
   },
   {
    "duration": 251,
    "start_time": "2022-05-25T13:33:01.768Z"
   },
   {
    "duration": 607,
    "start_time": "2022-05-25T13:33:02.021Z"
   },
   {
    "duration": 36,
    "start_time": "2022-05-25T13:33:02.629Z"
   },
   {
    "duration": 316,
    "start_time": "2022-05-25T13:33:02.667Z"
   },
   {
    "duration": 300,
    "start_time": "2022-05-25T13:33:02.985Z"
   },
   {
    "duration": 45,
    "start_time": "2022-05-25T13:33:03.287Z"
   },
   {
    "duration": 175,
    "start_time": "2022-05-25T13:33:03.334Z"
   },
   {
    "duration": 561,
    "start_time": "2022-05-25T13:33:03.511Z"
   },
   {
    "duration": 7,
    "start_time": "2022-05-25T13:33:04.074Z"
   },
   {
    "duration": 23,
    "start_time": "2022-05-25T13:33:04.082Z"
   },
   {
    "duration": 724,
    "start_time": "2022-05-25T13:33:04.109Z"
   },
   {
    "duration": 28,
    "start_time": "2022-05-25T13:33:04.835Z"
   },
   {
    "duration": 17,
    "start_time": "2022-05-25T13:33:04.865Z"
   },
   {
    "duration": 789,
    "start_time": "2022-05-25T13:33:04.903Z"
   },
   {
    "duration": 35,
    "start_time": "2022-05-25T13:33:05.701Z"
   },
   {
    "duration": 172,
    "start_time": "2022-05-25T13:33:05.738Z"
   },
   {
    "duration": 21,
    "start_time": "2022-05-25T13:33:05.912Z"
   },
   {
    "duration": 839,
    "start_time": "2022-05-25T13:33:05.936Z"
   },
   {
    "duration": 492,
    "start_time": "2022-05-25T13:33:06.778Z"
   },
   {
    "duration": 99,
    "start_time": "2022-05-25T13:33:07.272Z"
   },
   {
    "duration": 199,
    "start_time": "2022-05-25T13:33:07.373Z"
   },
   {
    "duration": 345,
    "start_time": "2022-05-25T13:33:07.573Z"
   },
   {
    "duration": 16,
    "start_time": "2022-05-25T13:33:07.927Z"
   },
   {
    "duration": 139,
    "start_time": "2022-05-25T13:33:07.945Z"
   },
   {
    "duration": 96,
    "start_time": "2022-05-25T13:33:08.086Z"
   },
   {
    "duration": 107,
    "start_time": "2022-05-25T13:33:08.184Z"
   },
   {
    "duration": 61,
    "start_time": "2022-05-25T13:33:08.293Z"
   },
   {
    "duration": 134,
    "start_time": "2022-05-25T13:33:08.356Z"
   },
   {
    "duration": 9,
    "start_time": "2022-05-25T13:33:08.493Z"
   },
   {
    "duration": 313,
    "start_time": "2022-05-25T13:33:08.505Z"
   },
   {
    "duration": 9,
    "start_time": "2022-05-25T13:33:08.821Z"
   },
   {
    "duration": 25,
    "start_time": "2022-05-25T13:33:08.834Z"
   },
   {
    "duration": 32443,
    "start_time": "2022-05-25T13:33:08.861Z"
   },
   {
    "duration": 712,
    "start_time": "2022-05-25T13:33:41.308Z"
   },
   {
    "duration": 10856,
    "start_time": "2022-05-25T13:33:42.029Z"
   },
   {
    "duration": 1178,
    "start_time": "2022-05-25T13:33:52.886Z"
   },
   {
    "duration": 32718,
    "start_time": "2022-05-25T13:33:54.065Z"
   },
   {
    "duration": 1018,
    "start_time": "2022-05-25T13:34:26.785Z"
   },
   {
    "duration": 46532,
    "start_time": "2022-05-25T13:34:27.805Z"
   },
   {
    "duration": 649695,
    "start_time": "2022-05-25T13:35:14.339Z"
   },
   {
    "duration": 42735,
    "start_time": "2022-05-25T13:46:04.036Z"
   },
   {
    "duration": 43448,
    "start_time": "2022-05-25T13:46:46.773Z"
   },
   {
    "duration": 44496,
    "start_time": "2022-05-25T13:47:30.223Z"
   },
   {
    "duration": 42782,
    "start_time": "2022-05-25T13:48:14.721Z"
   },
   {
    "duration": 1757,
    "start_time": "2022-05-25T14:40:47.019Z"
   },
   {
    "duration": 3466,
    "start_time": "2022-05-25T14:40:48.778Z"
   },
   {
    "duration": 4,
    "start_time": "2022-05-25T14:40:52.246Z"
   },
   {
    "duration": 1127,
    "start_time": "2022-05-25T14:40:52.253Z"
   },
   {
    "duration": 4,
    "start_time": "2022-05-25T14:40:53.382Z"
   },
   {
    "duration": 518,
    "start_time": "2022-05-25T14:40:53.388Z"
   },
   {
    "duration": 38,
    "start_time": "2022-05-25T14:40:53.910Z"
   },
   {
    "duration": 16,
    "start_time": "2022-05-25T14:40:53.949Z"
   },
   {
    "duration": 37,
    "start_time": "2022-05-25T14:40:53.967Z"
   },
   {
    "duration": 12,
    "start_time": "2022-05-25T14:40:54.007Z"
   },
   {
    "duration": 21,
    "start_time": "2022-05-25T14:40:54.022Z"
   },
   {
    "duration": 189,
    "start_time": "2022-05-25T14:40:54.045Z"
   },
   {
    "duration": 17,
    "start_time": "2022-05-25T14:40:54.236Z"
   },
   {
    "duration": 214,
    "start_time": "2022-05-25T14:40:54.255Z"
   },
   {
    "duration": 598,
    "start_time": "2022-05-25T14:40:54.470Z"
   },
   {
    "duration": 48,
    "start_time": "2022-05-25T14:40:55.070Z"
   },
   {
    "duration": 281,
    "start_time": "2022-05-25T14:40:55.121Z"
   },
   {
    "duration": 279,
    "start_time": "2022-05-25T14:40:55.404Z"
   },
   {
    "duration": 39,
    "start_time": "2022-05-25T14:40:55.684Z"
   },
   {
    "duration": 156,
    "start_time": "2022-05-25T14:40:55.726Z"
   },
   {
    "duration": 499,
    "start_time": "2022-05-25T14:40:55.884Z"
   },
   {
    "duration": 6,
    "start_time": "2022-05-25T14:40:56.385Z"
   },
   {
    "duration": 12,
    "start_time": "2022-05-25T14:40:56.392Z"
   },
   {
    "duration": 630,
    "start_time": "2022-05-25T14:40:56.406Z"
   },
   {
    "duration": 26,
    "start_time": "2022-05-25T14:40:57.038Z"
   },
   {
    "duration": 17,
    "start_time": "2022-05-25T14:40:57.066Z"
   },
   {
    "duration": 702,
    "start_time": "2022-05-25T14:40:57.108Z"
   },
   {
    "duration": 31,
    "start_time": "2022-05-25T14:40:57.815Z"
   },
   {
    "duration": 164,
    "start_time": "2022-05-25T14:40:57.848Z"
   },
   {
    "duration": 18,
    "start_time": "2022-05-25T14:40:58.015Z"
   },
   {
    "duration": 864,
    "start_time": "2022-05-25T14:40:58.035Z"
   },
   {
    "duration": 403,
    "start_time": "2022-05-25T14:40:58.901Z"
   },
   {
    "duration": 77,
    "start_time": "2022-05-25T14:40:59.307Z"
   },
   {
    "duration": 187,
    "start_time": "2022-05-25T14:40:59.386Z"
   },
   {
    "duration": 304,
    "start_time": "2022-05-25T14:40:59.574Z"
   },
   {
    "duration": 14,
    "start_time": "2022-05-25T14:40:59.880Z"
   },
   {
    "duration": 131,
    "start_time": "2022-05-25T14:40:59.896Z"
   },
   {
    "duration": 95,
    "start_time": "2022-05-25T14:41:00.029Z"
   },
   {
    "duration": 98,
    "start_time": "2022-05-25T14:41:00.126Z"
   },
   {
    "duration": 49,
    "start_time": "2022-05-25T14:41:00.226Z"
   },
   {
    "duration": 97,
    "start_time": "2022-05-25T14:41:00.277Z"
   },
   {
    "duration": 4,
    "start_time": "2022-05-25T14:41:00.375Z"
   },
   {
    "duration": 271,
    "start_time": "2022-05-25T14:41:00.380Z"
   },
   {
    "duration": 5,
    "start_time": "2022-05-25T14:41:00.652Z"
   },
   {
    "duration": 13,
    "start_time": "2022-05-25T14:41:00.659Z"
   },
   {
    "duration": 40433,
    "start_time": "2022-05-25T14:41:00.674Z"
   },
   {
    "duration": 597,
    "start_time": "2022-05-25T14:41:41.109Z"
   },
   {
    "duration": 9930,
    "start_time": "2022-05-25T14:41:41.709Z"
   },
   {
    "duration": 952,
    "start_time": "2022-05-25T14:41:51.641Z"
   },
   {
    "duration": 29026,
    "start_time": "2022-05-25T14:41:52.594Z"
   },
   {
    "duration": 950,
    "start_time": "2022-05-25T14:42:21.622Z"
   },
   {
    "duration": 45321,
    "start_time": "2022-05-25T14:42:22.575Z"
   },
   {
    "duration": 642674,
    "start_time": "2022-05-25T14:43:07.901Z"
   },
   {
    "duration": 37897,
    "start_time": "2022-05-25T14:53:50.577Z"
   },
   {
    "duration": 5450,
    "start_time": "2022-05-25T14:54:28.479Z"
   },
   {
    "duration": 7388,
    "start_time": "2022-05-25T14:54:33.930Z"
   },
   {
    "duration": 5701,
    "start_time": "2022-05-25T14:54:41.320Z"
   },
   {
    "duration": 232891,
    "start_time": "2022-05-25T14:54:47.022Z"
   },
   {
    "duration": 9987,
    "start_time": "2022-05-25T14:58:39.915Z"
   },
   {
    "duration": 156197,
    "start_time": "2022-05-25T14:58:49.904Z"
   },
   {
    "duration": 27570,
    "start_time": "2022-05-25T15:01:26.102Z"
   },
   {
    "duration": 26279,
    "start_time": "2022-05-25T15:01:53.674Z"
   },
   {
    "duration": 124688,
    "start_time": "2022-05-25T15:02:19.954Z"
   },
   {
    "duration": 26289,
    "start_time": "2022-05-25T15:04:24.644Z"
   },
   {
    "duration": 10,
    "start_time": "2022-05-25T15:04:50.935Z"
   },
   {
    "duration": 318,
    "start_time": "2022-05-25T15:04:50.947Z"
   },
   {
    "duration": 294,
    "start_time": "2022-05-25T15:04:51.267Z"
   },
   {
    "duration": 289,
    "start_time": "2022-05-25T15:04:51.563Z"
   },
   {
    "duration": 14,
    "start_time": "2022-05-25T15:04:51.854Z"
   },
   {
    "duration": 48382,
    "start_time": "2022-05-25T15:04:51.870Z"
   },
   {
    "duration": 162,
    "start_time": "2022-05-25T15:05:40.253Z"
   },
   {
    "duration": 156,
    "start_time": "2022-05-25T15:05:40.416Z"
   },
   {
    "duration": 280,
    "start_time": "2022-05-25T15:05:40.574Z"
   },
   {
    "duration": 950,
    "start_time": "2022-05-25T15:05:40.856Z"
   },
   {
    "duration": 3910,
    "start_time": "2022-05-26T06:52:02.032Z"
   },
   {
    "duration": 1397,
    "start_time": "2022-05-26T06:52:05.944Z"
   },
   {
    "duration": 4,
    "start_time": "2022-05-26T06:52:07.343Z"
   },
   {
    "duration": 1179,
    "start_time": "2022-05-26T06:52:07.349Z"
   },
   {
    "duration": 4,
    "start_time": "2022-05-26T06:52:08.529Z"
   },
   {
    "duration": 518,
    "start_time": "2022-05-26T06:52:08.534Z"
   },
   {
    "duration": 40,
    "start_time": "2022-05-26T06:52:09.056Z"
   },
   {
    "duration": 17,
    "start_time": "2022-05-26T06:52:09.098Z"
   },
   {
    "duration": 9,
    "start_time": "2022-05-26T06:52:09.116Z"
   },
   {
    "duration": 41,
    "start_time": "2022-05-26T06:52:09.128Z"
   },
   {
    "duration": 21,
    "start_time": "2022-05-26T06:52:09.172Z"
   },
   {
    "duration": 209,
    "start_time": "2022-05-26T06:52:09.195Z"
   },
   {
    "duration": 18,
    "start_time": "2022-05-26T06:52:09.406Z"
   },
   {
    "duration": 208,
    "start_time": "2022-05-26T06:52:09.427Z"
   },
   {
    "duration": 602,
    "start_time": "2022-05-26T06:52:09.636Z"
   },
   {
    "duration": 43,
    "start_time": "2022-05-26T06:52:10.239Z"
   },
   {
    "duration": 288,
    "start_time": "2022-05-26T06:52:10.283Z"
   },
   {
    "duration": 301,
    "start_time": "2022-05-26T06:52:10.573Z"
   },
   {
    "duration": 29,
    "start_time": "2022-05-26T06:52:10.876Z"
   },
   {
    "duration": 167,
    "start_time": "2022-05-26T06:52:10.907Z"
   },
   {
    "duration": 508,
    "start_time": "2022-05-26T06:52:11.076Z"
   },
   {
    "duration": 6,
    "start_time": "2022-05-26T06:52:11.587Z"
   },
   {
    "duration": 18,
    "start_time": "2022-05-26T06:52:11.595Z"
   },
   {
    "duration": 680,
    "start_time": "2022-05-26T06:52:11.615Z"
   },
   {
    "duration": 29,
    "start_time": "2022-05-26T06:52:12.297Z"
   },
   {
    "duration": 41,
    "start_time": "2022-05-26T06:52:12.327Z"
   },
   {
    "duration": 733,
    "start_time": "2022-05-26T06:52:12.370Z"
   },
   {
    "duration": 29,
    "start_time": "2022-05-26T06:52:13.107Z"
   },
   {
    "duration": 158,
    "start_time": "2022-05-26T06:52:13.137Z"
   },
   {
    "duration": 16,
    "start_time": "2022-05-26T06:52:13.297Z"
   },
   {
    "duration": 784,
    "start_time": "2022-05-26T06:52:13.314Z"
   },
   {
    "duration": 381,
    "start_time": "2022-05-26T06:52:14.100Z"
   },
   {
    "duration": 79,
    "start_time": "2022-05-26T06:52:14.483Z"
   },
   {
    "duration": 165,
    "start_time": "2022-05-26T06:52:14.569Z"
   },
   {
    "duration": 291,
    "start_time": "2022-05-26T06:52:14.736Z"
   },
   {
    "duration": 16,
    "start_time": "2022-05-26T06:52:15.029Z"
   },
   {
    "duration": 86,
    "start_time": "2022-05-26T06:52:15.059Z"
   },
   {
    "duration": 96,
    "start_time": "2022-05-26T06:52:15.147Z"
   },
   {
    "duration": 123,
    "start_time": "2022-05-26T06:52:15.246Z"
   },
   {
    "duration": 61,
    "start_time": "2022-05-26T06:52:15.372Z"
   },
   {
    "duration": 93,
    "start_time": "2022-05-26T06:52:15.435Z"
   },
   {
    "duration": 4,
    "start_time": "2022-05-26T06:52:15.530Z"
   },
   {
    "duration": 267,
    "start_time": "2022-05-26T06:52:15.554Z"
   },
   {
    "duration": 5,
    "start_time": "2022-05-26T06:52:15.824Z"
   },
   {
    "duration": 11,
    "start_time": "2022-05-26T06:52:15.831Z"
   },
   {
    "duration": 31713,
    "start_time": "2022-05-26T06:52:15.844Z"
   },
   {
    "duration": 514,
    "start_time": "2022-05-26T06:52:47.561Z"
   },
   {
    "duration": 13219,
    "start_time": "2022-05-26T06:52:48.154Z"
   },
   {
    "duration": 1922,
    "start_time": "2022-05-26T06:53:01.375Z"
   },
   {
    "duration": 33034,
    "start_time": "2022-05-26T06:53:03.352Z"
   },
   {
    "duration": 936,
    "start_time": "2022-05-26T06:53:36.388Z"
   },
   {
    "duration": 40060,
    "start_time": "2022-05-26T06:53:37.325Z"
   },
   {
    "duration": 627619,
    "start_time": "2022-05-26T06:54:17.387Z"
   },
   {
    "duration": 39082,
    "start_time": "2022-05-26T07:04:45.008Z"
   },
   {
    "duration": 62786,
    "start_time": "2022-05-26T07:05:24.093Z"
   },
   {
    "duration": 57677,
    "start_time": "2022-05-26T07:06:26.881Z"
   },
   {
    "duration": 51824,
    "start_time": "2022-05-26T07:07:24.564Z"
   },
   {
    "duration": 1467179,
    "start_time": "2022-05-26T07:08:16.391Z"
   },
   {
    "duration": 78100,
    "start_time": "2022-05-26T07:32:43.572Z"
   },
   {
    "duration": 172701,
    "start_time": "2022-05-26T07:34:01.673Z"
   },
   {
    "duration": 30516,
    "start_time": "2022-05-26T07:36:54.375Z"
   },
   {
    "duration": 28903,
    "start_time": "2022-05-26T07:37:24.893Z"
   },
   {
    "duration": 155133,
    "start_time": "2022-05-26T07:37:53.798Z"
   },
   {
    "duration": 33792,
    "start_time": "2022-05-26T07:40:28.933Z"
   },
   {
    "duration": 9,
    "start_time": "2022-05-26T07:41:02.727Z"
   },
   {
    "duration": 306,
    "start_time": "2022-05-26T07:41:02.738Z"
   },
   {
    "duration": 283,
    "start_time": "2022-05-26T07:41:03.046Z"
   },
   {
    "duration": 312,
    "start_time": "2022-05-26T07:41:03.330Z"
   },
   {
    "duration": 22,
    "start_time": "2022-05-26T07:41:03.644Z"
   },
   {
    "duration": 428165,
    "start_time": "2022-05-26T07:41:03.667Z"
   },
   {
    "duration": 199,
    "start_time": "2022-05-26T07:48:11.834Z"
   },
   {
    "duration": 221,
    "start_time": "2022-05-26T07:48:12.035Z"
   },
   {
    "duration": 328,
    "start_time": "2022-05-26T07:48:12.260Z"
   },
   {
    "duration": 1102,
    "start_time": "2022-05-26T07:48:12.591Z"
   },
   {
    "duration": 53,
    "start_time": "2022-05-26T08:21:20.934Z"
   },
   {
    "duration": 1602,
    "start_time": "2022-05-26T08:21:25.929Z"
   },
   {
    "duration": 4082,
    "start_time": "2022-05-26T08:21:27.535Z"
   },
   {
    "duration": 5,
    "start_time": "2022-05-26T08:21:31.619Z"
   },
   {
    "duration": 1314,
    "start_time": "2022-05-26T08:21:31.627Z"
   },
   {
    "duration": 3,
    "start_time": "2022-05-26T08:21:32.943Z"
   },
   {
    "duration": 483,
    "start_time": "2022-05-26T08:21:32.947Z"
   },
   {
    "duration": 27,
    "start_time": "2022-05-26T08:21:33.431Z"
   },
   {
    "duration": 15,
    "start_time": "2022-05-26T08:21:33.460Z"
   },
   {
    "duration": 26,
    "start_time": "2022-05-26T08:21:33.476Z"
   },
   {
    "duration": 41,
    "start_time": "2022-05-26T08:21:33.505Z"
   },
   {
    "duration": 20,
    "start_time": "2022-05-26T08:21:33.547Z"
   },
   {
    "duration": 177,
    "start_time": "2022-05-26T08:21:33.568Z"
   },
   {
    "duration": 14,
    "start_time": "2022-05-26T08:21:33.746Z"
   },
   {
    "duration": 188,
    "start_time": "2022-05-26T08:21:33.762Z"
   },
   {
    "duration": 532,
    "start_time": "2022-05-26T08:21:33.952Z"
   },
   {
    "duration": 50,
    "start_time": "2022-05-26T08:21:34.485Z"
   },
   {
    "duration": 272,
    "start_time": "2022-05-26T08:21:34.537Z"
   },
   {
    "duration": 277,
    "start_time": "2022-05-26T08:21:34.810Z"
   },
   {
    "duration": 54,
    "start_time": "2022-05-26T08:21:35.089Z"
   },
   {
    "duration": 225,
    "start_time": "2022-05-26T08:21:35.145Z"
   },
   {
    "duration": 515,
    "start_time": "2022-05-26T08:21:35.372Z"
   },
   {
    "duration": 12,
    "start_time": "2022-05-26T08:21:35.894Z"
   },
   {
    "duration": 33,
    "start_time": "2022-05-26T08:21:35.909Z"
   },
   {
    "duration": 623,
    "start_time": "2022-05-26T08:21:35.943Z"
   },
   {
    "duration": 46,
    "start_time": "2022-05-26T08:21:36.568Z"
   },
   {
    "duration": 18,
    "start_time": "2022-05-26T08:21:36.619Z"
   },
   {
    "duration": 1397,
    "start_time": "2022-05-26T08:21:36.638Z"
   },
   {
    "duration": 35,
    "start_time": "2022-05-26T08:21:38.094Z"
   },
   {
    "duration": 314,
    "start_time": "2022-05-26T08:21:38.130Z"
   },
   {
    "duration": 66,
    "start_time": "2022-05-26T08:21:38.445Z"
   },
   {
    "duration": 1830,
    "start_time": "2022-05-26T08:21:38.515Z"
   },
   {
    "duration": 408,
    "start_time": "2022-05-26T08:21:40.347Z"
   },
   {
    "duration": 103,
    "start_time": "2022-05-26T08:21:40.757Z"
   },
   {
    "duration": 201,
    "start_time": "2022-05-26T08:21:40.862Z"
   },
   {
    "duration": 474,
    "start_time": "2022-05-26T08:21:41.065Z"
   },
   {
    "duration": 17,
    "start_time": "2022-05-26T08:21:41.541Z"
   },
   {
    "duration": 117,
    "start_time": "2022-05-26T08:21:41.559Z"
   },
   {
    "duration": 94,
    "start_time": "2022-05-26T08:21:41.678Z"
   },
   {
    "duration": 90,
    "start_time": "2022-05-26T08:21:41.774Z"
   },
   {
    "duration": 70,
    "start_time": "2022-05-26T08:21:41.866Z"
   },
   {
    "duration": 180,
    "start_time": "2022-05-26T08:21:41.938Z"
   },
   {
    "duration": 6,
    "start_time": "2022-05-26T08:21:42.121Z"
   },
   {
    "duration": 328,
    "start_time": "2022-05-26T08:21:42.129Z"
   },
   {
    "duration": 5,
    "start_time": "2022-05-26T08:21:42.459Z"
   },
   {
    "duration": 33,
    "start_time": "2022-05-26T08:21:42.466Z"
   },
   {
    "duration": 37101,
    "start_time": "2022-05-26T08:21:42.500Z"
   },
   {
    "duration": 1218,
    "start_time": "2022-05-26T08:22:19.605Z"
   },
   {
    "duration": 21803,
    "start_time": "2022-05-26T08:22:20.908Z"
   },
   {
    "duration": 2394,
    "start_time": "2022-05-26T08:22:42.712Z"
   },
   {
    "duration": 94594,
    "start_time": "2022-05-26T08:22:45.107Z"
   },
   {
    "duration": 3908,
    "start_time": "2022-05-26T08:24:19.703Z"
   },
   {
    "duration": 179703,
    "start_time": "2022-05-26T08:24:23.616Z"
   },
   {
    "duration": 3537395,
    "start_time": "2022-05-26T08:27:23.321Z"
   },
   {
    "duration": 261982,
    "start_time": "2022-05-26T09:26:20.729Z"
   },
   {
    "duration": 817596,
    "start_time": "2022-05-26T09:30:42.719Z"
   },
   {
    "duration": 991386,
    "start_time": "2022-05-26T09:44:20.317Z"
   },
   {
    "duration": 694397,
    "start_time": "2022-05-26T10:00:51.705Z"
   },
   {
    "duration": 1992,
    "start_time": "2022-05-26T12:19:24.296Z"
   },
   {
    "duration": 1357,
    "start_time": "2022-05-26T12:19:26.291Z"
   },
   {
    "duration": 4,
    "start_time": "2022-05-26T12:19:27.650Z"
   },
   {
    "duration": 1182,
    "start_time": "2022-05-26T12:19:27.656Z"
   },
   {
    "duration": 3,
    "start_time": "2022-05-26T12:19:28.840Z"
   },
   {
    "duration": 1010,
    "start_time": "2022-05-26T12:19:28.845Z"
   },
   {
    "duration": 87,
    "start_time": "2022-05-26T12:19:29.857Z"
   },
   {
    "duration": 16,
    "start_time": "2022-05-26T12:19:29.945Z"
   },
   {
    "duration": 65,
    "start_time": "2022-05-26T12:19:29.963Z"
   },
   {
    "duration": 13,
    "start_time": "2022-05-26T12:19:30.030Z"
   },
   {
    "duration": 21,
    "start_time": "2022-05-26T12:19:30.045Z"
   },
   {
    "duration": 385,
    "start_time": "2022-05-26T12:19:30.068Z"
   },
   {
    "duration": 16,
    "start_time": "2022-05-26T12:19:30.455Z"
   },
   {
    "duration": 314,
    "start_time": "2022-05-26T12:19:30.529Z"
   },
   {
    "duration": 553,
    "start_time": "2022-05-26T12:19:30.845Z"
   },
   {
    "duration": 39,
    "start_time": "2022-05-26T12:19:31.400Z"
   },
   {
    "duration": 281,
    "start_time": "2022-05-26T12:19:31.440Z"
   },
   {
    "duration": 279,
    "start_time": "2022-05-26T12:19:31.727Z"
   },
   {
    "duration": 40,
    "start_time": "2022-05-26T12:19:32.008Z"
   },
   {
    "duration": 171,
    "start_time": "2022-05-26T12:19:32.050Z"
   },
   {
    "duration": 464,
    "start_time": "2022-05-26T12:19:32.223Z"
   },
   {
    "duration": 7,
    "start_time": "2022-05-26T12:19:32.688Z"
   },
   {
    "duration": 11,
    "start_time": "2022-05-26T12:19:32.696Z"
   },
   {
    "duration": 615,
    "start_time": "2022-05-26T12:19:32.708Z"
   },
   {
    "duration": 26,
    "start_time": "2022-05-26T12:19:33.326Z"
   },
   {
    "duration": 17,
    "start_time": "2022-05-26T12:19:33.353Z"
   },
   {
    "duration": 731,
    "start_time": "2022-05-26T12:19:33.372Z"
   },
   {
    "duration": 41,
    "start_time": "2022-05-26T12:19:34.105Z"
   },
   {
    "duration": 24,
    "start_time": "2022-05-26T12:19:34.148Z"
   },
   {
    "duration": 16,
    "start_time": "2022-05-26T12:19:34.174Z"
   },
   {
    "duration": 841,
    "start_time": "2022-05-26T12:19:34.192Z"
   },
   {
    "duration": 368,
    "start_time": "2022-05-26T12:19:35.035Z"
   },
   {
    "duration": 78,
    "start_time": "2022-05-26T12:19:35.405Z"
   },
   {
    "duration": 180,
    "start_time": "2022-05-26T12:19:35.485Z"
   },
   {
    "duration": 272,
    "start_time": "2022-05-26T12:19:35.667Z"
   },
   {
    "duration": 14,
    "start_time": "2022-05-26T12:19:35.940Z"
   },
   {
    "duration": 97,
    "start_time": "2022-05-26T12:19:35.955Z"
   },
   {
    "duration": 87,
    "start_time": "2022-05-26T12:19:36.054Z"
   },
   {
    "duration": 90,
    "start_time": "2022-05-26T12:19:36.143Z"
   },
   {
    "duration": 51,
    "start_time": "2022-05-26T12:19:36.236Z"
   },
   {
    "duration": 84,
    "start_time": "2022-05-26T12:19:56.314Z"
   },
   {
    "duration": 65,
    "start_time": "2022-05-26T12:20:39.942Z"
   },
   {
    "duration": 70,
    "start_time": "2022-05-26T12:20:44.840Z"
   },
   {
    "duration": 43,
    "start_time": "2022-05-26T12:20:45.346Z"
   },
   {
    "duration": 86,
    "start_time": "2022-05-26T12:20:47.206Z"
   },
   {
    "duration": 4,
    "start_time": "2022-05-26T12:20:48.455Z"
   },
   {
    "duration": 3,
    "start_time": "2022-05-26T12:21:54.170Z"
   },
   {
    "duration": 1419,
    "start_time": "2022-05-26T12:28:28.217Z"
   },
   {
    "duration": 1160,
    "start_time": "2022-05-26T12:28:29.639Z"
   },
   {
    "duration": 5,
    "start_time": "2022-05-26T12:28:30.801Z"
   },
   {
    "duration": 2174,
    "start_time": "2022-05-26T12:28:30.808Z"
   },
   {
    "duration": 3,
    "start_time": "2022-05-26T12:28:32.984Z"
   },
   {
    "duration": 475,
    "start_time": "2022-05-26T12:28:32.989Z"
   },
   {
    "duration": 32,
    "start_time": "2022-05-26T12:28:33.466Z"
   },
   {
    "duration": 36,
    "start_time": "2022-05-26T12:28:33.500Z"
   },
   {
    "duration": 10,
    "start_time": "2022-05-26T12:28:33.538Z"
   },
   {
    "duration": 13,
    "start_time": "2022-05-26T12:28:33.550Z"
   },
   {
    "duration": 19,
    "start_time": "2022-05-26T12:28:33.565Z"
   },
   {
    "duration": 189,
    "start_time": "2022-05-26T12:28:33.586Z"
   },
   {
    "duration": 18,
    "start_time": "2022-05-26T12:28:33.778Z"
   },
   {
    "duration": 245,
    "start_time": "2022-05-26T12:28:33.799Z"
   },
   {
    "duration": 522,
    "start_time": "2022-05-26T12:28:34.045Z"
   },
   {
    "duration": 34,
    "start_time": "2022-05-26T12:28:34.570Z"
   },
   {
    "duration": 305,
    "start_time": "2022-05-26T12:28:34.606Z"
   },
   {
    "duration": 291,
    "start_time": "2022-05-26T12:28:34.913Z"
   },
   {
    "duration": 36,
    "start_time": "2022-05-26T12:28:35.206Z"
   },
   {
    "duration": 164,
    "start_time": "2022-05-26T12:28:35.244Z"
   },
   {
    "duration": 474,
    "start_time": "2022-05-26T12:28:35.409Z"
   },
   {
    "duration": 9,
    "start_time": "2022-05-26T12:28:35.885Z"
   },
   {
    "duration": 6,
    "start_time": "2022-05-26T12:28:35.896Z"
   },
   {
    "duration": 697,
    "start_time": "2022-05-26T12:28:35.904Z"
   },
   {
    "duration": 31,
    "start_time": "2022-05-26T12:28:36.603Z"
   },
   {
    "duration": 18,
    "start_time": "2022-05-26T12:28:36.636Z"
   },
   {
    "duration": 677,
    "start_time": "2022-05-26T12:28:36.656Z"
   },
   {
    "duration": 28,
    "start_time": "2022-05-26T12:28:37.337Z"
   },
   {
    "duration": 172,
    "start_time": "2022-05-26T12:28:37.367Z"
   },
   {
    "duration": 21,
    "start_time": "2022-05-26T12:28:37.542Z"
   },
   {
    "duration": 758,
    "start_time": "2022-05-26T12:28:37.565Z"
   },
   {
    "duration": 370,
    "start_time": "2022-05-26T12:28:38.325Z"
   },
   {
    "duration": 73,
    "start_time": "2022-05-26T12:28:38.697Z"
   },
   {
    "duration": 175,
    "start_time": "2022-05-26T12:28:38.772Z"
   },
   {
    "duration": 310,
    "start_time": "2022-05-26T12:28:38.949Z"
   },
   {
    "duration": 16,
    "start_time": "2022-05-26T12:28:39.261Z"
   },
   {
    "duration": 110,
    "start_time": "2022-05-26T12:28:39.279Z"
   },
   {
    "duration": 86,
    "start_time": "2022-05-26T12:28:39.391Z"
   },
   {
    "duration": 87,
    "start_time": "2022-05-26T12:28:39.479Z"
   },
   {
    "duration": 44,
    "start_time": "2022-05-26T12:28:39.568Z"
   },
   {
    "duration": 81,
    "start_time": "2022-05-26T12:28:39.614Z"
   },
   {
    "duration": 4,
    "start_time": "2022-05-26T12:28:39.697Z"
   },
   {
    "duration": 206,
    "start_time": "2022-05-26T12:28:39.703Z"
   },
   {
    "duration": 15,
    "start_time": "2022-05-26T12:28:39.912Z"
   },
   {
    "duration": 5,
    "start_time": "2022-05-26T12:28:39.929Z"
   },
   {
    "duration": 608,
    "start_time": "2022-05-26T12:28:39.936Z"
   },
   {
    "duration": 0,
    "start_time": "2022-05-26T12:28:40.546Z"
   },
   {
    "duration": 0,
    "start_time": "2022-05-26T12:28:40.547Z"
   },
   {
    "duration": 0,
    "start_time": "2022-05-26T12:28:40.549Z"
   },
   {
    "duration": 0,
    "start_time": "2022-05-26T12:28:40.550Z"
   },
   {
    "duration": 0,
    "start_time": "2022-05-26T12:28:40.552Z"
   },
   {
    "duration": 0,
    "start_time": "2022-05-26T12:28:40.554Z"
   },
   {
    "duration": 0,
    "start_time": "2022-05-26T12:28:40.555Z"
   },
   {
    "duration": 0,
    "start_time": "2022-05-26T12:28:40.558Z"
   },
   {
    "duration": 0,
    "start_time": "2022-05-26T12:28:40.559Z"
   },
   {
    "duration": 0,
    "start_time": "2022-05-26T12:28:40.560Z"
   },
   {
    "duration": 0,
    "start_time": "2022-05-26T12:28:40.561Z"
   },
   {
    "duration": 0,
    "start_time": "2022-05-26T12:28:40.562Z"
   },
   {
    "duration": 1,
    "start_time": "2022-05-26T12:28:40.563Z"
   },
   {
    "duration": 0,
    "start_time": "2022-05-26T12:28:40.565Z"
   },
   {
    "duration": 0,
    "start_time": "2022-05-26T12:28:40.566Z"
   },
   {
    "duration": 0,
    "start_time": "2022-05-26T12:28:40.567Z"
   },
   {
    "duration": 0,
    "start_time": "2022-05-26T12:28:40.569Z"
   },
   {
    "duration": 0,
    "start_time": "2022-05-26T12:28:40.570Z"
   },
   {
    "duration": 0,
    "start_time": "2022-05-26T12:28:40.571Z"
   },
   {
    "duration": 0,
    "start_time": "2022-05-26T12:28:40.572Z"
   },
   {
    "duration": 0,
    "start_time": "2022-05-26T12:28:40.573Z"
   },
   {
    "duration": 0,
    "start_time": "2022-05-26T12:28:40.574Z"
   },
   {
    "duration": 0,
    "start_time": "2022-05-26T12:28:40.575Z"
   },
   {
    "duration": 0,
    "start_time": "2022-05-26T12:28:40.576Z"
   },
   {
    "duration": 0,
    "start_time": "2022-05-26T12:28:40.578Z"
   },
   {
    "duration": 0,
    "start_time": "2022-05-26T12:28:40.626Z"
   },
   {
    "duration": 0,
    "start_time": "2022-05-26T12:28:40.628Z"
   },
   {
    "duration": 0,
    "start_time": "2022-05-26T12:28:40.629Z"
   },
   {
    "duration": 28,
    "start_time": "2022-05-26T12:30:58.730Z"
   },
   {
    "duration": 63,
    "start_time": "2022-05-26T12:33:09.141Z"
   },
   {
    "duration": 420,
    "start_time": "2022-05-26T12:33:17.796Z"
   },
   {
    "duration": 64,
    "start_time": "2022-05-26T12:33:51.737Z"
   },
   {
    "duration": 402,
    "start_time": "2022-05-26T12:33:58.328Z"
   },
   {
    "duration": 17,
    "start_time": "2022-05-26T12:35:09.347Z"
   },
   {
    "duration": 922,
    "start_time": "2022-05-26T12:37:05.234Z"
   },
   {
    "duration": 32,
    "start_time": "2022-05-26T12:37:16.054Z"
   },
   {
    "duration": 5,
    "start_time": "2022-05-26T12:38:20.643Z"
   },
   {
    "duration": 1053,
    "start_time": "2022-05-26T12:38:20.666Z"
   },
   {
    "duration": 6,
    "start_time": "2022-05-26T12:38:21.721Z"
   },
   {
    "duration": 1087,
    "start_time": "2022-05-26T12:38:21.728Z"
   },
   {
    "duration": 11,
    "start_time": "2022-05-26T12:38:22.817Z"
   },
   {
    "duration": 451,
    "start_time": "2022-05-26T12:38:22.830Z"
   },
   {
    "duration": 31,
    "start_time": "2022-05-26T12:38:23.283Z"
   },
   {
    "duration": 18,
    "start_time": "2022-05-26T12:38:23.326Z"
   },
   {
    "duration": 11,
    "start_time": "2022-05-26T12:38:23.347Z"
   },
   {
    "duration": 15,
    "start_time": "2022-05-26T12:38:23.360Z"
   },
   {
    "duration": 50,
    "start_time": "2022-05-26T12:38:23.378Z"
   },
   {
    "duration": 183,
    "start_time": "2022-05-26T12:38:23.430Z"
   },
   {
    "duration": 28,
    "start_time": "2022-05-26T12:38:23.616Z"
   },
   {
    "duration": 206,
    "start_time": "2022-05-26T12:38:23.646Z"
   },
   {
    "duration": 633,
    "start_time": "2022-05-26T12:38:23.856Z"
   },
   {
    "duration": 37,
    "start_time": "2022-05-26T12:38:24.491Z"
   },
   {
    "duration": 198,
    "start_time": "2022-05-26T12:38:24.529Z"
   },
   {
    "duration": 324,
    "start_time": "2022-05-26T12:38:24.729Z"
   },
   {
    "duration": 35,
    "start_time": "2022-05-26T12:38:25.056Z"
   },
   {
    "duration": 182,
    "start_time": "2022-05-26T12:38:25.093Z"
   },
   {
    "duration": 495,
    "start_time": "2022-05-26T12:38:25.277Z"
   },
   {
    "duration": 6,
    "start_time": "2022-05-26T12:38:25.775Z"
   },
   {
    "duration": 7,
    "start_time": "2022-05-26T12:38:25.783Z"
   },
   {
    "duration": 738,
    "start_time": "2022-05-26T12:38:25.793Z"
   },
   {
    "duration": 26,
    "start_time": "2022-05-26T12:38:26.534Z"
   },
   {
    "duration": 17,
    "start_time": "2022-05-26T12:38:26.562Z"
   },
   {
    "duration": 778,
    "start_time": "2022-05-26T12:38:26.581Z"
   },
   {
    "duration": 36,
    "start_time": "2022-05-26T12:38:27.362Z"
   },
   {
    "duration": 36,
    "start_time": "2022-05-26T12:38:27.400Z"
   },
   {
    "duration": 15,
    "start_time": "2022-05-26T12:38:27.438Z"
   },
   {
    "duration": 695,
    "start_time": "2022-05-26T12:38:27.455Z"
   },
   {
    "duration": 327,
    "start_time": "2022-05-26T12:38:28.153Z"
   },
   {
    "duration": 72,
    "start_time": "2022-05-26T12:38:28.481Z"
   },
   {
    "duration": 145,
    "start_time": "2022-05-26T12:38:28.554Z"
   },
   {
    "duration": 267,
    "start_time": "2022-05-26T12:38:28.701Z"
   },
   {
    "duration": 15,
    "start_time": "2022-05-26T12:38:28.970Z"
   },
   {
    "duration": 105,
    "start_time": "2022-05-26T12:38:28.987Z"
   },
   {
    "duration": 108,
    "start_time": "2022-05-26T12:38:29.094Z"
   },
   {
    "duration": 77,
    "start_time": "2022-05-26T12:38:29.204Z"
   },
   {
    "duration": 58,
    "start_time": "2022-05-26T12:38:29.283Z"
   },
   {
    "duration": 105,
    "start_time": "2022-05-26T12:38:29.343Z"
   },
   {
    "duration": 4,
    "start_time": "2022-05-26T12:38:29.452Z"
   },
   {
    "duration": 199,
    "start_time": "2022-05-26T12:38:29.458Z"
   },
   {
    "duration": 5,
    "start_time": "2022-05-26T12:38:29.658Z"
   },
   {
    "duration": 13,
    "start_time": "2022-05-26T12:38:29.665Z"
   },
   {
    "duration": 20,
    "start_time": "2022-05-26T12:38:31.788Z"
   },
   {
    "duration": 18,
    "start_time": "2022-05-26T12:38:54.036Z"
   },
   {
    "duration": 394,
    "start_time": "2022-05-26T12:39:08.813Z"
   },
   {
    "duration": 10,
    "start_time": "2022-05-26T12:39:27.775Z"
   },
   {
    "duration": 16,
    "start_time": "2022-05-26T12:39:42.225Z"
   },
   {
    "duration": 69,
    "start_time": "2022-05-26T12:44:28.943Z"
   },
   {
    "duration": 43,
    "start_time": "2022-05-26T12:44:35.737Z"
   },
   {
    "duration": 69,
    "start_time": "2022-05-26T12:44:58.503Z"
   },
   {
    "duration": 41,
    "start_time": "2022-05-26T12:45:04.700Z"
   },
   {
    "duration": 70,
    "start_time": "2022-05-26T12:47:30.164Z"
   },
   {
    "duration": 64,
    "start_time": "2022-05-26T12:51:56.844Z"
   },
   {
    "duration": 68,
    "start_time": "2022-05-26T12:54:32.158Z"
   },
   {
    "duration": 66,
    "start_time": "2022-05-26T12:54:42.128Z"
   },
   {
    "duration": 62,
    "start_time": "2022-05-26T12:54:52.382Z"
   },
   {
    "duration": 84,
    "start_time": "2022-05-26T12:55:06.279Z"
   },
   {
    "duration": 42,
    "start_time": "2022-05-26T12:55:13.093Z"
   },
   {
    "duration": 5,
    "start_time": "2022-05-26T13:10:30.579Z"
   },
   {
    "duration": 984,
    "start_time": "2022-05-26T13:10:30.586Z"
   },
   {
    "duration": 5,
    "start_time": "2022-05-26T13:10:31.572Z"
   },
   {
    "duration": 1128,
    "start_time": "2022-05-26T13:10:31.578Z"
   },
   {
    "duration": 4,
    "start_time": "2022-05-26T13:10:32.708Z"
   },
   {
    "duration": 420,
    "start_time": "2022-05-26T13:10:32.713Z"
   },
   {
    "duration": 29,
    "start_time": "2022-05-26T13:10:33.135Z"
   },
   {
    "duration": 16,
    "start_time": "2022-05-26T13:10:33.166Z"
   },
   {
    "duration": 11,
    "start_time": "2022-05-26T13:10:33.184Z"
   },
   {
    "duration": 36,
    "start_time": "2022-05-26T13:10:33.197Z"
   },
   {
    "duration": 13,
    "start_time": "2022-05-26T13:10:33.236Z"
   },
   {
    "duration": 189,
    "start_time": "2022-05-26T13:10:33.251Z"
   },
   {
    "duration": 15,
    "start_time": "2022-05-26T13:10:33.442Z"
   },
   {
    "duration": 201,
    "start_time": "2022-05-26T13:10:33.459Z"
   },
   {
    "duration": 668,
    "start_time": "2022-05-26T13:10:33.662Z"
   },
   {
    "duration": 32,
    "start_time": "2022-05-26T13:10:34.332Z"
   },
   {
    "duration": 173,
    "start_time": "2022-05-26T13:10:34.366Z"
   },
   {
    "duration": 260,
    "start_time": "2022-05-26T13:10:34.541Z"
   },
   {
    "duration": 43,
    "start_time": "2022-05-26T13:10:34.803Z"
   },
   {
    "duration": 164,
    "start_time": "2022-05-26T13:10:34.848Z"
   },
   {
    "duration": 480,
    "start_time": "2022-05-26T13:10:35.014Z"
   },
   {
    "duration": 6,
    "start_time": "2022-05-26T13:10:35.496Z"
   },
   {
    "duration": 11,
    "start_time": "2022-05-26T13:10:35.503Z"
   },
   {
    "duration": 561,
    "start_time": "2022-05-26T13:10:35.516Z"
   },
   {
    "duration": 26,
    "start_time": "2022-05-26T13:10:36.079Z"
   },
   {
    "duration": 35,
    "start_time": "2022-05-26T13:10:36.107Z"
   },
   {
    "duration": 802,
    "start_time": "2022-05-26T13:10:36.144Z"
   },
   {
    "duration": 27,
    "start_time": "2022-05-26T13:10:36.948Z"
   },
   {
    "duration": 20,
    "start_time": "2022-05-26T13:10:36.978Z"
   },
   {
    "duration": 36,
    "start_time": "2022-05-26T13:10:36.999Z"
   },
   {
    "duration": 682,
    "start_time": "2022-05-26T13:10:37.037Z"
   },
   {
    "duration": 328,
    "start_time": "2022-05-26T13:10:37.721Z"
   },
   {
    "duration": 64,
    "start_time": "2022-05-26T13:10:38.051Z"
   },
   {
    "duration": 142,
    "start_time": "2022-05-26T13:10:38.116Z"
   },
   {
    "duration": 259,
    "start_time": "2022-05-26T13:10:38.260Z"
   },
   {
    "duration": 14,
    "start_time": "2022-05-26T13:10:38.521Z"
   },
   {
    "duration": 98,
    "start_time": "2022-05-26T13:10:38.536Z"
   },
   {
    "duration": 83,
    "start_time": "2022-05-26T13:10:48.612Z"
   },
   {
    "duration": 68,
    "start_time": "2022-05-26T13:10:49.890Z"
   },
   {
    "duration": 48,
    "start_time": "2022-05-26T13:10:50.754Z"
   },
   {
    "duration": 74,
    "start_time": "2022-05-26T13:10:51.459Z"
   },
   {
    "duration": 4,
    "start_time": "2022-05-26T13:10:51.620Z"
   },
   {
    "duration": 185,
    "start_time": "2022-05-26T13:10:52.766Z"
   },
   {
    "duration": 4,
    "start_time": "2022-05-26T13:10:54.610Z"
   },
   {
    "duration": 6,
    "start_time": "2022-05-26T13:10:54.767Z"
   },
   {
    "duration": 9,
    "start_time": "2022-05-26T13:10:55.672Z"
   },
   {
    "duration": 15,
    "start_time": "2022-05-26T13:10:55.883Z"
   },
   {
    "duration": 41,
    "start_time": "2022-05-26T13:10:56.102Z"
   },
   {
    "duration": 340,
    "start_time": "2022-05-26T13:10:57.161Z"
   },
   {
    "duration": 63,
    "start_time": "2022-05-26T13:11:22.956Z"
   },
   {
    "duration": 5,
    "start_time": "2022-05-26T13:11:25.841Z"
   },
   {
    "duration": 4,
    "start_time": "2022-05-26T13:11:26.054Z"
   },
   {
    "duration": 9,
    "start_time": "2022-05-26T13:11:27.882Z"
   },
   {
    "duration": 19,
    "start_time": "2022-05-26T13:11:28.172Z"
   },
   {
    "duration": 412,
    "start_time": "2022-05-26T13:11:28.897Z"
   },
   {
    "duration": 4,
    "start_time": "2022-05-26T13:25:59.980Z"
   },
   {
    "duration": 885,
    "start_time": "2022-05-26T13:25:59.991Z"
   },
   {
    "duration": 4,
    "start_time": "2022-05-26T13:26:00.878Z"
   },
   {
    "duration": 1106,
    "start_time": "2022-05-26T13:26:00.884Z"
   },
   {
    "duration": 4,
    "start_time": "2022-05-26T13:26:01.992Z"
   },
   {
    "duration": 421,
    "start_time": "2022-05-26T13:26:01.998Z"
   },
   {
    "duration": 31,
    "start_time": "2022-05-26T13:26:02.421Z"
   },
   {
    "duration": 18,
    "start_time": "2022-05-26T13:26:02.454Z"
   },
   {
    "duration": 11,
    "start_time": "2022-05-26T13:26:02.474Z"
   },
   {
    "duration": 16,
    "start_time": "2022-05-26T13:26:02.487Z"
   },
   {
    "duration": 13,
    "start_time": "2022-05-26T13:26:02.529Z"
   },
   {
    "duration": 189,
    "start_time": "2022-05-26T13:26:02.544Z"
   },
   {
    "duration": 18,
    "start_time": "2022-05-26T13:26:02.734Z"
   },
   {
    "duration": 318,
    "start_time": "2022-05-26T13:26:02.754Z"
   },
   {
    "duration": 473,
    "start_time": "2022-05-26T13:26:03.074Z"
   },
   {
    "duration": 36,
    "start_time": "2022-05-26T13:26:03.550Z"
   },
   {
    "duration": 183,
    "start_time": "2022-05-26T13:26:03.588Z"
   },
   {
    "duration": 292,
    "start_time": "2022-05-26T13:26:03.773Z"
   },
   {
    "duration": 32,
    "start_time": "2022-05-26T13:26:04.066Z"
   },
   {
    "duration": 150,
    "start_time": "2022-05-26T13:26:04.100Z"
   },
   {
    "duration": 463,
    "start_time": "2022-05-26T13:26:04.252Z"
   },
   {
    "duration": 12,
    "start_time": "2022-05-26T13:26:04.717Z"
   },
   {
    "duration": 5,
    "start_time": "2022-05-26T13:26:04.730Z"
   },
   {
    "duration": 609,
    "start_time": "2022-05-26T13:26:04.736Z"
   },
   {
    "duration": 26,
    "start_time": "2022-05-26T13:26:05.346Z"
   },
   {
    "duration": 17,
    "start_time": "2022-05-26T13:26:05.374Z"
   },
   {
    "duration": 752,
    "start_time": "2022-05-26T13:26:05.392Z"
   },
   {
    "duration": 29,
    "start_time": "2022-05-26T13:26:06.146Z"
   },
   {
    "duration": 23,
    "start_time": "2022-05-26T13:26:06.180Z"
   },
   {
    "duration": 18,
    "start_time": "2022-05-26T13:26:06.228Z"
   },
   {
    "duration": 719,
    "start_time": "2022-05-26T13:26:06.248Z"
   },
   {
    "duration": 303,
    "start_time": "2022-05-26T13:26:06.968Z"
   },
   {
    "duration": 74,
    "start_time": "2022-05-26T13:26:07.273Z"
   },
   {
    "duration": 140,
    "start_time": "2022-05-26T13:26:07.349Z"
   },
   {
    "duration": 246,
    "start_time": "2022-05-26T13:26:07.491Z"
   },
   {
    "duration": 14,
    "start_time": "2022-05-26T13:26:07.739Z"
   },
   {
    "duration": 104,
    "start_time": "2022-05-26T13:26:07.755Z"
   },
   {
    "duration": 78,
    "start_time": "2022-05-26T13:26:17.803Z"
   },
   {
    "duration": 75,
    "start_time": "2022-05-26T13:26:24.211Z"
   },
   {
    "duration": 49,
    "start_time": "2022-05-26T13:26:26.403Z"
   },
   {
    "duration": 72,
    "start_time": "2022-05-26T13:26:30.865Z"
   },
   {
    "duration": 5,
    "start_time": "2022-05-26T13:26:36.232Z"
   },
   {
    "duration": 190,
    "start_time": "2022-05-26T13:26:50.411Z"
   },
   {
    "duration": 5,
    "start_time": "2022-05-26T13:26:58.044Z"
   },
   {
    "duration": 5,
    "start_time": "2022-05-26T13:26:58.271Z"
   },
   {
    "duration": 9,
    "start_time": "2022-05-26T13:27:00.754Z"
   },
   {
    "duration": 15,
    "start_time": "2022-05-26T13:27:01.476Z"
   },
   {
    "duration": 395,
    "start_time": "2022-05-26T13:27:02.245Z"
   },
   {
    "duration": 311,
    "start_time": "2022-05-26T13:28:32.611Z"
   },
   {
    "duration": 485,
    "start_time": "2022-05-26T13:28:46.211Z"
   },
   {
    "duration": 15,
    "start_time": "2022-05-26T13:29:03.155Z"
   },
   {
    "duration": 919,
    "start_time": "2022-05-26T13:29:15.964Z"
   },
   {
    "duration": 33,
    "start_time": "2022-05-26T13:29:21.971Z"
   },
   {
    "duration": 10,
    "start_time": "2022-05-26T13:29:45.868Z"
   },
   {
    "duration": 845,
    "start_time": "2022-05-26T13:33:46.951Z"
   },
   {
    "duration": 4,
    "start_time": "2022-05-26T13:33:48.065Z"
   },
   {
    "duration": 975,
    "start_time": "2022-05-26T13:33:48.273Z"
   },
   {
    "duration": 3,
    "start_time": "2022-05-26T13:34:12.901Z"
   },
   {
    "duration": 405,
    "start_time": "2022-05-26T13:34:13.863Z"
   },
   {
    "duration": 28,
    "start_time": "2022-05-26T13:34:15.779Z"
   },
   {
    "duration": 24,
    "start_time": "2022-05-26T13:34:16.254Z"
   },
   {
    "duration": 9,
    "start_time": "2022-05-26T13:34:18.316Z"
   },
   {
    "duration": 11,
    "start_time": "2022-05-26T13:34:18.560Z"
   },
   {
    "duration": 12,
    "start_time": "2022-05-26T13:34:19.143Z"
   },
   {
    "duration": 277,
    "start_time": "2022-05-26T13:34:19.295Z"
   },
   {
    "duration": 14,
    "start_time": "2022-05-26T13:34:23.441Z"
   },
   {
    "duration": 184,
    "start_time": "2022-05-26T13:34:34.829Z"
   },
   {
    "duration": 490,
    "start_time": "2022-05-26T13:34:35.263Z"
   },
   {
    "duration": 33,
    "start_time": "2022-05-26T13:34:35.755Z"
   },
   {
    "duration": 160,
    "start_time": "2022-05-26T13:34:36.013Z"
   },
   {
    "duration": 260,
    "start_time": "2022-05-26T13:34:37.299Z"
   },
   {
    "duration": 36,
    "start_time": "2022-05-26T13:34:37.561Z"
   },
   {
    "duration": 146,
    "start_time": "2022-05-26T13:34:41.722Z"
   },
   {
    "duration": 439,
    "start_time": "2022-05-26T13:34:42.281Z"
   },
   {
    "duration": 7,
    "start_time": "2022-05-26T13:34:42.775Z"
   },
   {
    "duration": 5,
    "start_time": "2022-05-26T13:34:48.532Z"
   },
   {
    "duration": 643,
    "start_time": "2022-05-26T13:34:49.729Z"
   },
   {
    "duration": 24,
    "start_time": "2022-05-26T13:34:50.374Z"
   },
   {
    "duration": 17,
    "start_time": "2022-05-26T13:34:50.663Z"
   },
   {
    "duration": 597,
    "start_time": "2022-05-26T13:34:52.449Z"
   },
   {
    "duration": 26,
    "start_time": "2022-05-26T13:34:54.285Z"
   },
   {
    "duration": 23,
    "start_time": "2022-05-26T13:34:58.251Z"
   },
   {
    "duration": 16,
    "start_time": "2022-05-26T13:34:58.705Z"
   },
   {
    "duration": 774,
    "start_time": "2022-05-26T13:35:00.698Z"
   },
   {
    "duration": 117,
    "start_time": "2022-05-26T13:35:16.444Z"
   },
   {
    "duration": 312,
    "start_time": "2022-05-26T13:35:24.602Z"
   },
   {
    "duration": 103,
    "start_time": "2022-05-26T13:35:28.424Z"
   },
   {
    "duration": 74,
    "start_time": "2022-05-26T13:35:34.873Z"
   },
   {
    "duration": 174,
    "start_time": "2022-05-26T13:35:42.444Z"
   },
   {
    "duration": 286,
    "start_time": "2022-05-26T13:35:43.604Z"
   },
   {
    "duration": 20,
    "start_time": "2022-05-26T13:35:44.841Z"
   },
   {
    "duration": 80,
    "start_time": "2022-05-26T13:35:45.648Z"
   },
   {
    "duration": 29,
    "start_time": "2022-05-26T13:36:10.059Z"
   },
   {
    "duration": 75,
    "start_time": "2022-05-26T13:36:30.784Z"
   },
   {
    "duration": 76,
    "start_time": "2022-05-26T13:36:36.004Z"
   },
   {
    "duration": 65,
    "start_time": "2022-05-26T13:36:48.983Z"
   },
   {
    "duration": 77,
    "start_time": "2022-05-26T13:36:57.210Z"
   },
   {
    "duration": 42,
    "start_time": "2022-05-26T13:37:16.843Z"
   },
   {
    "duration": 85,
    "start_time": "2022-05-26T13:37:20.815Z"
   },
   {
    "duration": 71,
    "start_time": "2022-05-26T13:37:27.153Z"
   },
   {
    "duration": 3,
    "start_time": "2022-05-26T13:37:32.319Z"
   },
   {
    "duration": 186,
    "start_time": "2022-05-26T13:37:44.564Z"
   },
   {
    "duration": 4,
    "start_time": "2022-05-26T13:37:49.534Z"
   },
   {
    "duration": 4,
    "start_time": "2022-05-26T13:37:50.922Z"
   },
   {
    "duration": 9,
    "start_time": "2022-05-26T13:37:55.883Z"
   },
   {
    "duration": 19,
    "start_time": "2022-05-26T13:37:56.203Z"
   },
   {
    "duration": 16,
    "start_time": "2022-05-26T13:38:05.691Z"
   },
   {
    "duration": 393,
    "start_time": "2022-05-26T13:38:07.203Z"
   },
   {
    "duration": 310,
    "start_time": "2022-05-26T13:38:09.093Z"
   },
   {
    "duration": 9,
    "start_time": "2022-05-26T13:39:23.519Z"
   },
   {
    "duration": 67,
    "start_time": "2022-05-26T13:40:06.800Z"
   },
   {
    "duration": 25648,
    "start_time": "2022-05-26T13:40:15.883Z"
   },
   {
    "duration": 62,
    "start_time": "2022-05-26T13:41:17.287Z"
   },
   {
    "duration": 396,
    "start_time": "2022-05-26T13:41:24.143Z"
   },
   {
    "duration": 312,
    "start_time": "2022-05-26T13:43:22.163Z"
   },
   {
    "duration": 5,
    "start_time": "2022-05-26T13:44:56.352Z"
   },
   {
    "duration": 858,
    "start_time": "2022-05-26T13:44:58.147Z"
   },
   {
    "duration": 17,
    "start_time": "2022-05-26T13:45:06.322Z"
   },
   {
    "duration": 33,
    "start_time": "2022-05-26T13:45:06.955Z"
   },
   {
    "duration": 4,
    "start_time": "2022-05-26T13:46:44.331Z"
   },
   {
    "duration": 952,
    "start_time": "2022-05-26T13:46:44.336Z"
   },
   {
    "duration": 4,
    "start_time": "2022-05-26T13:46:45.291Z"
   },
   {
    "duration": 1093,
    "start_time": "2022-05-26T13:46:45.297Z"
   },
   {
    "duration": 4,
    "start_time": "2022-05-26T13:46:46.394Z"
   },
   {
    "duration": 572,
    "start_time": "2022-05-26T13:46:46.400Z"
   },
   {
    "duration": 27,
    "start_time": "2022-05-26T13:46:46.973Z"
   },
   {
    "duration": 27,
    "start_time": "2022-05-26T13:46:47.002Z"
   },
   {
    "duration": 9,
    "start_time": "2022-05-26T13:46:47.030Z"
   },
   {
    "duration": 14,
    "start_time": "2022-05-26T13:46:47.040Z"
   },
   {
    "duration": 11,
    "start_time": "2022-05-26T13:46:47.057Z"
   },
   {
    "duration": 184,
    "start_time": "2022-05-26T13:46:47.069Z"
   },
   {
    "duration": 15,
    "start_time": "2022-05-26T13:46:47.255Z"
   },
   {
    "duration": 201,
    "start_time": "2022-05-26T13:46:47.271Z"
   },
   {
    "duration": 491,
    "start_time": "2022-05-26T13:46:47.474Z"
   },
   {
    "duration": 31,
    "start_time": "2022-05-26T13:46:47.967Z"
   },
   {
    "duration": 174,
    "start_time": "2022-05-26T13:46:48.000Z"
   },
   {
    "duration": 265,
    "start_time": "2022-05-26T13:46:48.176Z"
   },
   {
    "duration": 31,
    "start_time": "2022-05-26T13:46:48.443Z"
   },
   {
    "duration": 151,
    "start_time": "2022-05-26T13:46:48.476Z"
   },
   {
    "duration": 461,
    "start_time": "2022-05-26T13:46:48.629Z"
   },
   {
    "duration": 5,
    "start_time": "2022-05-26T13:46:49.092Z"
   },
   {
    "duration": 8,
    "start_time": "2022-05-26T13:46:49.099Z"
   },
   {
    "duration": 693,
    "start_time": "2022-05-26T13:46:49.109Z"
   },
   {
    "duration": 32,
    "start_time": "2022-05-26T13:46:49.803Z"
   },
   {
    "duration": 17,
    "start_time": "2022-05-26T13:46:49.837Z"
   },
   {
    "duration": 661,
    "start_time": "2022-05-26T13:46:49.856Z"
   },
   {
    "duration": 27,
    "start_time": "2022-05-26T13:46:50.519Z"
   },
   {
    "duration": 29,
    "start_time": "2022-05-26T13:46:50.550Z"
   },
   {
    "duration": 14,
    "start_time": "2022-05-26T13:46:50.581Z"
   },
   {
    "duration": 714,
    "start_time": "2022-05-26T13:46:50.597Z"
   },
   {
    "duration": 302,
    "start_time": "2022-05-26T13:46:51.313Z"
   },
   {
    "duration": 70,
    "start_time": "2022-05-26T13:46:51.617Z"
   },
   {
    "duration": 148,
    "start_time": "2022-05-26T13:46:51.689Z"
   },
   {
    "duration": 377,
    "start_time": "2022-05-26T13:46:51.839Z"
   },
   {
    "duration": 16,
    "start_time": "2022-05-26T13:46:52.218Z"
   },
   {
    "duration": 111,
    "start_time": "2022-05-26T13:46:52.235Z"
   },
   {
    "duration": 89,
    "start_time": "2022-05-26T13:46:52.348Z"
   },
   {
    "duration": 50,
    "start_time": "2022-05-26T13:46:52.439Z"
   },
   {
    "duration": 59,
    "start_time": "2022-05-26T13:46:52.491Z"
   },
   {
    "duration": 90,
    "start_time": "2022-05-26T13:46:52.552Z"
   },
   {
    "duration": 3,
    "start_time": "2022-05-26T13:46:52.644Z"
   },
   {
    "duration": 224,
    "start_time": "2022-05-26T13:46:52.649Z"
   },
   {
    "duration": 5,
    "start_time": "2022-05-26T13:46:52.874Z"
   },
   {
    "duration": 11,
    "start_time": "2022-05-26T13:46:52.880Z"
   },
   {
    "duration": 15,
    "start_time": "2022-05-26T13:46:56.732Z"
   },
   {
    "duration": 19,
    "start_time": "2022-05-26T13:46:57.752Z"
   },
   {
    "duration": 39417,
    "start_time": "2022-05-26T13:46:58.612Z"
   },
   {
    "duration": 618,
    "start_time": "2022-05-26T13:49:32.512Z"
   },
   {
    "duration": 10278,
    "start_time": "2022-05-26T13:49:37.123Z"
   },
   {
    "duration": 955,
    "start_time": "2022-05-26T13:49:47.403Z"
   },
   {
    "duration": 1965,
    "start_time": "2022-05-26T15:00:32.631Z"
   },
   {
    "duration": 1049,
    "start_time": "2022-05-26T15:00:34.598Z"
   },
   {
    "duration": 5,
    "start_time": "2022-05-26T15:00:35.649Z"
   },
   {
    "duration": 1305,
    "start_time": "2022-05-26T15:00:35.656Z"
   },
   {
    "duration": 5,
    "start_time": "2022-05-26T15:00:36.975Z"
   },
   {
    "duration": 567,
    "start_time": "2022-05-26T15:00:36.983Z"
   },
   {
    "duration": 34,
    "start_time": "2022-05-26T15:00:37.551Z"
   },
   {
    "duration": 16,
    "start_time": "2022-05-26T15:00:37.587Z"
   },
   {
    "duration": 27,
    "start_time": "2022-05-26T15:00:37.606Z"
   },
   {
    "duration": 12,
    "start_time": "2022-05-26T15:00:37.637Z"
   },
   {
    "duration": 13,
    "start_time": "2022-05-26T15:00:37.651Z"
   },
   {
    "duration": 205,
    "start_time": "2022-05-26T15:00:37.666Z"
   },
   {
    "duration": 18,
    "start_time": "2022-05-26T15:00:37.872Z"
   },
   {
    "duration": 205,
    "start_time": "2022-05-26T15:00:37.891Z"
   },
   {
    "duration": 521,
    "start_time": "2022-05-26T15:00:38.098Z"
   },
   {
    "duration": 37,
    "start_time": "2022-05-26T15:00:38.621Z"
   },
   {
    "duration": 298,
    "start_time": "2022-05-26T15:00:38.660Z"
   },
   {
    "duration": 297,
    "start_time": "2022-05-26T15:00:38.960Z"
   },
   {
    "duration": 37,
    "start_time": "2022-05-26T15:00:39.259Z"
   },
   {
    "duration": 166,
    "start_time": "2022-05-26T15:00:39.298Z"
   },
   {
    "duration": 497,
    "start_time": "2022-05-26T15:00:39.466Z"
   },
   {
    "duration": 6,
    "start_time": "2022-05-26T15:00:39.965Z"
   },
   {
    "duration": 5,
    "start_time": "2022-05-26T15:00:39.973Z"
   },
   {
    "duration": 676,
    "start_time": "2022-05-26T15:00:39.980Z"
   },
   {
    "duration": 27,
    "start_time": "2022-05-26T15:00:40.658Z"
   },
   {
    "duration": 20,
    "start_time": "2022-05-26T15:00:40.687Z"
   },
   {
    "duration": 714,
    "start_time": "2022-05-26T15:00:40.728Z"
   },
   {
    "duration": 33,
    "start_time": "2022-05-26T15:00:41.447Z"
   },
   {
    "duration": 167,
    "start_time": "2022-05-26T15:00:41.482Z"
   },
   {
    "duration": 16,
    "start_time": "2022-05-26T15:00:41.651Z"
   },
   {
    "duration": 766,
    "start_time": "2022-05-26T15:00:41.668Z"
   },
   {
    "duration": 394,
    "start_time": "2022-05-26T15:00:42.436Z"
   },
   {
    "duration": 70,
    "start_time": "2022-05-26T15:00:42.832Z"
   },
   {
    "duration": 183,
    "start_time": "2022-05-26T15:00:42.904Z"
   },
   {
    "duration": 301,
    "start_time": "2022-05-26T15:00:43.089Z"
   },
   {
    "duration": 15,
    "start_time": "2022-05-26T15:00:43.393Z"
   },
   {
    "duration": 111,
    "start_time": "2022-05-26T15:00:43.410Z"
   },
   {
    "duration": 79,
    "start_time": "2022-05-26T15:00:43.523Z"
   },
   {
    "duration": 43,
    "start_time": "2022-05-26T15:00:43.604Z"
   },
   {
    "duration": 58,
    "start_time": "2022-05-26T15:00:43.649Z"
   },
   {
    "duration": 88,
    "start_time": "2022-05-26T15:00:43.709Z"
   },
   {
    "duration": 4,
    "start_time": "2022-05-26T15:00:43.798Z"
   },
   {
    "duration": 220,
    "start_time": "2022-05-26T15:00:43.804Z"
   },
   {
    "duration": 7,
    "start_time": "2022-05-26T15:00:44.028Z"
   },
   {
    "duration": 19,
    "start_time": "2022-05-26T15:00:44.037Z"
   },
   {
    "duration": 34376,
    "start_time": "2022-05-26T15:00:44.057Z"
   },
   {
    "duration": 598,
    "start_time": "2022-05-26T15:01:18.435Z"
   },
   {
    "duration": 9190,
    "start_time": "2022-05-26T15:01:19.035Z"
   },
   {
    "duration": 1130,
    "start_time": "2022-05-26T15:01:28.231Z"
   },
   {
    "duration": 29827,
    "start_time": "2022-05-26T15:01:29.363Z"
   },
   {
    "duration": 866,
    "start_time": "2022-05-26T15:01:59.192Z"
   },
   {
    "duration": 40574,
    "start_time": "2022-05-26T15:02:00.060Z"
   },
   {
    "duration": 622181,
    "start_time": "2022-05-26T15:02:40.636Z"
   },
   {
    "duration": 40155,
    "start_time": "2022-05-26T15:13:02.818Z"
   },
   {
    "duration": 5669,
    "start_time": "2022-05-26T15:13:42.974Z"
   },
   {
    "duration": 5005,
    "start_time": "2022-05-26T15:13:48.644Z"
   },
   {
    "duration": 5701,
    "start_time": "2022-05-26T15:13:53.651Z"
   },
   {
    "duration": 125886,
    "start_time": "2022-05-26T15:13:59.353Z"
   },
   {
    "duration": 7618,
    "start_time": "2022-05-26T15:16:05.327Z"
   },
   {
    "duration": 165622,
    "start_time": "2022-05-26T15:16:12.947Z"
   },
   {
    "duration": 30280,
    "start_time": "2022-05-26T15:18:58.571Z"
   },
   {
    "duration": 27545,
    "start_time": "2022-05-26T15:19:28.853Z"
   },
   {
    "duration": 136945,
    "start_time": "2022-05-26T15:19:56.401Z"
   },
   {
    "duration": 27290,
    "start_time": "2022-05-26T15:22:13.348Z"
   },
   {
    "duration": 10,
    "start_time": "2022-05-26T15:22:40.640Z"
   },
   {
    "duration": 277,
    "start_time": "2022-05-26T15:22:40.652Z"
   },
   {
    "duration": 262,
    "start_time": "2022-05-26T15:22:40.931Z"
   },
   {
    "duration": 282,
    "start_time": "2022-05-26T15:22:41.195Z"
   },
   {
    "duration": 15,
    "start_time": "2022-05-26T15:22:41.479Z"
   },
   {
    "duration": 53912,
    "start_time": "2022-05-26T15:22:41.496Z"
   },
   {
    "duration": 158,
    "start_time": "2022-05-26T15:23:35.410Z"
   },
   {
    "duration": 168,
    "start_time": "2022-05-26T15:23:35.570Z"
   },
   {
    "duration": 285,
    "start_time": "2022-05-26T15:23:35.740Z"
   },
   {
    "duration": 1029,
    "start_time": "2022-05-26T15:23:36.028Z"
   },
   {
    "duration": 12,
    "start_time": "2022-05-27T10:02:23.868Z"
   },
   {
    "duration": 79,
    "start_time": "2022-05-27T10:02:35.369Z"
   },
   {
    "duration": 3124,
    "start_time": "2022-05-27T10:02:58.841Z"
   },
   {
    "duration": 2209,
    "start_time": "2022-05-27T10:03:01.968Z"
   },
   {
    "duration": 6,
    "start_time": "2022-05-27T10:03:04.227Z"
   },
   {
    "duration": 2814,
    "start_time": "2022-05-27T10:03:04.236Z"
   },
   {
    "duration": 4,
    "start_time": "2022-05-27T10:03:07.053Z"
   },
   {
    "duration": 1001,
    "start_time": "2022-05-27T10:03:07.059Z"
   },
   {
    "duration": 86,
    "start_time": "2022-05-27T10:03:08.061Z"
   },
   {
    "duration": 83,
    "start_time": "2022-05-27T10:03:08.149Z"
   },
   {
    "duration": 22,
    "start_time": "2022-05-27T10:03:08.234Z"
   },
   {
    "duration": 73,
    "start_time": "2022-05-27T10:03:08.259Z"
   },
   {
    "duration": 28,
    "start_time": "2022-05-27T10:03:08.335Z"
   },
   {
    "duration": 377,
    "start_time": "2022-05-27T10:03:08.365Z"
   },
   {
    "duration": 17,
    "start_time": "2022-05-27T10:03:08.744Z"
   },
   {
    "duration": 464,
    "start_time": "2022-05-27T10:03:08.763Z"
   },
   {
    "duration": 1103,
    "start_time": "2022-05-27T10:03:09.229Z"
   },
   {
    "duration": 112,
    "start_time": "2022-05-27T10:03:10.335Z"
   },
   {
    "duration": 524,
    "start_time": "2022-05-27T10:03:10.449Z"
   },
   {
    "duration": 609,
    "start_time": "2022-05-27T10:03:11.027Z"
   },
   {
    "duration": 112,
    "start_time": "2022-05-27T10:03:11.638Z"
   },
   {
    "duration": 422,
    "start_time": "2022-05-27T10:03:11.752Z"
   },
   {
    "duration": 945,
    "start_time": "2022-05-27T10:03:12.228Z"
   },
   {
    "duration": 10,
    "start_time": "2022-05-27T10:03:13.227Z"
   },
   {
    "duration": 5,
    "start_time": "2022-05-27T10:03:13.239Z"
   },
   {
    "duration": 1781,
    "start_time": "2022-05-27T10:03:13.247Z"
   },
   {
    "duration": 27,
    "start_time": "2022-05-27T10:03:15.030Z"
   },
   {
    "duration": 85,
    "start_time": "2022-05-27T10:03:15.060Z"
   },
   {
    "duration": 1704,
    "start_time": "2022-05-27T10:03:15.148Z"
   },
   {
    "duration": 88,
    "start_time": "2022-05-27T10:03:16.857Z"
   },
   {
    "duration": 297,
    "start_time": "2022-05-27T10:03:16.946Z"
   },
   {
    "duration": 15,
    "start_time": "2022-05-27T10:03:17.246Z"
   },
   {
    "duration": 1475,
    "start_time": "2022-05-27T10:03:17.264Z"
   },
   {
    "duration": 934,
    "start_time": "2022-05-27T10:03:18.741Z"
   },
   {
    "duration": 125,
    "start_time": "2022-05-27T10:03:19.728Z"
   },
   {
    "duration": 399,
    "start_time": "2022-05-27T10:03:19.855Z"
   },
   {
    "duration": 575,
    "start_time": "2022-05-27T10:03:20.256Z"
   },
   {
    "duration": 23,
    "start_time": "2022-05-27T10:03:20.834Z"
   },
   {
    "duration": 192,
    "start_time": "2022-05-27T10:03:20.859Z"
   },
   {
    "duration": 175,
    "start_time": "2022-05-27T10:03:21.053Z"
   },
   {
    "duration": 26,
    "start_time": "2022-05-27T10:03:21.230Z"
   },
   {
    "duration": 177,
    "start_time": "2022-05-27T10:03:21.261Z"
   },
   {
    "duration": 287,
    "start_time": "2022-05-27T10:03:21.440Z"
   },
   {
    "duration": 5,
    "start_time": "2022-05-27T10:03:21.730Z"
   },
   {
    "duration": 608,
    "start_time": "2022-05-27T10:03:21.737Z"
   },
   {
    "duration": 11,
    "start_time": "2022-05-27T10:03:22.348Z"
   },
   {
    "duration": 6,
    "start_time": "2022-05-27T10:03:22.362Z"
   },
   {
    "duration": 22704,
    "start_time": "2022-05-27T10:03:22.428Z"
   },
   {
    "duration": 1196,
    "start_time": "2022-05-27T10:03:45.134Z"
   },
   {
    "duration": 19100,
    "start_time": "2022-05-27T10:03:46.335Z"
   },
   {
    "duration": 2532,
    "start_time": "2022-05-27T10:04:05.437Z"
   },
   {
    "duration": 61430,
    "start_time": "2022-05-27T10:04:08.028Z"
   },
   {
    "duration": 1987,
    "start_time": "2022-05-27T10:05:09.459Z"
   },
   {
    "duration": 165779,
    "start_time": "2022-05-27T10:05:11.448Z"
   }
  ],
  "kernelspec": {
   "display_name": "Python 3 (ipykernel)",
   "language": "python",
   "name": "python3"
  },
  "language_info": {
   "codemirror_mode": {
    "name": "ipython",
    "version": 3
   },
   "file_extension": ".py",
   "mimetype": "text/x-python",
   "name": "python",
   "nbconvert_exporter": "python",
   "pygments_lexer": "ipython3",
   "version": "3.9.7"
  },
  "toc": {
   "base_numbering": 1,
   "nav_menu": {},
   "number_sections": true,
   "sideBar": true,
   "skip_h1_title": true,
   "title_cell": "Table of Contents",
   "title_sidebar": "Contents",
   "toc_cell": false,
   "toc_position": {
    "height": "calc(100% - 180px)",
    "left": "10px",
    "top": "150px",
    "width": "341.391px"
   },
   "toc_section_display": true,
   "toc_window_display": true
  }
 },
 "nbformat": 4,
 "nbformat_minor": 2
}
