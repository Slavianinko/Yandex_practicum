{
 "cells": [
  {
   "cell_type": "markdown",
   "metadata": {},
   "source": [
    "# Исследование надёжности заёмщиков\n",
    "\n",
    "В ходе исследования определим факторы влияющие на факт погашения кредита в срок.\n",
    "Ответим на следующие вопросы:\n",
    "\n",
    "- Есть ли зависимость между количеством детей и возвратом кредита в срок?\n",
    "- Есть ли зависимость между семейным положением и возвратом кредита в срок?\n",
    "- Есть ли зависимость между уровнем дохода и возвратом кредита в срок?\n",
    "- Как разные цели кредита влияют на его возврат в срок?\n",
    "\n",
    "Входные данные от банка — статистика о платёжеспособности клиентов.\n",
    "Результаты исследования необходимы для построения модели **кредитного скоринга**."
   ]
  },
  {
   "cell_type": "markdown",
   "metadata": {},
   "source": [
    "## Открытие файла с данными и изучение общей информации"
   ]
  },
  {
   "cell_type": "code",
   "execution_count": 1,
   "metadata": {},
   "outputs": [
    {
     "name": "stdout",
     "output_type": "stream",
     "text": [
      "<class 'pandas.core.frame.DataFrame'>\n",
      "RangeIndex: 21525 entries, 0 to 21524\n",
      "Data columns (total 12 columns):\n",
      "children            21525 non-null int64\n",
      "days_employed       19351 non-null float64\n",
      "dob_years           21525 non-null int64\n",
      "education           21525 non-null object\n",
      "education_id        21525 non-null int64\n",
      "family_status       21525 non-null object\n",
      "family_status_id    21525 non-null int64\n",
      "gender              21525 non-null object\n",
      "income_type         21525 non-null object\n",
      "debt                21525 non-null int64\n",
      "total_income        19351 non-null float64\n",
      "purpose             21525 non-null object\n",
      "dtypes: float64(2), int64(5), object(5)\n",
      "memory usage: 2.0+ MB\n"
     ]
    },
    {
     "data": {
      "text/html": [
       "<div>\n",
       "<style scoped>\n",
       "    .dataframe tbody tr th:only-of-type {\n",
       "        vertical-align: middle;\n",
       "    }\n",
       "\n",
       "    .dataframe tbody tr th {\n",
       "        vertical-align: top;\n",
       "    }\n",
       "\n",
       "    .dataframe thead th {\n",
       "        text-align: right;\n",
       "    }\n",
       "</style>\n",
       "<table border=\"1\" class=\"dataframe\">\n",
       "  <thead>\n",
       "    <tr style=\"text-align: right;\">\n",
       "      <th></th>\n",
       "      <th>children</th>\n",
       "      <th>days_employed</th>\n",
       "      <th>dob_years</th>\n",
       "      <th>education_id</th>\n",
       "      <th>family_status_id</th>\n",
       "      <th>debt</th>\n",
       "      <th>total_income</th>\n",
       "    </tr>\n",
       "  </thead>\n",
       "  <tbody>\n",
       "    <tr>\n",
       "      <td>count</td>\n",
       "      <td>21525.000000</td>\n",
       "      <td>19351.000000</td>\n",
       "      <td>21525.000000</td>\n",
       "      <td>21525.000000</td>\n",
       "      <td>21525.000000</td>\n",
       "      <td>21525.000000</td>\n",
       "      <td>1.935100e+04</td>\n",
       "    </tr>\n",
       "    <tr>\n",
       "      <td>mean</td>\n",
       "      <td>0.538908</td>\n",
       "      <td>63046.497661</td>\n",
       "      <td>43.293380</td>\n",
       "      <td>0.817236</td>\n",
       "      <td>0.972544</td>\n",
       "      <td>0.080883</td>\n",
       "      <td>1.674223e+05</td>\n",
       "    </tr>\n",
       "    <tr>\n",
       "      <td>std</td>\n",
       "      <td>1.381587</td>\n",
       "      <td>140827.311974</td>\n",
       "      <td>12.574584</td>\n",
       "      <td>0.548138</td>\n",
       "      <td>1.420324</td>\n",
       "      <td>0.272661</td>\n",
       "      <td>1.029716e+05</td>\n",
       "    </tr>\n",
       "    <tr>\n",
       "      <td>min</td>\n",
       "      <td>-1.000000</td>\n",
       "      <td>-18388.949901</td>\n",
       "      <td>0.000000</td>\n",
       "      <td>0.000000</td>\n",
       "      <td>0.000000</td>\n",
       "      <td>0.000000</td>\n",
       "      <td>2.066726e+04</td>\n",
       "    </tr>\n",
       "    <tr>\n",
       "      <td>25%</td>\n",
       "      <td>0.000000</td>\n",
       "      <td>-2747.423625</td>\n",
       "      <td>33.000000</td>\n",
       "      <td>1.000000</td>\n",
       "      <td>0.000000</td>\n",
       "      <td>0.000000</td>\n",
       "      <td>1.030532e+05</td>\n",
       "    </tr>\n",
       "    <tr>\n",
       "      <td>50%</td>\n",
       "      <td>0.000000</td>\n",
       "      <td>-1203.369529</td>\n",
       "      <td>42.000000</td>\n",
       "      <td>1.000000</td>\n",
       "      <td>0.000000</td>\n",
       "      <td>0.000000</td>\n",
       "      <td>1.450179e+05</td>\n",
       "    </tr>\n",
       "    <tr>\n",
       "      <td>75%</td>\n",
       "      <td>1.000000</td>\n",
       "      <td>-291.095954</td>\n",
       "      <td>53.000000</td>\n",
       "      <td>1.000000</td>\n",
       "      <td>1.000000</td>\n",
       "      <td>0.000000</td>\n",
       "      <td>2.034351e+05</td>\n",
       "    </tr>\n",
       "    <tr>\n",
       "      <td>max</td>\n",
       "      <td>20.000000</td>\n",
       "      <td>401755.400475</td>\n",
       "      <td>75.000000</td>\n",
       "      <td>4.000000</td>\n",
       "      <td>4.000000</td>\n",
       "      <td>1.000000</td>\n",
       "      <td>2.265604e+06</td>\n",
       "    </tr>\n",
       "  </tbody>\n",
       "</table>\n",
       "</div>"
      ],
      "text/plain": [
       "           children  days_employed     dob_years  education_id  \\\n",
       "count  21525.000000   19351.000000  21525.000000  21525.000000   \n",
       "mean       0.538908   63046.497661     43.293380      0.817236   \n",
       "std        1.381587  140827.311974     12.574584      0.548138   \n",
       "min       -1.000000  -18388.949901      0.000000      0.000000   \n",
       "25%        0.000000   -2747.423625     33.000000      1.000000   \n",
       "50%        0.000000   -1203.369529     42.000000      1.000000   \n",
       "75%        1.000000    -291.095954     53.000000      1.000000   \n",
       "max       20.000000  401755.400475     75.000000      4.000000   \n",
       "\n",
       "       family_status_id          debt  total_income  \n",
       "count      21525.000000  21525.000000  1.935100e+04  \n",
       "mean           0.972544      0.080883  1.674223e+05  \n",
       "std            1.420324      0.272661  1.029716e+05  \n",
       "min            0.000000      0.000000  2.066726e+04  \n",
       "25%            0.000000      0.000000  1.030532e+05  \n",
       "50%            0.000000      0.000000  1.450179e+05  \n",
       "75%            1.000000      0.000000  2.034351e+05  \n",
       "max            4.000000      1.000000  2.265604e+06  "
      ]
     },
     "execution_count": 1,
     "metadata": {},
     "output_type": "execute_result"
    }
   ],
   "source": [
    "import pandas as pd\n",
    "from pymystem3 import Mystem\n",
    "\n",
    "df = pd.read_csv('/datasets/data.csv')\n",
    "#Общая информация о данных\n",
    "df.info()\n",
    "#Просмотр первых строк таблицы\n",
    "df.head(10)\n",
    "df.describe()"
   ]
  },
  {
   "cell_type": "markdown",
   "metadata": {},
   "source": [
    "**Вывод**"
   ]
  },
  {
   "cell_type": "markdown",
   "metadata": {},
   "source": [
    "Первичный анализ данных показал, что в таблице с данными имеются следующие проблемы:\n",
    "- Пропуски в колонках 'days_employed', 'total_income';\n",
    "- Вызывают вопросы данные в колонке 'days_employed'. Почему есть отрицательные значения? Почему количество дней не целочисленное? Встречаются слишком большие заначения, не соответствующие рабочему стажу ни в днях ни в часах;\n",
    "- В колонке 'education' имеются одинаковые категории в разном регистре.\n",
    "- В колонке 'dob_years' встречается нулевой возраст"
   ]
  },
  {
   "cell_type": "markdown",
   "metadata": {},
   "source": [
    "## Предобработка данных"
   ]
  },
  {
   "cell_type": "markdown",
   "metadata": {},
   "source": [
    "### Обработка пропусков"
   ]
  },
  {
   "cell_type": "markdown",
   "metadata": {},
   "source": [
    "До начала работы с пропусками в количественных данных, необходимо разобраться со \"странными\" данными в колонке 'days_employed'. Предположим, что отрицательные значения - ошибка ввода. Поэтому просто приведм их к положительным значениям. Для решения проблемы слишком больших значений в данной колонке, необходимо дополнительно исследовать данные."
   ]
  },
  {
   "cell_type": "code",
   "execution_count": 2,
   "metadata": {
    "scrolled": false
   },
   "outputs": [
    {
     "data": {
      "text/html": [
       "<div>\n",
       "<style scoped>\n",
       "    .dataframe tbody tr th:only-of-type {\n",
       "        vertical-align: middle;\n",
       "    }\n",
       "\n",
       "    .dataframe tbody tr th {\n",
       "        vertical-align: top;\n",
       "    }\n",
       "\n",
       "    .dataframe thead th {\n",
       "        text-align: right;\n",
       "    }\n",
       "</style>\n",
       "<table border=\"1\" class=\"dataframe\">\n",
       "  <thead>\n",
       "    <tr style=\"text-align: right;\">\n",
       "      <th></th>\n",
       "      <th>children</th>\n",
       "      <th>days_employed</th>\n",
       "      <th>dob_years</th>\n",
       "      <th>education</th>\n",
       "      <th>education_id</th>\n",
       "      <th>family_status</th>\n",
       "      <th>family_status_id</th>\n",
       "      <th>gender</th>\n",
       "      <th>income_type</th>\n",
       "      <th>debt</th>\n",
       "      <th>total_income</th>\n",
       "      <th>purpose</th>\n",
       "    </tr>\n",
       "  </thead>\n",
       "  <tbody>\n",
       "    <tr>\n",
       "      <td>1242</td>\n",
       "      <td>0</td>\n",
       "      <td>334764.259831</td>\n",
       "      <td>22</td>\n",
       "      <td>Среднее</td>\n",
       "      <td>1</td>\n",
       "      <td>Не женат / не замужем</td>\n",
       "      <td>4</td>\n",
       "      <td>F</td>\n",
       "      <td>пенсионер</td>\n",
       "      <td>0</td>\n",
       "      <td>89368.600062</td>\n",
       "      <td>получение высшего образования</td>\n",
       "    </tr>\n",
       "    <tr>\n",
       "      <td>16166</td>\n",
       "      <td>0</td>\n",
       "      <td>364348.197352</td>\n",
       "      <td>26</td>\n",
       "      <td>среднее</td>\n",
       "      <td>1</td>\n",
       "      <td>гражданский брак</td>\n",
       "      <td>1</td>\n",
       "      <td>M</td>\n",
       "      <td>пенсионер</td>\n",
       "      <td>0</td>\n",
       "      <td>80044.196101</td>\n",
       "      <td>автомобиль</td>\n",
       "    </tr>\n",
       "    <tr>\n",
       "      <td>19439</td>\n",
       "      <td>0</td>\n",
       "      <td>389397.167577</td>\n",
       "      <td>26</td>\n",
       "      <td>высшее</td>\n",
       "      <td>0</td>\n",
       "      <td>женат / замужем</td>\n",
       "      <td>0</td>\n",
       "      <td>F</td>\n",
       "      <td>пенсионер</td>\n",
       "      <td>0</td>\n",
       "      <td>214963.301941</td>\n",
       "      <td>покупка недвижимости</td>\n",
       "    </tr>\n",
       "    <tr>\n",
       "      <td>12753</td>\n",
       "      <td>1</td>\n",
       "      <td>329781.704997</td>\n",
       "      <td>27</td>\n",
       "      <td>среднее</td>\n",
       "      <td>1</td>\n",
       "      <td>женат / замужем</td>\n",
       "      <td>0</td>\n",
       "      <td>F</td>\n",
       "      <td>пенсионер</td>\n",
       "      <td>0</td>\n",
       "      <td>65198.102341</td>\n",
       "      <td>получение образования</td>\n",
       "    </tr>\n",
       "    <tr>\n",
       "      <td>13953</td>\n",
       "      <td>0</td>\n",
       "      <td>376824.585817</td>\n",
       "      <td>27</td>\n",
       "      <td>среднее</td>\n",
       "      <td>1</td>\n",
       "      <td>в разводе</td>\n",
       "      <td>3</td>\n",
       "      <td>M</td>\n",
       "      <td>пенсионер</td>\n",
       "      <td>0</td>\n",
       "      <td>97961.993557</td>\n",
       "      <td>операции с жильем</td>\n",
       "    </tr>\n",
       "    <tr>\n",
       "      <td>...</td>\n",
       "      <td>...</td>\n",
       "      <td>...</td>\n",
       "      <td>...</td>\n",
       "      <td>...</td>\n",
       "      <td>...</td>\n",
       "      <td>...</td>\n",
       "      <td>...</td>\n",
       "      <td>...</td>\n",
       "      <td>...</td>\n",
       "      <td>...</td>\n",
       "      <td>...</td>\n",
       "      <td>...</td>\n",
       "    </tr>\n",
       "    <tr>\n",
       "      <td>1826</td>\n",
       "      <td>0</td>\n",
       "      <td>368375.048770</td>\n",
       "      <td>73</td>\n",
       "      <td>Среднее</td>\n",
       "      <td>1</td>\n",
       "      <td>вдовец / вдова</td>\n",
       "      <td>2</td>\n",
       "      <td>F</td>\n",
       "      <td>пенсионер</td>\n",
       "      <td>0</td>\n",
       "      <td>74284.473064</td>\n",
       "      <td>покупка жилой недвижимости</td>\n",
       "    </tr>\n",
       "    <tr>\n",
       "      <td>2557</td>\n",
       "      <td>0</td>\n",
       "      <td>372861.103965</td>\n",
       "      <td>74</td>\n",
       "      <td>среднее</td>\n",
       "      <td>1</td>\n",
       "      <td>женат / замужем</td>\n",
       "      <td>0</td>\n",
       "      <td>F</td>\n",
       "      <td>пенсионер</td>\n",
       "      <td>0</td>\n",
       "      <td>42927.300898</td>\n",
       "      <td>автомобили</td>\n",
       "    </tr>\n",
       "    <tr>\n",
       "      <td>3460</td>\n",
       "      <td>0</td>\n",
       "      <td>344623.836105</td>\n",
       "      <td>74</td>\n",
       "      <td>среднее</td>\n",
       "      <td>1</td>\n",
       "      <td>женат / замужем</td>\n",
       "      <td>0</td>\n",
       "      <td>M</td>\n",
       "      <td>пенсионер</td>\n",
       "      <td>0</td>\n",
       "      <td>54754.745517</td>\n",
       "      <td>операции со своей недвижимостью</td>\n",
       "    </tr>\n",
       "    <tr>\n",
       "      <td>4895</td>\n",
       "      <td>0</td>\n",
       "      <td>341528.126150</td>\n",
       "      <td>74</td>\n",
       "      <td>высшее</td>\n",
       "      <td>0</td>\n",
       "      <td>женат / замужем</td>\n",
       "      <td>0</td>\n",
       "      <td>F</td>\n",
       "      <td>пенсионер</td>\n",
       "      <td>0</td>\n",
       "      <td>134935.354225</td>\n",
       "      <td>покупка своего жилья</td>\n",
       "    </tr>\n",
       "    <tr>\n",
       "      <td>19642</td>\n",
       "      <td>0</td>\n",
       "      <td>380150.387046</td>\n",
       "      <td>74</td>\n",
       "      <td>среднее</td>\n",
       "      <td>1</td>\n",
       "      <td>вдовец / вдова</td>\n",
       "      <td>2</td>\n",
       "      <td>F</td>\n",
       "      <td>пенсионер</td>\n",
       "      <td>0</td>\n",
       "      <td>45089.546419</td>\n",
       "      <td>приобретение автомобиля</td>\n",
       "    </tr>\n",
       "  </tbody>\n",
       "</table>\n",
       "<p>3428 rows × 12 columns</p>\n",
       "</div>"
      ],
      "text/plain": [
       "       children  days_employed  dob_years education  education_id  \\\n",
       "1242          0  334764.259831         22   Среднее             1   \n",
       "16166         0  364348.197352         26   среднее             1   \n",
       "19439         0  389397.167577         26    высшее             0   \n",
       "12753         1  329781.704997         27   среднее             1   \n",
       "13953         0  376824.585817         27   среднее             1   \n",
       "...         ...            ...        ...       ...           ...   \n",
       "1826          0  368375.048770         73   Среднее             1   \n",
       "2557          0  372861.103965         74   среднее             1   \n",
       "3460          0  344623.836105         74   среднее             1   \n",
       "4895          0  341528.126150         74    высшее             0   \n",
       "19642         0  380150.387046         74   среднее             1   \n",
       "\n",
       "               family_status  family_status_id gender income_type  debt  \\\n",
       "1242   Не женат / не замужем                 4      F   пенсионер     0   \n",
       "16166       гражданский брак                 1      M   пенсионер     0   \n",
       "19439        женат / замужем                 0      F   пенсионер     0   \n",
       "12753        женат / замужем                 0      F   пенсионер     0   \n",
       "13953              в разводе                 3      M   пенсионер     0   \n",
       "...                      ...               ...    ...         ...   ...   \n",
       "1826          вдовец / вдова                 2      F   пенсионер     0   \n",
       "2557         женат / замужем                 0      F   пенсионер     0   \n",
       "3460         женат / замужем                 0      M   пенсионер     0   \n",
       "4895         женат / замужем                 0      F   пенсионер     0   \n",
       "19642         вдовец / вдова                 2      F   пенсионер     0   \n",
       "\n",
       "        total_income                          purpose  \n",
       "1242    89368.600062    получение высшего образования  \n",
       "16166   80044.196101                       автомобиль  \n",
       "19439  214963.301941             покупка недвижимости  \n",
       "12753   65198.102341            получение образования  \n",
       "13953   97961.993557                операции с жильем  \n",
       "...              ...                              ...  \n",
       "1826    74284.473064       покупка жилой недвижимости  \n",
       "2557    42927.300898                       автомобили  \n",
       "3460    54754.745517  операции со своей недвижимостью  \n",
       "4895   134935.354225             покупка своего жилья  \n",
       "19642   45089.546419          приобретение автомобиля  \n",
       "\n",
       "[3428 rows x 12 columns]"
      ]
     },
     "execution_count": 2,
     "metadata": {},
     "output_type": "execute_result"
    }
   ],
   "source": [
    "#В приведм данные в колонке 'days_employed' к положительным значениям\n",
    "df['days_employed'] = df['days_employed'].abs()\n",
    "\n",
    "#Выведем на экран таблицу со слишком большим стажем\n",
    "df_big_employed = df[df['days_employed'] > 200000]\n",
    "df_big_employed[df_big_employed['dob_years'] != 0].sort_values(by='dob_years')"
   ]
  },
  {
   "cell_type": "markdown",
   "metadata": {},
   "source": [
    "Слишком большой стаж только у пенсионеров? Проверим."
   ]
  },
  {
   "cell_type": "code",
   "execution_count": 3,
   "metadata": {},
   "outputs": [
    {
     "data": {
      "text/html": [
       "<div>\n",
       "<style scoped>\n",
       "    .dataframe tbody tr th:only-of-type {\n",
       "        vertical-align: middle;\n",
       "    }\n",
       "\n",
       "    .dataframe tbody tr th {\n",
       "        vertical-align: top;\n",
       "    }\n",
       "\n",
       "    .dataframe thead th {\n",
       "        text-align: right;\n",
       "    }\n",
       "</style>\n",
       "<table border=\"1\" class=\"dataframe\">\n",
       "  <thead>\n",
       "    <tr style=\"text-align: right;\">\n",
       "      <th></th>\n",
       "      <th>children</th>\n",
       "      <th>days_employed</th>\n",
       "      <th>dob_years</th>\n",
       "      <th>education</th>\n",
       "      <th>education_id</th>\n",
       "      <th>family_status</th>\n",
       "      <th>family_status_id</th>\n",
       "      <th>gender</th>\n",
       "      <th>income_type</th>\n",
       "      <th>debt</th>\n",
       "      <th>total_income</th>\n",
       "      <th>purpose</th>\n",
       "    </tr>\n",
       "  </thead>\n",
       "  <tbody>\n",
       "    <tr>\n",
       "      <td>4</td>\n",
       "      <td>0</td>\n",
       "      <td>340266.072047</td>\n",
       "      <td>53</td>\n",
       "      <td>среднее</td>\n",
       "      <td>1</td>\n",
       "      <td>гражданский брак</td>\n",
       "      <td>1</td>\n",
       "      <td>F</td>\n",
       "      <td>пенсионер</td>\n",
       "      <td>0</td>\n",
       "      <td>158616.077870</td>\n",
       "      <td>сыграть свадьбу</td>\n",
       "    </tr>\n",
       "    <tr>\n",
       "      <td>12</td>\n",
       "      <td>0</td>\n",
       "      <td>NaN</td>\n",
       "      <td>65</td>\n",
       "      <td>среднее</td>\n",
       "      <td>1</td>\n",
       "      <td>гражданский брак</td>\n",
       "      <td>1</td>\n",
       "      <td>M</td>\n",
       "      <td>пенсионер</td>\n",
       "      <td>0</td>\n",
       "      <td>NaN</td>\n",
       "      <td>сыграть свадьбу</td>\n",
       "    </tr>\n",
       "    <tr>\n",
       "      <td>18</td>\n",
       "      <td>0</td>\n",
       "      <td>400281.136913</td>\n",
       "      <td>53</td>\n",
       "      <td>среднее</td>\n",
       "      <td>1</td>\n",
       "      <td>вдовец / вдова</td>\n",
       "      <td>2</td>\n",
       "      <td>F</td>\n",
       "      <td>пенсионер</td>\n",
       "      <td>0</td>\n",
       "      <td>56823.777243</td>\n",
       "      <td>на покупку подержанного автомобиля</td>\n",
       "    </tr>\n",
       "    <tr>\n",
       "      <td>24</td>\n",
       "      <td>1</td>\n",
       "      <td>338551.952911</td>\n",
       "      <td>57</td>\n",
       "      <td>среднее</td>\n",
       "      <td>1</td>\n",
       "      <td>Не женат / не замужем</td>\n",
       "      <td>4</td>\n",
       "      <td>F</td>\n",
       "      <td>пенсионер</td>\n",
       "      <td>0</td>\n",
       "      <td>290547.235997</td>\n",
       "      <td>операции с коммерческой недвижимостью</td>\n",
       "    </tr>\n",
       "    <tr>\n",
       "      <td>25</td>\n",
       "      <td>0</td>\n",
       "      <td>363548.489348</td>\n",
       "      <td>67</td>\n",
       "      <td>среднее</td>\n",
       "      <td>1</td>\n",
       "      <td>женат / замужем</td>\n",
       "      <td>0</td>\n",
       "      <td>M</td>\n",
       "      <td>пенсионер</td>\n",
       "      <td>0</td>\n",
       "      <td>55112.757732</td>\n",
       "      <td>покупка недвижимости</td>\n",
       "    </tr>\n",
       "    <tr>\n",
       "      <td>...</td>\n",
       "      <td>...</td>\n",
       "      <td>...</td>\n",
       "      <td>...</td>\n",
       "      <td>...</td>\n",
       "      <td>...</td>\n",
       "      <td>...</td>\n",
       "      <td>...</td>\n",
       "      <td>...</td>\n",
       "      <td>...</td>\n",
       "      <td>...</td>\n",
       "      <td>...</td>\n",
       "      <td>...</td>\n",
       "    </tr>\n",
       "    <tr>\n",
       "      <td>21505</td>\n",
       "      <td>0</td>\n",
       "      <td>338904.866406</td>\n",
       "      <td>53</td>\n",
       "      <td>среднее</td>\n",
       "      <td>1</td>\n",
       "      <td>гражданский брак</td>\n",
       "      <td>1</td>\n",
       "      <td>M</td>\n",
       "      <td>пенсионер</td>\n",
       "      <td>0</td>\n",
       "      <td>75439.993167</td>\n",
       "      <td>сыграть свадьбу</td>\n",
       "    </tr>\n",
       "    <tr>\n",
       "      <td>21508</td>\n",
       "      <td>0</td>\n",
       "      <td>386497.714078</td>\n",
       "      <td>62</td>\n",
       "      <td>среднее</td>\n",
       "      <td>1</td>\n",
       "      <td>женат / замужем</td>\n",
       "      <td>0</td>\n",
       "      <td>M</td>\n",
       "      <td>пенсионер</td>\n",
       "      <td>0</td>\n",
       "      <td>72638.590915</td>\n",
       "      <td>недвижимость</td>\n",
       "    </tr>\n",
       "    <tr>\n",
       "      <td>21509</td>\n",
       "      <td>0</td>\n",
       "      <td>362161.054124</td>\n",
       "      <td>59</td>\n",
       "      <td>высшее</td>\n",
       "      <td>0</td>\n",
       "      <td>женат / замужем</td>\n",
       "      <td>0</td>\n",
       "      <td>M</td>\n",
       "      <td>пенсионер</td>\n",
       "      <td>0</td>\n",
       "      <td>73029.059379</td>\n",
       "      <td>операции с недвижимостью</td>\n",
       "    </tr>\n",
       "    <tr>\n",
       "      <td>21518</td>\n",
       "      <td>0</td>\n",
       "      <td>373995.710838</td>\n",
       "      <td>59</td>\n",
       "      <td>СРЕДНЕЕ</td>\n",
       "      <td>1</td>\n",
       "      <td>женат / замужем</td>\n",
       "      <td>0</td>\n",
       "      <td>F</td>\n",
       "      <td>пенсионер</td>\n",
       "      <td>0</td>\n",
       "      <td>153864.650328</td>\n",
       "      <td>сделка с автомобилем</td>\n",
       "    </tr>\n",
       "    <tr>\n",
       "      <td>21521</td>\n",
       "      <td>0</td>\n",
       "      <td>343937.404131</td>\n",
       "      <td>67</td>\n",
       "      <td>среднее</td>\n",
       "      <td>1</td>\n",
       "      <td>женат / замужем</td>\n",
       "      <td>0</td>\n",
       "      <td>F</td>\n",
       "      <td>пенсионер</td>\n",
       "      <td>0</td>\n",
       "      <td>155999.806512</td>\n",
       "      <td>сделка с автомобилем</td>\n",
       "    </tr>\n",
       "  </tbody>\n",
       "</table>\n",
       "<p>3856 rows × 12 columns</p>\n",
       "</div>"
      ],
      "text/plain": [
       "       children  days_employed  dob_years education  education_id  \\\n",
       "4             0  340266.072047         53   среднее             1   \n",
       "12            0            NaN         65   среднее             1   \n",
       "18            0  400281.136913         53   среднее             1   \n",
       "24            1  338551.952911         57   среднее             1   \n",
       "25            0  363548.489348         67   среднее             1   \n",
       "...         ...            ...        ...       ...           ...   \n",
       "21505         0  338904.866406         53   среднее             1   \n",
       "21508         0  386497.714078         62   среднее             1   \n",
       "21509         0  362161.054124         59    высшее             0   \n",
       "21518         0  373995.710838         59   СРЕДНЕЕ             1   \n",
       "21521         0  343937.404131         67   среднее             1   \n",
       "\n",
       "               family_status  family_status_id gender income_type  debt  \\\n",
       "4           гражданский брак                 1      F   пенсионер     0   \n",
       "12          гражданский брак                 1      M   пенсионер     0   \n",
       "18            вдовец / вдова                 2      F   пенсионер     0   \n",
       "24     Не женат / не замужем                 4      F   пенсионер     0   \n",
       "25           женат / замужем                 0      M   пенсионер     0   \n",
       "...                      ...               ...    ...         ...   ...   \n",
       "21505       гражданский брак                 1      M   пенсионер     0   \n",
       "21508        женат / замужем                 0      M   пенсионер     0   \n",
       "21509        женат / замужем                 0      M   пенсионер     0   \n",
       "21518        женат / замужем                 0      F   пенсионер     0   \n",
       "21521        женат / замужем                 0      F   пенсионер     0   \n",
       "\n",
       "        total_income                                purpose  \n",
       "4      158616.077870                        сыграть свадьбу  \n",
       "12               NaN                        сыграть свадьбу  \n",
       "18      56823.777243     на покупку подержанного автомобиля  \n",
       "24     290547.235997  операции с коммерческой недвижимостью  \n",
       "25      55112.757732                   покупка недвижимости  \n",
       "...              ...                                    ...  \n",
       "21505   75439.993167                        сыграть свадьбу  \n",
       "21508   72638.590915                           недвижимость  \n",
       "21509   73029.059379               операции с недвижимостью  \n",
       "21518  153864.650328                   сделка с автомобилем  \n",
       "21521  155999.806512                   сделка с автомобилем  \n",
       "\n",
       "[3856 rows x 12 columns]"
      ]
     },
     "execution_count": 3,
     "metadata": {},
     "output_type": "execute_result"
    }
   ],
   "source": [
    "#Выведем на экран таблицу с пенсионерами\n",
    "df_pensioner = df[df['income_type'] == 'пенсионер']\n",
    "df_pensioner"
   ]
  },
  {
   "cell_type": "markdown",
   "metadata": {},
   "source": [
    "Очень похоже! Надо убедится."
   ]
  },
  {
   "cell_type": "code",
   "execution_count": 4,
   "metadata": {},
   "outputs": [
    {
     "name": "stdout",
     "output_type": "stream",
     "text": [
      "<class 'pandas.core.frame.DataFrame'>\n",
      "Int64Index: 3445 entries, 4 to 21521\n",
      "Data columns (total 12 columns):\n",
      "children            3445 non-null int64\n",
      "days_employed       3445 non-null float64\n",
      "dob_years           3445 non-null int64\n",
      "education           3445 non-null object\n",
      "education_id        3445 non-null int64\n",
      "family_status       3445 non-null object\n",
      "family_status_id    3445 non-null int64\n",
      "gender              3445 non-null object\n",
      "income_type         3445 non-null object\n",
      "debt                3445 non-null int64\n",
      "total_income        3445 non-null float64\n",
      "purpose             3445 non-null object\n",
      "dtypes: float64(2), int64(5), object(5)\n",
      "memory usage: 349.9+ KB\n",
      "<class 'pandas.core.frame.DataFrame'>\n",
      "Int64Index: 3856 entries, 4 to 21521\n",
      "Data columns (total 12 columns):\n",
      "children            3856 non-null int64\n",
      "days_employed       3443 non-null float64\n",
      "dob_years           3856 non-null int64\n",
      "education           3856 non-null object\n",
      "education_id        3856 non-null int64\n",
      "family_status       3856 non-null object\n",
      "family_status_id    3856 non-null int64\n",
      "gender              3856 non-null object\n",
      "income_type         3856 non-null object\n",
      "debt                3856 non-null int64\n",
      "total_income        3443 non-null float64\n",
      "purpose             3856 non-null object\n",
      "dtypes: float64(2), int64(5), object(5)\n",
      "memory usage: 391.6+ KB\n",
      "Таблицы совпадают!\n"
     ]
    }
   ],
   "source": [
    "if df_big_employed.info() == df_pensioner.info():\n",
    "    print('Таблицы совпадают!')\n",
    "else:\n",
    "    print('Таблицы не совпадают!')"
   ]
  },
  {
   "cell_type": "markdown",
   "metadata": {},
   "source": [
    "Если не учитывать пропуски, то таблицы полностью совпадают. Можно сделать вывод, что для пенсионеров в колонке 'days_employed' содержится информация не о трудовом стаже, а что-то другое. Например номер пенсионного удостоверения. В рамках текущего исследования, менять слишком большой стаж без точной информации о специфике этих данных считаю не целесообразным. Учтём полученные данные при заполнении пропусков.\n",
    "Кроме явных 'NaN' пропусков в колонке 'dob_years' есть нулевые значения, что также является пропуском данных.\n",
    "Заполнять пропуски будем следующими сособами:\n",
    "- 'days_employed': средними значениями стажа в возрастной категории\n",
    "- 'total_income' : медианными значениями дохода в возрастной категории \n",
    "- 'dob_years'    : на основе среднего трудового стажа.\n",
    "- если пропуски есть одновременно в 'days_employed' и в 'dob_years' то ничего восстановить уже не выйдет, и эти строки придётся удалить."
   ]
  },
  {
   "cell_type": "code",
   "execution_count": 5,
   "metadata": {},
   "outputs": [],
   "source": [
    "#Удалим строки в которых есть пропуски есть одновременно в 'days_employed' и в 'dob_years' \n",
    "df = df.drop(df[(df['days_employed'].isna()) & (df['dob_years'] == 0)].index)\n"
   ]
  },
  {
   "cell_type": "code",
   "execution_count": 6,
   "metadata": {
    "scrolled": true
   },
   "outputs": [
    {
     "data": {
      "text/html": [
       "<div>\n",
       "<style scoped>\n",
       "    .dataframe tbody tr th:only-of-type {\n",
       "        vertical-align: middle;\n",
       "    }\n",
       "\n",
       "    .dataframe tbody tr th {\n",
       "        vertical-align: top;\n",
       "    }\n",
       "\n",
       "    .dataframe thead th {\n",
       "        text-align: right;\n",
       "    }\n",
       "</style>\n",
       "<table border=\"1\" class=\"dataframe\">\n",
       "  <thead>\n",
       "    <tr style=\"text-align: right;\">\n",
       "      <th></th>\n",
       "      <th>children</th>\n",
       "      <th>days_employed</th>\n",
       "      <th>dob_years</th>\n",
       "      <th>education</th>\n",
       "      <th>education_id</th>\n",
       "      <th>family_status</th>\n",
       "      <th>family_status_id</th>\n",
       "      <th>gender</th>\n",
       "      <th>income_type</th>\n",
       "      <th>debt</th>\n",
       "      <th>total_income</th>\n",
       "      <th>purpose</th>\n",
       "    </tr>\n",
       "  </thead>\n",
       "  <tbody>\n",
       "    <tr>\n",
       "      <td>0</td>\n",
       "      <td>1</td>\n",
       "      <td>8437.673028</td>\n",
       "      <td>42</td>\n",
       "      <td>высшее</td>\n",
       "      <td>0</td>\n",
       "      <td>женат / замужем</td>\n",
       "      <td>0</td>\n",
       "      <td>F</td>\n",
       "      <td>сотрудник</td>\n",
       "      <td>0</td>\n",
       "      <td>253875.639453</td>\n",
       "      <td>покупка жилья</td>\n",
       "    </tr>\n",
       "    <tr>\n",
       "      <td>1</td>\n",
       "      <td>1</td>\n",
       "      <td>4024.803754</td>\n",
       "      <td>36</td>\n",
       "      <td>среднее</td>\n",
       "      <td>1</td>\n",
       "      <td>женат / замужем</td>\n",
       "      <td>0</td>\n",
       "      <td>F</td>\n",
       "      <td>сотрудник</td>\n",
       "      <td>0</td>\n",
       "      <td>112080.014102</td>\n",
       "      <td>приобретение автомобиля</td>\n",
       "    </tr>\n",
       "    <tr>\n",
       "      <td>2</td>\n",
       "      <td>0</td>\n",
       "      <td>5623.422610</td>\n",
       "      <td>33</td>\n",
       "      <td>Среднее</td>\n",
       "      <td>1</td>\n",
       "      <td>женат / замужем</td>\n",
       "      <td>0</td>\n",
       "      <td>M</td>\n",
       "      <td>сотрудник</td>\n",
       "      <td>0</td>\n",
       "      <td>145885.952297</td>\n",
       "      <td>покупка жилья</td>\n",
       "    </tr>\n",
       "    <tr>\n",
       "      <td>3</td>\n",
       "      <td>3</td>\n",
       "      <td>4124.747207</td>\n",
       "      <td>32</td>\n",
       "      <td>среднее</td>\n",
       "      <td>1</td>\n",
       "      <td>женат / замужем</td>\n",
       "      <td>0</td>\n",
       "      <td>M</td>\n",
       "      <td>сотрудник</td>\n",
       "      <td>0</td>\n",
       "      <td>267628.550329</td>\n",
       "      <td>дополнительное образование</td>\n",
       "    </tr>\n",
       "    <tr>\n",
       "      <td>4</td>\n",
       "      <td>0</td>\n",
       "      <td>340266.072047</td>\n",
       "      <td>53</td>\n",
       "      <td>среднее</td>\n",
       "      <td>1</td>\n",
       "      <td>гражданский брак</td>\n",
       "      <td>1</td>\n",
       "      <td>F</td>\n",
       "      <td>пенсионер</td>\n",
       "      <td>0</td>\n",
       "      <td>158616.077870</td>\n",
       "      <td>сыграть свадьбу</td>\n",
       "    </tr>\n",
       "    <tr>\n",
       "      <td>5</td>\n",
       "      <td>0</td>\n",
       "      <td>926.185831</td>\n",
       "      <td>27</td>\n",
       "      <td>высшее</td>\n",
       "      <td>0</td>\n",
       "      <td>гражданский брак</td>\n",
       "      <td>1</td>\n",
       "      <td>M</td>\n",
       "      <td>компаньон</td>\n",
       "      <td>0</td>\n",
       "      <td>255763.565419</td>\n",
       "      <td>покупка жилья</td>\n",
       "    </tr>\n",
       "    <tr>\n",
       "      <td>6</td>\n",
       "      <td>0</td>\n",
       "      <td>2879.202052</td>\n",
       "      <td>43</td>\n",
       "      <td>высшее</td>\n",
       "      <td>0</td>\n",
       "      <td>женат / замужем</td>\n",
       "      <td>0</td>\n",
       "      <td>F</td>\n",
       "      <td>компаньон</td>\n",
       "      <td>0</td>\n",
       "      <td>240525.971920</td>\n",
       "      <td>операции с жильем</td>\n",
       "    </tr>\n",
       "    <tr>\n",
       "      <td>7</td>\n",
       "      <td>0</td>\n",
       "      <td>152.779569</td>\n",
       "      <td>50</td>\n",
       "      <td>СРЕДНЕЕ</td>\n",
       "      <td>1</td>\n",
       "      <td>женат / замужем</td>\n",
       "      <td>0</td>\n",
       "      <td>M</td>\n",
       "      <td>сотрудник</td>\n",
       "      <td>0</td>\n",
       "      <td>135823.934197</td>\n",
       "      <td>образование</td>\n",
       "    </tr>\n",
       "    <tr>\n",
       "      <td>8</td>\n",
       "      <td>2</td>\n",
       "      <td>6929.865299</td>\n",
       "      <td>35</td>\n",
       "      <td>ВЫСШЕЕ</td>\n",
       "      <td>0</td>\n",
       "      <td>гражданский брак</td>\n",
       "      <td>1</td>\n",
       "      <td>F</td>\n",
       "      <td>сотрудник</td>\n",
       "      <td>0</td>\n",
       "      <td>95856.832424</td>\n",
       "      <td>на проведение свадьбы</td>\n",
       "    </tr>\n",
       "    <tr>\n",
       "      <td>9</td>\n",
       "      <td>0</td>\n",
       "      <td>2188.756445</td>\n",
       "      <td>41</td>\n",
       "      <td>среднее</td>\n",
       "      <td>1</td>\n",
       "      <td>женат / замужем</td>\n",
       "      <td>0</td>\n",
       "      <td>M</td>\n",
       "      <td>сотрудник</td>\n",
       "      <td>0</td>\n",
       "      <td>144425.938277</td>\n",
       "      <td>покупка жилья для семьи</td>\n",
       "    </tr>\n",
       "  </tbody>\n",
       "</table>\n",
       "</div>"
      ],
      "text/plain": [
       "   children  days_employed  dob_years education  education_id  \\\n",
       "0         1    8437.673028         42    высшее             0   \n",
       "1         1    4024.803754         36   среднее             1   \n",
       "2         0    5623.422610         33   Среднее             1   \n",
       "3         3    4124.747207         32   среднее             1   \n",
       "4         0  340266.072047         53   среднее             1   \n",
       "5         0     926.185831         27    высшее             0   \n",
       "6         0    2879.202052         43    высшее             0   \n",
       "7         0     152.779569         50   СРЕДНЕЕ             1   \n",
       "8         2    6929.865299         35    ВЫСШЕЕ             0   \n",
       "9         0    2188.756445         41   среднее             1   \n",
       "\n",
       "      family_status  family_status_id gender income_type  debt   total_income  \\\n",
       "0   женат / замужем                 0      F   сотрудник     0  253875.639453   \n",
       "1   женат / замужем                 0      F   сотрудник     0  112080.014102   \n",
       "2   женат / замужем                 0      M   сотрудник     0  145885.952297   \n",
       "3   женат / замужем                 0      M   сотрудник     0  267628.550329   \n",
       "4  гражданский брак                 1      F   пенсионер     0  158616.077870   \n",
       "5  гражданский брак                 1      M   компаньон     0  255763.565419   \n",
       "6   женат / замужем                 0      F   компаньон     0  240525.971920   \n",
       "7   женат / замужем                 0      M   сотрудник     0  135823.934197   \n",
       "8  гражданский брак                 1      F   сотрудник     0   95856.832424   \n",
       "9   женат / замужем                 0      M   сотрудник     0  144425.938277   \n",
       "\n",
       "                      purpose  \n",
       "0               покупка жилья  \n",
       "1     приобретение автомобиля  \n",
       "2               покупка жилья  \n",
       "3  дополнительное образование  \n",
       "4             сыграть свадьбу  \n",
       "5               покупка жилья  \n",
       "6           операции с жильем  \n",
       "7                 образование  \n",
       "8       на проведение свадьбы  \n",
       "9     покупка жилья для семьи  "
      ]
     },
     "execution_count": 6,
     "metadata": {},
     "output_type": "execute_result"
    }
   ],
   "source": [
    "#Сисок возрастных категорий\n",
    "age_category = [[19, 25],\n",
    "                [25, 30],\n",
    "                [31, 40],\n",
    "                [41, 50],\n",
    "                [51, 75]]\n",
    "#Функция, которая возвращает средний стаж\n",
    "def mean_employed(row):\n",
    "    for cat in age_category:\n",
    "        age = row['dob_years']\n",
    "        if cat[0] <= age <= cat[1]:\n",
    "            if row['income_type'] == 'пенсионер':\n",
    "                return cat[4]\n",
    "            else:\n",
    "                return cat[3]\n",
    "#Функция, которая возвращает медианный доход            \n",
    "def median_income(row):\n",
    "    for cat in age_category:\n",
    "        age = row['dob_years']\n",
    "        if cat[0] <= age <= cat[1]:\n",
    "            return cat[2]\n",
    "            \n",
    "def age_from_employ(row):\n",
    "    employ = row['days_employed']\n",
    "    if row['income_type'] == 'пенсионер':\n",
    "        pens = 4\n",
    "    else:\n",
    "        pens = 3\n",
    "    min_comp = 900000\n",
    "    for cat in age_category:\n",
    "        compare = abs(cat[pens] - employ)\n",
    "        if compare < min_comp:\n",
    "            min_comp = compare\n",
    "            result_age = int((cat[1] + cat[0])/2) \n",
    "    return result_age\n",
    "        \n",
    "#Определяем средний стаж и медианный доход по возрастным категориям\n",
    "for i in range(len(age_category)):\n",
    "    cat = age_category[i]\n",
    "    df_cat = df[(df['dob_years'] >= cat[0]) & (df['dob_years'] <= cat[1])] #Фильтр по возрасту\n",
    "    age_category[i].append(df_cat['total_income'].median()) #Записываем медианный доход \n",
    "    age_category[i].append(df_cat[df_cat['income_type'] != 'пенсионер']['days_employed'].mean()) #Записываем средний стаж  \n",
    "    age_category[i].append(df_cat[df_cat['income_type'] == 'пенсионер']['days_employed'].mean()) #Записываем средний стаж пенсионера \n",
    "\n",
    "#Заполняем пропуски\n",
    "df.loc[(df['dob_years' ] == 0),['dob_years' ]] = df[df['dob_years' ] == 0].apply(age_from_employ, axis=1)\n",
    "df.loc[(df['days_employed'].isna()),['days_employed']] = df[df['days_employed'].isna()].apply(mean_employed, axis=1)\n",
    "df.loc[(df['total_income' ].isna()),['total_income' ]] = df[df['total_income' ].isna()].apply(median_income, axis=1)\n",
    "\n",
    "\n",
    "df.head(10)"
   ]
  },
  {
   "cell_type": "markdown",
   "metadata": {},
   "source": [
    "**Вывод**"
   ]
  },
  {
   "cell_type": "markdown",
   "metadata": {},
   "source": [
    "Пропуски заполнены. При этом удалили всего 10 строк из таблицы. Остальные проуски заолнены на основе других ячеек."
   ]
  },
  {
   "cell_type": "markdown",
   "metadata": {},
   "source": [
    "### Замена типа данных"
   ]
  },
  {
   "cell_type": "markdown",
   "metadata": {},
   "source": [
    "Тип данных колонок 'days_employed' и 'total_income' - float. Однако количество дней должно быть целым числом. Размер дохода, также необходимо привести к целочисленному."
   ]
  },
  {
   "cell_type": "code",
   "execution_count": 7,
   "metadata": {},
   "outputs": [
    {
     "name": "stdout",
     "output_type": "stream",
     "text": [
      "<class 'pandas.core.frame.DataFrame'>\n",
      "Int64Index: 21515 entries, 0 to 21524\n",
      "Data columns (total 12 columns):\n",
      "children            21515 non-null int64\n",
      "days_employed       21515 non-null int64\n",
      "dob_years           21515 non-null int64\n",
      "education           21515 non-null object\n",
      "education_id        21515 non-null int64\n",
      "family_status       21515 non-null object\n",
      "family_status_id    21515 non-null int64\n",
      "gender              21515 non-null object\n",
      "income_type         21515 non-null object\n",
      "debt                21515 non-null int64\n",
      "total_income        21515 non-null int64\n",
      "purpose             21515 non-null object\n",
      "dtypes: int64(7), object(5)\n",
      "memory usage: 2.1+ MB\n"
     ]
    }
   ],
   "source": [
    "#Преобразование типов\n",
    "df['days_employed'] = df['days_employed'].astype('int')\n",
    "df['total_income' ] = df['total_income' ].astype('int')\n",
    "df.info()"
   ]
  },
  {
   "cell_type": "markdown",
   "metadata": {},
   "source": [
    "**Вывод**"
   ]
  },
  {
   "cell_type": "markdown",
   "metadata": {},
   "source": [
    "Замена типа данных повысит наглядность данных и ускорит обработку. "
   ]
  },
  {
   "cell_type": "markdown",
   "metadata": {},
   "source": [
    "### Обработка дубликатов"
   ]
  },
  {
   "cell_type": "markdown",
   "metadata": {},
   "source": [
    "Сначала проверим есть ли полные дубликаты строк. При необходимости их обработаем. Затем исправим дубликаты в категориальных данных."
   ]
  },
  {
   "cell_type": "code",
   "execution_count": 8,
   "metadata": {},
   "outputs": [
    {
     "data": {
      "text/plain": [
       "54"
      ]
     },
     "execution_count": 8,
     "metadata": {},
     "output_type": "execute_result"
    }
   ],
   "source": [
    "#есть ли полные дубликаты?\n",
    "df.duplicated().sum()"
   ]
  },
  {
   "cell_type": "markdown",
   "metadata": {},
   "source": [
    "Возможной причиной возникновения полных дубликатов строк таблицы, наиболее вероятно, является ошибочный повторный ввод данных."
   ]
  },
  {
   "cell_type": "code",
   "execution_count": 9,
   "metadata": {},
   "outputs": [
    {
     "data": {
      "text/plain": [
       "0"
      ]
     },
     "execution_count": 9,
     "metadata": {},
     "output_type": "execute_result"
    }
   ],
   "source": [
    "#удаляем дубликаты\n",
    "df = df.drop_duplicates().reset_index(drop=True)\n",
    "df.duplicated().sum()"
   ]
  },
  {
   "cell_type": "code",
   "execution_count": 10,
   "metadata": {},
   "outputs": [
    {
     "name": "stdout",
     "output_type": "stream",
     "text": [
      "среднее                13698\n",
      "высшее                  4708\n",
      "СРЕДНЕЕ                  772\n",
      "Среднее                  711\n",
      "неоконченное высшее      668\n",
      "ВЫСШЕЕ                   273\n",
      "Высшее                   267\n",
      "начальное                250\n",
      "Неоконченное высшее       47\n",
      "НЕОКОНЧЕННОЕ ВЫСШЕЕ       29\n",
      "НАЧАЛЬНОЕ                 17\n",
      "Начальное                 15\n",
      "ученая степень             4\n",
      "Ученая степень             1\n",
      "УЧЕНАЯ СТЕПЕНЬ             1\n",
      "Name: education, dtype: int64\n",
      "женат / замужем          12340\n",
      "гражданский брак          4160\n",
      "Не женат / не замужем     2809\n",
      "в разводе                 1194\n",
      "вдовец / вдова             958\n",
      "Name: family_status, dtype: int64\n",
      "F      14181\n",
      "M       7279\n",
      "XNA        1\n",
      "Name: gender, dtype: int64\n",
      "сотрудник          11086\n",
      "компаньон           5078\n",
      "пенсионер           3834\n",
      "госслужащий         1457\n",
      "предприниматель        2\n",
      "безработный            2\n",
      "в декрете              1\n",
      "студент                1\n",
      "Name: income_type, dtype: int64\n",
      " 0     14099\n",
      " 1      4808\n",
      " 2      2052\n",
      " 3       329\n",
      " 20       76\n",
      "-1        47\n",
      " 4        41\n",
      " 5         9\n",
      "Name: children, dtype: int64\n"
     ]
    }
   ],
   "source": [
    "#проверим колонки на дубликаты\n",
    "print(df['education'].value_counts())\n",
    "print(df['family_status'].value_counts())\n",
    "print(df['gender'].value_counts())\n",
    "print(df['income_type'].value_counts())\n",
    "print(df['children'].value_counts())"
   ]
  },
  {
   "cell_type": "markdown",
   "metadata": {},
   "source": [
    "Дубликаты есть в колонке 'education'. Решим эту проблему приведением всех данных в этом столбце к нижнему регистру.\n",
    "В столбце 'gender' есть проблема в одной строке с недостоверно указанным полом. В столбце 'children' есть ошибки связанные, скорее всего, с не корректным вводом данных: -1 ребёнок - преобразуем в 1, 20 детей - опечатка - преобразуем в 2."
   ]
  },
  {
   "cell_type": "code",
   "execution_count": 11,
   "metadata": {
    "scrolled": true
   },
   "outputs": [
    {
     "data": {
      "text/plain": [
       "среднее                15181\n",
       "высшее                  5248\n",
       "неоконченное высшее      744\n",
       "начальное                282\n",
       "ученая степень             6\n",
       "Name: education, dtype: int64"
      ]
     },
     "execution_count": 11,
     "metadata": {},
     "output_type": "execute_result"
    }
   ],
   "source": [
    "#приведём данные к нижнему регистру\n",
    "df['education'] = df['education'].str.lower()\n",
    "#проверим\n",
    "df['education'].value_counts()"
   ]
  },
  {
   "cell_type": "code",
   "execution_count": 12,
   "metadata": {},
   "outputs": [
    {
     "data": {
      "text/html": [
       "<div>\n",
       "<style scoped>\n",
       "    .dataframe tbody tr th:only-of-type {\n",
       "        vertical-align: middle;\n",
       "    }\n",
       "\n",
       "    .dataframe tbody tr th {\n",
       "        vertical-align: top;\n",
       "    }\n",
       "\n",
       "    .dataframe thead th {\n",
       "        text-align: right;\n",
       "    }\n",
       "</style>\n",
       "<table border=\"1\" class=\"dataframe\">\n",
       "  <thead>\n",
       "    <tr style=\"text-align: right;\">\n",
       "      <th></th>\n",
       "      <th>children</th>\n",
       "      <th>days_employed</th>\n",
       "      <th>dob_years</th>\n",
       "      <th>education</th>\n",
       "      <th>education_id</th>\n",
       "      <th>family_status</th>\n",
       "      <th>family_status_id</th>\n",
       "      <th>gender</th>\n",
       "      <th>income_type</th>\n",
       "      <th>debt</th>\n",
       "      <th>total_income</th>\n",
       "      <th>purpose</th>\n",
       "    </tr>\n",
       "  </thead>\n",
       "  <tbody>\n",
       "    <tr>\n",
       "      <td>10683</td>\n",
       "      <td>0</td>\n",
       "      <td>2358</td>\n",
       "      <td>24</td>\n",
       "      <td>неоконченное высшее</td>\n",
       "      <td>2</td>\n",
       "      <td>гражданский брак</td>\n",
       "      <td>1</td>\n",
       "      <td>XNA</td>\n",
       "      <td>компаньон</td>\n",
       "      <td>0</td>\n",
       "      <td>203905</td>\n",
       "      <td>покупка недвижимости</td>\n",
       "    </tr>\n",
       "  </tbody>\n",
       "</table>\n",
       "</div>"
      ],
      "text/plain": [
       "       children  days_employed  dob_years            education  education_id  \\\n",
       "10683         0           2358         24  неоконченное высшее             2   \n",
       "\n",
       "          family_status  family_status_id gender income_type  debt  \\\n",
       "10683  гражданский брак                 1    XNA   компаньон     0   \n",
       "\n",
       "       total_income               purpose  \n",
       "10683        203905  покупка недвижимости  "
      ]
     },
     "execution_count": 12,
     "metadata": {},
     "output_type": "execute_result"
    }
   ],
   "source": [
    "#Посмотрим на лицо с неопределнным полом\n",
    "df[df['gender'] == 'XNA']"
   ]
  },
  {
   "cell_type": "code",
   "execution_count": 13,
   "metadata": {},
   "outputs": [
    {
     "name": "stdout",
     "output_type": "stream",
     "text": [
      "F    14182\n",
      "M     7279\n",
      "Name: gender, dtype: int64\n",
      "0    14099\n",
      "1     4855\n",
      "2     2128\n",
      "3      329\n",
      "4       41\n",
      "5        9\n",
      "Name: children, dtype: int64\n"
     ]
    }
   ],
   "source": [
    "#так как в таблице женщин больше в 2 раза чем мужчин, пусть это будет женщина\n",
    "df.loc[df['gender'] == 'XNA', 'gender'] = 'F'\n",
    "print(df['gender'].value_counts())\n",
    "#Преобразуем -1 и 20 детей\n",
    "df.loc[df['children'] == -1, 'children'] = 1\n",
    "df.loc[df['children'] == 20, 'children'] = 2\n",
    "print(df['children'].value_counts())"
   ]
  },
  {
   "cell_type": "markdown",
   "metadata": {},
   "source": [
    "**Вывод**"
   ]
  },
  {
   "cell_type": "markdown",
   "metadata": {},
   "source": [
    "Решена проблема с полными дубликатами строк и с дубликатами в разных регистрах. Также исправлены некоторые ошибки в данных."
   ]
  },
  {
   "cell_type": "markdown",
   "metadata": {},
   "source": [
    "### Лемматизация"
   ]
  },
  {
   "cell_type": "markdown",
   "metadata": {},
   "source": [
    "В колонке с целями кредита, слишком много разных уникальных значений, по смыслу похожих. Необходимо категоризировать их по смыслу. Для этого применим лемматизацию."
   ]
  },
  {
   "cell_type": "code",
   "execution_count": 14,
   "metadata": {},
   "outputs": [
    {
     "data": {
      "text/plain": [
       "свадьба                                   792\n",
       "на проведение свадьбы                     772\n",
       "сыграть свадьбу                           769\n",
       "операции с недвижимостью                  675\n",
       "покупка коммерческой недвижимости         662\n",
       "покупка жилья для сдачи                   652\n",
       "операции с жильем                         652\n",
       "операции с коммерческой недвижимостью     649\n",
       "покупка жилья                             646\n",
       "жилье                                     644\n",
       "покупка жилья для семьи                   638\n",
       "строительство собственной недвижимости    635\n",
       "недвижимость                              631\n",
       "операции со своей недвижимостью           627\n",
       "строительство жилой недвижимости          625\n",
       "покупка своего жилья                      620\n",
       "покупка недвижимости                      620\n",
       "строительство недвижимости                619\n",
       "ремонт жилью                              606\n",
       "покупка жилой недвижимости                605\n",
       "на покупку своего автомобиля              505\n",
       "заняться высшим образованием              496\n",
       "автомобиль                                494\n",
       "сделка с подержанным автомобилем          486\n",
       "свой автомобиль                           479\n",
       "на покупку подержанного автомобиля        478\n",
       "автомобили                                478\n",
       "на покупку автомобиля                     472\n",
       "приобретение автомобиля                   461\n",
       "дополнительное образование                460\n",
       "сделка с автомобилем                      455\n",
       "высшее образование                        452\n",
       "образование                               447\n",
       "получение дополнительного образования     447\n",
       "получение образования                     442\n",
       "профильное образование                    436\n",
       "получение высшего образования             426\n",
       "заняться образованием                     408\n",
       "Name: purpose, dtype: int64"
      ]
     },
     "execution_count": 14,
     "metadata": {},
     "output_type": "execute_result"
    }
   ],
   "source": [
    "#создаём список уникальных целей кредита\n",
    "purpose = df['purpose'].unique()\n",
    "\n",
    "df['purpose'].value_counts()"
   ]
  },
  {
   "cell_type": "code",
   "execution_count": 15,
   "metadata": {},
   "outputs": [
    {
     "name": "stdout",
     "output_type": "stream",
     "text": [
      "['покупка жилья', ['покупка', 'жилье'], 'недвижимость']\n",
      "['приобретение автомобиля', ['приобретение', 'автомобиль'], 'автомобиль']\n",
      "['дополнительное образование', ['дополнительный', 'образование'], 'образование']\n",
      "['сыграть свадьбу', ['сыграть', 'свадьба'], 'свадьба']\n",
      "['операции с жильем', ['операция', 'жилье'], 'недвижимость']\n",
      "['образование', ['образование'], 'образование']\n",
      "['на проведение свадьбы', ['проведение', 'свадьба'], 'свадьба']\n",
      "['покупка жилья для семьи', ['покупка', 'жилье', 'для', 'семья'], 'недвижимость']\n",
      "['покупка недвижимости', ['покупка', 'недвижимость'], 'недвижимость']\n",
      "['покупка коммерческой недвижимости', ['покупка', 'коммерческий', 'недвижимость'], 'недвижимость']\n",
      "['покупка жилой недвижимости', ['покупка', 'жилой', 'недвижимость'], 'недвижимость']\n",
      "['строительство собственной недвижимости', ['строительство', 'собственный', 'недвижимость'], 'недвижимость']\n",
      "['недвижимость', ['недвижимость'], 'недвижимость']\n",
      "['строительство недвижимости', ['строительство', 'недвижимость'], 'недвижимость']\n",
      "['на покупку подержанного автомобиля', ['покупка', 'подержать', 'автомобиль'], 'автомобиль']\n",
      "['на покупку своего автомобиля', ['покупка', 'свой', 'автомобиль'], 'автомобиль']\n",
      "['операции с коммерческой недвижимостью', ['операция', 'коммерческий', 'недвижимость'], 'недвижимость']\n",
      "['строительство жилой недвижимости', ['строительство', 'жилой', 'недвижимость'], 'недвижимость']\n",
      "['жилье', ['жилье'], 'недвижимость']\n",
      "['операции со своей недвижимостью', ['операция', 'свой', 'недвижимость'], 'недвижимость']\n",
      "['автомобили', ['автомобиль'], 'автомобиль']\n",
      "['заняться образованием', ['заниматься', 'образование'], 'образование']\n",
      "['сделка с подержанным автомобилем', ['сделка', 'подержанный', 'автомобиль'], 'автомобиль']\n",
      "['получение образования', ['получение', 'образование'], 'образование']\n",
      "['автомобиль', ['автомобиль'], 'автомобиль']\n",
      "['свадьба', ['свадьба'], 'свадьба']\n",
      "['получение дополнительного образования', ['получение', 'дополнительный', 'образование'], 'образование']\n",
      "['покупка своего жилья', ['покупка', 'свой', 'жилье'], 'недвижимость']\n",
      "['операции с недвижимостью', ['операция', 'недвижимость'], 'недвижимость']\n",
      "['получение высшего образования', ['получение', 'высокий', 'образование'], 'образование']\n",
      "['свой автомобиль', ['свой', 'автомобиль'], 'автомобиль']\n",
      "['сделка с автомобилем', ['сделка', 'автомобиль'], 'автомобиль']\n",
      "['профильное образование', ['профильный', 'образование'], 'образование']\n",
      "['высшее образование', ['высокий', 'образование'], 'образование']\n",
      "['покупка жилья для сдачи', ['покупка', 'жилье', 'для', 'сдача'], 'недвижимость']\n",
      "['на покупку автомобиля', ['покупка', 'автомобиль'], 'автомобиль']\n",
      "['ремонт жилью', ['ремонт', 'жилье'], 'недвижимость']\n",
      "['заняться высшим образованием', ['заниматься', 'высокий', 'образование'], 'образование']\n"
     ]
    }
   ],
   "source": [
    "m = Mystem()\n",
    "#создаём таблицу: ['полная фраза', '[список лем']]\n",
    "purpose_table = []\n",
    "for item in purpose:\n",
    "    row = [item, m.lemmatize(item)]\n",
    "    purpose_table.append(row)\n",
    "#чистим список лем от коротких слов и пробелов   \n",
    "for i in range(len(purpose_table)):\n",
    "    new_lem = []\n",
    "    for item in purpose_table[i][1]:\n",
    "        if len(item) > 2:\n",
    "            new_lem.append(item)\n",
    "    purpose_table[i][1] = new_lem\n",
    "#Создаём список категорий по лемам состоящим из одного слова\n",
    "category = []\n",
    "for item in purpose_table:\n",
    "    if (len(item[1]) == 1) & (item[1][0] not in category):             \n",
    "        category.append(item[1][0])\n",
    "#определяем к каким категориям относятся фразы из полного списка\n",
    "for i in range(len(purpose_table)):\n",
    "    for cat in category:\n",
    "        if cat in purpose_table[i][1]:\n",
    "            purpose_table[i].append(cat)\n",
    "#Категории жильё и недвижимость даже лематизация не объединила\n",
    "#Заменим жильё на недвижимость, так как это, фактически, одна категория\n",
    "for i in range(len(purpose_table)):\n",
    "    if purpose_table[i][2] == 'жилье':\n",
    "        purpose_table[i][2] = 'недвижимость'\n",
    "        \n",
    "for i in purpose_table:\n",
    "    print(i)\n"
   ]
  },
  {
   "cell_type": "code",
   "execution_count": 16,
   "metadata": {},
   "outputs": [],
   "source": [
    "#Замена значений в колонке 'purpose' на лематизированные\n",
    "def purpose_rename(purpose_frse):\n",
    "    for purp in purpose_table:\n",
    "        if purpose_frse == purp[0]:\n",
    "            return purp[2]\n",
    "        \n",
    "df['purpose'] = df['purpose'].apply(purpose_rename)\n"
   ]
  },
  {
   "cell_type": "code",
   "execution_count": 17,
   "metadata": {
    "scrolled": true
   },
   "outputs": [
    {
     "data": {
      "text/plain": [
       "недвижимость    10806\n",
       "автомобиль       4308\n",
       "образование      4014\n",
       "свадьба          2333\n",
       "Name: purpose, dtype: int64"
      ]
     },
     "execution_count": 17,
     "metadata": {},
     "output_type": "execute_result"
    }
   ],
   "source": [
    "df['purpose'].value_counts()"
   ]
  },
  {
   "cell_type": "markdown",
   "metadata": {},
   "source": [
    "**Вывод**"
   ]
  },
  {
   "cell_type": "markdown",
   "metadata": {},
   "source": [
    "Лематизация помогла привести три десятка целей кредитования к четырём."
   ]
  },
  {
   "cell_type": "markdown",
   "metadata": {},
   "source": [
    "### Категоризация данных"
   ]
  },
  {
   "cell_type": "markdown",
   "metadata": {},
   "source": [
    "В таблице с данными можно выделить следующие категориальные данные:\n",
    "- 'dob_years' - Для дальнейшего анализа данных, будет полезным возраст представить в виде возрастных категорий.\n",
    "- 'gender' - занимает один столбец и содержит по одному символу в строке. Нет смысла что либо ещё с этим делать.\n",
    "- 'education', 'family_status', 'income_type' и 'purpose' для удобства работы, уменьшения объёма занимаемой памяти и увеличения скорости обработки произведм категоризацию по значению. Необходимо создать словарь для каждой из этих колонок, а в основной таблице оставим только идентификаторы категорий. Причём, для двух из них, идентификаторы уже есть: 'education_id' и'family_status_id'. \n",
    "- Для дальнейшего анализа, необходимо выделить категорию наличия и отсутствия детей, а также выдилить категории по уровню общего дохода.\n"
   ]
  },
  {
   "cell_type": "code",
   "execution_count": 18,
   "metadata": {},
   "outputs": [
    {
     "data": {
      "text/html": [
       "<div>\n",
       "<style scoped>\n",
       "    .dataframe tbody tr th:only-of-type {\n",
       "        vertical-align: middle;\n",
       "    }\n",
       "\n",
       "    .dataframe tbody tr th {\n",
       "        vertical-align: top;\n",
       "    }\n",
       "\n",
       "    .dataframe thead th {\n",
       "        text-align: right;\n",
       "    }\n",
       "</style>\n",
       "<table border=\"1\" class=\"dataframe\">\n",
       "  <thead>\n",
       "    <tr style=\"text-align: right;\">\n",
       "      <th></th>\n",
       "      <th>education</th>\n",
       "    </tr>\n",
       "  </thead>\n",
       "  <tbody>\n",
       "    <tr>\n",
       "      <td>0</td>\n",
       "      <td>высшее</td>\n",
       "    </tr>\n",
       "    <tr>\n",
       "      <td>1</td>\n",
       "      <td>среднее</td>\n",
       "    </tr>\n",
       "    <tr>\n",
       "      <td>2</td>\n",
       "      <td>неоконченное высшее</td>\n",
       "    </tr>\n",
       "    <tr>\n",
       "      <td>3</td>\n",
       "      <td>начальное</td>\n",
       "    </tr>\n",
       "    <tr>\n",
       "      <td>4</td>\n",
       "      <td>ученая степень</td>\n",
       "    </tr>\n",
       "  </tbody>\n",
       "</table>\n",
       "</div>"
      ],
      "text/plain": [
       "             education\n",
       "0               высшее\n",
       "1              среднее\n",
       "2  неоконченное высшее\n",
       "3            начальное\n",
       "4       ученая степень"
      ]
     },
     "metadata": {},
     "output_type": "display_data"
    },
    {
     "data": {
      "text/html": [
       "<div>\n",
       "<style scoped>\n",
       "    .dataframe tbody tr th:only-of-type {\n",
       "        vertical-align: middle;\n",
       "    }\n",
       "\n",
       "    .dataframe tbody tr th {\n",
       "        vertical-align: top;\n",
       "    }\n",
       "\n",
       "    .dataframe thead th {\n",
       "        text-align: right;\n",
       "    }\n",
       "</style>\n",
       "<table border=\"1\" class=\"dataframe\">\n",
       "  <thead>\n",
       "    <tr style=\"text-align: right;\">\n",
       "      <th></th>\n",
       "      <th>family_status</th>\n",
       "    </tr>\n",
       "  </thead>\n",
       "  <tbody>\n",
       "    <tr>\n",
       "      <td>0</td>\n",
       "      <td>женат / замужем</td>\n",
       "    </tr>\n",
       "    <tr>\n",
       "      <td>1</td>\n",
       "      <td>гражданский брак</td>\n",
       "    </tr>\n",
       "    <tr>\n",
       "      <td>2</td>\n",
       "      <td>вдовец / вдова</td>\n",
       "    </tr>\n",
       "    <tr>\n",
       "      <td>3</td>\n",
       "      <td>в разводе</td>\n",
       "    </tr>\n",
       "    <tr>\n",
       "      <td>4</td>\n",
       "      <td>Не женат / не замужем</td>\n",
       "    </tr>\n",
       "  </tbody>\n",
       "</table>\n",
       "</div>"
      ],
      "text/plain": [
       "           family_status\n",
       "0        женат / замужем\n",
       "1       гражданский брак\n",
       "2         вдовец / вдова\n",
       "3              в разводе\n",
       "4  Не женат / не замужем"
      ]
     },
     "metadata": {},
     "output_type": "display_data"
    },
    {
     "data": {
      "text/html": [
       "<div>\n",
       "<style scoped>\n",
       "    .dataframe tbody tr th:only-of-type {\n",
       "        vertical-align: middle;\n",
       "    }\n",
       "\n",
       "    .dataframe tbody tr th {\n",
       "        vertical-align: top;\n",
       "    }\n",
       "\n",
       "    .dataframe thead th {\n",
       "        text-align: right;\n",
       "    }\n",
       "</style>\n",
       "<table border=\"1\" class=\"dataframe\">\n",
       "  <thead>\n",
       "    <tr style=\"text-align: right;\">\n",
       "      <th></th>\n",
       "      <th>income_type</th>\n",
       "    </tr>\n",
       "  </thead>\n",
       "  <tbody>\n",
       "    <tr>\n",
       "      <td>0</td>\n",
       "      <td>сотрудник</td>\n",
       "    </tr>\n",
       "    <tr>\n",
       "      <td>1</td>\n",
       "      <td>пенсионер</td>\n",
       "    </tr>\n",
       "    <tr>\n",
       "      <td>2</td>\n",
       "      <td>компаньон</td>\n",
       "    </tr>\n",
       "    <tr>\n",
       "      <td>3</td>\n",
       "      <td>госслужащий</td>\n",
       "    </tr>\n",
       "    <tr>\n",
       "      <td>4</td>\n",
       "      <td>безработный</td>\n",
       "    </tr>\n",
       "    <tr>\n",
       "      <td>5</td>\n",
       "      <td>предприниматель</td>\n",
       "    </tr>\n",
       "    <tr>\n",
       "      <td>6</td>\n",
       "      <td>студент</td>\n",
       "    </tr>\n",
       "    <tr>\n",
       "      <td>7</td>\n",
       "      <td>в декрете</td>\n",
       "    </tr>\n",
       "  </tbody>\n",
       "</table>\n",
       "</div>"
      ],
      "text/plain": [
       "       income_type\n",
       "0        сотрудник\n",
       "1        пенсионер\n",
       "2        компаньон\n",
       "3      госслужащий\n",
       "4      безработный\n",
       "5  предприниматель\n",
       "6          студент\n",
       "7        в декрете"
      ]
     },
     "metadata": {},
     "output_type": "display_data"
    },
    {
     "data": {
      "text/html": [
       "<div>\n",
       "<style scoped>\n",
       "    .dataframe tbody tr th:only-of-type {\n",
       "        vertical-align: middle;\n",
       "    }\n",
       "\n",
       "    .dataframe tbody tr th {\n",
       "        vertical-align: top;\n",
       "    }\n",
       "\n",
       "    .dataframe thead th {\n",
       "        text-align: right;\n",
       "    }\n",
       "</style>\n",
       "<table border=\"1\" class=\"dataframe\">\n",
       "  <thead>\n",
       "    <tr style=\"text-align: right;\">\n",
       "      <th></th>\n",
       "      <th>purpose</th>\n",
       "    </tr>\n",
       "  </thead>\n",
       "  <tbody>\n",
       "    <tr>\n",
       "      <td>0</td>\n",
       "      <td>недвижимость</td>\n",
       "    </tr>\n",
       "    <tr>\n",
       "      <td>1</td>\n",
       "      <td>автомобиль</td>\n",
       "    </tr>\n",
       "    <tr>\n",
       "      <td>2</td>\n",
       "      <td>образование</td>\n",
       "    </tr>\n",
       "    <tr>\n",
       "      <td>3</td>\n",
       "      <td>свадьба</td>\n",
       "    </tr>\n",
       "  </tbody>\n",
       "</table>\n",
       "</div>"
      ],
      "text/plain": [
       "        purpose\n",
       "0  недвижимость\n",
       "1    автомобиль\n",
       "2   образование\n",
       "3       свадьба"
      ]
     },
     "metadata": {},
     "output_type": "display_data"
    }
   ],
   "source": [
    "#Создание словаря для 'education'\n",
    "education_dict = df[['education','education_id']]\n",
    "education_dict = education_dict.drop_duplicates().reset_index(drop=True)\n",
    "#Т.к. индексы строк и значения колонки 'education_id' равны, в качестве идентификаторов будем использовать индексы строк.\n",
    "education_dict = education_dict.drop(columns='education_id')\n",
    "display(education_dict)\n",
    "\n",
    "#Создание словаря для 'family_status'\n",
    "family_status_dict = df[['family_status','family_status_id']]\n",
    "family_status_dict = family_status_dict.drop_duplicates().reset_index(drop=True)\n",
    "#Т.к. индексы строк и значения колонки 'family_status_id' равны, в качестве идентификаторов будем использовать индексы строк.\n",
    "family_status_dict = family_status_dict.drop(columns='family_status_id')\n",
    "display(family_status_dict)\n",
    "\n",
    "#Создание словаря для 'income_type'\n",
    "income_type_dict = df[['income_type']]\n",
    "income_type_dict = income_type_dict.drop_duplicates().reset_index(drop=True)\n",
    "display(income_type_dict)\n",
    "\n",
    "#Создание словаря для 'purpose'\n",
    "purpose_dict = df[['purpose']]\n",
    "purpose_dict = purpose_dict.drop_duplicates().reset_index(drop=True)\n",
    "display(purpose_dict)"
   ]
  },
  {
   "cell_type": "code",
   "execution_count": 19,
   "metadata": {},
   "outputs": [],
   "source": [
    "#Добавление колонки 'income_type_id'\n",
    "def id_income_type(income):\n",
    "    return  income_type_dict[income_type_dict['income_type'] == income].index[0]\n",
    "\n",
    "df['income_type_id'] = df['income_type'].apply(id_income_type)"
   ]
  },
  {
   "cell_type": "code",
   "execution_count": 20,
   "metadata": {},
   "outputs": [],
   "source": [
    "#Добавление колонки 'purpose_id'\n",
    "def id_purpose(purp):\n",
    "    return  purpose_dict[purpose_dict['purpose'] == purp].index[0]\n",
    "\n",
    "\n",
    "df['purpose_id'] = df['purpose'].apply(id_purpose)"
   ]
  },
  {
   "cell_type": "code",
   "execution_count": 21,
   "metadata": {},
   "outputs": [],
   "source": [
    "#Добавление колонки возрастной категории 'years_cat'\n",
    "def years_category(year):\n",
    "    for cat in age_category:\n",
    "        if cat[0] <= year <= cat[1]:\n",
    "            return str(cat[0]) + '-' + str(cat[1])\n",
    "            \n",
    "df['years_cat'] = df['dob_years'].apply(years_category)"
   ]
  },
  {
   "cell_type": "code",
   "execution_count": 22,
   "metadata": {},
   "outputs": [],
   "source": [
    "#Добавление колонки катенории наличие/отсутствие детей 'child_ststus'\n",
    "def child_category(child):\n",
    "    if child == 0:\n",
    "        return 0\n",
    "    else:\n",
    "        return 1\n",
    "            \n",
    "df['child_status'] = df['children'].apply(child_category)"
   ]
  },
  {
   "cell_type": "code",
   "execution_count": 23,
   "metadata": {},
   "outputs": [],
   "source": [
    "#Сисок категорий уровня доходов\n",
    "total_income_cat = [100000, 150000, 200000, 300000, 2500000]\n",
    "\n",
    "def income_category(income):\n",
    "    for cat in total_income_cat:\n",
    "        if income <= cat:\n",
    "            return cat\n",
    "\n",
    "df['income_category'] = df['total_income'].apply(income_category)"
   ]
  },
  {
   "cell_type": "code",
   "execution_count": 24,
   "metadata": {},
   "outputs": [
    {
     "data": {
      "text/plain": [
       "150000     6742\n",
       "200000     5190\n",
       "100000     4463\n",
       "300000     3584\n",
       "2500000    1482\n",
       "Name: income_category, dtype: int64"
      ]
     },
     "execution_count": 24,
     "metadata": {},
     "output_type": "execute_result"
    }
   ],
   "source": [
    "#Удаление лишних колонок\n",
    "df = df.drop(columns=['education', 'family_status', 'income_type', 'purpose'])\n",
    "df['income_category'].value_counts()"
   ]
  },
  {
   "cell_type": "code",
   "execution_count": 25,
   "metadata": {},
   "outputs": [
    {
     "name": "stdout",
     "output_type": "stream",
     "text": [
      "<class 'pandas.core.frame.DataFrame'>\n",
      "RangeIndex: 21461 entries, 0 to 21460\n",
      "Data columns (total 13 columns):\n",
      "children            21461 non-null int64\n",
      "days_employed       21461 non-null int64\n",
      "dob_years           21461 non-null int64\n",
      "education_id        21461 non-null int64\n",
      "family_status_id    21461 non-null int64\n",
      "gender              21461 non-null object\n",
      "debt                21461 non-null int64\n",
      "total_income        21461 non-null int64\n",
      "income_type_id      21461 non-null int64\n",
      "purpose_id          21461 non-null int64\n",
      "years_cat           21461 non-null object\n",
      "child_status        21461 non-null int64\n",
      "income_category     21461 non-null int64\n",
      "dtypes: int64(11), object(2)\n",
      "memory usage: 2.1+ MB\n"
     ]
    }
   ],
   "source": [
    "df.info()"
   ]
  },
  {
   "cell_type": "markdown",
   "metadata": {},
   "source": [
    "**Вывод**"
   ]
  },
  {
   "cell_type": "markdown",
   "metadata": {},
   "source": [
    "Произвдена обработка категоризированных данных, а также введены новые категории. Данные меры позволят более качественно анализировать данные."
   ]
  },
  {
   "cell_type": "markdown",
   "metadata": {},
   "source": [
    "## Шаг 3. Ответьте на вопросы"
   ]
  },
  {
   "cell_type": "markdown",
   "metadata": {},
   "source": [
    "### Есть ли зависимость между наличием детей и возвратом кредита в срок?"
   ]
  },
  {
   "cell_type": "code",
   "execution_count": 26,
   "metadata": {},
   "outputs": [
    {
     "data": {
      "text/html": [
       "<div>\n",
       "<style scoped>\n",
       "    .dataframe tbody tr th:only-of-type {\n",
       "        vertical-align: middle;\n",
       "    }\n",
       "\n",
       "    .dataframe tbody tr th {\n",
       "        vertical-align: top;\n",
       "    }\n",
       "\n",
       "    .dataframe thead th {\n",
       "        text-align: right;\n",
       "    }\n",
       "</style>\n",
       "<table border=\"1\" class=\"dataframe\">\n",
       "  <thead>\n",
       "    <tr style=\"text-align: right;\">\n",
       "      <th>debt</th>\n",
       "      <th>0</th>\n",
       "      <th>1</th>\n",
       "      <th>all</th>\n",
       "      <th>percent</th>\n",
       "      <th>child_status</th>\n",
       "    </tr>\n",
       "    <tr>\n",
       "      <th>child_status</th>\n",
       "      <th></th>\n",
       "      <th></th>\n",
       "      <th></th>\n",
       "      <th></th>\n",
       "      <th></th>\n",
       "    </tr>\n",
       "  </thead>\n",
       "  <tbody>\n",
       "    <tr>\n",
       "      <td>0</td>\n",
       "      <td>13036</td>\n",
       "      <td>1063</td>\n",
       "      <td>14099</td>\n",
       "      <td>7.539542</td>\n",
       "      <td>Бездетные</td>\n",
       "    </tr>\n",
       "    <tr>\n",
       "      <td>1</td>\n",
       "      <td>6684</td>\n",
       "      <td>678</td>\n",
       "      <td>7362</td>\n",
       "      <td>9.209454</td>\n",
       "      <td>С детьми</td>\n",
       "    </tr>\n",
       "  </tbody>\n",
       "</table>\n",
       "</div>"
      ],
      "text/plain": [
       "debt              0     1    all   percent child_status\n",
       "child_status                                           \n",
       "0             13036  1063  14099  7.539542    Бездетные\n",
       "1              6684   678   7362  9.209454     С детьми"
      ]
     },
     "metadata": {},
     "output_type": "display_data"
    },
    {
     "name": "stdout",
     "output_type": "stream",
     "text": [
      "Замщики с детьми, в среднем на 18.1% чаще имеют задолженности чем бездетные.\n"
     ]
    }
   ],
   "source": [
    "#Сводная таблица\n",
    "children_pivot = df.pivot_table(index='child_status', columns='debt', values='purpose_id', aggfunc='count')\n",
    "children_pivot['all'] = children_pivot[0] + children_pivot[1]\n",
    "children_pivot['percent'] = children_pivot[1] / children_pivot['all'] * 100\n",
    "children_pivot['child_status'] = ['Бездетные','С детьми']\n",
    "display(children_pivot)\n",
    "#Сравнение процента задолженности клиентов с детьми и бездетных\n",
    "percent_cild = 100 - children_pivot.loc[0, 'percent'] / children_pivot.loc[1,'percent'] * 100\n",
    "print(f'Замщики с детьми, в среднем на {percent_cild:.3}% чаще имеют задолженности чем бездетные.')"
   ]
  },
  {
   "cell_type": "markdown",
   "metadata": {},
   "source": [
    "**Вывод**"
   ]
  },
  {
   "cell_type": "markdown",
   "metadata": {},
   "source": [
    "Зависимость между наличием детей и возвратом кредита в срок есть. Замщики с детьми, в среднем на 18.1% чаще имеют задолженности чем бездетные."
   ]
  },
  {
   "cell_type": "markdown",
   "metadata": {},
   "source": [
    "### Есть ли зависимость между семейным положением и возвратом кредита в срок?"
   ]
  },
  {
   "cell_type": "code",
   "execution_count": 27,
   "metadata": {},
   "outputs": [
    {
     "data": {
      "text/html": [
       "<div>\n",
       "<style scoped>\n",
       "    .dataframe tbody tr th:only-of-type {\n",
       "        vertical-align: middle;\n",
       "    }\n",
       "\n",
       "    .dataframe tbody tr th {\n",
       "        vertical-align: top;\n",
       "    }\n",
       "\n",
       "    .dataframe thead th {\n",
       "        text-align: right;\n",
       "    }\n",
       "</style>\n",
       "<table border=\"1\" class=\"dataframe\">\n",
       "  <thead>\n",
       "    <tr style=\"text-align: right;\">\n",
       "      <th>debt</th>\n",
       "      <th>0</th>\n",
       "      <th>1</th>\n",
       "      <th>all</th>\n",
       "      <th>percent</th>\n",
       "      <th>family_status_id</th>\n",
       "    </tr>\n",
       "    <tr>\n",
       "      <th>family_status_id</th>\n",
       "      <th></th>\n",
       "      <th></th>\n",
       "      <th></th>\n",
       "      <th></th>\n",
       "      <th></th>\n",
       "    </tr>\n",
       "  </thead>\n",
       "  <tbody>\n",
       "    <tr>\n",
       "      <td>0</td>\n",
       "      <td>11409</td>\n",
       "      <td>931</td>\n",
       "      <td>12340</td>\n",
       "      <td>7.544571</td>\n",
       "      <td>женат / замужем</td>\n",
       "    </tr>\n",
       "    <tr>\n",
       "      <td>1</td>\n",
       "      <td>3772</td>\n",
       "      <td>388</td>\n",
       "      <td>4160</td>\n",
       "      <td>9.326923</td>\n",
       "      <td>гражданский брак</td>\n",
       "    </tr>\n",
       "    <tr>\n",
       "      <td>2</td>\n",
       "      <td>895</td>\n",
       "      <td>63</td>\n",
       "      <td>958</td>\n",
       "      <td>6.576200</td>\n",
       "      <td>вдовец / вдова</td>\n",
       "    </tr>\n",
       "    <tr>\n",
       "      <td>3</td>\n",
       "      <td>1109</td>\n",
       "      <td>85</td>\n",
       "      <td>1194</td>\n",
       "      <td>7.118928</td>\n",
       "      <td>в разводе</td>\n",
       "    </tr>\n",
       "    <tr>\n",
       "      <td>4</td>\n",
       "      <td>2535</td>\n",
       "      <td>274</td>\n",
       "      <td>2809</td>\n",
       "      <td>9.754361</td>\n",
       "      <td>Не женат / не замужем</td>\n",
       "    </tr>\n",
       "  </tbody>\n",
       "</table>\n",
       "</div>"
      ],
      "text/plain": [
       "debt                  0    1    all   percent       family_status_id\n",
       "family_status_id                                                    \n",
       "0                 11409  931  12340  7.544571        женат / замужем\n",
       "1                  3772  388   4160  9.326923       гражданский брак\n",
       "2                   895   63    958  6.576200         вдовец / вдова\n",
       "3                  1109   85   1194  7.118928              в разводе\n",
       "4                  2535  274   2809  9.754361  Не женат / не замужем"
      ]
     },
     "metadata": {},
     "output_type": "display_data"
    },
    {
     "name": "stdout",
     "output_type": "stream",
     "text": [
      "Женатые и замужние замщики, в среднем на 9.24% чаще имеют задолженности чем разведнные и вдовы.\n",
      "Живущие гражданским браком и разведённые, в среднем на 28.2% чаще имеют задолженности чем разведнные и вдовы.\n"
     ]
    }
   ],
   "source": [
    "#Сводная таблица\n",
    "family_pivot = df.pivot_table(index='family_status_id', columns='debt', values='purpose_id', aggfunc='count')\n",
    "family_pivot['all'] = family_pivot[0] + family_pivot[1]\n",
    "family_pivot['percent'] = family_pivot[1] / family_pivot['all'] * 100\n",
    "family_pivot['family_status_id'] = family_status_dict['family_status']\n",
    "display(family_pivot)\n",
    "#Сравнение процента задолженности между категориями\n",
    "percent_avr = 100 - (family_pivot.loc[2:3, 'percent'].mean()) / family_pivot.loc[0,'percent'] * 100\n",
    "print(f'Женатые и замужние замщики, в среднем на {percent_avr:.3}% чаще имеют задолженности чем разведнные и вдовы.')\n",
    "percent_worse = 100 - (family_pivot.loc[2:3, 'percent'].mean()) / family_pivot.loc[[1,4],'percent'].mean() * 100\n",
    "print(f'Живущие гражданским браком и разведённые, в среднем на {percent_worse:.3}% чаще имеют задолженности чем разведнные и вдовы.')"
   ]
  },
  {
   "cell_type": "markdown",
   "metadata": {},
   "source": [
    "**Вывод**"
   ]
  },
  {
   "cell_type": "markdown",
   "metadata": {},
   "source": [
    "Зависимость между семейным положением и возвратом кредита в срок, так же, прослеживается.\n",
    "- Самые наджные замщики - вдовцы, вдовы и люди в разводе. \n",
    "- Следующие по рейтингу - семейные. Они, в среднем, на 9.24% чаще имеют задолженности чем разведнные и вдовы.\n",
    "- Самые не надёжные - живущие гражданским браком и разведённые. Они, в среднем, на 28.2% чаще имеют задолженности чем разведнные и вдовы.\n"
   ]
  },
  {
   "cell_type": "markdown",
   "metadata": {},
   "source": [
    "### Есть ли зависимость между уровнем дохода и возвратом кредита в срок?"
   ]
  },
  {
   "cell_type": "code",
   "execution_count": 28,
   "metadata": {},
   "outputs": [
    {
     "data": {
      "text/html": [
       "<div>\n",
       "<style scoped>\n",
       "    .dataframe tbody tr th:only-of-type {\n",
       "        vertical-align: middle;\n",
       "    }\n",
       "\n",
       "    .dataframe tbody tr th {\n",
       "        vertical-align: top;\n",
       "    }\n",
       "\n",
       "    .dataframe thead th {\n",
       "        text-align: right;\n",
       "    }\n",
       "</style>\n",
       "<table border=\"1\" class=\"dataframe\">\n",
       "  <thead>\n",
       "    <tr style=\"text-align: right;\">\n",
       "      <th>debt</th>\n",
       "      <th>0</th>\n",
       "      <th>1</th>\n",
       "      <th>all</th>\n",
       "      <th>percent</th>\n",
       "    </tr>\n",
       "    <tr>\n",
       "      <th>income_category</th>\n",
       "      <th></th>\n",
       "      <th></th>\n",
       "      <th></th>\n",
       "      <th></th>\n",
       "    </tr>\n",
       "  </thead>\n",
       "  <tbody>\n",
       "    <tr>\n",
       "      <td>100000</td>\n",
       "      <td>4109</td>\n",
       "      <td>354</td>\n",
       "      <td>4463</td>\n",
       "      <td>7.931884</td>\n",
       "    </tr>\n",
       "    <tr>\n",
       "      <td>150000</td>\n",
       "      <td>6167</td>\n",
       "      <td>575</td>\n",
       "      <td>6742</td>\n",
       "      <td>8.528627</td>\n",
       "    </tr>\n",
       "    <tr>\n",
       "      <td>200000</td>\n",
       "      <td>4736</td>\n",
       "      <td>454</td>\n",
       "      <td>5190</td>\n",
       "      <td>8.747592</td>\n",
       "    </tr>\n",
       "    <tr>\n",
       "      <td>300000</td>\n",
       "      <td>3332</td>\n",
       "      <td>252</td>\n",
       "      <td>3584</td>\n",
       "      <td>7.031250</td>\n",
       "    </tr>\n",
       "    <tr>\n",
       "      <td>2500000</td>\n",
       "      <td>1376</td>\n",
       "      <td>106</td>\n",
       "      <td>1482</td>\n",
       "      <td>7.152497</td>\n",
       "    </tr>\n",
       "  </tbody>\n",
       "</table>\n",
       "</div>"
      ],
      "text/plain": [
       "debt                0    1   all   percent\n",
       "income_category                           \n",
       "100000           4109  354  4463  7.931884\n",
       "150000           6167  575  6742  8.528627\n",
       "200000           4736  454  5190  8.747592\n",
       "300000           3332  252  3584  7.031250\n",
       "2500000          1376  106  1482  7.152497"
      ]
     },
     "metadata": {},
     "output_type": "display_data"
    },
    {
     "name": "stdout",
     "output_type": "stream",
     "text": [
      "Люди с низким и средним уровнем дохода, в среднем на 15.6% чаще имеют задолженности чем люди с высокими доходами.\n"
     ]
    }
   ],
   "source": [
    "#Сводная таблица\n",
    "income_pivot = df.pivot_table(index='income_category', columns='debt', values='purpose_id', aggfunc='count')\n",
    "income_pivot['all'] = income_pivot[0] + income_pivot[1]\n",
    "income_pivot['percent'] = income_pivot[1] / income_pivot['all'] * 100\n",
    "display(income_pivot)\n",
    "\n",
    "#Сравнение процента задолженности клиентов между категориями\n",
    "poor_cry_more = 100 - (income_pivot.loc[300000:2500000, 'percent'].mean()) / income_pivot.loc[100000:200000,'percent'].mean() * 100\n",
    "print(f'Люди с низким и средним уровнем дохода, в среднем на {poor_cry_more:.3}% чаще имеют задолженности чем люди с высокими доходами.')"
   ]
  },
  {
   "cell_type": "markdown",
   "metadata": {},
   "source": [
    "**Вывод**"
   ]
  },
  {
   "cell_type": "markdown",
   "metadata": {},
   "source": [
    "Зависимость между уровнем дохода и возвратом кредита в срок, определённо есть. Люди с низким и средним уровнем дохода, в среднем на 15.6% чаще имеют задолженности чем люди с высокими доходами."
   ]
  },
  {
   "cell_type": "markdown",
   "metadata": {},
   "source": [
    "### Как разные цели кредита влияют на его возврат в срок?"
   ]
  },
  {
   "cell_type": "code",
   "execution_count": 29,
   "metadata": {},
   "outputs": [
    {
     "data": {
      "text/html": [
       "<div>\n",
       "<style scoped>\n",
       "    .dataframe tbody tr th:only-of-type {\n",
       "        vertical-align: middle;\n",
       "    }\n",
       "\n",
       "    .dataframe tbody tr th {\n",
       "        vertical-align: top;\n",
       "    }\n",
       "\n",
       "    .dataframe thead th {\n",
       "        text-align: right;\n",
       "    }\n",
       "</style>\n",
       "<table border=\"1\" class=\"dataframe\">\n",
       "  <thead>\n",
       "    <tr style=\"text-align: right;\">\n",
       "      <th>debt</th>\n",
       "      <th>0</th>\n",
       "      <th>1</th>\n",
       "      <th>all</th>\n",
       "      <th>percent</th>\n",
       "      <th>family_status_id</th>\n",
       "    </tr>\n",
       "    <tr>\n",
       "      <th>purpose_id</th>\n",
       "      <th></th>\n",
       "      <th></th>\n",
       "      <th></th>\n",
       "      <th></th>\n",
       "      <th></th>\n",
       "    </tr>\n",
       "  </thead>\n",
       "  <tbody>\n",
       "    <tr>\n",
       "      <td>0</td>\n",
       "      <td>10024</td>\n",
       "      <td>782</td>\n",
       "      <td>10806</td>\n",
       "      <td>7.236720</td>\n",
       "      <td>недвижимость</td>\n",
       "    </tr>\n",
       "    <tr>\n",
       "      <td>1</td>\n",
       "      <td>3905</td>\n",
       "      <td>403</td>\n",
       "      <td>4308</td>\n",
       "      <td>9.354689</td>\n",
       "      <td>автомобиль</td>\n",
       "    </tr>\n",
       "    <tr>\n",
       "      <td>2</td>\n",
       "      <td>3644</td>\n",
       "      <td>370</td>\n",
       "      <td>4014</td>\n",
       "      <td>9.217738</td>\n",
       "      <td>образование</td>\n",
       "    </tr>\n",
       "    <tr>\n",
       "      <td>3</td>\n",
       "      <td>2147</td>\n",
       "      <td>186</td>\n",
       "      <td>2333</td>\n",
       "      <td>7.972568</td>\n",
       "      <td>свадьба</td>\n",
       "    </tr>\n",
       "  </tbody>\n",
       "</table>\n",
       "</div>"
      ],
      "text/plain": [
       "debt            0    1    all   percent family_status_id\n",
       "purpose_id                                              \n",
       "0           10024  782  10806  7.236720     недвижимость\n",
       "1            3905  403   4308  9.354689       автомобиль\n",
       "2            3644  370   4014  9.217738      образование\n",
       "3            2147  186   2333  7.972568          свадьба"
      ]
     },
     "metadata": {},
     "output_type": "display_data"
    },
    {
     "name": "stdout",
     "output_type": "stream",
     "text": [
      "Берущие кредит на автомобиль или образование, в среднем на 22.1% чаще имеют задолженности чем берущие кредит на недвижимость\n",
      "Берущие кредит на свадьбу, в среднем на 9.23% чаще имеют задолженности чем берущие кредит на недвижимость\n"
     ]
    }
   ],
   "source": [
    "#Сводная таблица\n",
    "purpose_pivot = df.pivot_table(index='purpose_id', columns='debt', values='total_income', aggfunc='count')\n",
    "purpose_pivot['all'] = purpose_pivot[0] + purpose_pivot[1]\n",
    "purpose_pivot['percent'] = purpose_pivot[1] / purpose_pivot['all'] * 100\n",
    "purpose_pivot['family_status_id'] = purpose_dict['purpose']\n",
    "display(purpose_pivot)\n",
    "\n",
    "#Сравнение процента задолженности между категориями\n",
    "percent_auto_obr = 100 - (purpose_pivot.loc[0, 'percent']) / purpose_pivot.loc[1:2,'percent'].mean() * 100\n",
    "print(f'Берущие кредит на автомобиль или образование, в среднем на {percent_auto_obr:.3}% чаще имеют задолженности чем берущие кредит на недвижимость')\n",
    "percent_marry = 100 - (purpose_pivot.loc[0, 'percent']) / purpose_pivot.loc[3,'percent'] * 100\n",
    "print(f'Берущие кредит на свадьбу, в среднем на {percent_marry:.3}% чаще имеют задолженности чем берущие кредит на недвижимость')\n"
   ]
  },
  {
   "cell_type": "markdown",
   "metadata": {},
   "source": [
    "**Вывод**"
   ]
  },
  {
   "cell_type": "markdown",
   "metadata": {},
   "source": [
    "Цели кредита влияют на его возврат в срок.\n",
    "- Самые надёжные замщики - люди берущие кредит на недвижимость.\n",
    "- Люди берущие кредит на свадьбу, в среднем на 9.23% чаще имеют задолженности чем берущие кредит на недвижимость\n",
    "- Люди берущие кредит на автомобиль или образование, в среднем на 22.1% чаще имеют задолженности чем берущие кредит на недвижимость"
   ]
  },
  {
   "cell_type": "markdown",
   "metadata": {},
   "source": [
    "## Общий вывод\n",
    "\n",
    "В результате исследования можно сделать следующие выводы:\n",
    " - Существует зависимость между наличием детей и возвратом кредита в срок. Замщики с детьми, в среднем на 18% чаще имеют задолженности чем бездетные.\n",
    " - Существует и зависимость между семейным положением и возвратом кредита в срок. Самые наджные замщики - вдовцы, вдовы и люди в разводе. Следующие по рейтингу - семейные. Самые не надёжные - живущие гражданским браком и разведённые.\n",
    " - Прослеживается и зависимость между уровнем дохода и возвратом кредита в срок. Люди с низким и средним уровнем дохода, в среднем на 15.6% чаще имеют задолженности чем люди с высокими доходами.\n",
    " - Цели кредита тоже влияют на его возврат в срок. Самые наджные заёмщики - берущие кредит на недвижимость.\n",
    " \n",
    "Портрет идеального заёмщика: Бездетный, разведённый или вдовец, с высоким доходом, берущий кредит на недвижимость. "
   ]
  }
 ],
 "metadata": {
  "ExecuteTimeLog": [
   {
    "duration": 910,
    "start_time": "2022-01-13T18:27:21.687Z"
   },
   {
    "duration": 93,
    "start_time": "2022-01-13T18:27:35.236Z"
   },
   {
    "duration": 82,
    "start_time": "2022-01-13T18:29:12.855Z"
   },
   {
    "duration": 99,
    "start_time": "2022-01-13T18:31:21.541Z"
   },
   {
    "duration": 88,
    "start_time": "2022-01-13T18:32:02.552Z"
   },
   {
    "duration": 83,
    "start_time": "2022-01-13T18:32:35.411Z"
   },
   {
    "duration": 89,
    "start_time": "2022-01-13T18:40:23.287Z"
   },
   {
    "duration": 88,
    "start_time": "2022-01-13T18:53:34.686Z"
   },
   {
    "duration": 94,
    "start_time": "2022-01-13T19:44:18.079Z"
   },
   {
    "duration": 102,
    "start_time": "2022-01-13T19:48:10.246Z"
   },
   {
    "duration": 76,
    "start_time": "2022-01-13T19:52:29.952Z"
   },
   {
    "duration": 86,
    "start_time": "2022-01-13T19:52:48.845Z"
   },
   {
    "duration": 92,
    "start_time": "2022-01-13T19:53:41.363Z"
   },
   {
    "duration": 80,
    "start_time": "2022-01-13T19:55:06.080Z"
   },
   {
    "duration": 96,
    "start_time": "2022-01-13T19:56:10.921Z"
   },
   {
    "duration": 907,
    "start_time": "2022-01-14T16:12:49.179Z"
   },
   {
    "duration": 101,
    "start_time": "2022-01-14T16:24:33.030Z"
   },
   {
    "duration": 8,
    "start_time": "2022-01-14T17:20:48.185Z"
   },
   {
    "duration": 504,
    "start_time": "2022-01-14T17:21:58.047Z"
   },
   {
    "duration": 10,
    "start_time": "2022-01-14T17:23:35.539Z"
   },
   {
    "duration": 13,
    "start_time": "2022-01-14T17:24:21.785Z"
   },
   {
    "duration": 421,
    "start_time": "2022-01-14T17:24:37.167Z"
   },
   {
    "duration": 1336,
    "start_time": "2022-01-14T17:24:46.524Z"
   },
   {
    "duration": 518,
    "start_time": "2022-01-14T17:25:24.078Z"
   },
   {
    "duration": 9,
    "start_time": "2022-01-14T17:26:54.076Z"
   },
   {
    "duration": 47,
    "start_time": "2022-01-14T17:28:05.663Z"
   },
   {
    "duration": 399,
    "start_time": "2022-01-14T17:33:57.413Z"
   },
   {
    "duration": 34,
    "start_time": "2022-01-14T17:36:49.725Z"
   },
   {
    "duration": 40,
    "start_time": "2022-01-14T17:37:02.346Z"
   },
   {
    "duration": 428,
    "start_time": "2022-01-14T17:37:55.344Z"
   },
   {
    "duration": 395,
    "start_time": "2022-01-14T17:40:09.614Z"
   },
   {
    "duration": 34,
    "start_time": "2022-01-14T17:41:20.764Z"
   },
   {
    "duration": 34,
    "start_time": "2022-01-14T17:51:09.520Z"
   },
   {
    "duration": 10,
    "start_time": "2022-01-14T18:02:11.524Z"
   },
   {
    "duration": 7,
    "start_time": "2022-01-14T18:07:07.598Z"
   },
   {
    "duration": 11,
    "start_time": "2022-01-14T18:10:17.547Z"
   },
   {
    "duration": 14,
    "start_time": "2022-01-14T18:10:53.640Z"
   },
   {
    "duration": 160,
    "start_time": "2022-01-14T18:12:10.570Z"
   },
   {
    "duration": 92,
    "start_time": "2022-01-14T18:12:22.972Z"
   },
   {
    "duration": 165,
    "start_time": "2022-01-14T18:12:25.819Z"
   },
   {
    "duration": 38,
    "start_time": "2022-01-14T18:13:02.783Z"
   },
   {
    "duration": 28,
    "start_time": "2022-01-14T18:14:17.951Z"
   },
   {
    "duration": 11,
    "start_time": "2022-01-14T18:25:26.312Z"
   },
   {
    "duration": 15,
    "start_time": "2022-01-14T18:25:56.783Z"
   },
   {
    "duration": 22,
    "start_time": "2022-01-14T18:42:58.678Z"
   },
   {
    "duration": 32,
    "start_time": "2022-01-14T18:43:12.669Z"
   },
   {
    "duration": 28,
    "start_time": "2022-01-14T18:45:36.986Z"
   },
   {
    "duration": 23,
    "start_time": "2022-01-14T19:00:09.723Z"
   },
   {
    "duration": 24,
    "start_time": "2022-01-14T19:04:28.848Z"
   },
   {
    "duration": 45,
    "start_time": "2022-01-14T19:15:39.895Z"
   },
   {
    "duration": 43,
    "start_time": "2022-01-14T19:18:24.502Z"
   },
   {
    "duration": 48,
    "start_time": "2022-01-14T19:23:21.530Z"
   },
   {
    "duration": 48,
    "start_time": "2022-01-14T19:23:37.473Z"
   },
   {
    "duration": 39,
    "start_time": "2022-01-14T19:24:31.063Z"
   },
   {
    "duration": 35,
    "start_time": "2022-01-14T19:25:08.351Z"
   },
   {
    "duration": 38,
    "start_time": "2022-01-14T19:25:17.596Z"
   },
   {
    "duration": 25,
    "start_time": "2022-01-14T19:34:50.295Z"
   },
   {
    "duration": 679,
    "start_time": "2022-01-15T06:56:05.842Z"
   },
   {
    "duration": 11,
    "start_time": "2022-01-15T06:56:26.514Z"
   },
   {
    "duration": 29,
    "start_time": "2022-01-15T06:56:42.143Z"
   },
   {
    "duration": 16,
    "start_time": "2022-01-15T07:01:14.585Z"
   },
   {
    "duration": 25,
    "start_time": "2022-01-15T07:01:59.533Z"
   },
   {
    "duration": 353,
    "start_time": "2022-01-15T07:08:14.116Z"
   },
   {
    "duration": 263,
    "start_time": "2022-01-15T07:08:32.814Z"
   },
   {
    "duration": 277,
    "start_time": "2022-01-15T07:10:36.010Z"
   },
   {
    "duration": 265,
    "start_time": "2022-01-15T07:10:43.880Z"
   },
   {
    "duration": 24,
    "start_time": "2022-01-15T07:10:49.337Z"
   },
   {
    "duration": 24,
    "start_time": "2022-01-15T07:15:23.212Z"
   },
   {
    "duration": 29,
    "start_time": "2022-01-15T12:43:18.534Z"
   },
   {
    "duration": 28,
    "start_time": "2022-01-15T12:45:06.045Z"
   },
   {
    "duration": 26,
    "start_time": "2022-01-15T12:45:27.433Z"
   },
   {
    "duration": 32,
    "start_time": "2022-01-15T12:45:48.013Z"
   },
   {
    "duration": 64,
    "start_time": "2022-01-15T13:12:55.666Z"
   },
   {
    "duration": 65,
    "start_time": "2022-01-15T13:13:12.991Z"
   },
   {
    "duration": 64,
    "start_time": "2022-01-15T13:13:25.857Z"
   },
   {
    "duration": 64,
    "start_time": "2022-01-15T13:13:49.378Z"
   },
   {
    "duration": 10,
    "start_time": "2022-01-15T13:21:16.855Z"
   },
   {
    "duration": 25,
    "start_time": "2022-01-15T13:21:33.451Z"
   },
   {
    "duration": 66,
    "start_time": "2022-01-15T13:22:51.002Z"
   },
   {
    "duration": 66,
    "start_time": "2022-01-15T13:26:56.237Z"
   },
   {
    "duration": 88,
    "start_time": "2022-01-15T13:27:17.505Z"
   },
   {
    "duration": 6,
    "start_time": "2022-01-15T13:38:18.682Z"
   },
   {
    "duration": 6,
    "start_time": "2022-01-15T13:38:22.290Z"
   },
   {
    "duration": 23,
    "start_time": "2022-01-15T13:38:27.852Z"
   },
   {
    "duration": 988,
    "start_time": "2022-01-15T13:44:08.663Z"
   },
   {
    "duration": 25,
    "start_time": "2022-01-15T13:44:41.116Z"
   },
   {
    "duration": 25,
    "start_time": "2022-01-15T13:45:22.511Z"
   },
   {
    "duration": 40,
    "start_time": "2022-01-15T13:45:42.270Z"
   },
   {
    "duration": 22,
    "start_time": "2022-01-15T13:47:50.407Z"
   },
   {
    "duration": 24,
    "start_time": "2022-01-15T13:49:31.690Z"
   },
   {
    "duration": 27,
    "start_time": "2022-01-15T13:50:10.645Z"
   },
   {
    "duration": 264,
    "start_time": "2022-01-15T13:51:35.486Z"
   },
   {
    "duration": 13,
    "start_time": "2022-01-15T13:52:38.134Z"
   },
   {
    "duration": 13,
    "start_time": "2022-01-15T13:54:51.673Z"
   },
   {
    "duration": 12,
    "start_time": "2022-01-15T13:57:30.070Z"
   },
   {
    "duration": 109,
    "start_time": "2022-01-15T14:25:51.144Z"
   },
   {
    "duration": 3,
    "start_time": "2022-01-15T14:26:05.521Z"
   },
   {
    "duration": 7,
    "start_time": "2022-01-15T14:26:51.798Z"
   },
   {
    "duration": 252,
    "start_time": "2022-01-15T14:27:26.608Z"
   },
   {
    "duration": 252,
    "start_time": "2022-01-15T14:27:35.570Z"
   },
   {
    "duration": 263,
    "start_time": "2022-01-15T14:28:49.388Z"
   },
   {
    "duration": 266,
    "start_time": "2022-01-15T14:28:53.755Z"
   },
   {
    "duration": 90,
    "start_time": "2022-01-15T14:29:00.570Z"
   },
   {
    "duration": 150,
    "start_time": "2022-01-15T14:29:10.242Z"
   },
   {
    "duration": 6,
    "start_time": "2022-01-15T14:29:19.249Z"
   },
   {
    "duration": 282,
    "start_time": "2022-01-15T14:29:28.684Z"
   },
   {
    "duration": 9,
    "start_time": "2022-01-15T14:29:37.108Z"
   },
   {
    "duration": 5,
    "start_time": "2022-01-15T14:30:08.119Z"
   },
   {
    "duration": 5,
    "start_time": "2022-01-15T14:30:15.782Z"
   },
   {
    "duration": 7,
    "start_time": "2022-01-15T14:30:38.060Z"
   },
   {
    "duration": 9,
    "start_time": "2022-01-15T14:50:48.146Z"
   },
   {
    "duration": 32,
    "start_time": "2022-01-15T15:06:53.123Z"
   },
   {
    "duration": 283,
    "start_time": "2022-01-15T15:14:16.836Z"
   },
   {
    "duration": 271,
    "start_time": "2022-01-15T15:14:27.397Z"
   },
   {
    "duration": 45,
    "start_time": "2022-01-15T15:15:20.020Z"
   },
   {
    "duration": 3539,
    "start_time": "2022-01-15T15:17:23.891Z"
   },
   {
    "duration": 3521,
    "start_time": "2022-01-15T15:17:39.128Z"
   },
   {
    "duration": 165,
    "start_time": "2022-01-15T15:19:15.240Z"
   },
   {
    "duration": 90,
    "start_time": "2022-01-15T15:19:33.293Z"
   },
   {
    "duration": 3471,
    "start_time": "2022-01-15T15:20:38.220Z"
   },
   {
    "duration": 3375,
    "start_time": "2022-01-15T15:22:12.328Z"
   },
   {
    "duration": 35,
    "start_time": "2022-01-15T15:22:59.522Z"
   },
   {
    "duration": 43,
    "start_time": "2022-01-15T15:24:01.573Z"
   },
   {
    "duration": 3452,
    "start_time": "2022-01-15T15:24:24.818Z"
   },
   {
    "duration": 465,
    "start_time": "2022-01-15T15:25:37.361Z"
   },
   {
    "duration": 595,
    "start_time": "2022-01-15T15:26:55.226Z"
   },
   {
    "duration": 276,
    "start_time": "2022-01-15T15:28:23.671Z"
   },
   {
    "duration": 1115,
    "start_time": "2022-01-15T15:28:37.201Z"
   },
   {
    "duration": 574,
    "start_time": "2022-01-15T15:29:34.593Z"
   },
   {
    "duration": 66,
    "start_time": "2022-01-15T15:54:46.243Z"
   },
   {
    "duration": 4,
    "start_time": "2022-01-15T15:54:52.987Z"
   },
   {
    "duration": 22,
    "start_time": "2022-01-15T15:55:00.819Z"
   },
   {
    "duration": 24,
    "start_time": "2022-01-15T15:55:08.579Z"
   },
   {
    "duration": 13,
    "start_time": "2022-01-15T15:55:13.310Z"
   },
   {
    "duration": 998,
    "start_time": "2022-01-15T15:58:10.972Z"
   },
   {
    "duration": 1293,
    "start_time": "2022-01-15T15:58:38.830Z"
   },
   {
    "duration": 477,
    "start_time": "2022-01-15T16:06:18.230Z"
   },
   {
    "duration": 475,
    "start_time": "2022-01-15T16:07:47.162Z"
   },
   {
    "duration": 35,
    "start_time": "2022-01-15T16:09:02.143Z"
   },
   {
    "duration": 39,
    "start_time": "2022-01-15T16:10:16.523Z"
   },
   {
    "duration": 1234,
    "start_time": "2022-01-15T16:10:53.400Z"
   },
   {
    "duration": 1133,
    "start_time": "2022-01-15T16:11:03.564Z"
   },
   {
    "duration": 1213,
    "start_time": "2022-01-15T16:12:52.388Z"
   },
   {
    "duration": 1134,
    "start_time": "2022-01-15T16:19:36.684Z"
   },
   {
    "duration": 1043,
    "start_time": "2022-01-15T16:20:24.768Z"
   },
   {
    "duration": 32,
    "start_time": "2022-01-15T16:22:30.554Z"
   },
   {
    "duration": 31,
    "start_time": "2022-01-15T16:22:44.392Z"
   },
   {
    "duration": 1108,
    "start_time": "2022-01-15T16:23:59.672Z"
   },
   {
    "duration": 437,
    "start_time": "2022-01-15T16:24:23.767Z"
   },
   {
    "duration": 448,
    "start_time": "2022-01-15T16:25:27.703Z"
   },
   {
    "duration": 440,
    "start_time": "2022-01-15T16:26:37.005Z"
   },
   {
    "duration": 697,
    "start_time": "2022-01-15T16:27:47.527Z"
   },
   {
    "duration": 4550,
    "start_time": "2022-01-15T16:27:59.859Z"
   },
   {
    "duration": 4118,
    "start_time": "2022-01-15T16:29:02.052Z"
   },
   {
    "duration": 4053,
    "start_time": "2022-01-15T16:30:01.182Z"
   },
   {
    "duration": 113,
    "start_time": "2022-01-15T16:30:24.400Z"
   },
   {
    "duration": 112,
    "start_time": "2022-01-15T16:31:02.500Z"
   },
   {
    "duration": 117,
    "start_time": "2022-01-15T16:33:52.093Z"
   },
   {
    "duration": 109,
    "start_time": "2022-01-15T16:34:01.478Z"
   },
   {
    "duration": 112,
    "start_time": "2022-01-15T16:36:30.177Z"
   },
   {
    "duration": 49,
    "start_time": "2022-01-15T16:37:12.758Z"
   },
   {
    "duration": 64,
    "start_time": "2022-01-15T16:37:19.381Z"
   },
   {
    "duration": 49,
    "start_time": "2022-01-15T16:37:50.332Z"
   },
   {
    "duration": 50,
    "start_time": "2022-01-15T16:38:28.573Z"
   },
   {
    "duration": 47,
    "start_time": "2022-01-15T16:38:32.446Z"
   },
   {
    "duration": 265,
    "start_time": "2022-01-15T16:42:50.730Z"
   },
   {
    "duration": 250,
    "start_time": "2022-01-15T16:43:41.853Z"
   },
   {
    "duration": 39,
    "start_time": "2022-01-15T16:43:57.617Z"
   },
   {
    "duration": 39,
    "start_time": "2022-01-15T16:44:17.311Z"
   },
   {
    "duration": 37,
    "start_time": "2022-01-15T16:44:25.066Z"
   },
   {
    "duration": 37,
    "start_time": "2022-01-15T16:45:11.093Z"
   },
   {
    "duration": 52,
    "start_time": "2022-01-15T16:48:09.516Z"
   },
   {
    "duration": 47,
    "start_time": "2022-01-15T16:53:30.232Z"
   },
   {
    "duration": 46,
    "start_time": "2022-01-15T16:53:56.430Z"
   },
   {
    "duration": 305,
    "start_time": "2022-01-15T16:54:37.967Z"
   },
   {
    "duration": 115,
    "start_time": "2022-01-15T16:55:45.099Z"
   },
   {
    "duration": 56,
    "start_time": "2022-01-15T16:55:57.125Z"
   },
   {
    "duration": 49,
    "start_time": "2022-01-15T16:58:50.947Z"
   },
   {
    "duration": 50,
    "start_time": "2022-01-15T16:59:15.809Z"
   },
   {
    "duration": 47,
    "start_time": "2022-01-15T17:01:28.871Z"
   },
   {
    "duration": 45,
    "start_time": "2022-01-15T17:02:42.648Z"
   },
   {
    "duration": 42,
    "start_time": "2022-01-15T17:04:05.510Z"
   },
   {
    "duration": 67,
    "start_time": "2022-01-15T17:04:22.442Z"
   },
   {
    "duration": 4,
    "start_time": "2022-01-15T17:04:22.511Z"
   },
   {
    "duration": 23,
    "start_time": "2022-01-15T17:04:22.518Z"
   },
   {
    "duration": 39,
    "start_time": "2022-01-15T17:04:22.543Z"
   },
   {
    "duration": 12,
    "start_time": "2022-01-15T17:04:22.584Z"
   },
   {
    "duration": 73,
    "start_time": "2022-01-15T17:04:22.598Z"
   },
   {
    "duration": 52,
    "start_time": "2022-01-15T17:04:48.353Z"
   },
   {
    "duration": 52,
    "start_time": "2022-01-15T17:04:55.521Z"
   },
   {
    "duration": 611,
    "start_time": "2022-01-15T17:05:14.669Z"
   },
   {
    "duration": 440,
    "start_time": "2022-01-15T17:05:50.034Z"
   },
   {
    "duration": 94,
    "start_time": "2022-01-15T17:05:55.413Z"
   },
   {
    "duration": 384,
    "start_time": "2022-01-15T17:06:01.077Z"
   },
   {
    "duration": 197,
    "start_time": "2022-01-15T17:10:12.638Z"
   },
   {
    "duration": 50,
    "start_time": "2022-01-15T17:10:21.689Z"
   },
   {
    "duration": 66,
    "start_time": "2022-01-15T17:23:37.830Z"
   },
   {
    "duration": 169,
    "start_time": "2022-01-15T17:30:02.417Z"
   },
   {
    "duration": -1949,
    "start_time": "2022-01-15T17:30:25.215Z"
   },
   {
    "duration": 7201,
    "start_time": "2022-01-15T17:30:24.769Z"
   },
   {
    "duration": -1951,
    "start_time": "2022-01-15T17:30:45.596Z"
   },
   {
    "duration": 6213,
    "start_time": "2022-01-15T17:30:49.330Z"
   },
   {
    "duration": 6676,
    "start_time": "2022-01-15T17:34:44.680Z"
   },
   {
    "duration": 137,
    "start_time": "2022-01-15T17:35:36.048Z"
   },
   {
    "duration": 20,
    "start_time": "2022-01-15T17:36:22.208Z"
   },
   {
    "duration": 22,
    "start_time": "2022-01-15T17:36:40.365Z"
   },
   {
    "duration": 14,
    "start_time": "2022-01-15T17:37:22.428Z"
   },
   {
    "duration": 15,
    "start_time": "2022-01-15T17:37:28.361Z"
   },
   {
    "duration": 45,
    "start_time": "2022-01-15T17:38:05.416Z"
   },
   {
    "duration": 250,
    "start_time": "2022-01-15T17:39:07.600Z"
   },
   {
    "duration": 21,
    "start_time": "2022-01-15T17:39:14.348Z"
   },
   {
    "duration": 17,
    "start_time": "2022-01-15T17:39:22.441Z"
   },
   {
    "duration": 368,
    "start_time": "2022-01-15T17:39:37.679Z"
   },
   {
    "duration": 15,
    "start_time": "2022-01-15T17:39:41.192Z"
   },
   {
    "duration": 41,
    "start_time": "2022-01-15T17:42:21.549Z"
   },
   {
    "duration": 325,
    "start_time": "2022-01-15T17:43:11.430Z"
   },
   {
    "duration": 268,
    "start_time": "2022-01-15T17:43:16.741Z"
   },
   {
    "duration": 44,
    "start_time": "2022-01-15T17:43:23.098Z"
   },
   {
    "duration": 40,
    "start_time": "2022-01-15T17:45:39.214Z"
   },
   {
    "duration": 42,
    "start_time": "2022-01-15T17:48:27.201Z"
   },
   {
    "duration": 29,
    "start_time": "2022-01-15T17:48:35.668Z"
   },
   {
    "duration": 282,
    "start_time": "2022-01-15T17:50:05.323Z"
   },
   {
    "duration": 43,
    "start_time": "2022-01-15T17:50:55.996Z"
   },
   {
    "duration": 68,
    "start_time": "2022-01-15T17:52:49.833Z"
   },
   {
    "duration": 71,
    "start_time": "2022-01-15T17:53:00.257Z"
   },
   {
    "duration": 16,
    "start_time": "2022-01-15T17:54:42.450Z"
   },
   {
    "duration": 18,
    "start_time": "2022-01-15T17:55:06.237Z"
   },
   {
    "duration": 32,
    "start_time": "2022-01-15T17:55:14.335Z"
   },
   {
    "duration": 15,
    "start_time": "2022-01-15T17:55:27.095Z"
   },
   {
    "duration": 30,
    "start_time": "2022-01-15T17:55:34.614Z"
   },
   {
    "duration": 11,
    "start_time": "2022-01-15T18:02:07.777Z"
   },
   {
    "duration": 10,
    "start_time": "2022-01-15T18:02:52.292Z"
   },
   {
    "duration": 8,
    "start_time": "2022-01-15T18:03:07.439Z"
   },
   {
    "duration": 259,
    "start_time": "2022-01-15T18:05:59.950Z"
   },
   {
    "duration": 11,
    "start_time": "2022-01-15T18:06:40.399Z"
   },
   {
    "duration": 19,
    "start_time": "2022-01-15T18:06:51.105Z"
   },
   {
    "duration": 19,
    "start_time": "2022-01-15T18:13:43.308Z"
   },
   {
    "duration": 20,
    "start_time": "2022-01-15T18:14:11.774Z"
   },
   {
    "duration": 21,
    "start_time": "2022-01-15T18:14:38.312Z"
   },
   {
    "duration": 38,
    "start_time": "2022-01-15T18:16:58.396Z"
   },
   {
    "duration": 11,
    "start_time": "2022-01-15T18:24:00.451Z"
   },
   {
    "duration": 10,
    "start_time": "2022-01-15T18:24:20.461Z"
   },
   {
    "duration": 26,
    "start_time": "2022-01-15T18:25:08.806Z"
   },
   {
    "duration": 15,
    "start_time": "2022-01-15T18:25:36.618Z"
   },
   {
    "duration": 70,
    "start_time": "2022-01-15T18:26:14.362Z"
   },
   {
    "duration": 5,
    "start_time": "2022-01-15T18:26:14.435Z"
   },
   {
    "duration": 88,
    "start_time": "2022-01-15T18:26:14.442Z"
   },
   {
    "duration": 37,
    "start_time": "2022-01-15T18:26:14.532Z"
   },
   {
    "duration": 13,
    "start_time": "2022-01-15T18:26:14.571Z"
   },
   {
    "duration": 223,
    "start_time": "2022-01-15T18:26:14.586Z"
   },
   {
    "duration": 13,
    "start_time": "2022-01-15T18:26:14.811Z"
   },
   {
    "duration": 15,
    "start_time": "2022-01-15T18:26:14.826Z"
   },
   {
    "duration": 46,
    "start_time": "2022-01-15T18:26:14.843Z"
   },
   {
    "duration": 16,
    "start_time": "2022-01-15T18:26:14.890Z"
   },
   {
    "duration": 17,
    "start_time": "2022-01-15T18:26:14.908Z"
   },
   {
    "duration": 38,
    "start_time": "2022-01-15T18:26:14.927Z"
   },
   {
    "duration": 12,
    "start_time": "2022-01-15T18:31:53.668Z"
   },
   {
    "duration": 9,
    "start_time": "2022-01-15T18:36:22.410Z"
   },
   {
    "duration": 15,
    "start_time": "2022-01-15T18:36:47.847Z"
   },
   {
    "duration": 9,
    "start_time": "2022-01-15T18:43:21.745Z"
   },
   {
    "duration": 70,
    "start_time": "2022-01-15T18:46:23.345Z"
   },
   {
    "duration": 88,
    "start_time": "2022-01-15T18:48:50.840Z"
   },
   {
    "duration": 250,
    "start_time": "2022-01-15T18:49:17.088Z"
   },
   {
    "duration": 252,
    "start_time": "2022-01-15T18:49:30.749Z"
   },
   {
    "duration": 681,
    "start_time": "2022-01-15T18:50:39.980Z"
   },
   {
    "duration": 683,
    "start_time": "2022-01-15T18:50:45.147Z"
   },
   {
    "duration": 11,
    "start_time": "2022-01-15T19:05:16.618Z"
   },
   {
    "duration": 428,
    "start_time": "2022-01-15T19:12:57.088Z"
   },
   {
    "duration": 789,
    "start_time": "2022-01-15T19:13:06.084Z"
   },
   {
    "duration": 87,
    "start_time": "2022-01-15T19:13:57.226Z"
   },
   {
    "duration": 677,
    "start_time": "2022-01-15T19:14:05.491Z"
   },
   {
    "duration": 278,
    "start_time": "2022-01-15T19:15:57.991Z"
   },
   {
    "duration": 237,
    "start_time": "2022-01-15T19:16:58.993Z"
   },
   {
    "duration": 83,
    "start_time": "2022-01-15T19:22:20.042Z"
   },
   {
    "duration": 687,
    "start_time": "2022-01-15T19:22:28.793Z"
   },
   {
    "duration": 968,
    "start_time": "2022-01-15T19:32:41.936Z"
   },
   {
    "duration": 976,
    "start_time": "2022-01-15T19:34:00.020Z"
   },
   {
    "duration": 1014,
    "start_time": "2022-01-15T19:36:17.708Z"
   },
   {
    "duration": 1044,
    "start_time": "2022-01-15T19:36:45.452Z"
   },
   {
    "duration": 1015,
    "start_time": "2022-01-15T19:36:55.121Z"
   },
   {
    "duration": 1006,
    "start_time": "2022-01-15T19:37:25.888Z"
   },
   {
    "duration": 928,
    "start_time": "2022-01-15T19:37:34.205Z"
   },
   {
    "duration": 693,
    "start_time": "2022-01-15T19:38:21.726Z"
   },
   {
    "duration": 10,
    "start_time": "2022-01-15T19:38:36.099Z"
   },
   {
    "duration": 691,
    "start_time": "2022-01-15T19:38:38.958Z"
   },
   {
    "duration": 69,
    "start_time": "2022-01-15T19:38:51.877Z"
   },
   {
    "duration": 4,
    "start_time": "2022-01-15T19:38:51.948Z"
   },
   {
    "duration": 26,
    "start_time": "2022-01-15T19:38:51.954Z"
   },
   {
    "duration": 24,
    "start_time": "2022-01-15T19:38:51.981Z"
   },
   {
    "duration": 14,
    "start_time": "2022-01-15T19:38:52.007Z"
   },
   {
    "duration": 221,
    "start_time": "2022-01-15T19:38:52.023Z"
   },
   {
    "duration": 22,
    "start_time": "2022-01-15T19:38:52.245Z"
   },
   {
    "duration": 14,
    "start_time": "2022-01-15T19:38:52.270Z"
   },
   {
    "duration": 27,
    "start_time": "2022-01-15T19:38:52.286Z"
   },
   {
    "duration": 14,
    "start_time": "2022-01-15T19:38:52.315Z"
   },
   {
    "duration": 42,
    "start_time": "2022-01-15T19:38:52.330Z"
   },
   {
    "duration": 15,
    "start_time": "2022-01-15T19:38:52.374Z"
   },
   {
    "duration": 9,
    "start_time": "2022-01-15T19:38:52.391Z"
   },
   {
    "duration": 9,
    "start_time": "2022-01-15T19:38:52.402Z"
   },
   {
    "duration": 702,
    "start_time": "2022-01-15T19:38:52.412Z"
   },
   {
    "duration": 699,
    "start_time": "2022-01-15T19:39:31.821Z"
   },
   {
    "duration": 85,
    "start_time": "2022-01-15T19:49:34.974Z"
   },
   {
    "duration": 934,
    "start_time": "2022-01-15T19:49:39.328Z"
   },
   {
    "duration": 686,
    "start_time": "2022-01-15T19:49:49.621Z"
   },
   {
    "duration": 1051,
    "start_time": "2022-01-15T19:50:38.142Z"
   },
   {
    "duration": 690,
    "start_time": "2022-01-15T19:50:45.585Z"
   },
   {
    "duration": 88,
    "start_time": "2022-01-15T19:58:17.065Z"
   },
   {
    "duration": 716,
    "start_time": "2022-01-15T19:58:51.882Z"
   },
   {
    "duration": 682,
    "start_time": "2022-01-15T19:58:57.827Z"
   },
   {
    "duration": 90,
    "start_time": "2022-01-15T20:00:40.706Z"
   },
   {
    "duration": 731,
    "start_time": "2022-01-15T20:00:50.107Z"
   },
   {
    "duration": 714,
    "start_time": "2022-01-15T20:10:20.974Z"
   },
   {
    "duration": 698,
    "start_time": "2022-01-15T20:11:22.986Z"
   },
   {
    "duration": 1160,
    "start_time": "2022-01-15T20:22:07.633Z"
   },
   {
    "duration": 40,
    "start_time": "2022-01-15T20:22:32.624Z"
   },
   {
    "duration": 8,
    "start_time": "2022-01-15T20:23:12.224Z"
   },
   {
    "duration": 588,
    "start_time": "2022-01-16T10:17:08.279Z"
   },
   {
    "duration": 5,
    "start_time": "2022-01-16T10:17:08.869Z"
   },
   {
    "duration": 19,
    "start_time": "2022-01-16T10:17:08.876Z"
   },
   {
    "duration": 44,
    "start_time": "2022-01-16T10:17:08.897Z"
   },
   {
    "duration": 11,
    "start_time": "2022-01-16T10:17:08.943Z"
   },
   {
    "duration": 199,
    "start_time": "2022-01-16T10:17:08.956Z"
   },
   {
    "duration": 13,
    "start_time": "2022-01-16T10:17:09.157Z"
   },
   {
    "duration": 14,
    "start_time": "2022-01-16T10:17:09.172Z"
   },
   {
    "duration": 53,
    "start_time": "2022-01-16T10:17:09.188Z"
   },
   {
    "duration": 13,
    "start_time": "2022-01-16T10:17:09.242Z"
   },
   {
    "duration": 16,
    "start_time": "2022-01-16T10:17:09.257Z"
   },
   {
    "duration": 11,
    "start_time": "2022-01-16T10:17:09.274Z"
   },
   {
    "duration": 11,
    "start_time": "2022-01-16T10:17:09.286Z"
   },
   {
    "duration": 32,
    "start_time": "2022-01-16T10:17:09.298Z"
   },
   {
    "duration": 595,
    "start_time": "2022-01-16T10:17:16.499Z"
   },
   {
    "duration": 23,
    "start_time": "2022-01-16T10:17:26.062Z"
   },
   {
    "duration": 27,
    "start_time": "2022-01-16T10:17:49.209Z"
   },
   {
    "duration": 7,
    "start_time": "2022-01-16T10:17:57.839Z"
   },
   {
    "duration": 18,
    "start_time": "2022-01-16T10:20:00.015Z"
   },
   {
    "duration": 12,
    "start_time": "2022-01-16T10:21:48.805Z"
   },
   {
    "duration": 30,
    "start_time": "2022-01-16T10:21:54.333Z"
   },
   {
    "duration": 71,
    "start_time": "2022-01-16T10:23:24.764Z"
   },
   {
    "duration": 57,
    "start_time": "2022-01-16T10:24:44.782Z"
   },
   {
    "duration": 66,
    "start_time": "2022-01-16T10:29:36.508Z"
   },
   {
    "duration": 73,
    "start_time": "2022-01-16T10:31:02.506Z"
   },
   {
    "duration": 20,
    "start_time": "2022-01-16T10:44:59.321Z"
   },
   {
    "duration": 23,
    "start_time": "2022-01-16T10:45:53.858Z"
   },
   {
    "duration": 22,
    "start_time": "2022-01-16T10:49:31.442Z"
   },
   {
    "duration": 5,
    "start_time": "2022-01-16T11:01:08.498Z"
   },
   {
    "duration": 7,
    "start_time": "2022-01-16T11:01:34.796Z"
   },
   {
    "duration": 9,
    "start_time": "2022-01-16T11:02:55.208Z"
   },
   {
    "duration": 9,
    "start_time": "2022-01-16T11:09:53.314Z"
   },
   {
    "duration": 10,
    "start_time": "2022-01-16T11:13:20.111Z"
   },
   {
    "duration": 4,
    "start_time": "2022-01-16T11:41:31.053Z"
   },
   {
    "duration": 182,
    "start_time": "2022-01-16T11:42:53.356Z"
   },
   {
    "duration": 52,
    "start_time": "2022-01-16T11:44:00.240Z"
   },
   {
    "duration": 111,
    "start_time": "2022-01-16T11:45:47.702Z"
   },
   {
    "duration": 115,
    "start_time": "2022-01-16T11:45:52.867Z"
   },
   {
    "duration": 58,
    "start_time": "2022-01-16T11:45:57.525Z"
   },
   {
    "duration": 48,
    "start_time": "2022-01-16T11:46:15.743Z"
   },
   {
    "duration": 54,
    "start_time": "2022-01-16T11:46:40.981Z"
   },
   {
    "duration": 54,
    "start_time": "2022-01-16T11:47:10.860Z"
   },
   {
    "duration": 68,
    "start_time": "2022-01-16T11:47:16.948Z"
   },
   {
    "duration": 22,
    "start_time": "2022-01-16T11:47:23.978Z"
   },
   {
    "duration": 22,
    "start_time": "2022-01-16T11:47:27.692Z"
   },
   {
    "duration": 11,
    "start_time": "2022-01-16T11:47:31.212Z"
   },
   {
    "duration": 9,
    "start_time": "2022-01-16T11:47:35.303Z"
   },
   {
    "duration": 200,
    "start_time": "2022-01-16T11:47:40.700Z"
   },
   {
    "duration": 405,
    "start_time": "2022-01-16T11:48:33.832Z"
   },
   {
    "duration": 6,
    "start_time": "2022-01-16T11:48:40.344Z"
   },
   {
    "duration": 5,
    "start_time": "2022-01-16T11:50:03.927Z"
   },
   {
    "duration": 6,
    "start_time": "2022-01-16T11:50:14.551Z"
   },
   {
    "duration": 5,
    "start_time": "2022-01-16T11:50:40.573Z"
   },
   {
    "duration": 67,
    "start_time": "2022-01-16T11:51:09.263Z"
   },
   {
    "duration": 3,
    "start_time": "2022-01-16T11:51:09.332Z"
   },
   {
    "duration": 20,
    "start_time": "2022-01-16T11:51:09.337Z"
   },
   {
    "duration": 18,
    "start_time": "2022-01-16T11:51:09.358Z"
   },
   {
    "duration": 9,
    "start_time": "2022-01-16T11:51:09.377Z"
   },
   {
    "duration": 41,
    "start_time": "2022-01-16T11:51:09.388Z"
   },
   {
    "duration": 188,
    "start_time": "2022-01-16T11:51:13.493Z"
   },
   {
    "duration": 4,
    "start_time": "2022-01-16T11:51:18.270Z"
   },
   {
    "duration": 53,
    "start_time": "2022-01-16T11:52:14.887Z"
   },
   {
    "duration": 4,
    "start_time": "2022-01-16T11:52:21.213Z"
   },
   {
    "duration": 67,
    "start_time": "2022-01-16T11:52:30.311Z"
   },
   {
    "duration": 4,
    "start_time": "2022-01-16T11:52:30.380Z"
   },
   {
    "duration": 23,
    "start_time": "2022-01-16T11:52:30.386Z"
   },
   {
    "duration": 32,
    "start_time": "2022-01-16T11:52:30.411Z"
   },
   {
    "duration": 9,
    "start_time": "2022-01-16T11:52:30.444Z"
   },
   {
    "duration": 13,
    "start_time": "2022-01-16T11:52:30.455Z"
   },
   {
    "duration": 686,
    "start_time": "2022-01-16T11:52:30.470Z"
   },
   {
    "duration": -2864,
    "start_time": "2022-01-16T11:52:34.022Z"
   },
   {
    "duration": 666,
    "start_time": "2022-01-16T11:56:31.980Z"
   },
   {
    "duration": 4,
    "start_time": "2022-01-16T11:56:38.756Z"
   },
   {
    "duration": 566,
    "start_time": "2022-01-16T11:58:57.695Z"
   },
   {
    "duration": 581,
    "start_time": "2022-01-16T11:59:15.330Z"
   },
   {
    "duration": 589,
    "start_time": "2022-01-16T12:00:14.581Z"
   },
   {
    "duration": 5,
    "start_time": "2022-01-16T12:01:06.134Z"
   },
   {
    "duration": 590,
    "start_time": "2022-01-16T12:03:04.891Z"
   },
   {
    "duration": 4,
    "start_time": "2022-01-16T12:04:24.163Z"
   },
   {
    "duration": 590,
    "start_time": "2022-01-16T12:04:47.694Z"
   },
   {
    "duration": 593,
    "start_time": "2022-01-16T12:06:25.438Z"
   },
   {
    "duration": 620,
    "start_time": "2022-01-16T12:07:50.741Z"
   },
   {
    "duration": 73,
    "start_time": "2022-01-16T12:08:50.006Z"
   },
   {
    "duration": 3,
    "start_time": "2022-01-16T12:08:50.081Z"
   },
   {
    "duration": 23,
    "start_time": "2022-01-16T12:08:50.086Z"
   },
   {
    "duration": 32,
    "start_time": "2022-01-16T12:08:50.111Z"
   },
   {
    "duration": 11,
    "start_time": "2022-01-16T12:08:50.145Z"
   },
   {
    "duration": 10,
    "start_time": "2022-01-16T12:08:50.158Z"
   },
   {
    "duration": 631,
    "start_time": "2022-01-16T12:08:50.170Z"
   },
   {
    "duration": 599,
    "start_time": "2022-01-16T12:09:21.064Z"
   },
   {
    "duration": 919,
    "start_time": "2022-01-16T12:10:40.362Z"
   },
   {
    "duration": 193,
    "start_time": "2022-01-16T12:13:13.852Z"
   },
   {
    "duration": 9,
    "start_time": "2022-01-16T12:16:54.152Z"
   },
   {
    "duration": 2,
    "start_time": "2022-01-16T12:17:23.157Z"
   },
   {
    "duration": 624,
    "start_time": "2022-01-16T12:18:35.467Z"
   },
   {
    "duration": 14,
    "start_time": "2022-01-16T12:18:58.314Z"
   },
   {
    "duration": 8,
    "start_time": "2022-01-16T12:19:12.907Z"
   },
   {
    "duration": 383,
    "start_time": "2022-01-16T12:19:36.556Z"
   },
   {
    "duration": 1154,
    "start_time": "2022-01-16T12:20:16.788Z"
   },
   {
    "duration": 796,
    "start_time": "2022-01-16T12:22:24.552Z"
   },
   {
    "duration": 2328,
    "start_time": "2022-01-16T12:26:18.635Z"
   },
   {
    "duration": 321,
    "start_time": "2022-01-16T12:26:36.770Z"
   },
   {
    "duration": 319,
    "start_time": "2022-01-16T12:27:19.047Z"
   },
   {
    "duration": 6,
    "start_time": "2022-01-16T12:30:51.696Z"
   },
   {
    "duration": 23,
    "start_time": "2022-01-16T12:30:58.822Z"
   },
   {
    "duration": 22,
    "start_time": "2022-01-16T12:32:25.018Z"
   },
   {
    "duration": 70,
    "start_time": "2022-01-16T12:32:34.083Z"
   },
   {
    "duration": 4,
    "start_time": "2022-01-16T12:32:34.154Z"
   },
   {
    "duration": 31,
    "start_time": "2022-01-16T12:32:34.160Z"
   },
   {
    "duration": 18,
    "start_time": "2022-01-16T12:32:34.192Z"
   },
   {
    "duration": 22,
    "start_time": "2022-01-16T12:32:34.211Z"
   },
   {
    "duration": 21,
    "start_time": "2022-01-16T12:32:36.981Z"
   },
   {
    "duration": 21,
    "start_time": "2022-01-16T12:33:08.067Z"
   },
   {
    "duration": 32,
    "start_time": "2022-01-16T12:33:37.525Z"
   },
   {
    "duration": 30,
    "start_time": "2022-01-16T12:33:54.241Z"
   },
   {
    "duration": 72,
    "start_time": "2022-01-16T12:34:04.889Z"
   },
   {
    "duration": 5,
    "start_time": "2022-01-16T12:34:04.963Z"
   },
   {
    "duration": 21,
    "start_time": "2022-01-16T12:34:04.970Z"
   },
   {
    "duration": 47,
    "start_time": "2022-01-16T12:34:04.993Z"
   },
   {
    "duration": 11,
    "start_time": "2022-01-16T12:34:05.042Z"
   },
   {
    "duration": 31,
    "start_time": "2022-01-16T12:34:09.828Z"
   },
   {
    "duration": 20,
    "start_time": "2022-01-16T12:34:30.961Z"
   },
   {
    "duration": 363,
    "start_time": "2022-01-16T12:35:00.452Z"
   },
   {
    "duration": 56,
    "start_time": "2022-01-16T12:36:25.825Z"
   },
   {
    "duration": 5,
    "start_time": "2022-01-16T12:36:30.996Z"
   },
   {
    "duration": 34,
    "start_time": "2022-01-16T12:37:19.725Z"
   },
   {
    "duration": 12,
    "start_time": "2022-01-16T12:37:53.101Z"
   },
   {
    "duration": 68,
    "start_time": "2022-01-16T12:38:33.540Z"
   },
   {
    "duration": 3,
    "start_time": "2022-01-16T12:38:33.610Z"
   },
   {
    "duration": 29,
    "start_time": "2022-01-16T12:38:33.615Z"
   },
   {
    "duration": 21,
    "start_time": "2022-01-16T12:38:33.646Z"
   },
   {
    "duration": 10,
    "start_time": "2022-01-16T12:38:33.669Z"
   },
   {
    "duration": 50,
    "start_time": "2022-01-16T12:38:33.681Z"
   },
   {
    "duration": 21,
    "start_time": "2022-01-16T12:38:33.733Z"
   },
   {
    "duration": 175,
    "start_time": "2022-01-16T12:38:35.498Z"
   },
   {
    "duration": 6,
    "start_time": "2022-01-16T12:38:38.817Z"
   },
   {
    "duration": 12,
    "start_time": "2022-01-16T12:39:01.353Z"
   },
   {
    "duration": 69,
    "start_time": "2022-01-16T12:40:41.402Z"
   },
   {
    "duration": 3,
    "start_time": "2022-01-16T12:40:41.473Z"
   },
   {
    "duration": 29,
    "start_time": "2022-01-16T12:40:41.478Z"
   },
   {
    "duration": 28,
    "start_time": "2022-01-16T12:40:41.508Z"
   },
   {
    "duration": 15,
    "start_time": "2022-01-16T12:40:41.537Z"
   },
   {
    "duration": 29,
    "start_time": "2022-01-16T12:40:47.398Z"
   },
   {
    "duration": 69,
    "start_time": "2022-01-16T12:42:06.006Z"
   },
   {
    "duration": 5,
    "start_time": "2022-01-16T12:42:06.077Z"
   },
   {
    "duration": 24,
    "start_time": "2022-01-16T12:42:06.084Z"
   },
   {
    "duration": 38,
    "start_time": "2022-01-16T12:42:06.109Z"
   },
   {
    "duration": 10,
    "start_time": "2022-01-16T12:42:06.148Z"
   },
   {
    "duration": 11,
    "start_time": "2022-01-16T12:42:09.921Z"
   },
   {
    "duration": 21,
    "start_time": "2022-01-16T12:42:21.143Z"
   },
   {
    "duration": 69,
    "start_time": "2022-01-16T12:43:04.968Z"
   },
   {
    "duration": 4,
    "start_time": "2022-01-16T12:43:05.040Z"
   },
   {
    "duration": 22,
    "start_time": "2022-01-16T12:43:05.046Z"
   },
   {
    "duration": 20,
    "start_time": "2022-01-16T12:43:05.070Z"
   },
   {
    "duration": 43,
    "start_time": "2022-01-16T12:43:05.092Z"
   },
   {
    "duration": 11,
    "start_time": "2022-01-16T12:43:07.828Z"
   },
   {
    "duration": 21,
    "start_time": "2022-01-16T12:43:12.200Z"
   },
   {
    "duration": 365,
    "start_time": "2022-01-16T12:47:25.436Z"
   },
   {
    "duration": 10,
    "start_time": "2022-01-16T12:53:17.757Z"
   },
   {
    "duration": 7,
    "start_time": "2022-01-16T12:53:34.605Z"
   },
   {
    "duration": 11,
    "start_time": "2022-01-16T12:54:01.447Z"
   },
   {
    "duration": 67,
    "start_time": "2022-01-16T12:54:05.903Z"
   },
   {
    "duration": 4,
    "start_time": "2022-01-16T12:54:05.972Z"
   },
   {
    "duration": 22,
    "start_time": "2022-01-16T12:54:05.978Z"
   },
   {
    "duration": 38,
    "start_time": "2022-01-16T12:54:06.002Z"
   },
   {
    "duration": 13,
    "start_time": "2022-01-16T12:54:06.042Z"
   },
   {
    "duration": 18,
    "start_time": "2022-01-16T12:54:06.056Z"
   },
   {
    "duration": 13,
    "start_time": "2022-01-16T12:54:10.163Z"
   },
   {
    "duration": 8,
    "start_time": "2022-01-16T12:54:29.980Z"
   },
   {
    "duration": 18,
    "start_time": "2022-01-16T12:55:21.813Z"
   },
   {
    "duration": 320,
    "start_time": "2022-01-16T12:56:14.347Z"
   },
   {
    "duration": 10,
    "start_time": "2022-01-16T12:56:31.864Z"
   },
   {
    "duration": 5,
    "start_time": "2022-01-16T12:56:46.783Z"
   },
   {
    "duration": 68,
    "start_time": "2022-01-16T12:57:26.712Z"
   },
   {
    "duration": 3,
    "start_time": "2022-01-16T12:57:26.782Z"
   },
   {
    "duration": 21,
    "start_time": "2022-01-16T12:57:26.787Z"
   },
   {
    "duration": 35,
    "start_time": "2022-01-16T12:57:26.809Z"
   },
   {
    "duration": 8,
    "start_time": "2022-01-16T12:57:26.846Z"
   },
   {
    "duration": 12,
    "start_time": "2022-01-16T12:57:50.640Z"
   },
   {
    "duration": 6,
    "start_time": "2022-01-16T12:57:57.299Z"
   },
   {
    "duration": 341,
    "start_time": "2022-01-16T12:58:48.505Z"
   },
   {
    "duration": 98,
    "start_time": "2022-01-16T13:03:18.319Z"
   },
   {
    "duration": 11,
    "start_time": "2022-01-16T13:03:37.484Z"
   },
   {
    "duration": 69,
    "start_time": "2022-01-16T13:03:45.849Z"
   },
   {
    "duration": 4,
    "start_time": "2022-01-16T13:03:45.920Z"
   },
   {
    "duration": 25,
    "start_time": "2022-01-16T13:03:45.926Z"
   },
   {
    "duration": 20,
    "start_time": "2022-01-16T13:03:45.953Z"
   },
   {
    "duration": 10,
    "start_time": "2022-01-16T13:03:45.974Z"
   },
   {
    "duration": 12,
    "start_time": "2022-01-16T13:03:48.694Z"
   },
   {
    "duration": 17,
    "start_time": "2022-01-16T13:03:52.914Z"
   },
   {
    "duration": 21,
    "start_time": "2022-01-16T13:04:01.965Z"
   },
   {
    "duration": 168,
    "start_time": "2022-01-16T13:04:18.676Z"
   },
   {
    "duration": 5,
    "start_time": "2022-01-16T13:04:22.483Z"
   },
   {
    "duration": 8,
    "start_time": "2022-01-16T13:06:16.910Z"
   },
   {
    "duration": 68,
    "start_time": "2022-01-16T13:06:33.127Z"
   },
   {
    "duration": 4,
    "start_time": "2022-01-16T13:06:33.197Z"
   },
   {
    "duration": 28,
    "start_time": "2022-01-16T13:06:33.203Z"
   },
   {
    "duration": 20,
    "start_time": "2022-01-16T13:06:33.232Z"
   },
   {
    "duration": 10,
    "start_time": "2022-01-16T13:06:33.253Z"
   },
   {
    "duration": 6,
    "start_time": "2022-01-16T13:06:33.265Z"
   },
   {
    "duration": 18,
    "start_time": "2022-01-16T13:06:37.073Z"
   },
   {
    "duration": 8,
    "start_time": "2022-01-16T13:07:17.377Z"
   },
   {
    "duration": 165,
    "start_time": "2022-01-16T13:07:44.733Z"
   },
   {
    "duration": 46,
    "start_time": "2022-01-16T13:07:58.660Z"
   },
   {
    "duration": 5,
    "start_time": "2022-01-16T13:08:09.803Z"
   },
   {
    "duration": 8,
    "start_time": "2022-01-16T13:08:18.258Z"
   },
   {
    "duration": 12,
    "start_time": "2022-01-16T13:10:28.556Z"
   },
   {
    "duration": 13,
    "start_time": "2022-01-16T13:11:19.301Z"
   },
   {
    "duration": 26,
    "start_time": "2022-01-16T13:11:20.685Z"
   },
   {
    "duration": 14,
    "start_time": "2022-01-16T13:11:23.045Z"
   },
   {
    "duration": 15,
    "start_time": "2022-01-16T13:11:28.186Z"
   },
   {
    "duration": 11,
    "start_time": "2022-01-16T13:11:37.000Z"
   },
   {
    "duration": 9,
    "start_time": "2022-01-16T13:11:42.915Z"
   },
   {
    "duration": 9,
    "start_time": "2022-01-16T13:11:54.164Z"
   },
   {
    "duration": 610,
    "start_time": "2022-01-16T13:11:56.490Z"
   },
   {
    "duration": 22,
    "start_time": "2022-01-16T13:12:03.317Z"
   },
   {
    "duration": 7,
    "start_time": "2022-01-16T13:12:05.080Z"
   },
   {
    "duration": 13,
    "start_time": "2022-01-16T13:56:18.723Z"
   },
   {
    "duration": 10,
    "start_time": "2022-01-16T14:00:19.114Z"
   },
   {
    "duration": 7,
    "start_time": "2022-01-16T14:00:23.876Z"
   },
   {
    "duration": 752,
    "start_time": "2022-01-16T14:01:27.944Z"
   },
   {
    "duration": 9,
    "start_time": "2022-01-16T14:01:36.452Z"
   },
   {
    "duration": 13,
    "start_time": "2022-01-16T14:01:54.487Z"
   },
   {
    "duration": 339,
    "start_time": "2022-01-16T14:02:19.075Z"
   },
   {
    "duration": 10,
    "start_time": "2022-01-16T14:02:27.750Z"
   },
   {
    "duration": 15,
    "start_time": "2022-01-16T14:04:36.128Z"
   },
   {
    "duration": 18,
    "start_time": "2022-01-16T14:05:06.402Z"
   },
   {
    "duration": 369,
    "start_time": "2022-01-16T14:06:38.068Z"
   },
   {
    "duration": 382,
    "start_time": "2022-01-16T14:07:01.500Z"
   },
   {
    "duration": 26,
    "start_time": "2022-01-16T14:07:14.843Z"
   },
   {
    "duration": 43,
    "start_time": "2022-01-16T14:08:05.422Z"
   },
   {
    "duration": 132,
    "start_time": "2022-01-16T14:31:42.159Z"
   },
   {
    "duration": 11,
    "start_time": "2022-01-16T14:31:45.245Z"
   },
   {
    "duration": 9402,
    "start_time": "2022-01-16T14:33:03.212Z"
   },
   {
    "duration": -2829,
    "start_time": "2022-01-16T14:33:15.445Z"
   },
   {
    "duration": 24445,
    "start_time": "2022-01-16T14:35:57.175Z"
   },
   {
    "duration": 11,
    "start_time": "2022-01-16T14:36:37.248Z"
   },
   {
    "duration": 14,
    "start_time": "2022-01-16T14:36:45.471Z"
   },
   {
    "duration": 10,
    "start_time": "2022-01-16T14:37:33.584Z"
   },
   {
    "duration": 7,
    "start_time": "2022-01-16T14:37:38.366Z"
   },
   {
    "duration": 131,
    "start_time": "2022-01-16T14:37:47.478Z"
   },
   {
    "duration": 13,
    "start_time": "2022-01-16T14:37:51.874Z"
   },
   {
    "duration": 233,
    "start_time": "2022-01-16T14:38:50.977Z"
   },
   {
    "duration": 13,
    "start_time": "2022-01-16T14:38:56.742Z"
   },
   {
    "duration": 9924,
    "start_time": "2022-01-16T14:39:52.843Z"
   },
   {
    "duration": 8018,
    "start_time": "2022-01-16T14:40:11.775Z"
   },
   {
    "duration": 8577,
    "start_time": "2022-01-16T14:43:52.660Z"
   },
   {
    "duration": 14,
    "start_time": "2022-01-16T14:44:04.572Z"
   },
   {
    "duration": 1592,
    "start_time": "2022-01-16T15:06:23.087Z"
   },
   {
    "duration": 1786,
    "start_time": "2022-01-16T15:07:24.534Z"
   },
   {
    "duration": 1533,
    "start_time": "2022-01-16T15:08:15.733Z"
   },
   {
    "duration": 9069,
    "start_time": "2022-01-16T15:08:23.697Z"
   },
   {
    "duration": 16,
    "start_time": "2022-01-16T15:08:32.768Z"
   },
   {
    "duration": 9326,
    "start_time": "2022-01-16T15:08:46.510Z"
   },
   {
    "duration": 14,
    "start_time": "2022-01-16T15:08:55.837Z"
   },
   {
    "duration": 18000,
    "start_time": "2022-01-16T15:11:27.605Z"
   },
   {
    "duration": -2824,
    "start_time": "2022-01-16T15:11:48.431Z"
   },
   {
    "duration": 13,
    "start_time": "2022-01-16T15:12:15.851Z"
   },
   {
    "duration": 18804,
    "start_time": "2022-01-16T15:13:10.007Z"
   },
   {
    "duration": 8869,
    "start_time": "2022-01-16T15:15:02.392Z"
   },
   {
    "duration": 14,
    "start_time": "2022-01-16T15:15:32.871Z"
   },
   {
    "duration": 341,
    "start_time": "2022-01-16T15:29:01.996Z"
   },
   {
    "duration": 336,
    "start_time": "2022-01-16T15:30:02.164Z"
   },
   {
    "duration": 28,
    "start_time": "2022-01-16T15:32:14.350Z"
   },
   {
    "duration": 331,
    "start_time": "2022-01-16T15:32:28.463Z"
   },
   {
    "duration": 69,
    "start_time": "2022-01-16T15:32:36.567Z"
   },
   {
    "duration": 4,
    "start_time": "2022-01-16T15:32:36.637Z"
   },
   {
    "duration": 23,
    "start_time": "2022-01-16T15:32:36.643Z"
   },
   {
    "duration": 20,
    "start_time": "2022-01-16T15:32:36.668Z"
   },
   {
    "duration": 39,
    "start_time": "2022-01-16T15:32:36.689Z"
   },
   {
    "duration": 6,
    "start_time": "2022-01-16T15:32:36.729Z"
   },
   {
    "duration": 176,
    "start_time": "2022-01-16T15:32:36.737Z"
   },
   {
    "duration": 11,
    "start_time": "2022-01-16T15:32:36.916Z"
   },
   {
    "duration": 26,
    "start_time": "2022-01-16T15:32:36.929Z"
   },
   {
    "duration": 22,
    "start_time": "2022-01-16T15:32:36.956Z"
   },
   {
    "duration": 38,
    "start_time": "2022-01-16T15:32:36.979Z"
   },
   {
    "duration": 21,
    "start_time": "2022-01-16T15:32:37.027Z"
   },
   {
    "duration": 23,
    "start_time": "2022-01-16T15:32:37.050Z"
   },
   {
    "duration": 14,
    "start_time": "2022-01-16T15:32:37.075Z"
   },
   {
    "duration": 36,
    "start_time": "2022-01-16T15:32:37.091Z"
   },
   {
    "duration": 8,
    "start_time": "2022-01-16T15:32:37.129Z"
   },
   {
    "duration": 745,
    "start_time": "2022-01-16T15:32:37.138Z"
   },
   {
    "duration": 23,
    "start_time": "2022-01-16T15:32:37.885Z"
   },
   {
    "duration": 23,
    "start_time": "2022-01-16T15:32:37.910Z"
   },
   {
    "duration": 351,
    "start_time": "2022-01-16T15:32:39.756Z"
   },
   {
    "duration": 28,
    "start_time": "2022-01-16T15:32:44.862Z"
   },
   {
    "duration": 27,
    "start_time": "2022-01-16T15:34:14.839Z"
   },
   {
    "duration": 70,
    "start_time": "2022-01-16T15:34:19.681Z"
   },
   {
    "duration": 4,
    "start_time": "2022-01-16T15:34:19.752Z"
   },
   {
    "duration": 23,
    "start_time": "2022-01-16T15:34:19.758Z"
   },
   {
    "duration": 21,
    "start_time": "2022-01-16T15:34:19.782Z"
   },
   {
    "duration": 10,
    "start_time": "2022-01-16T15:34:19.827Z"
   },
   {
    "duration": 21,
    "start_time": "2022-01-16T15:34:19.839Z"
   },
   {
    "duration": 171,
    "start_time": "2022-01-16T15:34:19.861Z"
   },
   {
    "duration": 4,
    "start_time": "2022-01-16T15:34:20.034Z"
   },
   {
    "duration": 25,
    "start_time": "2022-01-16T15:34:20.039Z"
   },
   {
    "duration": 13,
    "start_time": "2022-01-16T15:34:20.065Z"
   },
   {
    "duration": 24,
    "start_time": "2022-01-16T15:34:20.080Z"
   },
   {
    "duration": 13,
    "start_time": "2022-01-16T15:34:20.105Z"
   },
   {
    "duration": 14,
    "start_time": "2022-01-16T15:34:20.127Z"
   },
   {
    "duration": 26,
    "start_time": "2022-01-16T15:34:20.143Z"
   },
   {
    "duration": 8,
    "start_time": "2022-01-16T15:34:20.171Z"
   },
   {
    "duration": 8,
    "start_time": "2022-01-16T15:34:20.181Z"
   },
   {
    "duration": 643,
    "start_time": "2022-01-16T15:34:20.191Z"
   },
   {
    "duration": 22,
    "start_time": "2022-01-16T15:34:20.837Z"
   },
   {
    "duration": 10,
    "start_time": "2022-01-16T15:34:20.860Z"
   },
   {
    "duration": 30,
    "start_time": "2022-01-16T15:34:20.871Z"
   },
   {
    "duration": 28,
    "start_time": "2022-01-16T15:34:23.411Z"
   },
   {
    "duration": 7601,
    "start_time": "2022-01-16T15:35:12.537Z"
   },
   {
    "duration": 70,
    "start_time": "2022-01-16T15:35:20.826Z"
   },
   {
    "duration": 3,
    "start_time": "2022-01-16T15:35:20.897Z"
   },
   {
    "duration": 30,
    "start_time": "2022-01-16T15:35:20.902Z"
   },
   {
    "duration": 19,
    "start_time": "2022-01-16T15:35:20.933Z"
   },
   {
    "duration": 10,
    "start_time": "2022-01-16T15:35:20.953Z"
   },
   {
    "duration": 6,
    "start_time": "2022-01-16T15:35:20.964Z"
   },
   {
    "duration": 191,
    "start_time": "2022-01-16T15:35:20.972Z"
   },
   {
    "duration": 4,
    "start_time": "2022-01-16T15:35:21.165Z"
   },
   {
    "duration": 15,
    "start_time": "2022-01-16T15:35:21.171Z"
   },
   {
    "duration": 13,
    "start_time": "2022-01-16T15:35:21.187Z"
   },
   {
    "duration": 45,
    "start_time": "2022-01-16T15:35:21.202Z"
   },
   {
    "duration": 13,
    "start_time": "2022-01-16T15:35:21.249Z"
   },
   {
    "duration": 17,
    "start_time": "2022-01-16T15:35:21.264Z"
   },
   {
    "duration": 9,
    "start_time": "2022-01-16T15:35:21.283Z"
   },
   {
    "duration": 12,
    "start_time": "2022-01-16T15:35:21.293Z"
   },
   {
    "duration": 23,
    "start_time": "2022-01-16T15:35:21.307Z"
   },
   {
    "duration": 630,
    "start_time": "2022-01-16T15:35:21.331Z"
   },
   {
    "duration": 22,
    "start_time": "2022-01-16T15:35:21.962Z"
   },
   {
    "duration": 9,
    "start_time": "2022-01-16T15:35:21.986Z"
   },
   {
    "duration": 4334,
    "start_time": "2022-01-16T15:35:25.245Z"
   },
   {
    "duration": 29,
    "start_time": "2022-01-16T15:39:44.769Z"
   },
   {
    "duration": 364,
    "start_time": "2022-01-16T15:40:36.552Z"
   },
   {
    "duration": 30,
    "start_time": "2022-01-16T15:40:50.726Z"
   },
   {
    "duration": 5,
    "start_time": "2022-01-16T15:42:48.795Z"
   },
   {
    "duration": 10,
    "start_time": "2022-01-16T15:42:51.175Z"
   },
   {
    "duration": 70,
    "start_time": "2022-01-16T15:43:13.857Z"
   },
   {
    "duration": 4,
    "start_time": "2022-01-16T15:43:13.929Z"
   },
   {
    "duration": 21,
    "start_time": "2022-01-16T15:43:13.935Z"
   },
   {
    "duration": 21,
    "start_time": "2022-01-16T15:43:13.958Z"
   },
   {
    "duration": 11,
    "start_time": "2022-01-16T15:43:13.981Z"
   },
   {
    "duration": 38,
    "start_time": "2022-01-16T15:43:13.994Z"
   },
   {
    "duration": 185,
    "start_time": "2022-01-16T15:43:14.034Z"
   },
   {
    "duration": 8,
    "start_time": "2022-01-16T15:43:14.221Z"
   },
   {
    "duration": 14,
    "start_time": "2022-01-16T15:43:14.231Z"
   },
   {
    "duration": 13,
    "start_time": "2022-01-16T15:43:14.246Z"
   },
   {
    "duration": 25,
    "start_time": "2022-01-16T15:43:14.261Z"
   },
   {
    "duration": 40,
    "start_time": "2022-01-16T15:43:14.287Z"
   },
   {
    "duration": 15,
    "start_time": "2022-01-16T15:43:14.329Z"
   },
   {
    "duration": 12,
    "start_time": "2022-01-16T15:43:14.346Z"
   },
   {
    "duration": 9,
    "start_time": "2022-01-16T15:43:14.360Z"
   },
   {
    "duration": 10,
    "start_time": "2022-01-16T15:43:14.371Z"
   },
   {
    "duration": 666,
    "start_time": "2022-01-16T15:43:14.383Z"
   },
   {
    "duration": 23,
    "start_time": "2022-01-16T15:43:15.051Z"
   },
   {
    "duration": 10,
    "start_time": "2022-01-16T15:43:15.075Z"
   },
   {
    "duration": 56,
    "start_time": "2022-01-16T15:43:15.087Z"
   },
   {
    "duration": 9017,
    "start_time": "2022-01-16T15:43:21.225Z"
   },
   {
    "duration": 9247,
    "start_time": "2022-01-16T15:43:31.918Z"
   },
   {
    "duration": 18,
    "start_time": "2022-01-16T15:43:45.473Z"
   },
   {
    "duration": 7,
    "start_time": "2022-01-16T15:43:51.608Z"
   },
   {
    "duration": 10,
    "start_time": "2022-01-16T15:43:52.926Z"
   },
   {
    "duration": 164,
    "start_time": "2022-01-16T15:55:53.206Z"
   },
   {
    "duration": 21,
    "start_time": "2022-01-16T15:56:02.637Z"
   },
   {
    "duration": 11,
    "start_time": "2022-01-16T15:56:10.389Z"
   },
   {
    "duration": 355,
    "start_time": "2022-01-16T16:05:18.529Z"
   },
   {
    "duration": 18,
    "start_time": "2022-01-16T16:06:05.364Z"
   },
   {
    "duration": 321,
    "start_time": "2022-01-16T16:06:50.985Z"
   },
   {
    "duration": 13,
    "start_time": "2022-01-16T16:09:01.536Z"
   },
   {
    "duration": 11,
    "start_time": "2022-01-16T16:09:46.681Z"
   },
   {
    "duration": 12,
    "start_time": "2022-01-16T16:10:17.219Z"
   },
   {
    "duration": 456,
    "start_time": "2022-01-16T16:10:25.983Z"
   },
   {
    "duration": 11,
    "start_time": "2022-01-16T16:10:35.062Z"
   },
   {
    "duration": 15,
    "start_time": "2022-01-16T16:11:19.597Z"
   },
   {
    "duration": 5,
    "start_time": "2022-01-16T16:18:20.610Z"
   },
   {
    "duration": 9598,
    "start_time": "2022-01-16T16:20:27.507Z"
   },
   {
    "duration": 68,
    "start_time": "2022-01-16T16:20:52.670Z"
   },
   {
    "duration": 3,
    "start_time": "2022-01-16T16:20:52.740Z"
   },
   {
    "duration": 21,
    "start_time": "2022-01-16T16:20:52.745Z"
   },
   {
    "duration": 19,
    "start_time": "2022-01-16T16:20:52.768Z"
   },
   {
    "duration": 13,
    "start_time": "2022-01-16T16:20:52.789Z"
   },
   {
    "duration": 26,
    "start_time": "2022-01-16T16:20:52.804Z"
   },
   {
    "duration": 171,
    "start_time": "2022-01-16T16:20:52.831Z"
   },
   {
    "duration": 4,
    "start_time": "2022-01-16T16:20:53.004Z"
   },
   {
    "duration": 22,
    "start_time": "2022-01-16T16:20:53.010Z"
   },
   {
    "duration": 13,
    "start_time": "2022-01-16T16:20:53.033Z"
   },
   {
    "duration": 24,
    "start_time": "2022-01-16T16:20:53.047Z"
   },
   {
    "duration": 15,
    "start_time": "2022-01-16T16:20:55.951Z"
   },
   {
    "duration": 15,
    "start_time": "2022-01-16T16:27:27.199Z"
   },
   {
    "duration": 7,
    "start_time": "2022-01-16T16:28:39.885Z"
   },
   {
    "duration": 660,
    "start_time": "2022-01-16T16:28:42.227Z"
   },
   {
    "duration": 23,
    "start_time": "2022-01-16T16:28:43.557Z"
   },
   {
    "duration": 8,
    "start_time": "2022-01-16T16:28:45.122Z"
   },
   {
    "duration": 31,
    "start_time": "2022-01-16T16:28:50.506Z"
   },
   {
    "duration": 8733,
    "start_time": "2022-01-16T16:28:52.481Z"
   },
   {
    "duration": 9950,
    "start_time": "2022-01-16T16:29:01.215Z"
   },
   {
    "duration": 22,
    "start_time": "2022-01-16T16:29:11.167Z"
   },
   {
    "duration": 12,
    "start_time": "2022-01-16T16:29:11.190Z"
   },
   {
    "duration": 11,
    "start_time": "2022-01-16T16:29:13.388Z"
   },
   {
    "duration": 16,
    "start_time": "2022-01-16T16:29:23.175Z"
   },
   {
    "duration": 7359,
    "start_time": "2022-01-16T16:32:15.953Z"
   },
   {
    "duration": 17,
    "start_time": "2022-01-16T16:34:21.013Z"
   },
   {
    "duration": 6538,
    "start_time": "2022-01-16T16:37:28.369Z"
   },
   {
    "duration": 18,
    "start_time": "2022-01-16T16:37:41.961Z"
   },
   {
    "duration": 21,
    "start_time": "2022-01-16T16:38:22.315Z"
   },
   {
    "duration": 19,
    "start_time": "2022-01-16T16:39:12.399Z"
   },
   {
    "duration": 19,
    "start_time": "2022-01-16T16:39:20.453Z"
   },
   {
    "duration": 20,
    "start_time": "2022-01-16T16:39:40.998Z"
   },
   {
    "duration": 19,
    "start_time": "2022-01-16T16:40:26.207Z"
   },
   {
    "duration": 18,
    "start_time": "2022-01-16T16:43:36.586Z"
   },
   {
    "duration": 19,
    "start_time": "2022-01-16T16:44:24.625Z"
   },
   {
    "duration": 20,
    "start_time": "2022-01-16T16:46:49.733Z"
   },
   {
    "duration": 20,
    "start_time": "2022-01-16T16:49:03.353Z"
   },
   {
    "duration": 26,
    "start_time": "2022-01-16T16:52:26.934Z"
   },
   {
    "duration": 115,
    "start_time": "2022-01-16T16:56:23.578Z"
   },
   {
    "duration": 106,
    "start_time": "2022-01-16T16:57:32.008Z"
   },
   {
    "duration": 21,
    "start_time": "2022-01-16T16:57:38.139Z"
   },
   {
    "duration": 130,
    "start_time": "2022-01-16T16:59:51.944Z"
   },
   {
    "duration": 110,
    "start_time": "2022-01-16T17:00:07.194Z"
   },
   {
    "duration": 115,
    "start_time": "2022-01-16T17:01:11.063Z"
   },
   {
    "duration": 22,
    "start_time": "2022-01-16T17:02:11.807Z"
   },
   {
    "duration": 4,
    "start_time": "2022-01-16T17:03:35.494Z"
   },
   {
    "duration": 24,
    "start_time": "2022-01-16T17:03:43.994Z"
   },
   {
    "duration": 22,
    "start_time": "2022-01-16T17:03:51.270Z"
   },
   {
    "duration": 22,
    "start_time": "2022-01-16T17:04:05.325Z"
   },
   {
    "duration": 340,
    "start_time": "2022-01-16T17:04:18.031Z"
   },
   {
    "duration": 22,
    "start_time": "2022-01-16T17:04:22.370Z"
   },
   {
    "duration": 23,
    "start_time": "2022-01-16T17:04:45.576Z"
   },
   {
    "duration": 22,
    "start_time": "2022-01-16T17:04:51.050Z"
   },
   {
    "duration": 22,
    "start_time": "2022-01-16T17:05:15.006Z"
   },
   {
    "duration": 22,
    "start_time": "2022-01-16T17:05:25.521Z"
   },
   {
    "duration": 22,
    "start_time": "2022-01-16T17:05:32.074Z"
   },
   {
    "duration": 23,
    "start_time": "2022-01-16T17:05:39.874Z"
   },
   {
    "duration": 22,
    "start_time": "2022-01-16T17:05:51.116Z"
   },
   {
    "duration": 24,
    "start_time": "2022-01-16T17:06:24.224Z"
   },
   {
    "duration": 23,
    "start_time": "2022-01-16T17:06:43.638Z"
   },
   {
    "duration": 23,
    "start_time": "2022-01-16T17:06:49.948Z"
   },
   {
    "duration": 22,
    "start_time": "2022-01-16T17:06:54.825Z"
   },
   {
    "duration": 23,
    "start_time": "2022-01-16T17:07:04.926Z"
   },
   {
    "duration": 24,
    "start_time": "2022-01-16T17:07:19.413Z"
   },
   {
    "duration": 23,
    "start_time": "2022-01-16T17:07:50.030Z"
   },
   {
    "duration": 23,
    "start_time": "2022-01-16T17:08:03.142Z"
   },
   {
    "duration": 21,
    "start_time": "2022-01-16T17:08:59.626Z"
   },
   {
    "duration": 10,
    "start_time": "2022-01-16T17:27:32.466Z"
   },
   {
    "duration": 330,
    "start_time": "2022-01-16T17:27:34.955Z"
   },
   {
    "duration": 13,
    "start_time": "2022-01-16T17:27:35.772Z"
   },
   {
    "duration": 22,
    "start_time": "2022-01-16T17:28:00.795Z"
   },
   {
    "duration": 21,
    "start_time": "2022-01-16T17:31:30.655Z"
   },
   {
    "duration": 20,
    "start_time": "2022-01-16T17:31:51.410Z"
   },
   {
    "duration": 18,
    "start_time": "2022-01-16T17:37:43.940Z"
   },
   {
    "duration": 18,
    "start_time": "2022-01-16T17:38:36.551Z"
   },
   {
    "duration": 22,
    "start_time": "2022-01-16T17:41:49.377Z"
   },
   {
    "duration": 21,
    "start_time": "2022-01-16T17:43:42.782Z"
   },
   {
    "duration": 19,
    "start_time": "2022-01-16T17:44:09.747Z"
   },
   {
    "duration": 335,
    "start_time": "2022-01-16T17:51:06.648Z"
   },
   {
    "duration": 359,
    "start_time": "2022-01-16T17:51:35.720Z"
   },
   {
    "duration": 21,
    "start_time": "2022-01-16T17:51:51.394Z"
   },
   {
    "duration": 20,
    "start_time": "2022-01-16T17:51:59.917Z"
   },
   {
    "duration": 20,
    "start_time": "2022-01-16T17:53:43.331Z"
   },
   {
    "duration": 335,
    "start_time": "2022-01-16T17:55:33.517Z"
   },
   {
    "duration": 336,
    "start_time": "2022-01-16T17:55:55.154Z"
   },
   {
    "duration": 21,
    "start_time": "2022-01-16T17:56:09.817Z"
   },
   {
    "duration": 22,
    "start_time": "2022-01-16T17:57:01.465Z"
   },
   {
    "duration": 8648,
    "start_time": "2022-01-16T18:03:34.967Z"
   },
   {
    "duration": 29,
    "start_time": "2022-01-16T18:04:14.132Z"
   },
   {
    "duration": 361,
    "start_time": "2022-01-16T18:17:20.465Z"
   },
   {
    "duration": 12,
    "start_time": "2022-01-16T18:17:40.064Z"
   },
   {
    "duration": 15,
    "start_time": "2022-01-16T18:17:48.343Z"
   },
   {
    "duration": 5,
    "start_time": "2022-01-16T18:18:29.429Z"
   },
   {
    "duration": 11,
    "start_time": "2022-01-16T18:19:56.024Z"
   },
   {
    "duration": 308,
    "start_time": "2022-01-16T18:19:59.208Z"
   },
   {
    "duration": 5,
    "start_time": "2022-01-16T18:20:00.371Z"
   },
   {
    "duration": 12,
    "start_time": "2022-01-16T18:20:32.544Z"
   },
   {
    "duration": 338,
    "start_time": "2022-01-16T18:20:33.862Z"
   },
   {
    "duration": 5,
    "start_time": "2022-01-16T18:20:34.259Z"
   },
   {
    "duration": 13,
    "start_time": "2022-01-16T18:20:59.827Z"
   },
   {
    "duration": 328,
    "start_time": "2022-01-16T18:21:02.800Z"
   },
   {
    "duration": -2786,
    "start_time": "2022-01-16T18:21:05.917Z"
   },
   {
    "duration": 6,
    "start_time": "2022-01-16T18:21:14.837Z"
   },
   {
    "duration": 19,
    "start_time": "2022-01-16T18:21:49.990Z"
   },
   {
    "duration": 16,
    "start_time": "2022-01-16T18:21:59.771Z"
   },
   {
    "duration": 17,
    "start_time": "2022-01-16T18:22:05.554Z"
   },
   {
    "duration": 19,
    "start_time": "2022-01-16T18:29:17.788Z"
   },
   {
    "duration": 21,
    "start_time": "2022-01-16T18:29:49.624Z"
   },
   {
    "duration": 19,
    "start_time": "2022-01-16T18:30:46.755Z"
   },
   {
    "duration": 32,
    "start_time": "2022-01-16T18:31:43.558Z"
   },
   {
    "duration": 489,
    "start_time": "2022-01-16T18:32:59.767Z"
   },
   {
    "duration": 8160,
    "start_time": "2022-01-16T18:33:38.322Z"
   },
   {
    "duration": -2789,
    "start_time": "2022-01-16T18:33:49.273Z"
   },
   {
    "duration": -2795,
    "start_time": "2022-01-16T18:33:49.280Z"
   },
   {
    "duration": -2798,
    "start_time": "2022-01-16T18:33:49.284Z"
   },
   {
    "duration": -2802,
    "start_time": "2022-01-16T18:33:49.289Z"
   },
   {
    "duration": -2806,
    "start_time": "2022-01-16T18:33:49.294Z"
   },
   {
    "duration": -2809,
    "start_time": "2022-01-16T18:33:49.298Z"
   },
   {
    "duration": 348,
    "start_time": "2022-01-16T18:33:54.878Z"
   },
   {
    "duration": 538,
    "start_time": "2022-01-16T18:34:45.124Z"
   },
   {
    "duration": 342,
    "start_time": "2022-01-16T18:34:54.957Z"
   },
   {
    "duration": 18,
    "start_time": "2022-01-16T18:35:25.321Z"
   },
   {
    "duration": 19,
    "start_time": "2022-01-16T18:37:25.783Z"
   },
   {
    "duration": 20,
    "start_time": "2022-01-16T18:42:48.118Z"
   },
   {
    "duration": 20,
    "start_time": "2022-01-16T18:43:39.637Z"
   },
   {
    "duration": 103,
    "start_time": "2022-01-16T18:43:57.744Z"
   },
   {
    "duration": 19,
    "start_time": "2022-01-16T18:44:04.531Z"
   },
   {
    "duration": 22,
    "start_time": "2022-01-16T18:44:46.297Z"
   },
   {
    "duration": 20,
    "start_time": "2022-01-16T18:45:00.117Z"
   },
   {
    "duration": 21,
    "start_time": "2022-01-16T18:45:38.694Z"
   },
   {
    "duration": 21,
    "start_time": "2022-01-16T18:47:32.034Z"
   },
   {
    "duration": 25,
    "start_time": "2022-01-16T18:47:55.022Z"
   },
   {
    "duration": 20,
    "start_time": "2022-01-16T18:48:42.060Z"
   },
   {
    "duration": 20,
    "start_time": "2022-01-16T18:49:05.680Z"
   },
   {
    "duration": 61,
    "start_time": "2022-01-16T19:17:20.073Z"
   },
   {
    "duration": 7,
    "start_time": "2022-01-16T19:20:25.865Z"
   },
   {
    "duration": 166,
    "start_time": "2022-01-16T19:20:30.730Z"
   },
   {
    "duration": 14,
    "start_time": "2022-01-16T19:22:57.766Z"
   },
   {
    "duration": 26,
    "start_time": "2022-01-16T19:22:59.829Z"
   },
   {
    "duration": 16,
    "start_time": "2022-01-16T19:23:06.603Z"
   },
   {
    "duration": 16,
    "start_time": "2022-01-16T19:24:12.521Z"
   },
   {
    "duration": 17,
    "start_time": "2022-01-16T19:27:55.998Z"
   },
   {
    "duration": 636,
    "start_time": "2022-01-16T19:29:15.806Z"
   },
   {
    "duration": 24,
    "start_time": "2022-01-16T19:31:05.451Z"
   },
   {
    "duration": 8,
    "start_time": "2022-01-16T19:31:06.342Z"
   },
   {
    "duration": 31,
    "start_time": "2022-01-16T19:33:00.047Z"
   },
   {
    "duration": 29,
    "start_time": "2022-01-16T19:33:12.923Z"
   },
   {
    "duration": 8643,
    "start_time": "2022-01-16T19:33:14.224Z"
   },
   {
    "duration": 8755,
    "start_time": "2022-01-16T19:33:22.869Z"
   },
   {
    "duration": 21,
    "start_time": "2022-01-16T19:33:31.627Z"
   },
   {
    "duration": 19,
    "start_time": "2022-01-16T19:33:31.650Z"
   },
   {
    "duration": 12,
    "start_time": "2022-01-16T19:33:31.670Z"
   },
   {
    "duration": 8,
    "start_time": "2022-01-16T19:33:34.534Z"
   },
   {
    "duration": 6,
    "start_time": "2022-01-16T19:33:35.733Z"
   },
   {
    "duration": 335,
    "start_time": "2022-01-16T19:34:31.818Z"
   },
   {
    "duration": 345,
    "start_time": "2022-01-16T19:34:38.174Z"
   },
   {
    "duration": 9,
    "start_time": "2022-01-16T19:35:05.761Z"
   },
   {
    "duration": 8,
    "start_time": "2022-01-16T19:36:16.210Z"
   },
   {
    "duration": 620,
    "start_time": "2022-01-16T19:36:16.259Z"
   },
   {
    "duration": -2765,
    "start_time": "2022-01-16T19:36:19.646Z"
   },
   {
    "duration": -2769,
    "start_time": "2022-01-16T19:36:19.651Z"
   },
   {
    "duration": -2793,
    "start_time": "2022-01-16T19:36:19.676Z"
   },
   {
    "duration": 62,
    "start_time": "2022-01-16T19:36:35.215Z"
   },
   {
    "duration": 20,
    "start_time": "2022-01-16T19:36:35.279Z"
   },
   {
    "duration": 39,
    "start_time": "2022-01-16T19:36:35.301Z"
   },
   {
    "duration": 10,
    "start_time": "2022-01-16T19:36:35.342Z"
   },
   {
    "duration": 7,
    "start_time": "2022-01-16T19:36:35.353Z"
   },
   {
    "duration": 182,
    "start_time": "2022-01-16T19:36:35.361Z"
   },
   {
    "duration": 12,
    "start_time": "2022-01-16T19:36:35.545Z"
   },
   {
    "duration": 13,
    "start_time": "2022-01-16T19:36:35.559Z"
   },
   {
    "duration": 24,
    "start_time": "2022-01-16T19:36:35.574Z"
   },
   {
    "duration": 41,
    "start_time": "2022-01-16T19:36:35.600Z"
   },
   {
    "duration": 16,
    "start_time": "2022-01-16T19:36:35.643Z"
   },
   {
    "duration": 11,
    "start_time": "2022-01-16T19:36:35.660Z"
   },
   {
    "duration": 14,
    "start_time": "2022-01-16T19:36:35.673Z"
   },
   {
    "duration": 8,
    "start_time": "2022-01-16T19:36:35.689Z"
   },
   {
    "duration": 691,
    "start_time": "2022-01-16T19:36:35.698Z"
   },
   {
    "duration": 23,
    "start_time": "2022-01-16T19:36:36.391Z"
   },
   {
    "duration": 17,
    "start_time": "2022-01-16T19:36:36.416Z"
   },
   {
    "duration": 34,
    "start_time": "2022-01-16T19:36:36.435Z"
   },
   {
    "duration": 8883,
    "start_time": "2022-01-16T19:36:36.471Z"
   },
   {
    "duration": 9077,
    "start_time": "2022-01-16T19:36:45.356Z"
   },
   {
    "duration": 25,
    "start_time": "2022-01-16T19:36:54.457Z"
   },
   {
    "duration": 9,
    "start_time": "2022-01-16T19:36:54.484Z"
   },
   {
    "duration": 33,
    "start_time": "2022-01-16T19:36:54.494Z"
   },
   {
    "duration": 12,
    "start_time": "2022-01-16T19:36:54.528Z"
   },
   {
    "duration": 7,
    "start_time": "2022-01-16T19:36:54.541Z"
   },
   {
    "duration": 25,
    "start_time": "2022-01-16T19:40:40.626Z"
   },
   {
    "duration": 21,
    "start_time": "2022-01-16T19:41:05.859Z"
   },
   {
    "duration": 20,
    "start_time": "2022-01-16T19:41:39.628Z"
   },
   {
    "duration": 20,
    "start_time": "2022-01-16T19:41:49.759Z"
   },
   {
    "duration": 10,
    "start_time": "2022-01-16T19:52:01.580Z"
   },
   {
    "duration": 623,
    "start_time": "2022-01-19T19:00:13.779Z"
   },
   {
    "duration": 23,
    "start_time": "2022-01-19T19:00:14.404Z"
   },
   {
    "duration": 22,
    "start_time": "2022-01-19T19:00:14.429Z"
   },
   {
    "duration": 10,
    "start_time": "2022-01-19T19:00:14.453Z"
   },
   {
    "duration": 7,
    "start_time": "2022-01-19T19:00:14.465Z"
   },
   {
    "duration": 203,
    "start_time": "2022-01-19T19:00:14.474Z"
   },
   {
    "duration": 13,
    "start_time": "2022-01-19T19:00:14.679Z"
   },
   {
    "duration": 26,
    "start_time": "2022-01-19T19:00:14.694Z"
   },
   {
    "duration": 28,
    "start_time": "2022-01-19T19:00:14.722Z"
   },
   {
    "duration": 17,
    "start_time": "2022-01-19T19:00:14.751Z"
   },
   {
    "duration": 43,
    "start_time": "2022-01-19T19:00:14.770Z"
   },
   {
    "duration": 12,
    "start_time": "2022-01-19T19:00:14.814Z"
   },
   {
    "duration": 15,
    "start_time": "2022-01-19T19:00:14.827Z"
   },
   {
    "duration": 8,
    "start_time": "2022-01-19T19:00:14.843Z"
   },
   {
    "duration": 666,
    "start_time": "2022-01-19T19:03:00.893Z"
   },
   {
    "duration": 24,
    "start_time": "2022-01-19T19:03:01.561Z"
   },
   {
    "duration": 41,
    "start_time": "2022-01-19T19:03:01.587Z"
   },
   {
    "duration": 10,
    "start_time": "2022-01-19T19:03:01.629Z"
   },
   {
    "duration": 17,
    "start_time": "2022-01-19T19:03:01.641Z"
   },
   {
    "duration": 188,
    "start_time": "2022-01-19T19:03:01.660Z"
   },
   {
    "duration": 13,
    "start_time": "2022-01-19T19:03:01.850Z"
   },
   {
    "duration": 13,
    "start_time": "2022-01-19T19:03:01.866Z"
   },
   {
    "duration": 39,
    "start_time": "2022-01-19T19:03:01.882Z"
   },
   {
    "duration": 27,
    "start_time": "2022-01-19T19:03:01.922Z"
   },
   {
    "duration": 17,
    "start_time": "2022-01-19T19:03:01.950Z"
   },
   {
    "duration": 16,
    "start_time": "2022-01-19T19:03:01.968Z"
   },
   {
    "duration": 35,
    "start_time": "2022-01-19T19:03:01.986Z"
   },
   {
    "duration": 18,
    "start_time": "2022-01-19T19:03:02.023Z"
   },
   {
    "duration": 10,
    "start_time": "2022-01-19T19:03:02.043Z"
   },
   {
    "duration": 681,
    "start_time": "2022-01-19T19:03:02.054Z"
   },
   {
    "duration": 25,
    "start_time": "2022-01-19T19:03:02.736Z"
   },
   {
    "duration": 10,
    "start_time": "2022-01-19T19:03:02.763Z"
   },
   {
    "duration": 59,
    "start_time": "2022-01-19T19:03:02.775Z"
   },
   {
    "duration": 9570,
    "start_time": "2022-01-19T19:03:02.835Z"
   },
   {
    "duration": 8830,
    "start_time": "2022-01-19T19:03:12.407Z"
   },
   {
    "duration": 24,
    "start_time": "2022-01-19T19:03:21.239Z"
   },
   {
    "duration": 9,
    "start_time": "2022-01-19T19:03:21.266Z"
   },
   {
    "duration": 13,
    "start_time": "2022-01-19T19:03:21.277Z"
   },
   {
    "duration": 13,
    "start_time": "2022-01-19T19:03:21.311Z"
   },
   {
    "duration": 7,
    "start_time": "2022-01-19T19:03:21.326Z"
   },
   {
    "duration": 346,
    "start_time": "2022-01-19T19:03:21.335Z"
   },
   {
    "duration": 0,
    "start_time": "2022-01-19T19:03:21.683Z"
   },
   {
    "duration": -2,
    "start_time": "2022-01-19T19:03:21.686Z"
   },
   {
    "duration": -4,
    "start_time": "2022-01-19T19:03:21.689Z"
   },
   {
    "duration": -5,
    "start_time": "2022-01-19T19:03:21.691Z"
   },
   {
    "duration": 11,
    "start_time": "2022-01-19T19:03:28.692Z"
   },
   {
    "duration": 23,
    "start_time": "2022-01-19T19:06:52.545Z"
   },
   {
    "duration": 19,
    "start_time": "2022-01-19T19:07:06.916Z"
   },
   {
    "duration": 23,
    "start_time": "2022-01-19T19:07:22.374Z"
   },
   {
    "duration": 660,
    "start_time": "2022-01-19T19:19:59.652Z"
   },
   {
    "duration": 23,
    "start_time": "2022-01-19T19:20:00.314Z"
   },
   {
    "duration": 23,
    "start_time": "2022-01-19T19:20:00.339Z"
   },
   {
    "duration": 13,
    "start_time": "2022-01-19T19:20:00.365Z"
   },
   {
    "duration": 29,
    "start_time": "2022-01-19T19:20:00.380Z"
   },
   {
    "duration": 187,
    "start_time": "2022-01-19T19:20:00.411Z"
   },
   {
    "duration": 14,
    "start_time": "2022-01-19T19:20:00.600Z"
   },
   {
    "duration": 34,
    "start_time": "2022-01-19T19:20:00.617Z"
   },
   {
    "duration": 29,
    "start_time": "2022-01-19T19:20:00.653Z"
   },
   {
    "duration": 17,
    "start_time": "2022-01-19T19:20:00.684Z"
   },
   {
    "duration": 41,
    "start_time": "2022-01-19T19:20:00.703Z"
   },
   {
    "duration": 16,
    "start_time": "2022-01-19T19:20:00.745Z"
   },
   {
    "duration": 48,
    "start_time": "2022-01-19T19:20:00.762Z"
   },
   {
    "duration": 43,
    "start_time": "2022-01-19T19:20:00.811Z"
   },
   {
    "duration": 656,
    "start_time": "2022-01-19T19:20:00.856Z"
   },
   {
    "duration": 36,
    "start_time": "2022-01-19T19:20:01.514Z"
   },
   {
    "duration": 55,
    "start_time": "2022-01-19T19:20:01.552Z"
   },
   {
    "duration": 56,
    "start_time": "2022-01-19T19:20:01.609Z"
   },
   {
    "duration": 9185,
    "start_time": "2022-01-19T19:20:01.667Z"
   },
   {
    "duration": 8926,
    "start_time": "2022-01-19T19:20:10.854Z"
   },
   {
    "duration": 23,
    "start_time": "2022-01-19T19:20:19.781Z"
   },
   {
    "duration": 15,
    "start_time": "2022-01-19T19:20:19.806Z"
   },
   {
    "duration": 29,
    "start_time": "2022-01-19T19:20:19.824Z"
   },
   {
    "duration": 16,
    "start_time": "2022-01-19T19:20:19.855Z"
   },
   {
    "duration": 8,
    "start_time": "2022-01-19T19:20:19.873Z"
   },
   {
    "duration": 323,
    "start_time": "2022-01-19T19:20:28.040Z"
   },
   {
    "duration": 25,
    "start_time": "2022-01-19T19:21:06.230Z"
   },
   {
    "duration": 79,
    "start_time": "2022-01-19T19:22:15.083Z"
   },
   {
    "duration": 86,
    "start_time": "2022-01-19T19:24:41.769Z"
   },
   {
    "duration": 238,
    "start_time": "2022-01-19T19:38:44.537Z"
   },
   {
    "duration": 272,
    "start_time": "2022-01-19T19:39:33.828Z"
   },
   {
    "duration": 91,
    "start_time": "2022-01-19T19:39:42.471Z"
   },
   {
    "duration": 24,
    "start_time": "2022-01-19T19:39:42.564Z"
   },
   {
    "duration": 22,
    "start_time": "2022-01-19T19:39:42.590Z"
   },
   {
    "duration": 36,
    "start_time": "2022-01-19T19:39:42.614Z"
   },
   {
    "duration": 20,
    "start_time": "2022-01-19T19:39:42.652Z"
   },
   {
    "duration": 183,
    "start_time": "2022-01-19T19:39:42.674Z"
   },
   {
    "duration": 16,
    "start_time": "2022-01-19T19:39:42.858Z"
   },
   {
    "duration": 46,
    "start_time": "2022-01-19T19:39:42.877Z"
   },
   {
    "duration": 56,
    "start_time": "2022-01-19T19:39:42.925Z"
   },
   {
    "duration": 24,
    "start_time": "2022-01-19T19:39:42.983Z"
   },
   {
    "duration": 24,
    "start_time": "2022-01-19T19:39:43.009Z"
   },
   {
    "duration": 35,
    "start_time": "2022-01-19T19:39:43.035Z"
   },
   {
    "duration": 26,
    "start_time": "2022-01-19T19:39:43.072Z"
   },
   {
    "duration": 13,
    "start_time": "2022-01-19T19:39:43.100Z"
   },
   {
    "duration": 708,
    "start_time": "2022-01-19T19:39:43.115Z"
   },
   {
    "duration": 29,
    "start_time": "2022-01-19T19:39:43.825Z"
   },
   {
    "duration": 8,
    "start_time": "2022-01-19T19:39:43.856Z"
   },
   {
    "duration": 35,
    "start_time": "2022-01-19T19:39:43.866Z"
   },
   {
    "duration": 9810,
    "start_time": "2022-01-19T19:39:43.903Z"
   },
   {
    "duration": 9396,
    "start_time": "2022-01-19T19:39:53.715Z"
   },
   {
    "duration": 30,
    "start_time": "2022-01-19T19:40:03.112Z"
   },
   {
    "duration": 30,
    "start_time": "2022-01-19T19:40:03.144Z"
   },
   {
    "duration": 23,
    "start_time": "2022-01-19T19:40:03.177Z"
   },
   {
    "duration": 38,
    "start_time": "2022-01-19T19:40:03.202Z"
   },
   {
    "duration": 11,
    "start_time": "2022-01-19T19:40:03.241Z"
   },
   {
    "duration": 40,
    "start_time": "2022-01-19T19:40:03.253Z"
   },
   {
    "duration": 24,
    "start_time": "2022-01-19T19:40:03.295Z"
   },
   {
    "duration": 26,
    "start_time": "2022-01-19T19:40:03.321Z"
   },
   {
    "duration": 27,
    "start_time": "2022-01-19T19:40:03.349Z"
   },
   {
    "duration": 20,
    "start_time": "2022-01-19T19:40:21.785Z"
   },
   {
    "duration": 20,
    "start_time": "2022-01-19T19:40:27.918Z"
   },
   {
    "duration": 29,
    "start_time": "2022-01-19T19:41:02.998Z"
   },
   {
    "duration": 90,
    "start_time": "2022-01-19T19:45:19.962Z"
   },
   {
    "duration": 24,
    "start_time": "2022-01-19T19:45:20.053Z"
   },
   {
    "duration": 20,
    "start_time": "2022-01-19T19:45:20.079Z"
   },
   {
    "duration": 10,
    "start_time": "2022-01-19T19:45:20.101Z"
   },
   {
    "duration": 33,
    "start_time": "2022-01-19T19:45:20.113Z"
   },
   {
    "duration": 187,
    "start_time": "2022-01-19T19:45:20.147Z"
   },
   {
    "duration": 16,
    "start_time": "2022-01-19T19:45:20.335Z"
   },
   {
    "duration": 14,
    "start_time": "2022-01-19T19:45:20.354Z"
   },
   {
    "duration": 28,
    "start_time": "2022-01-19T19:45:20.370Z"
   },
   {
    "duration": 17,
    "start_time": "2022-01-19T19:45:20.399Z"
   },
   {
    "duration": 16,
    "start_time": "2022-01-19T19:45:20.442Z"
   },
   {
    "duration": 14,
    "start_time": "2022-01-19T19:45:20.459Z"
   },
   {
    "duration": 24,
    "start_time": "2022-01-19T19:45:20.475Z"
   },
   {
    "duration": 8,
    "start_time": "2022-01-19T19:45:20.501Z"
   },
   {
    "duration": 674,
    "start_time": "2022-01-19T19:45:20.510Z"
   },
   {
    "duration": 24,
    "start_time": "2022-01-19T19:45:21.186Z"
   },
   {
    "duration": 22,
    "start_time": "2022-01-19T19:45:21.212Z"
   },
   {
    "duration": 36,
    "start_time": "2022-01-19T19:45:21.241Z"
   },
   {
    "duration": 9920,
    "start_time": "2022-01-19T19:45:21.278Z"
   },
   {
    "duration": 10014,
    "start_time": "2022-01-19T19:45:31.200Z"
   },
   {
    "duration": 31,
    "start_time": "2022-01-19T19:45:41.216Z"
   },
   {
    "duration": 30,
    "start_time": "2022-01-19T19:45:41.249Z"
   },
   {
    "duration": 46,
    "start_time": "2022-01-19T19:45:41.283Z"
   },
   {
    "duration": 22,
    "start_time": "2022-01-19T19:45:41.331Z"
   },
   {
    "duration": 29,
    "start_time": "2022-01-19T19:45:41.355Z"
   },
   {
    "duration": 25,
    "start_time": "2022-01-19T19:45:41.385Z"
   },
   {
    "duration": 23,
    "start_time": "2022-01-19T19:45:41.412Z"
   },
   {
    "duration": 21,
    "start_time": "2022-01-19T19:45:41.437Z"
   },
   {
    "duration": 23,
    "start_time": "2022-01-19T19:45:41.460Z"
   },
   {
    "duration": 847,
    "start_time": "2022-01-20T16:33:16.385Z"
   },
   {
    "duration": 41,
    "start_time": "2022-01-20T16:33:17.235Z"
   },
   {
    "duration": 64,
    "start_time": "2022-01-20T16:33:17.279Z"
   },
   {
    "duration": 16,
    "start_time": "2022-01-20T16:33:17.346Z"
   },
   {
    "duration": 12,
    "start_time": "2022-01-20T16:33:17.365Z"
   },
   {
    "duration": 344,
    "start_time": "2022-01-20T16:33:17.380Z"
   },
   {
    "duration": 21,
    "start_time": "2022-01-20T16:33:17.727Z"
   },
   {
    "duration": 21,
    "start_time": "2022-01-20T16:33:17.752Z"
   },
   {
    "duration": 74,
    "start_time": "2022-01-20T16:33:17.776Z"
   },
   {
    "duration": 22,
    "start_time": "2022-01-20T16:33:17.852Z"
   },
   {
    "duration": 27,
    "start_time": "2022-01-20T16:33:17.876Z"
   },
   {
    "duration": 39,
    "start_time": "2022-01-20T16:33:17.905Z"
   },
   {
    "duration": 22,
    "start_time": "2022-01-20T16:33:17.946Z"
   },
   {
    "duration": 19,
    "start_time": "2022-01-20T16:33:17.971Z"
   },
   {
    "duration": 955,
    "start_time": "2022-01-20T16:33:17.992Z"
   },
   {
    "duration": 42,
    "start_time": "2022-01-20T16:33:18.949Z"
   },
   {
    "duration": 11,
    "start_time": "2022-01-20T16:33:18.994Z"
   },
   {
    "duration": 72,
    "start_time": "2022-01-20T16:33:19.008Z"
   },
   {
    "duration": 16367,
    "start_time": "2022-01-20T16:33:19.082Z"
   },
   {
    "duration": 17048,
    "start_time": "2022-01-20T16:33:35.452Z"
   },
   {
    "duration": 68,
    "start_time": "2022-01-20T16:33:52.502Z"
   },
   {
    "duration": 15,
    "start_time": "2022-01-20T16:33:52.573Z"
   },
   {
    "duration": 39,
    "start_time": "2022-01-20T16:33:52.593Z"
   },
   {
    "duration": 21,
    "start_time": "2022-01-20T16:33:52.635Z"
   },
   {
    "duration": 15,
    "start_time": "2022-01-20T16:33:52.659Z"
   },
   {
    "duration": 69,
    "start_time": "2022-01-20T16:33:52.676Z"
   },
   {
    "duration": 37,
    "start_time": "2022-01-20T16:33:52.748Z"
   },
   {
    "duration": 60,
    "start_time": "2022-01-20T16:33:52.788Z"
   },
   {
    "duration": 35,
    "start_time": "2022-01-20T16:33:52.850Z"
   }
  ],
  "kernelspec": {
   "display_name": "Python 3",
   "language": "python",
   "name": "python3"
  },
  "language_info": {
   "codemirror_mode": {
    "name": "ipython",
    "version": 3
   },
   "file_extension": ".py",
   "mimetype": "text/x-python",
   "name": "python",
   "nbconvert_exporter": "python",
   "pygments_lexer": "ipython3",
   "version": "3.7.8"
  },
  "toc": {
   "base_numbering": 1,
   "nav_menu": {},
   "number_sections": true,
   "sideBar": true,
   "skip_h1_title": true,
   "title_cell": "Table of Contents",
   "title_sidebar": "Contents",
   "toc_cell": false,
   "toc_position": {},
   "toc_section_display": true,
   "toc_window_display": true
  }
 },
 "nbformat": 4,
 "nbformat_minor": 2
}
