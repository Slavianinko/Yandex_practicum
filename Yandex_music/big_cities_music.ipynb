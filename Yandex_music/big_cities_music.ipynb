{
 "cells": [
  {
   "cell_type": "markdown",
   "metadata": {
    "id": "E0vqbgi9ay0H"
   },
   "source": [
    "# Яндекс.Музыка"
   ]
  },
  {
   "cell_type": "markdown",
   "metadata": {
    "id": "VUC88oWjTJw2"
   },
   "source": [
    "**Цель исследования:**\n",
    "Провести сравнение музыкальных предпочтений у пользователей Яндекс.Музыки, проживающих в Москве и Санкт-Петербурге. Сравнить прослушивания в понедельник, среду и пятницу по городам, а также сравнить жанры, которые слушают пользователи утром в понедельник и вечером в пятницу в Москве и Санкт-Петербурге.\n",
    "\n",
    "В ходе исследования произведём проверку следующих гипотез:\n",
    "1. Активность пользователей зависит от дня недели. Причём в Москве и Петербурге это проявляется по-разному.\n",
    "2. В понедельник утром в Москве преобладают одни жанры, а в Петербурге — другие. Так же и вечером пятницы преобладают разные жанры — в зависимости от города. \n",
    "3. Москва и Петербург предпочитают разные жанры музыки. В Москве чаще слушают поп-музыку, в Петербурге — русский рэп."
   ]
  },
  {
   "cell_type": "code",
   "execution_count": 1,
   "metadata": {
    "id": "AXN7PHPN_Zcs"
   },
   "outputs": [],
   "source": [
    "# импорт библиотеки\n",
    "import pandas as pd"
   ]
  },
  {
   "cell_type": "markdown",
   "metadata": {
    "id": "Ml1hmfXC_Zcs"
   },
   "source": [
    "## Обзор данных\n",
    "\n",
    "Составим первое представление о данных Яндекс.Музыки, для чего:\n",
    "- Загрузим данные из файла в таблицу Pandas. \n",
    "- Произведём оценку данных, выводом первых 10 строк таблицы и общей информации."
   ]
  },
  {
   "cell_type": "code",
   "execution_count": 2,
   "metadata": {
    "id": "oWTVX3gW_Zct",
    "scrolled": true
   },
   "outputs": [
    {
     "data": {
      "text/html": [
       "<div>\n",
       "<style scoped>\n",
       "    .dataframe tbody tr th:only-of-type {\n",
       "        vertical-align: middle;\n",
       "    }\n",
       "\n",
       "    .dataframe tbody tr th {\n",
       "        vertical-align: top;\n",
       "    }\n",
       "\n",
       "    .dataframe thead th {\n",
       "        text-align: right;\n",
       "    }\n",
       "</style>\n",
       "<table border=\"1\" class=\"dataframe\">\n",
       "  <thead>\n",
       "    <tr style=\"text-align: right;\">\n",
       "      <th></th>\n",
       "      <th>userID</th>\n",
       "      <th>Track</th>\n",
       "      <th>artist</th>\n",
       "      <th>genre</th>\n",
       "      <th>City</th>\n",
       "      <th>time</th>\n",
       "      <th>Day</th>\n",
       "    </tr>\n",
       "  </thead>\n",
       "  <tbody>\n",
       "    <tr>\n",
       "      <th>0</th>\n",
       "      <td>FFB692EC</td>\n",
       "      <td>Kamigata To Boots</td>\n",
       "      <td>The Mass Missile</td>\n",
       "      <td>rock</td>\n",
       "      <td>Saint-Petersburg</td>\n",
       "      <td>20:28:33</td>\n",
       "      <td>Wednesday</td>\n",
       "    </tr>\n",
       "    <tr>\n",
       "      <th>1</th>\n",
       "      <td>55204538</td>\n",
       "      <td>Delayed Because of Accident</td>\n",
       "      <td>Andreas Rönnberg</td>\n",
       "      <td>rock</td>\n",
       "      <td>Moscow</td>\n",
       "      <td>14:07:09</td>\n",
       "      <td>Friday</td>\n",
       "    </tr>\n",
       "    <tr>\n",
       "      <th>2</th>\n",
       "      <td>20EC38</td>\n",
       "      <td>Funiculì funiculà</td>\n",
       "      <td>Mario Lanza</td>\n",
       "      <td>pop</td>\n",
       "      <td>Saint-Petersburg</td>\n",
       "      <td>20:58:07</td>\n",
       "      <td>Wednesday</td>\n",
       "    </tr>\n",
       "    <tr>\n",
       "      <th>3</th>\n",
       "      <td>A3DD03C9</td>\n",
       "      <td>Dragons in the Sunset</td>\n",
       "      <td>Fire + Ice</td>\n",
       "      <td>folk</td>\n",
       "      <td>Saint-Petersburg</td>\n",
       "      <td>08:37:09</td>\n",
       "      <td>Monday</td>\n",
       "    </tr>\n",
       "    <tr>\n",
       "      <th>4</th>\n",
       "      <td>E2DC1FAE</td>\n",
       "      <td>Soul People</td>\n",
       "      <td>Space Echo</td>\n",
       "      <td>dance</td>\n",
       "      <td>Moscow</td>\n",
       "      <td>08:34:34</td>\n",
       "      <td>Monday</td>\n",
       "    </tr>\n",
       "    <tr>\n",
       "      <th>5</th>\n",
       "      <td>842029A1</td>\n",
       "      <td>Преданная</td>\n",
       "      <td>IMPERVTOR</td>\n",
       "      <td>rusrap</td>\n",
       "      <td>Saint-Petersburg</td>\n",
       "      <td>13:09:41</td>\n",
       "      <td>Friday</td>\n",
       "    </tr>\n",
       "    <tr>\n",
       "      <th>6</th>\n",
       "      <td>4CB90AA5</td>\n",
       "      <td>True</td>\n",
       "      <td>Roman Messer</td>\n",
       "      <td>dance</td>\n",
       "      <td>Moscow</td>\n",
       "      <td>13:00:07</td>\n",
       "      <td>Wednesday</td>\n",
       "    </tr>\n",
       "    <tr>\n",
       "      <th>7</th>\n",
       "      <td>F03E1C1F</td>\n",
       "      <td>Feeling This Way</td>\n",
       "      <td>Polina Griffith</td>\n",
       "      <td>dance</td>\n",
       "      <td>Moscow</td>\n",
       "      <td>20:47:49</td>\n",
       "      <td>Wednesday</td>\n",
       "    </tr>\n",
       "    <tr>\n",
       "      <th>8</th>\n",
       "      <td>8FA1D3BE</td>\n",
       "      <td>И вновь продолжается бой</td>\n",
       "      <td>NaN</td>\n",
       "      <td>ruspop</td>\n",
       "      <td>Moscow</td>\n",
       "      <td>09:17:40</td>\n",
       "      <td>Friday</td>\n",
       "    </tr>\n",
       "    <tr>\n",
       "      <th>9</th>\n",
       "      <td>E772D5C0</td>\n",
       "      <td>Pessimist</td>\n",
       "      <td>NaN</td>\n",
       "      <td>dance</td>\n",
       "      <td>Saint-Petersburg</td>\n",
       "      <td>21:20:49</td>\n",
       "      <td>Wednesday</td>\n",
       "    </tr>\n",
       "  </tbody>\n",
       "</table>\n",
       "</div>"
      ],
      "text/plain": [
       "     userID                        Track            artist   genre  \\\n",
       "0  FFB692EC            Kamigata To Boots  The Mass Missile    rock   \n",
       "1  55204538  Delayed Because of Accident  Andreas Rönnberg    rock   \n",
       "2    20EC38            Funiculì funiculà       Mario Lanza     pop   \n",
       "3  A3DD03C9        Dragons in the Sunset        Fire + Ice    folk   \n",
       "4  E2DC1FAE                  Soul People        Space Echo   dance   \n",
       "5  842029A1                    Преданная         IMPERVTOR  rusrap   \n",
       "6  4CB90AA5                         True      Roman Messer   dance   \n",
       "7  F03E1C1F             Feeling This Way   Polina Griffith   dance   \n",
       "8  8FA1D3BE     И вновь продолжается бой               NaN  ruspop   \n",
       "9  E772D5C0                    Pessimist               NaN   dance   \n",
       "\n",
       "             City        time        Day  \n",
       "0  Saint-Petersburg  20:28:33  Wednesday  \n",
       "1            Moscow  14:07:09     Friday  \n",
       "2  Saint-Petersburg  20:58:07  Wednesday  \n",
       "3  Saint-Petersburg  08:37:09     Monday  \n",
       "4            Moscow  08:34:34     Monday  \n",
       "5  Saint-Petersburg  13:09:41     Friday  \n",
       "6            Moscow  13:00:07  Wednesday  \n",
       "7            Moscow  20:47:49  Wednesday  \n",
       "8            Moscow  09:17:40     Friday  \n",
       "9  Saint-Petersburg  21:20:49  Wednesday  "
      ]
     },
     "execution_count": 2,
     "metadata": {},
     "output_type": "execute_result"
    }
   ],
   "source": [
    "# чтение файла с данными и сохранение в df\n",
    "df = pd.read_csv('/datasets/yandex_music_project.csv')\n",
    "# получение первых 10 строк таблицы df\n",
    "df.head(10)"
   ]
  },
  {
   "cell_type": "code",
   "execution_count": 3,
   "metadata": {
    "id": "DSf2kIb-_Zct"
   },
   "outputs": [
    {
     "name": "stdout",
     "output_type": "stream",
     "text": [
      "<class 'pandas.core.frame.DataFrame'>\n",
      "RangeIndex: 65079 entries, 0 to 65078\n",
      "Data columns (total 7 columns):\n",
      " #   Column    Non-Null Count  Dtype \n",
      "---  ------    --------------  ----- \n",
      " 0     userID  65079 non-null  object\n",
      " 1   Track     63848 non-null  object\n",
      " 2   artist    57876 non-null  object\n",
      " 3   genre     63881 non-null  object\n",
      " 4     City    65079 non-null  object\n",
      " 5   time      65079 non-null  object\n",
      " 6   Day       65079 non-null  object\n",
      "dtypes: object(7)\n",
      "memory usage: 3.5+ MB\n"
     ]
    }
   ],
   "source": [
    "# получение общей информации о данных в таблице df\n",
    "df.info()"
   ]
  },
  {
   "cell_type": "markdown",
   "metadata": {
    "id": "TaQ2Iwbr_Zct"
   },
   "source": [
    "**Выводы**\n",
    "\n",
    "Итак, в таблице семь столбцов. Тип данных во всех столбцах — `object`.\n",
    "В каждой строке таблицы — данные о прослушанном треке. Часть колонок описывает саму композицию: название, исполнителя и жанр. Остальные данные рассказывают о пользователе: из какого он города, когда он слушал музыку. \n",
    "\n",
    "В представленном датасете присутствуют следующие проблемы:\n",
    "1. В названиях колонок видны три нарушения стиля:\n",
    "    1. Строчные буквы сочетаются с прописными.\n",
    "    2. Встречаются пробелы.\n",
    "    3. Не использован snake_case в названиях.\n",
    "2. Количество значений в столбцах различается. Значит, в данных есть пропущенные значения.\n",
    "3. Необходимо произвести проверку данных на наличие дубликатов\n",
    "\n",
    "На следующем этапе, произведём устранение данных нарушений."
   ]
  },
  {
   "cell_type": "markdown",
   "metadata": {
    "id": "SjYF6Ub9_Zct"
   },
   "source": [
    "## Предобработка данных\n",
    "\n",
    "На данном этапе произведём:\n",
    "1. Исправление стиля заголовков.\n",
    "2. Обработку пропусков.\n",
    "3. Проверку данных на наличие дубликатов и их обработку"
   ]
  },
  {
   "cell_type": "markdown",
   "metadata": {
    "id": "dIaKXr29_Zct"
   },
   "source": [
    "### Стиль заголовков\n",
    "\n",
    "Для исправления стиля в заголовках колонок необходимо переименовать их в соответствии с общепринятым стилем:\n",
    "* `'  userID'` → `'user_id'`;\n",
    "* `'Track'` → `'track'`;\n",
    "* `'  City  '` → `'city'`;\n",
    "* `'Day'` → `'day'`."
   ]
  },
  {
   "cell_type": "code",
   "execution_count": 4,
   "metadata": {
    "id": "oKOTdF_Q_Zct",
    "scrolled": true
   },
   "outputs": [
    {
     "data": {
      "text/plain": [
       "Index(['  userID', 'Track', 'artist', 'genre', '  City  ', 'time', 'Day'], dtype='object')"
      ]
     },
     "metadata": {},
     "output_type": "display_data"
    }
   ],
   "source": [
    "# перечень названий столбцов таблицы df\n",
    "display(df.columns)"
   ]
  },
  {
   "cell_type": "code",
   "execution_count": 5,
   "metadata": {
    "id": "ISlFqs5y_Zct"
   },
   "outputs": [],
   "source": [
    "# переименование столбцов\n",
    "df = df.rename(columns={'  userID': 'user_id', 'Track': 'track', '  City  ': 'city', 'Day': 'day'})"
   ]
  },
  {
   "cell_type": "code",
   "execution_count": 6,
   "metadata": {
    "id": "d4NOAmTW_Zct"
   },
   "outputs": [
    {
     "data": {
      "text/plain": [
       "Index(['user_id', 'track', 'artist', 'genre', 'city', 'time', 'day'], dtype='object')"
      ]
     },
     "execution_count": 6,
     "metadata": {},
     "output_type": "execute_result"
    }
   ],
   "source": [
    "# проверка результатов - перечень названий столбцов\n",
    "df.columns"
   ]
  },
  {
   "cell_type": "markdown",
   "metadata": {},
   "source": [
    "Колонки переименованы."
   ]
  },
  {
   "cell_type": "markdown",
   "metadata": {
    "id": "5ISfbcfY_Zct"
   },
   "source": [
    "### Пропуски значений\n",
    "\n",
    "Ооработку пропусков будем производить следующим образом:\n",
    "\n",
    "- Произведём подсчёт количества пропущенных значений в таблице.\n",
    "- Пропуски есть в следующих колонках:\n",
    "    - `track` и `artist`: в данных колонках пропуски не важны для исследования. Достаточно заменить их явными обозначениями.\n",
    "    - `genre`: Пропуски в данной колонке могут помешать сравнению музыкальных вкусов в Москве и Санкт-Петербурге. \n",
    "- Так как установить причину пропусков и восстановить данные, в учебном проекте, возможности нет, действовать будем так:\n",
    "    * заполним и эти пропуски на строку 'unknown',\n",
    "    * оценим, насколько они повредят расчётам. "
   ]
  },
  {
   "cell_type": "code",
   "execution_count": 7,
   "metadata": {
    "id": "RskX29qr_Zct"
   },
   "outputs": [
    {
     "data": {
      "text/plain": [
       "user_id       0\n",
       "track      1231\n",
       "artist     7203\n",
       "genre      1198\n",
       "city          0\n",
       "time          0\n",
       "day           0\n",
       "dtype: int64"
      ]
     },
     "execution_count": 7,
     "metadata": {},
     "output_type": "execute_result"
    }
   ],
   "source": [
    "# подсчёт пропусков\n",
    "df.isna().sum()"
   ]
  },
  {
   "cell_type": "code",
   "execution_count": 8,
   "metadata": {
    "id": "KplB5qWs_Zct",
    "scrolled": true
   },
   "outputs": [],
   "source": [
    "# перебор названий столбцов в цикле и замена пропущенных значений на 'unknown'\n",
    "columns_to_replace = ['track', 'artist', 'genre']\n",
    "for col in columns_to_replace:\n",
    "    df[col] = df[col].fillna('unknown')"
   ]
  },
  {
   "cell_type": "code",
   "execution_count": 9,
   "metadata": {
    "id": "Tq4nYRX4_Zct"
   },
   "outputs": [
    {
     "data": {
      "text/plain": [
       "user_id    0\n",
       "track      0\n",
       "artist     0\n",
       "genre      0\n",
       "city       0\n",
       "time       0\n",
       "day        0\n",
       "dtype: int64"
      ]
     },
     "execution_count": 9,
     "metadata": {},
     "output_type": "execute_result"
    }
   ],
   "source": [
    "# подсчёт пропусков\n",
    "df.isna().sum()"
   ]
  },
  {
   "cell_type": "markdown",
   "metadata": {
    "id": "Ilsm-MZo_Zct"
   },
   "source": [
    "Пропусков не осталось"
   ]
  },
  {
   "cell_type": "markdown",
   "metadata": {
    "id": "BWKRtBJ3_Zct"
   },
   "source": [
    "### Дубликаты\n",
    "\n",
    "- Посчитаем явные дубликаты в таблице, и удалим их.\n",
    "- Произведём поиск и устанение неявных дубликатов."
   ]
  },
  {
   "cell_type": "markdown",
   "metadata": {},
   "source": [
    "#### Явные дубликаты"
   ]
  },
  {
   "cell_type": "code",
   "execution_count": 10,
   "metadata": {
    "id": "36eES_S0_Zct"
   },
   "outputs": [
    {
     "data": {
      "text/plain": [
       "3826"
      ]
     },
     "execution_count": 10,
     "metadata": {},
     "output_type": "execute_result"
    }
   ],
   "source": [
    "# подсчёт явных дубликатов\n",
    "df.duplicated().sum()"
   ]
  },
  {
   "cell_type": "code",
   "execution_count": 11,
   "metadata": {
    "id": "exFHq6tt_Zct"
   },
   "outputs": [],
   "source": [
    "# удаление явных дубликатов (с удалением старых индексов и формированием новых)\n",
    "df = df.drop_duplicates()"
   ]
  },
  {
   "cell_type": "code",
   "execution_count": 12,
   "metadata": {
    "id": "-8PuNWQ0_Zct"
   },
   "outputs": [
    {
     "name": "stdout",
     "output_type": "stream",
     "text": [
      "Количество явных дубликатов: 0\n"
     ]
    }
   ],
   "source": [
    "# проверка на отсутствие дубликатов\n",
    "print('Количество явных дубликатов:', df.duplicated().sum())"
   ]
  },
  {
   "cell_type": "markdown",
   "metadata": {
    "id": "Im2YwBEG_Zct"
   },
   "source": [
    "От явных дубикатов полностью избавились."
   ]
  },
  {
   "cell_type": "markdown",
   "metadata": {
    "id": "QlFBsxAr_Zct"
   },
   "source": [
    "#### Неявные дубликаты\n",
    "Теперь избавимся от неявных дубликатов в колонке `genre`. Название одного и того же жанра может быть записано немного по-разному. Такие ошибки тоже повлияют на результат исследования.\n",
    "\n",
    "Выведем на экран список уникальных названий жанров, отсортированный в алфавитном порядке."
   ]
  },
  {
   "cell_type": "code",
   "execution_count": 13,
   "metadata": {
    "id": "JIUcqzZN_Zct"
   },
   "outputs": [
    {
     "data": {
      "text/plain": [
       "array(['acid', 'acoustic', 'action', 'adult', 'africa', 'afrikaans',\n",
       "       'alternative', 'alternativepunk', 'ambient', 'americana',\n",
       "       'animated', 'anime', 'arabesk', 'arabic', 'arena',\n",
       "       'argentinetango', 'art', 'audiobook', 'author', 'avantgarde',\n",
       "       'axé', 'baile', 'balkan', 'beats', 'bigroom', 'black', 'bluegrass',\n",
       "       'blues', 'bollywood', 'bossa', 'brazilian', 'breakbeat', 'breaks',\n",
       "       'broadway', 'cantautori', 'cantopop', 'canzone', 'caribbean',\n",
       "       'caucasian', 'celtic', 'chamber', 'chanson', 'children', 'chill',\n",
       "       'chinese', 'choral', 'christian', 'christmas', 'classical',\n",
       "       'classicmetal', 'club', 'colombian', 'comedy', 'conjazz',\n",
       "       'contemporary', 'country', 'cuban', 'dance', 'dancehall',\n",
       "       'dancepop', 'dark', 'death', 'deep', 'deutschrock', 'deutschspr',\n",
       "       'dirty', 'disco', 'dnb', 'documentary', 'downbeat', 'downtempo',\n",
       "       'drum', 'dub', 'dubstep', 'eastern', 'easy', 'electronic',\n",
       "       'electropop', 'emo', 'entehno', 'epicmetal', 'estrada', 'ethnic',\n",
       "       'eurofolk', 'european', 'experimental', 'extrememetal', 'fado',\n",
       "       'fairytail', 'film', 'fitness', 'flamenco', 'folk', 'folklore',\n",
       "       'folkmetal', 'folkrock', 'folktronica', 'forró', 'frankreich',\n",
       "       'französisch', 'french', 'funk', 'future', 'gangsta', 'garage',\n",
       "       'german', 'ghazal', 'gitarre', 'glitch', 'gospel', 'gothic',\n",
       "       'grime', 'grunge', 'gypsy', 'handsup', \"hard'n'heavy\", 'hardcore',\n",
       "       'hardstyle', 'hardtechno', 'hip', 'hip-hop', 'hiphop',\n",
       "       'historisch', 'holiday', 'hop', 'horror', 'house', 'hymn', 'idm',\n",
       "       'independent', 'indian', 'indie', 'indipop', 'industrial',\n",
       "       'inspirational', 'instrumental', 'international', 'irish', 'jam',\n",
       "       'japanese', 'jazz', 'jewish', 'jpop', 'jungle', 'k-pop',\n",
       "       'karadeniz', 'karaoke', 'kayokyoku', 'korean', 'laiko', 'latin',\n",
       "       'latino', 'leftfield', 'local', 'lounge', 'loungeelectronic',\n",
       "       'lovers', 'malaysian', 'mandopop', 'marschmusik', 'meditative',\n",
       "       'mediterranean', 'melodic', 'metal', 'metalcore', 'mexican',\n",
       "       'middle', 'minimal', 'miscellaneous', 'modern', 'mood', 'mpb',\n",
       "       'muslim', 'native', 'neoklassik', 'neue', 'new', 'newage',\n",
       "       'newwave', 'nu', 'nujazz', 'numetal', 'oceania', 'old', 'opera',\n",
       "       'orchestral', 'other', 'piano', 'podcasts', 'pop', 'popdance',\n",
       "       'popelectronic', 'popeurodance', 'poprussian', 'post',\n",
       "       'posthardcore', 'postrock', 'power', 'progmetal', 'progressive',\n",
       "       'psychedelic', 'punjabi', 'punk', 'quebecois', 'ragga', 'ram',\n",
       "       'rancheras', 'rap', 'rave', 'reggae', 'reggaeton', 'regional',\n",
       "       'relax', 'religious', 'retro', 'rhythm', 'rnb', 'rnr', 'rock',\n",
       "       'rockabilly', 'rockalternative', 'rockindie', 'rockother',\n",
       "       'romance', 'roots', 'ruspop', 'rusrap', 'rusrock', 'russian',\n",
       "       'salsa', 'samba', 'scenic', 'schlager', 'self', 'sertanejo',\n",
       "       'shanson', 'shoegazing', 'showtunes', 'singer', 'ska', 'skarock',\n",
       "       'slow', 'smooth', 'soft', 'soul', 'soulful', 'sound', 'soundtrack',\n",
       "       'southern', 'specialty', 'speech', 'spiritual', 'sport',\n",
       "       'stonerrock', 'surf', 'swing', 'synthpop', 'synthrock',\n",
       "       'sängerportrait', 'tango', 'tanzorchester', 'taraftar', 'tatar',\n",
       "       'tech', 'techno', 'teen', 'thrash', 'top', 'traditional',\n",
       "       'tradjazz', 'trance', 'tribal', 'trip', 'triphop', 'tropical',\n",
       "       'türk', 'türkçe', 'ukrrock', 'unknown', 'urban', 'uzbek',\n",
       "       'variété', 'vi', 'videogame', 'vocal', 'western', 'world',\n",
       "       'worldbeat', 'ïîï', 'электроника'], dtype=object)"
      ]
     },
     "execution_count": 13,
     "metadata": {},
     "output_type": "execute_result"
    }
   ],
   "source": [
    "# Просмотр уникальных названий жанров\n",
    "df['genre'].sort_values().unique() "
   ]
  },
  {
   "cell_type": "markdown",
   "metadata": {
    "id": "qej-Qmuo_Zct"
   },
   "source": [
    "В списке уникальных жанров присутствуют дубликаты названия `hiphop`. Это могут быть названия с ошибками или альтернативные названия того же жанра:\n",
    "* *hip*,\n",
    "* *hop*,\n",
    "* *hip-hop*.\n",
    "\n",
    "Приведём эти названия к одному."
   ]
  },
  {
   "cell_type": "code",
   "execution_count": 14,
   "metadata": {
    "id": "ErNDkmns_Zct"
   },
   "outputs": [],
   "source": [
    "# Функция для замены неявных дубликатов\n",
    "def replace_wrong_genres(wrong_genres, correct_genre):\n",
    "    for wrong in wrong_genres:\n",
    "        df['genre'] = df['genre'].replace(wrong, correct_genre)\n",
    "\n",
    "# Устранение неявных дубликатов\n",
    "replace_wrong_genres(['hip', 'hop', 'hip-hop'], 'hiphop')"
   ]
  },
  {
   "cell_type": "code",
   "execution_count": 15,
   "metadata": {
    "id": "wvixALnFG15m",
    "scrolled": true
   },
   "outputs": [
    {
     "data": {
      "text/plain": [
       "array(['acid', 'acoustic', 'action', 'adult', 'africa', 'afrikaans',\n",
       "       'alternative', 'alternativepunk', 'ambient', 'americana',\n",
       "       'animated', 'anime', 'arabesk', 'arabic', 'arena',\n",
       "       'argentinetango', 'art', 'audiobook', 'author', 'avantgarde',\n",
       "       'axé', 'baile', 'balkan', 'beats', 'bigroom', 'black', 'bluegrass',\n",
       "       'blues', 'bollywood', 'bossa', 'brazilian', 'breakbeat', 'breaks',\n",
       "       'broadway', 'cantautori', 'cantopop', 'canzone', 'caribbean',\n",
       "       'caucasian', 'celtic', 'chamber', 'chanson', 'children', 'chill',\n",
       "       'chinese', 'choral', 'christian', 'christmas', 'classical',\n",
       "       'classicmetal', 'club', 'colombian', 'comedy', 'conjazz',\n",
       "       'contemporary', 'country', 'cuban', 'dance', 'dancehall',\n",
       "       'dancepop', 'dark', 'death', 'deep', 'deutschrock', 'deutschspr',\n",
       "       'dirty', 'disco', 'dnb', 'documentary', 'downbeat', 'downtempo',\n",
       "       'drum', 'dub', 'dubstep', 'eastern', 'easy', 'electronic',\n",
       "       'electropop', 'emo', 'entehno', 'epicmetal', 'estrada', 'ethnic',\n",
       "       'eurofolk', 'european', 'experimental', 'extrememetal', 'fado',\n",
       "       'fairytail', 'film', 'fitness', 'flamenco', 'folk', 'folklore',\n",
       "       'folkmetal', 'folkrock', 'folktronica', 'forró', 'frankreich',\n",
       "       'französisch', 'french', 'funk', 'future', 'gangsta', 'garage',\n",
       "       'german', 'ghazal', 'gitarre', 'glitch', 'gospel', 'gothic',\n",
       "       'grime', 'grunge', 'gypsy', 'handsup', \"hard'n'heavy\", 'hardcore',\n",
       "       'hardstyle', 'hardtechno', 'hiphop', 'historisch', 'holiday',\n",
       "       'horror', 'house', 'hymn', 'idm', 'independent', 'indian', 'indie',\n",
       "       'indipop', 'industrial', 'inspirational', 'instrumental',\n",
       "       'international', 'irish', 'jam', 'japanese', 'jazz', 'jewish',\n",
       "       'jpop', 'jungle', 'k-pop', 'karadeniz', 'karaoke', 'kayokyoku',\n",
       "       'korean', 'laiko', 'latin', 'latino', 'leftfield', 'local',\n",
       "       'lounge', 'loungeelectronic', 'lovers', 'malaysian', 'mandopop',\n",
       "       'marschmusik', 'meditative', 'mediterranean', 'melodic', 'metal',\n",
       "       'metalcore', 'mexican', 'middle', 'minimal', 'miscellaneous',\n",
       "       'modern', 'mood', 'mpb', 'muslim', 'native', 'neoklassik', 'neue',\n",
       "       'new', 'newage', 'newwave', 'nu', 'nujazz', 'numetal', 'oceania',\n",
       "       'old', 'opera', 'orchestral', 'other', 'piano', 'podcasts', 'pop',\n",
       "       'popdance', 'popelectronic', 'popeurodance', 'poprussian', 'post',\n",
       "       'posthardcore', 'postrock', 'power', 'progmetal', 'progressive',\n",
       "       'psychedelic', 'punjabi', 'punk', 'quebecois', 'ragga', 'ram',\n",
       "       'rancheras', 'rap', 'rave', 'reggae', 'reggaeton', 'regional',\n",
       "       'relax', 'religious', 'retro', 'rhythm', 'rnb', 'rnr', 'rock',\n",
       "       'rockabilly', 'rockalternative', 'rockindie', 'rockother',\n",
       "       'romance', 'roots', 'ruspop', 'rusrap', 'rusrock', 'russian',\n",
       "       'salsa', 'samba', 'scenic', 'schlager', 'self', 'sertanejo',\n",
       "       'shanson', 'shoegazing', 'showtunes', 'singer', 'ska', 'skarock',\n",
       "       'slow', 'smooth', 'soft', 'soul', 'soulful', 'sound', 'soundtrack',\n",
       "       'southern', 'specialty', 'speech', 'spiritual', 'sport',\n",
       "       'stonerrock', 'surf', 'swing', 'synthpop', 'synthrock',\n",
       "       'sängerportrait', 'tango', 'tanzorchester', 'taraftar', 'tatar',\n",
       "       'tech', 'techno', 'teen', 'thrash', 'top', 'traditional',\n",
       "       'tradjazz', 'trance', 'tribal', 'trip', 'triphop', 'tropical',\n",
       "       'türk', 'türkçe', 'ukrrock', 'unknown', 'urban', 'uzbek',\n",
       "       'variété', 'vi', 'videogame', 'vocal', 'western', 'world',\n",
       "       'worldbeat', 'ïîï', 'электроника'], dtype=object)"
      ]
     },
     "execution_count": 15,
     "metadata": {},
     "output_type": "execute_result"
    }
   ],
   "source": [
    "# Проверка на неявные дубликаты\n",
    "df['genre'].sort_values().unique()"
   ]
  },
  {
   "cell_type": "markdown",
   "metadata": {
    "id": "jz6a9-7HQUDd"
   },
   "source": [
    "**Выводы**\n",
    "\n",
    "Предобработка обнаружила три проблемы в данных:\n",
    "\n",
    "- нарушения в стиле заголовков,\n",
    "- пропущенные значения,\n",
    "- дубликаты — явные и неявные.\n",
    "\n",
    "Данные проблемы были устранены:\n",
    "- Исправили заголовки, чтобы упростить работу с таблицей. Без дубликатов исследование станет более точным.\n",
    "- Пропущенные значения вы заменили на `'unknown'`. Ещё предстоит увидеть, не повредят ли исследованию пропуски в колонке `genre`.\n",
    "- Избавились от дубликатов.\n",
    "\n",
    "Теперь можно перейти к проверке гипотез. "
   ]
  },
  {
   "cell_type": "markdown",
   "metadata": {
    "id": "WttZHXH0SqKk"
   },
   "source": [
    "## Проверка гипотез"
   ]
  },
  {
   "cell_type": "markdown",
   "metadata": {
    "id": "Im936VVi_Zcu"
   },
   "source": [
    "### Сравнение поведения пользователей двух столиц"
   ]
  },
  {
   "cell_type": "markdown",
   "metadata": {
    "id": "nwt_MuaL_Zcu"
   },
   "source": [
    "Первая гипотеза утверждает, что пользователи по-разному слушают музыку в Москве и Санкт-Петербурге. Проверим это предположение по данным о трёх днях недели — понедельнике, среде и пятнице. Для этого:\n",
    "\n",
    "* Разделим пользователей Москвы и Санкт-Петербурга\n",
    "* Сравним, сколько треков послушала каждая группа пользователей в понедельник, среду и пятницу.\n"
   ]
  },
  {
   "cell_type": "code",
   "execution_count": 16,
   "metadata": {
    "id": "0_Qs96oh_Zcu"
   },
   "outputs": [
    {
     "data": {
      "text/plain": [
       "city\n",
       "Moscow              42741\n",
       "Saint-Petersburg    18512\n",
       "Name: genre, dtype: int64"
      ]
     },
     "metadata": {},
     "output_type": "display_data"
    }
   ],
   "source": [
    "# Подсчёт прослушиваний в каждом городе\n",
    "city_genre = df.groupby('city')['genre'].count()\n",
    "display(city_genre)"
   ]
  },
  {
   "cell_type": "markdown",
   "metadata": {
    "id": "dzli3w8o_Zcu"
   },
   "source": [
    "В Москве прослушиваний больше, чем в Петербурге. Из этого не следует, что московские пользователи чаще слушают музыку. Просто самих пользователей в Москве больше.\n",
    "\n",
    "Теперь сгруппируем данные по дню недели и подсчитайте прослушивания в понедельник, среду и пятницу."
   ]
  },
  {
   "cell_type": "code",
   "execution_count": 17,
   "metadata": {
    "id": "uZMKjiJz_Zcu"
   },
   "outputs": [
    {
     "data": {
      "text/plain": [
       "day\n",
       "Friday       21840\n",
       "Monday       21354\n",
       "Wednesday    18059\n",
       "Name: genre, dtype: int64"
      ]
     },
     "metadata": {},
     "output_type": "display_data"
    }
   ],
   "source": [
    "# Подсчёт прослушиваний в каждый из трёх дней\n",
    "group_day = df.groupby('day')['genre'].count()\n",
    "display(group_day)"
   ]
  },
  {
   "cell_type": "markdown",
   "metadata": {
    "id": "cC2tNrlL_Zcu"
   },
   "source": [
    "В среднем пользователи из двух городов менее активны по средам. Рассмотрим каждый город в отдельности."
   ]
  },
  {
   "cell_type": "code",
   "execution_count": 18,
   "metadata": {
    "id": "Nz3GdQB1_Zcu"
   },
   "outputs": [],
   "source": [
    "# <создание функции number_tracks()>\n",
    "# Объявляется функция с двумя параметрами: day, city.\n",
    "\n",
    "def number_tracks(day, city):\n",
    "    track_list = df[df['day'] == day]\n",
    "    track_list = track_list[track_list['city'] == city]\n",
    "    track_list_count = track_list['user_id'].count()    \n",
    "    return track_list_count   \n"
   ]
  },
  {
   "cell_type": "code",
   "execution_count": 19,
   "metadata": {
    "id": "rJcRATNQ_Zcu"
   },
   "outputs": [
    {
     "name": "stdout",
     "output_type": "stream",
     "text": [
      "15740\n"
     ]
    }
   ],
   "source": [
    "# количество прослушиваний в Москве по понедельникам\n",
    "print(number_tracks('Monday', 'Moscow'))"
   ]
  },
  {
   "cell_type": "code",
   "execution_count": 20,
   "metadata": {
    "id": "hq_ncZ5T_Zcu"
   },
   "outputs": [
    {
     "name": "stdout",
     "output_type": "stream",
     "text": [
      "5614\n"
     ]
    }
   ],
   "source": [
    "# количество прослушиваний в Санкт-Петербурге по понедельникам\n",
    "print(number_tracks('Monday', 'Saint-Petersburg'))"
   ]
  },
  {
   "cell_type": "code",
   "execution_count": 21,
   "metadata": {
    "id": "_NTy2VPU_Zcu"
   },
   "outputs": [
    {
     "name": "stdout",
     "output_type": "stream",
     "text": [
      "11056\n"
     ]
    }
   ],
   "source": [
    "# количество прослушиваний в Москве по средам\n",
    "print(number_tracks('Wednesday', 'Moscow'))"
   ]
  },
  {
   "cell_type": "code",
   "execution_count": 22,
   "metadata": {
    "id": "j2y3TAwo_Zcu"
   },
   "outputs": [
    {
     "name": "stdout",
     "output_type": "stream",
     "text": [
      "7003\n"
     ]
    }
   ],
   "source": [
    "# количество прослушиваний в Санкт-Петербурге по средам\n",
    "print(number_tracks('Wednesday', 'Saint-Petersburg'))"
   ]
  },
  {
   "cell_type": "code",
   "execution_count": 23,
   "metadata": {
    "id": "vYDw5u_K_Zcu"
   },
   "outputs": [
    {
     "name": "stdout",
     "output_type": "stream",
     "text": [
      "15945\n"
     ]
    }
   ],
   "source": [
    "# количество прослушиваний в Москве по пятницам\n",
    "print(number_tracks('Friday', 'Moscow'))"
   ]
  },
  {
   "cell_type": "code",
   "execution_count": 24,
   "metadata": {
    "id": "8_yzFtW3_Zcu"
   },
   "outputs": [
    {
     "name": "stdout",
     "output_type": "stream",
     "text": [
      "5895\n"
     ]
    }
   ],
   "source": [
    "# количество прослушиваний в Санкт-Петербурге по пятницам\n",
    "print(number_tracks('Friday', 'Saint-Petersburg'))"
   ]
  },
  {
   "cell_type": "code",
   "execution_count": 25,
   "metadata": {
    "id": "APAcLpOr_Zcu"
   },
   "outputs": [
    {
     "data": {
      "text/html": [
       "<div>\n",
       "<style scoped>\n",
       "    .dataframe tbody tr th:only-of-type {\n",
       "        vertical-align: middle;\n",
       "    }\n",
       "\n",
       "    .dataframe tbody tr th {\n",
       "        vertical-align: top;\n",
       "    }\n",
       "\n",
       "    .dataframe thead th {\n",
       "        text-align: right;\n",
       "    }\n",
       "</style>\n",
       "<table border=\"1\" class=\"dataframe\">\n",
       "  <thead>\n",
       "    <tr style=\"text-align: right;\">\n",
       "      <th></th>\n",
       "      <th>city</th>\n",
       "      <th>monday</th>\n",
       "      <th>wednesday</th>\n",
       "      <th>friday</th>\n",
       "    </tr>\n",
       "  </thead>\n",
       "  <tbody>\n",
       "    <tr>\n",
       "      <th>0</th>\n",
       "      <td>Moscow</td>\n",
       "      <td>15740</td>\n",
       "      <td>11056</td>\n",
       "      <td>15945</td>\n",
       "    </tr>\n",
       "    <tr>\n",
       "      <th>1</th>\n",
       "      <td>Saint-Petersburg</td>\n",
       "      <td>5614</td>\n",
       "      <td>7003</td>\n",
       "      <td>5895</td>\n",
       "    </tr>\n",
       "  </tbody>\n",
       "</table>\n",
       "</div>"
      ],
      "text/plain": [
       "               city  monday  wednesday  friday\n",
       "0            Moscow   15740      11056   15945\n",
       "1  Saint-Petersburg    5614       7003    5895"
      ]
     },
     "metadata": {},
     "output_type": "display_data"
    }
   ],
   "source": [
    "# Таблица с результатами\n",
    "columns = ['city', 'monday', 'wednesday', 'friday']\n",
    "data = [['Moscow', 15740, 11056, 15945],\n",
    "        ['Saint-Petersburg', 5614, 7003, 5895]]\n",
    "tabl = pd.DataFrame(data= data, columns= columns)\n",
    "display(tabl)"
   ]
  },
  {
   "cell_type": "markdown",
   "metadata": {
    "id": "-EgPIHYu_Zcu"
   },
   "source": [
    "**Выводы**\n",
    "\n",
    "Данные показывают разницу поведения пользователей:\n",
    "\n",
    "- В Москве пик прослушиваний приходится на понедельник и пятницу, а в среду заметен спад.\n",
    "- В Петербурге, наоборот, больше слушают музыку по средам. Активность в понедельник и пятницу здесь почти в равной мере уступает среде.\n",
    "\n",
    "Значит, данные говорят в пользу первой гипотезы."
   ]
  },
  {
   "cell_type": "markdown",
   "metadata": {
    "id": "atZAxtq4_Zcu"
   },
   "source": [
    "### Музыка в начале и в конце недели"
   ]
  },
  {
   "cell_type": "markdown",
   "metadata": {
    "id": "eXrQqXFH_Zcu"
   },
   "source": [
    "Согласно второй гипотезе, утром в понедельник в Москве преобладают одни жанры, а в Петербурге — другие. Так же и вечером пятницы преобладают разные жанры — в зависимости от города."
   ]
  },
  {
   "cell_type": "code",
   "execution_count": 26,
   "metadata": {
    "id": "qeaFfM_P_Zcu"
   },
   "outputs": [],
   "source": [
    "# получение таблицы moscow_general из тех строк таблицы df, \n",
    "# для которых значение в столбце 'city' равно 'Moscow'\n",
    "moscow_general = df[df['city'] == 'Moscow']"
   ]
  },
  {
   "cell_type": "code",
   "execution_count": 27,
   "metadata": {
    "id": "ORaVRKto_Zcu"
   },
   "outputs": [],
   "source": [
    "# получение таблицы spb_general из тех строк таблицы df,\n",
    "# для которых значение в столбце 'city' равно 'Saint-Petersburg'\n",
    "spb_general = df[df['city'] == 'Saint-Petersburg']"
   ]
  },
  {
   "cell_type": "code",
   "execution_count": 28,
   "metadata": {
    "id": "laJT9BYl_Zcu"
   },
   "outputs": [],
   "source": [
    "# Объявление функции genre_weekday() с параметрами table, day, time1, time2,\n",
    "# которая возвращает информацию о самых популярных жанрах в указанный день в\n",
    "# заданное время:\n",
    "\n",
    "def genre_weekday(table, day, time1, time2):\n",
    "    genre_df = table[table['day'] == day]\n",
    "    genre_df = genre_df[genre_df['time'] > time1]\n",
    "    genre_df = genre_df[genre_df['time'] < time2]\n",
    "    genre_df_count = genre_df.groupby('genre')['user_id'].count()\n",
    "    genre_df_sorted = genre_df_count.sort_values(ascending = False)\n",
    "    return genre_df_sorted.head(10)"
   ]
  },
  {
   "cell_type": "markdown",
   "metadata": {
    "id": "la2s2_PF_Zcu"
   },
   "source": [
    "Cравним результаты функции `genre_weekday()` для Москвы и Санкт-Петербурга в понедельник утром (с 7:00 до 11:00) и в пятницу вечером (с 17:00 до 23:00):"
   ]
  },
  {
   "cell_type": "code",
   "execution_count": 29,
   "metadata": {
    "id": "yz7itPUQ_Zcu"
   },
   "outputs": [
    {
     "data": {
      "text/plain": [
       "genre\n",
       "pop            781\n",
       "dance          549\n",
       "electronic     480\n",
       "rock           474\n",
       "hiphop         286\n",
       "ruspop         186\n",
       "world          181\n",
       "rusrap         175\n",
       "alternative    164\n",
       "unknown        161\n",
       "Name: user_id, dtype: int64"
      ]
     },
     "metadata": {},
     "output_type": "display_data"
    }
   ],
   "source": [
    "# вызов функции для утра понедельника в Москве (вместо df — таблица moscow_general)\n",
    "display(genre_weekday(moscow_general, 'Monday', '07:00', '11:00'))"
   ]
  },
  {
   "cell_type": "code",
   "execution_count": 30,
   "metadata": {
    "id": "kwUcHPdy_Zcu"
   },
   "outputs": [
    {
     "data": {
      "text/plain": [
       "genre\n",
       "pop            218\n",
       "dance          182\n",
       "rock           162\n",
       "electronic     147\n",
       "hiphop          80\n",
       "ruspop          64\n",
       "alternative     58\n",
       "rusrap          55\n",
       "jazz            44\n",
       "classical       40\n",
       "Name: user_id, dtype: int64"
      ]
     },
     "metadata": {},
     "output_type": "display_data"
    }
   ],
   "source": [
    "# вызов функции для утра понедельника в Петербурге (вместо df — таблица spb_general)\n",
    "display(genre_weekday(spb_general, 'Monday', '07:00', '11:00'))"
   ]
  },
  {
   "cell_type": "code",
   "execution_count": 31,
   "metadata": {
    "id": "EzXVRE1o_Zcu"
   },
   "outputs": [
    {
     "data": {
      "text/plain": [
       "genre\n",
       "pop            713\n",
       "rock           517\n",
       "dance          495\n",
       "electronic     482\n",
       "hiphop         273\n",
       "world          208\n",
       "ruspop         170\n",
       "alternative    163\n",
       "classical      163\n",
       "rusrap         142\n",
       "Name: user_id, dtype: int64"
      ]
     },
     "metadata": {},
     "output_type": "display_data"
    }
   ],
   "source": [
    "# вызов функции для вечера пятницы в Москве\n",
    "display(genre_weekday(moscow_general, 'Friday', '17:00', '23:00'))"
   ]
  },
  {
   "cell_type": "code",
   "execution_count": 32,
   "metadata": {
    "id": "JZaEKu5v_Zcu"
   },
   "outputs": [
    {
     "data": {
      "text/plain": [
       "genre\n",
       "pop            256\n",
       "electronic     216\n",
       "rock           216\n",
       "dance          210\n",
       "hiphop          97\n",
       "alternative     63\n",
       "jazz            61\n",
       "classical       60\n",
       "rusrap          59\n",
       "world           54\n",
       "Name: user_id, dtype: int64"
      ]
     },
     "metadata": {},
     "output_type": "display_data"
    }
   ],
   "source": [
    "# вызов функции для вечера пятницы в Петербурге\n",
    "display(genre_weekday(spb_general, 'Friday', '17:00', '23:00'))"
   ]
  },
  {
   "cell_type": "markdown",
   "metadata": {
    "id": "wrCe4MNX_Zcu"
   },
   "source": [
    "**Выводы**\n",
    "\n",
    "Если сравнить топ-10 жанров в понедельник утром, можно сделать такие выводы:\n",
    "\n",
    "1. В Москве и Петербурге слушают похожую музыку. Единственное отличие — в московский рейтинг вошёл жанр “world”, а в петербургский — джаз и классика.\n",
    "\n",
    "2. В Москве пропущенных значений оказалось так много, что значение `'unknown'` заняло десятое место среди самых популярных жанров. Значит, пропущенные значения занимают существенную долю в данных и угрожают достоверности исследования.\n",
    "\n",
    "Вечер пятницы не меняет эту картину. Некоторые жанры поднимаются немного выше, другие спускаются, но в целом топ-10 остаётся тем же самым.\n",
    "\n",
    "Таким образом, вторая гипотеза подтвердилась лишь частично:\n",
    "* Пользователи слушают похожую музыку в начале недели и в конце.\n",
    "* Разница между Москвой и Петербургом не слишком выражена. В Москве чаще слушают русскую популярную музыку, в Петербурге — джаз.\n",
    "\n",
    "Однако пропуски в данных ставят под сомнение этот результат. В Москве их так много, что рейтинг топ-10 мог бы выглядеть иначе, если бы не утерянные  данные о жанрах."
   ]
  },
  {
   "cell_type": "markdown",
   "metadata": {
    "id": "JolODAqr_Zcu"
   },
   "source": [
    "### Жанровые предпочтения в Москве и Петербурге\n",
    "\n",
    "Гипотеза: Петербург — столица рэпа, музыку этого жанра там слушают чаще, чем в Москве.  А Москва — город контрастов, в котором, тем не менее, преобладает поп-музыка."
   ]
  },
  {
   "cell_type": "code",
   "execution_count": 33,
   "metadata": {
    "id": "r19lIPke_Zcu"
   },
   "outputs": [],
   "source": [
    "# группировка таблицы moscow_general по столбцу 'genre', \n",
    "# подсчёт числа значений 'genre' в этой группировке методом count(), \n",
    "# сортировка получившегося Series в порядке убывания и сохранение в moscow_genres\n",
    "moscow_genres = moscow_general.groupby('genre')['track'].count()\n",
    "moscow_genres = moscow_genres.sort_values(ascending= False)"
   ]
  },
  {
   "cell_type": "code",
   "execution_count": 34,
   "metadata": {
    "id": "WhCSooF8_Zcv"
   },
   "outputs": [
    {
     "data": {
      "text/plain": [
       "genre\n",
       "pop            5892\n",
       "dance          4435\n",
       "rock           3965\n",
       "electronic     3786\n",
       "hiphop         2096\n",
       "classical      1616\n",
       "world          1432\n",
       "alternative    1379\n",
       "ruspop         1372\n",
       "rusrap         1161\n",
       "Name: track, dtype: int64"
      ]
     },
     "metadata": {},
     "output_type": "display_data"
    }
   ],
   "source": [
    "# просмотр первых 10 строк moscow_genres\n",
    "display(moscow_genres.head(10))"
   ]
  },
  {
   "cell_type": "code",
   "execution_count": 35,
   "metadata": {
    "id": "gluLIpE7_Zcv"
   },
   "outputs": [],
   "source": [
    "# группировка таблицы spb_general по столбцу 'genre', \n",
    "# подсчёт числа значений 'genre' в этой группировке методом count(), \n",
    "# сортировка получившегося Series в порядке убывания и сохранение в spb_genres\n",
    "spb_genres = spb_general.groupby('genre')['track'].count().sort_values(ascending= False)"
   ]
  },
  {
   "cell_type": "code",
   "execution_count": 36,
   "metadata": {
    "id": "uaGJHjVU_Zcv"
   },
   "outputs": [
    {
     "data": {
      "text/plain": [
       "genre\n",
       "pop            2431\n",
       "dance          1932\n",
       "rock           1879\n",
       "electronic     1736\n",
       "hiphop          960\n",
       "alternative     649\n",
       "classical       646\n",
       "rusrap          564\n",
       "ruspop          538\n",
       "world           515\n",
       "Name: track, dtype: int64"
      ]
     },
     "metadata": {},
     "output_type": "display_data"
    }
   ],
   "source": [
    "# просмотр первых 10 строк spb_genres\n",
    "display(spb_genres.head(10))"
   ]
  },
  {
   "cell_type": "markdown",
   "metadata": {
    "id": "RY51YJYu_Zcv"
   },
   "source": [
    "**Выводы**"
   ]
  },
  {
   "cell_type": "markdown",
   "metadata": {
    "id": "nVhnJEm__Zcv"
   },
   "source": [
    "Гипотеза частично подтвердилась:\n",
    "* Поп-музыка — самый популярный жанр в Москве, как и предполагала гипотеза. Более того, в топ-10 жанров встречается близкий жанр — русская популярная музыка.\n",
    "* Вопреки ожиданиям, рэп одинаково популярен в Москве и Петербурге. \n"
   ]
  },
  {
   "cell_type": "markdown",
   "metadata": {
    "id": "ykKQ0N65_Zcv"
   },
   "source": [
    "## Итоги исследования"
   ]
  },
  {
   "cell_type": "markdown",
   "metadata": {
    "id": "tjUwbHb3_Zcv"
   },
   "source": [
    "Вы проверили три гипотезы и установили:\n",
    "\n",
    "1. День недели по-разному влияет на активность пользователей в Москве и Петербурге. \n",
    "\n",
    "Первая гипотеза полностью подтвердилась.\n",
    "\n",
    "2. Музыкальные предпочтения не сильно меняются в течение недели — будь то Москва или Петербург. Небольшие различия заметны в начале недели, по понедельникам:\n",
    "* в Москве слушают музыку жанра “world”,\n",
    "* в Петербурге — джаз и классику.\n",
    "\n",
    "Таким образом, вторая гипотеза подтвердилась лишь отчасти. Этот результат мог оказаться иным, если бы не пропуски в данных.\n",
    "\n",
    "3. Во вкусах пользователей Москвы и Петербурга больше общего чем различий. Вопреки ожиданиям, предпочтения жанров в Петербурге напоминают московские.\n",
    "\n",
    "Третья гипотеза не подтвердилась. Если различия в предпочтениях и существуют, на основной массе пользователей они незаметны."
   ]
  }
 ],
 "metadata": {
  "ExecuteTimeLog": [
   {
    "duration": 1017,
    "start_time": "2021-12-23T19:17:06.157Z"
   },
   {
    "duration": 4528,
    "start_time": "2021-12-23T19:17:42.022Z"
   },
   {
    "duration": 184,
    "start_time": "2021-12-23T19:20:11.401Z"
   },
   {
    "duration": 27,
    "start_time": "2021-12-23T19:20:37.184Z"
   },
   {
    "duration": 34,
    "start_time": "2021-12-23T19:21:40.926Z"
   },
   {
    "duration": 6,
    "start_time": "2021-12-23T19:41:55.028Z"
   },
   {
    "duration": 5,
    "start_time": "2021-12-23T19:42:19.690Z"
   },
   {
    "duration": 5,
    "start_time": "2021-12-23T19:42:34.918Z"
   },
   {
    "duration": 78,
    "start_time": "2021-12-24T15:47:04.934Z"
   },
   {
    "duration": 284,
    "start_time": "2021-12-24T15:47:14.169Z"
   },
   {
    "duration": 317,
    "start_time": "2021-12-24T15:48:29.254Z"
   },
   {
    "duration": 570,
    "start_time": "2021-12-24T15:49:02.205Z"
   },
   {
    "duration": 155,
    "start_time": "2021-12-24T15:49:02.777Z"
   },
   {
    "duration": 20,
    "start_time": "2021-12-24T15:49:02.934Z"
   },
   {
    "duration": 33,
    "start_time": "2021-12-24T15:49:02.956Z"
   },
   {
    "duration": 8,
    "start_time": "2021-12-24T15:49:02.991Z"
   },
   {
    "duration": 21,
    "start_time": "2021-12-24T15:49:20.411Z"
   },
   {
    "duration": 4,
    "start_time": "2021-12-24T15:50:09.042Z"
   },
   {
    "duration": 170,
    "start_time": "2021-12-24T15:50:09.047Z"
   },
   {
    "duration": 9,
    "start_time": "2021-12-24T15:50:09.219Z"
   },
   {
    "duration": 46,
    "start_time": "2021-12-24T15:50:09.230Z"
   },
   {
    "duration": 12,
    "start_time": "2021-12-24T15:50:09.277Z"
   },
   {
    "duration": 27,
    "start_time": "2021-12-24T15:50:09.291Z"
   },
   {
    "duration": 2,
    "start_time": "2021-12-24T15:50:30.008Z"
   },
   {
    "duration": 2,
    "start_time": "2021-12-24T15:50:39.524Z"
   },
   {
    "duration": 3,
    "start_time": "2021-12-24T15:51:18.122Z"
   },
   {
    "duration": 150,
    "start_time": "2021-12-24T15:51:18.127Z"
   },
   {
    "duration": 9,
    "start_time": "2021-12-24T15:51:18.279Z"
   },
   {
    "duration": 25,
    "start_time": "2021-12-24T15:51:18.290Z"
   },
   {
    "duration": 4,
    "start_time": "2021-12-24T15:51:18.316Z"
   },
   {
    "duration": 3,
    "start_time": "2021-12-24T15:52:33.725Z"
   },
   {
    "duration": 231,
    "start_time": "2021-12-24T15:52:33.730Z"
   },
   {
    "duration": 15,
    "start_time": "2021-12-24T15:52:33.963Z"
   },
   {
    "duration": 76,
    "start_time": "2021-12-24T15:52:33.980Z"
   },
   {
    "duration": 6,
    "start_time": "2021-12-24T15:52:34.059Z"
   },
   {
    "duration": 22,
    "start_time": "2021-12-24T15:52:34.066Z"
   },
   {
    "duration": 3,
    "start_time": "2021-12-24T15:52:34.091Z"
   },
   {
    "duration": 11,
    "start_time": "2021-12-24T15:52:34.096Z"
   },
   {
    "duration": 9,
    "start_time": "2021-12-24T15:52:34.109Z"
   },
   {
    "duration": 10,
    "start_time": "2021-12-24T15:52:34.120Z"
   },
   {
    "duration": 10,
    "start_time": "2021-12-24T15:52:34.132Z"
   },
   {
    "duration": 22,
    "start_time": "2021-12-24T15:52:34.143Z"
   },
   {
    "duration": 10,
    "start_time": "2021-12-24T15:52:34.167Z"
   },
   {
    "duration": 11,
    "start_time": "2021-12-24T15:52:34.179Z"
   },
   {
    "duration": 9,
    "start_time": "2021-12-24T15:52:34.192Z"
   },
   {
    "duration": 8,
    "start_time": "2021-12-24T15:52:34.203Z"
   },
   {
    "duration": 10,
    "start_time": "2021-12-24T15:52:34.213Z"
   },
   {
    "duration": 10,
    "start_time": "2021-12-24T15:52:34.225Z"
   },
   {
    "duration": 20,
    "start_time": "2021-12-24T15:52:34.238Z"
   },
   {
    "duration": 11,
    "start_time": "2021-12-24T15:52:34.260Z"
   },
   {
    "duration": 11,
    "start_time": "2021-12-24T15:52:34.273Z"
   },
   {
    "duration": 14,
    "start_time": "2021-12-24T15:52:34.286Z"
   },
   {
    "duration": 9,
    "start_time": "2021-12-24T15:52:34.302Z"
   },
   {
    "duration": 12,
    "start_time": "2021-12-24T15:52:34.313Z"
   },
   {
    "duration": 11,
    "start_time": "2021-12-24T15:52:34.326Z"
   },
   {
    "duration": 10,
    "start_time": "2021-12-24T15:52:34.339Z"
   },
   {
    "duration": 21,
    "start_time": "2021-12-24T15:52:34.351Z"
   },
   {
    "duration": 10,
    "start_time": "2021-12-24T15:52:34.374Z"
   },
   {
    "duration": 8,
    "start_time": "2021-12-24T15:52:34.386Z"
   },
   {
    "duration": 11,
    "start_time": "2021-12-24T15:52:34.396Z"
   },
   {
    "duration": 14,
    "start_time": "2021-12-24T15:52:34.408Z"
   },
   {
    "duration": 8,
    "start_time": "2021-12-24T15:52:34.424Z"
   },
   {
    "duration": 30,
    "start_time": "2021-12-24T15:52:34.433Z"
   },
   {
    "duration": 12,
    "start_time": "2021-12-24T15:52:34.465Z"
   },
   {
    "duration": 11,
    "start_time": "2021-12-24T15:52:34.479Z"
   },
   {
    "duration": 7,
    "start_time": "2021-12-24T15:52:34.491Z"
   },
   {
    "duration": 15,
    "start_time": "2021-12-24T15:52:34.500Z"
   },
   {
    "duration": 9,
    "start_time": "2021-12-24T15:52:34.517Z"
   },
   {
    "duration": 587,
    "start_time": "2021-12-24T15:54:47.769Z"
   },
   {
    "duration": 2,
    "start_time": "2021-12-24T15:55:12.275Z"
   },
   {
    "duration": 140,
    "start_time": "2021-12-24T15:55:12.281Z"
   },
   {
    "duration": 22,
    "start_time": "2021-12-24T15:55:12.423Z"
   },
   {
    "duration": 30,
    "start_time": "2021-12-24T15:55:12.448Z"
   },
   {
    "duration": 6,
    "start_time": "2021-12-24T15:55:12.480Z"
   },
   {
    "duration": 30,
    "start_time": "2021-12-24T15:55:22.033Z"
   },
   {
    "duration": 4,
    "start_time": "2021-12-24T15:58:24.638Z"
   },
   {
    "duration": 24,
    "start_time": "2021-12-24T15:58:57.030Z"
   },
   {
    "duration": 3,
    "start_time": "2021-12-24T15:59:00.729Z"
   },
   {
    "duration": 16,
    "start_time": "2021-12-24T15:59:08.180Z"
   },
   {
    "duration": 4,
    "start_time": "2021-12-24T15:59:15.710Z"
   },
   {
    "duration": 34,
    "start_time": "2021-12-24T16:02:57.871Z"
   },
   {
    "duration": 4405,
    "start_time": "2021-12-24T16:09:26.274Z"
   },
   {
    "duration": 5490,
    "start_time": "2021-12-24T16:09:31.143Z"
   },
   {
    "duration": 4936,
    "start_time": "2021-12-24T16:11:16.353Z"
   },
   {
    "duration": 3328,
    "start_time": "2021-12-24T16:12:13.215Z"
   },
   {
    "duration": 3360,
    "start_time": "2021-12-24T16:12:58.096Z"
   },
   {
    "duration": 3497,
    "start_time": "2021-12-24T16:14:03.635Z"
   },
   {
    "duration": 3296,
    "start_time": "2021-12-24T16:14:27.389Z"
   },
   {
    "duration": 577,
    "start_time": "2021-12-24T16:16:50.051Z"
   },
   {
    "duration": 141,
    "start_time": "2021-12-24T16:16:50.630Z"
   },
   {
    "duration": 17,
    "start_time": "2021-12-24T16:16:50.773Z"
   },
   {
    "duration": 50,
    "start_time": "2021-12-24T16:16:50.792Z"
   },
   {
    "duration": 7,
    "start_time": "2021-12-24T16:16:50.844Z"
   },
   {
    "duration": 38,
    "start_time": "2021-12-24T16:16:50.852Z"
   },
   {
    "duration": 13,
    "start_time": "2021-12-24T16:16:50.892Z"
   },
   {
    "duration": 25,
    "start_time": "2021-12-24T16:16:50.907Z"
   },
   {
    "duration": 32,
    "start_time": "2021-12-24T16:16:59.923Z"
   },
   {
    "duration": 23,
    "start_time": "2021-12-24T16:17:30.600Z"
   },
   {
    "duration": 312,
    "start_time": "2021-12-24T16:18:27.607Z"
   },
   {
    "duration": 289,
    "start_time": "2021-12-24T16:18:36.590Z"
   },
   {
    "duration": 270,
    "start_time": "2021-12-24T16:19:13.109Z"
   },
   {
    "duration": 96,
    "start_time": "2021-12-24T16:19:34.554Z"
   },
   {
    "duration": 96,
    "start_time": "2021-12-24T16:20:25.281Z"
   },
   {
    "duration": 55,
    "start_time": "2021-12-24T16:20:48.375Z"
   },
   {
    "duration": 54,
    "start_time": "2021-12-24T16:23:00.135Z"
   },
   {
    "duration": 39,
    "start_time": "2021-12-24T16:23:03.955Z"
   },
   {
    "duration": 66,
    "start_time": "2021-12-24T16:24:46.166Z"
   },
   {
    "duration": 3,
    "start_time": "2021-12-24T16:32:43.211Z"
   },
   {
    "duration": 569,
    "start_time": "2021-12-24T16:33:37.903Z"
   },
   {
    "duration": 3,
    "start_time": "2021-12-24T16:34:39.667Z"
   },
   {
    "duration": 17,
    "start_time": "2021-12-24T16:34:42.139Z"
   },
   {
    "duration": 50,
    "start_time": "2021-12-24T16:35:47.737Z"
   },
   {
    "duration": 4325,
    "start_time": "2021-12-24T16:44:53.876Z"
   },
   {
    "duration": 4041,
    "start_time": "2021-12-24T16:44:59.257Z"
   },
   {
    "duration": 4217,
    "start_time": "2021-12-24T16:45:25.554Z"
   },
   {
    "duration": 11,
    "start_time": "2021-12-24T16:46:18.011Z"
   },
   {
    "duration": 275,
    "start_time": "2021-12-24T16:50:23.354Z"
   },
   {
    "duration": 5,
    "start_time": "2021-12-24T16:51:05.924Z"
   },
   {
    "duration": 299,
    "start_time": "2021-12-24T16:53:23.755Z"
   },
   {
    "duration": 11,
    "start_time": "2021-12-24T16:53:51.156Z"
   },
   {
    "duration": 3,
    "start_time": "2021-12-24T17:01:07.771Z"
   },
   {
    "duration": 9,
    "start_time": "2021-12-24T17:02:17.554Z"
   },
   {
    "duration": 14,
    "start_time": "2021-12-24T17:02:29.654Z"
   },
   {
    "duration": 14,
    "start_time": "2021-12-24T17:03:56.310Z"
   },
   {
    "duration": 15,
    "start_time": "2021-12-24T17:04:25.725Z"
   },
   {
    "duration": 14,
    "start_time": "2021-12-24T17:05:21.099Z"
   },
   {
    "duration": 15,
    "start_time": "2021-12-24T17:05:57.960Z"
   },
   {
    "duration": 15,
    "start_time": "2021-12-24T17:06:00.060Z"
   },
   {
    "duration": 18,
    "start_time": "2021-12-24T17:06:07.419Z"
   },
   {
    "duration": 14,
    "start_time": "2021-12-24T17:06:11.892Z"
   },
   {
    "duration": 332,
    "start_time": "2021-12-24T17:12:22.773Z"
   },
   {
    "duration": 10,
    "start_time": "2021-12-24T17:12:50.506Z"
   },
   {
    "duration": 16,
    "start_time": "2021-12-24T17:21:22.289Z"
   },
   {
    "duration": 10,
    "start_time": "2021-12-24T17:50:59.797Z"
   },
   {
    "duration": 10,
    "start_time": "2021-12-24T17:51:27.637Z"
   },
   {
    "duration": 4,
    "start_time": "2021-12-24T17:54:44.779Z"
   },
   {
    "duration": 4,
    "start_time": "2021-12-24T17:59:03.657Z"
   },
   {
    "duration": 19,
    "start_time": "2021-12-24T18:00:44.518Z"
   },
   {
    "duration": 15,
    "start_time": "2021-12-24T18:02:16.458Z"
   },
   {
    "duration": 17,
    "start_time": "2021-12-24T18:03:27.097Z"
   },
   {
    "duration": 13,
    "start_time": "2021-12-24T18:03:39.489Z"
   },
   {
    "duration": 11,
    "start_time": "2021-12-24T18:09:43.252Z"
   },
   {
    "duration": 5,
    "start_time": "2021-12-24T18:10:54.576Z"
   },
   {
    "duration": 15,
    "start_time": "2021-12-24T18:11:38.533Z"
   },
   {
    "duration": 5,
    "start_time": "2021-12-24T18:11:40.455Z"
   },
   {
    "duration": 11,
    "start_time": "2021-12-24T18:11:47.703Z"
   },
   {
    "duration": 5,
    "start_time": "2021-12-24T18:11:49.054Z"
   },
   {
    "duration": 8,
    "start_time": "2021-12-24T18:14:59.178Z"
   },
   {
    "duration": 5,
    "start_time": "2021-12-24T18:15:23.457Z"
   },
   {
    "duration": 4,
    "start_time": "2021-12-24T18:32:22.535Z"
   },
   {
    "duration": 16,
    "start_time": "2021-12-24T18:32:27.401Z"
   },
   {
    "duration": 557,
    "start_time": "2021-12-24T18:32:48.565Z"
   },
   {
    "duration": 141,
    "start_time": "2021-12-24T18:32:49.124Z"
   },
   {
    "duration": 14,
    "start_time": "2021-12-24T18:32:49.267Z"
   },
   {
    "duration": 34,
    "start_time": "2021-12-24T18:32:49.283Z"
   },
   {
    "duration": 8,
    "start_time": "2021-12-24T18:32:49.319Z"
   },
   {
    "duration": 35,
    "start_time": "2021-12-24T18:32:49.329Z"
   },
   {
    "duration": 12,
    "start_time": "2021-12-24T18:32:49.366Z"
   },
   {
    "duration": 23,
    "start_time": "2021-12-24T18:32:49.380Z"
   },
   {
    "duration": 16,
    "start_time": "2021-12-24T18:32:49.405Z"
   },
   {
    "duration": 38,
    "start_time": "2021-12-24T18:32:49.423Z"
   },
   {
    "duration": 57,
    "start_time": "2021-12-24T18:32:49.464Z"
   },
   {
    "duration": 65,
    "start_time": "2021-12-24T18:32:49.523Z"
   },
   {
    "duration": 52,
    "start_time": "2021-12-24T18:32:49.590Z"
   },
   {
    "duration": 44,
    "start_time": "2021-12-24T18:32:49.643Z"
   },
   {
    "duration": 3,
    "start_time": "2021-12-24T18:32:49.688Z"
   },
   {
    "duration": 28,
    "start_time": "2021-12-24T18:32:49.693Z"
   },
   {
    "duration": 68,
    "start_time": "2021-12-24T18:32:49.723Z"
   },
   {
    "duration": 28,
    "start_time": "2021-12-24T18:32:49.792Z"
   },
   {
    "duration": 27,
    "start_time": "2021-12-24T18:32:49.822Z"
   },
   {
    "duration": 15,
    "start_time": "2021-12-24T18:32:49.850Z"
   },
   {
    "duration": 36,
    "start_time": "2021-12-24T18:32:49.867Z"
   },
   {
    "duration": 24,
    "start_time": "2021-12-24T18:32:49.905Z"
   },
   {
    "duration": 40,
    "start_time": "2021-12-24T18:32:49.933Z"
   },
   {
    "duration": 19,
    "start_time": "2021-12-24T18:32:49.976Z"
   },
   {
    "duration": 29,
    "start_time": "2021-12-24T18:32:49.997Z"
   },
   {
    "duration": 19,
    "start_time": "2021-12-24T18:32:50.027Z"
   },
   {
    "duration": 22,
    "start_time": "2021-12-24T18:32:50.048Z"
   },
   {
    "duration": 24,
    "start_time": "2021-12-24T18:32:50.071Z"
   },
   {
    "duration": 9,
    "start_time": "2021-12-24T18:32:50.097Z"
   },
   {
    "duration": 5,
    "start_time": "2021-12-24T18:32:50.107Z"
   },
   {
    "duration": 43,
    "start_time": "2021-12-24T18:32:50.113Z"
   },
   {
    "duration": 24,
    "start_time": "2021-12-24T18:32:50.158Z"
   },
   {
    "duration": 25,
    "start_time": "2021-12-24T18:32:50.183Z"
   },
   {
    "duration": 11,
    "start_time": "2021-12-24T18:32:50.209Z"
   },
   {
    "duration": 27,
    "start_time": "2021-12-24T18:32:50.221Z"
   },
   {
    "duration": 19,
    "start_time": "2021-12-24T18:32:50.250Z"
   },
   {
    "duration": 16,
    "start_time": "2021-12-24T18:32:50.271Z"
   },
   {
    "duration": 19,
    "start_time": "2021-12-24T18:32:50.288Z"
   },
   {
    "duration": 4,
    "start_time": "2021-12-24T18:37:44.430Z"
   },
   {
    "duration": 22,
    "start_time": "2021-12-24T18:37:50.840Z"
   },
   {
    "duration": 13,
    "start_time": "2021-12-24T18:37:50.864Z"
   },
   {
    "duration": 13,
    "start_time": "2021-12-24T18:37:50.879Z"
   },
   {
    "duration": 12,
    "start_time": "2021-12-24T18:37:50.893Z"
   },
   {
    "duration": 55,
    "start_time": "2021-12-24T18:37:50.906Z"
   },
   {
    "duration": 13,
    "start_time": "2021-12-24T18:37:50.963Z"
   },
   {
    "duration": 13,
    "start_time": "2021-12-24T18:37:50.977Z"
   },
   {
    "duration": 25,
    "start_time": "2021-12-24T18:37:50.992Z"
   },
   {
    "duration": 9,
    "start_time": "2021-12-24T18:37:51.019Z"
   },
   {
    "duration": 19,
    "start_time": "2021-12-24T18:37:51.029Z"
   },
   {
    "duration": 35,
    "start_time": "2021-12-24T18:37:51.050Z"
   },
   {
    "duration": 11,
    "start_time": "2021-12-24T18:37:51.087Z"
   },
   {
    "duration": 15,
    "start_time": "2021-12-24T18:37:51.100Z"
   },
   {
    "duration": 11,
    "start_time": "2021-12-24T18:37:51.117Z"
   },
   {
    "duration": 21,
    "start_time": "2021-12-24T18:37:51.129Z"
   },
   {
    "duration": 18,
    "start_time": "2021-12-24T18:37:51.152Z"
   },
   {
    "duration": 18,
    "start_time": "2021-12-24T18:37:51.171Z"
   },
   {
    "duration": 16,
    "start_time": "2021-12-24T18:37:51.190Z"
   },
   {
    "duration": 863,
    "start_time": "2021-12-25T17:25:13.342Z"
   },
   {
    "duration": 686,
    "start_time": "2021-12-25T17:25:14.208Z"
   },
   {
    "duration": 27,
    "start_time": "2021-12-25T17:25:19.876Z"
   },
   {
    "duration": 4,
    "start_time": "2021-12-25T17:28:13.817Z"
   },
   {
    "duration": 182,
    "start_time": "2021-12-25T17:28:13.826Z"
   },
   {
    "duration": 18,
    "start_time": "2021-12-25T17:28:14.010Z"
   },
   {
    "duration": 55,
    "start_time": "2021-12-25T17:28:14.031Z"
   },
   {
    "duration": 5,
    "start_time": "2021-12-25T17:28:14.088Z"
   },
   {
    "duration": 37,
    "start_time": "2021-12-25T17:28:14.095Z"
   },
   {
    "duration": 5,
    "start_time": "2021-12-25T17:28:17.303Z"
   },
   {
    "duration": 3,
    "start_time": "2021-12-25T17:30:39.754Z"
   },
   {
    "duration": 192,
    "start_time": "2021-12-25T17:30:39.760Z"
   },
   {
    "duration": 16,
    "start_time": "2021-12-25T17:30:39.955Z"
   },
   {
    "duration": 33,
    "start_time": "2021-12-25T17:30:39.974Z"
   },
   {
    "duration": 5,
    "start_time": "2021-12-25T17:30:40.010Z"
   },
   {
    "duration": 56,
    "start_time": "2021-12-25T17:30:40.017Z"
   },
   {
    "duration": 6,
    "start_time": "2021-12-25T17:30:40.077Z"
   },
   {
    "duration": 32,
    "start_time": "2021-12-25T17:30:40.086Z"
   },
   {
    "duration": 50,
    "start_time": "2021-12-25T17:30:40.121Z"
   },
   {
    "duration": 29,
    "start_time": "2021-12-25T17:30:40.174Z"
   },
   {
    "duration": 100,
    "start_time": "2021-12-25T17:30:40.206Z"
   },
   {
    "duration": 93,
    "start_time": "2021-12-25T17:30:40.308Z"
   },
   {
    "duration": 71,
    "start_time": "2021-12-25T17:30:43.315Z"
   },
   {
    "duration": 4,
    "start_time": "2021-12-25T17:31:37.809Z"
   },
   {
    "duration": 197,
    "start_time": "2021-12-25T17:31:37.815Z"
   },
   {
    "duration": 15,
    "start_time": "2021-12-25T17:31:38.014Z"
   },
   {
    "duration": 43,
    "start_time": "2021-12-25T17:31:38.032Z"
   },
   {
    "duration": 5,
    "start_time": "2021-12-25T17:31:38.077Z"
   },
   {
    "duration": 19,
    "start_time": "2021-12-25T17:31:38.085Z"
   },
   {
    "duration": 5,
    "start_time": "2021-12-25T17:31:38.108Z"
   },
   {
    "duration": 69,
    "start_time": "2021-12-25T17:31:38.115Z"
   },
   {
    "duration": 23,
    "start_time": "2021-12-25T17:31:38.186Z"
   },
   {
    "duration": 49,
    "start_time": "2021-12-25T17:31:38.211Z"
   },
   {
    "duration": 97,
    "start_time": "2021-12-25T17:31:38.263Z"
   },
   {
    "duration": 84,
    "start_time": "2021-12-25T17:31:38.363Z"
   },
   {
    "duration": 72,
    "start_time": "2021-12-25T17:31:38.459Z"
   },
   {
    "duration": 55,
    "start_time": "2021-12-25T17:31:40.374Z"
   },
   {
    "duration": 57,
    "start_time": "2021-12-25T17:32:08.472Z"
   },
   {
    "duration": 54,
    "start_time": "2021-12-25T17:32:54.092Z"
   },
   {
    "duration": 62,
    "start_time": "2021-12-25T17:33:15.010Z"
   },
   {
    "duration": 4,
    "start_time": "2021-12-25T17:33:31.967Z"
   },
   {
    "duration": 14,
    "start_time": "2021-12-25T17:33:34.788Z"
   },
   {
    "duration": 129,
    "start_time": "2021-12-25T17:34:26.322Z"
   },
   {
    "duration": 56,
    "start_time": "2021-12-25T17:34:34.837Z"
   },
   {
    "duration": 3,
    "start_time": "2021-12-25T17:38:29.879Z"
   },
   {
    "duration": 216,
    "start_time": "2021-12-25T17:38:29.888Z"
   },
   {
    "duration": 15,
    "start_time": "2021-12-25T17:38:30.107Z"
   },
   {
    "duration": 62,
    "start_time": "2021-12-25T17:38:30.125Z"
   },
   {
    "duration": 5,
    "start_time": "2021-12-25T17:38:30.190Z"
   },
   {
    "duration": 25,
    "start_time": "2021-12-25T17:38:30.197Z"
   },
   {
    "duration": 5,
    "start_time": "2021-12-25T17:38:30.225Z"
   },
   {
    "duration": 64,
    "start_time": "2021-12-25T17:38:30.232Z"
   },
   {
    "duration": 24,
    "start_time": "2021-12-25T17:38:30.300Z"
   },
   {
    "duration": 54,
    "start_time": "2021-12-25T17:38:30.327Z"
   },
   {
    "duration": 116,
    "start_time": "2021-12-25T17:38:30.383Z"
   },
   {
    "duration": 108,
    "start_time": "2021-12-25T17:38:30.502Z"
   },
   {
    "duration": 95,
    "start_time": "2021-12-25T17:38:30.613Z"
   },
   {
    "duration": 67,
    "start_time": "2021-12-25T17:38:30.711Z"
   },
   {
    "duration": 4,
    "start_time": "2021-12-25T17:38:30.781Z"
   },
   {
    "duration": 32,
    "start_time": "2021-12-25T17:38:30.787Z"
   },
   {
    "duration": 72,
    "start_time": "2021-12-25T17:38:30.822Z"
   },
   {
    "duration": 14,
    "start_time": "2021-12-25T17:38:30.896Z"
   },
   {
    "duration": 19,
    "start_time": "2021-12-25T17:38:30.913Z"
   },
   {
    "duration": 26,
    "start_time": "2021-12-25T17:38:30.935Z"
   },
   {
    "duration": 42,
    "start_time": "2021-12-25T17:38:30.963Z"
   },
   {
    "duration": 20,
    "start_time": "2021-12-25T17:38:31.007Z"
   },
   {
    "duration": 39,
    "start_time": "2021-12-25T17:38:31.029Z"
   },
   {
    "duration": 33,
    "start_time": "2021-12-25T17:38:31.075Z"
   },
   {
    "duration": 30,
    "start_time": "2021-12-25T17:38:31.112Z"
   },
   {
    "duration": 40,
    "start_time": "2021-12-25T17:38:31.145Z"
   },
   {
    "duration": 16,
    "start_time": "2021-12-25T17:38:31.189Z"
   },
   {
    "duration": 33,
    "start_time": "2021-12-25T17:38:31.208Z"
   },
   {
    "duration": 16,
    "start_time": "2021-12-25T17:38:31.260Z"
   },
   {
    "duration": 7,
    "start_time": "2021-12-25T17:38:31.278Z"
   },
   {
    "duration": 50,
    "start_time": "2021-12-25T17:38:31.288Z"
   },
   {
    "duration": 30,
    "start_time": "2021-12-25T17:38:31.341Z"
   },
   {
    "duration": 24,
    "start_time": "2021-12-25T17:38:31.373Z"
   },
   {
    "duration": 17,
    "start_time": "2021-12-25T17:38:31.399Z"
   },
   {
    "duration": 46,
    "start_time": "2021-12-25T17:38:31.419Z"
   },
   {
    "duration": 6,
    "start_time": "2021-12-25T17:38:31.467Z"
   },
   {
    "duration": 19,
    "start_time": "2021-12-25T17:38:31.475Z"
   },
   {
    "duration": 6,
    "start_time": "2021-12-25T17:38:31.496Z"
   },
   {
    "duration": 520,
    "start_time": "2022-03-17T07:25:27.618Z"
   },
   {
    "duration": 572,
    "start_time": "2022-03-17T08:19:58.528Z"
   },
   {
    "duration": 386,
    "start_time": "2022-03-17T08:19:59.103Z"
   },
   {
    "duration": 79,
    "start_time": "2022-03-17T08:19:59.492Z"
   },
   {
    "duration": 8,
    "start_time": "2022-03-17T08:19:59.576Z"
   },
   {
    "duration": 18,
    "start_time": "2022-03-17T08:19:59.587Z"
   },
   {
    "duration": 7,
    "start_time": "2022-03-17T08:19:59.643Z"
   },
   {
    "duration": 33,
    "start_time": "2022-03-17T08:19:59.653Z"
   },
   {
    "duration": 61,
    "start_time": "2022-03-17T08:19:59.689Z"
   },
   {
    "duration": 54,
    "start_time": "2022-03-17T08:19:59.753Z"
   },
   {
    "duration": 140,
    "start_time": "2022-03-17T08:19:59.813Z"
   },
   {
    "duration": 128,
    "start_time": "2022-03-17T08:19:59.956Z"
   },
   {
    "duration": 116,
    "start_time": "2022-03-17T08:20:00.087Z"
   },
   {
    "duration": 67,
    "start_time": "2022-03-17T08:20:00.207Z"
   },
   {
    "duration": 20,
    "start_time": "2022-03-17T08:20:00.278Z"
   },
   {
    "duration": 72,
    "start_time": "2022-03-17T08:20:00.304Z"
   },
   {
    "duration": 28,
    "start_time": "2022-03-17T08:20:00.379Z"
   },
   {
    "duration": 46,
    "start_time": "2022-03-17T08:20:00.410Z"
   },
   {
    "duration": 6,
    "start_time": "2022-03-17T08:20:00.459Z"
   },
   {
    "duration": 63,
    "start_time": "2022-03-17T08:20:00.468Z"
   },
   {
    "duration": 32,
    "start_time": "2022-03-17T08:20:00.534Z"
   },
   {
    "duration": 33,
    "start_time": "2022-03-17T08:20:00.569Z"
   },
   {
    "duration": 61,
    "start_time": "2022-03-17T08:20:00.605Z"
   },
   {
    "duration": 38,
    "start_time": "2022-03-17T08:20:00.668Z"
   },
   {
    "duration": 42,
    "start_time": "2022-03-17T08:20:00.709Z"
   },
   {
    "duration": 38,
    "start_time": "2022-03-17T08:20:00.754Z"
   },
   {
    "duration": 54,
    "start_time": "2022-03-17T08:20:00.795Z"
   },
   {
    "duration": 18,
    "start_time": "2022-03-17T08:20:00.852Z"
   },
   {
    "duration": 9,
    "start_time": "2022-03-17T08:20:00.876Z"
   },
   {
    "duration": 44,
    "start_time": "2022-03-17T08:20:00.887Z"
   },
   {
    "duration": 22,
    "start_time": "2022-03-17T08:20:00.934Z"
   },
   {
    "duration": 33,
    "start_time": "2022-03-17T08:20:00.958Z"
   },
   {
    "duration": 43,
    "start_time": "2022-03-17T08:20:00.993Z"
   },
   {
    "duration": 26,
    "start_time": "2022-03-17T08:20:01.044Z"
   },
   {
    "duration": 10,
    "start_time": "2022-03-17T08:20:01.072Z"
   },
   {
    "duration": 13,
    "start_time": "2022-03-17T08:20:01.086Z"
   },
   {
    "duration": 14,
    "start_time": "2022-03-17T08:20:01.102Z"
   }
  ],
  "colab": {
   "collapsed_sections": [
    "E0vqbgi9ay0H",
    "VUC88oWjTJw2"
   ],
   "name": "yandex_music_project_2021.2.ipynb",
   "provenance": []
  },
  "kernelspec": {
   "display_name": "Python 3 (ipykernel)",
   "language": "python",
   "name": "python3"
  },
  "language_info": {
   "codemirror_mode": {
    "name": "ipython",
    "version": 3
   },
   "file_extension": ".py",
   "mimetype": "text/x-python",
   "name": "python",
   "nbconvert_exporter": "python",
   "pygments_lexer": "ipython3",
   "version": "3.9.5"
  },
  "toc": {
   "base_numbering": 1,
   "nav_menu": {},
   "number_sections": true,
   "sideBar": true,
   "skip_h1_title": true,
   "title_cell": "Table of Contents",
   "title_sidebar": "Contents",
   "toc_cell": false,
   "toc_position": {
    "height": "calc(100% - 180px)",
    "left": "10px",
    "top": "150px",
    "width": "272.594px"
   },
   "toc_section_display": true,
   "toc_window_display": true
  }
 },
 "nbformat": 4,
 "nbformat_minor": 1
}
