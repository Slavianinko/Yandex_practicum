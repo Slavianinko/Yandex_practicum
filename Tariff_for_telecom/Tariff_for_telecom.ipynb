{
 "cells": [
  {
   "cell_type": "markdown",
   "metadata": {},
   "source": [
    "# Определение перспективного тарифа для телеком-компании\n",
    "\n",
    "Клиентам компании «Мегалайн» предлагают два тарифных плана: «Смарт» и «Ультра». Чтобы скорректировать рекламный бюджет, коммерческий департамент хочет понять, какой тариф приносит больше денег.\n",
    "В рамках данного проекта, предстоит сделать предварительный анализ тарифов на небольшой выборке клиентов. В нашем распоряжении данные 500 пользователей «Мегалайна»: кто они, откуда, каким тарифом пользуются, сколько звонков и сообщений каждый отправил за 2018 год. Нужно проанализировать поведение клиентов и сделать вывод — какой тариф лучше."
   ]
  },
  {
   "cell_type": "code",
   "execution_count": 1,
   "metadata": {},
   "outputs": [],
   "source": [
    "import pandas as pd\n",
    "import math\n",
    "import numpy as np\n",
    "from scipy import stats as st\n",
    "import matplotlib.pyplot as plt\n",
    "\n",
    "pd.set_option('display.float_format', '{:,.2f}'.format)"
   ]
  },
  {
   "cell_type": "markdown",
   "metadata": {},
   "source": [
    "## Открытие файлов с данными и изучение общей информации"
   ]
  },
  {
   "cell_type": "markdown",
   "metadata": {},
   "source": [
    "### Таблица \"Звонки\""
   ]
  },
  {
   "cell_type": "code",
   "execution_count": 2,
   "metadata": {},
   "outputs": [
    {
     "name": "stdout",
     "output_type": "stream",
     "text": [
      "<class 'pandas.core.frame.DataFrame'>\n",
      "RangeIndex: 202607 entries, 0 to 202606\n",
      "Data columns (total 4 columns):\n",
      "id           202607 non-null object\n",
      "call_date    202607 non-null datetime64[ns]\n",
      "duration     202607 non-null float64\n",
      "user_id      202607 non-null int64\n",
      "dtypes: datetime64[ns](1), float64(1), int64(1), object(1)\n",
      "memory usage: 6.2+ MB\n",
      "Дубликатов 0\n"
     ]
    },
    {
     "data": {
      "text/html": [
       "<div>\n",
       "<style scoped>\n",
       "    .dataframe tbody tr th:only-of-type {\n",
       "        vertical-align: middle;\n",
       "    }\n",
       "\n",
       "    .dataframe tbody tr th {\n",
       "        vertical-align: top;\n",
       "    }\n",
       "\n",
       "    .dataframe thead th {\n",
       "        text-align: right;\n",
       "    }\n",
       "</style>\n",
       "<table border=\"1\" class=\"dataframe\">\n",
       "  <thead>\n",
       "    <tr style=\"text-align: right;\">\n",
       "      <th></th>\n",
       "      <th>id</th>\n",
       "      <th>call_date</th>\n",
       "      <th>duration</th>\n",
       "      <th>user_id</th>\n",
       "    </tr>\n",
       "  </thead>\n",
       "  <tbody>\n",
       "    <tr>\n",
       "      <td>0</td>\n",
       "      <td>1000_0</td>\n",
       "      <td>2018-07-25</td>\n",
       "      <td>0.00</td>\n",
       "      <td>1000</td>\n",
       "    </tr>\n",
       "    <tr>\n",
       "      <td>1</td>\n",
       "      <td>1000_1</td>\n",
       "      <td>2018-08-17</td>\n",
       "      <td>0.00</td>\n",
       "      <td>1000</td>\n",
       "    </tr>\n",
       "    <tr>\n",
       "      <td>2</td>\n",
       "      <td>1000_2</td>\n",
       "      <td>2018-06-11</td>\n",
       "      <td>2.85</td>\n",
       "      <td>1000</td>\n",
       "    </tr>\n",
       "    <tr>\n",
       "      <td>3</td>\n",
       "      <td>1000_3</td>\n",
       "      <td>2018-09-21</td>\n",
       "      <td>13.80</td>\n",
       "      <td>1000</td>\n",
       "    </tr>\n",
       "    <tr>\n",
       "      <td>4</td>\n",
       "      <td>1000_4</td>\n",
       "      <td>2018-12-15</td>\n",
       "      <td>5.18</td>\n",
       "      <td>1000</td>\n",
       "    </tr>\n",
       "  </tbody>\n",
       "</table>\n",
       "</div>"
      ],
      "text/plain": [
       "       id  call_date  duration  user_id\n",
       "0  1000_0 2018-07-25      0.00     1000\n",
       "1  1000_1 2018-08-17      0.00     1000\n",
       "2  1000_2 2018-06-11      2.85     1000\n",
       "3  1000_3 2018-09-21     13.80     1000\n",
       "4  1000_4 2018-12-15      5.18     1000"
      ]
     },
     "metadata": {},
     "output_type": "display_data"
    },
    {
     "data": {
      "text/html": [
       "<div>\n",
       "<style scoped>\n",
       "    .dataframe tbody tr th:only-of-type {\n",
       "        vertical-align: middle;\n",
       "    }\n",
       "\n",
       "    .dataframe tbody tr th {\n",
       "        vertical-align: top;\n",
       "    }\n",
       "\n",
       "    .dataframe thead th {\n",
       "        text-align: right;\n",
       "    }\n",
       "</style>\n",
       "<table border=\"1\" class=\"dataframe\">\n",
       "  <thead>\n",
       "    <tr style=\"text-align: right;\">\n",
       "      <th></th>\n",
       "      <th>duration</th>\n",
       "      <th>user_id</th>\n",
       "    </tr>\n",
       "  </thead>\n",
       "  <tbody>\n",
       "    <tr>\n",
       "      <td>count</td>\n",
       "      <td>202,607.00</td>\n",
       "      <td>202,607.00</td>\n",
       "    </tr>\n",
       "    <tr>\n",
       "      <td>mean</td>\n",
       "      <td>6.76</td>\n",
       "      <td>1,253.94</td>\n",
       "    </tr>\n",
       "    <tr>\n",
       "      <td>std</td>\n",
       "      <td>5.84</td>\n",
       "      <td>144.72</td>\n",
       "    </tr>\n",
       "    <tr>\n",
       "      <td>min</td>\n",
       "      <td>0.00</td>\n",
       "      <td>1,000.00</td>\n",
       "    </tr>\n",
       "    <tr>\n",
       "      <td>25%</td>\n",
       "      <td>1.30</td>\n",
       "      <td>1,126.00</td>\n",
       "    </tr>\n",
       "    <tr>\n",
       "      <td>50%</td>\n",
       "      <td>6.00</td>\n",
       "      <td>1,260.00</td>\n",
       "    </tr>\n",
       "    <tr>\n",
       "      <td>75%</td>\n",
       "      <td>10.70</td>\n",
       "      <td>1,379.00</td>\n",
       "    </tr>\n",
       "    <tr>\n",
       "      <td>max</td>\n",
       "      <td>38.00</td>\n",
       "      <td>1,499.00</td>\n",
       "    </tr>\n",
       "  </tbody>\n",
       "</table>\n",
       "</div>"
      ],
      "text/plain": [
       "        duration    user_id\n",
       "count 202,607.00 202,607.00\n",
       "mean        6.76   1,253.94\n",
       "std         5.84     144.72\n",
       "min         0.00   1,000.00\n",
       "25%         1.30   1,126.00\n",
       "50%         6.00   1,260.00\n",
       "75%        10.70   1,379.00\n",
       "max        38.00   1,499.00"
      ]
     },
     "execution_count": 2,
     "metadata": {},
     "output_type": "execute_result"
    }
   ],
   "source": [
    "# Загрузка и первый взгляд, проверка дубликатов\n",
    "df_calls = pd.read_csv('/datasets/calls.csv', parse_dates=['call_date'])\n",
    "df_calls.info()\n",
    "print('Дубликатов', df_calls.duplicated().sum())\n",
    "display(df_calls.head())\n",
    "df_calls.describe()"
   ]
  },
  {
   "cell_type": "markdown",
   "metadata": {},
   "source": [
    "### Таблица \"Интернет-сессии\""
   ]
  },
  {
   "cell_type": "code",
   "execution_count": 3,
   "metadata": {},
   "outputs": [
    {
     "name": "stdout",
     "output_type": "stream",
     "text": [
      "<class 'pandas.core.frame.DataFrame'>\n",
      "Int64Index: 149396 entries, 0 to 149395\n",
      "Data columns (total 4 columns):\n",
      "id              149396 non-null object\n",
      "mb_used         149396 non-null float64\n",
      "session_date    149396 non-null datetime64[ns]\n",
      "user_id         149396 non-null int64\n",
      "dtypes: datetime64[ns](1), float64(1), int64(1), object(1)\n",
      "memory usage: 5.7+ MB\n",
      "Дубликатов 0\n"
     ]
    },
    {
     "data": {
      "text/html": [
       "<div>\n",
       "<style scoped>\n",
       "    .dataframe tbody tr th:only-of-type {\n",
       "        vertical-align: middle;\n",
       "    }\n",
       "\n",
       "    .dataframe tbody tr th {\n",
       "        vertical-align: top;\n",
       "    }\n",
       "\n",
       "    .dataframe thead th {\n",
       "        text-align: right;\n",
       "    }\n",
       "</style>\n",
       "<table border=\"1\" class=\"dataframe\">\n",
       "  <thead>\n",
       "    <tr style=\"text-align: right;\">\n",
       "      <th></th>\n",
       "      <th>mb_used</th>\n",
       "      <th>user_id</th>\n",
       "    </tr>\n",
       "  </thead>\n",
       "  <tbody>\n",
       "    <tr>\n",
       "      <td>count</td>\n",
       "      <td>149,396.00</td>\n",
       "      <td>149,396.00</td>\n",
       "    </tr>\n",
       "    <tr>\n",
       "      <td>mean</td>\n",
       "      <td>370.19</td>\n",
       "      <td>1,252.10</td>\n",
       "    </tr>\n",
       "    <tr>\n",
       "      <td>std</td>\n",
       "      <td>278.30</td>\n",
       "      <td>144.05</td>\n",
       "    </tr>\n",
       "    <tr>\n",
       "      <td>min</td>\n",
       "      <td>0.00</td>\n",
       "      <td>1,000.00</td>\n",
       "    </tr>\n",
       "    <tr>\n",
       "      <td>25%</td>\n",
       "      <td>138.19</td>\n",
       "      <td>1,130.00</td>\n",
       "    </tr>\n",
       "    <tr>\n",
       "      <td>50%</td>\n",
       "      <td>348.01</td>\n",
       "      <td>1,251.00</td>\n",
       "    </tr>\n",
       "    <tr>\n",
       "      <td>75%</td>\n",
       "      <td>559.55</td>\n",
       "      <td>1,380.00</td>\n",
       "    </tr>\n",
       "    <tr>\n",
       "      <td>max</td>\n",
       "      <td>1,724.83</td>\n",
       "      <td>1,499.00</td>\n",
       "    </tr>\n",
       "  </tbody>\n",
       "</table>\n",
       "</div>"
      ],
      "text/plain": [
       "         mb_used    user_id\n",
       "count 149,396.00 149,396.00\n",
       "mean      370.19   1,252.10\n",
       "std       278.30     144.05\n",
       "min         0.00   1,000.00\n",
       "25%       138.19   1,130.00\n",
       "50%       348.01   1,251.00\n",
       "75%       559.55   1,380.00\n",
       "max     1,724.83   1,499.00"
      ]
     },
     "metadata": {},
     "output_type": "display_data"
    },
    {
     "data": {
      "text/html": [
       "<div>\n",
       "<style scoped>\n",
       "    .dataframe tbody tr th:only-of-type {\n",
       "        vertical-align: middle;\n",
       "    }\n",
       "\n",
       "    .dataframe tbody tr th {\n",
       "        vertical-align: top;\n",
       "    }\n",
       "\n",
       "    .dataframe thead th {\n",
       "        text-align: right;\n",
       "    }\n",
       "</style>\n",
       "<table border=\"1\" class=\"dataframe\">\n",
       "  <thead>\n",
       "    <tr style=\"text-align: right;\">\n",
       "      <th></th>\n",
       "      <th>id</th>\n",
       "      <th>mb_used</th>\n",
       "      <th>session_date</th>\n",
       "      <th>user_id</th>\n",
       "    </tr>\n",
       "  </thead>\n",
       "  <tbody>\n",
       "    <tr>\n",
       "      <td>0</td>\n",
       "      <td>1000_0</td>\n",
       "      <td>112.95</td>\n",
       "      <td>2018-11-25</td>\n",
       "      <td>1000</td>\n",
       "    </tr>\n",
       "    <tr>\n",
       "      <td>1</td>\n",
       "      <td>1000_1</td>\n",
       "      <td>1,052.81</td>\n",
       "      <td>2018-09-07</td>\n",
       "      <td>1000</td>\n",
       "    </tr>\n",
       "    <tr>\n",
       "      <td>2</td>\n",
       "      <td>1000_2</td>\n",
       "      <td>1,197.26</td>\n",
       "      <td>2018-06-25</td>\n",
       "      <td>1000</td>\n",
       "    </tr>\n",
       "    <tr>\n",
       "      <td>3</td>\n",
       "      <td>1000_3</td>\n",
       "      <td>550.27</td>\n",
       "      <td>2018-08-22</td>\n",
       "      <td>1000</td>\n",
       "    </tr>\n",
       "    <tr>\n",
       "      <td>4</td>\n",
       "      <td>1000_4</td>\n",
       "      <td>302.56</td>\n",
       "      <td>2018-09-24</td>\n",
       "      <td>1000</td>\n",
       "    </tr>\n",
       "  </tbody>\n",
       "</table>\n",
       "</div>"
      ],
      "text/plain": [
       "       id  mb_used session_date  user_id\n",
       "0  1000_0   112.95   2018-11-25     1000\n",
       "1  1000_1 1,052.81   2018-09-07     1000\n",
       "2  1000_2 1,197.26   2018-06-25     1000\n",
       "3  1000_3   550.27   2018-08-22     1000\n",
       "4  1000_4   302.56   2018-09-24     1000"
      ]
     },
     "execution_count": 3,
     "metadata": {},
     "output_type": "execute_result"
    }
   ],
   "source": [
    "# Загрузка и первый взгляд, проверка дубликатов\n",
    "df_internet = pd.read_csv('/datasets/internet.csv', parse_dates=['session_date'], index_col='Unnamed: 0')\n",
    "df_internet.info()\n",
    "print('Дубликатов', df_internet.duplicated().sum())\n",
    "display(df_internet.describe())\n",
    "df_internet.head()"
   ]
  },
  {
   "cell_type": "markdown",
   "metadata": {},
   "source": [
    "### Таблица \"Сообщения\""
   ]
  },
  {
   "cell_type": "code",
   "execution_count": 4,
   "metadata": {},
   "outputs": [
    {
     "name": "stdout",
     "output_type": "stream",
     "text": [
      "<class 'pandas.core.frame.DataFrame'>\n",
      "RangeIndex: 123036 entries, 0 to 123035\n",
      "Data columns (total 3 columns):\n",
      "id              123036 non-null object\n",
      "message_date    123036 non-null datetime64[ns]\n",
      "user_id         123036 non-null int64\n",
      "dtypes: datetime64[ns](1), int64(1), object(1)\n",
      "memory usage: 2.8+ MB\n",
      "Дубликатов 0\n"
     ]
    },
    {
     "data": {
      "text/html": [
       "<div>\n",
       "<style scoped>\n",
       "    .dataframe tbody tr th:only-of-type {\n",
       "        vertical-align: middle;\n",
       "    }\n",
       "\n",
       "    .dataframe tbody tr th {\n",
       "        vertical-align: top;\n",
       "    }\n",
       "\n",
       "    .dataframe thead th {\n",
       "        text-align: right;\n",
       "    }\n",
       "</style>\n",
       "<table border=\"1\" class=\"dataframe\">\n",
       "  <thead>\n",
       "    <tr style=\"text-align: right;\">\n",
       "      <th></th>\n",
       "      <th>id</th>\n",
       "      <th>message_date</th>\n",
       "      <th>user_id</th>\n",
       "    </tr>\n",
       "  </thead>\n",
       "  <tbody>\n",
       "    <tr>\n",
       "      <td>0</td>\n",
       "      <td>1000_0</td>\n",
       "      <td>2018-06-27</td>\n",
       "      <td>1000</td>\n",
       "    </tr>\n",
       "    <tr>\n",
       "      <td>1</td>\n",
       "      <td>1000_1</td>\n",
       "      <td>2018-10-08</td>\n",
       "      <td>1000</td>\n",
       "    </tr>\n",
       "    <tr>\n",
       "      <td>2</td>\n",
       "      <td>1000_2</td>\n",
       "      <td>2018-08-04</td>\n",
       "      <td>1000</td>\n",
       "    </tr>\n",
       "    <tr>\n",
       "      <td>3</td>\n",
       "      <td>1000_3</td>\n",
       "      <td>2018-06-16</td>\n",
       "      <td>1000</td>\n",
       "    </tr>\n",
       "    <tr>\n",
       "      <td>4</td>\n",
       "      <td>1000_4</td>\n",
       "      <td>2018-12-05</td>\n",
       "      <td>1000</td>\n",
       "    </tr>\n",
       "  </tbody>\n",
       "</table>\n",
       "</div>"
      ],
      "text/plain": [
       "       id message_date  user_id\n",
       "0  1000_0   2018-06-27     1000\n",
       "1  1000_1   2018-10-08     1000\n",
       "2  1000_2   2018-08-04     1000\n",
       "3  1000_3   2018-06-16     1000\n",
       "4  1000_4   2018-12-05     1000"
      ]
     },
     "execution_count": 4,
     "metadata": {},
     "output_type": "execute_result"
    }
   ],
   "source": [
    "# Загрузка и первый взгляд, проверка дубликатов\n",
    "df_messages = pd.read_csv('/datasets/messages.csv', parse_dates=['message_date'])\n",
    "df_messages.info()\n",
    "print('Дубликатов', df_messages.duplicated().sum())\n",
    "df_messages.head()"
   ]
  },
  {
   "cell_type": "markdown",
   "metadata": {},
   "source": [
    "### Таблица \"Тарифы\""
   ]
  },
  {
   "cell_type": "code",
   "execution_count": 5,
   "metadata": {},
   "outputs": [
    {
     "name": "stdout",
     "output_type": "stream",
     "text": [
      "<class 'pandas.core.frame.DataFrame'>\n",
      "Index: 2 entries, smart to ultra\n",
      "Data columns (total 7 columns):\n",
      "messages_included        2 non-null int64\n",
      "mb_per_month_included    2 non-null int64\n",
      "minutes_included         2 non-null int64\n",
      "rub_monthly_fee          2 non-null int64\n",
      "rub_per_gb               2 non-null int64\n",
      "rub_per_message          2 non-null int64\n",
      "rub_per_minute           2 non-null int64\n",
      "dtypes: int64(7)\n",
      "memory usage: 128.0+ bytes\n"
     ]
    },
    {
     "data": {
      "text/html": [
       "<div>\n",
       "<style scoped>\n",
       "    .dataframe tbody tr th:only-of-type {\n",
       "        vertical-align: middle;\n",
       "    }\n",
       "\n",
       "    .dataframe tbody tr th {\n",
       "        vertical-align: top;\n",
       "    }\n",
       "\n",
       "    .dataframe thead th {\n",
       "        text-align: right;\n",
       "    }\n",
       "</style>\n",
       "<table border=\"1\" class=\"dataframe\">\n",
       "  <thead>\n",
       "    <tr style=\"text-align: right;\">\n",
       "      <th></th>\n",
       "      <th>messages_included</th>\n",
       "      <th>mb_per_month_included</th>\n",
       "      <th>minutes_included</th>\n",
       "      <th>rub_monthly_fee</th>\n",
       "      <th>rub_per_gb</th>\n",
       "      <th>rub_per_message</th>\n",
       "      <th>rub_per_minute</th>\n",
       "    </tr>\n",
       "    <tr>\n",
       "      <th>tariff_name</th>\n",
       "      <th></th>\n",
       "      <th></th>\n",
       "      <th></th>\n",
       "      <th></th>\n",
       "      <th></th>\n",
       "      <th></th>\n",
       "      <th></th>\n",
       "    </tr>\n",
       "  </thead>\n",
       "  <tbody>\n",
       "    <tr>\n",
       "      <td>smart</td>\n",
       "      <td>50</td>\n",
       "      <td>15360</td>\n",
       "      <td>500</td>\n",
       "      <td>550</td>\n",
       "      <td>200</td>\n",
       "      <td>3</td>\n",
       "      <td>3</td>\n",
       "    </tr>\n",
       "    <tr>\n",
       "      <td>ultra</td>\n",
       "      <td>1000</td>\n",
       "      <td>30720</td>\n",
       "      <td>3000</td>\n",
       "      <td>1950</td>\n",
       "      <td>150</td>\n",
       "      <td>1</td>\n",
       "      <td>1</td>\n",
       "    </tr>\n",
       "  </tbody>\n",
       "</table>\n",
       "</div>"
      ],
      "text/plain": [
       "             messages_included  mb_per_month_included  minutes_included  \\\n",
       "tariff_name                                                               \n",
       "smart                       50                  15360               500   \n",
       "ultra                     1000                  30720              3000   \n",
       "\n",
       "             rub_monthly_fee  rub_per_gb  rub_per_message  rub_per_minute  \n",
       "tariff_name                                                                \n",
       "smart                    550         200                3               3  \n",
       "ultra                   1950         150                1               1  "
      ]
     },
     "execution_count": 5,
     "metadata": {},
     "output_type": "execute_result"
    }
   ],
   "source": [
    "# Загрузка и первый взгляд\n",
    "df_tarif  = pd.read_csv('/datasets/tariffs.csv', index_col='tariff_name')\n",
    "df_tarif.info()\n",
    "df_tarif"
   ]
  },
  {
   "cell_type": "markdown",
   "metadata": {},
   "source": [
    "### Таблица \"Пользователи\""
   ]
  },
  {
   "cell_type": "code",
   "execution_count": 6,
   "metadata": {},
   "outputs": [
    {
     "name": "stdout",
     "output_type": "stream",
     "text": [
      "<class 'pandas.core.frame.DataFrame'>\n",
      "Int64Index: 500 entries, 1000 to 1499\n",
      "Data columns (total 7 columns):\n",
      "age           500 non-null int64\n",
      "churn_date    38 non-null datetime64[ns]\n",
      "city          500 non-null object\n",
      "first_name    500 non-null object\n",
      "last_name     500 non-null object\n",
      "reg_date      500 non-null datetime64[ns]\n",
      "tariff        500 non-null object\n",
      "dtypes: datetime64[ns](2), int64(1), object(4)\n",
      "memory usage: 31.2+ KB\n",
      "Дубликатов 0\n"
     ]
    },
    {
     "data": {
      "text/html": [
       "<div>\n",
       "<style scoped>\n",
       "    .dataframe tbody tr th:only-of-type {\n",
       "        vertical-align: middle;\n",
       "    }\n",
       "\n",
       "    .dataframe tbody tr th {\n",
       "        vertical-align: top;\n",
       "    }\n",
       "\n",
       "    .dataframe thead th {\n",
       "        text-align: right;\n",
       "    }\n",
       "</style>\n",
       "<table border=\"1\" class=\"dataframe\">\n",
       "  <thead>\n",
       "    <tr style=\"text-align: right;\">\n",
       "      <th></th>\n",
       "      <th>age</th>\n",
       "      <th>churn_date</th>\n",
       "      <th>city</th>\n",
       "      <th>first_name</th>\n",
       "      <th>last_name</th>\n",
       "      <th>reg_date</th>\n",
       "      <th>tariff</th>\n",
       "    </tr>\n",
       "    <tr>\n",
       "      <th>user_id</th>\n",
       "      <th></th>\n",
       "      <th></th>\n",
       "      <th></th>\n",
       "      <th></th>\n",
       "      <th></th>\n",
       "      <th></th>\n",
       "      <th></th>\n",
       "    </tr>\n",
       "  </thead>\n",
       "  <tbody>\n",
       "    <tr>\n",
       "      <td>1000</td>\n",
       "      <td>52</td>\n",
       "      <td>NaT</td>\n",
       "      <td>Краснодар</td>\n",
       "      <td>Рафаил</td>\n",
       "      <td>Верещагин</td>\n",
       "      <td>2018-05-25</td>\n",
       "      <td>ultra</td>\n",
       "    </tr>\n",
       "    <tr>\n",
       "      <td>1001</td>\n",
       "      <td>41</td>\n",
       "      <td>NaT</td>\n",
       "      <td>Москва</td>\n",
       "      <td>Иван</td>\n",
       "      <td>Ежов</td>\n",
       "      <td>2018-11-01</td>\n",
       "      <td>smart</td>\n",
       "    </tr>\n",
       "    <tr>\n",
       "      <td>1002</td>\n",
       "      <td>59</td>\n",
       "      <td>NaT</td>\n",
       "      <td>Стерлитамак</td>\n",
       "      <td>Евгений</td>\n",
       "      <td>Абрамович</td>\n",
       "      <td>2018-06-17</td>\n",
       "      <td>smart</td>\n",
       "    </tr>\n",
       "    <tr>\n",
       "      <td>1003</td>\n",
       "      <td>23</td>\n",
       "      <td>NaT</td>\n",
       "      <td>Москва</td>\n",
       "      <td>Белла</td>\n",
       "      <td>Белякова</td>\n",
       "      <td>2018-08-17</td>\n",
       "      <td>ultra</td>\n",
       "    </tr>\n",
       "    <tr>\n",
       "      <td>1004</td>\n",
       "      <td>68</td>\n",
       "      <td>NaT</td>\n",
       "      <td>Новокузнецк</td>\n",
       "      <td>Татьяна</td>\n",
       "      <td>Авдеенко</td>\n",
       "      <td>2018-05-14</td>\n",
       "      <td>ultra</td>\n",
       "    </tr>\n",
       "  </tbody>\n",
       "</table>\n",
       "</div>"
      ],
      "text/plain": [
       "         age churn_date         city first_name  last_name   reg_date tariff\n",
       "user_id                                                                     \n",
       "1000      52        NaT    Краснодар     Рафаил  Верещагин 2018-05-25  ultra\n",
       "1001      41        NaT       Москва       Иван       Ежов 2018-11-01  smart\n",
       "1002      59        NaT  Стерлитамак    Евгений  Абрамович 2018-06-17  smart\n",
       "1003      23        NaT       Москва      Белла   Белякова 2018-08-17  ultra\n",
       "1004      68        NaT  Новокузнецк    Татьяна   Авдеенко 2018-05-14  ultra"
      ]
     },
     "metadata": {},
     "output_type": "display_data"
    }
   ],
   "source": [
    "# Загрузка и первый взгляд, проверка дубликатов\n",
    "df_users = pd.read_csv('/datasets/users.csv', parse_dates=['reg_date', 'churn_date'], index_col='user_id')\n",
    "df_users.info()\n",
    "print('Дубликатов', df_users.duplicated().sum())\n",
    "display(df_users.head())"
   ]
  },
  {
   "cell_type": "markdown",
   "metadata": {},
   "source": [
    "**Вывод**\n",
    "\n",
    "На этапе загрузки данных из файлов, осуществили преобразование колонок содержащих дату в тип datetime64. В таблице internet колонку с индексами 'Unnamed: 0' указали как содержащую индексы. Таким же образом, в таблице тарифов, колонку tariff сделали индексом. Это поможет в дальнейшей обработке данных. Остальные типы данных не нуждаются в преобразованиях. \n",
    "Пропусков нет кроме колонки churn_date\tтаблицы users. Это означает, что пользователи с NaN в данной колонке не меняли тариф. Поэтому избавлятся от пропусков в этой колонке не имеет смысла.\n",
    "Дубликаты в данных отсутствуют."
   ]
  },
  {
   "cell_type": "markdown",
   "metadata": {},
   "source": [
    "## Подготовка данных\n",
    "\n",
    "### Приведение данных к нужным типам\n",
    "\n",
    "На этапе загрузки таблиц из файлов было произведено приведение к типу datetime64 колонок содержащих дату. Остальные типы данных соответствуют содержанию и не требуют преобразования. \n",
    "\n",
    "В данном разделе, в соответствии с правилами тарификации, произведём округление продолжительности звонков в большую сторону. Также, для простоты дальнейшего анализа добавим с таблицы df_calls, df_internet и df_messages колонки со значением месяца."
   ]
  },
  {
   "cell_type": "code",
   "execution_count": 7,
   "metadata": {},
   "outputs": [],
   "source": [
    "# Округление продолжительности звонка в большую сторону\n",
    "df_calls['duration'] = df_calls['duration'].apply(math.ceil)\n",
    "# Добавляем колонку месяц\n",
    "df_calls['month']    = df_calls['call_date'].dt.month\n",
    "df_internet['month'] = df_internet['session_date'].dt.month\n",
    "df_messages['month'] = df_messages['message_date'].dt.month"
   ]
  },
  {
   "cell_type": "markdown",
   "metadata": {},
   "source": [
    "### Поиск и исправление ошибок в данных.\n",
    "\n",
    "В данных были обнаружены звонки с нулевой продолжительностью. Это не ошибка: нулями обозначены пропущенные звонки, поэтому их не нужно удалять. Также были обнаружены интернет сессии нулевого объёма. Скорее всего, это так же ошибкой не является."
   ]
  },
  {
   "cell_type": "markdown",
   "metadata": {},
   "source": [
    "### Расчёты для каждого пользователя:\n",
    "\n",
    "Произведём расчёт для каждого пользователя:\n",
    "- количество сделанных звонков и израсходованных минут разговора по месяцам;\n",
    "- количество отправленных сообщений по месяцам;\n",
    "- объем израсходованного интернет-трафика по месяцам;\n",
    "- помесячную выручку с каждого пользователя \n",
    "\n",
    "Для расчёта помесячной выручки необходимо:\n",
    "- вчесть бесплатный лимит из суммарного количества звонков, сообщений и интернет-трафика; \n",
    "- остаток умножить на значение из тарифного плана;\n",
    "- прибавить абонентскую плату, соответствующую тарифному плану."
   ]
  },
  {
   "cell_type": "code",
   "execution_count": 8,
   "metadata": {},
   "outputs": [],
   "source": [
    "def calc_expenses(row):\n",
    "    # Функция для расчёта месячной платы\n",
    "    #tarif = df_users.loc[row.name[0],'tariff'] #имя тарифа из табл users по user_id по row\n",
    "    tarif = row['tariff']\n",
    "    # Абонентская плата\n",
    "    pay_month = df_tarif.loc[tarif, 'rub_monthly_fee']\n",
    "    # Плата за звонки сверх лимита\n",
    "    if  row['duration_min'] > df_tarif.loc[tarif, 'minutes_included']: \n",
    "        pay_month += (row['duration_min'] - df_tarif.loc[tarif, 'minutes_included']) * df_tarif.loc[tarif, 'rub_per_minute']\n",
    "    # Плата за сообщения сверх лимита\n",
    "    if  row['message'] > df_tarif.loc[tarif, 'messages_included']: \n",
    "        pay_month += (row['message'] - df_tarif.loc[tarif, 'messages_included']) * df_tarif.loc[tarif, 'rub_per_message']\n",
    "    # Плата за интернет сверх лимита\n",
    "    if  row['mb_used'] > df_tarif.loc[tarif, 'mb_per_month_included']: \n",
    "        pay_month += math.ceil((row['mb_used'] - df_tarif.loc[tarif, 'mb_per_month_included'])/1024) * df_tarif.loc[tarif, 'rub_per_gb']\n",
    "    return pay_month"
   ]
  },
  {
   "cell_type": "code",
   "execution_count": 9,
   "metadata": {
    "scrolled": false
   },
   "outputs": [
    {
     "name": "stderr",
     "output_type": "stream",
     "text": [
      "/opt/conda/lib/python3.7/site-packages/pandas/core/reshape/merge.py:617: UserWarning: merging between different levels can give an unintended result (2 levels on the left, 1 on the right)\n",
      "  warnings.warn(msg, UserWarning)\n"
     ]
    },
    {
     "data": {
      "text/html": [
       "<div>\n",
       "<style scoped>\n",
       "    .dataframe tbody tr th:only-of-type {\n",
       "        vertical-align: middle;\n",
       "    }\n",
       "\n",
       "    .dataframe tbody tr th {\n",
       "        vertical-align: top;\n",
       "    }\n",
       "\n",
       "    .dataframe thead th {\n",
       "        text-align: right;\n",
       "    }\n",
       "</style>\n",
       "<table border=\"1\" class=\"dataframe\">\n",
       "  <thead>\n",
       "    <tr style=\"text-align: right;\">\n",
       "      <th></th>\n",
       "      <th></th>\n",
       "      <th>duration_min</th>\n",
       "      <th>duration_count</th>\n",
       "      <th>mb_used</th>\n",
       "      <th>message</th>\n",
       "      <th>tariff</th>\n",
       "      <th>city</th>\n",
       "      <th>gb_used</th>\n",
       "      <th>month_pay</th>\n",
       "    </tr>\n",
       "    <tr>\n",
       "      <th>user_id</th>\n",
       "      <th>month</th>\n",
       "      <th></th>\n",
       "      <th></th>\n",
       "      <th></th>\n",
       "      <th></th>\n",
       "      <th></th>\n",
       "      <th></th>\n",
       "      <th></th>\n",
       "      <th></th>\n",
       "    </tr>\n",
       "  </thead>\n",
       "  <tbody>\n",
       "    <tr>\n",
       "      <td rowspan=\"8\" valign=\"top\">1000</td>\n",
       "      <td>5</td>\n",
       "      <td>159</td>\n",
       "      <td>22</td>\n",
       "      <td>2,253.49</td>\n",
       "      <td>22.00</td>\n",
       "      <td>ultra</td>\n",
       "      <td>Краснодар</td>\n",
       "      <td>3</td>\n",
       "      <td>1,950.00</td>\n",
       "    </tr>\n",
       "    <tr>\n",
       "      <td>6</td>\n",
       "      <td>172</td>\n",
       "      <td>43</td>\n",
       "      <td>23,233.77</td>\n",
       "      <td>60.00</td>\n",
       "      <td>ultra</td>\n",
       "      <td>Краснодар</td>\n",
       "      <td>23</td>\n",
       "      <td>1,950.00</td>\n",
       "    </tr>\n",
       "    <tr>\n",
       "      <td>7</td>\n",
       "      <td>340</td>\n",
       "      <td>47</td>\n",
       "      <td>14,003.64</td>\n",
       "      <td>75.00</td>\n",
       "      <td>ultra</td>\n",
       "      <td>Краснодар</td>\n",
       "      <td>14</td>\n",
       "      <td>1,950.00</td>\n",
       "    </tr>\n",
       "    <tr>\n",
       "      <td>8</td>\n",
       "      <td>408</td>\n",
       "      <td>52</td>\n",
       "      <td>14,055.93</td>\n",
       "      <td>81.00</td>\n",
       "      <td>ultra</td>\n",
       "      <td>Краснодар</td>\n",
       "      <td>14</td>\n",
       "      <td>1,950.00</td>\n",
       "    </tr>\n",
       "    <tr>\n",
       "      <td>9</td>\n",
       "      <td>466</td>\n",
       "      <td>58</td>\n",
       "      <td>14,568.91</td>\n",
       "      <td>57.00</td>\n",
       "      <td>ultra</td>\n",
       "      <td>Краснодар</td>\n",
       "      <td>15</td>\n",
       "      <td>1,950.00</td>\n",
       "    </tr>\n",
       "    <tr>\n",
       "      <td>10</td>\n",
       "      <td>350</td>\n",
       "      <td>57</td>\n",
       "      <td>14,702.49</td>\n",
       "      <td>73.00</td>\n",
       "      <td>ultra</td>\n",
       "      <td>Краснодар</td>\n",
       "      <td>15</td>\n",
       "      <td>1,950.00</td>\n",
       "    </tr>\n",
       "    <tr>\n",
       "      <td>11</td>\n",
       "      <td>338</td>\n",
       "      <td>43</td>\n",
       "      <td>14,756.47</td>\n",
       "      <td>58.00</td>\n",
       "      <td>ultra</td>\n",
       "      <td>Краснодар</td>\n",
       "      <td>15</td>\n",
       "      <td>1,950.00</td>\n",
       "    </tr>\n",
       "    <tr>\n",
       "      <td>12</td>\n",
       "      <td>333</td>\n",
       "      <td>46</td>\n",
       "      <td>9,817.61</td>\n",
       "      <td>70.00</td>\n",
       "      <td>ultra</td>\n",
       "      <td>Краснодар</td>\n",
       "      <td>10</td>\n",
       "      <td>1,950.00</td>\n",
       "    </tr>\n",
       "    <tr>\n",
       "      <td rowspan=\"2\" valign=\"top\">1001</td>\n",
       "      <td>11</td>\n",
       "      <td>430</td>\n",
       "      <td>59</td>\n",
       "      <td>18,429.34</td>\n",
       "      <td>0.00</td>\n",
       "      <td>smart</td>\n",
       "      <td>Москва</td>\n",
       "      <td>18</td>\n",
       "      <td>1,150.00</td>\n",
       "    </tr>\n",
       "    <tr>\n",
       "      <td>12</td>\n",
       "      <td>414</td>\n",
       "      <td>63</td>\n",
       "      <td>14,036.66</td>\n",
       "      <td>0.00</td>\n",
       "      <td>smart</td>\n",
       "      <td>Москва</td>\n",
       "      <td>14</td>\n",
       "      <td>550.00</td>\n",
       "    </tr>\n",
       "  </tbody>\n",
       "</table>\n",
       "</div>"
      ],
      "text/plain": [
       "               duration_min  duration_count   mb_used  message tariff  \\\n",
       "user_id month                                                           \n",
       "1000    5               159              22  2,253.49    22.00  ultra   \n",
       "        6               172              43 23,233.77    60.00  ultra   \n",
       "        7               340              47 14,003.64    75.00  ultra   \n",
       "        8               408              52 14,055.93    81.00  ultra   \n",
       "        9               466              58 14,568.91    57.00  ultra   \n",
       "        10              350              57 14,702.49    73.00  ultra   \n",
       "        11              338              43 14,756.47    58.00  ultra   \n",
       "        12              333              46  9,817.61    70.00  ultra   \n",
       "1001    11              430              59 18,429.34     0.00  smart   \n",
       "        12              414              63 14,036.66     0.00  smart   \n",
       "\n",
       "                    city  gb_used  month_pay  \n",
       "user_id month                                 \n",
       "1000    5      Краснодар        3   1,950.00  \n",
       "        6      Краснодар       23   1,950.00  \n",
       "        7      Краснодар       14   1,950.00  \n",
       "        8      Краснодар       14   1,950.00  \n",
       "        9      Краснодар       15   1,950.00  \n",
       "        10     Краснодар       15   1,950.00  \n",
       "        11     Краснодар       15   1,950.00  \n",
       "        12     Краснодар       10   1,950.00  \n",
       "1001    11        Москва       18   1,150.00  \n",
       "        12        Москва       14     550.00  "
      ]
     },
     "execution_count": 9,
     "metadata": {},
     "output_type": "execute_result"
    }
   ],
   "source": [
    "# Создадим таблицу с информацией о израсходованном кол-ве звонков, \n",
    "# сообщений и интернета для каждого пользователя по месяцам\n",
    "# Начинаем со сводной таблице звонков\n",
    "df_expenses = df_calls.pivot_table(index=['user_id','month'], \n",
    "                                  values='duration', \n",
    "                                 aggfunc=['sum','count'])\n",
    "# Добавим к сводной таблице по звонкам сводную таблицу с информацией о интернет трафике\n",
    "df_expenses = df_expenses.merge(df_internet.pivot_table(index=['user_id','month'], \n",
    "                                                       values='mb_used', \n",
    "                                                      aggfunc='sum'),\n",
    "                               on =['user_id','month'], how='left')\n",
    "# Добавим к сводной таблице сводную таблицу с информацией о количестве сообщений\n",
    "df_expenses = df_expenses.merge(df_messages.pivot_table(index=['user_id','month'], \n",
    "                                                       values='id', \n",
    "                                                      aggfunc='count'),\n",
    "                               on=['user_id','month'], how='left')\n",
    "# Добавим к таблице информацию о тарифах\n",
    "df_expenses = df_expenses.join(df_users[['tariff', 'city']], on =['user_id'], how='left')\n",
    "\n",
    "# Замена пропусков на нули\n",
    "df_expenses = df_expenses.fillna(0)\n",
    "# Добавим в таблицу данные по расходу трафика в гигабайтах\n",
    "df_expenses['gb_used'] = (df_expenses['mb_used']/1024).apply(math.ceil)\n",
    "# Переименование колонок\n",
    "df_expenses = df_expenses.rename(columns={('sum', 'duration'): 'duration_min',\n",
    "                                          ('count', 'duration'): 'duration_count',\n",
    "                                          'id': 'message'} )\n",
    "# Расчёт ежемесячных трат для каждой строки в таблице с помощью выше созданной функции\n",
    "df_expenses['month_pay'] = df_expenses.apply(calc_expenses, axis=1)\n",
    "\n",
    "df_expenses.head(10)"
   ]
  },
  {
   "cell_type": "code",
   "execution_count": 10,
   "metadata": {},
   "outputs": [
    {
     "name": "stdout",
     "output_type": "stream",
     "text": [
      "<class 'pandas.core.frame.DataFrame'>\n",
      "MultiIndex: 3174 entries, (1000, 5) to (1499, 12)\n",
      "Data columns (total 8 columns):\n",
      "duration_min      3174 non-null int64\n",
      "duration_count    3174 non-null int64\n",
      "mb_used           3174 non-null float64\n",
      "message           3174 non-null float64\n",
      "tariff            3174 non-null object\n",
      "city              3174 non-null object\n",
      "gb_used           3174 non-null int64\n",
      "month_pay         3174 non-null float64\n",
      "dtypes: float64(3), int64(3), object(2)\n",
      "memory usage: 211.7+ KB\n"
     ]
    }
   ],
   "source": [
    "df_expenses.info()"
   ]
  },
  {
   "cell_type": "markdown",
   "metadata": {},
   "source": [
    "**Вывод**\n",
    "\n",
    "В данном разделе, произведн расчёт для каждого пользователя:\n",
    "- количество сделанных звонков и израсходованных минут разговора по месяцам;\n",
    "- количество отправленных сообщений по месяцам;\n",
    "- объем израсходованного интернет-трафика по месяцам;\n",
    "- помесячную выручку с каждого пользователя\n",
    "\n",
    "Свели расчёты и некоторые необходимые данные в отдельный датафрейм для дальнейшего анализа."
   ]
  },
  {
   "cell_type": "markdown",
   "metadata": {},
   "source": [
    "## Анализ данных\n",
    "\n",
    "Опишем поведение клиентов оператора, исходя из выборки. \n",
    "Произведём расчёт, сколько требуется пользователям каждого тарифа в месяц:\n",
    "- минут разговора,\n",
    "- сообщений \n",
    "- объём интернет-трафика.\n",
    "\n",
    "Для каждого параметра рассчитаем:\n",
    "- среднее количество, \n",
    "- дисперсю,\n",
    "- стандартное отклонение. \n",
    "\n",
    "Пострим гистограммы. Опишем распределения."
   ]
  },
  {
   "cell_type": "code",
   "execution_count": 11,
   "metadata": {},
   "outputs": [],
   "source": [
    "# Так как мы будем часто обращаться к выборкам по тарифам, выделим их в отдельные таблицы\n",
    "df_smart = df_expenses[df_expenses['tariff'] == 'smart']\n",
    "df_ultra = df_expenses[df_expenses['tariff'] == 'ultra']\n",
    "\n",
    "def distrib(feature,title_name, x_label):\n",
    "    # Функция для расчёта и вывода на экран распределения, среднего, дисерсии и ст. откл\n",
    "    \n",
    "    # Построение гистограмм    \n",
    "    ax = df_smart.plot( y    =feature,\n",
    "                        kind ='hist',\n",
    "                        color='blue',\n",
    "                        alpha=0.7,\n",
    "                        label='Smart',\n",
    "                        bins =50)\n",
    "    ax.set_xlabel(x_label)\n",
    "    (df_ultra.plot( y      =feature,\n",
    "                    ax     =ax,\n",
    "                    kind   ='hist',\n",
    "                    color  ='green',\n",
    "                    alpha  =0.7,\n",
    "                    label  ='Ultra',\n",
    "                    title  =title_name,\n",
    "                    bins   =50,\n",
    "                    figsize=(15,7)))\n",
    "    plt.show()\n",
    "    \n",
    "    # Расчт среднего, дисперсии и стандартного отклонения\n",
    "    distrib_tabl = df_expenses[['tariff', feature]].groupby('tariff').agg(['mean', 'var', 'std' ])\n",
    "    distrib_tabl = distrib_tabl.rename(columns={'mean': 'Среднее',\n",
    "                                                 'var': 'Дисперсия',\n",
    "                                                 'std': 'Стандартное отклонение',\n",
    "                                               feature: 'Показатели распределения'} )\n",
    "    \n",
    "    display(distrib_tabl)"
   ]
  },
  {
   "cell_type": "markdown",
   "metadata": {},
   "source": [
    "### Распределение количества минут разговора в месяц"
   ]
  },
  {
   "cell_type": "code",
   "execution_count": 12,
   "metadata": {},
   "outputs": [
    {
     "data": {
      "image/png": "[encoded data removed]",
      "text/plain": [
       "<Figure size 1080x504 with 1 Axes>"
      ]
     },
     "metadata": {
      "needs_background": "light"
     },
     "output_type": "display_data"
    },
    {
     "data": {
      "text/html": [
       "<div>\n",
       "<style scoped>\n",
       "    .dataframe tbody tr th:only-of-type {\n",
       "        vertical-align: middle;\n",
       "    }\n",
       "\n",
       "    .dataframe tbody tr th {\n",
       "        vertical-align: top;\n",
       "    }\n",
       "\n",
       "    .dataframe thead tr th {\n",
       "        text-align: left;\n",
       "    }\n",
       "\n",
       "    .dataframe thead tr:last-of-type th {\n",
       "        text-align: right;\n",
       "    }\n",
       "</style>\n",
       "<table border=\"1\" class=\"dataframe\">\n",
       "  <thead>\n",
       "    <tr>\n",
       "      <th></th>\n",
       "      <th colspan=\"3\" halign=\"left\">Показатели распределения</th>\n",
       "    </tr>\n",
       "    <tr>\n",
       "      <th></th>\n",
       "      <th>Среднее</th>\n",
       "      <th>Дисперсия</th>\n",
       "      <th>Стандартное отклонение</th>\n",
       "    </tr>\n",
       "    <tr>\n",
       "      <th>tariff</th>\n",
       "      <th></th>\n",
       "      <th></th>\n",
       "      <th></th>\n",
       "    </tr>\n",
       "  </thead>\n",
       "  <tbody>\n",
       "    <tr>\n",
       "      <td>smart</td>\n",
       "      <td>419.06</td>\n",
       "      <td>35,844.19</td>\n",
       "      <td>189.33</td>\n",
       "    </tr>\n",
       "    <tr>\n",
       "      <td>ultra</td>\n",
       "      <td>545.45</td>\n",
       "      <td>94,203.42</td>\n",
       "      <td>306.93</td>\n",
       "    </tr>\n",
       "  </tbody>\n",
       "</table>\n",
       "</div>"
      ],
      "text/plain": [
       "       Показатели распределения                                 \n",
       "                        Среднее Дисперсия Стандартное отклонение\n",
       "tariff                                                          \n",
       "smart                    419.06 35,844.19                 189.33\n",
       "ultra                    545.45 94,203.42                 306.93"
      ]
     },
     "metadata": {},
     "output_type": "display_data"
    }
   ],
   "source": [
    "distrib('duration_min', 'Распределение количества минут разговора в месяц', 'время разговора (мин.)')"
   ]
  },
  {
   "cell_type": "markdown",
   "metadata": {},
   "source": [
    "Пользователям тарифа Smart, в среднем, требуется 419 минут разговора в месяц. Большенство пользователей данного тарифа тратят от  230 до 608 минут. \n",
    "\n",
    "Пользователям тарифа Ultra, в среднем, требуется 545 минут разговора в месяц. Большенство пользователей данного тарифа тратят от  238 до 852 минут. \n",
    "\n",
    "Из анализа гистограмм распределения, дисперсии и стандартного отклонения, можно сделать вывод о том, что количество израсходованных минут пользователями тарифа Smart гораздо меньшее отклонено от среднего чем у пользователей тарифа Ultra."
   ]
  },
  {
   "cell_type": "markdown",
   "metadata": {},
   "source": [
    "### Распределение количества сообщений в месяц"
   ]
  },
  {
   "cell_type": "code",
   "execution_count": 13,
   "metadata": {},
   "outputs": [
    {
     "data": {
      "image/png": "[encoded data removed]",
      "text/plain": [
       "<Figure size 1080x504 with 1 Axes>"
      ]
     },
     "metadata": {
      "needs_background": "light"
     },
     "output_type": "display_data"
    },
    {
     "data": {
      "text/html": [
       "<div>\n",
       "<style scoped>\n",
       "    .dataframe tbody tr th:only-of-type {\n",
       "        vertical-align: middle;\n",
       "    }\n",
       "\n",
       "    .dataframe tbody tr th {\n",
       "        vertical-align: top;\n",
       "    }\n",
       "\n",
       "    .dataframe thead tr th {\n",
       "        text-align: left;\n",
       "    }\n",
       "\n",
       "    .dataframe thead tr:last-of-type th {\n",
       "        text-align: right;\n",
       "    }\n",
       "</style>\n",
       "<table border=\"1\" class=\"dataframe\">\n",
       "  <thead>\n",
       "    <tr>\n",
       "      <th></th>\n",
       "      <th colspan=\"3\" halign=\"left\">Показатели распределения</th>\n",
       "    </tr>\n",
       "    <tr>\n",
       "      <th></th>\n",
       "      <th>Среднее</th>\n",
       "      <th>Дисперсия</th>\n",
       "      <th>Стандартное отклонение</th>\n",
       "    </tr>\n",
       "    <tr>\n",
       "      <th>tariff</th>\n",
       "      <th></th>\n",
       "      <th></th>\n",
       "      <th></th>\n",
       "    </tr>\n",
       "  </thead>\n",
       "  <tbody>\n",
       "    <tr>\n",
       "      <td>smart</td>\n",
       "      <td>33.40</td>\n",
       "      <td>798.60</td>\n",
       "      <td>28.26</td>\n",
       "    </tr>\n",
       "    <tr>\n",
       "      <td>ultra</td>\n",
       "      <td>49.03</td>\n",
       "      <td>2,198.73</td>\n",
       "      <td>46.89</td>\n",
       "    </tr>\n",
       "  </tbody>\n",
       "</table>\n",
       "</div>"
      ],
      "text/plain": [
       "       Показатели распределения                                 \n",
       "                        Среднее Дисперсия Стандартное отклонение\n",
       "tariff                                                          \n",
       "smart                     33.40    798.60                  28.26\n",
       "ultra                     49.03  2,198.73                  46.89"
      ]
     },
     "metadata": {},
     "output_type": "display_data"
    }
   ],
   "source": [
    "distrib('message', 'Распределение количества сообщений в месяц', 'Количество СМС (шт.)')"
   ]
  },
  {
   "cell_type": "markdown",
   "metadata": {},
   "source": [
    "Пользователям тарифа Smart, в среднем, требуется 28 сообщений в месяц. Большенство пользователей данного тарифа используют от 5 до 61 сообщения в месяц. \n",
    "\n",
    "Пользователям тарифа Ultra, в среднем, требуется 49 сообщений. Большенство пользователей данного тарифа тратят от 3 до 96 сообщений. \n",
    "\n",
    "На гистограмме распределения видно, что большое количество пользователей обоих тарифов либо вовсе не используют СМС сообщения, либо используют не более 3-х в месяц."
   ]
  },
  {
   "cell_type": "markdown",
   "metadata": {},
   "source": [
    "### Распределение количества интернет трафика в месяц"
   ]
  },
  {
   "cell_type": "code",
   "execution_count": 14,
   "metadata": {},
   "outputs": [
    {
     "data": {
      "image/png": "[encoded data removed]",
      "text/plain": [
       "<Figure size 1080x504 with 1 Axes>"
      ]
     },
     "metadata": {
      "needs_background": "light"
     },
     "output_type": "display_data"
    },
    {
     "data": {
      "text/html": [
       "<div>\n",
       "<style scoped>\n",
       "    .dataframe tbody tr th:only-of-type {\n",
       "        vertical-align: middle;\n",
       "    }\n",
       "\n",
       "    .dataframe tbody tr th {\n",
       "        vertical-align: top;\n",
       "    }\n",
       "\n",
       "    .dataframe thead tr th {\n",
       "        text-align: left;\n",
       "    }\n",
       "\n",
       "    .dataframe thead tr:last-of-type th {\n",
       "        text-align: right;\n",
       "    }\n",
       "</style>\n",
       "<table border=\"1\" class=\"dataframe\">\n",
       "  <thead>\n",
       "    <tr>\n",
       "      <th></th>\n",
       "      <th colspan=\"3\" halign=\"left\">Показатели распределения</th>\n",
       "    </tr>\n",
       "    <tr>\n",
       "      <th></th>\n",
       "      <th>Среднее</th>\n",
       "      <th>Дисперсия</th>\n",
       "      <th>Стандартное отклонение</th>\n",
       "    </tr>\n",
       "    <tr>\n",
       "      <th>tariff</th>\n",
       "      <th></th>\n",
       "      <th></th>\n",
       "      <th></th>\n",
       "    </tr>\n",
       "  </thead>\n",
       "  <tbody>\n",
       "    <tr>\n",
       "      <td>smart</td>\n",
       "      <td>16.33</td>\n",
       "      <td>33.09</td>\n",
       "      <td>5.75</td>\n",
       "    </tr>\n",
       "    <tr>\n",
       "      <td>ultra</td>\n",
       "      <td>19.49</td>\n",
       "      <td>97.82</td>\n",
       "      <td>9.89</td>\n",
       "    </tr>\n",
       "  </tbody>\n",
       "</table>\n",
       "</div>"
      ],
      "text/plain": [
       "       Показатели распределения                                 \n",
       "                        Среднее Дисперсия Стандартное отклонение\n",
       "tariff                                                          \n",
       "smart                     16.33     33.09                   5.75\n",
       "ultra                     19.49     97.82                   9.89"
      ]
     },
     "metadata": {},
     "output_type": "display_data"
    }
   ],
   "source": [
    "distrib('gb_used', 'Распределение количества интернет трафика в месяц', 'Количество интернет трафика (Гб.)')"
   ]
  },
  {
   "cell_type": "markdown",
   "metadata": {},
   "source": [
    "Пользователям тарифа Smart, в среднем, требуется 16 Гб интернет трафика в месяц. Большенство пользователей данного тарифа тратят от 10 до 23 Гб в месяц.\n",
    "\n",
    "Пользователям тарифа Ultra, в среднем, требуется 19 Гб интернет трафика в месяц. Большенство пользователей данного тарифа тратят от 9 до 29 Гб в месяц.\n",
    "\n",
    "Из анализа гистограмм распределения, дисперсии и стандартного отклонения, можно сделать вывод о том, что количество израсходованного интернет трафика пользователями тарифа Smart гораздо меньшее отклонено от среднего чем у пользователей тарифа Ultra."
   ]
  },
  {
   "cell_type": "markdown",
   "metadata": {},
   "source": [
    "**Вывод**"
   ]
  },
  {
   "cell_type": "markdown",
   "metadata": {},
   "source": [
    "В целом, предпочтения пользователей тарифов Smart и Ultra значительно различаются. \n",
    "- Распределение минут разговора и интернет трафика у пользователей тарифа Smart имеют меньшее отклонение от среднего, чем у пользователей тарифа Ultra. Данное распределение у пользователей тарифа Smart похоже на нормальное, а у пользователей тарифа Ultra больше похоже на равномерное распределение. Это говорит о том, что пользователи тарифа Smart знают чего хотят от оператора связи. А пользователи тарифа Ultra - это люди, которые не в полной мере понимают сколько звонков и интернет трафика им необходимо в месяц.\n",
    "- Распределения количества СМС сообщений имеют более схожий характер. Это, видимо, следствие падения популярности общения через СМС, и возрастания популярности месенджеров."
   ]
  },
  {
   "cell_type": "markdown",
   "metadata": {},
   "source": [
    "## Проверка гипотез\n",
    "\n",
    "Поскольку представленные в данном проекте данные являются не генеральной совокупностью всех данных о пользователях и их действиях, а выборкой из неё, проверку гипотез необходимо призводить с применением методов статистического анализа данных. \n",
    "\n",
    "В данном разделе проверим следующие гипотезы:\n",
    "- Средняя выручка пользователей тарифов «Ультра» и «Смарт» различаются;\n",
    "- Средняя выручка пользователей из Москвы отличается от выручки пользователей из других регионов.\n",
    "\n",
    "Для каждой гипотезы:\n",
    "- Сформулируем нулевую и альтернативную гипотезы;\n",
    "- Определим метод принятия нулевой или альтернативной гпотезы;\n",
    "- Определим критерий принятия нулевой или альтернативной гпотезы;\n",
    "- Произведём расчёты для принятия нулевой или альтернативной гпотезы;\n",
    "- Сделаем вывод.\n"
   ]
  },
  {
   "cell_type": "markdown",
   "metadata": {},
   "source": [
    "### Средняя выручка пользователей тарифов «Ультра» и «Смарт» различаются;\n",
    "\n",
    "\n",
    "Сформулируем нулевую и альтернативную гипотезы:\n",
    "- Нулевая гипотеза: Средние выручки пользователей тарифов «Ультра» и «Смарт» равны.\n",
    "- Альтернативная гипотеза: Средняя выручка пользователей тарифов «Ультра» и «Смарт» различаются.\n",
    "\n",
    "Так как мы имеем дело с выборками, то сравнивать будем выборочные средние, значение которых имеет вероятносный характер. \n",
    "Для принятия нулевой или альтернативной гипотезы, применим t-тест к выборкам. Необходимые условия примененния данного метода:\n",
    "- Генеральные совокупности не должны зависеть друг от друга. Пользователи тарифов «Ультра» и «Смарт» не влияют друг на друга, и действуют независимо.\n",
    "- Выборочные средние должны быть нормально распределены. При размере выборки более нескольких десятков значений, как в нашем случае, выборочные средние нормально распределены вокруг истинного среднего генеральной совокупности.\n",
    "\n",
    "Таким образом оба условия соблюдаются.\n",
    "\n",
    "Для того чтобы принять решение о принятии нулевой или альтернативной гипотезы, с помощью t-теста произведём расчёт вероятности получить равные средние выборок для тарифов «Ультра» и «Смарт». Если полученная вероятность будет меньше принятой статистической значимости, то нулевая гипотеза будет принята. В противном случае — нулевую гипотезу стоит отвергнуть и принять альтернативную. Статистическую значимость примем равной 5%."
   ]
  },
  {
   "cell_type": "code",
   "execution_count": 15,
   "metadata": {},
   "outputs": [
    {
     "data": {
      "text/html": [
       "<div>\n",
       "<style scoped>\n",
       "    .dataframe tbody tr th:only-of-type {\n",
       "        vertical-align: middle;\n",
       "    }\n",
       "\n",
       "    .dataframe tbody tr th {\n",
       "        vertical-align: top;\n",
       "    }\n",
       "\n",
       "    .dataframe thead th {\n",
       "        text-align: right;\n",
       "    }\n",
       "</style>\n",
       "<table border=\"1\" class=\"dataframe\">\n",
       "  <thead>\n",
       "    <tr style=\"text-align: right;\">\n",
       "      <th></th>\n",
       "      <th>month_pay</th>\n",
       "      <th>tariff</th>\n",
       "      <th>city</th>\n",
       "    </tr>\n",
       "    <tr>\n",
       "      <th>user_id</th>\n",
       "      <th></th>\n",
       "      <th></th>\n",
       "      <th></th>\n",
       "    </tr>\n",
       "  </thead>\n",
       "  <tbody>\n",
       "    <tr>\n",
       "      <td>1000</td>\n",
       "      <td>1,950.00</td>\n",
       "      <td>ultra</td>\n",
       "      <td>Краснодар</td>\n",
       "    </tr>\n",
       "    <tr>\n",
       "      <td>1001</td>\n",
       "      <td>850.00</td>\n",
       "      <td>smart</td>\n",
       "      <td>Москва</td>\n",
       "    </tr>\n",
       "    <tr>\n",
       "      <td>1002</td>\n",
       "      <td>1,035.71</td>\n",
       "      <td>smart</td>\n",
       "      <td>Стерлитамак</td>\n",
       "    </tr>\n",
       "    <tr>\n",
       "      <td>1003</td>\n",
       "      <td>1,950.00</td>\n",
       "      <td>ultra</td>\n",
       "      <td>Москва</td>\n",
       "    </tr>\n",
       "    <tr>\n",
       "      <td>1004</td>\n",
       "      <td>1,950.00</td>\n",
       "      <td>ultra</td>\n",
       "      <td>Новокузнецк</td>\n",
       "    </tr>\n",
       "    <tr>\n",
       "      <td>...</td>\n",
       "      <td>...</td>\n",
       "      <td>...</td>\n",
       "      <td>...</td>\n",
       "    </tr>\n",
       "    <tr>\n",
       "      <td>1495</td>\n",
       "      <td>2,310.00</td>\n",
       "      <td>ultra</td>\n",
       "      <td>Иркутск</td>\n",
       "    </tr>\n",
       "    <tr>\n",
       "      <td>1496</td>\n",
       "      <td>2,362.58</td>\n",
       "      <td>smart</td>\n",
       "      <td>Вологда</td>\n",
       "    </tr>\n",
       "    <tr>\n",
       "      <td>1497</td>\n",
       "      <td>928.33</td>\n",
       "      <td>smart</td>\n",
       "      <td>Челябинск</td>\n",
       "    </tr>\n",
       "    <tr>\n",
       "      <td>1498</td>\n",
       "      <td>1,659.00</td>\n",
       "      <td>smart</td>\n",
       "      <td>Владикавказ</td>\n",
       "    </tr>\n",
       "    <tr>\n",
       "      <td>1499</td>\n",
       "      <td>952.75</td>\n",
       "      <td>smart</td>\n",
       "      <td>Пермь</td>\n",
       "    </tr>\n",
       "  </tbody>\n",
       "</table>\n",
       "<p>492 rows × 3 columns</p>\n",
       "</div>"
      ],
      "text/plain": [
       "         month_pay tariff         city\n",
       "user_id                               \n",
       "1000      1,950.00  ultra    Краснодар\n",
       "1001        850.00  smart       Москва\n",
       "1002      1,035.71  smart  Стерлитамак\n",
       "1003      1,950.00  ultra       Москва\n",
       "1004      1,950.00  ultra  Новокузнецк\n",
       "...            ...    ...          ...\n",
       "1495      2,310.00  ultra      Иркутск\n",
       "1496      2,362.58  smart      Вологда\n",
       "1497        928.33  smart    Челябинск\n",
       "1498      1,659.00  smart  Владикавказ\n",
       "1499        952.75  smart        Пермь\n",
       "\n",
       "[492 rows x 3 columns]"
      ]
     },
     "execution_count": 15,
     "metadata": {},
     "output_type": "execute_result"
    }
   ],
   "source": [
    "df_median_exp = df_expenses.pivot_table(index='user_id', values='month_pay', aggfunc='mean' )\n",
    "# Добавим к таблице информацию о тарифах\n",
    "df_median_exp = df_median_exp.join(df_users[['tariff', 'city']], on =['user_id'], how='left')\n",
    "df_median_exp"
   ]
  },
  {
   "cell_type": "code",
   "execution_count": 16,
   "metadata": {},
   "outputs": [
    {
     "name": "stdout",
     "output_type": "stream",
     "text": [
      "p-значение:  4.872100655128441e-58\n",
      "Отвергаем нулевую гипотезу\n"
     ]
    }
   ],
   "source": [
    "alpha = .05 # критический уровень статистической значимости\n",
    "\n",
    "results = st.ttest_ind(df_median_exp[df_median_exp['tariff'] == 'smart']['month_pay'],\n",
    "                       df_median_exp[df_median_exp['tariff'] == 'ultra']['month_pay'],\n",
    "                       equal_var = False)\n",
    " \n",
    "print('p-значение: ', results.pvalue)\n",
    "\n",
    "# если p-value окажется меньше него - отвегнем гипотезу\n",
    "if results.pvalue < alpha:\n",
    "    print(\"Отвергаем нулевую гипотезу\")\n",
    "else:\n",
    "    print(\"Не получилось отвергнуть нулевую гипотезу\")"
   ]
  },
  {
   "cell_type": "markdown",
   "metadata": {},
   "source": [
    "Нулевая гипотеза отвергнута. Значит принимается альтернативная гипотеза: Средняя выручка пользователей тарифов «Ультра» и «Смарт» различаются.\n",
    "\n",
    "**Вывод: Гипотеза \"Средняя выручка пользователей тарифов «Ультра» и «Смарт» различаются.\" подтверждена.**"
   ]
  },
  {
   "cell_type": "markdown",
   "metadata": {},
   "source": [
    "### Средняя выручка пользователей из Москвы отличается от выручки пользователей из других регионов.\n",
    "\n",
    "Сформулируем нулевую и альтернативную гипотезы:\n",
    "\n",
    "- Нулевая гипотеза: Средние выручки пользователей из Москвы и из других регионов равны.\n",
    "- Альтернативная гипотеза: Средняя выручка пользователей из Москвы отличается от выручки пользователей из других регионов.\n",
    "\n",
    "Аналогично первой гипотезе, мы имеем дело с выборками, и сравнивать будем выборочные средние, значение которых имеет вероятносный характер. \n",
    "Для принятия нулевой или альтернативной гипотезы, применим t-тест к выборкам. Необходимые условия примененния данного метода:\n",
    "- Генеральные совокупности не должны зависеть друг от друга. Пользователи из Москвы и из других регионов не влияют друг на друга, и действуют независимо.\n",
    "- Выборочные средние должны быть нормально распределены. При размере выборки более нескольких десятков значений, как в нашем случае, выборочные средние нормально распределены вокруг истинного среднего генеральной совокупности.\n",
    "\n",
    "Таким образом оба условия соблюдаются.\n",
    "\n",
    "Для того чтобы принять решение о принятии нулевой или альтернативной гипотезы, с помощью t-теста произведём расчёт вероятности получить равные средние выборок для тарифов «Ультра» и «Смарт». Если полученная вероятность будет меньше принятой статистической значимости, то нулевая гипотеза будет принята. В противном случае — нулевую гипотезу стоит отвергнуть и принять альтернативную. Статистическую значимость примем равной 5%."
   ]
  },
  {
   "cell_type": "code",
   "execution_count": 17,
   "metadata": {},
   "outputs": [
    {
     "name": "stdout",
     "output_type": "stream",
     "text": [
      "p-значение:  0.40341022106139723\n",
      "Не получилось отвергнуть нулевую гипотезу\n"
     ]
    }
   ],
   "source": [
    "alpha = .05 # критический уровень статистической значимости\n",
    "\n",
    "results = st.ttest_ind(df_median_exp[df_median_exp['city'] == 'Москва']['month_pay'],\n",
    "                       df_median_exp[df_median_exp['city'] != 'Москва']['month_pay'])\n",
    "                       \n",
    "print('p-значение: ', results.pvalue)\n",
    "\n",
    "# если p-value окажется меньше него - отвегнем гипотезу\n",
    "if results.pvalue < alpha:\n",
    "    print(\"Отвергаем нулевую гипотезу\")\n",
    "else:\n",
    "    print(\"Не получилось отвергнуть нулевую гипотезу\")"
   ]
  },
  {
   "cell_type": "markdown",
   "metadata": {},
   "source": [
    "Нулевая гипотеза не отвергнута. Средние выручки пользователей из Москвы и из других регионов равны.\n",
    "\n",
    "**Вывод: Гипотеза \"Средняя выручка пользователей из Москвы отличается от выручки пользователей из других регионов\" отвержена.**"
   ]
  },
  {
   "cell_type": "markdown",
   "metadata": {},
   "source": [
    "**Вывод**\n",
    "\n",
    "- Гипотеза №1: \"Средняя выручка пользователей тарифов «Ультра» и «Смарт» различаются.\" подтверждена.\n",
    "- Гипотеза №2 \"Средняя выручка пользователей из Москвы отличается от выручки пользователей из других регионов\" отвержена."
   ]
  },
  {
   "cell_type": "markdown",
   "metadata": {},
   "source": [
    "## Общий вывод\n",
    "\n",
    "На этапе загрузки данных из файлов, осуществили преобразование колонок содержащих дату в тип datetime64, преобразовали индексы двух таблиц. Критичных пропусков, дубликатов, проблем с типами данных и других серьзных проблем в загруженных данных не обнаружено.\n",
    "\n",
    "На этапе подготовки данных сформирована таблица с данными для дальнейшего анализа. В таблицу внесены необходимые данные из пяти таблиц, а также из произведённых расчётов необходимых данных для каждого пользователя.\n",
    "\n",
    "В ходе анализа данных выяснили чем отличаются и в чём схожи предпочтения и особенности пользователей тарифов Smart и Ultra.\n",
    "- Пользователей тарифа Smart чётко знают сколько звонков и интернет трафика им необходимо в месяц, и они не готовы переплачивать за то чем не будут пользоваться.  \n",
    "- Пользователей тарифа Ultra не могут определить сколько звонков и интернет трафика им необходимо в месяц, но они готовы оплатить более дорогой тариф, даже если им столько минут и гигабайт не нужно.\n",
    "- Сходство между пользователями тарифов только в распределении СМС сообщений. Хоть пользователи тарифа Ultra в среднем расходуют больше сообщений чем пользователи тарифа Smart, их расределения похожи. Значительная часть пользователей вообще не пользуется сообщениями, что обусловленно падением популярности общения с помощью СМС и переходом на месенджеры.\n",
    "\n",
    "В разделе №4, с помощью методов статистического анализа данных, произвели проверку следующих гипотез:\n",
    "- Средняя выручка пользователей тарифов «Ультра» и «Смарт» различаются. - подтверждена.\n",
    "- Средняя выручка пользователей из Москвы отличается от выручки пользователей из других регионов. - отвержена.\n",
    "\n",
    "Выполненное исследование закладывает основу для определения перспективного тарифа для телеком-компании \"Мегалайн\"."
   ]
  }
 ],
 "metadata": {
  "ExecuteTimeLog": [
   {
    "duration": 926,
    "start_time": "2022-02-12T07:51:23.799Z"
   },
   {
    "duration": 129,
    "start_time": "2022-02-12T07:51:24.726Z"
   },
   {
    "duration": 65,
    "start_time": "2022-02-12T07:51:24.858Z"
   },
   {
    "duration": 63,
    "start_time": "2022-02-12T07:51:24.925Z"
   },
   {
    "duration": 11,
    "start_time": "2022-02-12T07:51:24.989Z"
   },
   {
    "duration": 28,
    "start_time": "2022-02-12T07:51:25.001Z"
   },
   {
    "duration": 133,
    "start_time": "2022-02-12T07:51:25.031Z"
   },
   {
    "duration": 51,
    "start_time": "2022-02-12T07:51:25.166Z"
   },
   {
    "duration": -3805,
    "start_time": "2022-02-12T07:51:29.024Z"
   },
   {
    "duration": 1575,
    "start_time": "2022-02-12T13:13:04.841Z"
   },
   {
    "duration": 249,
    "start_time": "2022-02-12T13:13:06.419Z"
   },
   {
    "duration": 155,
    "start_time": "2022-02-12T13:13:06.671Z"
   },
   {
    "duration": 110,
    "start_time": "2022-02-12T13:13:06.834Z"
   },
   {
    "duration": 17,
    "start_time": "2022-02-12T13:13:06.946Z"
   },
   {
    "duration": 76,
    "start_time": "2022-02-12T13:13:06.965Z"
   },
   {
    "duration": 182,
    "start_time": "2022-02-12T13:13:07.044Z"
   },
   {
    "duration": 198,
    "start_time": "2022-02-12T13:13:13.586Z"
   },
   {
    "duration": 75,
    "start_time": "2022-02-12T13:18:44.470Z"
   },
   {
    "duration": 103,
    "start_time": "2022-02-12T13:19:30.159Z"
   },
   {
    "duration": 120,
    "start_time": "2022-02-12T13:19:36.891Z"
   },
   {
    "duration": 124,
    "start_time": "2022-02-12T13:19:52.436Z"
   },
   {
    "duration": 159,
    "start_time": "2022-02-12T13:20:07.672Z"
   },
   {
    "duration": 1165,
    "start_time": "2022-02-12T13:20:47.116Z"
   },
   {
    "duration": 156,
    "start_time": "2022-02-12T13:21:55.987Z"
   },
   {
    "duration": 251,
    "start_time": "2022-02-12T13:22:26.248Z"
   },
   {
    "duration": 158,
    "start_time": "2022-02-12T13:22:58.152Z"
   },
   {
    "duration": 182,
    "start_time": "2022-02-12T13:23:03.867Z"
   },
   {
    "duration": 26,
    "start_time": "2022-02-12T13:25:00.705Z"
   },
   {
    "duration": 11,
    "start_time": "2022-02-12T13:25:25.538Z"
   },
   {
    "duration": 8,
    "start_time": "2022-02-12T13:25:44.627Z"
   },
   {
    "duration": 23,
    "start_time": "2022-02-12T13:26:01.510Z"
   },
   {
    "duration": 16,
    "start_time": "2022-02-12T13:26:07.788Z"
   },
   {
    "duration": 15,
    "start_time": "2022-02-12T13:26:37.114Z"
   },
   {
    "duration": 1211,
    "start_time": "2022-02-12T13:27:55.232Z"
   },
   {
    "duration": 1127,
    "start_time": "2022-02-12T13:28:29.055Z"
   },
   {
    "duration": 165,
    "start_time": "2022-02-12T13:29:25.448Z"
   },
   {
    "duration": 10,
    "start_time": "2022-02-12T13:29:45.875Z"
   },
   {
    "duration": 12,
    "start_time": "2022-02-12T13:35:17.375Z"
   },
   {
    "duration": 184,
    "start_time": "2022-02-12T13:39:58.391Z"
   },
   {
    "duration": 165,
    "start_time": "2022-02-12T13:59:11.034Z"
   },
   {
    "duration": 78,
    "start_time": "2022-02-12T13:59:30.751Z"
   },
   {
    "duration": 153,
    "start_time": "2022-02-12T13:59:48.168Z"
   },
   {
    "duration": 28,
    "start_time": "2022-02-12T14:03:49.909Z"
   },
   {
    "duration": 13,
    "start_time": "2022-02-12T14:04:17.508Z"
   },
   {
    "duration": 25,
    "start_time": "2022-02-12T14:05:27.461Z"
   },
   {
    "duration": 12,
    "start_time": "2022-02-12T14:05:34.639Z"
   },
   {
    "duration": 6908,
    "start_time": "2022-02-12T14:08:39.396Z"
   },
   {
    "duration": 6159,
    "start_time": "2022-02-12T14:08:59.803Z"
   },
   {
    "duration": 5963,
    "start_time": "2022-02-12T14:09:30.798Z"
   },
   {
    "duration": 6129,
    "start_time": "2022-02-12T14:09:38.855Z"
   },
   {
    "duration": 6001,
    "start_time": "2022-02-12T14:09:47.115Z"
   },
   {
    "duration": 6885,
    "start_time": "2022-02-12T14:10:12.081Z"
   },
   {
    "duration": 7,
    "start_time": "2022-02-12T14:10:24.900Z"
   },
   {
    "duration": 6414,
    "start_time": "2022-02-12T14:10:48.353Z"
   },
   {
    "duration": 8,
    "start_time": "2022-02-12T14:11:15.693Z"
   },
   {
    "duration": 14,
    "start_time": "2022-02-12T14:11:59.571Z"
   },
   {
    "duration": 8,
    "start_time": "2022-02-12T14:12:11.410Z"
   },
   {
    "duration": 271,
    "start_time": "2022-02-12T14:12:28.324Z"
   },
   {
    "duration": 238,
    "start_time": "2022-02-12T14:12:38.214Z"
   },
   {
    "duration": 291,
    "start_time": "2022-02-12T14:12:43.702Z"
   },
   {
    "duration": 6,
    "start_time": "2022-02-12T14:13:50.393Z"
   },
   {
    "duration": 6,
    "start_time": "2022-02-12T14:13:56.930Z"
   },
   {
    "duration": 83,
    "start_time": "2022-02-12T14:14:50.586Z"
   },
   {
    "duration": 140,
    "start_time": "2022-02-12T14:14:55.459Z"
   },
   {
    "duration": 4652,
    "start_time": "2022-02-12T14:15:06.790Z"
   },
   {
    "duration": 229,
    "start_time": "2022-02-12T14:15:24.769Z"
   },
   {
    "duration": 404,
    "start_time": "2022-02-12T14:15:42.934Z"
   },
   {
    "duration": 85,
    "start_time": "2022-02-12T14:16:13.517Z"
   },
   {
    "duration": 6865,
    "start_time": "2022-02-12T14:16:18.025Z"
   },
   {
    "duration": 6198,
    "start_time": "2022-02-12T14:17:11.736Z"
   },
   {
    "duration": 6291,
    "start_time": "2022-02-12T14:17:30.882Z"
   },
   {
    "duration": 6439,
    "start_time": "2022-02-12T14:18:04.796Z"
   },
   {
    "duration": 4,
    "start_time": "2022-02-12T14:18:45.502Z"
   },
   {
    "duration": 5908,
    "start_time": "2022-02-12T14:19:02.778Z"
   },
   {
    "duration": 6444,
    "start_time": "2022-02-12T14:19:11.738Z"
   },
   {
    "duration": 7,
    "start_time": "2022-02-12T14:19:25.466Z"
   },
   {
    "duration": 67,
    "start_time": "2022-02-12T14:20:23.048Z"
   },
   {
    "duration": -3677,
    "start_time": "2022-02-12T14:20:51.573Z"
   },
   {
    "duration": 6,
    "start_time": "2022-02-12T14:20:55.122Z"
   },
   {
    "duration": 233,
    "start_time": "2022-02-12T14:22:02.797Z"
   },
   {
    "duration": 84,
    "start_time": "2022-02-12T14:22:39.594Z"
   },
   {
    "duration": 6,
    "start_time": "2022-02-12T14:22:49.740Z"
   },
   {
    "duration": 6259,
    "start_time": "2022-02-12T14:25:54.483Z"
   },
   {
    "duration": 390,
    "start_time": "2022-02-12T14:26:41.563Z"
   },
   {
    "duration": 7,
    "start_time": "2022-02-12T14:27:42.146Z"
   },
   {
    "duration": 428,
    "start_time": "2022-02-12T14:32:23.604Z"
   },
   {
    "duration": 8,
    "start_time": "2022-02-12T14:36:50.993Z"
   },
   {
    "duration": 9,
    "start_time": "2022-02-12T14:37:04.935Z"
   },
   {
    "duration": 385,
    "start_time": "2022-02-12T14:38:36.547Z"
   },
   {
    "duration": 8,
    "start_time": "2022-02-12T14:38:51.559Z"
   },
   {
    "duration": 9,
    "start_time": "2022-02-12T14:39:03.025Z"
   },
   {
    "duration": 6413,
    "start_time": "2022-02-12T14:41:27.538Z"
   },
   {
    "duration": 4593,
    "start_time": "2022-02-12T14:42:25.520Z"
   },
   {
    "duration": 5614,
    "start_time": "2022-02-12T14:43:18.977Z"
   },
   {
    "duration": 7,
    "start_time": "2022-02-12T14:44:05.713Z"
   },
   {
    "duration": 7,
    "start_time": "2022-02-12T14:45:06.787Z"
   },
   {
    "duration": 4733,
    "start_time": "2022-02-12T14:45:10.110Z"
   },
   {
    "duration": 232,
    "start_time": "2022-02-12T14:46:18.979Z"
   },
   {
    "duration": 7,
    "start_time": "2022-02-12T14:46:21.673Z"
   },
   {
    "duration": 6,
    "start_time": "2022-02-12T14:46:40.969Z"
   },
   {
    "duration": 414,
    "start_time": "2022-02-12T14:46:57.658Z"
   },
   {
    "duration": 7,
    "start_time": "2022-02-12T14:47:23.309Z"
   },
   {
    "duration": 7,
    "start_time": "2022-02-12T14:47:30.517Z"
   },
   {
    "duration": 81,
    "start_time": "2022-02-12T15:04:24.991Z"
   },
   {
    "duration": 8,
    "start_time": "2022-02-12T15:04:29.370Z"
   },
   {
    "duration": 10,
    "start_time": "2022-02-12T15:19:02.294Z"
   },
   {
    "duration": 15,
    "start_time": "2022-02-12T15:19:18.238Z"
   },
   {
    "duration": 9,
    "start_time": "2022-02-12T15:23:07.784Z"
   },
   {
    "duration": 7,
    "start_time": "2022-02-12T15:23:32.365Z"
   },
   {
    "duration": 4873,
    "start_time": "2022-02-12T15:25:08.179Z"
   },
   {
    "duration": 4,
    "start_time": "2022-02-12T15:25:59.241Z"
   },
   {
    "duration": 393,
    "start_time": "2022-02-12T15:25:59.247Z"
   },
   {
    "duration": 307,
    "start_time": "2022-02-12T15:25:59.643Z"
   },
   {
    "duration": 204,
    "start_time": "2022-02-12T15:25:59.953Z"
   },
   {
    "duration": 27,
    "start_time": "2022-02-12T15:26:00.159Z"
   },
   {
    "duration": 70,
    "start_time": "2022-02-12T15:26:00.188Z"
   },
   {
    "duration": 173,
    "start_time": "2022-02-12T15:26:00.262Z"
   },
   {
    "duration": 10,
    "start_time": "2022-02-12T15:26:00.438Z"
   },
   {
    "duration": 13,
    "start_time": "2022-02-12T15:26:00.451Z"
   },
   {
    "duration": 30,
    "start_time": "2022-02-12T15:26:00.466Z"
   },
   {
    "duration": 26,
    "start_time": "2022-02-12T15:26:00.499Z"
   },
   {
    "duration": 22,
    "start_time": "2022-02-12T15:26:00.528Z"
   },
   {
    "duration": 4994,
    "start_time": "2022-02-12T15:26:05.183Z"
   },
   {
    "duration": 405,
    "start_time": "2022-02-12T15:32:41.549Z"
   },
   {
    "duration": 4758,
    "start_time": "2022-02-12T15:32:53.609Z"
   },
   {
    "duration": 138,
    "start_time": "2022-02-12T15:33:51.012Z"
   },
   {
    "duration": 6,
    "start_time": "2022-02-12T15:34:03.776Z"
   },
   {
    "duration": 4777,
    "start_time": "2022-02-12T15:34:21.593Z"
   },
   {
    "duration": 6418,
    "start_time": "2022-02-12T15:34:28.602Z"
   },
   {
    "duration": 7,
    "start_time": "2022-02-12T15:34:38.625Z"
   },
   {
    "duration": 231,
    "start_time": "2022-02-12T15:39:09.101Z"
   },
   {
    "duration": 4,
    "start_time": "2022-02-12T15:39:13.614Z"
   },
   {
    "duration": 28,
    "start_time": "2022-02-12T15:39:16.452Z"
   },
   {
    "duration": 6666,
    "start_time": "2022-02-12T15:39:38.839Z"
   },
   {
    "duration": 12,
    "start_time": "2022-02-12T15:41:13.326Z"
   },
   {
    "duration": 1112,
    "start_time": "2022-02-12T15:41:25.601Z"
   },
   {
    "duration": 7,
    "start_time": "2022-02-12T15:45:25.233Z"
   },
   {
    "duration": 361,
    "start_time": "2022-02-12T15:50:19.371Z"
   },
   {
    "duration": 366,
    "start_time": "2022-02-12T15:51:02.178Z"
   },
   {
    "duration": 694,
    "start_time": "2022-02-12T15:51:15.561Z"
   },
   {
    "duration": 137,
    "start_time": "2022-02-12T15:51:43.447Z"
   },
   {
    "duration": 6,
    "start_time": "2022-02-12T15:54:47.529Z"
   },
   {
    "duration": 606,
    "start_time": "2022-02-12T15:54:51.546Z"
   },
   {
    "duration": 631,
    "start_time": "2022-02-12T15:55:14.289Z"
   },
   {
    "duration": 412,
    "start_time": "2022-02-12T15:59:34.588Z"
   },
   {
    "duration": 7,
    "start_time": "2022-02-12T16:02:51.909Z"
   },
   {
    "duration": 6908,
    "start_time": "2022-02-12T16:03:19.437Z"
   },
   {
    "duration": 9,
    "start_time": "2022-02-12T16:03:27.182Z"
   },
   {
    "duration": 907,
    "start_time": "2022-02-12T16:03:28.450Z"
   },
   {
    "duration": 1161,
    "start_time": "2022-02-12T16:04:02.181Z"
   },
   {
    "duration": 7,
    "start_time": "2022-02-12T16:05:09.679Z"
   },
   {
    "duration": 1148,
    "start_time": "2022-02-12T16:05:10.405Z"
   },
   {
    "duration": 284,
    "start_time": "2022-02-12T16:06:11.759Z"
   },
   {
    "duration": 11,
    "start_time": "2022-02-12T16:06:16.106Z"
   },
   {
    "duration": 1132,
    "start_time": "2022-02-12T16:08:26.503Z"
   },
   {
    "duration": 45,
    "start_time": "2022-02-12T16:35:40.584Z"
   },
   {
    "duration": 25,
    "start_time": "2022-02-12T16:36:10.984Z"
   },
   {
    "duration": 76,
    "start_time": "2022-02-12T17:00:53.159Z"
   },
   {
    "duration": 6105,
    "start_time": "2022-02-12T17:00:57.106Z"
   },
   {
    "duration": 6102,
    "start_time": "2022-02-12T17:01:09.832Z"
   },
   {
    "duration": 6327,
    "start_time": "2022-02-12T17:01:30.396Z"
   },
   {
    "duration": 38,
    "start_time": "2022-02-12T17:01:40.267Z"
   },
   {
    "duration": 45,
    "start_time": "2022-02-12T17:02:29.298Z"
   },
   {
    "duration": 439,
    "start_time": "2022-02-12T17:14:07.298Z"
   },
   {
    "duration": 419,
    "start_time": "2022-02-12T17:14:25.099Z"
   },
   {
    "duration": 1989,
    "start_time": "2022-02-12T17:15:16.468Z"
   },
   {
    "duration": 470,
    "start_time": "2022-02-12T17:15:31.725Z"
   },
   {
    "duration": 565,
    "start_time": "2022-02-12T17:15:46.332Z"
   },
   {
    "duration": 792,
    "start_time": "2022-02-12T17:17:01.680Z"
   },
   {
    "duration": 565,
    "start_time": "2022-02-12T17:17:05.897Z"
   },
   {
    "duration": 553,
    "start_time": "2022-02-12T17:17:11.401Z"
   },
   {
    "duration": 414,
    "start_time": "2022-02-12T17:27:03.184Z"
   },
   {
    "duration": 536,
    "start_time": "2022-02-12T17:27:12.282Z"
   },
   {
    "duration": 389,
    "start_time": "2022-02-12T17:27:18.063Z"
   },
   {
    "duration": 633,
    "start_time": "2022-02-12T17:27:24.254Z"
   },
   {
    "duration": 545,
    "start_time": "2022-02-12T17:28:29.711Z"
   },
   {
    "duration": 555,
    "start_time": "2022-02-12T17:28:59.528Z"
   },
   {
    "duration": 91,
    "start_time": "2022-02-12T17:32:56.877Z"
   },
   {
    "duration": 552,
    "start_time": "2022-02-12T17:33:13.463Z"
   },
   {
    "duration": 551,
    "start_time": "2022-02-12T17:33:27.400Z"
   },
   {
    "duration": 654,
    "start_time": "2022-02-12T17:34:10.518Z"
   },
   {
    "duration": 545,
    "start_time": "2022-02-12T17:34:15.475Z"
   },
   {
    "duration": 28,
    "start_time": "2022-02-12T17:34:44.581Z"
   },
   {
    "duration": 559,
    "start_time": "2022-02-12T17:36:51.378Z"
   },
   {
    "duration": 594,
    "start_time": "2022-02-12T17:38:34.055Z"
   },
   {
    "duration": 610,
    "start_time": "2022-02-12T17:39:04.033Z"
   },
   {
    "duration": 796,
    "start_time": "2022-02-12T17:44:49.848Z"
   },
   {
    "duration": 4,
    "start_time": "2022-02-12T17:45:08.400Z"
   },
   {
    "duration": 701,
    "start_time": "2022-02-12T17:45:14.991Z"
   },
   {
    "duration": 598,
    "start_time": "2022-02-12T17:46:08.955Z"
   },
   {
    "duration": 591,
    "start_time": "2022-02-12T17:46:24.443Z"
   },
   {
    "duration": 568,
    "start_time": "2022-02-12T17:47:21.993Z"
   },
   {
    "duration": 821,
    "start_time": "2022-02-12T17:52:06.320Z"
   },
   {
    "duration": 630,
    "start_time": "2022-02-12T17:52:21.722Z"
   },
   {
    "duration": 807,
    "start_time": "2022-02-12T17:55:13.940Z"
   },
   {
    "duration": 824,
    "start_time": "2022-02-12T17:55:24.065Z"
   },
   {
    "duration": 695,
    "start_time": "2022-02-12T17:56:09.192Z"
   },
   {
    "duration": 864,
    "start_time": "2022-02-12T17:56:29.033Z"
   },
   {
    "duration": 436,
    "start_time": "2022-02-12T17:56:50.945Z"
   },
   {
    "duration": 572,
    "start_time": "2022-02-12T17:57:00.402Z"
   },
   {
    "duration": 12,
    "start_time": "2022-02-12T18:00:21.662Z"
   },
   {
    "duration": 725,
    "start_time": "2022-02-12T18:00:22.792Z"
   },
   {
    "duration": 555,
    "start_time": "2022-02-12T18:00:47.717Z"
   },
   {
    "duration": 562,
    "start_time": "2022-02-12T18:01:01.939Z"
   },
   {
    "duration": 12,
    "start_time": "2022-02-12T18:05:10.228Z"
   },
   {
    "duration": 13,
    "start_time": "2022-02-12T18:05:53.965Z"
   },
   {
    "duration": 14,
    "start_time": "2022-02-12T18:07:18.173Z"
   },
   {
    "duration": 13,
    "start_time": "2022-02-12T18:07:34.887Z"
   },
   {
    "duration": 1036,
    "start_time": "2022-02-12T18:07:35.534Z"
   },
   {
    "duration": 13,
    "start_time": "2022-02-12T18:07:49.804Z"
   },
   {
    "duration": 13,
    "start_time": "2022-02-12T18:07:53.976Z"
   },
   {
    "duration": 1023,
    "start_time": "2022-02-12T18:07:54.484Z"
   },
   {
    "duration": 13,
    "start_time": "2022-02-12T18:08:02.649Z"
   },
   {
    "duration": 13,
    "start_time": "2022-02-12T18:08:05.689Z"
   },
   {
    "duration": 1282,
    "start_time": "2022-02-12T18:08:06.025Z"
   },
   {
    "duration": 18,
    "start_time": "2022-02-12T18:08:38.192Z"
   },
   {
    "duration": 722,
    "start_time": "2022-02-12T18:08:39.384Z"
   },
   {
    "duration": 12,
    "start_time": "2022-02-12T18:09:22.502Z"
   },
   {
    "duration": 568,
    "start_time": "2022-02-12T18:09:23.023Z"
   },
   {
    "duration": 14,
    "start_time": "2022-02-12T18:10:44.228Z"
   },
   {
    "duration": 596,
    "start_time": "2022-02-12T18:10:44.939Z"
   },
   {
    "duration": 15,
    "start_time": "2022-02-12T18:11:37.379Z"
   },
   {
    "duration": 700,
    "start_time": "2022-02-12T18:11:38.291Z"
   },
   {
    "duration": 11,
    "start_time": "2022-02-12T18:13:31.548Z"
   },
   {
    "duration": 596,
    "start_time": "2022-02-12T18:13:32.439Z"
   },
   {
    "duration": 557,
    "start_time": "2022-02-12T18:13:33.622Z"
   },
   {
    "duration": 562,
    "start_time": "2022-02-12T18:13:34.388Z"
   },
   {
    "duration": 30,
    "start_time": "2022-02-12T18:13:35.381Z"
   },
   {
    "duration": 4,
    "start_time": "2022-02-12T18:32:43.867Z"
   },
   {
    "duration": 12,
    "start_time": "2022-02-12T18:35:00.788Z"
   },
   {
    "duration": 617,
    "start_time": "2022-02-12T18:35:03.592Z"
   },
   {
    "duration": 611,
    "start_time": "2022-02-12T18:35:24.730Z"
   },
   {
    "duration": 623,
    "start_time": "2022-02-12T18:35:32.039Z"
   },
   {
    "duration": 12,
    "start_time": "2022-02-12T18:54:35.877Z"
   },
   {
    "duration": 1287,
    "start_time": "2022-02-12T18:54:39.236Z"
   },
   {
    "duration": 874,
    "start_time": "2022-02-12T18:54:45.311Z"
   },
   {
    "duration": 12,
    "start_time": "2022-02-12T19:05:32.032Z"
   },
   {
    "duration": 619,
    "start_time": "2022-02-12T19:05:32.650Z"
   },
   {
    "duration": 605,
    "start_time": "2022-02-12T19:05:33.271Z"
   },
   {
    "duration": 620,
    "start_time": "2022-02-12T19:05:34.279Z"
   },
   {
    "duration": 563,
    "start_time": "2022-02-13T12:31:39.222Z"
   },
   {
    "duration": 274,
    "start_time": "2022-02-13T12:31:39.788Z"
   },
   {
    "duration": 201,
    "start_time": "2022-02-13T12:31:40.063Z"
   },
   {
    "duration": 150,
    "start_time": "2022-02-13T12:31:40.266Z"
   },
   {
    "duration": 21,
    "start_time": "2022-02-13T12:31:40.417Z"
   },
   {
    "duration": 47,
    "start_time": "2022-02-13T12:31:40.440Z"
   },
   {
    "duration": 109,
    "start_time": "2022-02-13T12:31:40.488Z"
   },
   {
    "duration": 5,
    "start_time": "2022-02-13T12:31:40.599Z"
   },
   {
    "duration": 629,
    "start_time": "2022-02-13T12:31:40.606Z"
   },
   {
    "duration": 8,
    "start_time": "2022-02-13T12:31:41.236Z"
   },
   {
    "duration": 7,
    "start_time": "2022-02-13T12:31:41.246Z"
   },
   {
    "duration": 435,
    "start_time": "2022-02-13T12:31:41.255Z"
   },
   {
    "duration": 381,
    "start_time": "2022-02-13T12:31:41.691Z"
   },
   {
    "duration": 337,
    "start_time": "2022-02-13T12:31:42.074Z"
   },
   {
    "duration": 348,
    "start_time": "2022-02-13T12:32:28.627Z"
   },
   {
    "duration": 579,
    "start_time": "2022-02-13T12:57:58.839Z"
   },
   {
    "duration": 289,
    "start_time": "2022-02-13T12:57:59.420Z"
   },
   {
    "duration": 208,
    "start_time": "2022-02-13T12:57:59.711Z"
   },
   {
    "duration": 133,
    "start_time": "2022-02-13T12:57:59.921Z"
   },
   {
    "duration": 25,
    "start_time": "2022-02-13T12:58:00.055Z"
   },
   {
    "duration": 75,
    "start_time": "2022-02-13T12:58:00.082Z"
   },
   {
    "duration": 102,
    "start_time": "2022-02-13T12:58:00.159Z"
   },
   {
    "duration": 8,
    "start_time": "2022-02-13T12:58:00.263Z"
   },
   {
    "duration": 577,
    "start_time": "2022-02-13T12:58:00.273Z"
   },
   {
    "duration": 7,
    "start_time": "2022-02-13T12:58:00.852Z"
   },
   {
    "duration": 17,
    "start_time": "2022-02-13T12:58:00.860Z"
   },
   {
    "duration": 426,
    "start_time": "2022-02-13T12:58:00.879Z"
   },
   {
    "duration": 385,
    "start_time": "2022-02-13T12:58:01.307Z"
   },
   {
    "duration": 348,
    "start_time": "2022-02-13T12:58:01.694Z"
   },
   {
    "duration": 546,
    "start_time": "2022-02-13T12:58:02.044Z"
   },
   {
    "duration": 619,
    "start_time": "2022-02-13T13:19:46.580Z"
   },
   {
    "duration": 356,
    "start_time": "2022-02-13T13:20:06.900Z"
   },
   {
    "duration": 5,
    "start_time": "2022-02-13T13:20:12.513Z"
   },
   {
    "duration": 6,
    "start_time": "2022-02-13T13:24:24.985Z"
   },
   {
    "duration": 5,
    "start_time": "2022-02-13T13:24:34.515Z"
   },
   {
    "duration": 6,
    "start_time": "2022-02-13T13:24:39.418Z"
   },
   {
    "duration": 6,
    "start_time": "2022-02-13T13:24:43.320Z"
   },
   {
    "duration": 6,
    "start_time": "2022-02-13T13:24:48.490Z"
   },
   {
    "duration": 5,
    "start_time": "2022-02-13T13:24:55.492Z"
   },
   {
    "duration": 6,
    "start_time": "2022-02-13T13:25:11.937Z"
   },
   {
    "duration": 6,
    "start_time": "2022-02-13T13:26:10.150Z"
   },
   {
    "duration": 5,
    "start_time": "2022-02-13T13:26:17.965Z"
   },
   {
    "duration": 5,
    "start_time": "2022-02-13T13:35:09.625Z"
   },
   {
    "duration": 4,
    "start_time": "2022-02-13T13:35:16.408Z"
   },
   {
    "duration": 578,
    "start_time": "2022-02-13T13:45:21.327Z"
   },
   {
    "duration": 8,
    "start_time": "2022-02-13T13:45:38.319Z"
   },
   {
    "duration": 9681,
    "start_time": "2022-02-13T13:49:23.137Z"
   },
   {
    "duration": 341,
    "start_time": "2022-02-13T13:50:21.739Z"
   },
   {
    "duration": 8,
    "start_time": "2022-02-13T13:52:25.072Z"
   },
   {
    "duration": 160,
    "start_time": "2022-02-13T13:57:54.926Z"
   },
   {
    "duration": 8,
    "start_time": "2022-02-13T14:22:41.743Z"
   },
   {
    "duration": 10,
    "start_time": "2022-02-13T14:22:49.058Z"
   },
   {
    "duration": 533,
    "start_time": "2022-02-13T16:27:21.285Z"
   },
   {
    "duration": 317,
    "start_time": "2022-02-13T16:39:35.620Z"
   },
   {
    "duration": 8,
    "start_time": "2022-02-13T16:43:48.629Z"
   },
   {
    "duration": 336,
    "start_time": "2022-02-13T16:45:16.954Z"
   },
   {
    "duration": 6,
    "start_time": "2022-02-13T17:10:55.827Z"
   },
   {
    "duration": 6,
    "start_time": "2022-02-13T17:11:09.753Z"
   },
   {
    "duration": 7,
    "start_time": "2022-02-13T17:11:23.736Z"
   },
   {
    "duration": 6,
    "start_time": "2022-02-13T17:12:03.545Z"
   },
   {
    "duration": 5,
    "start_time": "2022-02-13T17:12:27.012Z"
   },
   {
    "duration": 9,
    "start_time": "2022-02-13T17:12:42.306Z"
   },
   {
    "duration": 138,
    "start_time": "2022-02-13T17:15:58.335Z"
   },
   {
    "duration": 7,
    "start_time": "2022-02-13T17:16:17.171Z"
   },
   {
    "duration": 7,
    "start_time": "2022-02-13T17:16:32.121Z"
   },
   {
    "duration": 8,
    "start_time": "2022-02-13T17:18:36.579Z"
   },
   {
    "duration": 8,
    "start_time": "2022-02-13T17:18:56.676Z"
   },
   {
    "duration": 15,
    "start_time": "2022-02-13T17:19:46.556Z"
   },
   {
    "duration": 10,
    "start_time": "2022-02-13T17:22:52.851Z"
   },
   {
    "duration": 10,
    "start_time": "2022-02-13T17:23:24.064Z"
   },
   {
    "duration": 10,
    "start_time": "2022-02-13T17:23:39.319Z"
   },
   {
    "duration": 8,
    "start_time": "2022-02-13T17:23:51.441Z"
   },
   {
    "duration": 7,
    "start_time": "2022-02-13T17:24:08.995Z"
   },
   {
    "duration": 91,
    "start_time": "2022-02-13T17:32:40.587Z"
   },
   {
    "duration": 6,
    "start_time": "2022-02-13T17:52:11.295Z"
   },
   {
    "duration": 873,
    "start_time": "2022-02-13T18:45:37.725Z"
   },
   {
    "duration": 286,
    "start_time": "2022-02-13T18:45:38.599Z"
   },
   {
    "duration": 202,
    "start_time": "2022-02-13T18:45:38.886Z"
   },
   {
    "duration": 135,
    "start_time": "2022-02-13T18:45:39.090Z"
   },
   {
    "duration": 22,
    "start_time": "2022-02-13T18:45:39.227Z"
   },
   {
    "duration": 69,
    "start_time": "2022-02-13T18:45:39.251Z"
   },
   {
    "duration": 107,
    "start_time": "2022-02-13T18:45:39.322Z"
   },
   {
    "duration": 4,
    "start_time": "2022-02-13T18:45:39.431Z"
   },
   {
    "duration": 615,
    "start_time": "2022-02-13T18:45:39.437Z"
   },
   {
    "duration": 7,
    "start_time": "2022-02-13T18:45:40.053Z"
   },
   {
    "duration": 15,
    "start_time": "2022-02-13T18:45:40.061Z"
   },
   {
    "duration": 441,
    "start_time": "2022-02-13T18:45:40.078Z"
   },
   {
    "duration": 324,
    "start_time": "2022-02-13T18:45:40.521Z"
   },
   {
    "duration": 348,
    "start_time": "2022-02-13T18:45:40.848Z"
   },
   {
    "duration": 5,
    "start_time": "2022-02-13T18:45:41.198Z"
   },
   {
    "duration": 338,
    "start_time": "2022-02-13T18:45:41.205Z"
   },
   {
    "duration": 8,
    "start_time": "2022-02-13T18:45:41.545Z"
   },
   {
    "duration": 405,
    "start_time": "2022-02-13T18:45:41.555Z"
   },
   {
    "duration": 1047,
    "start_time": "2022-02-13T18:52:51.746Z"
   },
   {
    "duration": 284,
    "start_time": "2022-02-13T18:52:52.795Z"
   },
   {
    "duration": 200,
    "start_time": "2022-02-13T18:52:53.081Z"
   },
   {
    "duration": 126,
    "start_time": "2022-02-13T18:52:53.283Z"
   },
   {
    "duration": 21,
    "start_time": "2022-02-13T18:52:53.410Z"
   },
   {
    "duration": 49,
    "start_time": "2022-02-13T18:52:53.432Z"
   },
   {
    "duration": 109,
    "start_time": "2022-02-13T18:52:53.482Z"
   },
   {
    "duration": 5,
    "start_time": "2022-02-13T18:52:53.593Z"
   },
   {
    "duration": 606,
    "start_time": "2022-02-13T18:52:53.599Z"
   },
   {
    "duration": 6,
    "start_time": "2022-02-13T18:52:54.206Z"
   },
   {
    "duration": 7,
    "start_time": "2022-02-13T18:52:54.214Z"
   },
   {
    "duration": 445,
    "start_time": "2022-02-13T18:52:54.222Z"
   },
   {
    "duration": 336,
    "start_time": "2022-02-13T18:52:54.668Z"
   },
   {
    "duration": 339,
    "start_time": "2022-02-13T18:52:55.005Z"
   },
   {
    "duration": 4,
    "start_time": "2022-02-13T18:52:55.346Z"
   },
   {
    "duration": 335,
    "start_time": "2022-02-13T18:52:55.352Z"
   },
   {
    "duration": 9,
    "start_time": "2022-02-13T18:52:55.689Z"
   },
   {
    "duration": 421,
    "start_time": "2022-02-13T18:52:55.699Z"
   },
   {
    "duration": 1258,
    "start_time": "2022-02-14T09:18:51.320Z"
   },
   {
    "duration": 411,
    "start_time": "2022-02-14T09:18:52.581Z"
   },
   {
    "duration": 411,
    "start_time": "2022-02-14T09:18:52.996Z"
   },
   {
    "duration": 199,
    "start_time": "2022-02-14T09:18:53.411Z"
   },
   {
    "duration": 25,
    "start_time": "2022-02-14T09:18:53.613Z"
   },
   {
    "duration": 53,
    "start_time": "2022-02-14T09:18:53.648Z"
   },
   {
    "duration": 264,
    "start_time": "2022-02-14T09:18:53.704Z"
   },
   {
    "duration": 9,
    "start_time": "2022-02-14T09:18:53.972Z"
   },
   {
    "duration": 1765,
    "start_time": "2022-02-14T09:18:53.985Z"
   },
   {
    "duration": 14,
    "start_time": "2022-02-14T09:18:55.753Z"
   },
   {
    "duration": 14,
    "start_time": "2022-02-14T09:18:55.770Z"
   },
   {
    "duration": 910,
    "start_time": "2022-02-14T09:18:55.787Z"
   },
   {
    "duration": 626,
    "start_time": "2022-02-14T09:18:56.700Z"
   },
   {
    "duration": 631,
    "start_time": "2022-02-14T09:18:57.328Z"
   },
   {
    "duration": 560,
    "start_time": "2022-02-14T09:20:48.869Z"
   },
   {
    "duration": 19,
    "start_time": "2022-02-14T09:21:08.558Z"
   },
   {
    "duration": 20,
    "start_time": "2022-02-14T09:21:58.448Z"
   },
   {
    "duration": 29,
    "start_time": "2022-02-14T09:23:23.952Z"
   },
   {
    "duration": 117,
    "start_time": "2022-02-14T09:24:52.849Z"
   },
   {
    "duration": 11,
    "start_time": "2022-02-14T09:25:03.532Z"
   },
   {
    "duration": 11,
    "start_time": "2022-02-14T09:25:46.596Z"
   },
   {
    "duration": 14,
    "start_time": "2022-02-14T09:26:24.540Z"
   },
   {
    "duration": 1177,
    "start_time": "2022-02-14T09:28:34.300Z"
   },
   {
    "duration": 420,
    "start_time": "2022-02-14T09:28:35.479Z"
   },
   {
    "duration": 315,
    "start_time": "2022-02-14T09:28:35.903Z"
   },
   {
    "duration": 199,
    "start_time": "2022-02-14T09:28:36.221Z"
   },
   {
    "duration": 33,
    "start_time": "2022-02-14T09:28:36.422Z"
   },
   {
    "duration": 51,
    "start_time": "2022-02-14T09:28:36.458Z"
   },
   {
    "duration": 173,
    "start_time": "2022-02-14T09:28:36.512Z"
   },
   {
    "duration": 7,
    "start_time": "2022-02-14T09:28:36.689Z"
   },
   {
    "duration": 1169,
    "start_time": "2022-02-14T09:28:36.699Z"
   },
   {
    "duration": 10,
    "start_time": "2022-02-14T09:28:37.871Z"
   },
   {
    "duration": 11,
    "start_time": "2022-02-14T09:28:37.884Z"
   },
   {
    "duration": 765,
    "start_time": "2022-02-14T09:28:37.897Z"
   },
   {
    "duration": 619,
    "start_time": "2022-02-14T09:28:38.665Z"
   },
   {
    "duration": 632,
    "start_time": "2022-02-14T09:28:39.286Z"
   },
   {
    "duration": 40,
    "start_time": "2022-02-14T09:28:39.921Z"
   },
   {
    "duration": 10,
    "start_time": "2022-02-14T09:28:39.963Z"
   },
   {
    "duration": 17,
    "start_time": "2022-02-14T09:28:39.977Z"
   },
   {
    "duration": 1249,
    "start_time": "2022-02-20T10:52:33.973Z"
   },
   {
    "duration": 427,
    "start_time": "2022-02-20T10:52:36.194Z"
   },
   {
    "duration": 88,
    "start_time": "2022-02-20T10:54:00.542Z"
   },
   {
    "duration": 303,
    "start_time": "2022-02-20T10:55:38.077Z"
   },
   {
    "duration": 206,
    "start_time": "2022-02-20T10:55:40.729Z"
   },
   {
    "duration": 26,
    "start_time": "2022-02-20T10:55:43.487Z"
   },
   {
    "duration": 44,
    "start_time": "2022-02-20T10:55:46.105Z"
   },
   {
    "duration": 161,
    "start_time": "2022-02-20T10:56:07.695Z"
   },
   {
    "duration": 7,
    "start_time": "2022-02-20T10:56:42.788Z"
   },
   {
    "duration": 1543,
    "start_time": "2022-02-20T10:56:47.884Z"
   },
   {
    "duration": 16,
    "start_time": "2022-02-20T10:57:00.008Z"
   },
   {
    "duration": 11,
    "start_time": "2022-02-20T10:57:04.969Z"
   },
   {
    "duration": 12,
    "start_time": "2022-02-20T10:58:26.735Z"
   },
   {
    "duration": 758,
    "start_time": "2022-02-20T10:58:28.127Z"
   },
   {
    "duration": 13,
    "start_time": "2022-02-20T10:59:53.658Z"
   },
   {
    "duration": 1051,
    "start_time": "2022-02-20T10:59:55.684Z"
   },
   {
    "duration": 5,
    "start_time": "2022-02-20T11:01:15.615Z"
   },
   {
    "duration": 13,
    "start_time": "2022-02-20T11:01:22.298Z"
   },
   {
    "duration": 948,
    "start_time": "2022-02-20T11:01:23.547Z"
   },
   {
    "duration": 11,
    "start_time": "2022-02-20T11:03:25.179Z"
   },
   {
    "duration": 937,
    "start_time": "2022-02-20T11:03:26.438Z"
   },
   {
    "duration": 14,
    "start_time": "2022-02-20T11:07:25.659Z"
   },
   {
    "duration": 943,
    "start_time": "2022-02-20T11:07:27.169Z"
   },
   {
    "duration": 148,
    "start_time": "2022-02-20T11:12:07.734Z"
   },
   {
    "duration": 19,
    "start_time": "2022-02-20T11:12:26.702Z"
   },
   {
    "duration": 848,
    "start_time": "2022-02-20T11:12:49.147Z"
   },
   {
    "duration": 14,
    "start_time": "2022-02-20T11:13:25.295Z"
   },
   {
    "duration": 877,
    "start_time": "2022-02-20T11:13:26.460Z"
   },
   {
    "duration": 14,
    "start_time": "2022-02-20T11:14:32.048Z"
   },
   {
    "duration": 525,
    "start_time": "2022-02-20T11:14:33.403Z"
   },
   {
    "duration": 17,
    "start_time": "2022-02-20T11:15:28.065Z"
   },
   {
    "duration": 815,
    "start_time": "2022-02-20T11:15:29.028Z"
   },
   {
    "duration": 1196,
    "start_time": "2022-02-20T11:16:02.834Z"
   },
   {
    "duration": 811,
    "start_time": "2022-02-20T11:20:10.034Z"
   },
   {
    "duration": 883,
    "start_time": "2022-02-20T11:20:33.082Z"
   },
   {
    "duration": 20,
    "start_time": "2022-02-20T11:20:55.348Z"
   },
   {
    "duration": 1289,
    "start_time": "2022-02-20T11:20:56.293Z"
   },
   {
    "duration": 96,
    "start_time": "2022-02-20T11:23:55.176Z"
   },
   {
    "duration": 813,
    "start_time": "2022-02-20T11:23:57.798Z"
   },
   {
    "duration": 13,
    "start_time": "2022-02-20T11:24:12.401Z"
   },
   {
    "duration": 1379,
    "start_time": "2022-02-20T11:24:13.427Z"
   },
   {
    "duration": 15,
    "start_time": "2022-02-20T11:25:32.816Z"
   },
   {
    "duration": 1354,
    "start_time": "2022-02-20T11:25:33.777Z"
   },
   {
    "duration": 15,
    "start_time": "2022-02-20T11:25:43.334Z"
   },
   {
    "duration": 941,
    "start_time": "2022-02-20T11:25:44.605Z"
   },
   {
    "duration": 14,
    "start_time": "2022-02-20T11:26:41.353Z"
   },
   {
    "duration": 901,
    "start_time": "2022-02-20T11:27:14.100Z"
   },
   {
    "duration": 798,
    "start_time": "2022-02-20T11:27:46.247Z"
   },
   {
    "duration": 784,
    "start_time": "2022-02-20T11:28:31.626Z"
   },
   {
    "duration": 14,
    "start_time": "2022-02-20T11:29:23.071Z"
   },
   {
    "duration": 831,
    "start_time": "2022-02-20T11:29:24.039Z"
   },
   {
    "duration": 16,
    "start_time": "2022-02-20T11:29:57.368Z"
   },
   {
    "duration": 806,
    "start_time": "2022-02-20T11:29:59.651Z"
   },
   {
    "duration": 118,
    "start_time": "2022-02-20T11:30:41.102Z"
   },
   {
    "duration": 835,
    "start_time": "2022-02-20T11:30:42.150Z"
   },
   {
    "duration": 13,
    "start_time": "2022-02-20T11:34:05.004Z"
   },
   {
    "duration": 1118,
    "start_time": "2022-02-20T11:34:05.902Z"
   },
   {
    "duration": 14,
    "start_time": "2022-02-20T11:42:21.095Z"
   },
   {
    "duration": 808,
    "start_time": "2022-02-20T11:42:22.561Z"
   },
   {
    "duration": 14,
    "start_time": "2022-02-20T11:42:45.067Z"
   },
   {
    "duration": 870,
    "start_time": "2022-02-20T11:42:46.132Z"
   },
   {
    "duration": 15,
    "start_time": "2022-02-20T11:43:21.911Z"
   },
   {
    "duration": 866,
    "start_time": "2022-02-20T11:43:22.737Z"
   },
   {
    "duration": 15,
    "start_time": "2022-02-20T11:43:51.435Z"
   },
   {
    "duration": 868,
    "start_time": "2022-02-20T11:43:52.708Z"
   },
   {
    "duration": 15,
    "start_time": "2022-02-20T11:47:07.110Z"
   },
   {
    "duration": 835,
    "start_time": "2022-02-20T11:47:09.488Z"
   },
   {
    "duration": 92,
    "start_time": "2022-02-20T11:47:24.165Z"
   },
   {
    "duration": 16,
    "start_time": "2022-02-20T11:47:30.611Z"
   },
   {
    "duration": 914,
    "start_time": "2022-02-20T11:47:31.666Z"
   },
   {
    "duration": 16,
    "start_time": "2022-02-20T11:48:28.760Z"
   },
   {
    "duration": 811,
    "start_time": "2022-02-20T11:48:29.505Z"
   },
   {
    "duration": 17,
    "start_time": "2022-02-20T11:49:06.577Z"
   },
   {
    "duration": 824,
    "start_time": "2022-02-20T11:49:07.519Z"
   },
   {
    "duration": 16,
    "start_time": "2022-02-20T11:49:47.238Z"
   },
   {
    "duration": 892,
    "start_time": "2022-02-20T11:49:49.401Z"
   },
   {
    "duration": 17,
    "start_time": "2022-02-20T11:51:23.476Z"
   },
   {
    "duration": 1154,
    "start_time": "2022-02-20T11:51:24.847Z"
   },
   {
    "duration": 15,
    "start_time": "2022-02-20T11:51:53.303Z"
   },
   {
    "duration": 859,
    "start_time": "2022-02-20T11:51:54.353Z"
   },
   {
    "duration": 15,
    "start_time": "2022-02-20T11:52:36.424Z"
   },
   {
    "duration": 873,
    "start_time": "2022-02-20T11:52:36.998Z"
   },
   {
    "duration": 16,
    "start_time": "2022-02-20T11:53:10.579Z"
   },
   {
    "duration": 849,
    "start_time": "2022-02-20T11:53:11.529Z"
   },
   {
    "duration": 1150,
    "start_time": "2022-02-20T11:54:00.349Z"
   },
   {
    "duration": -6330,
    "start_time": "2022-02-20T11:54:07.832Z"
   },
   {
    "duration": 15,
    "start_time": "2022-02-20T11:54:10.789Z"
   },
   {
    "duration": 839,
    "start_time": "2022-02-20T11:54:12.128Z"
   },
   {
    "duration": 16,
    "start_time": "2022-02-20T11:55:30.810Z"
   },
   {
    "duration": 868,
    "start_time": "2022-02-20T11:55:32.394Z"
   },
   {
    "duration": 850,
    "start_time": "2022-02-20T11:55:36.120Z"
   },
   {
    "duration": 850,
    "start_time": "2022-02-20T11:55:46.056Z"
   },
   {
    "duration": 15,
    "start_time": "2022-02-20T11:57:08.510Z"
   },
   {
    "duration": 843,
    "start_time": "2022-02-20T11:57:09.718Z"
   },
   {
    "duration": 796,
    "start_time": "2022-02-20T11:58:15.526Z"
   },
   {
    "duration": 1113,
    "start_time": "2022-02-20T11:58:24.380Z"
   },
   {
    "duration": 865,
    "start_time": "2022-02-20T12:01:25.368Z"
   },
   {
    "duration": 799,
    "start_time": "2022-02-20T12:02:08.165Z"
   },
   {
    "duration": 1336,
    "start_time": "2022-02-20T12:03:00.331Z"
   },
   {
    "duration": 408,
    "start_time": "2022-02-20T12:03:01.670Z"
   },
   {
    "duration": 312,
    "start_time": "2022-02-20T12:03:02.081Z"
   },
   {
    "duration": 196,
    "start_time": "2022-02-20T12:03:02.397Z"
   },
   {
    "duration": 24,
    "start_time": "2022-02-20T12:03:02.596Z"
   },
   {
    "duration": 47,
    "start_time": "2022-02-20T12:03:02.622Z"
   },
   {
    "duration": 175,
    "start_time": "2022-02-20T12:03:02.671Z"
   },
   {
    "duration": 7,
    "start_time": "2022-02-20T12:03:02.850Z"
   },
   {
    "duration": 1189,
    "start_time": "2022-02-20T12:03:02.860Z"
   },
   {
    "duration": 10,
    "start_time": "2022-02-20T12:03:04.052Z"
   },
   {
    "duration": 34,
    "start_time": "2022-02-20T12:03:04.065Z"
   },
   {
    "duration": 860,
    "start_time": "2022-02-20T12:03:04.101Z"
   },
   {
    "duration": 833,
    "start_time": "2022-02-20T12:03:04.963Z"
   },
   {
    "duration": 828,
    "start_time": "2022-02-20T12:03:05.799Z"
   },
   {
    "duration": 26,
    "start_time": "2022-02-20T12:03:06.629Z"
   },
   {
    "duration": 36,
    "start_time": "2022-02-20T12:03:06.658Z"
   },
   {
    "duration": 10,
    "start_time": "2022-02-20T12:03:06.697Z"
   }
  ],
  "kernelspec": {
   "display_name": "Python 3 (ipykernel)",
   "language": "python",
   "name": "python3"
  },
  "language_info": {
   "codemirror_mode": {
    "name": "ipython",
    "version": 3
   },
   "file_extension": ".py",
   "mimetype": "text/x-python",
   "name": "python",
   "nbconvert_exporter": "python",
   "pygments_lexer": "ipython3",
   "version": "3.9.5"
  },
  "toc": {
   "base_numbering": 1,
   "nav_menu": {},
   "number_sections": true,
   "sideBar": true,
   "skip_h1_title": true,
   "title_cell": "Table of Contents",
   "title_sidebar": "Contents",
   "toc_cell": false,
   "toc_position": {
    "height": "calc(100% - 180px)",
    "left": "10px",
    "top": "150px",
    "width": "255.594px"
   },
   "toc_section_display": true,
   "toc_window_display": true
  }
 },
 "nbformat": 4,
 "nbformat_minor": 2
}
