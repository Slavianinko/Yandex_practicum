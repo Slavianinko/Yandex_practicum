{
 "cells": [
  {
   "cell_type": "markdown",
   "metadata": {
    "toc": true
   },
   "source": [
    "<h1>Содержание<span class=\"tocSkip\"></span></h1>\n",
    "<div class=\"toc\"><ul class=\"toc-item\"><li><span><a href=\"#Загрузка-данных\" data-toc-modified-id=\"Загрузка-данных-1\"><span class=\"toc-item-num\">1&nbsp;&nbsp;</span>Загрузка данных</a></span></li><li><span><a href=\"#Умножение-матриц\" data-toc-modified-id=\"Умножение-матриц-2\"><span class=\"toc-item-num\">2&nbsp;&nbsp;</span>Умножение матриц</a></span></li><li><span><a href=\"#Алгоритм-преобразования\" data-toc-modified-id=\"Алгоритм-преобразования-3\"><span class=\"toc-item-num\">3&nbsp;&nbsp;</span>Алгоритм преобразования</a></span></li><li><span><a href=\"#Проверка-алгоритма\" data-toc-modified-id=\"Проверка-алгоритма-4\"><span class=\"toc-item-num\">4&nbsp;&nbsp;</span>Проверка алгоритма</a></span></li><li><span><a href=\"#Чек-лист-проверки\" data-toc-modified-id=\"Чек-лист-проверки-5\"><span class=\"toc-item-num\">5&nbsp;&nbsp;</span>Чек-лист проверки</a></span></li></ul></div>"
   ]
  },
  {
   "cell_type": "markdown",
   "metadata": {},
   "source": [
    "# Защита персональных данных клиентов"
   ]
  },
  {
   "cell_type": "markdown",
   "metadata": {},
   "source": [
    "Поставлена задача защитить данные клиентов страховой компании «Хоть потоп». Необходимо разработать такой метод преобразования данных, чтобы по ним было сложно восстановить персональную информацию.\n",
    "\n",
    "Нужно защитить данные, чтобы при преобразовании качество моделей машинного обучения не ухудшилось."
   ]
  },
  {
   "cell_type": "code",
   "execution_count": 1,
   "metadata": {},
   "outputs": [],
   "source": [
    "# Имрорт библиотек\n",
    "import pandas as pd\n",
    "import numpy as np\n",
    "from sklearn.linear_model import LinearRegression\n",
    "from sklearn.model_selection import train_test_split\n",
    "from sklearn.metrics import r2_score\n",
    "import seaborn as sns\n",
    "import matplotlib.pyplot as plt"
   ]
  },
  {
   "cell_type": "markdown",
   "metadata": {},
   "source": [
    "## Загрузка данных"
   ]
  },
  {
   "cell_type": "code",
   "execution_count": 2,
   "metadata": {},
   "outputs": [],
   "source": [
    "df = pd.read_csv('/datasets/insurance.csv')"
   ]
  },
  {
   "cell_type": "code",
   "execution_count": 3,
   "metadata": {},
   "outputs": [],
   "source": [
    "def data_info(df):\n",
    "    \"\"\"Изучение датасета\"\"\"\n",
    "    display(df.head())\n",
    "    display(df.info())\n",
    "    display(df.describe())\n",
    "    print('Количество дубликатов =', df.duplicated().sum())\n",
    "    # Построение корреляционной матрицы\n",
    "    plt.figure(figsize=(10,10))\n",
    "    corr_matrix = sns.heatmap(df.corr(),annot=True)\n",
    "    corr_matrix.axes.set_title(\"Корреляционная матрица\", fontsize=16)\n",
    "    plt.show()"
   ]
  },
  {
   "cell_type": "code",
   "execution_count": 4,
   "metadata": {},
   "outputs": [
    {
     "data": {
      "text/html": [
       "<div>\n",
       "<style scoped>\n",
       "    .dataframe tbody tr th:only-of-type {\n",
       "        vertical-align: middle;\n",
       "    }\n",
       "\n",
       "    .dataframe tbody tr th {\n",
       "        vertical-align: top;\n",
       "    }\n",
       "\n",
       "    .dataframe thead th {\n",
       "        text-align: right;\n",
       "    }\n",
       "</style>\n",
       "<table border=\"1\" class=\"dataframe\">\n",
       "  <thead>\n",
       "    <tr style=\"text-align: right;\">\n",
       "      <th></th>\n",
       "      <th>Пол</th>\n",
       "      <th>Возраст</th>\n",
       "      <th>Зарплата</th>\n",
       "      <th>Члены семьи</th>\n",
       "      <th>Страховые выплаты</th>\n",
       "    </tr>\n",
       "  </thead>\n",
       "  <tbody>\n",
       "    <tr>\n",
       "      <th>0</th>\n",
       "      <td>1</td>\n",
       "      <td>41.0</td>\n",
       "      <td>49600.0</td>\n",
       "      <td>1</td>\n",
       "      <td>0</td>\n",
       "    </tr>\n",
       "    <tr>\n",
       "      <th>1</th>\n",
       "      <td>0</td>\n",
       "      <td>46.0</td>\n",
       "      <td>38000.0</td>\n",
       "      <td>1</td>\n",
       "      <td>1</td>\n",
       "    </tr>\n",
       "    <tr>\n",
       "      <th>2</th>\n",
       "      <td>0</td>\n",
       "      <td>29.0</td>\n",
       "      <td>21000.0</td>\n",
       "      <td>0</td>\n",
       "      <td>0</td>\n",
       "    </tr>\n",
       "    <tr>\n",
       "      <th>3</th>\n",
       "      <td>0</td>\n",
       "      <td>21.0</td>\n",
       "      <td>41700.0</td>\n",
       "      <td>2</td>\n",
       "      <td>0</td>\n",
       "    </tr>\n",
       "    <tr>\n",
       "      <th>4</th>\n",
       "      <td>1</td>\n",
       "      <td>28.0</td>\n",
       "      <td>26100.0</td>\n",
       "      <td>0</td>\n",
       "      <td>0</td>\n",
       "    </tr>\n",
       "  </tbody>\n",
       "</table>\n",
       "</div>"
      ],
      "text/plain": [
       "   Пол  Возраст  Зарплата  Члены семьи  Страховые выплаты\n",
       "0    1     41.0   49600.0            1                  0\n",
       "1    0     46.0   38000.0            1                  1\n",
       "2    0     29.0   21000.0            0                  0\n",
       "3    0     21.0   41700.0            2                  0\n",
       "4    1     28.0   26100.0            0                  0"
      ]
     },
     "metadata": {},
     "output_type": "display_data"
    },
    {
     "name": "stdout",
     "output_type": "stream",
     "text": [
      "<class 'pandas.core.frame.DataFrame'>\n",
      "RangeIndex: 5000 entries, 0 to 4999\n",
      "Data columns (total 5 columns):\n",
      " #   Column             Non-Null Count  Dtype  \n",
      "---  ------             --------------  -----  \n",
      " 0   Пол                5000 non-null   int64  \n",
      " 1   Возраст            5000 non-null   float64\n",
      " 2   Зарплата           5000 non-null   float64\n",
      " 3   Члены семьи        5000 non-null   int64  \n",
      " 4   Страховые выплаты  5000 non-null   int64  \n",
      "dtypes: float64(2), int64(3)\n",
      "memory usage: 195.4 KB\n"
     ]
    },
    {
     "data": {
      "text/plain": [
       "None"
      ]
     },
     "metadata": {},
     "output_type": "display_data"
    },
    {
     "data": {
      "text/html": [
       "<div>\n",
       "<style scoped>\n",
       "    .dataframe tbody tr th:only-of-type {\n",
       "        vertical-align: middle;\n",
       "    }\n",
       "\n",
       "    .dataframe tbody tr th {\n",
       "        vertical-align: top;\n",
       "    }\n",
       "\n",
       "    .dataframe thead th {\n",
       "        text-align: right;\n",
       "    }\n",
       "</style>\n",
       "<table border=\"1\" class=\"dataframe\">\n",
       "  <thead>\n",
       "    <tr style=\"text-align: right;\">\n",
       "      <th></th>\n",
       "      <th>Пол</th>\n",
       "      <th>Возраст</th>\n",
       "      <th>Зарплата</th>\n",
       "      <th>Члены семьи</th>\n",
       "      <th>Страховые выплаты</th>\n",
       "    </tr>\n",
       "  </thead>\n",
       "  <tbody>\n",
       "    <tr>\n",
       "      <th>count</th>\n",
       "      <td>5000.000000</td>\n",
       "      <td>5000.000000</td>\n",
       "      <td>5000.000000</td>\n",
       "      <td>5000.000000</td>\n",
       "      <td>5000.000000</td>\n",
       "    </tr>\n",
       "    <tr>\n",
       "      <th>mean</th>\n",
       "      <td>0.499000</td>\n",
       "      <td>30.952800</td>\n",
       "      <td>39916.360000</td>\n",
       "      <td>1.194200</td>\n",
       "      <td>0.148000</td>\n",
       "    </tr>\n",
       "    <tr>\n",
       "      <th>std</th>\n",
       "      <td>0.500049</td>\n",
       "      <td>8.440807</td>\n",
       "      <td>9900.083569</td>\n",
       "      <td>1.091387</td>\n",
       "      <td>0.463183</td>\n",
       "    </tr>\n",
       "    <tr>\n",
       "      <th>min</th>\n",
       "      <td>0.000000</td>\n",
       "      <td>18.000000</td>\n",
       "      <td>5300.000000</td>\n",
       "      <td>0.000000</td>\n",
       "      <td>0.000000</td>\n",
       "    </tr>\n",
       "    <tr>\n",
       "      <th>25%</th>\n",
       "      <td>0.000000</td>\n",
       "      <td>24.000000</td>\n",
       "      <td>33300.000000</td>\n",
       "      <td>0.000000</td>\n",
       "      <td>0.000000</td>\n",
       "    </tr>\n",
       "    <tr>\n",
       "      <th>50%</th>\n",
       "      <td>0.000000</td>\n",
       "      <td>30.000000</td>\n",
       "      <td>40200.000000</td>\n",
       "      <td>1.000000</td>\n",
       "      <td>0.000000</td>\n",
       "    </tr>\n",
       "    <tr>\n",
       "      <th>75%</th>\n",
       "      <td>1.000000</td>\n",
       "      <td>37.000000</td>\n",
       "      <td>46600.000000</td>\n",
       "      <td>2.000000</td>\n",
       "      <td>0.000000</td>\n",
       "    </tr>\n",
       "    <tr>\n",
       "      <th>max</th>\n",
       "      <td>1.000000</td>\n",
       "      <td>65.000000</td>\n",
       "      <td>79000.000000</td>\n",
       "      <td>6.000000</td>\n",
       "      <td>5.000000</td>\n",
       "    </tr>\n",
       "  </tbody>\n",
       "</table>\n",
       "</div>"
      ],
      "text/plain": [
       "               Пол      Возраст      Зарплата  Члены семьи  Страховые выплаты\n",
       "count  5000.000000  5000.000000   5000.000000  5000.000000        5000.000000\n",
       "mean      0.499000    30.952800  39916.360000     1.194200           0.148000\n",
       "std       0.500049     8.440807   9900.083569     1.091387           0.463183\n",
       "min       0.000000    18.000000   5300.000000     0.000000           0.000000\n",
       "25%       0.000000    24.000000  33300.000000     0.000000           0.000000\n",
       "50%       0.000000    30.000000  40200.000000     1.000000           0.000000\n",
       "75%       1.000000    37.000000  46600.000000     2.000000           0.000000\n",
       "max       1.000000    65.000000  79000.000000     6.000000           5.000000"
      ]
     },
     "metadata": {},
     "output_type": "display_data"
    },
    {
     "name": "stdout",
     "output_type": "stream",
     "text": [
      "Количество дубликатов = 153\n"
     ]
    },
    {
     "data": {
      "image/png": "[encoded data removed]",
      "text/plain": [
       "<Figure size 720x720 with 2 Axes>"
      ]
     },
     "metadata": {
      "needs_background": "light"
     },
     "output_type": "display_data"
    }
   ],
   "source": [
    "data_info(df)"
   ]
  },
  {
   "cell_type": "markdown",
   "metadata": {},
   "source": [
    "**Вывод**\n",
    "\n",
    "Данные загружены и изучены. \n",
    "\n",
    "В таблице данных компании соблюден почти идеальный баланс между мужчинами и женщинами. Средний возраст застрахованного составляет около 31 года. Границы возраста застрахованных приводят к выводу, что компания не занимается страхованием лиц, чей возраст составляет менее 18 и старше 65 лет. Также интересно взглянуть на уровень заработной платы застрахованных - медиана составляет чуть более 40 000 рублей. В целом, в компании скорее представлен средний экономический класс, чем слишком бедные или слишком богатые граждане. \n",
    "    \n",
    "Возраст и количество страховых выплат клиенту за последние 5 лет имеют корреляцию 0.65. Вероятно, для компании есть взаимосвязь: чем старше застрахованное лицо, тем более вероятно он потребует страховку чаще, следовательно, несёт в себе больше рисков для предприятия.\n",
    "\n",
    "Пропусков нет, но есть есть дубликаты. Это могут быть реально совпадающие данные разных клиентов, либо ошибки. Обрабатывать дубликаты необходимости нет, так как на результат данного исследования они повлиять не могут."
   ]
  },
  {
   "cell_type": "markdown",
   "metadata": {},
   "source": [
    "## Умножение матриц"
   ]
  },
  {
   "cell_type": "markdown",
   "metadata": {},
   "source": [
    "**Вопрос:** Изменится ли качество линейной регрессии, если умножить признаки на обратимую матрицу? \n",
    "\n",
    "**Ответ:** Не изменится."
   ]
  },
  {
   "cell_type": "markdown",
   "metadata": {},
   "source": [
    "**Обоснование:** Для обоснования ответа, рассмотрим как связаны параметры линейной регрессии в исходной задаче и в преобразованной.\n",
    "\n",
    "Обозначения:\n",
    "\n",
    "- $X$ — матрица признаков (нулевой столбец состоит из единиц)\n",
    "- $y$ — вектор целевого признака\n",
    "- $P$ — матрица, на которую умножаются признаки\n",
    "- $w$ — вектор весов линейной регрессии (нулевой элемент равен сдвигу)\n",
    "- $M$ — матрица закодированных признаков\n",
    "- $E$ — единичная матрица"
   ]
  },
  {
   "cell_type": "markdown",
   "metadata": {},
   "source": [
    "Предсказания:\n",
    "\n",
    "$$\n",
    "a = Xw\n",
    "$$\n",
    "\n",
    "Задача обучения:\n",
    "\n",
    "$$\n",
    "w = \\arg\\min_w MSE(Xw, y)\n",
    "$$\n",
    "\n",
    "Формула обучения:\n",
    "\n",
    "$$\n",
    "w = (X^T X)^{-1} X^T y\n",
    "$$"
   ]
  },
  {
   "cell_type": "markdown",
   "metadata": {},
   "source": [
    "**1.** Подставим в формулу $a = Xw $ значения  $w$ из формулы выше:\n",
    "\n",
    "\n",
    "\n",
    "$$\n",
    "a = X (X^T X)^{-1} X^T y  \n",
    "$$\n",
    "\n",
    "Так вычисляются предсказания для не преобразованных признаков."
   ]
  },
  {
   "cell_type": "markdown",
   "metadata": {},
   "source": [
    "**2.** Преобразованные признаки $M$ - это матрица признаков $X$ умноженная на обратимую матрицу $P$: $M = XP$\n",
    "       \n",
    "   Для преобразованных признаков формула предсказаний примет вид:\n",
    "   \n",
    "$$\n",
    "a_m = M (M^T M)^{-1} M^T y = XP ((XP)^T (XP))^{-1} (XP)^T y\n",
    "$$"
   ]
  },
  {
   "cell_type": "markdown",
   "metadata": {},
   "source": [
    "Для дальнейшего преобразования:\n",
    "\n",
    "**3.** воспользуемся свойствами матриц: $(AB)^T = A^TB^T$:\n",
    "\n",
    "$$\n",
    "a_m = XP (X^TP^TXP)^{-1} X^TP^T y\n",
    "$$\n",
    "\n",
    "**4.** воспльзуемся свойствами обратных матриц: $(AB)^{-1} = A^{-1}B^{-1}$:\n",
    "\n",
    "$$\n",
    "a_m = XP (X^TX)^{-1} (P^T)^{-1}P^{-1} X^TP^T y\n",
    "$$\n",
    "\n",
    "- $E$ - единичная матрица\n",
    "\n",
    "**5.** Так как $PP^{-1} = E$, а умножение любой матрица на единичную матрицу даёт ту же матрицу $AE=A$:\n",
    "\n",
    "$$\n",
    "a_m = XE(X^TX)^{-1} E X^T y = X(X^T X)^{-1} X^T y \n",
    "$$"
   ]
  },
  {
   "cell_type": "markdown",
   "metadata": {},
   "source": [
    "**Вывод**\n",
    "\n",
    "Таким образом уравнение для предсказаний по преобразованным признакам приобрело вид уравнения предсказаний по не преобразованным признакам."
   ]
  },
  {
   "cell_type": "markdown",
   "metadata": {},
   "source": [
    "\n",
    "\n",
    "## Алгоритм преобразования"
   ]
  },
  {
   "cell_type": "markdown",
   "metadata": {},
   "source": [
    "**Алгоритм**\n",
    "\n",
    "Исходя из того, что умножение признаков на обратимую матрицу не влияет на результат работы линейной регрессии, алгоритм защиты данных пользователей будет следующий:\n",
    "1. Преобразуем признаки, содержащие персональные данные клиентов в матрицу;\n",
    "2. Создадим обратимую матрицу, состоящую из случайных чисел, размер которой по вертикали и горизонтали будет равен количеству признаков. Назовём данную матрицу кодирующей матрицей.\n",
    "3. Произведём умножение матрицы признаков на кодирующую матрицу.\n",
    "\n",
    "Таким образом персональные данные клиентов будут закодированны, но на результаты работы линейной регрессии это никак не скажется."
   ]
  },
  {
   "cell_type": "markdown",
   "metadata": {},
   "source": [
    "**Обоснование**\n",
    "\n",
    "Проверим наш алгоритм на простом наборе данных. Пусть матрица признаков $X$ будет размера $2Х4$:"
   ]
  },
  {
   "cell_type": "code",
   "execution_count": 5,
   "metadata": {},
   "outputs": [
    {
     "data": {
      "text/plain": [
       "array([[1, 2],\n",
       "       [2, 3],\n",
       "       [3, 4],\n",
       "       [4, 5]])"
      ]
     },
     "execution_count": 5,
     "metadata": {},
     "output_type": "execute_result"
    }
   ],
   "source": [
    "X= np.array([[1, 2],\n",
    "             [2, 3],\n",
    "             [3, 4],\n",
    "             [4, 5]\n",
    "            ])\n",
    "X"
   ]
  },
  {
   "cell_type": "markdown",
   "metadata": {},
   "source": [
    "Целевой признак зададим вектором $y$:"
   ]
  },
  {
   "cell_type": "code",
   "execution_count": 6,
   "metadata": {},
   "outputs": [
    {
     "data": {
      "text/plain": [
       "array([1, 2, 3, 4])"
      ]
     },
     "execution_count": 6,
     "metadata": {},
     "output_type": "execute_result"
    }
   ],
   "source": [
    "y = np.array([1,2,3,4])\n",
    "y"
   ]
  },
  {
   "cell_type": "markdown",
   "metadata": {},
   "source": [
    "Создадим обратимую(кодирующую) матрицу $P$ размером $2Х2$: "
   ]
  },
  {
   "cell_type": "code",
   "execution_count": 7,
   "metadata": {},
   "outputs": [
    {
     "data": {
      "text/plain": [
       "array([[6, 1],\n",
       "       [3, 4]])"
      ]
     },
     "execution_count": 7,
     "metadata": {},
     "output_type": "execute_result"
    }
   ],
   "source": [
    "P = np.random.randint(1,10,(2,2))\n",
    "P"
   ]
  },
  {
   "cell_type": "markdown",
   "metadata": {},
   "source": [
    "Умножив матрицу признаков на кодирующую матрицу получим закодированную матрицу $M=XP$"
   ]
  },
  {
   "cell_type": "code",
   "execution_count": 8,
   "metadata": {},
   "outputs": [
    {
     "data": {
      "text/plain": [
       "array([[12,  9],\n",
       "       [21, 14],\n",
       "       [30, 19],\n",
       "       [39, 24]])"
      ]
     },
     "execution_count": 8,
     "metadata": {},
     "output_type": "execute_result"
    }
   ],
   "source": [
    "M = X @ P\n",
    "M"
   ]
  },
  {
   "cell_type": "markdown",
   "metadata": {},
   "source": [
    "По формуле линейной регрессии $ a = X (X^T X)^{-1} X^T y$ получим вектор прогнозов для не закодированных признаков:"
   ]
  },
  {
   "cell_type": "code",
   "execution_count": 9,
   "metadata": {},
   "outputs": [
    {
     "data": {
      "text/plain": [
       "array([1., 2., 3., 4.])"
      ]
     },
     "execution_count": 9,
     "metadata": {},
     "output_type": "execute_result"
    }
   ],
   "source": [
    "a = X @ np.linalg.inv(X.T @ X) @ X.T @ y\n",
    "a"
   ]
  },
  {
   "cell_type": "markdown",
   "metadata": {},
   "source": [
    "По этой же формуле $ a_m = M (M^T M)^{-1} M^T y$ получим вектор прогнозов для закодированных признаков:"
   ]
  },
  {
   "cell_type": "code",
   "execution_count": 10,
   "metadata": {},
   "outputs": [
    {
     "data": {
      "text/plain": [
       "array([1., 2., 3., 4.])"
      ]
     },
     "execution_count": 10,
     "metadata": {},
     "output_type": "execute_result"
    }
   ],
   "source": [
    "a_m = M @ np.linalg.inv(M.T @ M) @ M.T @ y\n",
    "a"
   ]
  },
  {
   "cell_type": "markdown",
   "metadata": {},
   "source": [
    "**Вывод**\n",
    "\n",
    "Как мы видим, результаты прогноза на закодированных и не закодированных признаках получился идентичным. Осталось применить алгоритм к реальным данным, и проверить результаты."
   ]
  },
  {
   "cell_type": "markdown",
   "metadata": {},
   "source": [
    "## Проверка алгоритма"
   ]
  },
  {
   "cell_type": "markdown",
   "metadata": {},
   "source": [
    "**Создание функции кодирования**"
   ]
  },
  {
   "cell_type": "code",
   "execution_count": 11,
   "metadata": {},
   "outputs": [],
   "source": [
    "def features_coding(matrix):\n",
    "    \"\"\" Функция приниммает датафрейм признаков, \n",
    "        возвращает признаки, закодированные умножением на обратимую матрицу  \n",
    "    \"\"\"\n",
    "    np.random.seed(12345)\n",
    "    if type(matrix) == pd.core.frame.DataFrame or type(matrix) == pd.core.series.Series:\n",
    "        matrix = matrix.values\n",
    "    range_matrix = matrix.shape[1]\n",
    "    # Создание кодирующей матрицы и проверка её на обратимость\n",
    "    determinant = 0\n",
    "    while determinant == 0:\n",
    "        key_matrix = np.random.randint(1,100,(range_matrix,range_matrix))\n",
    "        determinant = np.linalg.det(key_matrix)\n",
    "    return matrix @ key_matrix"
   ]
  },
  {
   "cell_type": "markdown",
   "metadata": {},
   "source": [
    "**Проверка работы алгоритма МО на незакодированных признаках**"
   ]
  },
  {
   "cell_type": "code",
   "execution_count": 12,
   "metadata": {},
   "outputs": [],
   "source": [
    "# Выделяем признаки и цели\n",
    "features = df.drop('Страховые выплаты', axis=1)\n",
    "targets = df['Страховые выплаты']\n",
    "# Делим на трейн и тест\n",
    "features_train, features_test, target_train, target_test = train_test_split(features, \n",
    "                                                                            targets, \n",
    "                                                                            test_size = 0.25, \n",
    "                                                                            random_state=5555)"
   ]
  },
  {
   "cell_type": "code",
   "execution_count": 13,
   "metadata": {},
   "outputs": [
    {
     "data": {
      "text/plain": [
       "0.4079369370084327"
      ]
     },
     "execution_count": 13,
     "metadata": {},
     "output_type": "execute_result"
    }
   ],
   "source": [
    "lin_regr = LinearRegression()\n",
    "lin_regr.fit(features_train, target_train)\n",
    "predictions = lin_regr.predict(features_test)\n",
    "r2_score(target_test, predictions)"
   ]
  },
  {
   "cell_type": "code",
   "execution_count": 14,
   "metadata": {},
   "outputs": [
    {
     "data": {
      "text/plain": [
       "array([ 1.53008761e-02,  3.64392233e-02, -7.04095938e-07, -1.48906216e-02])"
      ]
     },
     "execution_count": 14,
     "metadata": {},
     "output_type": "execute_result"
    }
   ],
   "source": [
    "lin_regr.coef_"
   ]
  },
  {
   "cell_type": "markdown",
   "metadata": {},
   "source": [
    "**Проверка работы алгоритма МО на закодированных признаках**\n"
   ]
  },
  {
   "cell_type": "code",
   "execution_count": 15,
   "metadata": {
    "scrolled": true
   },
   "outputs": [
    {
     "data": {
      "text/plain": [
       "array([[2977895.,  745477., 4564510., 4017730.],\n",
       "       [2282006.,  571622., 3497458., 3078103.],\n",
       "       [1261218.,  316015., 1932870., 1701058.],\n",
       "       [2503030.,  626259., 3837186., 3377764.],\n",
       "       [1567275.,  392510., 2402042., 2114193.]])"
      ]
     },
     "execution_count": 15,
     "metadata": {},
     "output_type": "execute_result"
    }
   ],
   "source": [
    "# Кодируем признаки\n",
    "features_code = features_coding(features)\n",
    "# Делим на трейн и тест\n",
    "features_code_train, features_code_test, target_train, target_test = train_test_split(features, \n",
    "                                                                                      targets, \n",
    "                                                                                      test_size = 0.25, \n",
    "                                                                                      random_state=5555)\n",
    "features_code[0:5]"
   ]
  },
  {
   "cell_type": "code",
   "execution_count": 16,
   "metadata": {},
   "outputs": [
    {
     "data": {
      "text/plain": [
       "0.4079369370084327"
      ]
     },
     "execution_count": 16,
     "metadata": {},
     "output_type": "execute_result"
    }
   ],
   "source": [
    "lin_regr_code = LinearRegression()\n",
    "lin_regr_code.fit(features_code_train, target_train)\n",
    "predictions_code = lin_regr_code.predict(features_code_test)\n",
    "r2_score(target_test, predictions_code)"
   ]
  },
  {
   "cell_type": "code",
   "execution_count": 17,
   "metadata": {},
   "outputs": [
    {
     "data": {
      "text/plain": [
       "array([ 1.53008761e-02,  3.64392233e-02, -7.04095938e-07, -1.48906216e-02])"
      ]
     },
     "execution_count": 17,
     "metadata": {},
     "output_type": "execute_result"
    }
   ],
   "source": [
    "lin_regr_code.coef_"
   ]
  },
  {
   "cell_type": "markdown",
   "metadata": {},
   "source": [
    "**Вывод**\n",
    "\n",
    "Как видно из сравнения метрики качества и коэфициентов моделей МО для закодированных и не закодированных данных, на качество работы модели кодирование не сказалось. На реальных данных алгоритм показал свою работоспособность."
   ]
  },
  {
   "cell_type": "markdown",
   "metadata": {},
   "source": [
    "**Общий вывод**\n",
    "\n",
    "На этапе загрузки и изучения данных было выявлено, что критичных проблем в данных нет. В разделе 2 представлено обоснование того, что умножение матрицы признаков на обратимую матрицу не влияет на результат работы линейной регрессии. Далее был определён и обоснован такой алгоритм кодирования данных, который не повлияет на результат работы модели машинного обучения. И в разделе 4 алгоритм реализован на реальных данных. Применение алгоритма на реальных данных показала, что модель линейной регрессии работает одинаково на закодированных и на не закодированных данных. \n",
    "\n",
    "Таким образом, задача защититы данные клиентов страховой компании решена. Разработан метод преобразования данных, при котором персональную информацию сложно восстановить, но который не влияет на работу мадели машинного обучения."
   ]
  }
 ],
 "metadata": {
  "ExecuteTimeLog": [
   {
    "duration": 399,
    "start_time": "2022-05-03T10:35:00.841Z"
   },
   {
    "duration": 12,
    "start_time": "2022-05-03T10:35:23.728Z"
   },
   {
    "duration": 26,
    "start_time": "2022-05-03T10:35:31.108Z"
   },
   {
    "duration": 10,
    "start_time": "2022-05-03T12:40:40.981Z"
   },
   {
    "duration": 9,
    "start_time": "2022-05-03T12:40:47.200Z"
   },
   {
    "duration": 8,
    "start_time": "2022-05-03T12:40:54.030Z"
   },
   {
    "duration": 24,
    "start_time": "2022-05-03T12:41:21.943Z"
   },
   {
    "duration": 3,
    "start_time": "2022-05-03T12:44:46.183Z"
   },
   {
    "duration": 5,
    "start_time": "2022-05-03T12:44:55.537Z"
   },
   {
    "duration": 5,
    "start_time": "2022-05-03T12:45:13.302Z"
   },
   {
    "duration": 66,
    "start_time": "2022-05-03T12:45:30.667Z"
   },
   {
    "duration": 483,
    "start_time": "2022-05-03T12:45:36.161Z"
   },
   {
    "duration": 385,
    "start_time": "2022-05-03T12:46:37.751Z"
   },
   {
    "duration": 4,
    "start_time": "2022-05-03T12:46:55.008Z"
   },
   {
    "duration": 7,
    "start_time": "2022-05-03T12:50:26.018Z"
   },
   {
    "duration": 3,
    "start_time": "2022-05-03T12:50:41.722Z"
   },
   {
    "duration": 151,
    "start_time": "2022-05-03T12:50:50.369Z"
   },
   {
    "duration": 8,
    "start_time": "2022-05-03T16:11:54.797Z"
   },
   {
    "duration": 6,
    "start_time": "2022-05-03T16:12:07.260Z"
   },
   {
    "duration": 575,
    "start_time": "2022-05-03T16:13:16.637Z"
   },
   {
    "duration": 3,
    "start_time": "2022-05-03T16:13:22.671Z"
   },
   {
    "duration": 4,
    "start_time": "2022-05-03T16:13:28.036Z"
   },
   {
    "duration": 4,
    "start_time": "2022-05-03T16:13:29.964Z"
   },
   {
    "duration": 4,
    "start_time": "2022-05-03T16:13:30.940Z"
   },
   {
    "duration": 5,
    "start_time": "2022-05-03T16:13:31.740Z"
   },
   {
    "duration": 4,
    "start_time": "2022-05-03T16:13:35.758Z"
   },
   {
    "duration": 5,
    "start_time": "2022-05-03T16:13:39.829Z"
   },
   {
    "duration": 4,
    "start_time": "2022-05-03T16:13:41.204Z"
   },
   {
    "duration": 4,
    "start_time": "2022-05-03T16:13:42.123Z"
   },
   {
    "duration": 4,
    "start_time": "2022-05-03T16:13:43.115Z"
   },
   {
    "duration": 4,
    "start_time": "2022-05-03T16:13:43.956Z"
   },
   {
    "duration": 4,
    "start_time": "2022-05-03T16:13:44.715Z"
   },
   {
    "duration": 4,
    "start_time": "2022-05-03T16:13:45.712Z"
   },
   {
    "duration": 581,
    "start_time": "2022-05-03T16:13:49.862Z"
   },
   {
    "duration": 4,
    "start_time": "2022-05-03T16:13:57.566Z"
   },
   {
    "duration": 4,
    "start_time": "2022-05-03T16:13:59.795Z"
   },
   {
    "duration": 5,
    "start_time": "2022-05-03T16:14:00.774Z"
   },
   {
    "duration": 4,
    "start_time": "2022-05-03T16:14:01.540Z"
   },
   {
    "duration": 5,
    "start_time": "2022-05-03T16:14:02.323Z"
   },
   {
    "duration": 6,
    "start_time": "2022-05-03T16:14:02.995Z"
   },
   {
    "duration": 4,
    "start_time": "2022-05-03T16:14:03.693Z"
   },
   {
    "duration": 5,
    "start_time": "2022-05-03T16:14:04.403Z"
   },
   {
    "duration": 5,
    "start_time": "2022-05-03T16:14:05.091Z"
   },
   {
    "duration": 5,
    "start_time": "2022-05-03T16:14:05.779Z"
   },
   {
    "duration": 5,
    "start_time": "2022-05-03T16:14:06.434Z"
   },
   {
    "duration": 4,
    "start_time": "2022-05-03T16:14:07.140Z"
   },
   {
    "duration": 18,
    "start_time": "2022-05-03T16:16:35.886Z"
   },
   {
    "duration": 3,
    "start_time": "2022-05-03T16:17:01.696Z"
   },
   {
    "duration": 4,
    "start_time": "2022-05-03T16:18:13.204Z"
   },
   {
    "duration": 551,
    "start_time": "2022-05-03T16:18:25.663Z"
   },
   {
    "duration": 7,
    "start_time": "2022-05-03T16:19:58.765Z"
   },
   {
    "duration": 5,
    "start_time": "2022-05-03T16:22:10.569Z"
   },
   {
    "duration": 5,
    "start_time": "2022-05-03T16:22:10.878Z"
   },
   {
    "duration": 5,
    "start_time": "2022-05-03T16:22:12.030Z"
   },
   {
    "duration": 5,
    "start_time": "2022-05-03T16:24:20.360Z"
   },
   {
    "duration": 7,
    "start_time": "2022-05-03T16:24:28.062Z"
   },
   {
    "duration": 5,
    "start_time": "2022-05-03T16:24:36.887Z"
   },
   {
    "duration": 5,
    "start_time": "2022-05-03T16:27:31.618Z"
   },
   {
    "duration": 4,
    "start_time": "2022-05-03T16:27:32.808Z"
   },
   {
    "duration": 5,
    "start_time": "2022-05-03T16:27:35.282Z"
   },
   {
    "duration": 3,
    "start_time": "2022-05-03T16:45:43.429Z"
   },
   {
    "duration": 5,
    "start_time": "2022-05-03T16:46:55.735Z"
   },
   {
    "duration": 5,
    "start_time": "2022-05-03T16:49:17.609Z"
   },
   {
    "duration": 5,
    "start_time": "2022-05-03T16:49:18.573Z"
   },
   {
    "duration": 5,
    "start_time": "2022-05-03T16:49:19.421Z"
   },
   {
    "duration": 5,
    "start_time": "2022-05-03T16:49:20.166Z"
   },
   {
    "duration": 6,
    "start_time": "2022-05-03T16:49:20.841Z"
   },
   {
    "duration": 5,
    "start_time": "2022-05-03T16:49:21.454Z"
   },
   {
    "duration": 6,
    "start_time": "2022-05-03T16:49:22.046Z"
   },
   {
    "duration": 5,
    "start_time": "2022-05-03T16:49:22.663Z"
   },
   {
    "duration": 6,
    "start_time": "2022-05-03T16:49:23.317Z"
   },
   {
    "duration": 1318,
    "start_time": "2022-05-03T17:00:48.531Z"
   },
   {
    "duration": 22,
    "start_time": "2022-05-03T17:01:26.419Z"
   },
   {
    "duration": 3,
    "start_time": "2022-05-03T17:02:10.557Z"
   },
   {
    "duration": 3,
    "start_time": "2022-05-03T17:03:45.875Z"
   },
   {
    "duration": 3,
    "start_time": "2022-05-03T17:06:55.275Z"
   },
   {
    "duration": 7,
    "start_time": "2022-05-03T17:08:42.616Z"
   },
   {
    "duration": 5,
    "start_time": "2022-05-03T17:09:49.423Z"
   },
   {
    "duration": 22,
    "start_time": "2022-05-03T17:10:19.054Z"
   },
   {
    "duration": 8,
    "start_time": "2022-05-03T17:10:35.875Z"
   },
   {
    "duration": 13,
    "start_time": "2022-05-03T17:10:36.520Z"
   },
   {
    "duration": 7,
    "start_time": "2022-05-03T17:14:52.439Z"
   },
   {
    "duration": 11,
    "start_time": "2022-05-03T17:15:08.579Z"
   },
   {
    "duration": 15,
    "start_time": "2022-05-03T17:15:26.368Z"
   },
   {
    "duration": 11,
    "start_time": "2022-05-03T17:15:34.351Z"
   },
   {
    "duration": 7,
    "start_time": "2022-05-03T17:15:47.106Z"
   },
   {
    "duration": 8,
    "start_time": "2022-05-03T17:18:03.472Z"
   },
   {
    "duration": 9,
    "start_time": "2022-05-03T17:18:16.655Z"
   },
   {
    "duration": 9,
    "start_time": "2022-05-03T17:18:17.668Z"
   },
   {
    "duration": 16,
    "start_time": "2022-05-03T17:18:38.191Z"
   },
   {
    "duration": 4,
    "start_time": "2022-05-03T17:23:08.369Z"
   },
   {
    "duration": 4,
    "start_time": "2022-05-03T17:23:36.978Z"
   },
   {
    "duration": 11,
    "start_time": "2022-05-03T17:25:04.808Z"
   },
   {
    "duration": 4,
    "start_time": "2022-05-03T17:25:11.207Z"
   },
   {
    "duration": 4,
    "start_time": "2022-05-03T17:31:43.880Z"
   },
   {
    "duration": 8,
    "start_time": "2022-05-03T17:31:44.620Z"
   },
   {
    "duration": 20,
    "start_time": "2022-05-03T17:31:45.021Z"
   },
   {
    "duration": 4,
    "start_time": "2022-05-03T17:31:46.357Z"
   },
   {
    "duration": 11,
    "start_time": "2022-05-03T17:31:47.562Z"
   },
   {
    "duration": 17,
    "start_time": "2022-05-03T17:31:48.132Z"
   },
   {
    "duration": 6,
    "start_time": "2022-05-03T17:32:19.997Z"
   },
   {
    "duration": 7,
    "start_time": "2022-05-03T17:32:20.880Z"
   },
   {
    "duration": 20,
    "start_time": "2022-05-03T17:32:21.087Z"
   },
   {
    "duration": 8,
    "start_time": "2022-05-03T17:32:21.432Z"
   },
   {
    "duration": 11,
    "start_time": "2022-05-03T17:32:22.650Z"
   },
   {
    "duration": 11,
    "start_time": "2022-05-03T17:32:23.560Z"
   },
   {
    "duration": 6,
    "start_time": "2022-05-03T17:45:42.990Z"
   },
   {
    "duration": 5,
    "start_time": "2022-05-03T17:45:49.012Z"
   },
   {
    "duration": 6,
    "start_time": "2022-05-03T17:46:17.640Z"
   },
   {
    "duration": 13,
    "start_time": "2022-05-03T17:46:48.412Z"
   },
   {
    "duration": 10,
    "start_time": "2022-05-03T17:47:38.159Z"
   },
   {
    "duration": 17,
    "start_time": "2022-05-03T17:48:51.688Z"
   },
   {
    "duration": 3,
    "start_time": "2022-05-03T17:48:58.639Z"
   },
   {
    "duration": 12,
    "start_time": "2022-05-03T17:49:02.658Z"
   },
   {
    "duration": 5,
    "start_time": "2022-05-03T17:49:09.861Z"
   },
   {
    "duration": 6,
    "start_time": "2022-05-03T17:49:41.893Z"
   },
   {
    "duration": 47,
    "start_time": "2022-05-05T16:13:10.874Z"
   },
   {
    "duration": 1150,
    "start_time": "2022-05-05T16:13:18.439Z"
   },
   {
    "duration": 13,
    "start_time": "2022-05-05T16:13:19.591Z"
   },
   {
    "duration": 18,
    "start_time": "2022-05-05T16:13:19.606Z"
   },
   {
    "duration": 6,
    "start_time": "2022-05-05T16:13:19.626Z"
   },
   {
    "duration": 23,
    "start_time": "2022-05-05T16:13:20.766Z"
   },
   {
    "duration": 4,
    "start_time": "2022-05-05T16:13:26.619Z"
   },
   {
    "duration": 68,
    "start_time": "2022-05-05T16:13:48.737Z"
   },
   {
    "duration": 5,
    "start_time": "2022-05-05T16:14:01.974Z"
   },
   {
    "duration": 4,
    "start_time": "2022-05-05T16:15:55.722Z"
   },
   {
    "duration": 4,
    "start_time": "2022-05-05T16:16:59.247Z"
   },
   {
    "duration": 5,
    "start_time": "2022-05-05T16:18:26.698Z"
   },
   {
    "duration": 5,
    "start_time": "2022-05-05T16:18:38.248Z"
   },
   {
    "duration": 5,
    "start_time": "2022-05-05T16:18:39.319Z"
   },
   {
    "duration": 6,
    "start_time": "2022-05-05T16:22:39.190Z"
   },
   {
    "duration": 5,
    "start_time": "2022-05-05T16:22:44.849Z"
   },
   {
    "duration": 9,
    "start_time": "2022-05-05T16:22:49.049Z"
   },
   {
    "duration": 5,
    "start_time": "2022-05-05T16:22:53.238Z"
   },
   {
    "duration": 6,
    "start_time": "2022-05-05T16:23:56.512Z"
   },
   {
    "duration": 9,
    "start_time": "2022-05-05T16:24:44.613Z"
   },
   {
    "duration": 4,
    "start_time": "2022-05-05T16:24:57.649Z"
   },
   {
    "duration": 4,
    "start_time": "2022-05-05T16:25:04.123Z"
   },
   {
    "duration": 6,
    "start_time": "2022-05-05T16:25:21.112Z"
   },
   {
    "duration": 4,
    "start_time": "2022-05-05T16:33:24.590Z"
   },
   {
    "duration": 6,
    "start_time": "2022-05-05T16:36:17.695Z"
   },
   {
    "duration": 4,
    "start_time": "2022-05-05T16:36:41.429Z"
   },
   {
    "duration": 5,
    "start_time": "2022-05-05T16:36:42.770Z"
   },
   {
    "duration": 4,
    "start_time": "2022-05-05T16:36:43.765Z"
   },
   {
    "duration": 5,
    "start_time": "2022-05-05T16:36:45.371Z"
   },
   {
    "duration": 6,
    "start_time": "2022-05-05T16:36:55.260Z"
   },
   {
    "duration": 6,
    "start_time": "2022-05-05T16:36:55.787Z"
   },
   {
    "duration": 5,
    "start_time": "2022-05-05T16:36:56.131Z"
   },
   {
    "duration": 6,
    "start_time": "2022-05-05T16:36:57.539Z"
   },
   {
    "duration": 6,
    "start_time": "2022-05-05T16:38:09.348Z"
   },
   {
    "duration": 5,
    "start_time": "2022-05-05T17:01:02.795Z"
   },
   {
    "duration": 5,
    "start_time": "2022-05-05T17:01:11.723Z"
   },
   {
    "duration": 7,
    "start_time": "2022-05-05T17:01:21.514Z"
   },
   {
    "duration": 6,
    "start_time": "2022-05-05T17:08:35.858Z"
   },
   {
    "duration": 7,
    "start_time": "2022-05-05T17:21:57.894Z"
   },
   {
    "duration": 4,
    "start_time": "2022-05-05T17:28:16.959Z"
   },
   {
    "duration": 8,
    "start_time": "2022-05-05T17:28:18.119Z"
   },
   {
    "duration": 13,
    "start_time": "2022-05-05T17:28:18.934Z"
   },
   {
    "duration": 5,
    "start_time": "2022-05-05T17:28:19.526Z"
   },
   {
    "duration": 14,
    "start_time": "2022-05-05T17:28:20.406Z"
   },
   {
    "duration": 5,
    "start_time": "2022-05-05T17:28:58.690Z"
   },
   {
    "duration": 7,
    "start_time": "2022-05-05T17:28:59.126Z"
   },
   {
    "duration": 10,
    "start_time": "2022-05-05T17:28:59.350Z"
   },
   {
    "duration": 4,
    "start_time": "2022-05-05T17:29:00.255Z"
   },
   {
    "duration": 11,
    "start_time": "2022-05-05T17:29:02.071Z"
   },
   {
    "duration": 10,
    "start_time": "2022-05-05T17:29:04.062Z"
   },
   {
    "duration": 9,
    "start_time": "2022-05-05T17:44:07.305Z"
   },
   {
    "duration": 11,
    "start_time": "2022-05-05T17:44:18.581Z"
   },
   {
    "duration": 4,
    "start_time": "2022-05-05T17:57:23.833Z"
   },
   {
    "duration": 1123,
    "start_time": "2022-05-05T18:16:19.888Z"
   },
   {
    "duration": 18,
    "start_time": "2022-05-05T18:16:21.013Z"
   },
   {
    "duration": 12,
    "start_time": "2022-05-05T18:16:21.033Z"
   },
   {
    "duration": 17,
    "start_time": "2022-05-05T18:16:21.047Z"
   },
   {
    "duration": 10,
    "start_time": "2022-05-05T18:16:21.065Z"
   },
   {
    "duration": 36,
    "start_time": "2022-05-05T18:16:21.076Z"
   },
   {
    "duration": 4,
    "start_time": "2022-05-05T18:16:21.114Z"
   },
   {
    "duration": 11,
    "start_time": "2022-05-05T18:16:21.120Z"
   },
   {
    "duration": 18,
    "start_time": "2022-05-05T18:16:21.132Z"
   },
   {
    "duration": 5,
    "start_time": "2022-05-05T18:16:21.152Z"
   },
   {
    "duration": 16,
    "start_time": "2022-05-05T18:16:21.158Z"
   },
   {
    "duration": 12,
    "start_time": "2022-05-05T18:16:21.176Z"
   },
   {
    "duration": 10,
    "start_time": "2022-05-05T18:16:21.189Z"
   },
   {
    "duration": 9,
    "start_time": "2022-05-05T18:16:21.201Z"
   },
   {
    "duration": 68,
    "start_time": "2022-05-05T18:16:21.212Z"
   },
   {
    "duration": 7,
    "start_time": "2022-05-05T18:16:21.282Z"
   },
   {
    "duration": 10,
    "start_time": "2022-05-05T18:16:21.290Z"
   },
   {
    "duration": 12,
    "start_time": "2022-05-05T18:16:21.302Z"
   },
   {
    "duration": 60,
    "start_time": "2022-05-05T18:16:21.316Z"
   },
   {
    "duration": 3103,
    "start_time": "2022-05-10T17:56:23.452Z"
   },
   {
    "duration": 3,
    "start_time": "2022-05-10T17:56:32.379Z"
   },
   {
    "duration": 4,
    "start_time": "2022-05-10T17:56:38.425Z"
   },
   {
    "duration": 4,
    "start_time": "2022-05-10T17:56:47.405Z"
   },
   {
    "duration": 114,
    "start_time": "2022-05-10T17:56:56.602Z"
   },
   {
    "duration": 51,
    "start_time": "2022-05-10T17:57:03.891Z"
   },
   {
    "duration": 4,
    "start_time": "2022-05-10T17:57:04.264Z"
   },
   {
    "duration": 56,
    "start_time": "2022-05-10T17:57:04.674Z"
   },
   {
    "duration": 3,
    "start_time": "2022-05-10T17:57:30.740Z"
   },
   {
    "duration": 3,
    "start_time": "2022-05-10T17:57:56.650Z"
   },
   {
    "duration": 12,
    "start_time": "2022-05-10T17:57:57.713Z"
   },
   {
    "duration": 4,
    "start_time": "2022-05-10T17:57:58.168Z"
   },
   {
    "duration": 473,
    "start_time": "2022-05-10T17:57:59.691Z"
   },
   {
    "duration": 4,
    "start_time": "2022-05-10T17:58:56.626Z"
   },
   {
    "duration": 438,
    "start_time": "2022-05-10T17:58:57.025Z"
   },
   {
    "duration": 1698,
    "start_time": "2022-05-10T18:03:02.624Z"
   },
   {
    "duration": 13,
    "start_time": "2022-05-10T18:03:04.325Z"
   },
   {
    "duration": 7,
    "start_time": "2022-05-10T18:03:04.340Z"
   },
   {
    "duration": 618,
    "start_time": "2022-05-10T18:03:04.350Z"
   },
   {
    "duration": 4,
    "start_time": "2022-05-10T18:03:04.970Z"
   },
   {
    "duration": 17,
    "start_time": "2022-05-10T18:03:04.976Z"
   },
   {
    "duration": 6,
    "start_time": "2022-05-10T18:03:04.995Z"
   },
   {
    "duration": 27,
    "start_time": "2022-05-10T18:03:05.003Z"
   },
   {
    "duration": 7,
    "start_time": "2022-05-10T18:03:05.032Z"
   },
   {
    "duration": 15,
    "start_time": "2022-05-10T18:03:05.042Z"
   },
   {
    "duration": 42,
    "start_time": "2022-05-10T18:03:05.059Z"
   },
   {
    "duration": 20,
    "start_time": "2022-05-10T18:03:05.103Z"
   },
   {
    "duration": 15,
    "start_time": "2022-05-10T18:03:05.125Z"
   },
   {
    "duration": 60,
    "start_time": "2022-05-10T18:03:05.142Z"
   },
   {
    "duration": 20,
    "start_time": "2022-05-10T18:03:05.204Z"
   },
   {
    "duration": 14,
    "start_time": "2022-05-10T18:03:05.227Z"
   },
   {
    "duration": 7,
    "start_time": "2022-05-10T18:03:05.243Z"
   }
  ],
  "kernelspec": {
   "display_name": "Python 3 (ipykernel)",
   "language": "python",
   "name": "python3"
  },
  "language_info": {
   "codemirror_mode": {
    "name": "ipython",
    "version": 3
   },
   "file_extension": ".py",
   "mimetype": "text/x-python",
   "name": "python",
   "nbconvert_exporter": "python",
   "pygments_lexer": "ipython3",
   "version": "3.9.5"
  },
  "toc": {
   "base_numbering": 1,
   "nav_menu": {},
   "number_sections": true,
   "sideBar": true,
   "skip_h1_title": true,
   "title_cell": "Содержание",
   "title_sidebar": "Contents",
   "toc_cell": true,
   "toc_position": {
    "height": "calc(100% - 180px)",
    "left": "10px",
    "top": "150px",
    "width": "315.391px"
   },
   "toc_section_display": true,
   "toc_window_display": true
  }
 },
 "nbformat": 4,
 "nbformat_minor": 2
}
