{
 "cells": [
  {
   "cell_type": "markdown",
   "id": "14148c20",
   "metadata": {
    "papermill": {
     "duration": 0.007835,
     "end_time": "2022-07-16T16:53:33.771158",
     "exception": false,
     "start_time": "2022-07-16T16:53:33.763323",
     "status": "completed"
    },
    "tags": []
   },
   "source": [
    "# Классификация одежды."
   ]
  },
  {
   "cell_type": "markdown",
   "id": "e2ac0058",
   "metadata": {
    "papermill": {
     "duration": 0.006202,
     "end_time": "2022-07-16T16:53:33.783974",
     "exception": false,
     "start_time": "2022-07-16T16:53:33.777772",
     "status": "completed"
    },
    "tags": []
   },
   "source": [
    "Необходимо построить модель, которая по фотографии определит тип предмета гардероба. В нашем распоряжении набор фотографий вещей из датасета [Fashion MNIST](https://www.kaggle.com/datasets/zalando-research/fashionmnist).\n",
    "\n",
    "Последовательность решения задачи:\n",
    "1. Анализ данных;\n",
    "2. Подготовка данных;\n",
    "3. Создание модели и её обучение;\n",
    "4. Вывод и оценка качества модели."
   ]
  },
  {
   "cell_type": "code",
   "execution_count": 1,
   "id": "a495ab60",
   "metadata": {
    "execution": {
     "iopub.execute_input": "2022-07-16T16:53:33.798946Z",
     "iopub.status.busy": "2022-07-16T16:53:33.798536Z",
     "iopub.status.idle": "2022-07-16T16:53:44.122798Z",
     "shell.execute_reply": "2022-07-16T16:53:44.121859Z"
    },
    "papermill": {
     "duration": 10.335205,
     "end_time": "2022-07-16T16:53:44.125725",
     "exception": false,
     "start_time": "2022-07-16T16:53:33.790520",
     "status": "completed"
    },
    "tags": []
   },
   "outputs": [],
   "source": [
    "import numpy as np\n",
    "import matplotlib.pyplot as plt\n",
    "import pandas as pd\n",
    "from PIL import Image\n",
    "\n",
    "from tensorflow.keras.datasets import fashion_mnist\n",
    "from tensorflow.keras.layers import Dense, GlobalAveragePooling2D\n",
    "from tensorflow.keras.models import Sequential\n",
    "from tensorflow.keras.layers import Conv2D, Flatten, Dense, AvgPool2D\n",
    "from tensorflow.keras.optimizers import Adam, Adamax\n",
    "from tensorflow.keras.applications.resnet import ResNet50"
   ]
  },
  {
   "cell_type": "code",
   "execution_count": 2,
   "id": "8faa64c3",
   "metadata": {
    "execution": {
     "iopub.execute_input": "2022-07-16T16:53:44.140789Z",
     "iopub.status.busy": "2022-07-16T16:53:44.139770Z",
     "iopub.status.idle": "2022-07-16T16:53:44.144914Z",
     "shell.execute_reply": "2022-07-16T16:53:44.143867Z"
    },
    "papermill": {
     "duration": 0.015023,
     "end_time": "2022-07-16T16:53:44.147205",
     "exception": false,
     "start_time": "2022-07-16T16:53:44.132182",
     "status": "completed"
    },
    "tags": []
   },
   "outputs": [],
   "source": [
    "PATH = '/kaggle/input/fashionmnist/'"
   ]
  },
  {
   "cell_type": "markdown",
   "id": "01c7d885",
   "metadata": {
    "papermill": {
     "duration": 0.005933,
     "end_time": "2022-07-16T16:53:44.159343",
     "exception": false,
     "start_time": "2022-07-16T16:53:44.153410",
     "status": "completed"
    },
    "tags": []
   },
   "source": [
    "## Анализ данных\n",
    "\n",
    "Загрузим и проанализируем данные."
   ]
  },
  {
   "cell_type": "code",
   "execution_count": 3,
   "id": "09453fc7",
   "metadata": {
    "execution": {
     "iopub.execute_input": "2022-07-16T16:53:44.173955Z",
     "iopub.status.busy": "2022-07-16T16:53:44.173217Z",
     "iopub.status.idle": "2022-07-16T16:53:51.577270Z",
     "shell.execute_reply": "2022-07-16T16:53:51.576117Z"
    },
    "papermill": {
     "duration": 7.414448,
     "end_time": "2022-07-16T16:53:51.580053",
     "exception": false,
     "start_time": "2022-07-16T16:53:44.165605",
     "status": "completed"
    },
    "tags": []
   },
   "outputs": [],
   "source": [
    "# Загрузка данных\n",
    "df_train = pd.read_csv(PATH + 'fashion-mnist_train.csv')\n",
    "df_test = pd.read_csv(PATH + 'fashion-mnist_test.csv')"
   ]
  },
  {
   "cell_type": "code",
   "execution_count": 4,
   "id": "8ea89ea2",
   "metadata": {
    "execution": {
     "iopub.execute_input": "2022-07-16T16:53:51.594286Z",
     "iopub.status.busy": "2022-07-16T16:53:51.593894Z",
     "iopub.status.idle": "2022-07-16T16:53:51.600823Z",
     "shell.execute_reply": "2022-07-16T16:53:51.599816Z"
    },
    "papermill": {
     "duration": 0.016759,
     "end_time": "2022-07-16T16:53:51.603225",
     "exception": false,
     "start_time": "2022-07-16T16:53:51.586466",
     "status": "completed"
    },
    "tags": []
   },
   "outputs": [],
   "source": [
    "def data_info(df):\n",
    "    \"\"\"Изучение датасета\"\"\"\n",
    "    display(df.head())\n",
    "    display(df.info())\n",
    "    # Проверка дизбаланса классов\n",
    "    ax = df['label'].hist()\n",
    "    ax.set(ylabel='количество',\n",
    "           xlabel= 'целевой признак')\n",
    "    ax.set_title('Распределение целевого признака', fontsize=14)\n",
    "    plt.show;\n",
    "    print('Количество дубликатов =', df.duplicated().sum())\n",
    "    "
   ]
  },
  {
   "cell_type": "code",
   "execution_count": 5,
   "id": "e96b3823",
   "metadata": {
    "execution": {
     "iopub.execute_input": "2022-07-16T16:53:51.618161Z",
     "iopub.status.busy": "2022-07-16T16:53:51.616966Z",
     "iopub.status.idle": "2022-07-16T16:53:53.048354Z",
     "shell.execute_reply": "2022-07-16T16:53:53.047016Z"
    },
    "papermill": {
     "duration": 1.441332,
     "end_time": "2022-07-16T16:53:53.050769",
     "exception": false,
     "start_time": "2022-07-16T16:53:51.609437",
     "status": "completed"
    },
    "tags": []
   },
   "outputs": [
    {
     "data": {
      "text/html": [
       "<div>\n",
       "<style scoped>\n",
       "    .dataframe tbody tr th:only-of-type {\n",
       "        vertical-align: middle;\n",
       "    }\n",
       "\n",
       "    .dataframe tbody tr th {\n",
       "        vertical-align: top;\n",
       "    }\n",
       "\n",
       "    .dataframe thead th {\n",
       "        text-align: right;\n",
       "    }\n",
       "</style>\n",
       "<table border=\"1\" class=\"dataframe\">\n",
       "  <thead>\n",
       "    <tr style=\"text-align: right;\">\n",
       "      <th></th>\n",
       "      <th>label</th>\n",
       "      <th>pixel1</th>\n",
       "      <th>pixel2</th>\n",
       "      <th>pixel3</th>\n",
       "      <th>pixel4</th>\n",
       "      <th>pixel5</th>\n",
       "      <th>pixel6</th>\n",
       "      <th>pixel7</th>\n",
       "      <th>pixel8</th>\n",
       "      <th>pixel9</th>\n",
       "      <th>...</th>\n",
       "      <th>pixel775</th>\n",
       "      <th>pixel776</th>\n",
       "      <th>pixel777</th>\n",
       "      <th>pixel778</th>\n",
       "      <th>pixel779</th>\n",
       "      <th>pixel780</th>\n",
       "      <th>pixel781</th>\n",
       "      <th>pixel782</th>\n",
       "      <th>pixel783</th>\n",
       "      <th>pixel784</th>\n",
       "    </tr>\n",
       "  </thead>\n",
       "  <tbody>\n",
       "    <tr>\n",
       "      <th>0</th>\n",
       "      <td>2</td>\n",
       "      <td>0</td>\n",
       "      <td>0</td>\n",
       "      <td>0</td>\n",
       "      <td>0</td>\n",
       "      <td>0</td>\n",
       "      <td>0</td>\n",
       "      <td>0</td>\n",
       "      <td>0</td>\n",
       "      <td>0</td>\n",
       "      <td>...</td>\n",
       "      <td>0</td>\n",
       "      <td>0</td>\n",
       "      <td>0</td>\n",
       "      <td>0</td>\n",
       "      <td>0</td>\n",
       "      <td>0</td>\n",
       "      <td>0</td>\n",
       "      <td>0</td>\n",
       "      <td>0</td>\n",
       "      <td>0</td>\n",
       "    </tr>\n",
       "    <tr>\n",
       "      <th>1</th>\n",
       "      <td>9</td>\n",
       "      <td>0</td>\n",
       "      <td>0</td>\n",
       "      <td>0</td>\n",
       "      <td>0</td>\n",
       "      <td>0</td>\n",
       "      <td>0</td>\n",
       "      <td>0</td>\n",
       "      <td>0</td>\n",
       "      <td>0</td>\n",
       "      <td>...</td>\n",
       "      <td>0</td>\n",
       "      <td>0</td>\n",
       "      <td>0</td>\n",
       "      <td>0</td>\n",
       "      <td>0</td>\n",
       "      <td>0</td>\n",
       "      <td>0</td>\n",
       "      <td>0</td>\n",
       "      <td>0</td>\n",
       "      <td>0</td>\n",
       "    </tr>\n",
       "    <tr>\n",
       "      <th>2</th>\n",
       "      <td>6</td>\n",
       "      <td>0</td>\n",
       "      <td>0</td>\n",
       "      <td>0</td>\n",
       "      <td>0</td>\n",
       "      <td>0</td>\n",
       "      <td>0</td>\n",
       "      <td>0</td>\n",
       "      <td>5</td>\n",
       "      <td>0</td>\n",
       "      <td>...</td>\n",
       "      <td>0</td>\n",
       "      <td>0</td>\n",
       "      <td>0</td>\n",
       "      <td>30</td>\n",
       "      <td>43</td>\n",
       "      <td>0</td>\n",
       "      <td>0</td>\n",
       "      <td>0</td>\n",
       "      <td>0</td>\n",
       "      <td>0</td>\n",
       "    </tr>\n",
       "    <tr>\n",
       "      <th>3</th>\n",
       "      <td>0</td>\n",
       "      <td>0</td>\n",
       "      <td>0</td>\n",
       "      <td>0</td>\n",
       "      <td>1</td>\n",
       "      <td>2</td>\n",
       "      <td>0</td>\n",
       "      <td>0</td>\n",
       "      <td>0</td>\n",
       "      <td>0</td>\n",
       "      <td>...</td>\n",
       "      <td>3</td>\n",
       "      <td>0</td>\n",
       "      <td>0</td>\n",
       "      <td>0</td>\n",
       "      <td>0</td>\n",
       "      <td>1</td>\n",
       "      <td>0</td>\n",
       "      <td>0</td>\n",
       "      <td>0</td>\n",
       "      <td>0</td>\n",
       "    </tr>\n",
       "    <tr>\n",
       "      <th>4</th>\n",
       "      <td>3</td>\n",
       "      <td>0</td>\n",
       "      <td>0</td>\n",
       "      <td>0</td>\n",
       "      <td>0</td>\n",
       "      <td>0</td>\n",
       "      <td>0</td>\n",
       "      <td>0</td>\n",
       "      <td>0</td>\n",
       "      <td>0</td>\n",
       "      <td>...</td>\n",
       "      <td>0</td>\n",
       "      <td>0</td>\n",
       "      <td>0</td>\n",
       "      <td>0</td>\n",
       "      <td>0</td>\n",
       "      <td>0</td>\n",
       "      <td>0</td>\n",
       "      <td>0</td>\n",
       "      <td>0</td>\n",
       "      <td>0</td>\n",
       "    </tr>\n",
       "  </tbody>\n",
       "</table>\n",
       "<p>5 rows × 785 columns</p>\n",
       "</div>"
      ],
      "text/plain": [
       "   label  pixel1  pixel2  pixel3  pixel4  pixel5  pixel6  pixel7  pixel8  \\\n",
       "0      2       0       0       0       0       0       0       0       0   \n",
       "1      9       0       0       0       0       0       0       0       0   \n",
       "2      6       0       0       0       0       0       0       0       5   \n",
       "3      0       0       0       0       1       2       0       0       0   \n",
       "4      3       0       0       0       0       0       0       0       0   \n",
       "\n",
       "   pixel9  ...  pixel775  pixel776  pixel777  pixel778  pixel779  pixel780  \\\n",
       "0       0  ...         0         0         0         0         0         0   \n",
       "1       0  ...         0         0         0         0         0         0   \n",
       "2       0  ...         0         0         0        30        43         0   \n",
       "3       0  ...         3         0         0         0         0         1   \n",
       "4       0  ...         0         0         0         0         0         0   \n",
       "\n",
       "   pixel781  pixel782  pixel783  pixel784  \n",
       "0         0         0         0         0  \n",
       "1         0         0         0         0  \n",
       "2         0         0         0         0  \n",
       "3         0         0         0         0  \n",
       "4         0         0         0         0  \n",
       "\n",
       "[5 rows x 785 columns]"
      ]
     },
     "metadata": {},
     "output_type": "display_data"
    },
    {
     "name": "stdout",
     "output_type": "stream",
     "text": [
      "<class 'pandas.core.frame.DataFrame'>\n",
      "RangeIndex: 60000 entries, 0 to 59999\n",
      "Columns: 785 entries, label to pixel784\n",
      "dtypes: int64(785)\n",
      "memory usage: 359.3 MB\n"
     ]
    },
    {
     "data": {
      "text/plain": [
       "None"
      ]
     },
     "metadata": {},
     "output_type": "display_data"
    },
    {
     "name": "stdout",
     "output_type": "stream",
     "text": [
      "Количество дубликатов = 43\n"
     ]
    },
    {
     "data": {
      "image/png": "[encoded data removed]",
      "text/plain": [
       "<Figure size 432x288 with 1 Axes>"
      ]
     },
     "metadata": {
      "needs_background": "light"
     },
     "output_type": "display_data"
    }
   ],
   "source": [
    "# Анализ трениоровочных данных\n",
    "data_info(df_train)"
   ]
  },
  {
   "cell_type": "code",
   "execution_count": 6,
   "id": "1098844d",
   "metadata": {
    "execution": {
     "iopub.execute_input": "2022-07-16T16:53:53.066923Z",
     "iopub.status.busy": "2022-07-16T16:53:53.066526Z",
     "iopub.status.idle": "2022-07-16T16:53:53.515142Z",
     "shell.execute_reply": "2022-07-16T16:53:53.513643Z"
    },
    "papermill": {
     "duration": 0.460096,
     "end_time": "2022-07-16T16:53:53.518275",
     "exception": false,
     "start_time": "2022-07-16T16:53:53.058179",
     "status": "completed"
    },
    "tags": []
   },
   "outputs": [
    {
     "data": {
      "text/html": [
       "<div>\n",
       "<style scoped>\n",
       "    .dataframe tbody tr th:only-of-type {\n",
       "        vertical-align: middle;\n",
       "    }\n",
       "\n",
       "    .dataframe tbody tr th {\n",
       "        vertical-align: top;\n",
       "    }\n",
       "\n",
       "    .dataframe thead th {\n",
       "        text-align: right;\n",
       "    }\n",
       "</style>\n",
       "<table border=\"1\" class=\"dataframe\">\n",
       "  <thead>\n",
       "    <tr style=\"text-align: right;\">\n",
       "      <th></th>\n",
       "      <th>label</th>\n",
       "      <th>pixel1</th>\n",
       "      <th>pixel2</th>\n",
       "      <th>pixel3</th>\n",
       "      <th>pixel4</th>\n",
       "      <th>pixel5</th>\n",
       "      <th>pixel6</th>\n",
       "      <th>pixel7</th>\n",
       "      <th>pixel8</th>\n",
       "      <th>pixel9</th>\n",
       "      <th>...</th>\n",
       "      <th>pixel775</th>\n",
       "      <th>pixel776</th>\n",
       "      <th>pixel777</th>\n",
       "      <th>pixel778</th>\n",
       "      <th>pixel779</th>\n",
       "      <th>pixel780</th>\n",
       "      <th>pixel781</th>\n",
       "      <th>pixel782</th>\n",
       "      <th>pixel783</th>\n",
       "      <th>pixel784</th>\n",
       "    </tr>\n",
       "  </thead>\n",
       "  <tbody>\n",
       "    <tr>\n",
       "      <th>0</th>\n",
       "      <td>0</td>\n",
       "      <td>0</td>\n",
       "      <td>0</td>\n",
       "      <td>0</td>\n",
       "      <td>0</td>\n",
       "      <td>0</td>\n",
       "      <td>0</td>\n",
       "      <td>0</td>\n",
       "      <td>9</td>\n",
       "      <td>8</td>\n",
       "      <td>...</td>\n",
       "      <td>103</td>\n",
       "      <td>87</td>\n",
       "      <td>56</td>\n",
       "      <td>0</td>\n",
       "      <td>0</td>\n",
       "      <td>0</td>\n",
       "      <td>0</td>\n",
       "      <td>0</td>\n",
       "      <td>0</td>\n",
       "      <td>0</td>\n",
       "    </tr>\n",
       "    <tr>\n",
       "      <th>1</th>\n",
       "      <td>1</td>\n",
       "      <td>0</td>\n",
       "      <td>0</td>\n",
       "      <td>0</td>\n",
       "      <td>0</td>\n",
       "      <td>0</td>\n",
       "      <td>0</td>\n",
       "      <td>0</td>\n",
       "      <td>0</td>\n",
       "      <td>0</td>\n",
       "      <td>...</td>\n",
       "      <td>34</td>\n",
       "      <td>0</td>\n",
       "      <td>0</td>\n",
       "      <td>0</td>\n",
       "      <td>0</td>\n",
       "      <td>0</td>\n",
       "      <td>0</td>\n",
       "      <td>0</td>\n",
       "      <td>0</td>\n",
       "      <td>0</td>\n",
       "    </tr>\n",
       "    <tr>\n",
       "      <th>2</th>\n",
       "      <td>2</td>\n",
       "      <td>0</td>\n",
       "      <td>0</td>\n",
       "      <td>0</td>\n",
       "      <td>0</td>\n",
       "      <td>0</td>\n",
       "      <td>0</td>\n",
       "      <td>14</td>\n",
       "      <td>53</td>\n",
       "      <td>99</td>\n",
       "      <td>...</td>\n",
       "      <td>0</td>\n",
       "      <td>0</td>\n",
       "      <td>0</td>\n",
       "      <td>0</td>\n",
       "      <td>63</td>\n",
       "      <td>53</td>\n",
       "      <td>31</td>\n",
       "      <td>0</td>\n",
       "      <td>0</td>\n",
       "      <td>0</td>\n",
       "    </tr>\n",
       "    <tr>\n",
       "      <th>3</th>\n",
       "      <td>2</td>\n",
       "      <td>0</td>\n",
       "      <td>0</td>\n",
       "      <td>0</td>\n",
       "      <td>0</td>\n",
       "      <td>0</td>\n",
       "      <td>0</td>\n",
       "      <td>0</td>\n",
       "      <td>0</td>\n",
       "      <td>0</td>\n",
       "      <td>...</td>\n",
       "      <td>137</td>\n",
       "      <td>126</td>\n",
       "      <td>140</td>\n",
       "      <td>0</td>\n",
       "      <td>133</td>\n",
       "      <td>224</td>\n",
       "      <td>222</td>\n",
       "      <td>56</td>\n",
       "      <td>0</td>\n",
       "      <td>0</td>\n",
       "    </tr>\n",
       "    <tr>\n",
       "      <th>4</th>\n",
       "      <td>3</td>\n",
       "      <td>0</td>\n",
       "      <td>0</td>\n",
       "      <td>0</td>\n",
       "      <td>0</td>\n",
       "      <td>0</td>\n",
       "      <td>0</td>\n",
       "      <td>0</td>\n",
       "      <td>0</td>\n",
       "      <td>0</td>\n",
       "      <td>...</td>\n",
       "      <td>0</td>\n",
       "      <td>0</td>\n",
       "      <td>0</td>\n",
       "      <td>0</td>\n",
       "      <td>0</td>\n",
       "      <td>0</td>\n",
       "      <td>0</td>\n",
       "      <td>0</td>\n",
       "      <td>0</td>\n",
       "      <td>0</td>\n",
       "    </tr>\n",
       "  </tbody>\n",
       "</table>\n",
       "<p>5 rows × 785 columns</p>\n",
       "</div>"
      ],
      "text/plain": [
       "   label  pixel1  pixel2  pixel3  pixel4  pixel5  pixel6  pixel7  pixel8  \\\n",
       "0      0       0       0       0       0       0       0       0       9   \n",
       "1      1       0       0       0       0       0       0       0       0   \n",
       "2      2       0       0       0       0       0       0      14      53   \n",
       "3      2       0       0       0       0       0       0       0       0   \n",
       "4      3       0       0       0       0       0       0       0       0   \n",
       "\n",
       "   pixel9  ...  pixel775  pixel776  pixel777  pixel778  pixel779  pixel780  \\\n",
       "0       8  ...       103        87        56         0         0         0   \n",
       "1       0  ...        34         0         0         0         0         0   \n",
       "2      99  ...         0         0         0         0        63        53   \n",
       "3       0  ...       137       126       140         0       133       224   \n",
       "4       0  ...         0         0         0         0         0         0   \n",
       "\n",
       "   pixel781  pixel782  pixel783  pixel784  \n",
       "0         0         0         0         0  \n",
       "1         0         0         0         0  \n",
       "2        31         0         0         0  \n",
       "3       222        56         0         0  \n",
       "4         0         0         0         0  \n",
       "\n",
       "[5 rows x 785 columns]"
      ]
     },
     "metadata": {},
     "output_type": "display_data"
    },
    {
     "name": "stdout",
     "output_type": "stream",
     "text": [
      "<class 'pandas.core.frame.DataFrame'>\n",
      "RangeIndex: 10000 entries, 0 to 9999\n",
      "Columns: 785 entries, label to pixel784\n",
      "dtypes: int64(785)\n",
      "memory usage: 59.9 MB\n"
     ]
    },
    {
     "data": {
      "text/plain": [
       "None"
      ]
     },
     "metadata": {},
     "output_type": "display_data"
    },
    {
     "name": "stdout",
     "output_type": "stream",
     "text": [
      "Количество дубликатов = 1\n"
     ]
    },
    {
     "data": {
      "image/png": "[encoded data removed]",
      "text/plain": [
       "<Figure size 432x288 with 1 Axes>"
      ]
     },
     "metadata": {
      "needs_background": "light"
     },
     "output_type": "display_data"
    }
   ],
   "source": [
    "# Анализ тестовых данных\n",
    "data_info(df_test)"
   ]
  },
  {
   "cell_type": "code",
   "execution_count": 7,
   "id": "1e9df412",
   "metadata": {
    "execution": {
     "iopub.execute_input": "2022-07-16T16:53:53.537319Z",
     "iopub.status.busy": "2022-07-16T16:53:53.536950Z",
     "iopub.status.idle": "2022-07-16T16:53:53.541930Z",
     "shell.execute_reply": "2022-07-16T16:53:53.540763Z"
    },
    "papermill": {
     "duration": 0.017234,
     "end_time": "2022-07-16T16:53:53.544134",
     "exception": false,
     "start_time": "2022-07-16T16:53:53.526900",
     "status": "completed"
    },
    "tags": []
   },
   "outputs": [],
   "source": [
    "# Надвания классов вещей\n",
    "class_names = ['T-shirt/top', 'Trouser', 'Pullover', 'Dress', 'Coat', \n",
    "               'Sandal', 'Shirt', 'Sneaker', 'Bag', 'Ankle boot']"
   ]
  },
  {
   "cell_type": "code",
   "execution_count": 8,
   "id": "3c1063a9",
   "metadata": {
    "execution": {
     "iopub.execute_input": "2022-07-16T16:53:53.563183Z",
     "iopub.status.busy": "2022-07-16T16:53:53.562040Z",
     "iopub.status.idle": "2022-07-16T16:53:54.458098Z",
     "shell.execute_reply": "2022-07-16T16:53:54.456959Z"
    },
    "papermill": {
     "duration": 0.907804,
     "end_time": "2022-07-16T16:53:54.460369",
     "exception": false,
     "start_time": "2022-07-16T16:53:53.552565",
     "status": "completed"
    },
    "tags": []
   },
   "outputs": [
    {
     "data": {
      "image/png": "[encoded data removed]",
      "text/plain": [
       "<Figure size 1440x504 with 10 Axes>"
      ]
     },
     "metadata": {
      "needs_background": "light"
     },
     "output_type": "display_data"
    }
   ],
   "source": [
    "# Выделим по одному изображению каждого класса\n",
    "one_category = df_train.groupby('label').head(1)\n",
    "one_category = one_category.set_index('label')\n",
    "\n",
    "# Вывод на экран изображений\n",
    "fig, axes = plt.subplots(nrows=1, ncols=10, figsize=(20,7))\n",
    "\n",
    "n = 0\n",
    "for ax in axes.flat:\n",
    "    ax.set(title=(class_names[n]))\n",
    "    image = one_category.loc[n,:].values.reshape(28, 28, 1)\n",
    "    ax.imshow(image, cmap=plt.cm.binary)\n",
    "    n += 1\n",
    "plt.show()"
   ]
  },
  {
   "cell_type": "markdown",
   "id": "17c00eeb",
   "metadata": {
    "papermill": {
     "duration": 0.010475,
     "end_time": "2022-07-16T16:53:54.484767",
     "exception": false,
     "start_time": "2022-07-16T16:53:54.474292",
     "status": "completed"
    },
    "tags": []
   },
   "source": [
    "**Вывод**\n",
    "\n",
    "1. Набор данных содержит 60000 изображений в тренировочном наборе и 10000 изображений в тестовом наборе данных. Такого количества должно быть достаточно для обучения модели.\n",
    "2. Вещи предствалены 10 классов, причём их количество по классам одинаково. Таким образом, дизбаланса классов не наблюдается.\n",
    "3. Изображеняи имеют размер 28Х28 пиксклей и один канал цвета. В датасети они представлены в виде списка, поэтому на этапе предобработки, их необходимо привести в двумерный вид.\n",
    "4. Изображения предобработаны, и не требуют дальнейшего преобразования.\n",
    "5. В тренировочном наборе данных присутствует 43 дубликата. В целом, такое небольшое количество повторяющехся изображений не должно сильно сказаться на качестве обучения модели, думаю лучше будет от них избавится.\n"
   ]
  },
  {
   "cell_type": "markdown",
   "id": "f71fab72",
   "metadata": {
    "papermill": {
     "duration": 0.008881,
     "end_time": "2022-07-16T16:53:54.503457",
     "exception": false,
     "start_time": "2022-07-16T16:53:54.494576",
     "status": "completed"
    },
    "tags": []
   },
   "source": [
    "## Подготовка данных и обучение модели"
   ]
  },
  {
   "cell_type": "markdown",
   "id": "2956e6c2",
   "metadata": {
    "papermill": {
     "duration": 0.008619,
     "end_time": "2022-07-16T16:53:54.523776",
     "exception": false,
     "start_time": "2022-07-16T16:53:54.515157",
     "status": "completed"
    },
    "tags": []
   },
   "source": [
    "1. Избавимся от дубликатов.\n",
    "2. Создадим функции `load_train` и `load_test` по подготовке данных тренировочного и тестового набора данных. В них произведём преобразование данных из одномерного списка в двумерное изображение и нормализуем их.\n",
    "3. Создадим функцию `create_model_LeNet`, которая будет создавать и компилировать модель. Применим нейросетевую модель с архитектурой LeNet. Оптимизатор и его параметры выберем опытным путём.\n",
    "4. Создадим функцию `train_model`, которая будет отвечать за обучение модели.\n",
    "5. Обучим модель."
   ]
  },
  {
   "cell_type": "code",
   "execution_count": 9,
   "id": "27153014",
   "metadata": {
    "execution": {
     "iopub.execute_input": "2022-07-16T16:53:54.543442Z",
     "iopub.status.busy": "2022-07-16T16:53:54.542595Z",
     "iopub.status.idle": "2022-07-16T16:53:55.649692Z",
     "shell.execute_reply": "2022-07-16T16:53:55.648558Z"
    },
    "papermill": {
     "duration": 1.119978,
     "end_time": "2022-07-16T16:53:55.652517",
     "exception": false,
     "start_time": "2022-07-16T16:53:54.532539",
     "status": "completed"
    },
    "tags": []
   },
   "outputs": [],
   "source": [
    "# Удалим дубликаты\n",
    "df_train = df_train.drop_duplicates()"
   ]
  },
  {
   "cell_type": "code",
   "execution_count": 10,
   "id": "4aade322",
   "metadata": {
    "execution": {
     "iopub.execute_input": "2022-07-16T16:53:55.672221Z",
     "iopub.status.busy": "2022-07-16T16:53:55.671538Z",
     "iopub.status.idle": "2022-07-16T16:53:55.677443Z",
     "shell.execute_reply": "2022-07-16T16:53:55.676474Z"
    },
    "papermill": {
     "duration": 0.018362,
     "end_time": "2022-07-16T16:53:55.679877",
     "exception": false,
     "start_time": "2022-07-16T16:53:55.661515",
     "status": "completed"
    },
    "tags": []
   },
   "outputs": [],
   "source": [
    "def load_train(df_train):\n",
    "    \"\"\" Принимаем датафрейм с тренировочными данными.\n",
    "        Возвращаем преобразованные и нормализованные признаки и целевой признак\n",
    "    \"\"\"\n",
    "    features_train = df_train.drop('label', axis=1).values\n",
    "    target_train = df_train['label']\n",
    "    features_train = features_train.reshape(-1, 28, 28, 1) / 255.0\n",
    "    return features_train, target_train"
   ]
  },
  {
   "cell_type": "code",
   "execution_count": 11,
   "id": "e9ca43d2",
   "metadata": {
    "execution": {
     "iopub.execute_input": "2022-07-16T16:53:55.700196Z",
     "iopub.status.busy": "2022-07-16T16:53:55.699211Z",
     "iopub.status.idle": "2022-07-16T16:53:55.706741Z",
     "shell.execute_reply": "2022-07-16T16:53:55.705396Z"
    },
    "papermill": {
     "duration": 0.020937,
     "end_time": "2022-07-16T16:53:55.709936",
     "exception": false,
     "start_time": "2022-07-16T16:53:55.688999",
     "status": "completed"
    },
    "tags": []
   },
   "outputs": [],
   "source": [
    "def load_test(df_test):\n",
    "    \"\"\" Принимаем датафрейм с тестовыми данными.\n",
    "        Возвращаем преобразованные и нормализованные признаки и целевой признак\n",
    "    \"\"\"\n",
    "    features_test = df_test.drop('label', axis=1).values\n",
    "    target_test = df_test['label']\n",
    "    features_test = features_test.reshape(-1, 28, 28, 1) / 255.0\n",
    "    return features_test, target_test"
   ]
  },
  {
   "cell_type": "code",
   "execution_count": 12,
   "id": "a991fde7",
   "metadata": {
    "execution": {
     "iopub.execute_input": "2022-07-16T16:53:55.731535Z",
     "iopub.status.busy": "2022-07-16T16:53:55.730573Z",
     "iopub.status.idle": "2022-07-16T16:53:55.749658Z",
     "shell.execute_reply": "2022-07-16T16:53:55.748893Z"
    },
    "papermill": {
     "duration": 0.03162,
     "end_time": "2022-07-16T16:53:55.752091",
     "exception": false,
     "start_time": "2022-07-16T16:53:55.720471",
     "status": "completed"
    },
    "tags": []
   },
   "outputs": [],
   "source": [
    "def create_model(input_shape, optimizer=Adam(learning_rate=0.001)):\n",
    "    \"\"\" Принимаем размер входных данных и оптимизатор.\n",
    "        Возвращаем созданную модель\n",
    "    \"\"\"\n",
    "    model = Sequential()\n",
    "    model.add(Conv2D(kernel_size=(5, 5), filters=6, padding='same', activation='relu', input_shape=input_shape))\n",
    "    model.add(AvgPool2D(pool_size=(2, 2)))\n",
    "    model.add(Conv2D(kernel_size=(5, 5), filters=16, padding='valid', activation='relu', strides=1))\n",
    "    model.add(AvgPool2D(pool_size=(2, 2)))\n",
    "    model.add(Flatten())\n",
    "    model.add(Dense(units=120, activation='relu'))\n",
    "    model.add(Dense(units=84, activation='relu'))\n",
    "    model.add(Dense(units=10, activation='softmax'))\n",
    "   \n",
    "    model.compile(optimizer=optimizer, loss='sparse_categorical_crossentropy',\n",
    "                  metrics=['acc'])\n",
    "    model.summary()\n",
    "    \n",
    "    return model\n"
   ]
  },
  {
   "cell_type": "code",
   "execution_count": 13,
   "id": "0a43a40e",
   "metadata": {
    "execution": {
     "iopub.execute_input": "2022-07-16T16:53:55.771179Z",
     "iopub.status.busy": "2022-07-16T16:53:55.770791Z",
     "iopub.status.idle": "2022-07-16T16:53:55.777808Z",
     "shell.execute_reply": "2022-07-16T16:53:55.776684Z"
    },
    "papermill": {
     "duration": 0.01931,
     "end_time": "2022-07-16T16:53:55.779937",
     "exception": false,
     "start_time": "2022-07-16T16:53:55.760627",
     "status": "completed"
    },
    "tags": []
   },
   "outputs": [],
   "source": [
    "def train_model(model, train_data, test_data, batch_size=32, epochs=10,\n",
    "               steps_per_epoch=None, validation_steps=None):\n",
    "    \"\"\" Принимаем модель, данные и параметры.\n",
    "        Возвращаем обученную модель\n",
    "    \"\"\"\n",
    "    features_train, target_train = train_data\n",
    "    features_test, target_test = test_data\n",
    "    model.fit(features_train, target_train, \n",
    "              validation_data=(features_test, target_test),\n",
    "              batch_size=batch_size, epochs=epochs,\n",
    "              steps_per_epoch=steps_per_epoch,\n",
    "              validation_steps=validation_steps,\n",
    "              verbose=2, shuffle=True)\n",
    "\n",
    "    return model"
   ]
  },
  {
   "cell_type": "code",
   "execution_count": 14,
   "id": "1edd8201",
   "metadata": {
    "execution": {
     "iopub.execute_input": "2022-07-16T16:53:55.799111Z",
     "iopub.status.busy": "2022-07-16T16:53:55.798369Z",
     "iopub.status.idle": "2022-07-16T16:55:09.565610Z",
     "shell.execute_reply": "2022-07-16T16:55:09.564544Z"
    },
    "papermill": {
     "duration": 73.779691,
     "end_time": "2022-07-16T16:55:09.568151",
     "exception": false,
     "start_time": "2022-07-16T16:53:55.788460",
     "status": "completed"
    },
    "tags": []
   },
   "outputs": [
    {
     "name": "stderr",
     "output_type": "stream",
     "text": [
      "2022-07-16 16:53:55.829372: I tensorflow/core/common_runtime/process_util.cc:146] Creating new thread pool with default inter op setting: 2. Tune using inter_op_parallelism_threads for best performance.\n"
     ]
    },
    {
     "name": "stdout",
     "output_type": "stream",
     "text": [
      "Model: \"sequential\"\n",
      "_________________________________________________________________\n",
      "Layer (type)                 Output Shape              Param #   \n",
      "=================================================================\n",
      "conv2d (Conv2D)              (None, 28, 28, 6)         156       \n",
      "_________________________________________________________________\n",
      "average_pooling2d (AveragePo (None, 14, 14, 6)         0         \n",
      "_________________________________________________________________\n",
      "conv2d_1 (Conv2D)            (None, 10, 10, 16)        2416      \n",
      "_________________________________________________________________\n",
      "average_pooling2d_1 (Average (None, 5, 5, 16)          0         \n",
      "_________________________________________________________________\n",
      "flatten (Flatten)            (None, 400)               0         \n",
      "_________________________________________________________________\n",
      "dense (Dense)                (None, 120)               48120     \n",
      "_________________________________________________________________\n",
      "dense_1 (Dense)              (None, 84)                10164     \n",
      "_________________________________________________________________\n",
      "dense_2 (Dense)              (None, 10)                850       \n",
      "=================================================================\n",
      "Total params: 61,706\n",
      "Trainable params: 61,706\n",
      "Non-trainable params: 0\n",
      "_________________________________________________________________\n"
     ]
    },
    {
     "name": "stderr",
     "output_type": "stream",
     "text": [
      "2022-07-16 16:53:56.766149: I tensorflow/compiler/mlir/mlir_graph_optimization_pass.cc:185] None of the MLIR Optimization Passes are enabled (registered 2)\n"
     ]
    },
    {
     "name": "stdout",
     "output_type": "stream",
     "text": [
      "Epoch 1/10\n",
      "937/937 - 9s - loss: 0.5373 - acc: 0.8012 - val_loss: 0.4068 - val_acc: 0.8531\n",
      "Epoch 2/10\n",
      "937/937 - 7s - loss: 0.3756 - acc: 0.8635 - val_loss: 0.3404 - val_acc: 0.8729\n",
      "Epoch 3/10\n",
      "937/937 - 7s - loss: 0.3200 - acc: 0.8823 - val_loss: 0.3093 - val_acc: 0.8864\n",
      "Epoch 4/10\n",
      "937/937 - 7s - loss: 0.2910 - acc: 0.8916 - val_loss: 0.2865 - val_acc: 0.8954\n",
      "Epoch 5/10\n",
      "937/937 - 7s - loss: 0.2679 - acc: 0.9005 - val_loss: 0.2646 - val_acc: 0.9014\n",
      "Epoch 6/10\n",
      "937/937 - 8s - loss: 0.2519 - acc: 0.9060 - val_loss: 0.2553 - val_acc: 0.9076\n",
      "Epoch 7/10\n",
      "937/937 - 7s - loss: 0.2375 - acc: 0.9115 - val_loss: 0.2579 - val_acc: 0.9055\n",
      "Epoch 8/10\n",
      "937/937 - 7s - loss: 0.2265 - acc: 0.9153 - val_loss: 0.2507 - val_acc: 0.9077\n",
      "Epoch 9/10\n",
      "937/937 - 7s - loss: 0.2153 - acc: 0.9195 - val_loss: 0.2522 - val_acc: 0.9106\n",
      "Epoch 10/10\n",
      "937/937 - 8s - loss: 0.2044 - acc: 0.9233 - val_loss: 0.2491 - val_acc: 0.9065\n"
     ]
    }
   ],
   "source": [
    "# Обучение модели\n",
    "model = train_model(create_model((28, 28, 1), optimizer=Adamax(learning_rate=0.007)), \n",
    "                    load_train(df_train),\n",
    "                    load_test(df_test),\n",
    "                    batch_size=64,\n",
    "                    epochs=10,\n",
    "                   )"
   ]
  },
  {
   "cell_type": "code",
   "execution_count": 15,
   "id": "59ca4cb8",
   "metadata": {
    "execution": {
     "iopub.execute_input": "2022-07-16T16:55:09.590641Z",
     "iopub.status.busy": "2022-07-16T16:55:09.589781Z",
     "iopub.status.idle": "2022-07-16T16:55:09.930526Z",
     "shell.execute_reply": "2022-07-16T16:55:09.929275Z"
    },
    "papermill": {
     "duration": 0.354381,
     "end_time": "2022-07-16T16:55:09.932823",
     "exception": false,
     "start_time": "2022-07-16T16:55:09.578442",
     "status": "completed"
    },
    "tags": []
   },
   "outputs": [
    {
     "data": {
      "image/png": "[encoded data removed]",
      "text/plain": [
       "<Figure size 1080x360 with 2 Axes>"
      ]
     },
     "metadata": {
      "needs_background": "light"
     },
     "output_type": "display_data"
    }
   ],
   "source": [
    "# Визуализация процесса обучения модели\n",
    "fig = plt.figure(figsize=(15,5))\n",
    "\n",
    "ax_1 = fig.add_subplot(1, 2, 1)\n",
    "ax_1.set_title('Accuracy', fontsize=16)\n",
    "ax_1.set_xlabel('Epoch Number', fontsize=14)\n",
    "ax_1.set_ylabel('accuracy', fontsize=14)\n",
    "ax_1 = plt.plot(model.history.history['acc'], label='training set')\n",
    "ax_1 = plt.plot(model.history.history['val_acc'], label='testing set')\n",
    "plt.legend();\n",
    "\n",
    "# \n",
    "ax_2 = fig.add_subplot(1, 2, 2)\n",
    "ax_2.set_title('Loos function', fontsize=16)\n",
    "ax_2.set_xlabel('Epoch Number', fontsize=14)\n",
    "ax_2.set_ylabel('sparse_categorical_crossentropy', fontsize=14)\n",
    "ax_2 = plt.plot(model.history.history['loss'], label='training set')\n",
    "ax_2 = plt.plot(model.history.history['val_loss'], label='testing set')\n",
    "\n",
    "\n",
    "plt.legend();"
   ]
  },
  {
   "cell_type": "markdown",
   "id": "51b09172",
   "metadata": {
    "papermill": {
     "duration": 0.010596,
     "end_time": "2022-07-16T16:55:09.954483",
     "exception": false,
     "start_time": "2022-07-16T16:55:09.943887",
     "status": "completed"
    },
    "tags": []
   },
   "source": [
    "**Вывод**\n",
    "\n",
    "Была поставлена задача классификации предметов гардероба по изображению.\n",
    "\n",
    "Анализ данных выявил, что больших проблем, влияющих на возможность построения модели в наборе данных нет. Были удалены дубликаты, данные были приведены к двумерному виду и нормализованы.\n",
    "\n",
    "Затем была создана модель на основе нейросетевой архитектуры LeNet, отличающейся от оригинальной тем, что активаторы были заменены на 'relu'. \n",
    "\n",
    "Модель показала точность классификации = 0.91."
   ]
  },
  {
   "cell_type": "code",
   "execution_count": null,
   "id": "9877c114",
   "metadata": {
    "papermill": {
     "duration": 0.010749,
     "end_time": "2022-07-16T16:55:09.976249",
     "exception": false,
     "start_time": "2022-07-16T16:55:09.965500",
     "status": "completed"
    },
    "tags": []
   },
   "outputs": [],
   "source": []
  }
 ],
 "metadata": {
  "kernelspec": {
   "display_name": "Python 3",
   "language": "python",
   "name": "python3"
  },
  "language_info": {
   "codemirror_mode": {
    "name": "ipython",
    "version": 3
   },
   "file_extension": ".py",
   "mimetype": "text/x-python",
   "name": "python",
   "nbconvert_exporter": "python",
   "pygments_lexer": "ipython3",
   "version": "3.7.12"
  },
  "papermill": {
   "default_parameters": {},
   "duration": 109.715895,
   "end_time": "2022-07-16T16:55:13.231140",
   "environment_variables": {},
   "exception": null,
   "input_path": "__notebook__.ipynb",
   "output_path": "__notebook__.ipynb",
   "parameters": {},
   "start_time": "2022-07-16T16:53:23.515245",
   "version": "2.3.4"
  }
 },
 "nbformat": 4,
 "nbformat_minor": 5
}
