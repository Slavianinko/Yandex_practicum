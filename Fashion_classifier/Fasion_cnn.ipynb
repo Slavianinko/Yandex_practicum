{
 "cells": [
  {
   "cell_type": "markdown",
   "id": "7a6d5c97",
   "metadata": {
    "papermill": {
     "duration": 0.007942,
     "end_time": "2022-07-16T16:21:44.215095",
     "exception": false,
     "start_time": "2022-07-16T16:21:44.207153",
     "status": "completed"
    },
    "tags": []
   },
   "source": [
    "# Классификация одежды."
   ]
  },
  {
   "cell_type": "markdown",
   "id": "e86c5c9c",
   "metadata": {
    "papermill": {
     "duration": 0.006056,
     "end_time": "2022-07-16T16:21:44.228015",
     "exception": false,
     "start_time": "2022-07-16T16:21:44.221959",
     "status": "completed"
    },
    "tags": []
   },
   "source": [
    "Необходимо построить модель, которая по фотографии определит тип предмета гардероба. В нашем распоряжении набор фотографий вещей из датасета [Fashion MNIST](https://www.kaggle.com/datasets/zalando-research/fashionmnist).\n",
    "\n",
    "Последовательность решения задачи:\n",
    "1. Анализ данных;\n",
    "2. Подготовка данных;\n",
    "3. Создание модели и её обучение;\n",
    "4. Вывод и оценка качества модели."
   ]
  },
  {
   "cell_type": "code",
   "execution_count": 1,
   "id": "4c85fc2d",
   "metadata": {
    "execution": {
     "iopub.execute_input": "2022-07-16T16:21:44.243473Z",
     "iopub.status.busy": "2022-07-16T16:21:44.242583Z",
     "iopub.status.idle": "2022-07-16T16:21:54.351725Z",
     "shell.execute_reply": "2022-07-16T16:21:54.350674Z"
    },
    "papermill": {
     "duration": 10.120326,
     "end_time": "2022-07-16T16:21:54.354722",
     "exception": false,
     "start_time": "2022-07-16T16:21:44.234396",
     "status": "completed"
    },
    "tags": []
   },
   "outputs": [],
   "source": [
    "import numpy as np\n",
    "import matplotlib.pyplot as plt\n",
    "import pandas as pd\n",
    "from PIL import Image\n",
    "\n",
    "from tensorflow.keras.datasets import fashion_mnist\n",
    "from tensorflow.keras.layers import Dense, GlobalAveragePooling2D\n",
    "from tensorflow.keras.models import Sequential\n",
    "from tensorflow.keras.layers import Conv2D, Flatten, Dense, AvgPool2D\n",
    "from tensorflow.keras.optimizers import Adam, Adamax\n",
    "from tensorflow.keras.applications.resnet import ResNet50"
   ]
  },
  {
   "cell_type": "code",
   "execution_count": 2,
   "id": "fac5ab26",
   "metadata": {
    "execution": {
     "iopub.execute_input": "2022-07-16T16:21:54.370241Z",
     "iopub.status.busy": "2022-07-16T16:21:54.369039Z",
     "iopub.status.idle": "2022-07-16T16:21:54.374742Z",
     "shell.execute_reply": "2022-07-16T16:21:54.373954Z"
    },
    "papermill": {
     "duration": 0.015444,
     "end_time": "2022-07-16T16:21:54.376808",
     "exception": false,
     "start_time": "2022-07-16T16:21:54.361364",
     "status": "completed"
    },
    "tags": []
   },
   "outputs": [],
   "source": [
    "PATH = '/kaggle/input/fashionmnist/'"
   ]
  },
  {
   "cell_type": "markdown",
   "id": "ce6f14a6",
   "metadata": {
    "papermill": {
     "duration": 0.005901,
     "end_time": "2022-07-16T16:21:54.388968",
     "exception": false,
     "start_time": "2022-07-16T16:21:54.383067",
     "status": "completed"
    },
    "tags": []
   },
   "source": [
    "## Анализ данных\n",
    "\n",
    "Загрузим и проанализируем данные."
   ]
  },
  {
   "cell_type": "code",
   "execution_count": 3,
   "id": "9faa5034",
   "metadata": {
    "execution": {
     "iopub.execute_input": "2022-07-16T16:21:54.403941Z",
     "iopub.status.busy": "2022-07-16T16:21:54.402911Z",
     "iopub.status.idle": "2022-07-16T16:22:02.123372Z",
     "shell.execute_reply": "2022-07-16T16:22:02.122346Z"
    },
    "papermill": {
     "duration": 7.730755,
     "end_time": "2022-07-16T16:22:02.126113",
     "exception": false,
     "start_time": "2022-07-16T16:21:54.395358",
     "status": "completed"
    },
    "tags": []
   },
   "outputs": [],
   "source": [
    "# Загрузка данных\n",
    "df_train = pd.read_csv(PATH + 'fashion-mnist_train.csv')\n",
    "df_test = pd.read_csv(PATH + 'fashion-mnist_test.csv')"
   ]
  },
  {
   "cell_type": "code",
   "execution_count": 4,
   "id": "c7d055b6",
   "metadata": {
    "execution": {
     "iopub.execute_input": "2022-07-16T16:22:02.140837Z",
     "iopub.status.busy": "2022-07-16T16:22:02.139934Z",
     "iopub.status.idle": "2022-07-16T16:22:02.146160Z",
     "shell.execute_reply": "2022-07-16T16:22:02.145268Z"
    },
    "papermill": {
     "duration": 0.015934,
     "end_time": "2022-07-16T16:22:02.148324",
     "exception": false,
     "start_time": "2022-07-16T16:22:02.132390",
     "status": "completed"
    },
    "tags": []
   },
   "outputs": [],
   "source": [
    "def data_info(df):\n",
    "    \"\"\"Изучение датасета\"\"\"\n",
    "    display(df.head())\n",
    "    display(df.info())\n",
    "    # Проверка дизбаланса классов\n",
    "    df['label'].hist()\n",
    "    print('Количество дубликатов =', df.duplicated().sum())\n",
    "    "
   ]
  },
  {
   "cell_type": "code",
   "execution_count": 5,
   "id": "9a2a26cf",
   "metadata": {
    "execution": {
     "iopub.execute_input": "2022-07-16T16:22:02.163292Z",
     "iopub.status.busy": "2022-07-16T16:22:02.162254Z",
     "iopub.status.idle": "2022-07-16T16:22:03.644244Z",
     "shell.execute_reply": "2022-07-16T16:22:03.642644Z"
    },
    "papermill": {
     "duration": 1.492907,
     "end_time": "2022-07-16T16:22:03.647555",
     "exception": false,
     "start_time": "2022-07-16T16:22:02.154648",
     "status": "completed"
    },
    "tags": []
   },
   "outputs": [
    {
     "data": {
      "text/html": [
       "<div>\n",
       "<style scoped>\n",
       "    .dataframe tbody tr th:only-of-type {\n",
       "        vertical-align: middle;\n",
       "    }\n",
       "\n",
       "    .dataframe tbody tr th {\n",
       "        vertical-align: top;\n",
       "    }\n",
       "\n",
       "    .dataframe thead th {\n",
       "        text-align: right;\n",
       "    }\n",
       "</style>\n",
       "<table border=\"1\" class=\"dataframe\">\n",
       "  <thead>\n",
       "    <tr style=\"text-align: right;\">\n",
       "      <th></th>\n",
       "      <th>label</th>\n",
       "      <th>pixel1</th>\n",
       "      <th>pixel2</th>\n",
       "      <th>pixel3</th>\n",
       "      <th>pixel4</th>\n",
       "      <th>pixel5</th>\n",
       "      <th>pixel6</th>\n",
       "      <th>pixel7</th>\n",
       "      <th>pixel8</th>\n",
       "      <th>pixel9</th>\n",
       "      <th>...</th>\n",
       "      <th>pixel775</th>\n",
       "      <th>pixel776</th>\n",
       "      <th>pixel777</th>\n",
       "      <th>pixel778</th>\n",
       "      <th>pixel779</th>\n",
       "      <th>pixel780</th>\n",
       "      <th>pixel781</th>\n",
       "      <th>pixel782</th>\n",
       "      <th>pixel783</th>\n",
       "      <th>pixel784</th>\n",
       "    </tr>\n",
       "  </thead>\n",
       "  <tbody>\n",
       "    <tr>\n",
       "      <th>0</th>\n",
       "      <td>2</td>\n",
       "      <td>0</td>\n",
       "      <td>0</td>\n",
       "      <td>0</td>\n",
       "      <td>0</td>\n",
       "      <td>0</td>\n",
       "      <td>0</td>\n",
       "      <td>0</td>\n",
       "      <td>0</td>\n",
       "      <td>0</td>\n",
       "      <td>...</td>\n",
       "      <td>0</td>\n",
       "      <td>0</td>\n",
       "      <td>0</td>\n",
       "      <td>0</td>\n",
       "      <td>0</td>\n",
       "      <td>0</td>\n",
       "      <td>0</td>\n",
       "      <td>0</td>\n",
       "      <td>0</td>\n",
       "      <td>0</td>\n",
       "    </tr>\n",
       "    <tr>\n",
       "      <th>1</th>\n",
       "      <td>9</td>\n",
       "      <td>0</td>\n",
       "      <td>0</td>\n",
       "      <td>0</td>\n",
       "      <td>0</td>\n",
       "      <td>0</td>\n",
       "      <td>0</td>\n",
       "      <td>0</td>\n",
       "      <td>0</td>\n",
       "      <td>0</td>\n",
       "      <td>...</td>\n",
       "      <td>0</td>\n",
       "      <td>0</td>\n",
       "      <td>0</td>\n",
       "      <td>0</td>\n",
       "      <td>0</td>\n",
       "      <td>0</td>\n",
       "      <td>0</td>\n",
       "      <td>0</td>\n",
       "      <td>0</td>\n",
       "      <td>0</td>\n",
       "    </tr>\n",
       "    <tr>\n",
       "      <th>2</th>\n",
       "      <td>6</td>\n",
       "      <td>0</td>\n",
       "      <td>0</td>\n",
       "      <td>0</td>\n",
       "      <td>0</td>\n",
       "      <td>0</td>\n",
       "      <td>0</td>\n",
       "      <td>0</td>\n",
       "      <td>5</td>\n",
       "      <td>0</td>\n",
       "      <td>...</td>\n",
       "      <td>0</td>\n",
       "      <td>0</td>\n",
       "      <td>0</td>\n",
       "      <td>30</td>\n",
       "      <td>43</td>\n",
       "      <td>0</td>\n",
       "      <td>0</td>\n",
       "      <td>0</td>\n",
       "      <td>0</td>\n",
       "      <td>0</td>\n",
       "    </tr>\n",
       "    <tr>\n",
       "      <th>3</th>\n",
       "      <td>0</td>\n",
       "      <td>0</td>\n",
       "      <td>0</td>\n",
       "      <td>0</td>\n",
       "      <td>1</td>\n",
       "      <td>2</td>\n",
       "      <td>0</td>\n",
       "      <td>0</td>\n",
       "      <td>0</td>\n",
       "      <td>0</td>\n",
       "      <td>...</td>\n",
       "      <td>3</td>\n",
       "      <td>0</td>\n",
       "      <td>0</td>\n",
       "      <td>0</td>\n",
       "      <td>0</td>\n",
       "      <td>1</td>\n",
       "      <td>0</td>\n",
       "      <td>0</td>\n",
       "      <td>0</td>\n",
       "      <td>0</td>\n",
       "    </tr>\n",
       "    <tr>\n",
       "      <th>4</th>\n",
       "      <td>3</td>\n",
       "      <td>0</td>\n",
       "      <td>0</td>\n",
       "      <td>0</td>\n",
       "      <td>0</td>\n",
       "      <td>0</td>\n",
       "      <td>0</td>\n",
       "      <td>0</td>\n",
       "      <td>0</td>\n",
       "      <td>0</td>\n",
       "      <td>...</td>\n",
       "      <td>0</td>\n",
       "      <td>0</td>\n",
       "      <td>0</td>\n",
       "      <td>0</td>\n",
       "      <td>0</td>\n",
       "      <td>0</td>\n",
       "      <td>0</td>\n",
       "      <td>0</td>\n",
       "      <td>0</td>\n",
       "      <td>0</td>\n",
       "    </tr>\n",
       "  </tbody>\n",
       "</table>\n",
       "<p>5 rows × 785 columns</p>\n",
       "</div>"
      ],
      "text/plain": [
       "   label  pixel1  pixel2  pixel3  pixel4  pixel5  pixel6  pixel7  pixel8  \\\n",
       "0      2       0       0       0       0       0       0       0       0   \n",
       "1      9       0       0       0       0       0       0       0       0   \n",
       "2      6       0       0       0       0       0       0       0       5   \n",
       "3      0       0       0       0       1       2       0       0       0   \n",
       "4      3       0       0       0       0       0       0       0       0   \n",
       "\n",
       "   pixel9  ...  pixel775  pixel776  pixel777  pixel778  pixel779  pixel780  \\\n",
       "0       0  ...         0         0         0         0         0         0   \n",
       "1       0  ...         0         0         0         0         0         0   \n",
       "2       0  ...         0         0         0        30        43         0   \n",
       "3       0  ...         3         0         0         0         0         1   \n",
       "4       0  ...         0         0         0         0         0         0   \n",
       "\n",
       "   pixel781  pixel782  pixel783  pixel784  \n",
       "0         0         0         0         0  \n",
       "1         0         0         0         0  \n",
       "2         0         0         0         0  \n",
       "3         0         0         0         0  \n",
       "4         0         0         0         0  \n",
       "\n",
       "[5 rows x 785 columns]"
      ]
     },
     "metadata": {},
     "output_type": "display_data"
    },
    {
     "name": "stdout",
     "output_type": "stream",
     "text": [
      "<class 'pandas.core.frame.DataFrame'>\n",
      "RangeIndex: 60000 entries, 0 to 59999\n",
      "Columns: 785 entries, label to pixel784\n",
      "dtypes: int64(785)\n",
      "memory usage: 359.3 MB\n"
     ]
    },
    {
     "data": {
      "text/plain": [
       "None"
      ]
     },
     "metadata": {},
     "output_type": "display_data"
    },
    {
     "name": "stdout",
     "output_type": "stream",
     "text": [
      "Количество дубликатов = 43\n"
     ]
    },
    {
     "data": {
      "image/png": "[encoded data removed]",
      "text/plain": [
       "<Figure size 432x288 with 1 Axes>"
      ]
     },
     "metadata": {
      "needs_background": "light"
     },
     "output_type": "display_data"
    }
   ],
   "source": [
    "# Анализ трениоровочных данных\n",
    "data_info(df_train)"
   ]
  },
  {
   "cell_type": "code",
   "execution_count": 6,
   "id": "6baf186a",
   "metadata": {
    "execution": {
     "iopub.execute_input": "2022-07-16T16:22:03.665029Z",
     "iopub.status.busy": "2022-07-16T16:22:03.664582Z",
     "iopub.status.idle": "2022-07-16T16:22:04.120491Z",
     "shell.execute_reply": "2022-07-16T16:22:04.119191Z"
    },
    "papermill": {
     "duration": 0.466988,
     "end_time": "2022-07-16T16:22:04.122930",
     "exception": false,
     "start_time": "2022-07-16T16:22:03.655942",
     "status": "completed"
    },
    "tags": []
   },
   "outputs": [
    {
     "data": {
      "text/html": [
       "<div>\n",
       "<style scoped>\n",
       "    .dataframe tbody tr th:only-of-type {\n",
       "        vertical-align: middle;\n",
       "    }\n",
       "\n",
       "    .dataframe tbody tr th {\n",
       "        vertical-align: top;\n",
       "    }\n",
       "\n",
       "    .dataframe thead th {\n",
       "        text-align: right;\n",
       "    }\n",
       "</style>\n",
       "<table border=\"1\" class=\"dataframe\">\n",
       "  <thead>\n",
       "    <tr style=\"text-align: right;\">\n",
       "      <th></th>\n",
       "      <th>label</th>\n",
       "      <th>pixel1</th>\n",
       "      <th>pixel2</th>\n",
       "      <th>pixel3</th>\n",
       "      <th>pixel4</th>\n",
       "      <th>pixel5</th>\n",
       "      <th>pixel6</th>\n",
       "      <th>pixel7</th>\n",
       "      <th>pixel8</th>\n",
       "      <th>pixel9</th>\n",
       "      <th>...</th>\n",
       "      <th>pixel775</th>\n",
       "      <th>pixel776</th>\n",
       "      <th>pixel777</th>\n",
       "      <th>pixel778</th>\n",
       "      <th>pixel779</th>\n",
       "      <th>pixel780</th>\n",
       "      <th>pixel781</th>\n",
       "      <th>pixel782</th>\n",
       "      <th>pixel783</th>\n",
       "      <th>pixel784</th>\n",
       "    </tr>\n",
       "  </thead>\n",
       "  <tbody>\n",
       "    <tr>\n",
       "      <th>0</th>\n",
       "      <td>0</td>\n",
       "      <td>0</td>\n",
       "      <td>0</td>\n",
       "      <td>0</td>\n",
       "      <td>0</td>\n",
       "      <td>0</td>\n",
       "      <td>0</td>\n",
       "      <td>0</td>\n",
       "      <td>9</td>\n",
       "      <td>8</td>\n",
       "      <td>...</td>\n",
       "      <td>103</td>\n",
       "      <td>87</td>\n",
       "      <td>56</td>\n",
       "      <td>0</td>\n",
       "      <td>0</td>\n",
       "      <td>0</td>\n",
       "      <td>0</td>\n",
       "      <td>0</td>\n",
       "      <td>0</td>\n",
       "      <td>0</td>\n",
       "    </tr>\n",
       "    <tr>\n",
       "      <th>1</th>\n",
       "      <td>1</td>\n",
       "      <td>0</td>\n",
       "      <td>0</td>\n",
       "      <td>0</td>\n",
       "      <td>0</td>\n",
       "      <td>0</td>\n",
       "      <td>0</td>\n",
       "      <td>0</td>\n",
       "      <td>0</td>\n",
       "      <td>0</td>\n",
       "      <td>...</td>\n",
       "      <td>34</td>\n",
       "      <td>0</td>\n",
       "      <td>0</td>\n",
       "      <td>0</td>\n",
       "      <td>0</td>\n",
       "      <td>0</td>\n",
       "      <td>0</td>\n",
       "      <td>0</td>\n",
       "      <td>0</td>\n",
       "      <td>0</td>\n",
       "    </tr>\n",
       "    <tr>\n",
       "      <th>2</th>\n",
       "      <td>2</td>\n",
       "      <td>0</td>\n",
       "      <td>0</td>\n",
       "      <td>0</td>\n",
       "      <td>0</td>\n",
       "      <td>0</td>\n",
       "      <td>0</td>\n",
       "      <td>14</td>\n",
       "      <td>53</td>\n",
       "      <td>99</td>\n",
       "      <td>...</td>\n",
       "      <td>0</td>\n",
       "      <td>0</td>\n",
       "      <td>0</td>\n",
       "      <td>0</td>\n",
       "      <td>63</td>\n",
       "      <td>53</td>\n",
       "      <td>31</td>\n",
       "      <td>0</td>\n",
       "      <td>0</td>\n",
       "      <td>0</td>\n",
       "    </tr>\n",
       "    <tr>\n",
       "      <th>3</th>\n",
       "      <td>2</td>\n",
       "      <td>0</td>\n",
       "      <td>0</td>\n",
       "      <td>0</td>\n",
       "      <td>0</td>\n",
       "      <td>0</td>\n",
       "      <td>0</td>\n",
       "      <td>0</td>\n",
       "      <td>0</td>\n",
       "      <td>0</td>\n",
       "      <td>...</td>\n",
       "      <td>137</td>\n",
       "      <td>126</td>\n",
       "      <td>140</td>\n",
       "      <td>0</td>\n",
       "      <td>133</td>\n",
       "      <td>224</td>\n",
       "      <td>222</td>\n",
       "      <td>56</td>\n",
       "      <td>0</td>\n",
       "      <td>0</td>\n",
       "    </tr>\n",
       "    <tr>\n",
       "      <th>4</th>\n",
       "      <td>3</td>\n",
       "      <td>0</td>\n",
       "      <td>0</td>\n",
       "      <td>0</td>\n",
       "      <td>0</td>\n",
       "      <td>0</td>\n",
       "      <td>0</td>\n",
       "      <td>0</td>\n",
       "      <td>0</td>\n",
       "      <td>0</td>\n",
       "      <td>...</td>\n",
       "      <td>0</td>\n",
       "      <td>0</td>\n",
       "      <td>0</td>\n",
       "      <td>0</td>\n",
       "      <td>0</td>\n",
       "      <td>0</td>\n",
       "      <td>0</td>\n",
       "      <td>0</td>\n",
       "      <td>0</td>\n",
       "      <td>0</td>\n",
       "    </tr>\n",
       "  </tbody>\n",
       "</table>\n",
       "<p>5 rows × 785 columns</p>\n",
       "</div>"
      ],
      "text/plain": [
       "   label  pixel1  pixel2  pixel3  pixel4  pixel5  pixel6  pixel7  pixel8  \\\n",
       "0      0       0       0       0       0       0       0       0       9   \n",
       "1      1       0       0       0       0       0       0       0       0   \n",
       "2      2       0       0       0       0       0       0      14      53   \n",
       "3      2       0       0       0       0       0       0       0       0   \n",
       "4      3       0       0       0       0       0       0       0       0   \n",
       "\n",
       "   pixel9  ...  pixel775  pixel776  pixel777  pixel778  pixel779  pixel780  \\\n",
       "0       8  ...       103        87        56         0         0         0   \n",
       "1       0  ...        34         0         0         0         0         0   \n",
       "2      99  ...         0         0         0         0        63        53   \n",
       "3       0  ...       137       126       140         0       133       224   \n",
       "4       0  ...         0         0         0         0         0         0   \n",
       "\n",
       "   pixel781  pixel782  pixel783  pixel784  \n",
       "0         0         0         0         0  \n",
       "1         0         0         0         0  \n",
       "2        31         0         0         0  \n",
       "3       222        56         0         0  \n",
       "4         0         0         0         0  \n",
       "\n",
       "[5 rows x 785 columns]"
      ]
     },
     "metadata": {},
     "output_type": "display_data"
    },
    {
     "name": "stdout",
     "output_type": "stream",
     "text": [
      "<class 'pandas.core.frame.DataFrame'>\n",
      "RangeIndex: 10000 entries, 0 to 9999\n",
      "Columns: 785 entries, label to pixel784\n",
      "dtypes: int64(785)\n",
      "memory usage: 59.9 MB\n"
     ]
    },
    {
     "data": {
      "text/plain": [
       "None"
      ]
     },
     "metadata": {},
     "output_type": "display_data"
    },
    {
     "name": "stdout",
     "output_type": "stream",
     "text": [
      "Количество дубликатов = 1\n"
     ]
    },
    {
     "data": {
      "image/png": "[encoded data removed]",
      "text/plain": [
       "<Figure size 432x288 with 1 Axes>"
      ]
     },
     "metadata": {
      "needs_background": "light"
     },
     "output_type": "display_data"
    }
   ],
   "source": [
    "# Анализ тестовых данных\n",
    "data_info(df_test)"
   ]
  },
  {
   "cell_type": "code",
   "execution_count": 7,
   "id": "bebefa08",
   "metadata": {
    "execution": {
     "iopub.execute_input": "2022-07-16T16:22:04.141476Z",
     "iopub.status.busy": "2022-07-16T16:22:04.140361Z",
     "iopub.status.idle": "2022-07-16T16:22:04.146616Z",
     "shell.execute_reply": "2022-07-16T16:22:04.145353Z"
    },
    "papermill": {
     "duration": 0.017862,
     "end_time": "2022-07-16T16:22:04.148817",
     "exception": false,
     "start_time": "2022-07-16T16:22:04.130955",
     "status": "completed"
    },
    "tags": []
   },
   "outputs": [],
   "source": [
    "# Надвания классов вещей\n",
    "class_names = ['T-shirt/top', 'Trouser', 'Pullover', 'Dress', 'Coat', \n",
    "               'Sandal', 'Shirt', 'Sneaker', 'Bag', 'Ankle boot']"
   ]
  },
  {
   "cell_type": "code",
   "execution_count": 8,
   "id": "8f680fdd",
   "metadata": {
    "execution": {
     "iopub.execute_input": "2022-07-16T16:22:04.167046Z",
     "iopub.status.busy": "2022-07-16T16:22:04.166351Z",
     "iopub.status.idle": "2022-07-16T16:22:05.097239Z",
     "shell.execute_reply": "2022-07-16T16:22:05.095902Z"
    },
    "papermill": {
     "duration": 0.943177,
     "end_time": "2022-07-16T16:22:05.100011",
     "exception": false,
     "start_time": "2022-07-16T16:22:04.156834",
     "status": "completed"
    },
    "tags": []
   },
   "outputs": [
    {
     "data": {
      "image/png": "[encoded data removed]",
      "text/plain": [
       "<Figure size 1440x504 with 10 Axes>"
      ]
     },
     "metadata": {
      "needs_background": "light"
     },
     "output_type": "display_data"
    }
   ],
   "source": [
    "# Выделим по одному изображению каждого класса\n",
    "one_category = df_train.groupby('label').head(1)\n",
    "one_category = one_category.set_index('label')\n",
    "\n",
    "# Вывод на экран изображений\n",
    "fig, axes = plt.subplots(nrows=1, ncols=10, figsize=(20,7))\n",
    "\n",
    "n = 0\n",
    "for ax in axes.flat:\n",
    "    ax.set(title=(class_names[n]))\n",
    "    image = one_category.loc[n,:].values.reshape(28, 28, 1)\n",
    "    ax.imshow(image, cmap=plt.cm.binary)\n",
    "    n += 1\n",
    "plt.show()"
   ]
  },
  {
   "cell_type": "markdown",
   "id": "dba038b6",
   "metadata": {
    "papermill": {
     "duration": 0.00864,
     "end_time": "2022-07-16T16:22:05.117574",
     "exception": false,
     "start_time": "2022-07-16T16:22:05.108934",
     "status": "completed"
    },
    "tags": []
   },
   "source": [
    "**Вывод**\n",
    "\n",
    "1. Набор данных содержит 60000 изображений в тренировочном наборе и 10000 изображений в тестовом наборе данных. Такого количества должно быть достаточно для обучения модели.\n",
    "2. Вещи предствалены 10 классов, причём их количество по классам одинаково. Таким образом, дизбаланса классов не наблюдается.\n",
    "3. Изображеняи имеют размер 28Х28 пиксклей и один канал цвета. В датасети они представлены в виде списка, поэтому на этапе предобработки, их необходимо привести в двумерный вид.\n",
    "4. Изображения предобработаны, и не требуют дальнейшего преобразования.\n",
    "5. В тренировочном наборе данных присутствует 43 дубликата. В целом, такое небольшое количество повторяющехся изображений не должно сильно сказаться на качестве обучения модели, думаю лучше будет от них избавится.\n"
   ]
  },
  {
   "cell_type": "markdown",
   "id": "5a846f95",
   "metadata": {
    "papermill": {
     "duration": 0.008133,
     "end_time": "2022-07-16T16:22:05.134244",
     "exception": false,
     "start_time": "2022-07-16T16:22:05.126111",
     "status": "completed"
    },
    "tags": []
   },
   "source": [
    "## Подготовка данных и обучение модели"
   ]
  },
  {
   "cell_type": "markdown",
   "id": "79aace22",
   "metadata": {
    "papermill": {
     "duration": 0.008299,
     "end_time": "2022-07-16T16:22:05.150955",
     "exception": false,
     "start_time": "2022-07-16T16:22:05.142656",
     "status": "completed"
    },
    "tags": []
   },
   "source": [
    "1. Избавимся от дубликатов.\n",
    "2. Создадим функции `load_train` и `load_test` по подготовке данных тренировочного и тестового набора данных. В них произведём преобразование данных из одномерного списка в двумерное изображение и нормализуем их.\n",
    "3. Создадим функцию `create_model_LeNet`, которая будет создавать и компилировать модель. Применим нейросетевую модель с архитектурой LeNet. Оптимизатор и его параметры выберем опытным путём.\n",
    "4. Создадим функцию `train_model`, которая будет отвечать за обучение модели.\n",
    "5. Обучим модель."
   ]
  },
  {
   "cell_type": "code",
   "execution_count": 9,
   "id": "b87864e5",
   "metadata": {
    "execution": {
     "iopub.execute_input": "2022-07-16T16:22:05.169596Z",
     "iopub.status.busy": "2022-07-16T16:22:05.169203Z",
     "iopub.status.idle": "2022-07-16T16:22:06.330592Z",
     "shell.execute_reply": "2022-07-16T16:22:06.329459Z"
    },
    "papermill": {
     "duration": 1.173919,
     "end_time": "2022-07-16T16:22:06.333316",
     "exception": false,
     "start_time": "2022-07-16T16:22:05.159397",
     "status": "completed"
    },
    "tags": []
   },
   "outputs": [],
   "source": [
    "# Удалим дубликаты\n",
    "df_train = df_train.drop_duplicates()"
   ]
  },
  {
   "cell_type": "code",
   "execution_count": 10,
   "id": "7afa6ffe",
   "metadata": {
    "execution": {
     "iopub.execute_input": "2022-07-16T16:22:06.352520Z",
     "iopub.status.busy": "2022-07-16T16:22:06.351943Z",
     "iopub.status.idle": "2022-07-16T16:22:06.358563Z",
     "shell.execute_reply": "2022-07-16T16:22:06.357323Z"
    },
    "papermill": {
     "duration": 0.018908,
     "end_time": "2022-07-16T16:22:06.360797",
     "exception": false,
     "start_time": "2022-07-16T16:22:06.341889",
     "status": "completed"
    },
    "tags": []
   },
   "outputs": [],
   "source": [
    "def load_train(df_train):\n",
    "    \"\"\" Принимаем датафрейм с тренировочными данными.\n",
    "        Возвращаем преобразованные и нормализованные признаки и целевой признак\n",
    "    \"\"\"\n",
    "    features_train = df_train.drop('label', axis=1).values\n",
    "    target_train = df_train['label']\n",
    "    features_train = features_train.reshape(-1, 28, 28, 1) / 255.0\n",
    "    return features_train, target_train"
   ]
  },
  {
   "cell_type": "code",
   "execution_count": 11,
   "id": "1f7be580",
   "metadata": {
    "execution": {
     "iopub.execute_input": "2022-07-16T16:22:06.380817Z",
     "iopub.status.busy": "2022-07-16T16:22:06.380266Z",
     "iopub.status.idle": "2022-07-16T16:22:06.385482Z",
     "shell.execute_reply": "2022-07-16T16:22:06.384723Z"
    },
    "papermill": {
     "duration": 0.017225,
     "end_time": "2022-07-16T16:22:06.387520",
     "exception": false,
     "start_time": "2022-07-16T16:22:06.370295",
     "status": "completed"
    },
    "tags": []
   },
   "outputs": [],
   "source": [
    "def load_test(df_test):\n",
    "    \"\"\" Принимаем датафрейм с тестовыми данными.\n",
    "        Возвращаем преобразованные и нормализованные признаки и целевой признак\n",
    "    \"\"\"\n",
    "    features_test = df_test.drop('label', axis=1).values\n",
    "    target_test = df_test['label']\n",
    "    features_test = features_test.reshape(-1, 28, 28, 1) / 255.0\n",
    "    return features_test, target_test"
   ]
  },
  {
   "cell_type": "code",
   "execution_count": 12,
   "id": "cb99edf8",
   "metadata": {
    "execution": {
     "iopub.execute_input": "2022-07-16T16:22:06.406804Z",
     "iopub.status.busy": "2022-07-16T16:22:06.406076Z",
     "iopub.status.idle": "2022-07-16T16:22:06.424472Z",
     "shell.execute_reply": "2022-07-16T16:22:06.423628Z"
    },
    "papermill": {
     "duration": 0.03078,
     "end_time": "2022-07-16T16:22:06.426760",
     "exception": false,
     "start_time": "2022-07-16T16:22:06.395980",
     "status": "completed"
    },
    "tags": []
   },
   "outputs": [],
   "source": [
    "def create_model(input_shape, optimizer=Adam(learning_rate=0.001)):\n",
    "    \"\"\" Принимаем размер входных данных и оптимизатор.\n",
    "        Возвращаем созданную модель\n",
    "    \"\"\"\n",
    "    model = Sequential()\n",
    "    model.add(Conv2D(kernel_size=(5, 5), filters=6, padding='same', activation='relu', input_shape=input_shape))\n",
    "    model.add(AvgPool2D(pool_size=(2, 2)))\n",
    "    model.add(Conv2D(kernel_size=(5, 5), filters=16, padding='valid', activation='relu', strides=1))\n",
    "    model.add(AvgPool2D(pool_size=(2, 2)))\n",
    "    model.add(Flatten())\n",
    "    model.add(Dense(units=120, activation='relu'))\n",
    "    model.add(Dense(units=84, activation='relu'))\n",
    "    model.add(Dense(units=10, activation='softmax'))\n",
    "   \n",
    "    model.compile(optimizer=optimizer, loss='sparse_categorical_crossentropy',\n",
    "                  metrics=['acc'])\n",
    "    model.summary()\n",
    "    \n",
    "    return model\n"
   ]
  },
  {
   "cell_type": "code",
   "execution_count": 13,
   "id": "1b2da249",
   "metadata": {
    "execution": {
     "iopub.execute_input": "2022-07-16T16:22:06.446145Z",
     "iopub.status.busy": "2022-07-16T16:22:06.445431Z",
     "iopub.status.idle": "2022-07-16T16:22:06.451991Z",
     "shell.execute_reply": "2022-07-16T16:22:06.451171Z"
    },
    "papermill": {
     "duration": 0.019102,
     "end_time": "2022-07-16T16:22:06.454379",
     "exception": false,
     "start_time": "2022-07-16T16:22:06.435277",
     "status": "completed"
    },
    "tags": []
   },
   "outputs": [],
   "source": [
    "def train_model(model, train_data, test_data, batch_size=32, epochs=10,\n",
    "               steps_per_epoch=None, validation_steps=None):\n",
    "    \"\"\" Принимаем модель, данные и параметры.\n",
    "        Возвращаем обученную модель\n",
    "    \"\"\"\n",
    "    features_train, target_train = train_data\n",
    "    features_test, target_test = test_data\n",
    "    model.fit(features_train, target_train, \n",
    "              validation_data=(features_test, target_test),\n",
    "              batch_size=batch_size, epochs=epochs,\n",
    "              steps_per_epoch=steps_per_epoch,\n",
    "              validation_steps=validation_steps,\n",
    "              verbose=2, shuffle=True)\n",
    "\n",
    "    return model"
   ]
  },
  {
   "cell_type": "code",
   "execution_count": 14,
   "id": "8370a37e",
   "metadata": {
    "execution": {
     "iopub.execute_input": "2022-07-16T16:22:06.474472Z",
     "iopub.status.busy": "2022-07-16T16:22:06.473553Z",
     "iopub.status.idle": "2022-07-16T16:23:30.045792Z",
     "shell.execute_reply": "2022-07-16T16:23:30.044308Z"
    },
    "papermill": {
     "duration": 83.586344,
     "end_time": "2022-07-16T16:23:30.049285",
     "exception": false,
     "start_time": "2022-07-16T16:22:06.462941",
     "status": "completed"
    },
    "tags": []
   },
   "outputs": [
    {
     "name": "stderr",
     "output_type": "stream",
     "text": [
      "2022-07-16 16:22:06.519077: I tensorflow/core/common_runtime/process_util.cc:146] Creating new thread pool with default inter op setting: 2. Tune using inter_op_parallelism_threads for best performance.\n"
     ]
    },
    {
     "name": "stdout",
     "output_type": "stream",
     "text": [
      "Model: \"sequential\"\n",
      "_________________________________________________________________\n",
      "Layer (type)                 Output Shape              Param #   \n",
      "=================================================================\n",
      "conv2d (Conv2D)              (None, 28, 28, 6)         156       \n",
      "_________________________________________________________________\n",
      "average_pooling2d (AveragePo (None, 14, 14, 6)         0         \n",
      "_________________________________________________________________\n",
      "conv2d_1 (Conv2D)            (None, 10, 10, 16)        2416      \n",
      "_________________________________________________________________\n",
      "average_pooling2d_1 (Average (None, 5, 5, 16)          0         \n",
      "_________________________________________________________________\n",
      "flatten (Flatten)            (None, 400)               0         \n",
      "_________________________________________________________________\n",
      "dense (Dense)                (None, 120)               48120     \n",
      "_________________________________________________________________\n",
      "dense_1 (Dense)              (None, 84)                10164     \n",
      "_________________________________________________________________\n",
      "dense_2 (Dense)              (None, 10)                850       \n",
      "=================================================================\n",
      "Total params: 61,706\n",
      "Trainable params: 61,706\n",
      "Non-trainable params: 0\n",
      "_________________________________________________________________\n"
     ]
    },
    {
     "name": "stderr",
     "output_type": "stream",
     "text": [
      "2022-07-16 16:22:07.476465: I tensorflow/compiler/mlir/mlir_graph_optimization_pass.cc:185] None of the MLIR Optimization Passes are enabled (registered 2)\n"
     ]
    },
    {
     "name": "stdout",
     "output_type": "stream",
     "text": [
      "Epoch 1/10\n",
      "937/937 - 8s - loss: 0.5360 - acc: 0.8023 - val_loss: 0.3999 - val_acc: 0.8502\n",
      "Epoch 2/10\n",
      "937/937 - 7s - loss: 0.3719 - acc: 0.8649 - val_loss: 0.3339 - val_acc: 0.8742\n",
      "Epoch 3/10\n",
      "937/937 - 8s - loss: 0.3222 - acc: 0.8814 - val_loss: 0.3004 - val_acc: 0.8867\n",
      "Epoch 4/10\n",
      "937/937 - 8s - loss: 0.2898 - acc: 0.8936 - val_loss: 0.3102 - val_acc: 0.8829\n",
      "Epoch 5/10\n",
      "937/937 - 7s - loss: 0.2672 - acc: 0.9012 - val_loss: 0.2759 - val_acc: 0.8954\n",
      "Epoch 6/10\n",
      "937/937 - 7s - loss: 0.2500 - acc: 0.9070 - val_loss: 0.2715 - val_acc: 0.8972\n",
      "Epoch 7/10\n",
      "937/937 - 7s - loss: 0.2352 - acc: 0.9128 - val_loss: 0.2513 - val_acc: 0.9094\n",
      "Epoch 8/10\n",
      "937/937 - 7s - loss: 0.2231 - acc: 0.9172 - val_loss: 0.2551 - val_acc: 0.9057\n",
      "Epoch 9/10\n",
      "937/937 - 8s - loss: 0.2091 - acc: 0.9218 - val_loss: 0.2624 - val_acc: 0.9050\n",
      "Epoch 10/10\n",
      "937/937 - 7s - loss: 0.1987 - acc: 0.9259 - val_loss: 0.2463 - val_acc: 0.9100\n"
     ]
    }
   ],
   "source": [
    "# Обучение модели\n",
    "model = train_model(create_model((28, 28, 1), optimizer=Adamax(learning_rate=0.007)), \n",
    "                    load_train(df_train),\n",
    "                    load_test(df_test),\n",
    "                    batch_size=64,\n",
    "                    epochs=10,\n",
    "                   )"
   ]
  },
  {
   "cell_type": "code",
   "execution_count": 15,
   "id": "630b301d",
   "metadata": {
    "execution": {
     "iopub.execute_input": "2022-07-16T16:23:30.073674Z",
     "iopub.status.busy": "2022-07-16T16:23:30.072684Z",
     "iopub.status.idle": "2022-07-16T16:23:30.438759Z",
     "shell.execute_reply": "2022-07-16T16:23:30.437533Z"
    },
    "papermill": {
     "duration": 0.381385,
     "end_time": "2022-07-16T16:23:30.441320",
     "exception": false,
     "start_time": "2022-07-16T16:23:30.059935",
     "status": "completed"
    },
    "tags": []
   },
   "outputs": [
    {
     "data": {
      "image/png": "[encoded data removed]",
      "text/plain": [
       "<Figure size 1080x360 with 2 Axes>"
      ]
     },
     "metadata": {
      "needs_background": "light"
     },
     "output_type": "display_data"
    }
   ],
   "source": [
    "# Визуализация процесса обучения модели\n",
    "fig = plt.figure(figsize=(15,5))\n",
    "\n",
    "ax_1 = fig.add_subplot(1, 2, 1)\n",
    "ax_1.set_title('Accuracy', fontsize=16)\n",
    "ax_1.set_xlabel('Epoch Number', fontsize=14)\n",
    "ax_1.set_ylabel('accuracy', fontsize=14)\n",
    "ax_1 = plt.plot(model.history.history['acc'], label='training set')\n",
    "ax_1 = plt.plot(model.history.history['val_acc'], label='testing set')\n",
    "plt.legend();\n",
    "\n",
    "# \n",
    "ax_2 = fig.add_subplot(1, 2, 2)\n",
    "ax_2.set_title('Loos function', fontsize=16)\n",
    "ax_2.set_xlabel('Epoch Number', fontsize=14)\n",
    "ax_2.set_ylabel('sparse_categorical_crossentropy', fontsize=14)\n",
    "ax_2 = plt.plot(model.history.history['loss'], label='training set')\n",
    "ax_2 = plt.plot(model.history.history['val_loss'], label='testing set')\n",
    "\n",
    "\n",
    "plt.legend();"
   ]
  },
  {
   "cell_type": "markdown",
   "id": "c5e76f9f",
   "metadata": {
    "papermill": {
     "duration": 0.011682,
     "end_time": "2022-07-16T16:23:30.465228",
     "exception": false,
     "start_time": "2022-07-16T16:23:30.453546",
     "status": "completed"
    },
    "tags": []
   },
   "source": [
    "**Вывод**\n",
    "\n",
    "Была поставлена задача классификации предметов гардероба по изображению.\n",
    "\n",
    "Анализ данных выявил, что больших проблем, влияющих на возможность построения модели в наборе данных нет. Были удалены дубликаты, данные были приведены к двумерному виду и нормализованы.\n",
    "\n",
    "Затем была создана модель на основе нейросетевой архитектуры LeNet, отличающейся от оригинальной тем, что активаторы были заменены на 'relu'. \n",
    "\n",
    "Модель показала точность классификации = 0.91."
   ]
  },
  {
   "cell_type": "code",
   "execution_count": null,
   "id": "929aeeb2",
   "metadata": {
    "papermill": {
     "duration": 0.010596,
     "end_time": "2022-07-16T16:23:30.486823",
     "exception": false,
     "start_time": "2022-07-16T16:23:30.476227",
     "status": "completed"
    },
    "tags": []
   },
   "outputs": [],
   "source": []
  }
 ],
 "metadata": {
  "kernelspec": {
   "display_name": "Python 3",
   "language": "python",
   "name": "python3"
  },
  "language_info": {
   "codemirror_mode": {
    "name": "ipython",
    "version": 3
   },
   "file_extension": ".py",
   "mimetype": "text/x-python",
   "name": "python",
   "nbconvert_exporter": "python",
   "pygments_lexer": "ipython3",
   "version": "3.7.12"
  },
  "papermill": {
   "default_parameters": {},
   "duration": 119.716602,
   "end_time": "2022-07-16T16:23:33.699353",
   "environment_variables": {},
   "exception": null,
   "input_path": "__notebook__.ipynb",
   "output_path": "__notebook__.ipynb",
   "parameters": {},
   "start_time": "2022-07-16T16:21:33.982751",
   "version": "2.3.4"
  }
 },
 "nbformat": 4,
 "nbformat_minor": 5
}
